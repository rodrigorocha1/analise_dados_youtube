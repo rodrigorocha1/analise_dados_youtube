{
 "cells": [
  {
   "cell_type": "code",
   "execution_count": 17,
   "metadata": {},
   "outputs": [],
   "source": [
    "import pandas as pd\n",
    "import pickle "
   ]
  },
  {
   "cell_type": "markdown",
   "metadata": {},
   "source": [
    "# Depara Asunto Canal\n"
   ]
  },
  {
   "cell_type": "code",
   "execution_count": 18,
   "metadata": {},
   "outputs": [],
   "source": [
    "base_assunto_canal = pd.read_parquet('../dados/ouro/dados_tratado_estatisticas_gerais.parquet')"
   ]
  },
  {
   "cell_type": "code",
   "execution_count": 35,
   "metadata": {},
   "outputs": [],
   "source": [
    "lista_assuntos = [\n",
    "    'assunto_cities_skylines',\n",
    "    'assunto_linux',\n",
    "    'assunto_power_bi',\n",
    "    'assunto_python_and_dados',\n",
    "    'assunto_cities_skylines_2',\n",
    "    'assunto_linux_gamming',\n",
    "    'assunto_genshin_impact',\n",
    "    'assunto_zelda'\n",
    "]"
   ]
  },
  {
   "cell_type": "code",
   "execution_count": 19,
   "metadata": {},
   "outputs": [
    {
     "data": {
      "text/plain": [
       "Index(['ASSUNTO', 'data_extracao', 'DATA_PUBLICACAO', 'ID_CANAL', 'NM_CANAL',\n",
       "       'ID_CATEGORIA', 'ID_VIDEO', 'TITULO_VIDEO', 'DESCRICAO', 'TAGS',\n",
       "       'DURACAO_VIDEOS', 'TOTAL_VISUALIZACOES', 'TOTAL_LIKES',\n",
       "       'TOTAL_FAVORITOS', 'TOTAL_COMENTARIOS', 'data_hora_extracao',\n",
       "       'DURACAO_VIDEO_MINUTOS', 'TOTAL_CARACTERE_VIDEO', 'TOTAL_TAGS',\n",
       "       'HORA_EXTRACAO', 'TURNO_EXTRACAO', 'INDICE_TURNO_EXTRACAO'],\n",
       "      dtype='object')"
      ]
     },
     "execution_count": 19,
     "metadata": {},
     "output_type": "execute_result"
    }
   ],
   "source": [
    "base_assunto_canal.columns"
   ]
  },
  {
   "cell_type": "code",
   "execution_count": 20,
   "metadata": {},
   "outputs": [
    {
     "data": {
      "text/html": [
       "<div>\n",
       "<style scoped>\n",
       "    .dataframe tbody tr th:only-of-type {\n",
       "        vertical-align: middle;\n",
       "    }\n",
       "\n",
       "    .dataframe tbody tr th {\n",
       "        vertical-align: top;\n",
       "    }\n",
       "\n",
       "    .dataframe thead th {\n",
       "        text-align: right;\n",
       "    }\n",
       "</style>\n",
       "<table border=\"1\" class=\"dataframe\">\n",
       "  <thead>\n",
       "    <tr style=\"text-align: right;\">\n",
       "      <th></th>\n",
       "      <th>ASSUNTO</th>\n",
       "      <th>ID_CANAL</th>\n",
       "      <th>NM_CANAL</th>\n",
       "    </tr>\n",
       "  </thead>\n",
       "  <tbody>\n",
       "    <tr>\n",
       "      <th>0</th>\n",
       "      <td>assunto_python_and_dados</td>\n",
       "      <td>UCMqGy4xIIGs01ZVcBv0B8Cw</td>\n",
       "      <td>Usando Python</td>\n",
       "    </tr>\n",
       "    <tr>\n",
       "      <th>1</th>\n",
       "      <td>assunto_python_and_dados</td>\n",
       "      <td>UC70kawNmZCDeZDZBbeiolHA</td>\n",
       "      <td>Wesley Roberto | Data Analytics</td>\n",
       "    </tr>\n",
       "    <tr>\n",
       "      <th>2</th>\n",
       "      <td>assunto_python_and_dados</td>\n",
       "      <td>UCiYrw6iAqlYXvP7no7h4tUQ</td>\n",
       "      <td>Rodolfo De Nadai</td>\n",
       "    </tr>\n",
       "    <tr>\n",
       "      <th>3</th>\n",
       "      <td>assunto_python_and_dados</td>\n",
       "      <td>UCNblNh-u0nu5mtXT84Wgdiw</td>\n",
       "      <td>Mestres da Informática</td>\n",
       "    </tr>\n",
       "    <tr>\n",
       "      <th>4</th>\n",
       "      <td>assunto_python_and_dados</td>\n",
       "      <td>UCU5vSFBBO_cp6ie0OG74b2g</td>\n",
       "      <td>Refatorando</td>\n",
       "    </tr>\n",
       "    <tr>\n",
       "      <th>...</th>\n",
       "      <td>...</td>\n",
       "      <td>...</td>\n",
       "      <td>...</td>\n",
       "    </tr>\n",
       "    <tr>\n",
       "      <th>12063</th>\n",
       "      <td>assunto_cities_skylines_2</td>\n",
       "      <td>UCGved3ynk6ZhUvSKxzgweTw</td>\n",
       "      <td>Jogando</td>\n",
       "    </tr>\n",
       "    <tr>\n",
       "      <th>12064</th>\n",
       "      <td>assunto_cities_skylines_2</td>\n",
       "      <td>UCdrd9d0-1p8sgXOvJDc-naA</td>\n",
       "      <td>FLAVIOSUICO GAMES</td>\n",
       "    </tr>\n",
       "    <tr>\n",
       "      <th>12065</th>\n",
       "      <td>assunto_cities_skylines_2</td>\n",
       "      <td>UCDqzBrUOm7guqqyU8eDackg</td>\n",
       "      <td>BUG CITIES</td>\n",
       "    </tr>\n",
       "    <tr>\n",
       "      <th>12066</th>\n",
       "      <td>assunto_cities_skylines_2</td>\n",
       "      <td>UCDqzBrUOm7guqqyU8eDackg</td>\n",
       "      <td>BUG CITIES</td>\n",
       "    </tr>\n",
       "    <tr>\n",
       "      <th>12067</th>\n",
       "      <td>assunto_cities_skylines_2</td>\n",
       "      <td>UCDqzBrUOm7guqqyU8eDackg</td>\n",
       "      <td>BUG CITIES</td>\n",
       "    </tr>\n",
       "  </tbody>\n",
       "</table>\n",
       "<p>12068 rows × 3 columns</p>\n",
       "</div>"
      ],
      "text/plain": [
       "                         ASSUNTO                  ID_CANAL  \\\n",
       "0       assunto_python_and_dados  UCMqGy4xIIGs01ZVcBv0B8Cw   \n",
       "1       assunto_python_and_dados  UC70kawNmZCDeZDZBbeiolHA   \n",
       "2       assunto_python_and_dados  UCiYrw6iAqlYXvP7no7h4tUQ   \n",
       "3       assunto_python_and_dados  UCNblNh-u0nu5mtXT84Wgdiw   \n",
       "4       assunto_python_and_dados  UCU5vSFBBO_cp6ie0OG74b2g   \n",
       "...                          ...                       ...   \n",
       "12063  assunto_cities_skylines_2  UCGved3ynk6ZhUvSKxzgweTw   \n",
       "12064  assunto_cities_skylines_2  UCdrd9d0-1p8sgXOvJDc-naA   \n",
       "12065  assunto_cities_skylines_2  UCDqzBrUOm7guqqyU8eDackg   \n",
       "12066  assunto_cities_skylines_2  UCDqzBrUOm7guqqyU8eDackg   \n",
       "12067  assunto_cities_skylines_2  UCDqzBrUOm7guqqyU8eDackg   \n",
       "\n",
       "                              NM_CANAL  \n",
       "0                        Usando Python  \n",
       "1      Wesley Roberto | Data Analytics  \n",
       "2                     Rodolfo De Nadai  \n",
       "3               Mestres da Informática  \n",
       "4                          Refatorando  \n",
       "...                                ...  \n",
       "12063                          Jogando  \n",
       "12064                FLAVIOSUICO GAMES  \n",
       "12065                       BUG CITIES  \n",
       "12066                       BUG CITIES  \n",
       "12067                       BUG CITIES  \n",
       "\n",
       "[12068 rows x 3 columns]"
      ]
     },
     "execution_count": 20,
     "metadata": {},
     "output_type": "execute_result"
    }
   ],
   "source": [
    "base_assunto_canal = base_assunto_canal[['ASSUNTO', 'ID_CANAL', 'NM_CANAL']]\n",
    "base_assunto_canal"
   ]
  },
  {
   "cell_type": "code",
   "execution_count": 23,
   "metadata": {},
   "outputs": [],
   "source": [
    "base_assunto_canal.drop_duplicates(inplace=True)"
   ]
  },
  {
   "cell_type": "code",
   "execution_count": 25,
   "metadata": {},
   "outputs": [
    {
     "data": {
      "text/html": [
       "<div>\n",
       "<style scoped>\n",
       "    .dataframe tbody tr th:only-of-type {\n",
       "        vertical-align: middle;\n",
       "    }\n",
       "\n",
       "    .dataframe tbody tr th {\n",
       "        vertical-align: top;\n",
       "    }\n",
       "\n",
       "    .dataframe thead th {\n",
       "        text-align: right;\n",
       "    }\n",
       "</style>\n",
       "<table border=\"1\" class=\"dataframe\">\n",
       "  <thead>\n",
       "    <tr style=\"text-align: right;\">\n",
       "      <th></th>\n",
       "      <th>ASSUNTO</th>\n",
       "      <th>ID_CANAL</th>\n",
       "      <th>NM_CANAL</th>\n",
       "    </tr>\n",
       "  </thead>\n",
       "  <tbody>\n",
       "    <tr>\n",
       "      <th>0</th>\n",
       "      <td>assunto_python_and_dados</td>\n",
       "      <td>UCMqGy4xIIGs01ZVcBv0B8Cw</td>\n",
       "      <td>Usando Python</td>\n",
       "    </tr>\n",
       "    <tr>\n",
       "      <th>1</th>\n",
       "      <td>assunto_python_and_dados</td>\n",
       "      <td>UC70kawNmZCDeZDZBbeiolHA</td>\n",
       "      <td>Wesley Roberto | Data Analytics</td>\n",
       "    </tr>\n",
       "    <tr>\n",
       "      <th>2</th>\n",
       "      <td>assunto_python_and_dados</td>\n",
       "      <td>UCiYrw6iAqlYXvP7no7h4tUQ</td>\n",
       "      <td>Rodolfo De Nadai</td>\n",
       "    </tr>\n",
       "    <tr>\n",
       "      <th>3</th>\n",
       "      <td>assunto_python_and_dados</td>\n",
       "      <td>UCNblNh-u0nu5mtXT84Wgdiw</td>\n",
       "      <td>Mestres da Informática</td>\n",
       "    </tr>\n",
       "    <tr>\n",
       "      <th>4</th>\n",
       "      <td>assunto_python_and_dados</td>\n",
       "      <td>UCU5vSFBBO_cp6ie0OG74b2g</td>\n",
       "      <td>Refatorando</td>\n",
       "    </tr>\n",
       "    <tr>\n",
       "      <th>...</th>\n",
       "      <td>...</td>\n",
       "      <td>...</td>\n",
       "      <td>...</td>\n",
       "    </tr>\n",
       "    <tr>\n",
       "      <th>404</th>\n",
       "      <td>assunto_python_and_dados</td>\n",
       "      <td>UC9dNuPK_qFTIwf-7BinjJRQ</td>\n",
       "      <td>Eu programador</td>\n",
       "    </tr>\n",
       "    <tr>\n",
       "      <th>406</th>\n",
       "      <td>assunto_python_and_dados</td>\n",
       "      <td>UC_8CzrTagsQ_1vopXVprfcQ</td>\n",
       "      <td>Grupo Utah Consultoria e Treinamento</td>\n",
       "    </tr>\n",
       "    <tr>\n",
       "      <th>407</th>\n",
       "      <td>assunto_python_and_dados</td>\n",
       "      <td>UC_JJ-7ZAuSbwXNUvo8rpFbA</td>\n",
       "      <td>Python Floripa</td>\n",
       "    </tr>\n",
       "    <tr>\n",
       "      <th>1477</th>\n",
       "      <td>assunto_python_and_dados</td>\n",
       "      <td>UCOPzPs8IgeouPtB2dUjpBcA</td>\n",
       "      <td>Franklin-projetos</td>\n",
       "    </tr>\n",
       "    <tr>\n",
       "      <th>4201</th>\n",
       "      <td>assunto_python_and_dados</td>\n",
       "      <td>UCW7i1eD6-PVfHsBIfsGOkXA</td>\n",
       "      <td>Lucas Siqueira Dev</td>\n",
       "    </tr>\n",
       "  </tbody>\n",
       "</table>\n",
       "<p>95 rows × 3 columns</p>\n",
       "</div>"
      ],
      "text/plain": [
       "                       ASSUNTO                  ID_CANAL  \\\n",
       "0     assunto_python_and_dados  UCMqGy4xIIGs01ZVcBv0B8Cw   \n",
       "1     assunto_python_and_dados  UC70kawNmZCDeZDZBbeiolHA   \n",
       "2     assunto_python_and_dados  UCiYrw6iAqlYXvP7no7h4tUQ   \n",
       "3     assunto_python_and_dados  UCNblNh-u0nu5mtXT84Wgdiw   \n",
       "4     assunto_python_and_dados  UCU5vSFBBO_cp6ie0OG74b2g   \n",
       "...                        ...                       ...   \n",
       "404   assunto_python_and_dados  UC9dNuPK_qFTIwf-7BinjJRQ   \n",
       "406   assunto_python_and_dados  UC_8CzrTagsQ_1vopXVprfcQ   \n",
       "407   assunto_python_and_dados  UC_JJ-7ZAuSbwXNUvo8rpFbA   \n",
       "1477  assunto_python_and_dados  UCOPzPs8IgeouPtB2dUjpBcA   \n",
       "4201  assunto_python_and_dados  UCW7i1eD6-PVfHsBIfsGOkXA   \n",
       "\n",
       "                                  NM_CANAL  \n",
       "0                            Usando Python  \n",
       "1          Wesley Roberto | Data Analytics  \n",
       "2                         Rodolfo De Nadai  \n",
       "3                   Mestres da Informática  \n",
       "4                              Refatorando  \n",
       "...                                    ...  \n",
       "404                         Eu programador  \n",
       "406   Grupo Utah Consultoria e Treinamento  \n",
       "407                         Python Floripa  \n",
       "1477                     Franklin-projetos  \n",
       "4201                    Lucas Siqueira Dev  \n",
       "\n",
       "[95 rows x 3 columns]"
      ]
     },
     "execution_count": 25,
     "metadata": {},
     "output_type": "execute_result"
    }
   ],
   "source": [
    "base_assunto_canal.query('ASSUNTO == \"assunto_python_and_dados\"')"
   ]
  },
  {
   "cell_type": "code",
   "execution_count": 52,
   "metadata": {},
   "outputs": [
    {
     "name": "stdout",
     "output_type": "stream",
     "text": [
      "assunto_cities_skylines\n",
      "assunto_linux\n",
      "assunto_power_bi\n",
      "assunto_python_and_dados\n",
      "assunto_cities_skylines_2\n",
      "assunto_linux_gamming\n",
      "assunto_genshin_impact\n",
      "assunto_zelda\n"
     ]
    }
   ],
   "source": [
    "dicionario_input = dict()\n",
    "\n",
    "for chave_assunto, assunto in enumerate(lista_assuntos):\n",
    "    print(assunto)\n",
    "    lista_inputs_assunto = []\n",
    "    options_assunto = []\n",
    "    base_temp = base_assunto_canal.query(f'ASSUNTO == \"{assunto}\"')\n",
    "    for chave, valor in base_temp.iterrows():\n",
    "        dic_inputs_assunto_criptografado = {\n",
    "            'label': valor['ID_CANAL'],\n",
    "            'value': valor['ID_CANAL']\n",
    "        }\n",
    "        lista_inputs_assunto.append(dic_inputs_assunto_criptografado)\n",
    "    dicionario_input.update({\n",
    "        assunto: lista_inputs_assunto\n",
    "    })"
   ]
  },
  {
   "cell_type": "code",
   "execution_count": 54,
   "metadata": {},
   "outputs": [
    {
     "data": {
      "text/plain": [
       "dict_keys(['assunto_cities_skylines', 'assunto_linux', 'assunto_power_bi', 'assunto_python_and_dados', 'assunto_cities_skylines_2', 'assunto_linux_gamming', 'assunto_genshin_impact', 'assunto_zelda'])"
      ]
     },
     "execution_count": 54,
     "metadata": {},
     "output_type": "execute_result"
    }
   ],
   "source": [
    "dicionario_input.keys()"
   ]
  },
  {
   "cell_type": "code",
   "execution_count": 55,
   "metadata": {},
   "outputs": [
    {
     "ename": "FileNotFoundError",
     "evalue": "[Errno 2] No such file or directory: '../depara/outros/depara_outros.pkl'",
     "output_type": "error",
     "traceback": [
      "\u001b[0;31m---------------------------------------------------------------------------\u001b[0m",
      "\u001b[0;31mFileNotFoundError\u001b[0m                         Traceback (most recent call last)",
      "Cell \u001b[0;32mIn[55], line 1\u001b[0m\n\u001b[0;32m----> 1\u001b[0m \u001b[38;5;28;01mwith\u001b[39;00m \u001b[38;5;28;43mopen\u001b[39;49m\u001b[43m(\u001b[49m\u001b[38;5;124;43m'\u001b[39;49m\u001b[38;5;124;43m../depara/outros/depara_outros.pkl\u001b[39;49m\u001b[38;5;124;43m'\u001b[39;49m\u001b[43m,\u001b[49m\u001b[43m \u001b[49m\u001b[38;5;124;43m'\u001b[39;49m\u001b[38;5;124;43mwb\u001b[39;49m\u001b[38;5;124;43m'\u001b[39;49m\u001b[43m)\u001b[49m \u001b[38;5;28;01mas\u001b[39;00m arq:\n\u001b[1;32m      2\u001b[0m     pickle\u001b[38;5;241m.\u001b[39mdump(dicionario_input, arq)\n",
      "File \u001b[0;32m~/Documentos/projetos/analise_dados_youtube/venv/lib/python3.10/site-packages/IPython/core/interactiveshell.py:286\u001b[0m, in \u001b[0;36m_modified_open\u001b[0;34m(file, *args, **kwargs)\u001b[0m\n\u001b[1;32m    279\u001b[0m \u001b[38;5;28;01mif\u001b[39;00m file \u001b[38;5;129;01min\u001b[39;00m {\u001b[38;5;241m0\u001b[39m, \u001b[38;5;241m1\u001b[39m, \u001b[38;5;241m2\u001b[39m}:\n\u001b[1;32m    280\u001b[0m     \u001b[38;5;28;01mraise\u001b[39;00m \u001b[38;5;167;01mValueError\u001b[39;00m(\n\u001b[1;32m    281\u001b[0m         \u001b[38;5;124mf\u001b[39m\u001b[38;5;124m\"\u001b[39m\u001b[38;5;124mIPython won\u001b[39m\u001b[38;5;124m'\u001b[39m\u001b[38;5;124mt let you open fd=\u001b[39m\u001b[38;5;132;01m{\u001b[39;00mfile\u001b[38;5;132;01m}\u001b[39;00m\u001b[38;5;124m by default \u001b[39m\u001b[38;5;124m\"\u001b[39m\n\u001b[1;32m    282\u001b[0m         \u001b[38;5;124m\"\u001b[39m\u001b[38;5;124mas it is likely to crash IPython. If you know what you are doing, \u001b[39m\u001b[38;5;124m\"\u001b[39m\n\u001b[1;32m    283\u001b[0m         \u001b[38;5;124m\"\u001b[39m\u001b[38;5;124myou can use builtins\u001b[39m\u001b[38;5;124m'\u001b[39m\u001b[38;5;124m open.\u001b[39m\u001b[38;5;124m\"\u001b[39m\n\u001b[1;32m    284\u001b[0m     )\n\u001b[0;32m--> 286\u001b[0m \u001b[38;5;28;01mreturn\u001b[39;00m \u001b[43mio_open\u001b[49m\u001b[43m(\u001b[49m\u001b[43mfile\u001b[49m\u001b[43m,\u001b[49m\u001b[43m \u001b[49m\u001b[38;5;241;43m*\u001b[39;49m\u001b[43margs\u001b[49m\u001b[43m,\u001b[49m\u001b[43m \u001b[49m\u001b[38;5;241;43m*\u001b[39;49m\u001b[38;5;241;43m*\u001b[39;49m\u001b[43mkwargs\u001b[49m\u001b[43m)\u001b[49m\n",
      "\u001b[0;31mFileNotFoundError\u001b[0m: [Errno 2] No such file or directory: '../depara/outros/depara_outros.pkl'"
     ]
    }
   ],
   "source": [
    "with open('../depara/outros/depara_outros.pkl', 'wb') as arq:\n",
    "    pickle.dump(dicionario_input, arq)"
   ]
  },
  {
   "cell_type": "code",
   "execution_count": 31,
   "metadata": {},
   "outputs": [],
   "source": [
    "chave= {\n",
    "        'assunto_a': [\n",
    "            {'label' : 'a', 'value': 'b'},\n",
    "            {'label' : 'a', 'value': 'b'},\n",
    "        ],\n",
    "        \n",
    "        'assunto_b': [\n",
    "            {'label' : 'a', 'value': 'b'},\n",
    "            {'label' : 'a', 'value': 'b'},\n",
    "        ]\n",
    "    }\n"
   ]
  },
  {
   "cell_type": "code",
   "execution_count": 34,
   "metadata": {},
   "outputs": [
    {
     "data": {
      "text/plain": [
       "[{'label': 'a', 'value': 'b'}, {'label': 'a', 'value': 'b'}]"
      ]
     },
     "execution_count": 34,
     "metadata": {},
     "output_type": "execute_result"
    }
   ],
   "source": [
    "chave['assunto_b']"
   ]
  }
 ],
 "metadata": {
  "kernelspec": {
   "display_name": "venv",
   "language": "python",
   "name": "python3"
  },
  "language_info": {
   "codemirror_mode": {
    "name": "ipython",
    "version": 3
   },
   "file_extension": ".py",
   "mimetype": "text/x-python",
   "name": "python",
   "nbconvert_exporter": "python",
   "pygments_lexer": "ipython3",
   "version": "3.10.12"
  }
 },
 "nbformat": 4,
 "nbformat_minor": 2
}
