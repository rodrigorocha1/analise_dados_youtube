{
 "cells": [
  {
   "cell_type": "code",
   "execution_count": 1,
   "metadata": {},
   "outputs": [],
   "source": [
    "from pyspark.sql import SparkSession, DataFrame\n",
    "import pyspark.sql.functions as f\n",
    "from pyspark.sql.window import Window\n",
    "from isodate import parse_duration\n",
    "import pyspark.sql.types as t\n",
    "from typing import Tuple, List\n",
    "import os"
   ]
  },
  {
   "cell_type": "code",
   "execution_count": 2,
   "metadata": {},
   "outputs": [],
   "source": [
    "@f.udf(returnType=t.FloatType())\n",
    "def converter_minutos(tempo: str) -> float:\n",
    "    \"\"\"Converte para o total de seguntos\n",
    "\n",
    "    Args:\n",
    "        tempo (str): tempo\n",
    "\n",
    "    Returns:\n",
    "        int: total segundos\n",
    "    \"\"\"\n",
    "    duracao = parse_duration(tempo)\n",
    "    total_segundos = duracao.total_seconds() \n",
    "    total_minutos = total_segundos / 60\n",
    "   \n",
    "    return round(total_minutos, 2)\n"
   ]
  },
  {
   "cell_type": "code",
   "execution_count": 3,
   "metadata": {},
   "outputs": [
    {
     "name": "stdout",
     "output_type": "stream",
     "text": [
      "24/02/02 21:29:18 WARN Utils: Your hostname, rodrigo-nitro-AN515-54 resolves to a loopback address: 127.0.1.1; using 192.168.0.103 instead (on interface wlp8s0)\n",
      "24/02/02 21:29:18 WARN Utils: Set SPARK_LOCAL_IP if you need to bind to another address\n"
     ]
    },
    {
     "name": "stderr",
     "output_type": "stream",
     "text": [
      "Setting default log level to \"WARN\".\n",
      "To adjust logging level use sc.setLogLevel(newLevel). For SparkR, use setLogLevel(newLevel).\n"
     ]
    },
    {
     "name": "stdout",
     "output_type": "stream",
     "text": [
      "24/02/02 21:29:19 WARN NativeCodeLoader: Unable to load native-hadoop library for your platform... using builtin-java classes where applicable\n"
     ]
    },
    {
     "data": {
      "text/html": [
       "\n",
       "            <div>\n",
       "                <p><b>SparkSession - in-memory</b></p>\n",
       "                \n",
       "        <div>\n",
       "            <p><b>SparkContext</b></p>\n",
       "\n",
       "            <p><a href=\"http://192.168.0.103:4040\">Spark UI</a></p>\n",
       "\n",
       "            <dl>\n",
       "              <dt>Version</dt>\n",
       "                <dd><code>v3.3.0</code></dd>\n",
       "              <dt>Master</dt>\n",
       "                <dd><code>local[*]</code></dd>\n",
       "              <dt>AppName</dt>\n",
       "                <dd><code>tratamento_camada_ouro</code></dd>\n",
       "            </dl>\n",
       "        </div>\n",
       "        \n",
       "            </div>\n",
       "        "
      ],
      "text/plain": [
       "<pyspark.sql.session.SparkSession at 0x7fe49819d900>"
      ]
     },
     "execution_count": 3,
     "metadata": {},
     "output_type": "execute_result"
    }
   ],
   "source": [
    "spark = SparkSession.builder.appName('tratamento_camada_ouro').getOrCreate()\n",
    "spark"
   ]
  },
  {
   "cell_type": "code",
   "execution_count": 17,
   "metadata": {},
   "outputs": [],
   "source": [
    "def criar_particao_ouro(dataframe: DataFrame, nome_arquivo: str ):\n",
    "    caminho_datalake_ouro = '../dados/ouro'\n",
    "    dataframe.write. \\\n",
    "                parquet(os.path.join(caminho_datalake_ouro, nome_arquivo),  )"
   ]
  },
  {
   "cell_type": "code",
   "execution_count": 23,
   "metadata": {},
   "outputs": [],
   "source": [
    "def transformacao_dataframe_trends(dataframe_transform: DataFrame):\n",
    "    dataframe_transform = dataframe_transform.select(\n",
    "        'data_extracao',\n",
    "        'DATA_PUBLICACAO',\n",
    "        'ID_CANAL',\n",
    "        'NM_CANAL',\n",
    "        'ID_CATEGORIA',\n",
    "        'ID_VIDEO',\n",
    "        'TITULO_VIDEO',\n",
    "        'DESCRICAO',\n",
    "        'TAGS',\n",
    "        'DURACAO_VIDEOS',\n",
    "        'TOTAL_VISUALIZACOES',\n",
    "        'TOTAL_LIKES',\n",
    "        'TOTAL_FAVORITOS',\n",
    "        'TOTAL_COMENTARIOS',\n",
    "        \n",
    "     )\n",
    "    dataframe_transform  = dataframe_transform.na.drop('all')\n",
    "    dataframe_transform = dataframe_transform.withColumn(\"data_hora_extracao\", f.col('data_extracao'))\n",
    "    dataframe_transform = dataframe_transform.withColumn(\"data_extracao\", f.date_format(f.unix_timestamp(\"data_extracao\", \"yyyy-MM-dd HH:mm:ss\").cast(\"timestamp\"), \"yyyy-MM-dd\" ))\n",
    "    dataframe_transform = dataframe_transform.withColumn('DURACAO_VIDEO_MINUTOS', converter_minutos(f.col('DURACAO_VIDEOS')))\n",
    "    dataframe_transform = dataframe_transform.withColumn('TOTAL_VISUALIZACOES', f.col('TOTAL_VISUALIZACOES').cast('int'))\n",
    "    dataframe_transform = dataframe_transform.withColumn('TOTAL_LIKES', f.col('TOTAL_LIKES').cast('int'))\n",
    "    dataframe_transform = dataframe_transform.withColumn('TOTAL_FAVORITOS', f.col('TOTAL_FAVORITOS').cast('int'))\n",
    "    dataframe_transform = dataframe_transform.withColumn('TOTAL_COMENTARIOS', f.col('TOTAL_COMENTARIOS').cast('int'))\n",
    "    dataframe_transform = dataframe_transform.withColumn('TOTAL_CARACTERE_VIDEO', f.length('TITULO_VIDEO'))\n",
    "    dataframe_transform = dataframe_transform.withColumn('TOTAL_TAGS', f.when(f.size('TAGS') > 0, f.size('TAGS')).otherwise(0))\n",
    "    dataframe_transform = dataframe_transform.withColumn('HORA_EXTRACAO', f.hour(\"data_hora_extracao\"))\n",
    "    dataframe_transform = dataframe_transform.withColumn(\n",
    "        'TURNO_EXTRACAO',\n",
    "        (\n",
    "            f.when(\n",
    "                (dataframe_transform.HORA_EXTRACAO >=6) & (dataframe_transform.HORA_EXTRACAO < 12), 'Manhã')\n",
    "            .when((dataframe_transform.HORA_EXTRACAO >= 12) & (dataframe_transform.HORA_EXTRACAO < 18), 'Tarde')\n",
    "            .otherwise('Noite')\n",
    "        )\n",
    "    )\n",
    "    dataframe_transform = dataframe_transform.withColumn(\n",
    "        'INDICE_TURNO_EXTRACAO',\n",
    "        (\n",
    "            f.when(\n",
    "                (dataframe_transform.TURNO_EXTRACAO == 'Manhã'), 1)\n",
    "            .when((dataframe_transform.TURNO_EXTRACAO == 'Tarde'), 2)\n",
    "            .otherwise(3)\n",
    "        )\n",
    "    )\n",
    "    return dataframe_transform\n",
    "  "
   ]
  },
  {
   "cell_type": "code",
   "execution_count": 5,
   "metadata": {},
   "outputs": [],
   "source": [
    "def transformacao_dataframe(dataframe_transform: DataFrame):\n",
    "    dataframe_transform = dataframe_transform.select(\n",
    "        'ASSUNTO',\n",
    "        'data_extracao',\n",
    "        'DATA_PUBLICACAO',\n",
    "        'ID_CANAL',\n",
    "        'NM_CANAL',\n",
    "        'ID_CATEGORIA',\n",
    "        'ID_VIDEO',\n",
    "        'TITULO_VIDEO',\n",
    "        'DESCRICAO',\n",
    "        'TAGS',\n",
    "        'DURACAO_VIDEOS',\n",
    "        'TOTAL_VISUALIZACOES',\n",
    "        'TOTAL_LIKES',\n",
    "        'TOTAL_FAVORITOS',\n",
    "        'TOTAL_COMENTARIOS',\n",
    "        \n",
    "     )\n",
    "    dataframe_transform  = dataframe_transform.na.drop('all')\n",
    "    dataframe_transform = dataframe_transform.withColumn(\"data_hora_extracao\", f.col('data_extracao'))\n",
    "    dataframe_transform = dataframe_transform.withColumn(\"data_extracao\", f.date_format(f.unix_timestamp(\"data_extracao\", \"yyyy-MM-dd HH:mm:ss\").cast(\"timestamp\"), \"yyyy-MM-dd\" ))\n",
    "    dataframe_transform = dataframe_transform.withColumn('DURACAO_VIDEO_MINUTOS', converter_minutos(f.col('DURACAO_VIDEOS')))\n",
    "    dataframe_transform = dataframe_transform.withColumn('TOTAL_VISUALIZACOES', f.col('TOTAL_VISUALIZACOES').cast('int'))\n",
    "    dataframe_transform = dataframe_transform.withColumn('TOTAL_LIKES', f.col('TOTAL_LIKES').cast('int'))\n",
    "    dataframe_transform = dataframe_transform.withColumn('TOTAL_FAVORITOS', f.col('TOTAL_FAVORITOS').cast('int'))\n",
    "    dataframe_transform = dataframe_transform.withColumn('TOTAL_COMENTARIOS', f.col('TOTAL_COMENTARIOS').cast('int'))\n",
    "    dataframe_transform = dataframe_transform.withColumn('TOTAL_CARACTERE_VIDEO', f.length('TITULO_VIDEO'))\n",
    "    dataframe_transform = dataframe_transform.withColumn('TOTAL_TAGS', f.when(f.size('TAGS') > 0, f.size('TAGS')).otherwise(0))\n",
    "    dataframe_transform = dataframe_transform.withColumn('HORA_EXTRACAO', f.hour(\"data_hora_extracao\"))\n",
    "    dataframe_transform = dataframe_transform.withColumn(\n",
    "        'TURNO_EXTRACAO',\n",
    "        (\n",
    "            f.when(\n",
    "                (dataframe_transform.HORA_EXTRACAO >=6) & (dataframe_transform.HORA_EXTRACAO < 12), 'Manhã')\n",
    "            .when((dataframe_transform.HORA_EXTRACAO >= 12) & (dataframe_transform.HORA_EXTRACAO < 18), 'Tarde')\n",
    "            .otherwise('Noite')\n",
    "        )\n",
    "    )\n",
    "    dataframe_transform = dataframe_transform.withColumn(\n",
    "        'INDICE_TURNO_EXTRACAO',\n",
    "        (\n",
    "            f.when(\n",
    "                (dataframe_transform.TURNO_EXTRACAO == 'Manhã'), 1)\n",
    "            .when((dataframe_transform.TURNO_EXTRACAO == 'Tarde'), 2)\n",
    "            .otherwise(3)\n",
    "        )\n",
    "    )\n",
    "    return dataframe_transform\n",
    "  "
   ]
  },
  {
   "cell_type": "code",
   "execution_count": 6,
   "metadata": {},
   "outputs": [],
   "source": [
    "@f.udf(returnType=t.StringType())\n",
    "def traduzir_dia_da_semana(dia):\n",
    "    traducao = {\n",
    "        'Sunday': 'Domingo',\n",
    "        'Monday': 'Segunda-feira',\n",
    "        'Tuesday': 'Terça-feira',\n",
    "        'Wednesday': 'Quarta-feira',\n",
    "        'Thursday': 'Quinta-feira',\n",
    "        'Friday': 'Sexta-feira',\n",
    "        'Saturday': 'Sábado'\n",
    "    }\n",
    "    return traducao.get(dia, dia)"
   ]
  },
  {
   "cell_type": "code",
   "execution_count": 7,
   "metadata": {},
   "outputs": [],
   "source": [
    "@f.udf(returnType=t.IntegerType())\n",
    "def indice_semana(dia):\n",
    "    traducao = {\n",
    "        'Domingo': 1,\n",
    "        'Segunda-feira': 2,\n",
    "        'Terça-feira': 3,\n",
    "        'Quarta-feira': 4,\n",
    "        'Quinta-feira': 5,\n",
    "        'Sexta-feira': 6,\n",
    "        'Sábado': 7\n",
    "    }\n",
    "    return traducao.get(dia, dia)"
   ]
  },
  {
   "cell_type": "code",
   "execution_count": 8,
   "metadata": {},
   "outputs": [
    {
     "name": "stderr",
     "output_type": "stream",
     "text": [
      "                                                                                \r"
     ]
    },
    {
     "data": {
      "text/plain": [
       "['data_extracao',\n",
       " 'ID_VIDEO',\n",
       " 'DATA_PUBLICACAO',\n",
       " 'ID_CANAL',\n",
       " 'NM_CANAL',\n",
       " 'ID_CATEGORIA',\n",
       " 'TITULO_VIDEO',\n",
       " 'DESCRICAO',\n",
       " 'TAGS',\n",
       " 'DURACAO_VIDEOS',\n",
       " 'TOTAL_VISUALIZACOES',\n",
       " 'TOTAL_LIKES',\n",
       " 'TOTAL_FAVORITOS',\n",
       " 'TOTAL_COMENTARIOS',\n",
       " 'ASSUNTO']"
      ]
     },
     "execution_count": 8,
     "metadata": {},
     "output_type": "execute_result"
    }
   ],
   "source": [
    "df_estatisticas_gerais = spark.read.parquet('../dados/prata/arquivos_assuntos.parquet')\n",
    "df_estatisticas_gerais.columns"
   ]
  },
  {
   "cell_type": "code",
   "execution_count": 9,
   "metadata": {},
   "outputs": [
    {
     "name": "stderr",
     "output_type": "stream",
     "text": [
      "[Stage 1:>                                                          (0 + 1) / 1]\r"
     ]
    },
    {
     "name": "stdout",
     "output_type": "stream",
     "text": [
      "+--------------------+-------------+--------------------+--------------------+--------------------+------------+-----------+--------------------+--------------------+--------------------+--------------+-------------------+-----------+---------------+-----------------+-------------------+---------------------+---------------------+----------+-------------+--------------+---------------------+\n",
      "|             ASSUNTO|data_extracao|     DATA_PUBLICACAO|            ID_CANAL|            NM_CANAL|ID_CATEGORIA|   ID_VIDEO|        TITULO_VIDEO|           DESCRICAO|                TAGS|DURACAO_VIDEOS|TOTAL_VISUALIZACOES|TOTAL_LIKES|TOTAL_FAVORITOS|TOTAL_COMENTARIOS| data_hora_extracao|DURACAO_VIDEO_MINUTOS|TOTAL_CARACTERE_VIDEO|TOTAL_TAGS|HORA_EXTRACAO|TURNO_EXTRACAO|INDICE_TURNO_EXTRACAO|\n",
      "+--------------------+-------------+--------------------+--------------------+--------------------+------------+-----------+--------------------+--------------------+--------------------+--------------+-------------------+-----------+---------------+-----------------+-------------------+---------------------+---------------------+----------+-------------+--------------+---------------------+\n",
      "|assunto_python_an...|   2024-01-23|2024-01-19T17:35:48Z|UCMqGy4xIIGs01ZVc...|       Usando Python|          27|BVHN3nK8JR8|Conversão para St...|Diferença entre D...|[python, joao fut...|         PT34S|                 98|         13|              0|                0|2024-01-23 10:37:43|                 0.57|                   45|        18|           10|         Manhã|                    1|\n",
      "|assunto_python_an...|   2024-01-23|2024-01-20T20:43:41Z|UC70kawNmZCDeZDZB...|Wesley Roberto | ...|          28|S8FcfOPjFJY|Como se tornar um...|🚀 Bem-vindo ao n...|                null|       PT4M47S|                 98|         31|              0|                8|2024-01-23 17:08:13|                 4.78|                   43|         0|           17|         Tarde|                    2|\n",
      "|assunto_python_an...|   2024-01-23|2024-01-18T15:15:11Z|UCiYrw6iAqlYXvP7n...|    Rodolfo De Nadai|          28|s9hUoajuWwc|Python: Structure...|Fala galera!\\nNes...|[tecnologia, prog...|      PT26M44S|                 97|          2|              0|                0|2024-01-23 10:37:41|                26.73|                   28|         2|           10|         Manhã|                    1|\n",
      "|assunto_python_an...|   2024-01-23|2024-01-23T12:59:19Z|UCNblNh-u0nu5mtXT...|Mestres da Inform...|          27|j1-IbFM7TtE|🔴O Novo Ciclo - ...|Nessa Aula eu vou...|  [detetive virtual]|       PT1H50M|                964|        102|              0|                2|2024-01-23 20:00:58|                110.0|                   44|         1|           20|         Noite|                    3|\n",
      "|assunto_python_an...|   2024-01-23|2024-01-18T22:00:02Z|UCU5vSFBBO_cp6ie0...|         Refatorando|          28|5Rl2CnW5ZFc|Como é o dia a di...|→ 🎁 Masterclass ...|[roger santos, re...|       PT9M59S|                956|        136|              0|               12|2024-01-23 20:00:55|                 9.98|                   48|        28|           20|         Noite|                    3|\n",
      "|assunto_python_an...|   2024-01-23|2024-01-18T22:00:02Z|UCU5vSFBBO_cp6ie0...|         Refatorando|          28|5Rl2CnW5ZFc|Como é o dia a di...|→ 🎁 Masterclass ...|[roger santos, re...|       PT9M59S|                942|        133|              0|               12|2024-01-23 17:08:07|                 9.98|                   48|        28|           17|         Tarde|                    2|\n",
      "|assunto_python_an...|   2024-01-23|2024-01-23T14:47:49Z|UCHQun4keJGrj8RqD...|Portal do Conheci...|          22|dcxNswGRL4c|Agora vem o gross...|PRODUTOS EM PRATA...|                null|         PT46S|                939|         71|              0|                0|2024-01-23 20:01:06|                 0.77|                   21|         0|           20|         Noite|                    3|\n",
      "|assunto_python_an...|   2024-01-23|2024-01-20T20:43:41Z|UC70kawNmZCDeZDZB...|Wesley Roberto | ...|          28|S8FcfOPjFJY|Como se tornar um...|🚀 Bem-vindo ao n...|                null|       PT4M47S|                 92|         28|              0|                8|2024-01-23 10:37:43|                 4.78|                   43|         0|           10|         Manhã|                    1|\n",
      "|assunto_python_an...|   2024-01-23|2024-01-23T20:44:06Z|UCHQun4keJGrj8RqD...|Portal do Conheci...|          22|RyYKmUFpPN4| PCO é Bolsonarista?|PRODUTOS EM PRATA...|                null|         PT48S|                 92|         31|              0|                1|2024-01-23 20:01:01|                  0.8|                   19|         0|           20|         Noite|                    3|\n",
      "|assunto_python_an...|   2024-01-23|2024-01-18T22:00:02Z|UCU5vSFBBO_cp6ie0...|         Refatorando|          28|5Rl2CnW5ZFc|Como é o dia a di...|→ 🎁 Masterclass ...|[roger santos, re...|       PT9M59S|                916|        131|              0|               12|2024-01-23 10:37:37|                 9.98|                   48|        28|           10|         Manhã|                    1|\n",
      "|assunto_python_an...|   2024-01-23|2024-01-22T12:48:51Z|UC_Ytk3TwR-bWEHFh...|   Bueno - Fintz API|          22|rtyxBpb6ANI|Como buscar Indic...|O exemplo é com R...|                null|        PT7M5S|                  9|          2|              0|                0|2024-01-23 10:37:36|                 7.08|                   53|         0|           10|         Manhã|                    1|\n",
      "|assunto_python_an...|   2024-01-23|2024-01-22T12:48:51Z|UC_Ytk3TwR-bWEHFh...|   Bueno - Fintz API|          22|rtyxBpb6ANI|Como buscar Indic...|O exemplo é com R...|                null|        PT7M5S|                  9|          2|              0|                0|2024-01-23 17:08:04|                 7.08|                   53|         0|           17|         Tarde|                    2|\n",
      "|assunto_python_an...|   2024-01-23|2024-01-23T13:30:08Z|UCUUFXfP7yc1pGC9h...|         PalancaCode|          27|fnWYI2ys_fQ|Tuplas vs. Listas...|No Python, temos ...|[#mal@97fasttutor...|       PT3M49S|                  9|          3|              0|                0|2024-01-23 17:08:07|                 3.82|                   50|        25|           17|         Tarde|                    2|\n",
      "|assunto_python_an...|   2024-01-23|2024-01-22T12:48:51Z|UC_Ytk3TwR-bWEHFh...|   Bueno - Fintz API|          22|rtyxBpb6ANI|Como buscar Indic...|O exemplo é com R...|                null|        PT7M5S|                  9|          2|              0|                0|2024-01-23 20:01:02|                 7.08|                   53|         0|           20|         Noite|                    3|\n",
      "|assunto_python_an...|   2024-01-23|2024-01-23T14:47:49Z|UCHQun4keJGrj8RqD...|Portal do Conheci...|          22|dcxNswGRL4c|Agora vem o gross...|PRODUTOS EM PRATA...|                null|         PT46S|                892|         62|              0|                0|2024-01-23 17:08:12|                 0.77|                   21|         0|           17|         Tarde|                    2|\n",
      "|assunto_python_an...|   2024-01-23|2024-01-20T11:22:56Z|UCIQ_CeDhXZDc8BEa...|      Adriano Torres|          24|qUYkiZRiZ48|Som de chuva para...|Linkedin do Adria...|[Python, Spark, P...|    PT6H21M29S|                 87|          1|              0|                0|2024-01-23 10:37:38|               381.48|                   34|        61|           10|         Manhã|                    1|\n",
      "|assunto_python_an...|   2024-01-23|2024-01-20T11:22:56Z|UCIQ_CeDhXZDc8BEa...|      Adriano Torres|          24|qUYkiZRiZ48|Som de chuva para...|Linkedin do Adria...|[Python, Spark, P...|    PT6H21M29S|                 87|          1|              0|                0|2024-01-23 17:08:08|               381.48|                   34|        61|           17|         Tarde|                    2|\n",
      "|assunto_python_an...|   2024-01-23|2024-01-20T11:22:56Z|UCIQ_CeDhXZDc8BEa...|      Adriano Torres|          24|qUYkiZRiZ48|Som de chuva para...|Linkedin do Adria...|[Python, Spark, P...|    PT6H21M29S|                 87|          1|              0|                0|2024-01-23 20:01:09|               381.48|                   34|        61|           20|         Noite|                    3|\n",
      "|assunto_python_an...|   2024-01-23|2024-01-18T20:00:08Z|UC70mr11REaCqgKke...|Programação Dinâmica|          28|DgZUZgZ1al0|Ciência de Dados ...|Concurso Nacional...|[programação dinâ...|      PT11M47S|               8273|        433|              0|               57|2024-01-23 20:01:01|                11.78|                  100|        22|           20|         Noite|                    3|\n",
      "|assunto_python_an...|   2024-01-23|2024-01-18T20:00:08Z|UC70mr11REaCqgKke...|Programação Dinâmica|          28|DgZUZgZ1al0|Ciência de Dados ...|Concurso Nacional...|[programação dinâ...|      PT11M47S|               8238|        431|              0|               57|2024-01-23 17:08:14|                11.78|                  100|        22|           17|         Tarde|                    2|\n",
      "+--------------------+-------------+--------------------+--------------------+--------------------+------------+-----------+--------------------+--------------------+--------------------+--------------+-------------------+-----------+---------------+-----------------+-------------------+---------------------+---------------------+----------+-------------+--------------+---------------------+\n",
      "only showing top 20 rows\n",
      "\n"
     ]
    },
    {
     "name": "stderr",
     "output_type": "stream",
     "text": [
      "                                                                                \r"
     ]
    }
   ],
   "source": [
    "df_estatisticas_gerais = transformacao_dataframe(dataframe_transform=df_estatisticas_gerais)\n",
    "df_estatisticas_gerais.show()"
   ]
  },
  {
   "cell_type": "code",
   "execution_count": 10,
   "metadata": {},
   "outputs": [],
   "source": [
    "def construir_depara_canal(dataframe: DataFrame):\n",
    "    dataframe.select(\n",
    "        dataframe.ID_CANAL,\n",
    "        dataframe.NM_CANAL,\n",
    "        dataframe.ID_VIDEO,\n",
    "        dataframe.TITULO_VIDEO\n",
    "    ).distinct().sort('ID_CANAL').write.\\\n",
    "        parquet(f'../dados/ouro/depara_canal.parquet')\n"
   ]
  },
  {
   "cell_type": "code",
   "execution_count": 11,
   "metadata": {},
   "outputs": [],
   "source": [
    "def obter_total_publicacao_video(dataframe : DataFrame) -> DataFrame:\n",
    "   dataframe =  dataframe.select(\n",
    "    'DATA_PUBLICACAO',\n",
    "    'ID_CANAL',\n",
    "    'NM_CANAL'\n",
    "    ).withColumn(\n",
    "       'DATA_PUBLICACAO', f.date_format('DATA_PUBLICACAO', 'yyyy-MM-dd')\n",
    "    ) \\\n",
    "        .sort('ID_CANAL') \\\n",
    "        .withColumn(\n",
    "            'SEMANA_TRADUZIDA', \n",
    "            traduzir_dia_da_semana(\n",
    "                f.date_format('DATA_PUBLICACAO', 'EEEE')\n",
    "            )\n",
    "            ).distinct() \\\n",
    "                .groupBy('DATA_PUBLICACAO','SEMANA_TRADUZIDA', 'ID_CANAL', 'NM_CANAL'). \\\n",
    "                    count(). \\\n",
    "                        alias('TOTAL_VIDEOS'). \\\n",
    "                            withColumn('INDICE_SEMANA', indice_semana('SEMANA_TRADUZIDA')) \\\n",
    "                    .sort('INDICE_SEMANA')\\\n",
    "                        .select('DATA_PUBLICACAO','SEMANA_TRADUZIDA' ,'ID_CANAL', 'NM_CANAL', f.col('TOTAL_VIDEOS.COUNT').alias('TOTAL_VIDEOS'))       \n",
    "   return dataframe"
   ]
  },
  {
   "cell_type": "code",
   "execution_count": 12,
   "metadata": {},
   "outputs": [
    {
     "name": "stdout",
     "output_type": "stream",
     "text": [
      "+--------------------+-------------+--------------------+--------------------+--------------------+------------+-----------+--------------------+--------------------+--------------------+--------------+-------------------+-----------+---------------+-----------------+-------------------+---------------------+---------------------+----------+-------------+--------------+---------------------+\n",
      "|             ASSUNTO|data_extracao|     DATA_PUBLICACAO|            ID_CANAL|            NM_CANAL|ID_CATEGORIA|   ID_VIDEO|        TITULO_VIDEO|           DESCRICAO|                TAGS|DURACAO_VIDEOS|TOTAL_VISUALIZACOES|TOTAL_LIKES|TOTAL_FAVORITOS|TOTAL_COMENTARIOS| data_hora_extracao|DURACAO_VIDEO_MINUTOS|TOTAL_CARACTERE_VIDEO|TOTAL_TAGS|HORA_EXTRACAO|TURNO_EXTRACAO|INDICE_TURNO_EXTRACAO|\n",
      "+--------------------+-------------+--------------------+--------------------+--------------------+------------+-----------+--------------------+--------------------+--------------------+--------------+-------------------+-----------+---------------+-----------------+-------------------+---------------------+---------------------+----------+-------------+--------------+---------------------+\n",
      "|assunto_python_an...|   2024-01-23|2024-01-19T17:35:48Z|UCMqGy4xIIGs01ZVc...|       Usando Python|          27|BVHN3nK8JR8|Conversão para St...|Diferença entre D...|[python, joao fut...|         PT34S|                 98|         13|              0|                0|2024-01-23 10:37:43|                 0.57|                   45|        18|           10|         Manhã|                    1|\n",
      "|assunto_python_an...|   2024-01-23|2024-01-20T20:43:41Z|UC70kawNmZCDeZDZB...|Wesley Roberto | ...|          28|S8FcfOPjFJY|Como se tornar um...|🚀 Bem-vindo ao n...|                null|       PT4M47S|                 98|         31|              0|                8|2024-01-23 17:08:13|                 4.78|                   43|         0|           17|         Tarde|                    2|\n",
      "|assunto_python_an...|   2024-01-23|2024-01-18T15:15:11Z|UCiYrw6iAqlYXvP7n...|    Rodolfo De Nadai|          28|s9hUoajuWwc|Python: Structure...|Fala galera!\\nNes...|[tecnologia, prog...|      PT26M44S|                 97|          2|              0|                0|2024-01-23 10:37:41|                26.73|                   28|         2|           10|         Manhã|                    1|\n",
      "|assunto_python_an...|   2024-01-23|2024-01-23T12:59:19Z|UCNblNh-u0nu5mtXT...|Mestres da Inform...|          27|j1-IbFM7TtE|🔴O Novo Ciclo - ...|Nessa Aula eu vou...|  [detetive virtual]|       PT1H50M|                964|        102|              0|                2|2024-01-23 20:00:58|                110.0|                   44|         1|           20|         Noite|                    3|\n",
      "|assunto_python_an...|   2024-01-23|2024-01-18T22:00:02Z|UCU5vSFBBO_cp6ie0...|         Refatorando|          28|5Rl2CnW5ZFc|Como é o dia a di...|→ 🎁 Masterclass ...|[roger santos, re...|       PT9M59S|                956|        136|              0|               12|2024-01-23 20:00:55|                 9.98|                   48|        28|           20|         Noite|                    3|\n",
      "|assunto_python_an...|   2024-01-23|2024-01-18T22:00:02Z|UCU5vSFBBO_cp6ie0...|         Refatorando|          28|5Rl2CnW5ZFc|Como é o dia a di...|→ 🎁 Masterclass ...|[roger santos, re...|       PT9M59S|                942|        133|              0|               12|2024-01-23 17:08:07|                 9.98|                   48|        28|           17|         Tarde|                    2|\n",
      "|assunto_python_an...|   2024-01-23|2024-01-23T14:47:49Z|UCHQun4keJGrj8RqD...|Portal do Conheci...|          22|dcxNswGRL4c|Agora vem o gross...|PRODUTOS EM PRATA...|                null|         PT46S|                939|         71|              0|                0|2024-01-23 20:01:06|                 0.77|                   21|         0|           20|         Noite|                    3|\n",
      "|assunto_python_an...|   2024-01-23|2024-01-20T20:43:41Z|UC70kawNmZCDeZDZB...|Wesley Roberto | ...|          28|S8FcfOPjFJY|Como se tornar um...|🚀 Bem-vindo ao n...|                null|       PT4M47S|                 92|         28|              0|                8|2024-01-23 10:37:43|                 4.78|                   43|         0|           10|         Manhã|                    1|\n",
      "|assunto_python_an...|   2024-01-23|2024-01-23T20:44:06Z|UCHQun4keJGrj8RqD...|Portal do Conheci...|          22|RyYKmUFpPN4| PCO é Bolsonarista?|PRODUTOS EM PRATA...|                null|         PT48S|                 92|         31|              0|                1|2024-01-23 20:01:01|                  0.8|                   19|         0|           20|         Noite|                    3|\n",
      "|assunto_python_an...|   2024-01-23|2024-01-18T22:00:02Z|UCU5vSFBBO_cp6ie0...|         Refatorando|          28|5Rl2CnW5ZFc|Como é o dia a di...|→ 🎁 Masterclass ...|[roger santos, re...|       PT9M59S|                916|        131|              0|               12|2024-01-23 10:37:37|                 9.98|                   48|        28|           10|         Manhã|                    1|\n",
      "|assunto_python_an...|   2024-01-23|2024-01-22T12:48:51Z|UC_Ytk3TwR-bWEHFh...|   Bueno - Fintz API|          22|rtyxBpb6ANI|Como buscar Indic...|O exemplo é com R...|                null|        PT7M5S|                  9|          2|              0|                0|2024-01-23 10:37:36|                 7.08|                   53|         0|           10|         Manhã|                    1|\n",
      "|assunto_python_an...|   2024-01-23|2024-01-22T12:48:51Z|UC_Ytk3TwR-bWEHFh...|   Bueno - Fintz API|          22|rtyxBpb6ANI|Como buscar Indic...|O exemplo é com R...|                null|        PT7M5S|                  9|          2|              0|                0|2024-01-23 17:08:04|                 7.08|                   53|         0|           17|         Tarde|                    2|\n",
      "|assunto_python_an...|   2024-01-23|2024-01-23T13:30:08Z|UCUUFXfP7yc1pGC9h...|         PalancaCode|          27|fnWYI2ys_fQ|Tuplas vs. Listas...|No Python, temos ...|[#mal@97fasttutor...|       PT3M49S|                  9|          3|              0|                0|2024-01-23 17:08:07|                 3.82|                   50|        25|           17|         Tarde|                    2|\n",
      "|assunto_python_an...|   2024-01-23|2024-01-22T12:48:51Z|UC_Ytk3TwR-bWEHFh...|   Bueno - Fintz API|          22|rtyxBpb6ANI|Como buscar Indic...|O exemplo é com R...|                null|        PT7M5S|                  9|          2|              0|                0|2024-01-23 20:01:02|                 7.08|                   53|         0|           20|         Noite|                    3|\n",
      "|assunto_python_an...|   2024-01-23|2024-01-23T14:47:49Z|UCHQun4keJGrj8RqD...|Portal do Conheci...|          22|dcxNswGRL4c|Agora vem o gross...|PRODUTOS EM PRATA...|                null|         PT46S|                892|         62|              0|                0|2024-01-23 17:08:12|                 0.77|                   21|         0|           17|         Tarde|                    2|\n",
      "|assunto_python_an...|   2024-01-23|2024-01-20T11:22:56Z|UCIQ_CeDhXZDc8BEa...|      Adriano Torres|          24|qUYkiZRiZ48|Som de chuva para...|Linkedin do Adria...|[Python, Spark, P...|    PT6H21M29S|                 87|          1|              0|                0|2024-01-23 10:37:38|               381.48|                   34|        61|           10|         Manhã|                    1|\n",
      "|assunto_python_an...|   2024-01-23|2024-01-20T11:22:56Z|UCIQ_CeDhXZDc8BEa...|      Adriano Torres|          24|qUYkiZRiZ48|Som de chuva para...|Linkedin do Adria...|[Python, Spark, P...|    PT6H21M29S|                 87|          1|              0|                0|2024-01-23 17:08:08|               381.48|                   34|        61|           17|         Tarde|                    2|\n",
      "|assunto_python_an...|   2024-01-23|2024-01-20T11:22:56Z|UCIQ_CeDhXZDc8BEa...|      Adriano Torres|          24|qUYkiZRiZ48|Som de chuva para...|Linkedin do Adria...|[Python, Spark, P...|    PT6H21M29S|                 87|          1|              0|                0|2024-01-23 20:01:09|               381.48|                   34|        61|           20|         Noite|                    3|\n",
      "|assunto_python_an...|   2024-01-23|2024-01-18T20:00:08Z|UC70mr11REaCqgKke...|Programação Dinâmica|          28|DgZUZgZ1al0|Ciência de Dados ...|Concurso Nacional...|[programação dinâ...|      PT11M47S|               8273|        433|              0|               57|2024-01-23 20:01:01|                11.78|                  100|        22|           20|         Noite|                    3|\n",
      "|assunto_python_an...|   2024-01-23|2024-01-18T20:00:08Z|UC70mr11REaCqgKke...|Programação Dinâmica|          28|DgZUZgZ1al0|Ciência de Dados ...|Concurso Nacional...|[programação dinâ...|      PT11M47S|               8238|        431|              0|               57|2024-01-23 17:08:14|                11.78|                  100|        22|           17|         Tarde|                    2|\n",
      "+--------------------+-------------+--------------------+--------------------+--------------------+------------+-----------+--------------------+--------------------+--------------------+--------------+-------------------+-----------+---------------+-----------------+-------------------+---------------------+---------------------+----------+-------------+--------------+---------------------+\n",
      "only showing top 20 rows\n",
      "\n"
     ]
    }
   ],
   "source": [
    "df_estatisticas_gerais.show()"
   ]
  },
  {
   "cell_type": "code",
   "execution_count": 16,
   "metadata": {},
   "outputs": [
    {
     "name": "stderr",
     "output_type": "stream",
     "text": [
      "                                                                                \r"
     ]
    },
    {
     "data": {
      "text/plain": [
       "12068"
      ]
     },
     "execution_count": 16,
     "metadata": {},
     "output_type": "execute_result"
    }
   ],
   "source": [
    "df_estatisticas_gerais.count()"
   ]
  },
  {
   "cell_type": "code",
   "execution_count": 19,
   "metadata": {},
   "outputs": [
    {
     "name": "stderr",
     "output_type": "stream",
     "text": [
      "[Stage 6:>                                                          (0 + 8) / 8]\r"
     ]
    },
    {
     "name": "stdout",
     "output_type": "stream",
     "text": [
      "24/02/02 21:32:14 WARN MemoryManager: Total allocation exceeds 95,00% (906.992.014 bytes) of heap memory\n",
      "Scaling row group sizes to 96,54% for 7 writers\n",
      "24/02/02 21:32:14 WARN MemoryManager: Total allocation exceeds 95,00% (906.992.014 bytes) of heap memory\n",
      "Scaling row group sizes to 84,47% for 8 writers\n",
      "24/02/02 21:32:15 WARN MemoryManager: Total allocation exceeds 95,00% (906.992.014 bytes) of heap memory\n",
      "Scaling row group sizes to 96,54% for 7 writers\n"
     ]
    },
    {
     "name": "stderr",
     "output_type": "stream",
     "text": [
      "                                                                                \r"
     ]
    }
   ],
   "source": [
    "criar_particao_ouro(\n",
    "        dataframe=df_estatisticas_gerais, \n",
    "        nome_arquivo='dados_tratado_estatisticas_gerais.parquet',\n",
    "    )"
   ]
  },
  {
   "cell_type": "code",
   "execution_count": 25,
   "metadata": {},
   "outputs": [
    {
     "name": "stderr",
     "output_type": "stream",
     "text": [
      "                                                                                \r"
     ]
    },
    {
     "name": "stdout",
     "output_type": "stream",
     "text": [
      "+-------------+--------------------+--------------------+------------------+------------+-----------+--------------------+--------------------+--------------------+--------------+-------------------+-----------+---------------+-----------------+-------------------+---------------------+---------------------+----------+-------------+--------------+---------------------+\n",
      "|data_extracao|     DATA_PUBLICACAO|            ID_CANAL|          NM_CANAL|ID_CATEGORIA|   ID_VIDEO|        TITULO_VIDEO|           DESCRICAO|                TAGS|DURACAO_VIDEOS|TOTAL_VISUALIZACOES|TOTAL_LIKES|TOTAL_FAVORITOS|TOTAL_COMENTARIOS| data_hora_extracao|DURACAO_VIDEO_MINUTOS|TOTAL_CARACTERE_VIDEO|TOTAL_TAGS|HORA_EXTRACAO|TURNO_EXTRACAO|INDICE_TURNO_EXTRACAO|\n",
      "+-------------+--------------------+--------------------+------------------+------------+-----------+--------------------+--------------------+--------------------+--------------+-------------------+-----------+---------------+-----------------+-------------------+---------------------+---------------------+----------+-------------+--------------+---------------------+\n",
      "|   2024-01-20|2024-01-19T15:00:00Z|UCaEDMy0ItPSfPEvJ...|Canal Ana Hickmann|          22|-AHsFXxkxWQ|RECEITA DE PUDIM ...|Oi, pessoal! Tudo...|[ana hickmann, ca...|       PT10M5S|             227954|       7555|              0|              440|2024-01-20 11:01:47|                10.08|                   58|        19|           11|         Manhã|                    1|\n",
      "|   2024-01-22|2024-01-17T21:28:00Z|UCjaxmdb_gTWbz9XF...|      Natan por Aí|          24|pjTrKdCzihw|PARQUE AQUÁTICO d...|Qual parque aquát...|[natan, natan por...|      PT15M43S|            2278449|      34934|              0|              624|2024-01-22 11:05:09|                15.72|                   38|         2|           11|         Manhã|                    1|\n",
      "|   2024-01-19|2024-01-19T12:30:33Z|UCJIl6Ahgkfwg1DRY...|          Mendrake|          20|hQLdpblz3xQ|PROPOLIS vs MENDRAKE|mendrakecomercial...|                null|       PT18M4S|             227752|      13706|              0|              955|2024-01-19 21:57:25|                18.07|                   20|         0|           21|         Noite|                    3|\n",
      "|   2024-01-23|2024-01-17T18:17:36Z|UCWsDFcIhY2DBi3GB...|        IShowSpeed|          20|A0u8rgz4qlA|  Life In Brazil🇧🇷|MERCH HOODIE - ht...|[ishowspeed, spee...|      PT15M42S|            2277398|     140834|              0|             5644|2024-01-23 20:01:20|                 15.7|                   16|         4|           20|         Noite|                    3|\n",
      "|   2024-01-19|2024-01-19T15:00:08Z|UC0hJfOjCQ15KQCWx...|      Mc Caverinha|          10|4DJ6aEwQm4U|MC Caverinha, Wal...|Esse é o videocli...|[MC Caverinha, Ca...|       PT3M17S|              22747|       4719|              0|             4192|2024-01-19 21:57:25|                 3.28|                   56|        26|           21|         Noite|                    3|\n",
      "|   2024-01-19|2024-01-17T15:00:16Z|UCgJnKtIMg8gv_9jT...|  Família Oliveira|          22|VRed9w1lmSc|RYAN E LORRAYNE E...|RYAN E LORRAYNE E...|                null|      PT11M10S|             227454|       6964|              0|              296|2024-01-19 17:00:09|                11.17|                   67|         0|           17|         Tarde|                    2|\n",
      "|   2024-01-22|2024-01-17T15:10:02Z|UC46L3Cku3SplGDbI...|             Mylon|          22|cwL8x-P1a4Q|SERIA SMOLDER O A...|Avalie o vídeo cl...|[mylon, mylonzete...|      PT20M25S|             227411|      24725|              0|              370|2024-01-22 11:05:09|                20.42|                   49|        18|           11|         Manhã|                    1|\n",
      "|   2024-01-20|2024-01-11T14:45:00Z|UCLjzb0-xUi_gfnZG...| Richard GameVlogs|          20|2wpznW4qAu0|SOBREVIVI COMO SE...|                    |[dinossauro, dino...|      PT16M59S|             227012|       5703|              0|               84|2024-01-20 17:35:44|                16.98|                   98|        31|           17|         Tarde|                    2|\n",
      "|   2024-01-20|2024-01-11T21:00:09Z|UCK3NkZPs0Burxabh...|          Souzones|          20|jn6kT6YBdOY|GOOSE GOOSE DUCK:...|👕 CAMISETAS do S...|[games, melhores ...|       PT15M3S|             226943|      30277|              0|              937|2024-01-20 21:52:28|                15.05|                   99|         5|           21|         Noite|                    3|\n",
      "|   2024-01-22|2024-01-18T19:04:50Z|UCZ4L4kbUSHhBvw0g...|Leo Dias Oficial  |          24|ivdQM39XGT8|LEO DIAS ENTREVIS...|Virginia Fonseca ...|                null|        PT8M5S|             226875|       8383|              0|              347|2024-01-22 21:15:15|                 8.08|                   28|         0|           21|         Noite|                    3|\n",
      "|   2024-01-22|2024-01-16T22:01:10Z|UCY2JbItcod5aclsD...|   Diário da Carol|          22|gDlJFiR94U8|MEU PRIMEIRO DIA ...|Meu primeiro dia ...|                null|      PT14M16S|             226514|      10301|              0|              317|2024-01-22 16:54:55|                14.27|                   53|         0|           16|         Tarde|                    2|\n",
      "|   2024-01-20|2024-01-18T23:27:25Z|UCw5-xj3AKqEizC7M...|       ESPN Brasil|          17|Y4sJ9poiiTo|ATLÉTICO DE MADRI...|Todo o esporte AO...|[ESPN Brasil, Atl...|      PT10M24S|            2262373|     115207|              0|             6793|2024-01-20 17:35:43|                 10.4|                   90|        10|           17|         Tarde|                    2|\n",
      "|   2024-01-19|2024-01-17T02:40:28Z|UC8WT0kby-iTFM1W_...|Big Brother Brasil|          24|qrtDylwX8G0|LUCAS PIZANE É O ...|Lucas Pizane é o ...|[Big Brother Bras...|       PT6M52S|             226184|       6918|              0|              589|2024-01-19 21:57:25|                 6.87|                   94|        30|           21|         Noite|                    3|\n",
      "|   2024-01-20|2024-01-11T21:00:09Z|UCK3NkZPs0Burxabh...|          Souzones|          20|jn6kT6YBdOY|GOOSE GOOSE DUCK:...|👕 CAMISETAS do S...|[games, melhores ...|       PT15M3S|             226115|      30162|              0|              932|2024-01-20 17:35:44|                15.05|                   99|         5|           17|         Tarde|                    2|\n",
      "|   2024-01-21|2024-01-15T00:00:04Z|UC0VOyT2OCBKdQhF3...|  ArianaGrandeVevo|          10|A8jERSryeLc|Ariana Grande - y...|Music video by Ar...|[Ariana, Grande, ...|       PT3M36S|            2260610|     160432|              0|             6707|2024-01-21 10:59:43|                  3.6|                   25|         9|           10|         Manhã|                    1|\n",
      "|   2024-01-23|2024-01-14T00:03:43Z|UCZD5qcen7lbLPFTj...|           VascoTV|          17|-JzAKMfuWy4|JOGO TREINO VASCO...|Inscreva-se na #V...|[Vasco, Vasco da ...|         PT44S|             225971|      10809|              0|              361|2024-01-23 20:01:20|                 0.73|                   54|         8|           20|         Noite|                    3|\n",
      "|   2024-01-23|2024-01-14T00:03:43Z|UCZD5qcen7lbLPFTj...|           VascoTV|          17|-JzAKMfuWy4|JOGO TREINO VASCO...|Inscreva-se na #V...|[Vasco, Vasco da ...|         PT44S|             225944|      10807|              0|              360|2024-01-23 17:08:29|                 0.73|                   54|         8|           17|         Tarde|                    2|\n",
      "|   2024-01-23|2024-01-14T00:03:43Z|UCZD5qcen7lbLPFTj...|           VascoTV|          17|-JzAKMfuWy4|JOGO TREINO VASCO...|Inscreva-se na #V...|[Vasco, Vasco da ...|         PT44S|             225884|      10805|              0|              360|2024-01-23 10:37:54|                 0.73|                   54|         8|           10|         Manhã|                    1|\n",
      "|   2024-01-22|2024-01-14T00:03:43Z|UCZD5qcen7lbLPFTj...|           VascoTV|          17|-JzAKMfuWy4|JOGO TREINO VASCO...|Inscreva-se na #V...|[Vasco, Vasco da ...|         PT44S|             225811|      10805|              0|              360|2024-01-22 21:15:15|                 0.73|                   54|         8|           21|         Noite|                    3|\n",
      "|   2024-01-22|2024-01-14T00:03:43Z|UCZD5qcen7lbLPFTj...|           VascoTV|          17|-JzAKMfuWy4|JOGO TREINO VASCO...|Inscreva-se na #V...|[Vasco, Vasco da ...|         PT44S|             225767|      10804|              0|              360|2024-01-22 16:54:55|                 0.73|                   54|         8|           16|         Tarde|                    2|\n",
      "+-------------+--------------------+--------------------+------------------+------------+-----------+--------------------+--------------------+--------------------+--------------+-------------------+-----------+---------------+-----------------+-------------------+---------------------+---------------------+----------+-------------+--------------+---------------------+\n",
      "only showing top 20 rows\n",
      "\n"
     ]
    }
   ],
   "source": [
    "df_trends = spark.read.parquet('/home/rodrigo/Documentos/projetos/analise_dados_youtube/dados/prata/arquivos_assuntos_trends.parquet')\n",
    "df_trends = transformacao_dataframe_trends(df_trends)\n",
    "criar_particao_ouro(dataframe=df_trends, nome_arquivo='estatisticas_trends.parquet')\n",
    "df_trends.show()"
   ]
  },
  {
   "cell_type": "code",
   "execution_count": 26,
   "metadata": {},
   "outputs": [],
   "source": [
    "spark.stop()"
   ]
  }
 ],
 "metadata": {
  "kernelspec": {
   "display_name": "venv",
   "language": "python",
   "name": "python3"
  },
  "language_info": {
   "codemirror_mode": {
    "name": "ipython",
    "version": 3
   },
   "file_extension": ".py",
   "mimetype": "text/x-python",
   "name": "python",
   "nbconvert_exporter": "python",
   "pygments_lexer": "ipython3",
   "version": "3.10.12"
  }
 },
 "nbformat": 4,
 "nbformat_minor": 2
}
