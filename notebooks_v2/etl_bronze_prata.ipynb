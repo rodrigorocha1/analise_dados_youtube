{
 "cells": [
  {
   "cell_type": "code",
   "execution_count": 14,
   "metadata": {},
   "outputs": [],
   "source": [
    "from pyspark.sql import SparkSession\n",
    "import pyspark.sql.functions as f\n",
    "import pickle\n",
    "from typing import List"
   ]
  },
  {
   "cell_type": "code",
   "execution_count": 41,
   "metadata": {},
   "outputs": [],
   "source": [
    "spark = SparkSession.builder.appName('Exploracao').getOrCreate()"
   ]
  },
  {
   "cell_type": "code",
   "execution_count": 38,
   "metadata": {},
   "outputs": [],
   "source": [
    "def fazer_transformacao_camada_prata(lista_assunto: List, lista_data: List):\n",
    "    spark = SparkSession.builder.appName('Exploracao').getOrCreate()\n",
    "    for assunto in lista_assunto:\n",
    "        for data in lista_data:\n",
    "            df_video_json = spark.read.json(f'../dados/bronze/assunto_{assunto}/{data}/estatisticas/req_video.json')\n",
    "            df_video_json = df_video_json.select(\n",
    "                'data_extracao',\n",
    "                f.explode('items').alias('items')\n",
    "            )\n",
    "            df_video_json = df_video_json.select(\n",
    "                'data_extracao',\n",
    "                f.col('items.id').alias('ID_VIDEO'),\n",
    "                f.col('items.snippet.publishedAt').alias('DATA_PUBLICACAO'),\n",
    "                f.col('items.snippet.channelId').alias('ID_CANAL'),\n",
    "                f.col('items.snippet.channelTitle').alias('NM_CANAL'),\n",
    "                f.col('items.snippet.categoryId').alias('ID_CATEGORIA'),\n",
    "                f.col('items.snippet.title').alias('TITULO_VIDEO'),\n",
    "                f.col('items.snippet.description').alias('DESCRICAO'),\n",
    "                f.col('items.snippet.tags').alias('TAGS'),\n",
    "                f.col('items.contentDetails.duration').alias('DURACAO_VIDEOS'),\n",
    "                f.col('items.statistics.viewCount').alias('TOTAL_VISUALIZACOES'),\n",
    "                f.col('items.statistics.likeCount').alias('TOTAL_LIKES'),\n",
    "                f.col('items.statistics.favoriteCount').alias('TOTAL_FAVORITOS'),\n",
    "                f.col('items.statistics.commentCount').alias('TOTAL_COMENTARIOS'),\n",
    "            ).sort(f.col(\"TOTAL_VISUALIZACOES\").desc())\n",
    "            df_video_json = df_video_json.withColumn('ASSUNTO', f.lit(f'assunto_{assunto}'))\n",
    "            df_video_json.write.mode('append').parquet('../dados/prata/arquivos_assuntos.parquet')\n",
    "    spark.stop()"
   ]
  },
  {
   "cell_type": "code",
   "execution_count": 16,
   "metadata": {},
   "outputs": [
    {
     "name": "stdout",
     "output_type": "stream",
     "text": [
      "+-------------------+--------------------+--------------------+--------------------+--------+\n",
      "|      data_extracao|                etag|               items|                kind|pageInfo|\n",
      "+-------------------+--------------------+--------------------+--------------------+--------+\n",
      "|2024-01-23 10:37:34|q8i-901LKIxeuVfbo...|[{{false, hd, 2d,...|youtube#videoList...|  {1, 1}|\n",
      "|2024-01-23 10:37:34|jZJPWIDBL3vKrFDwH...|[{{false, hd, 2d,...|youtube#videoList...|  {1, 1}|\n",
      "|2024-01-23 10:37:34|_94HWxFQluRa5aGnx...|[{{false, hd, 2d,...|youtube#videoList...|  {1, 1}|\n",
      "|2024-01-23 10:37:34|ddM0r9gLmEQdDP3xd...|[{{false, sd, 2d,...|youtube#videoList...|  {1, 1}|\n",
      "|2024-01-23 10:37:34|2v09ZAxp1sCZzTA88...|[{{false, hd, 2d,...|youtube#videoList...|  {1, 1}|\n",
      "|2024-01-23 10:37:34|ySqXveRJ57S1MIT59...|[{{false, hd, 2d,...|youtube#videoList...|  {1, 1}|\n",
      "|2024-01-23 10:37:34|W5AFCgNxVHD9KeDFY...|[{{false, hd, 2d,...|youtube#videoList...|  {1, 1}|\n",
      "|2024-01-23 10:37:35|ukJePRS3ofLnBqGKG...|[{{false, hd, 2d,...|youtube#videoList...|  {1, 1}|\n",
      "|2024-01-23 10:37:35|9WmrW6zwARXmD6rr2...|[{{false, hd, 2d,...|youtube#videoList...|  {1, 1}|\n",
      "|2024-01-23 10:37:35|J0huV6sloF2YwjdRP...|[{{false, hd, 2d,...|youtube#videoList...|  {1, 1}|\n",
      "|2024-01-23 10:37:35|5Ic9xCgrudHcX4t3s...|[{{false, hd, 2d,...|youtube#videoList...|  {1, 1}|\n",
      "|2024-01-23 10:37:35|6laE7pFcIBu5_si0M...|[{{false, hd, 2d,...|youtube#videoList...|  {1, 1}|\n",
      "|2024-01-23 10:37:35|SCcfFahHylmYksRVq...|[{{false, hd, 2d,...|youtube#videoList...|  {1, 1}|\n",
      "|2024-01-23 10:37:35|R2ZGTuvfC2jiqq7l0...|[{{false, hd, 2d,...|youtube#videoList...|  {1, 1}|\n",
      "|2024-01-23 10:37:35|t-1p0VRTbtgrzan5p...|[{{false, hd, 2d,...|youtube#videoList...|  {1, 1}|\n",
      "|2024-01-23 10:37:35|lH9l6K6ZPshF-wlWJ...|[{{false, hd, 2d,...|youtube#videoList...|  {1, 1}|\n",
      "|2024-01-23 10:37:35|s_mBI_McH5T_nEAVV...|[{{false, hd, 2d,...|youtube#videoList...|  {1, 1}|\n",
      "|2024-01-23 10:37:36|-6Uwmmn15yUAUuWuK...|[{{false, hd, 2d,...|youtube#videoList...|  {1, 1}|\n",
      "|2024-01-23 10:37:36|vziyr1Z4hEkc10AoO...|[{{false, hd, 2d,...|youtube#videoList...|  {1, 1}|\n",
      "|2024-01-23 10:37:36|KhBsxqDzWl25TbMGf...|[{{false, hd, 2d,...|youtube#videoList...|  {1, 1}|\n",
      "+-------------------+--------------------+--------------------+--------------------+--------+\n",
      "only showing top 20 rows\n",
      "\n"
     ]
    }
   ],
   "source": [
    "df_video_json = spark.read.json('../dados/bronze/assunto_cities_skylines/extracao_data_*/estatisticas/*.json')\n",
    "df_video_json.show()"
   ]
  },
  {
   "cell_type": "code",
   "execution_count": 17,
   "metadata": {},
   "outputs": [],
   "source": [
    "df_video_json = df_video_json.select(\n",
    "    'data_extracao',\n",
    "      f.explode('items').alias('items')\n",
    ")"
   ]
  },
  {
   "cell_type": "code",
   "execution_count": 18,
   "metadata": {},
   "outputs": [
    {
     "name": "stdout",
     "output_type": "stream",
     "text": [
      "+-------------------+--------------------+\n",
      "|      data_extracao|               items|\n",
      "+-------------------+--------------------+\n",
      "|2024-01-23 10:37:34|{{false, hd, 2d, ...|\n",
      "|2024-01-23 10:37:34|{{false, hd, 2d, ...|\n",
      "|2024-01-23 10:37:34|{{false, hd, 2d, ...|\n",
      "|2024-01-23 10:37:34|{{false, sd, 2d, ...|\n",
      "|2024-01-23 10:37:34|{{false, hd, 2d, ...|\n",
      "|2024-01-23 10:37:34|{{false, hd, 2d, ...|\n",
      "|2024-01-23 10:37:34|{{false, hd, 2d, ...|\n",
      "|2024-01-23 10:37:35|{{false, hd, 2d, ...|\n",
      "|2024-01-23 10:37:35|{{false, hd, 2d, ...|\n",
      "|2024-01-23 10:37:35|{{false, hd, 2d, ...|\n",
      "|2024-01-23 10:37:35|{{false, hd, 2d, ...|\n",
      "|2024-01-23 10:37:35|{{false, hd, 2d, ...|\n",
      "|2024-01-23 10:37:35|{{false, hd, 2d, ...|\n",
      "|2024-01-23 10:37:35|{{false, hd, 2d, ...|\n",
      "|2024-01-23 10:37:35|{{false, hd, 2d, ...|\n",
      "|2024-01-23 10:37:35|{{false, hd, 2d, ...|\n",
      "|2024-01-23 10:37:35|{{false, hd, 2d, ...|\n",
      "|2024-01-23 10:37:36|{{false, hd, 2d, ...|\n",
      "|2024-01-23 10:37:36|{{false, hd, 2d, ...|\n",
      "|2024-01-23 10:37:36|{{false, hd, 2d, ...|\n",
      "+-------------------+--------------------+\n",
      "only showing top 20 rows\n",
      "\n"
     ]
    }
   ],
   "source": [
    "df_video_json.show()"
   ]
  },
  {
   "cell_type": "code",
   "execution_count": 19,
   "metadata": {},
   "outputs": [
    {
     "name": "stdout",
     "output_type": "stream",
     "text": [
      "+-------------------+-----------+--------------------+--------------------+--------------------+------------+--------------------+--------------------+--------------------+--------------+-------------------+-----------+---------------+-----------------+-------+\n",
      "|      data_extracao|   ID_VIDEO|     DATA_PUBLICACAO|            ID_CANAL|            NM_CANAL|ID_CATEGORIA|        TITULO_VIDEO|           DESCRICAO|                TAGS|DURACAO_VIDEOS|TOTAL_VISUALIZACOES|TOTAL_LIKES|TOTAL_FAVORITOS|TOTAL_COMENTARIOS|ASSUNTO|\n",
      "+-------------------+-----------+--------------------+--------------------+--------------------+------------+--------------------+--------------------+--------------------+--------------+-------------------+-----------+---------------+-----------------+-------+\n",
      "|2024-01-22 16:54:36|5QRCMkPPr2U|2024-01-17T21:00:03Z|UCL5k8vBBo1JOHh7A...|       JulioGameplay|          20|JOGANDO Buckshot ...|buckshot roulette...|[buckshot roulett...|         PT57S|               9909|        535|              0|                8|ASSUNTO|\n",
      "|2024-01-22 11:04:57|qSIEeybcrV0|2024-01-18T21:30:08Z|UCIv5D2ro1owj6P7O...|BL4D3N | Cities S...|          20|Como FICAR RICO c...|Salve, galera!\\n\\...|[Cities Skylines ...|      PT21M12S|                 99|          8|              0|                5|ASSUNTO|\n",
      "|2024-01-20 21:52:15|D8mQZAv_tQU|2024-01-18T15:00:08Z|UCrOH1V-FyMunBIMr...|     ChratosGameplay|          20|ALCANÇANDO 10000 ...|Nessa primeira sé...|[highrise city, h...|      PT26M39S|               9895|       1240|              0|               30|ASSUNTO|\n",
      "|2024-01-23 20:00:56|38KqRAlHM2I|2024-01-21T23:00:01Z|UCL5k8vBBo1JOHh7A...|       JulioGameplay|          20|SOU MUITO BOM NO ...|buckshot roulette...|[buckshot roulett...|         PT59S|               9882|        609|              0|               13|ASSUNTO|\n",
      "|2024-01-20 21:52:14|4WrWq5vJjXk|2024-01-18T01:00:03Z|UCL5k8vBBo1JOHh7A...|       JulioGameplay|          20|MINHA SORTE ACABO...|buckshot roulette...|[buckshot roulett...|         PT37S|               9849|        404|              0|                8|ASSUNTO|\n",
      "|2024-01-23 17:08:10|38KqRAlHM2I|2024-01-21T23:00:01Z|UCL5k8vBBo1JOHh7A...|       JulioGameplay|          20|SOU MUITO BOM NO ...|buckshot roulette...|[buckshot roulett...|         PT59S|               9806|        605|              0|               13|ASSUNTO|\n",
      "|2024-01-22 11:04:57|tRIN8oo2Z60|2024-01-20T15:00:45Z|UCD9YHClUr3tSoAm-...|               Rivas|          20|Cities: Skylines ...|📢 Apoie o Nosso ...|                null|     PT1H1M34S|                 98|         17|              0|                2|ASSUNTO|\n",
      "|2024-01-20 17:35:32|4WrWq5vJjXk|2024-01-18T01:00:03Z|UCL5k8vBBo1JOHh7A...|       JulioGameplay|          20|MINHA SORTE ACABO...|buckshot roulette...|[buckshot roulett...|         PT37S|               9791|        402|              0|                8|ASSUNTO|\n",
      "|2024-01-20 17:35:32|D8mQZAv_tQU|2024-01-18T15:00:08Z|UCrOH1V-FyMunBIMr...|     ChratosGameplay|          20|ALCANÇANDO 10000 ...|Nessa primeira sé...|[highrise city, h...|      PT26M39S|               9777|       1228|              0|               30|ASSUNTO|\n",
      "|2024-01-20 11:01:37|AFLjPQpxAso|2024-01-18T23:00:08Z|UCL5k8vBBo1JOHh7A...|       JulioGameplay|          20|MUITO AZAR  E POU...|buckshot roulette...|[buckshot roulett...|         PT48S|               9768|        446|              0|               10|ASSUNTO|\n",
      "|2024-01-23 17:08:05|q4gfnofyqPA|2024-01-22T19:00:32Z|UCL5k8vBBo1JOHh7A...|       JulioGameplay|          20|Jogando CONTEXTO ...|AJUDE O CANAL A M...|[shorts, youtube ...|         PT54S|                976|         78|              0|                6|ASSUNTO|\n",
      "|2024-01-20 11:01:37|4WrWq5vJjXk|2024-01-18T01:00:03Z|UCL5k8vBBo1JOHh7A...|       JulioGameplay|          20|MINHA SORTE ACABO...|buckshot roulette...|[buckshot roulett...|         PT37S|               9708|        397|              0|                8|ASSUNTO|\n",
      "|2024-01-21 21:33:53|tRIN8oo2Z60|2024-01-20T15:00:45Z|UCD9YHClUr3tSoAm-...|               Rivas|          20|Cities: Skylines ...|📢 Apoie o Nosso ...|                null|     PT1H1M34S|                 97|         17|              0|                2|ASSUNTO|\n",
      "|2024-01-22 11:04:55|MCucUqIia7E|2024-01-21T15:00:15Z|UCD9YHClUr3tSoAm-...|               Rivas|          20|Cities: Skylines ...|📢 Apoie o Nosso ...|                null|     PT1H11M2S|                 97|         18|              0|                2|ASSUNTO|\n",
      "|2024-01-20 21:52:17|USP-svPrOME|2024-01-19T21:30:02Z|UCpA7ooMrd0-LLGlP...|           scrollzxx|          20|SA:MP #15 o hotwh...|━─────╮•╭─────━\\n...|[gta, mta, samp, ...|       PT2M29S|                 97|         19|              0|               33|ASSUNTO|\n",
      "|2024-01-23 10:37:40|38KqRAlHM2I|2024-01-21T23:00:01Z|UCL5k8vBBo1JOHh7A...|       JulioGameplay|          20|SOU MUITO BOM NO ...|buckshot roulette...|[buckshot roulett...|         PT59S|               9632|        595|              0|               13|ASSUNTO|\n",
      "|2024-01-20 11:01:37|mGtCSlnvvIE|2024-01-19T15:00:41Z|UCrOH1V-FyMunBIMr...|     ChratosGameplay|          20|PRIMEIRO PARQUE C...|Nossa PRIMEIRA CI...|[cities skylines,...|       PT35M6S|               9615|       1426|              0|               78|ASSUNTO|\n",
      "|2024-01-20 11:01:36|D8mQZAv_tQU|2024-01-18T15:00:08Z|UCrOH1V-FyMunBIMr...|     ChratosGameplay|          20|ALCANÇANDO 10000 ...|Nessa primeira sé...|[highrise city, h...|      PT26M39S|               9526|       1202|              0|               30|ASSUNTO|\n",
      "|2024-01-19 21:57:16|WUEJ4FcN5_E|2024-01-18T09:00:31Z|UCPmECmi5UoEt4c0W...|               Pires|          20|FIQUEI RICO COM O...|ABRA E TENHA UMA ...|[maxpalaro, citie...|      PT17M12S|                 94|         10|              0|                2|ASSUNTO|\n",
      "|2024-01-21 16:52:29|tRIN8oo2Z60|2024-01-20T15:00:45Z|UCD9YHClUr3tSoAm-...|               Rivas|          20|Cities: Skylines ...|📢 Apoie o Nosso ...|                null|     PT1H1M34S|                 94|         17|              0|                2|ASSUNTO|\n",
      "+-------------------+-----------+--------------------+--------------------+--------------------+------------+--------------------+--------------------+--------------------+--------------+-------------------+-----------+---------------+-----------------+-------+\n",
      "only showing top 20 rows\n",
      "\n"
     ]
    }
   ],
   "source": [
    "df_video_json = df_video_json.select(\n",
    "    'data_extracao',\n",
    "    f.col('items.id').alias('ID_VIDEO'),\n",
    "    f.col('items.snippet.publishedAt').alias('DATA_PUBLICACAO'),\n",
    "    f.col('items.snippet.channelId').alias('ID_CANAL'),\n",
    "    f.col('items.snippet.channelTitle').alias('NM_CANAL'),\n",
    "    f.col('items.snippet.categoryId').alias('ID_CATEGORIA'),\n",
    "    f.col('items.snippet.title').alias('TITULO_VIDEO'),\n",
    "    f.col('items.snippet.description').alias('DESCRICAO'),\n",
    "    f.col('items.snippet.tags').alias('TAGS'),\n",
    "    f.col('items.contentDetails.duration').alias('DURACAO_VIDEOS'),\n",
    "    f.col('items.statistics.viewCount').alias('TOTAL_VISUALIZACOES'),\n",
    "    f.col('items.statistics.likeCount').alias('TOTAL_LIKES'),\n",
    "    f.col('items.statistics.favoriteCount').alias('TOTAL_FAVORITOS'),\n",
    "    f.col('items.statistics.commentCount').alias('TOTAL_COMENTARIOS'),\n",
    "    \n",
    ").sort(f.col(\"TOTAL_VISUALIZACOES\").desc())\n",
    "df_video_json = df_video_json.withColumn('ASSUNTO', f.lit('ASSUNTO'))\n",
    "df_video_json.show()"
   ]
  },
  {
   "cell_type": "code",
   "execution_count": 39,
   "metadata": {},
   "outputs": [],
   "source": [
    "lista_assunto = [\n",
    "    'power_bi',\n",
    "    'python_and_dados',\n",
    "    'cities_skylines',\n",
    "    'cities_skylines_2',\n",
    "    'linux',\n",
    "    'linux_gamming',\n",
    "    'genshin_impact',\n",
    "    'zelda'\n",
    "]\n",
    "\n",
    "datas = [\n",
    "    'extracao_data_2024_01_17',\n",
    "    'extracao_data_2024_01_18',\n",
    "    'extracao_data_2024_01_19',\n",
    "    'extracao_data_2024_01_20',\n",
    "    'extracao_data_2024_01_21',\n",
    "    'extracao_data_2024_01_22',\n",
    "    'extracao_data_2024_01_23',\n",
    "]\n",
    "fazer_transformacao_camada_prata(lista_assunto=lista_assunto, lista_data=datas)"
   ]
  },
  {
   "cell_type": "code",
   "execution_count": 40,
   "metadata": {},
   "outputs": [
    {
     "ename": "Py4JJavaError",
     "evalue": "An error occurred while calling o7388.parquet.\n: java.lang.IllegalStateException: Cannot call methods on a stopped SparkContext.\nThis stopped SparkContext was created at:\n\norg.apache.spark.api.java.JavaSparkContext.<init>(JavaSparkContext.scala:58)\nsun.reflect.NativeConstructorAccessorImpl.newInstance0(Native Method)\nsun.reflect.NativeConstructorAccessorImpl.newInstance(NativeConstructorAccessorImpl.java:62)\nsun.reflect.DelegatingConstructorAccessorImpl.newInstance(DelegatingConstructorAccessorImpl.java:45)\njava.lang.reflect.Constructor.newInstance(Constructor.java:423)\npy4j.reflection.MethodInvoker.invoke(MethodInvoker.java:247)\npy4j.reflection.ReflectionEngine.invoke(ReflectionEngine.java:357)\npy4j.Gateway.invoke(Gateway.java:238)\npy4j.commands.ConstructorCommand.invokeConstructor(ConstructorCommand.java:80)\npy4j.commands.ConstructorCommand.execute(ConstructorCommand.java:69)\npy4j.ClientServerConnection.waitForCommands(ClientServerConnection.java:182)\npy4j.ClientServerConnection.run(ClientServerConnection.java:106)\njava.lang.Thread.run(Thread.java:750)\n\nThe currently active SparkContext was created at:\n\n(No active SparkContext.)\n         \n\tat org.apache.spark.SparkContext.assertNotStopped(SparkContext.scala:120)\n\tat org.apache.spark.SparkContext.defaultParallelism(SparkContext.scala:2524)\n\tat org.apache.spark.sql.execution.datasources.SchemaMergeUtils$.mergeSchemasInParallel(SchemaMergeUtils.scala:61)\n\tat org.apache.spark.sql.execution.datasources.parquet.ParquetFileFormat$.mergeSchemasInParallel(ParquetFileFormat.scala:527)\n\tat org.apache.spark.sql.execution.datasources.parquet.ParquetUtils$.inferSchema(ParquetUtils.scala:125)\n\tat org.apache.spark.sql.execution.datasources.parquet.ParquetFileFormat.inferSchema(ParquetFileFormat.scala:168)\n\tat org.apache.spark.sql.execution.datasources.DataSource.$anonfun$getOrInferFileFormatSchema$11(DataSource.scala:210)\n\tat scala.Option.orElse(Option.scala:447)\n\tat org.apache.spark.sql.execution.datasources.DataSource.getOrInferFileFormatSchema(DataSource.scala:207)\n\tat org.apache.spark.sql.execution.datasources.DataSource.resolveRelation(DataSource.scala:411)\n\tat org.apache.spark.sql.DataFrameReader.loadV1Source(DataFrameReader.scala:228)\n\tat org.apache.spark.sql.DataFrameReader.$anonfun$load$2(DataFrameReader.scala:210)\n\tat scala.Option.getOrElse(Option.scala:189)\n\tat org.apache.spark.sql.DataFrameReader.load(DataFrameReader.scala:210)\n\tat org.apache.spark.sql.DataFrameReader.parquet(DataFrameReader.scala:562)\n\tat sun.reflect.NativeMethodAccessorImpl.invoke0(Native Method)\n\tat sun.reflect.NativeMethodAccessorImpl.invoke(NativeMethodAccessorImpl.java:62)\n\tat sun.reflect.DelegatingMethodAccessorImpl.invoke(DelegatingMethodAccessorImpl.java:43)\n\tat java.lang.reflect.Method.invoke(Method.java:498)\n\tat py4j.reflection.MethodInvoker.invoke(MethodInvoker.java:244)\n\tat py4j.reflection.ReflectionEngine.invoke(ReflectionEngine.java:357)\n\tat py4j.Gateway.invoke(Gateway.java:282)\n\tat py4j.commands.AbstractCommand.invokeMethod(AbstractCommand.java:132)\n\tat py4j.commands.CallCommand.execute(CallCommand.java:79)\n\tat py4j.ClientServerConnection.waitForCommands(ClientServerConnection.java:182)\n\tat py4j.ClientServerConnection.run(ClientServerConnection.java:106)\n\tat java.lang.Thread.run(Thread.java:750)\n",
     "output_type": "error",
     "traceback": [
      "\u001b[0;31m---------------------------------------------------------------------------\u001b[0m",
      "\u001b[0;31mPy4JJavaError\u001b[0m                             Traceback (most recent call last)",
      "Cell \u001b[0;32mIn[40], line 1\u001b[0m\n\u001b[0;32m----> 1\u001b[0m df_teste \u001b[38;5;241m=\u001b[39m \u001b[43mspark\u001b[49m\u001b[38;5;241;43m.\u001b[39;49m\u001b[43mread\u001b[49m\u001b[38;5;241;43m.\u001b[39;49m\u001b[43mparquet\u001b[49m\u001b[43m(\u001b[49m\u001b[38;5;124;43m'\u001b[39;49m\u001b[38;5;124;43m../dados/prata/arquivos_assuntos.parquet\u001b[39;49m\u001b[38;5;124;43m'\u001b[39;49m\u001b[43m)\u001b[49m\n\u001b[1;32m      2\u001b[0m df_teste\u001b[38;5;241m.\u001b[39mshow()\n",
      "File \u001b[0;32m~/Documentos/projetos/analise_dados_youtube/venv/lib/python3.10/site-packages/pyspark/sql/readwriter.py:364\u001b[0m, in \u001b[0;36mDataFrameReader.parquet\u001b[0;34m(self, *paths, **options)\u001b[0m\n\u001b[1;32m    353\u001b[0m int96RebaseMode \u001b[38;5;241m=\u001b[39m options\u001b[38;5;241m.\u001b[39mget(\u001b[38;5;124m\"\u001b[39m\u001b[38;5;124mint96RebaseMode\u001b[39m\u001b[38;5;124m\"\u001b[39m, \u001b[38;5;28;01mNone\u001b[39;00m)\n\u001b[1;32m    354\u001b[0m \u001b[38;5;28mself\u001b[39m\u001b[38;5;241m.\u001b[39m_set_opts(\n\u001b[1;32m    355\u001b[0m     mergeSchema\u001b[38;5;241m=\u001b[39mmergeSchema,\n\u001b[1;32m    356\u001b[0m     pathGlobFilter\u001b[38;5;241m=\u001b[39mpathGlobFilter,\n\u001b[0;32m   (...)\u001b[0m\n\u001b[1;32m    361\u001b[0m     int96RebaseMode\u001b[38;5;241m=\u001b[39mint96RebaseMode,\n\u001b[1;32m    362\u001b[0m )\n\u001b[0;32m--> 364\u001b[0m \u001b[38;5;28;01mreturn\u001b[39;00m \u001b[38;5;28mself\u001b[39m\u001b[38;5;241m.\u001b[39m_df(\u001b[38;5;28;43mself\u001b[39;49m\u001b[38;5;241;43m.\u001b[39;49m\u001b[43m_jreader\u001b[49m\u001b[38;5;241;43m.\u001b[39;49m\u001b[43mparquet\u001b[49m\u001b[43m(\u001b[49m\u001b[43m_to_seq\u001b[49m\u001b[43m(\u001b[49m\u001b[38;5;28;43mself\u001b[39;49m\u001b[38;5;241;43m.\u001b[39;49m\u001b[43m_spark\u001b[49m\u001b[38;5;241;43m.\u001b[39;49m\u001b[43m_sc\u001b[49m\u001b[43m,\u001b[49m\u001b[43m \u001b[49m\u001b[43mpaths\u001b[49m\u001b[43m)\u001b[49m\u001b[43m)\u001b[49m)\n",
      "File \u001b[0;32m~/Documentos/projetos/analise_dados_youtube/venv/lib/python3.10/site-packages/py4j/java_gateway.py:1321\u001b[0m, in \u001b[0;36mJavaMember.__call__\u001b[0;34m(self, *args)\u001b[0m\n\u001b[1;32m   1315\u001b[0m command \u001b[38;5;241m=\u001b[39m proto\u001b[38;5;241m.\u001b[39mCALL_COMMAND_NAME \u001b[38;5;241m+\u001b[39m\\\n\u001b[1;32m   1316\u001b[0m     \u001b[38;5;28mself\u001b[39m\u001b[38;5;241m.\u001b[39mcommand_header \u001b[38;5;241m+\u001b[39m\\\n\u001b[1;32m   1317\u001b[0m     args_command \u001b[38;5;241m+\u001b[39m\\\n\u001b[1;32m   1318\u001b[0m     proto\u001b[38;5;241m.\u001b[39mEND_COMMAND_PART\n\u001b[1;32m   1320\u001b[0m answer \u001b[38;5;241m=\u001b[39m \u001b[38;5;28mself\u001b[39m\u001b[38;5;241m.\u001b[39mgateway_client\u001b[38;5;241m.\u001b[39msend_command(command)\n\u001b[0;32m-> 1321\u001b[0m return_value \u001b[38;5;241m=\u001b[39m \u001b[43mget_return_value\u001b[49m\u001b[43m(\u001b[49m\n\u001b[1;32m   1322\u001b[0m \u001b[43m    \u001b[49m\u001b[43manswer\u001b[49m\u001b[43m,\u001b[49m\u001b[43m \u001b[49m\u001b[38;5;28;43mself\u001b[39;49m\u001b[38;5;241;43m.\u001b[39;49m\u001b[43mgateway_client\u001b[49m\u001b[43m,\u001b[49m\u001b[43m \u001b[49m\u001b[38;5;28;43mself\u001b[39;49m\u001b[38;5;241;43m.\u001b[39;49m\u001b[43mtarget_id\u001b[49m\u001b[43m,\u001b[49m\u001b[43m \u001b[49m\u001b[38;5;28;43mself\u001b[39;49m\u001b[38;5;241;43m.\u001b[39;49m\u001b[43mname\u001b[49m\u001b[43m)\u001b[49m\n\u001b[1;32m   1324\u001b[0m \u001b[38;5;28;01mfor\u001b[39;00m temp_arg \u001b[38;5;129;01min\u001b[39;00m temp_args:\n\u001b[1;32m   1325\u001b[0m     temp_arg\u001b[38;5;241m.\u001b[39m_detach()\n",
      "File \u001b[0;32m~/Documentos/projetos/analise_dados_youtube/venv/lib/python3.10/site-packages/pyspark/sql/utils.py:190\u001b[0m, in \u001b[0;36mcapture_sql_exception.<locals>.deco\u001b[0;34m(*a, **kw)\u001b[0m\n\u001b[1;32m    188\u001b[0m \u001b[38;5;28;01mdef\u001b[39;00m \u001b[38;5;21mdeco\u001b[39m(\u001b[38;5;241m*\u001b[39ma: Any, \u001b[38;5;241m*\u001b[39m\u001b[38;5;241m*\u001b[39mkw: Any) \u001b[38;5;241m-\u001b[39m\u001b[38;5;241m>\u001b[39m Any:\n\u001b[1;32m    189\u001b[0m     \u001b[38;5;28;01mtry\u001b[39;00m:\n\u001b[0;32m--> 190\u001b[0m         \u001b[38;5;28;01mreturn\u001b[39;00m \u001b[43mf\u001b[49m\u001b[43m(\u001b[49m\u001b[38;5;241;43m*\u001b[39;49m\u001b[43ma\u001b[49m\u001b[43m,\u001b[49m\u001b[43m \u001b[49m\u001b[38;5;241;43m*\u001b[39;49m\u001b[38;5;241;43m*\u001b[39;49m\u001b[43mkw\u001b[49m\u001b[43m)\u001b[49m\n\u001b[1;32m    191\u001b[0m     \u001b[38;5;28;01mexcept\u001b[39;00m Py4JJavaError \u001b[38;5;28;01mas\u001b[39;00m e:\n\u001b[1;32m    192\u001b[0m         converted \u001b[38;5;241m=\u001b[39m convert_exception(e\u001b[38;5;241m.\u001b[39mjava_exception)\n",
      "File \u001b[0;32m~/Documentos/projetos/analise_dados_youtube/venv/lib/python3.10/site-packages/py4j/protocol.py:326\u001b[0m, in \u001b[0;36mget_return_value\u001b[0;34m(answer, gateway_client, target_id, name)\u001b[0m\n\u001b[1;32m    324\u001b[0m value \u001b[38;5;241m=\u001b[39m OUTPUT_CONVERTER[\u001b[38;5;28mtype\u001b[39m](answer[\u001b[38;5;241m2\u001b[39m:], gateway_client)\n\u001b[1;32m    325\u001b[0m \u001b[38;5;28;01mif\u001b[39;00m answer[\u001b[38;5;241m1\u001b[39m] \u001b[38;5;241m==\u001b[39m REFERENCE_TYPE:\n\u001b[0;32m--> 326\u001b[0m     \u001b[38;5;28;01mraise\u001b[39;00m Py4JJavaError(\n\u001b[1;32m    327\u001b[0m         \u001b[38;5;124m\"\u001b[39m\u001b[38;5;124mAn error occurred while calling \u001b[39m\u001b[38;5;132;01m{0}\u001b[39;00m\u001b[38;5;132;01m{1}\u001b[39;00m\u001b[38;5;132;01m{2}\u001b[39;00m\u001b[38;5;124m.\u001b[39m\u001b[38;5;130;01m\\n\u001b[39;00m\u001b[38;5;124m\"\u001b[39m\u001b[38;5;241m.\u001b[39m\n\u001b[1;32m    328\u001b[0m         \u001b[38;5;28mformat\u001b[39m(target_id, \u001b[38;5;124m\"\u001b[39m\u001b[38;5;124m.\u001b[39m\u001b[38;5;124m\"\u001b[39m, name), value)\n\u001b[1;32m    329\u001b[0m \u001b[38;5;28;01melse\u001b[39;00m:\n\u001b[1;32m    330\u001b[0m     \u001b[38;5;28;01mraise\u001b[39;00m Py4JError(\n\u001b[1;32m    331\u001b[0m         \u001b[38;5;124m\"\u001b[39m\u001b[38;5;124mAn error occurred while calling \u001b[39m\u001b[38;5;132;01m{0}\u001b[39;00m\u001b[38;5;132;01m{1}\u001b[39;00m\u001b[38;5;132;01m{2}\u001b[39;00m\u001b[38;5;124m. Trace:\u001b[39m\u001b[38;5;130;01m\\n\u001b[39;00m\u001b[38;5;132;01m{3}\u001b[39;00m\u001b[38;5;130;01m\\n\u001b[39;00m\u001b[38;5;124m\"\u001b[39m\u001b[38;5;241m.\u001b[39m\n\u001b[1;32m    332\u001b[0m         \u001b[38;5;28mformat\u001b[39m(target_id, \u001b[38;5;124m\"\u001b[39m\u001b[38;5;124m.\u001b[39m\u001b[38;5;124m\"\u001b[39m, name, value))\n",
      "\u001b[0;31mPy4JJavaError\u001b[0m: An error occurred while calling o7388.parquet.\n: java.lang.IllegalStateException: Cannot call methods on a stopped SparkContext.\nThis stopped SparkContext was created at:\n\norg.apache.spark.api.java.JavaSparkContext.<init>(JavaSparkContext.scala:58)\nsun.reflect.NativeConstructorAccessorImpl.newInstance0(Native Method)\nsun.reflect.NativeConstructorAccessorImpl.newInstance(NativeConstructorAccessorImpl.java:62)\nsun.reflect.DelegatingConstructorAccessorImpl.newInstance(DelegatingConstructorAccessorImpl.java:45)\njava.lang.reflect.Constructor.newInstance(Constructor.java:423)\npy4j.reflection.MethodInvoker.invoke(MethodInvoker.java:247)\npy4j.reflection.ReflectionEngine.invoke(ReflectionEngine.java:357)\npy4j.Gateway.invoke(Gateway.java:238)\npy4j.commands.ConstructorCommand.invokeConstructor(ConstructorCommand.java:80)\npy4j.commands.ConstructorCommand.execute(ConstructorCommand.java:69)\npy4j.ClientServerConnection.waitForCommands(ClientServerConnection.java:182)\npy4j.ClientServerConnection.run(ClientServerConnection.java:106)\njava.lang.Thread.run(Thread.java:750)\n\nThe currently active SparkContext was created at:\n\n(No active SparkContext.)\n         \n\tat org.apache.spark.SparkContext.assertNotStopped(SparkContext.scala:120)\n\tat org.apache.spark.SparkContext.defaultParallelism(SparkContext.scala:2524)\n\tat org.apache.spark.sql.execution.datasources.SchemaMergeUtils$.mergeSchemasInParallel(SchemaMergeUtils.scala:61)\n\tat org.apache.spark.sql.execution.datasources.parquet.ParquetFileFormat$.mergeSchemasInParallel(ParquetFileFormat.scala:527)\n\tat org.apache.spark.sql.execution.datasources.parquet.ParquetUtils$.inferSchema(ParquetUtils.scala:125)\n\tat org.apache.spark.sql.execution.datasources.parquet.ParquetFileFormat.inferSchema(ParquetFileFormat.scala:168)\n\tat org.apache.spark.sql.execution.datasources.DataSource.$anonfun$getOrInferFileFormatSchema$11(DataSource.scala:210)\n\tat scala.Option.orElse(Option.scala:447)\n\tat org.apache.spark.sql.execution.datasources.DataSource.getOrInferFileFormatSchema(DataSource.scala:207)\n\tat org.apache.spark.sql.execution.datasources.DataSource.resolveRelation(DataSource.scala:411)\n\tat org.apache.spark.sql.DataFrameReader.loadV1Source(DataFrameReader.scala:228)\n\tat org.apache.spark.sql.DataFrameReader.$anonfun$load$2(DataFrameReader.scala:210)\n\tat scala.Option.getOrElse(Option.scala:189)\n\tat org.apache.spark.sql.DataFrameReader.load(DataFrameReader.scala:210)\n\tat org.apache.spark.sql.DataFrameReader.parquet(DataFrameReader.scala:562)\n\tat sun.reflect.NativeMethodAccessorImpl.invoke0(Native Method)\n\tat sun.reflect.NativeMethodAccessorImpl.invoke(NativeMethodAccessorImpl.java:62)\n\tat sun.reflect.DelegatingMethodAccessorImpl.invoke(DelegatingMethodAccessorImpl.java:43)\n\tat java.lang.reflect.Method.invoke(Method.java:498)\n\tat py4j.reflection.MethodInvoker.invoke(MethodInvoker.java:244)\n\tat py4j.reflection.ReflectionEngine.invoke(ReflectionEngine.java:357)\n\tat py4j.Gateway.invoke(Gateway.java:282)\n\tat py4j.commands.AbstractCommand.invokeMethod(AbstractCommand.java:132)\n\tat py4j.commands.CallCommand.execute(CallCommand.java:79)\n\tat py4j.ClientServerConnection.waitForCommands(ClientServerConnection.java:182)\n\tat py4j.ClientServerConnection.run(ClientServerConnection.java:106)\n\tat java.lang.Thread.run(Thread.java:750)\n"
     ]
    }
   ],
   "source": [
    "df_teste = spark.read.parquet('../dados/prata/arquivos_assuntos.parquet')\n",
    "df_teste.show()"
   ]
  },
  {
   "cell_type": "code",
   "execution_count": 37,
   "metadata": {},
   "outputs": [
    {
     "name": "stdout",
     "output_type": "stream",
     "text": [
      "+-------------------------+\n",
      "|ASSUNTO                  |\n",
      "+-------------------------+\n",
      "|ASSUNTO_genshin_impact   |\n",
      "|ASSUNTO_linux            |\n",
      "|ASSUNTO_python_and_dados |\n",
      "|ASSUNTO_power_bi         |\n",
      "|ASSUNTO_linux_gamming    |\n",
      "|ASSUNTO_zelda            |\n",
      "|ASSUNTO_cities_skylines_2|\n",
      "|ASSUNTO_cities_skylines  |\n",
      "+-------------------------+\n",
      "\n"
     ]
    }
   ],
   "source": [
    "df_teste.select('ASSUNTO').distinct().show(truncate=False)"
   ]
  }
 ],
 "metadata": {
  "kernelspec": {
   "display_name": "venv",
   "language": "python",
   "name": "python3"
  },
  "language_info": {
   "codemirror_mode": {
    "name": "ipython",
    "version": 3
   },
   "file_extension": ".py",
   "mimetype": "text/x-python",
   "name": "python",
   "nbconvert_exporter": "python",
   "pygments_lexer": "ipython3",
   "version": "3.10.12"
  }
 },
 "nbformat": 4,
 "nbformat_minor": 2
}
