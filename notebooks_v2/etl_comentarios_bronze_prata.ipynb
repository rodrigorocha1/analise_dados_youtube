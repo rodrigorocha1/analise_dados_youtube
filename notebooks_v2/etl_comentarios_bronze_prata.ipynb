{
 "cells": [
  {
   "cell_type": "code",
   "execution_count": 199,
   "metadata": {},
   "outputs": [],
   "source": [
    "from pyspark.sql import SparkSession, DataFrame\n",
    "import pyspark.sql.functions as f\n",
    "from functools import reduce\n",
    "import pandas as pd\n",
    "import pickle\n",
    "from typing import List"
   ]
  },
  {
   "cell_type": "code",
   "execution_count": 200,
   "metadata": {},
   "outputs": [],
   "source": [
    "spark = SparkSession.builder.appName('Exploracao').getOrCreate()"
   ]
  },
  {
   "cell_type": "markdown",
   "metadata": {},
   "source": [
    "# Comentários"
   ]
  },
  {
   "cell_type": "code",
   "execution_count": 201,
   "metadata": {},
   "outputs": [],
   "source": [
    "lista_assunto = [\n",
    "    'power_bi',\n",
    "    'python_and_dados',\n",
    "    'cities_skylines',\n",
    "    'cities_skylines_2',\n",
    "    'linux',\n",
    "    'linux_gamming',\n",
    "    'genshin_impact',\n",
    "    'zelda'\n",
    "]\n",
    "\n",
    "datas = [\n",
    "    'extracao_data_2024_01_17',\n",
    "    'extracao_data_2024_01_18',\n",
    "    'extracao_data_2024_01_19',\n",
    "    'extracao_data_2024_01_20',\n",
    "    'extracao_data_2024_01_21',\n",
    "    'extracao_data_2024_01_22',\n",
    "    'extracao_data_2024_01_23',\n",
    "]"
   ]
  },
  {
   "cell_type": "code",
   "execution_count": 202,
   "metadata": {},
   "outputs": [],
   "source": [
    "df_comentarios = spark.read.json(f'../dados/bronze/assunto_power_bi/extracao_data_2024_01_17/comentarios/req_comentarios.json')"
   ]
  },
  {
   "cell_type": "code",
   "execution_count": 203,
   "metadata": {},
   "outputs": [
    {
     "name": "stdout",
     "output_type": "stream",
     "text": [
      "root\n",
      " |-- data_extracao: string (nullable = true)\n",
      " |-- etag: string (nullable = true)\n",
      " |-- items: array (nullable = true)\n",
      " |    |-- element: struct (containsNull = true)\n",
      " |    |    |-- etag: string (nullable = true)\n",
      " |    |    |-- id: string (nullable = true)\n",
      " |    |    |-- kind: string (nullable = true)\n",
      " |    |    |-- snippet: struct (nullable = true)\n",
      " |    |    |    |-- canReply: boolean (nullable = true)\n",
      " |    |    |    |-- channelId: string (nullable = true)\n",
      " |    |    |    |-- isPublic: boolean (nullable = true)\n",
      " |    |    |    |-- topLevelComment: struct (nullable = true)\n",
      " |    |    |    |    |-- etag: string (nullable = true)\n",
      " |    |    |    |    |-- id: string (nullable = true)\n",
      " |    |    |    |    |-- kind: string (nullable = true)\n",
      " |    |    |    |    |-- snippet: struct (nullable = true)\n",
      " |    |    |    |    |    |-- authorChannelId: struct (nullable = true)\n",
      " |    |    |    |    |    |    |-- value: string (nullable = true)\n",
      " |    |    |    |    |    |-- authorChannelUrl: string (nullable = true)\n",
      " |    |    |    |    |    |-- authorDisplayName: string (nullable = true)\n",
      " |    |    |    |    |    |-- authorProfileImageUrl: string (nullable = true)\n",
      " |    |    |    |    |    |-- canRate: boolean (nullable = true)\n",
      " |    |    |    |    |    |-- channelId: string (nullable = true)\n",
      " |    |    |    |    |    |-- likeCount: long (nullable = true)\n",
      " |    |    |    |    |    |-- publishedAt: string (nullable = true)\n",
      " |    |    |    |    |    |-- textDisplay: string (nullable = true)\n",
      " |    |    |    |    |    |-- textOriginal: string (nullable = true)\n",
      " |    |    |    |    |    |-- updatedAt: string (nullable = true)\n",
      " |    |    |    |    |    |-- videoId: string (nullable = true)\n",
      " |    |    |    |    |    |-- viewerRating: string (nullable = true)\n",
      " |    |    |    |-- totalReplyCount: long (nullable = true)\n",
      " |    |    |    |-- videoId: string (nullable = true)\n",
      " |-- kind: string (nullable = true)\n",
      " |-- pageInfo: struct (nullable = true)\n",
      " |    |-- resultsPerPage: long (nullable = true)\n",
      " |    |-- totalResults: long (nullable = true)\n",
      "\n"
     ]
    }
   ],
   "source": [
    "df_comentarios.printSchema()"
   ]
  },
  {
   "cell_type": "code",
   "execution_count": 204,
   "metadata": {},
   "outputs": [],
   "source": [
    "def abrir_comentarios( lista_datas: List, lista_assunto: List) -> List[DataFrame]:\n",
    "    lista_df = []\n",
    "    for assunto in lista_assunto:\n",
    "        for datas in lista_datas:\n",
    "            df_comentarios = spark.read.json(f'../dados/bronze/assunto_{assunto}/{datas}/comentarios/req_comentarios.json')\n",
    "            \n",
    "            dataframe = df_comentarios.select(\n",
    "                    f.explode('items').alias('item'),\n",
    "                    'data_extracao',\n",
    "                    'etag',\n",
    "                    'kind',\n",
    "                    'pageInfo',\n",
    "                    \n",
    "                ).select(\n",
    "                    'item.id',\n",
    "                    'item.snippet.channelId',\n",
    "                    'item.snippet.videoId',\n",
    "                    'item.snippet.topLevelComment.snippet.textOriginal',\n",
    "                    \n",
    "                \n",
    "            )\n",
    "            lista_df.append(dataframe)\n",
    "    return lista_df\n"
   ]
  },
  {
   "cell_type": "code",
   "execution_count": 205,
   "metadata": {},
   "outputs": [],
   "source": [
    "lista_df = abrir_comentarios(lista_datas=datas, lista_assunto=lista_assunto)"
   ]
  },
  {
   "cell_type": "code",
   "execution_count": 206,
   "metadata": {},
   "outputs": [
    {
     "name": "stdout",
     "output_type": "stream",
     "text": [
      "24/02/29 21:40:36 WARN DAGScheduler: Broadcasting large task binary with size 1956.1 KiB\n",
      "+--------------------------+------------------------+-----------+---------------------------------------------------------------------------------------------------------------------------------------------------------------------------------------------------------------------------------------------------------------------------------------------------------------------------------------------------------------------------------------------------------------------------------------------------------------------------------------------------------------------------------------------------------------------------------------------------------------------------------------------------------------------------------------------------+\n",
      "|id                        |channelId               |videoId    |textOriginal                                                                                                                                                                                                                                                                                                                                                                                                                                                                                                                                                                                                                                                                                       |\n",
      "+--------------------------+------------------------+-----------+---------------------------------------------------------------------------------------------------------------------------------------------------------------------------------------------------------------------------------------------------------------------------------------------------------------------------------------------------------------------------------------------------------------------------------------------------------------------------------------------------------------------------------------------------------------------------------------------------------------------------------------------------------------------------------------------------+\n",
      "|UgwBml2VBGvh47H6CgZ4AaABAg|UCENbpaPgVhO2GtlNcwAJ8mA|nDfmW0LMAto|Excelente.                                                                                                                                                                                                                                                                                                                                                                                                                                                                                                                                                                                                                                                                                         |\n",
      "|UgzOiQoDWs3JCBPLywx4AaABAg|UCnTTl5-22qOKRSVmuGwm1Lw|_rP6fm9avmQ|Valeu, ótima análise\\nLIKE                                                                                                                                                                                                                                                                                                                                                                                                                                                                                                                                                                                                                                                                         |\n",
      "|UgwcYJjgmACxqvHtGQl4AaABAg|UCnTTl5-22qOKRSVmuGwm1Lw|_rP6fm9avmQ|Já tenho e gosto desse fi infra                                                                                                                                                                                                                                                                                                                                                                                                                                                                                                                                                                                                                                                                    |\n",
      "|Ugze4k37m59w4PSiHzp4AaABAg|UCnTTl5-22qOKRSVmuGwm1Lw|_rP6fm9avmQ|OGIN11                                                                                                                                                                                                                                                                                                                                                                                                                                                                                                                                                                                                                                                                                             |\n",
      "|UgyDJGKKqh8emjbSF054AaABAg|UCnTTl5-22qOKRSVmuGwm1Lw|_rP6fm9avmQ|Não achei nada interessante essa questão de não distribuir dividendo se a cota ficar abaixo de 100.                                                                                                                                                                                                                                                                                                                                                                                                                                                                                                                                                                                                |\n",
      "|UgyCE81O9lx_cQWFfsV4AaABAg|UCnTTl5-22qOKRSVmuGwm1Lw|_rP6fm9avmQ|Estava querendo diversificar minha carteira, que tá concentrada em CRIs. \\nPor isso, ontem, fiquei na dúvida entre comprar FATN11 ou JURO11, mas acabei optando por FATN11 por estar com um pouco de deságio. Se eu tivesse visto este vídeo ontem, talvez teria comprado o JURO11, devido à boa análise que você fez neste vídeo.                                                                                                                                                                                                                                                                                                                                                                 |\n",
      "|UgxG9eZR9QF9X4IKxTd4AaABAg|UCnTTl5-22qOKRSVmuGwm1Lw|_rP6fm9avmQ|Gosto muito desse fii infra, gestão excelente, o fogo é o ágio, mas.....                                                                                                                                                                                                                                                                                                                                                                                                                                                                                                                                                                                                                           |\n",
      "|UgzO1HUz9IJDUj483Z14AaABAg|UCcuLEJUZy4jo9iFvngkoBUg|dEXBAQucdRk|Olá Rômulo, por gentileza faz um vídeo para entrevistas para promotor de vendas e vendedor                                                                                                                                                                                                                                                                                                                                                                                                                                                                                                                                                                                                         |\n",
      "|UgwA9CFVjE03DH4u5z94AaABAg|UCcuLEJUZy4jo9iFvngkoBUg|dEXBAQucdRk|Olá professor \\nObrigada pelas grandes dicas . \\nFiz uma entrevista que caiu muito conteúdo aplicado por vc .\\nGratidão , minhas respostas estavam na ponta da lingua , maratonei seus vídeos .\\n....Aprovada com sucesso\\nDeus abençõe seu trabalho 🙏                                                                                                                                                                                                                                                                                                                                                                                                                                            |\n",
      "|UgwApxlFONE7pvdFYRd4AaABAg|UCcuLEJUZy4jo9iFvngkoBUg|dEXBAQucdRk|Fica Aí                                                                                                                                                                                                                                                                                                                                                                                                                                                                                                                                                                                                                                                                                            |\n",
      "|UgxIk3_tEF6SSnEjGDV4AaABAg|UCcuLEJUZy4jo9iFvngkoBUg|dEXBAQucdRk|Suas dicas me ajudou muito, eu passei na entrevista ja assinaram a minha carteira e começo dia 22/01 🎉🎉                                                                                                                                                                                                                                                                                                                                                                                                                                                                                                                                                                                          |\n",
      "|UgzZff_AwK5aYnauP6h4AaABAg|UCcuLEJUZy4jo9iFvngkoBUg|dEXBAQucdRk|Olá, Rômulo. \\nPassei na primeira fase da entrevista, com a ajuda de seus vídeos. Na entrevista com o gestor, há outros candidatos também ou somente eu?                                                                                                                                                                                                                                                                                                                                                                                                                                                                                                                                           |\n",
      "|UgwI2qcMM979Y1EVcaB4AaABAg|UCcuLEJUZy4jo9iFvngkoBUg|dEXBAQucdRk|Bom dia! \\nEstou trabalhando há 10 anos na mesma empresa sem fazer nenhuma entrevista nesse tempo. Estou me preparando e gostaria de saber se a maioria é feita a distância ou ainda quase tudo presencial.                                                                                                                                                                                                                                                                                                                                                                                                                                                                                        |\n",
      "|Ugya6Cw8C8yHgnRCq7Z4AaABAg|UCcuLEJUZy4jo9iFvngkoBUg|dEXBAQucdRk|Olá, Rômulo! Seus vídeos são claros e construtivos, em vista disso, eu acredito que passarei na entrevista com o gestor.                                                                                                                                                                                                                                                                                                                                                                                                                                                                                                                                                                           |\n",
      "|UgzQwjfcCgBDQVEgCkt4AaABAg|UCcuLEJUZy4jo9iFvngkoBUg|dEXBAQucdRk|Olá Rômulo tudo bem? Então, estou em um processo seletivo com várias vagas e para candidatar e somente em um link para todas.\\nEstou no processo dinâmica de grupo.\\nProvavelmente na entrevista que deve ser definido a vaga né?                                                                                                                                                                                                                                                                                                                                                                                                                                                                  |\n",
      "|UgynlX9VQ9u7_U64CHV4AaABAg|UCcuLEJUZy4jo9iFvngkoBUg|dEXBAQucdRk|Oi Rômulo, hoje chegou a minha vez de festeja!🎉 Conseguiu a minha tão sonhada vaga em uma empresa que eu queria. Tudo com base nos seus vídeos. E você ai vendo esse video, como eu já assisti  no passado, vai dar certo! Você vai achar um caminho! Por favor não perca a fé. ASSISTA tudo e pratique TUDO, anote,  se veja na vaga, nós somos energia e AÇÃO, o que o Rômulo ensina é fato, é aplicável, o cara é sensacional! Passei no RH, passei no gestor assistindo principalmente esse canal abençoadissimo. E você Rômulo me ajudou em muitos momentos de depressão viu? Aliás quem tem depressão procure ajuda essa doença é serissima! Deus te abençoe meu querido. Sucesso você ja é!|\n",
      "|UgxJ6OGL-VNRUYoXXQ54AaABAg|UCaTiVclf7mD7Wzbbsm6gGOA|J74NOHLOpzM|Central de Conteúdos\\n👉 https://url.joviano.com/qglu2                                                                                                                                                                                                                                                                                                                                                                                                                                                                                                                                                                                                                                             |\n",
      "|Ugx8hs_D3AxWPeEHND94AaABAg|UCw0leRmeaX7R_9BDd3TvCzg|vIB0D9kV_60|Fala galera!\\r\\n\\r\\nGostou do vídeo? Deixa sua curtida e se inscreva no canal!\\r\\n\\r\\n► PARA SABER MAIS SOBRE NOSSO CURSO COMPLETO EXCEL IMPRESSIONADOR ACESSE:\\r\\n\\r\\nbit.ly/links-yt-hasht (LINK NA BIO!)                                                                                                                                                                                                                                                                                                                                                                                                                                                                                        |\n",
      "|UgwXCKzTpS_XvMGLN5l4AaABAg|UC18rVtiPZXg-PBAazAkJDew|LxYPpIu7TEQ|Parabéns                                                                                                                                                                                                                                                                                                                                                                                                                                                                                                                                                                                                                                                                                           |\n",
      "|UgzmbquJURXFzb46Hh54AaABAg|UC18rVtiPZXg-PBAazAkJDew|LxYPpIu7TEQ|show mano! daora demais, parabéns!                                                                                                                                                                                                                                                                                                                                                                                                                                                                                                                                                                                                                                                                 |\n",
      "+--------------------------+------------------------+-----------+---------------------------------------------------------------------------------------------------------------------------------------------------------------------------------------------------------------------------------------------------------------------------------------------------------------------------------------------------------------------------------------------------------------------------------------------------------------------------------------------------------------------------------------------------------------------------------------------------------------------------------------------------------------------------------------------------+\n",
      "only showing top 20 rows\n",
      "\n"
     ]
    }
   ],
   "source": [
    "df_final = reduce(lambda df1, df2: df1.union(df2), lista_df)\n",
    "df_final.show(truncate=False)"
   ]
  },
  {
   "cell_type": "code",
   "execution_count": 207,
   "metadata": {},
   "outputs": [
    {
     "name": "stdout",
     "output_type": "stream",
     "text": [
      "24/02/29 21:40:38 WARN DAGScheduler: Broadcasting large task binary with size 1943.6 KiB\n"
     ]
    },
    {
     "name": "stderr",
     "output_type": "stream",
     "text": [
      "                                                                                \r"
     ]
    },
    {
     "data": {
      "text/html": [
       "<div>\n",
       "<style scoped>\n",
       "    .dataframe tbody tr th:only-of-type {\n",
       "        vertical-align: middle;\n",
       "    }\n",
       "\n",
       "    .dataframe tbody tr th {\n",
       "        vertical-align: top;\n",
       "    }\n",
       "\n",
       "    .dataframe thead th {\n",
       "        text-align: right;\n",
       "    }\n",
       "</style>\n",
       "<table border=\"1\" class=\"dataframe\">\n",
       "  <thead>\n",
       "    <tr style=\"text-align: right;\">\n",
       "      <th></th>\n",
       "      <th>id</th>\n",
       "      <th>channelId</th>\n",
       "      <th>videoId</th>\n",
       "      <th>textOriginal</th>\n",
       "    </tr>\n",
       "  </thead>\n",
       "  <tbody>\n",
       "    <tr>\n",
       "      <th>0</th>\n",
       "      <td>UgwBml2VBGvh47H6CgZ4AaABAg</td>\n",
       "      <td>UCENbpaPgVhO2GtlNcwAJ8mA</td>\n",
       "      <td>nDfmW0LMAto</td>\n",
       "      <td>Excelente.</td>\n",
       "    </tr>\n",
       "    <tr>\n",
       "      <th>1</th>\n",
       "      <td>UgzOiQoDWs3JCBPLywx4AaABAg</td>\n",
       "      <td>UCnTTl5-22qOKRSVmuGwm1Lw</td>\n",
       "      <td>_rP6fm9avmQ</td>\n",
       "      <td>Valeu, ótima análise\\nLIKE</td>\n",
       "    </tr>\n",
       "    <tr>\n",
       "      <th>2</th>\n",
       "      <td>UgwcYJjgmACxqvHtGQl4AaABAg</td>\n",
       "      <td>UCnTTl5-22qOKRSVmuGwm1Lw</td>\n",
       "      <td>_rP6fm9avmQ</td>\n",
       "      <td>Já tenho e gosto desse fi infra</td>\n",
       "    </tr>\n",
       "    <tr>\n",
       "      <th>3</th>\n",
       "      <td>Ugze4k37m59w4PSiHzp4AaABAg</td>\n",
       "      <td>UCnTTl5-22qOKRSVmuGwm1Lw</td>\n",
       "      <td>_rP6fm9avmQ</td>\n",
       "      <td>OGIN11</td>\n",
       "    </tr>\n",
       "    <tr>\n",
       "      <th>4</th>\n",
       "      <td>UgyDJGKKqh8emjbSF054AaABAg</td>\n",
       "      <td>UCnTTl5-22qOKRSVmuGwm1Lw</td>\n",
       "      <td>_rP6fm9avmQ</td>\n",
       "      <td>Não achei nada interessante essa questão de nã...</td>\n",
       "    </tr>\n",
       "  </tbody>\n",
       "</table>\n",
       "</div>"
      ],
      "text/plain": [
       "                           id                 channelId      videoId  \\\n",
       "0  UgwBml2VBGvh47H6CgZ4AaABAg  UCENbpaPgVhO2GtlNcwAJ8mA  nDfmW0LMAto   \n",
       "1  UgzOiQoDWs3JCBPLywx4AaABAg  UCnTTl5-22qOKRSVmuGwm1Lw  _rP6fm9avmQ   \n",
       "2  UgwcYJjgmACxqvHtGQl4AaABAg  UCnTTl5-22qOKRSVmuGwm1Lw  _rP6fm9avmQ   \n",
       "3  Ugze4k37m59w4PSiHzp4AaABAg  UCnTTl5-22qOKRSVmuGwm1Lw  _rP6fm9avmQ   \n",
       "4  UgyDJGKKqh8emjbSF054AaABAg  UCnTTl5-22qOKRSVmuGwm1Lw  _rP6fm9avmQ   \n",
       "\n",
       "                                        textOriginal  \n",
       "0                                         Excelente.  \n",
       "1                         Valeu, ótima análise\\nLIKE  \n",
       "2                    Já tenho e gosto desse fi infra  \n",
       "3                                             OGIN11  \n",
       "4  Não achei nada interessante essa questão de nã...  "
      ]
     },
     "execution_count": 207,
     "metadata": {},
     "output_type": "execute_result"
    }
   ],
   "source": [
    "df_comentarios_pandas = df_final.toPandas()\n",
    "df_comentarios_pandas.head()"
   ]
  },
  {
   "cell_type": "code",
   "execution_count": 208,
   "metadata": {},
   "outputs": [],
   "source": [
    "df_comentarios_pandas[['id', 'channelId', 'videoId', 'textOriginal']] = df_comentarios_pandas[['id', 'channelId', 'videoId', 'textOriginal']].astype('string') "
   ]
  },
  {
   "cell_type": "code",
   "execution_count": 222,
   "metadata": {},
   "outputs": [],
   "source": [
    "df_comentarios_pandas = df_comentarios_pandas.drop_duplicates()"
   ]
  },
  {
   "cell_type": "markdown",
   "metadata": {},
   "source": [
    "# Resposta Comentários"
   ]
  },
  {
   "cell_type": "code",
   "execution_count": 209,
   "metadata": {},
   "outputs": [],
   "source": [
    "def abrir_respostas_comentarios( lista_datas: List, lista_assunto: List) -> List[DataFrame]:\n",
    "    lista_df = []\n",
    "    for assunto in lista_assunto:\n",
    "        for datas in lista_datas:\n",
    "            df_resposta_comentarios = spark.read.json(f'../dados/bronze/assunto_{assunto}/{datas}/resposta_comentarios/resposta_comentarios.json')\n",
    "            \n",
    "            dataframe = df_resposta_comentarios.select(\n",
    "                f.explode('items').alias('item'),\n",
    "                            \n",
    "            ).select(\n",
    "                'item.id',\n",
    "                'item.snippet.channelId',\n",
    "                'item.snippet.textOriginal',\n",
    "                'item.snippet.parentId'\n",
    "            )\n",
    "            lista_df.append(dataframe)\n",
    "    return lista_df"
   ]
  },
  {
   "cell_type": "code",
   "execution_count": 210,
   "metadata": {},
   "outputs": [
    {
     "name": "stderr",
     "output_type": "stream",
     "text": [
      "                                                                                \r"
     ]
    }
   ],
   "source": [
    "lista_df_resposta_comentarios = abrir_respostas_comentarios(lista_assunto=lista_assunto, lista_datas=datas)"
   ]
  },
  {
   "cell_type": "code",
   "execution_count": 211,
   "metadata": {},
   "outputs": [
    {
     "name": "stdout",
     "output_type": "stream",
     "text": [
      "24/02/29 21:40:55 WARN DAGScheduler: Broadcasting large task binary with size 1210.1 KiB\n",
      "+-------------------------------------------------+------------------------+---------------------------------------------------------------------------------------------------------------------------------------------------------------------------------------------------------------------------------------------------------------------------------------------------------------------------------------------------------+--------------------------+\n",
      "|id                                               |channelId               |textOriginal                                                                                                                                                                                                                                                                                                                                             |parentId                  |\n",
      "+-------------------------------------------------+------------------------+---------------------------------------------------------------------------------------------------------------------------------------------------------------------------------------------------------------------------------------------------------------------------------------------------------------------------------------------------------+--------------------------+\n",
      "|UgzZff_AwK5aYnauP6h4AaABAg.9zg9VNzo-B29zgPKKBrNVO|UCcuLEJUZy4jo9iFvngkoBUg|Há pelo menos dois                                                                                                                                                                                                                                                                                                                                       |UgzZff_AwK5aYnauP6h4AaABAg|\n",
      "|UgzZff_AwK5aYnauP6h4AaABAg.9zg9VNzo-B29zgQElZCdaG|UCcuLEJUZy4jo9iFvngkoBUg|grato pelo retorno​@@SaladeEmprego                                                                                                                                                                                                                                                                                                                       |UgzZff_AwK5aYnauP6h4AaABAg|\n",
      "|UgzZff_AwK5aYnauP6h4AaABAg.9zg9VNzo-B29zgQFicpN39|UCcuLEJUZy4jo9iFvngkoBUg|grato pelo retorno​@@SaladeEmprego                                                                                                                                                                                                                                                                                                                       |UgzZff_AwK5aYnauP6h4AaABAg|\n",
      "|UgxIk3_tEF6SSnEjGDV4AaABAg.9zgB2WyYMq69zgPIGQSki6|UCcuLEJUZy4jo9iFvngkoBUg|Sucesso!                                                                                                                                                                                                                                                                                                                                                 |UgxIk3_tEF6SSnEjGDV4AaABAg|\n",
      "|UgzQwjfcCgBDQVEgCkt4AaABAg.9zfoXBRb8Lb9zgBDjFoOcm|UCcuLEJUZy4jo9iFvngkoBUg|Normalmente a entrevista em grupo costuma ser a ultima parte                                                                                                                                                                                                                                                                                             |UgzQwjfcCgBDQVEgCkt4AaABAg|\n",
      "|UgzQwjfcCgBDQVEgCkt4AaABAg.9zfoXBRb8Lb9zgBHLIazrX|UCcuLEJUZy4jo9iFvngkoBUg|Evite falar mal da empresa antiga se caso vc tenha trabalhado, mostre gratidão                                                                                                                                                                                                                                                                           |UgzQwjfcCgBDQVEgCkt4AaABAg|\n",
      "|UgwBml2VBGvh47H6CgZ4AaABAg.9zfMad51A7T9zfT8vqYrxG|UCENbpaPgVhO2GtlNcwAJ8mA|Obrigado. Hoje, quarta dia 17 às 20h, é a MasterClass. Não perde porque não vai ter reprise.                                                                                                                                                                                                                                                             |UgwBml2VBGvh47H6CgZ4AaABAg|\n",
      "|UgwXAbCjehE949ZGLud4AaABAg.9zgVgLJWZ9P9zgWo1OaH5O|UC2lolVgbKA4BT8WqLznDGWA|Since god, little g, And the \"SUN\" of god, little g Are Only Real Inside The Thoroughly Programmed From Early Childhood By Faux religions $heep-le's Orbs, So-Called god, little g, And the \"SUN\" of god, little g, And allah, little a, And $atan, little s, aka the devil, little d, And the lord, little l Do Not Unfortunately Exist . . . Ouch . . .|UgwXAbCjehE949ZGLud4AaABAg|\n",
      "|UgwXAbCjehE949ZGLud4AaABAg.9zgVgLJWZ9P9zgibAy-upZ|UC2lolVgbKA4BT8WqLznDGWA|If GOD is everything then they are God,too                                                                                                                                                                                                                                                                                                               |UgwXAbCjehE949ZGLud4AaABAg|\n",
      "|UgwXAbCjehE949ZGLud4AaABAg.9zgVgLJWZ9P9zgj9-wleDs|UC2lolVgbKA4BT8WqLznDGWA|I agree, but the way they say it puts them above us.  We are all one consciousness.                                                                                                                                                                                                                                                                      |UgwXAbCjehE949ZGLud4AaABAg|\n",
      "|UgzFCN-smxakQGNAf1x4AaABAg.9zga5vloQOL9zgceEJh6Mt|UCst_4Wi9DkGAc28uEPlHHHw|Alisson, favor desconsiderar meu questionamento. Grato.                                                                                                                                                                                                                                                                                                  |UgzFCN-smxakQGNAf1x4AaABAg|\n",
      "|UgwXCKzTpS_XvMGLN5l4AaABAg.9zgT34dbnJA9zgiYdh5jWW|UC18rVtiPZXg-PBAazAkJDew|Obrigado                                                                                                                                                                                                                                                                                                                                                 |UgwXCKzTpS_XvMGLN5l4AaABAg|\n",
      "|UgzTkXjA3lT8qeEta7B4AaABAg.9zgFMf324Ef9zgKv8CmKgE|UC2lolVgbKA4BT8WqLznDGWA|Why do people think these tablets are stories and not documents....fyi they were just people anyways they didn't come from the sky or another planet                                                                                                                                                                                                     |UgzTkXjA3lT8qeEta7B4AaABAg|\n",
      "|UgzTkXjA3lT8qeEta7B4AaABAg.9zgFMf324Ef9zgWu3xg3Ta|UC2lolVgbKA4BT8WqLznDGWA|Considering the majority of these tablets are the earliest examples of a written language, is it more likely that we figured out how to communicate through writing to make up stories or document important things they witnessed? I mean think about it lol                                                                                            |UgzTkXjA3lT8qeEta7B4AaABAg|\n",
      "|UgzTkXjA3lT8qeEta7B4AaABAg.9zgFMf324Ef9zgYitt4rzx|UC2lolVgbKA4BT8WqLznDGWA|Yes they are the same story that they changed and put in the bible                                                                                                                                                                                                                                                                                       |UgzTkXjA3lT8qeEta7B4AaABAg|\n",
      "|Ugze4k37m59w4PSiHzp4AaABAg.9zfem8NWX6O9zfhNt0aRfp|UCnTTl5-22qOKRSVmuGwm1Lw|boa, mais um infra pra gente falar aqui no canal. Obrigado pela sugestão!                                                                                                                                                                                                                                                                                |Ugze4k37m59w4PSiHzp4AaABAg|\n",
      "|UgzO1HUz9IJDUj483Z14AaABAg.9zgZfKW92sS9zgehPtiZ20|UCcuLEJUZy4jo9iFvngkoBUg|Vou fazer                                                                                                                                                                                                                                                                                                                                                |UgzO1HUz9IJDUj483Z14AaABAg|\n",
      "|UgxG9eZR9QF9X4IKxTd4AaABAg.9zfPZaNuTjz9zfVI3bXpM3|UCnTTl5-22qOKRSVmuGwm1Lw|pois é! Fundo bom sempre é difícil de entrar                                                                                                                                                                                                                                                                                                             |UgxG9eZR9QF9X4IKxTd4AaABAg|\n",
      "|UgzmbquJURXFzb46Hh54AaABAg.9zfLIDJr_nw9zgiZ4-oSl1|UC18rVtiPZXg-PBAazAkJDew|Muito obrigado ✌                                                                                                                                                                                                                                                                                                                                         |UgzmbquJURXFzb46Hh54AaABAg|\n",
      "|UgynlX9VQ9u7_U64CHV4AaABAg.9zfmqVFZqrS9zg7CZ_f2nu|UCcuLEJUZy4jo9iFvngkoBUg|Parabéns 🎊 felicidades                                                                                                                                                                                                                                                                                                                                  |UgynlX9VQ9u7_U64CHV4AaABAg|\n",
      "+-------------------------------------------------+------------------------+---------------------------------------------------------------------------------------------------------------------------------------------------------------------------------------------------------------------------------------------------------------------------------------------------------------------------------------------------------+--------------------------+\n",
      "only showing top 20 rows\n",
      "\n"
     ]
    }
   ],
   "source": [
    "df_resposta_comentarios_final = reduce(lambda df1, df2: df1.union(df2), lista_df_resposta_comentarios)\n",
    "df_resposta_comentarios_final.show(truncate=False)"
   ]
  },
  {
   "cell_type": "code",
   "execution_count": 212,
   "metadata": {},
   "outputs": [
    {
     "name": "stdout",
     "output_type": "stream",
     "text": [
      "24/02/29 21:40:57 WARN DAGScheduler: Broadcasting large task binary with size 1197.6 KiB\n"
     ]
    },
    {
     "name": "stderr",
     "output_type": "stream",
     "text": [
      "                                                                                \r"
     ]
    }
   ],
   "source": [
    "df_resposta_comentarios_final_pandas = df_resposta_comentarios_final.toPandas()"
   ]
  },
  {
   "cell_type": "code",
   "execution_count": 213,
   "metadata": {},
   "outputs": [],
   "source": [
    "spark.stop()"
   ]
  },
  {
   "cell_type": "code",
   "execution_count": 215,
   "metadata": {},
   "outputs": [],
   "source": [
    "df_resposta_comentarios_final_pandas[['id', 'channelId', 'textOriginal', 'parentId']] = df_resposta_comentarios_final_pandas[['id', 'channelId', 'textOriginal', 'parentId']].astype('string')"
   ]
  },
  {
   "cell_type": "code",
   "execution_count": 223,
   "metadata": {},
   "outputs": [],
   "source": [
    "df_resposta_comentarios_final_pandas = df_resposta_comentarios_final_pandas.drop_duplicates()"
   ]
  },
  {
   "cell_type": "markdown",
   "metadata": {},
   "source": [
    "# Concatenando dataframes de comentários"
   ]
  },
  {
   "cell_type": "code",
   "execution_count": 216,
   "metadata": {},
   "outputs": [
    {
     "data": {
      "text/html": [
       "<div>\n",
       "<style scoped>\n",
       "    .dataframe tbody tr th:only-of-type {\n",
       "        vertical-align: middle;\n",
       "    }\n",
       "\n",
       "    .dataframe tbody tr th {\n",
       "        vertical-align: top;\n",
       "    }\n",
       "\n",
       "    .dataframe thead th {\n",
       "        text-align: right;\n",
       "    }\n",
       "</style>\n",
       "<table border=\"1\" class=\"dataframe\">\n",
       "  <thead>\n",
       "    <tr style=\"text-align: right;\">\n",
       "      <th></th>\n",
       "      <th>id</th>\n",
       "      <th>channelId</th>\n",
       "      <th>videoId</th>\n",
       "      <th>textOriginal</th>\n",
       "    </tr>\n",
       "  </thead>\n",
       "  <tbody>\n",
       "    <tr>\n",
       "      <th>0</th>\n",
       "      <td>UgwBml2VBGvh47H6CgZ4AaABAg</td>\n",
       "      <td>UCENbpaPgVhO2GtlNcwAJ8mA</td>\n",
       "      <td>nDfmW0LMAto</td>\n",
       "      <td>Excelente.</td>\n",
       "    </tr>\n",
       "    <tr>\n",
       "      <th>1</th>\n",
       "      <td>UgzOiQoDWs3JCBPLywx4AaABAg</td>\n",
       "      <td>UCnTTl5-22qOKRSVmuGwm1Lw</td>\n",
       "      <td>_rP6fm9avmQ</td>\n",
       "      <td>Valeu, ótima análise\n",
       "LIKE</td>\n",
       "    </tr>\n",
       "    <tr>\n",
       "      <th>2</th>\n",
       "      <td>UgwcYJjgmACxqvHtGQl4AaABAg</td>\n",
       "      <td>UCnTTl5-22qOKRSVmuGwm1Lw</td>\n",
       "      <td>_rP6fm9avmQ</td>\n",
       "      <td>Já tenho e gosto desse fi infra</td>\n",
       "    </tr>\n",
       "    <tr>\n",
       "      <th>3</th>\n",
       "      <td>Ugze4k37m59w4PSiHzp4AaABAg</td>\n",
       "      <td>UCnTTl5-22qOKRSVmuGwm1Lw</td>\n",
       "      <td>_rP6fm9avmQ</td>\n",
       "      <td>OGIN11</td>\n",
       "    </tr>\n",
       "    <tr>\n",
       "      <th>4</th>\n",
       "      <td>UgyDJGKKqh8emjbSF054AaABAg</td>\n",
       "      <td>UCnTTl5-22qOKRSVmuGwm1Lw</td>\n",
       "      <td>_rP6fm9avmQ</td>\n",
       "      <td>Não achei nada interessante essa questão de nã...</td>\n",
       "    </tr>\n",
       "  </tbody>\n",
       "</table>\n",
       "</div>"
      ],
      "text/plain": [
       "                           id                 channelId      videoId  \\\n",
       "0  UgwBml2VBGvh47H6CgZ4AaABAg  UCENbpaPgVhO2GtlNcwAJ8mA  nDfmW0LMAto   \n",
       "1  UgzOiQoDWs3JCBPLywx4AaABAg  UCnTTl5-22qOKRSVmuGwm1Lw  _rP6fm9avmQ   \n",
       "2  UgwcYJjgmACxqvHtGQl4AaABAg  UCnTTl5-22qOKRSVmuGwm1Lw  _rP6fm9avmQ   \n",
       "3  Ugze4k37m59w4PSiHzp4AaABAg  UCnTTl5-22qOKRSVmuGwm1Lw  _rP6fm9avmQ   \n",
       "4  UgyDJGKKqh8emjbSF054AaABAg  UCnTTl5-22qOKRSVmuGwm1Lw  _rP6fm9avmQ   \n",
       "\n",
       "                                        textOriginal  \n",
       "0                                         Excelente.  \n",
       "1                          Valeu, ótima análise\n",
       "LIKE  \n",
       "2                    Já tenho e gosto desse fi infra  \n",
       "3                                             OGIN11  \n",
       "4  Não achei nada interessante essa questão de nã...  "
      ]
     },
     "execution_count": 216,
     "metadata": {},
     "output_type": "execute_result"
    }
   ],
   "source": [
    "df_comentarios_pandas.head()"
   ]
  },
  {
   "cell_type": "code",
   "execution_count": 217,
   "metadata": {},
   "outputs": [
    {
     "data": {
      "text/html": [
       "<div>\n",
       "<style scoped>\n",
       "    .dataframe tbody tr th:only-of-type {\n",
       "        vertical-align: middle;\n",
       "    }\n",
       "\n",
       "    .dataframe tbody tr th {\n",
       "        vertical-align: top;\n",
       "    }\n",
       "\n",
       "    .dataframe thead th {\n",
       "        text-align: right;\n",
       "    }\n",
       "</style>\n",
       "<table border=\"1\" class=\"dataframe\">\n",
       "  <thead>\n",
       "    <tr style=\"text-align: right;\">\n",
       "      <th></th>\n",
       "      <th>id</th>\n",
       "      <th>channelId</th>\n",
       "      <th>textOriginal</th>\n",
       "      <th>parentId</th>\n",
       "    </tr>\n",
       "  </thead>\n",
       "  <tbody>\n",
       "    <tr>\n",
       "      <th>0</th>\n",
       "      <td>UgzZff_AwK5aYnauP6h4AaABAg.9zg9VNzo-B29zgPKKBrNVO</td>\n",
       "      <td>UCcuLEJUZy4jo9iFvngkoBUg</td>\n",
       "      <td>Há pelo menos dois</td>\n",
       "      <td>UgzZff_AwK5aYnauP6h4AaABAg</td>\n",
       "    </tr>\n",
       "    <tr>\n",
       "      <th>1</th>\n",
       "      <td>UgzZff_AwK5aYnauP6h4AaABAg.9zg9VNzo-B29zgQElZCdaG</td>\n",
       "      <td>UCcuLEJUZy4jo9iFvngkoBUg</td>\n",
       "      <td>grato pelo retorno​@@SaladeEmprego</td>\n",
       "      <td>UgzZff_AwK5aYnauP6h4AaABAg</td>\n",
       "    </tr>\n",
       "    <tr>\n",
       "      <th>2</th>\n",
       "      <td>UgzZff_AwK5aYnauP6h4AaABAg.9zg9VNzo-B29zgQFicpN39</td>\n",
       "      <td>UCcuLEJUZy4jo9iFvngkoBUg</td>\n",
       "      <td>grato pelo retorno​@@SaladeEmprego</td>\n",
       "      <td>UgzZff_AwK5aYnauP6h4AaABAg</td>\n",
       "    </tr>\n",
       "    <tr>\n",
       "      <th>3</th>\n",
       "      <td>UgxIk3_tEF6SSnEjGDV4AaABAg.9zgB2WyYMq69zgPIGQSki6</td>\n",
       "      <td>UCcuLEJUZy4jo9iFvngkoBUg</td>\n",
       "      <td>Sucesso!</td>\n",
       "      <td>UgxIk3_tEF6SSnEjGDV4AaABAg</td>\n",
       "    </tr>\n",
       "    <tr>\n",
       "      <th>4</th>\n",
       "      <td>UgzQwjfcCgBDQVEgCkt4AaABAg.9zfoXBRb8Lb9zgBDjFoOcm</td>\n",
       "      <td>UCcuLEJUZy4jo9iFvngkoBUg</td>\n",
       "      <td>Normalmente a entrevista em grupo costuma ser ...</td>\n",
       "      <td>UgzQwjfcCgBDQVEgCkt4AaABAg</td>\n",
       "    </tr>\n",
       "  </tbody>\n",
       "</table>\n",
       "</div>"
      ],
      "text/plain": [
       "                                                  id  \\\n",
       "0  UgzZff_AwK5aYnauP6h4AaABAg.9zg9VNzo-B29zgPKKBrNVO   \n",
       "1  UgzZff_AwK5aYnauP6h4AaABAg.9zg9VNzo-B29zgQElZCdaG   \n",
       "2  UgzZff_AwK5aYnauP6h4AaABAg.9zg9VNzo-B29zgQFicpN39   \n",
       "3  UgxIk3_tEF6SSnEjGDV4AaABAg.9zgB2WyYMq69zgPIGQSki6   \n",
       "4  UgzQwjfcCgBDQVEgCkt4AaABAg.9zfoXBRb8Lb9zgBDjFoOcm   \n",
       "\n",
       "                  channelId  \\\n",
       "0  UCcuLEJUZy4jo9iFvngkoBUg   \n",
       "1  UCcuLEJUZy4jo9iFvngkoBUg   \n",
       "2  UCcuLEJUZy4jo9iFvngkoBUg   \n",
       "3  UCcuLEJUZy4jo9iFvngkoBUg   \n",
       "4  UCcuLEJUZy4jo9iFvngkoBUg   \n",
       "\n",
       "                                        textOriginal  \\\n",
       "0                                 Há pelo menos dois   \n",
       "1                 grato pelo retorno​@@SaladeEmprego   \n",
       "2                 grato pelo retorno​@@SaladeEmprego   \n",
       "3                                           Sucesso!   \n",
       "4  Normalmente a entrevista em grupo costuma ser ...   \n",
       "\n",
       "                     parentId  \n",
       "0  UgzZff_AwK5aYnauP6h4AaABAg  \n",
       "1  UgzZff_AwK5aYnauP6h4AaABAg  \n",
       "2  UgzZff_AwK5aYnauP6h4AaABAg  \n",
       "3  UgxIk3_tEF6SSnEjGDV4AaABAg  \n",
       "4  UgzQwjfcCgBDQVEgCkt4AaABAg  "
      ]
     },
     "execution_count": 217,
     "metadata": {},
     "output_type": "execute_result"
    }
   ],
   "source": [
    "df_resposta_comentarios_final_pandas.head()\n"
   ]
  },
  {
   "cell_type": "code",
   "execution_count": 220,
   "metadata": {},
   "outputs": [],
   "source": [
    "df_comentarios_completos = pd.merge(\n",
    "    left=df_comentarios_pandas, \n",
    "    right=df_resposta_comentarios_final_pandas,\n",
    "    how='left',\n",
    "    left_on='id',\n",
    "    right_on='parentId'\n",
    ")"
   ]
  },
  {
   "cell_type": "code",
   "execution_count": 221,
   "metadata": {},
   "outputs": [
    {
     "data": {
      "text/html": [
       "<div>\n",
       "<style scoped>\n",
       "    .dataframe tbody tr th:only-of-type {\n",
       "        vertical-align: middle;\n",
       "    }\n",
       "\n",
       "    .dataframe tbody tr th {\n",
       "        vertical-align: top;\n",
       "    }\n",
       "\n",
       "    .dataframe thead th {\n",
       "        text-align: right;\n",
       "    }\n",
       "</style>\n",
       "<table border=\"1\" class=\"dataframe\">\n",
       "  <thead>\n",
       "    <tr style=\"text-align: right;\">\n",
       "      <th></th>\n",
       "      <th>id_x</th>\n",
       "      <th>channelId_x</th>\n",
       "      <th>videoId</th>\n",
       "      <th>textOriginal_x</th>\n",
       "      <th>id_y</th>\n",
       "      <th>channelId_y</th>\n",
       "      <th>textOriginal_y</th>\n",
       "      <th>parentId</th>\n",
       "    </tr>\n",
       "  </thead>\n",
       "  <tbody>\n",
       "    <tr>\n",
       "      <th>0</th>\n",
       "      <td>UgwBml2VBGvh47H6CgZ4AaABAg</td>\n",
       "      <td>UCENbpaPgVhO2GtlNcwAJ8mA</td>\n",
       "      <td>nDfmW0LMAto</td>\n",
       "      <td>Excelente.</td>\n",
       "      <td>UgwBml2VBGvh47H6CgZ4AaABAg.9zfMad51A7T9zfT8vqYrxG</td>\n",
       "      <td>UCENbpaPgVhO2GtlNcwAJ8mA</td>\n",
       "      <td>Obrigado. Hoje, quarta dia 17 às 20h, é a Mast...</td>\n",
       "      <td>UgwBml2VBGvh47H6CgZ4AaABAg</td>\n",
       "    </tr>\n",
       "    <tr>\n",
       "      <th>1</th>\n",
       "      <td>UgwBml2VBGvh47H6CgZ4AaABAg</td>\n",
       "      <td>UCENbpaPgVhO2GtlNcwAJ8mA</td>\n",
       "      <td>nDfmW0LMAto</td>\n",
       "      <td>Excelente.</td>\n",
       "      <td>UgwBml2VBGvh47H6CgZ4AaABAg.9zfMad51A7T9zfT8vqYrxG</td>\n",
       "      <td>UCENbpaPgVhO2GtlNcwAJ8mA</td>\n",
       "      <td>Obrigado. Hoje, quarta dia 17 às 20h, é a Mast...</td>\n",
       "      <td>UgwBml2VBGvh47H6CgZ4AaABAg</td>\n",
       "    </tr>\n",
       "    <tr>\n",
       "      <th>2</th>\n",
       "      <td>UgwBml2VBGvh47H6CgZ4AaABAg</td>\n",
       "      <td>UCENbpaPgVhO2GtlNcwAJ8mA</td>\n",
       "      <td>nDfmW0LMAto</td>\n",
       "      <td>Excelente.</td>\n",
       "      <td>UgwBml2VBGvh47H6CgZ4AaABAg.9zfMad51A7T9zfT8vqYrxG</td>\n",
       "      <td>UCENbpaPgVhO2GtlNcwAJ8mA</td>\n",
       "      <td>Obrigado. Hoje, quarta dia 17 às 20h, é a Mast...</td>\n",
       "      <td>UgwBml2VBGvh47H6CgZ4AaABAg</td>\n",
       "    </tr>\n",
       "    <tr>\n",
       "      <th>3</th>\n",
       "      <td>UgwBml2VBGvh47H6CgZ4AaABAg</td>\n",
       "      <td>UCENbpaPgVhO2GtlNcwAJ8mA</td>\n",
       "      <td>nDfmW0LMAto</td>\n",
       "      <td>Excelente.</td>\n",
       "      <td>UgwBml2VBGvh47H6CgZ4AaABAg.9zfMad51A7T9zfT8vqYrxG</td>\n",
       "      <td>UCENbpaPgVhO2GtlNcwAJ8mA</td>\n",
       "      <td>Obrigado. Hoje, quarta dia 17 às 20h, é a Mast...</td>\n",
       "      <td>UgwBml2VBGvh47H6CgZ4AaABAg</td>\n",
       "    </tr>\n",
       "    <tr>\n",
       "      <th>4</th>\n",
       "      <td>UgwBml2VBGvh47H6CgZ4AaABAg</td>\n",
       "      <td>UCENbpaPgVhO2GtlNcwAJ8mA</td>\n",
       "      <td>nDfmW0LMAto</td>\n",
       "      <td>Excelente.</td>\n",
       "      <td>UgwBml2VBGvh47H6CgZ4AaABAg.9zfMad51A7T9zfT8vqYrxG</td>\n",
       "      <td>UCENbpaPgVhO2GtlNcwAJ8mA</td>\n",
       "      <td>Obrigado. Hoje, quarta dia 17 às 20h, é a Mast...</td>\n",
       "      <td>UgwBml2VBGvh47H6CgZ4AaABAg</td>\n",
       "    </tr>\n",
       "  </tbody>\n",
       "</table>\n",
       "</div>"
      ],
      "text/plain": [
       "                         id_x               channelId_x      videoId  \\\n",
       "0  UgwBml2VBGvh47H6CgZ4AaABAg  UCENbpaPgVhO2GtlNcwAJ8mA  nDfmW0LMAto   \n",
       "1  UgwBml2VBGvh47H6CgZ4AaABAg  UCENbpaPgVhO2GtlNcwAJ8mA  nDfmW0LMAto   \n",
       "2  UgwBml2VBGvh47H6CgZ4AaABAg  UCENbpaPgVhO2GtlNcwAJ8mA  nDfmW0LMAto   \n",
       "3  UgwBml2VBGvh47H6CgZ4AaABAg  UCENbpaPgVhO2GtlNcwAJ8mA  nDfmW0LMAto   \n",
       "4  UgwBml2VBGvh47H6CgZ4AaABAg  UCENbpaPgVhO2GtlNcwAJ8mA  nDfmW0LMAto   \n",
       "\n",
       "  textOriginal_x                                               id_y  \\\n",
       "0     Excelente.  UgwBml2VBGvh47H6CgZ4AaABAg.9zfMad51A7T9zfT8vqYrxG   \n",
       "1     Excelente.  UgwBml2VBGvh47H6CgZ4AaABAg.9zfMad51A7T9zfT8vqYrxG   \n",
       "2     Excelente.  UgwBml2VBGvh47H6CgZ4AaABAg.9zfMad51A7T9zfT8vqYrxG   \n",
       "3     Excelente.  UgwBml2VBGvh47H6CgZ4AaABAg.9zfMad51A7T9zfT8vqYrxG   \n",
       "4     Excelente.  UgwBml2VBGvh47H6CgZ4AaABAg.9zfMad51A7T9zfT8vqYrxG   \n",
       "\n",
       "                channelId_y  \\\n",
       "0  UCENbpaPgVhO2GtlNcwAJ8mA   \n",
       "1  UCENbpaPgVhO2GtlNcwAJ8mA   \n",
       "2  UCENbpaPgVhO2GtlNcwAJ8mA   \n",
       "3  UCENbpaPgVhO2GtlNcwAJ8mA   \n",
       "4  UCENbpaPgVhO2GtlNcwAJ8mA   \n",
       "\n",
       "                                      textOriginal_y  \\\n",
       "0  Obrigado. Hoje, quarta dia 17 às 20h, é a Mast...   \n",
       "1  Obrigado. Hoje, quarta dia 17 às 20h, é a Mast...   \n",
       "2  Obrigado. Hoje, quarta dia 17 às 20h, é a Mast...   \n",
       "3  Obrigado. Hoje, quarta dia 17 às 20h, é a Mast...   \n",
       "4  Obrigado. Hoje, quarta dia 17 às 20h, é a Mast...   \n",
       "\n",
       "                     parentId  \n",
       "0  UgwBml2VBGvh47H6CgZ4AaABAg  \n",
       "1  UgwBml2VBGvh47H6CgZ4AaABAg  \n",
       "2  UgwBml2VBGvh47H6CgZ4AaABAg  \n",
       "3  UgwBml2VBGvh47H6CgZ4AaABAg  \n",
       "4  UgwBml2VBGvh47H6CgZ4AaABAg  "
      ]
     },
     "execution_count": 221,
     "metadata": {},
     "output_type": "execute_result"
    }
   ],
   "source": [
    "df_comentarios_completos.head()"
   ]
  },
  {
   "cell_type": "markdown",
   "metadata": {},
   "source": [
    "# Abrindo dataframe de canal, vídeo"
   ]
  },
  {
   "cell_type": "code",
   "execution_count": null,
   "metadata": {},
   "outputs": [],
   "source": []
  }
 ],
 "metadata": {
  "kernelspec": {
   "display_name": "venv",
   "language": "python",
   "name": "python3"
  },
  "language_info": {
   "codemirror_mode": {
    "name": "ipython",
    "version": 3
   },
   "file_extension": ".py",
   "mimetype": "text/x-python",
   "name": "python",
   "nbconvert_exporter": "python",
   "pygments_lexer": "ipython3",
   "version": "3.10.12"
  }
 },
 "nbformat": 4,
 "nbformat_minor": 2
}
