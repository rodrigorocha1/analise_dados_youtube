{
 "cells": [
  {
   "cell_type": "code",
   "execution_count": 1,
   "metadata": {},
   "outputs": [],
   "source": [
    "from pyspark.sql import SparkSession"
   ]
  },
  {
   "cell_type": "code",
   "execution_count": 2,
   "metadata": {},
   "outputs": [
    {
     "name": "stdout",
     "output_type": "stream",
     "text": [
      "23/12/05 19:40:12 WARN Utils: Your hostname, rodrigo-Nitro-AN515-54 resolves to a loopback address: 127.0.1.1; using 192.168.0.112 instead (on interface wlp8s0)\n",
      "23/12/05 19:40:12 WARN Utils: Set SPARK_LOCAL_IP if you need to bind to another address\n"
     ]
    },
    {
     "name": "stderr",
     "output_type": "stream",
     "text": [
      "Setting default log level to \"WARN\".\n",
      "To adjust logging level use sc.setLogLevel(newLevel). For SparkR, use setLogLevel(newLevel).\n"
     ]
    },
    {
     "name": "stdout",
     "output_type": "stream",
     "text": [
      "23/12/05 19:40:16 WARN NativeCodeLoader: Unable to load native-hadoop library for your platform... using builtin-java classes where applicable\n"
     ]
    }
   ],
   "source": [
    "spark = SparkSession.builder.appName('new_gold').getOrCreate()"
   ]
  },
  {
   "cell_type": "code",
   "execution_count": 3,
   "metadata": {},
   "outputs": [
    {
     "ename": "AnalysisException",
     "evalue": "Path does not exist: file:/home/rodrigo/Documentos/projetos/open_weather_api_apache/analise_dados_youtube/data/projetos_youtube_v2/novo_ouro/total_visualizacoes_semana.parquet",
     "output_type": "error",
     "traceback": [
      "\u001b[0;31m---------------------------------------------------------------------------\u001b[0m",
      "\u001b[0;31mAnalysisException\u001b[0m                         Traceback (most recent call last)",
      "\u001b[1;32m/home/rodrigo/Documentos/projetos/open_weather_api_apache/analise_dados_youtube/notebooks/new_gold.ipynb Célula 3\u001b[0m line \u001b[0;36m1\n\u001b[0;32m----> <a href='vscode-notebook-cell:/home/rodrigo/Documentos/projetos/open_weather_api_apache/analise_dados_youtube/notebooks/new_gold.ipynb#W2sZmlsZQ%3D%3D?line=0'>1</a>\u001b[0m df_total_visualizacoes_semana \u001b[39m=\u001b[39m spark\u001b[39m.\u001b[39;49mread\u001b[39m.\u001b[39;49mparquet(\u001b[39m'\u001b[39;49m\u001b[39m/home/rodrigo/Documentos/projetos/open_weather_api_apache/analise_dados_youtube/data/projetos_youtube_v2/novo_ouro/total_visualizacoes_semana.parquet\u001b[39;49m\u001b[39m'\u001b[39;49m)\n\u001b[1;32m      <a href='vscode-notebook-cell:/home/rodrigo/Documentos/projetos/open_weather_api_apache/analise_dados_youtube/notebooks/new_gold.ipynb#W2sZmlsZQ%3D%3D?line=1'>2</a>\u001b[0m df_total_visualizacoes_semana\u001b[39m.\u001b[39mshow()\n",
      "File \u001b[0;32m~/Documentos/projetos/open_weather_api_apache/analise_dados_youtube/venv/lib/python3.10/site-packages/pyspark/sql/readwriter.py:364\u001b[0m, in \u001b[0;36mDataFrameReader.parquet\u001b[0;34m(self, *paths, **options)\u001b[0m\n\u001b[1;32m    353\u001b[0m int96RebaseMode \u001b[39m=\u001b[39m options\u001b[39m.\u001b[39mget(\u001b[39m\"\u001b[39m\u001b[39mint96RebaseMode\u001b[39m\u001b[39m\"\u001b[39m, \u001b[39mNone\u001b[39;00m)\n\u001b[1;32m    354\u001b[0m \u001b[39mself\u001b[39m\u001b[39m.\u001b[39m_set_opts(\n\u001b[1;32m    355\u001b[0m     mergeSchema\u001b[39m=\u001b[39mmergeSchema,\n\u001b[1;32m    356\u001b[0m     pathGlobFilter\u001b[39m=\u001b[39mpathGlobFilter,\n\u001b[0;32m   (...)\u001b[0m\n\u001b[1;32m    361\u001b[0m     int96RebaseMode\u001b[39m=\u001b[39mint96RebaseMode,\n\u001b[1;32m    362\u001b[0m )\n\u001b[0;32m--> 364\u001b[0m \u001b[39mreturn\u001b[39;00m \u001b[39mself\u001b[39m\u001b[39m.\u001b[39m_df(\u001b[39mself\u001b[39;49m\u001b[39m.\u001b[39;49m_jreader\u001b[39m.\u001b[39;49mparquet(_to_seq(\u001b[39mself\u001b[39;49m\u001b[39m.\u001b[39;49m_spark\u001b[39m.\u001b[39;49m_sc, paths)))\n",
      "File \u001b[0;32m~/Documentos/projetos/open_weather_api_apache/analise_dados_youtube/venv/lib/python3.10/site-packages/py4j/java_gateway.py:1321\u001b[0m, in \u001b[0;36mJavaMember.__call__\u001b[0;34m(self, *args)\u001b[0m\n\u001b[1;32m   1315\u001b[0m command \u001b[39m=\u001b[39m proto\u001b[39m.\u001b[39mCALL_COMMAND_NAME \u001b[39m+\u001b[39m\\\n\u001b[1;32m   1316\u001b[0m     \u001b[39mself\u001b[39m\u001b[39m.\u001b[39mcommand_header \u001b[39m+\u001b[39m\\\n\u001b[1;32m   1317\u001b[0m     args_command \u001b[39m+\u001b[39m\\\n\u001b[1;32m   1318\u001b[0m     proto\u001b[39m.\u001b[39mEND_COMMAND_PART\n\u001b[1;32m   1320\u001b[0m answer \u001b[39m=\u001b[39m \u001b[39mself\u001b[39m\u001b[39m.\u001b[39mgateway_client\u001b[39m.\u001b[39msend_command(command)\n\u001b[0;32m-> 1321\u001b[0m return_value \u001b[39m=\u001b[39m get_return_value(\n\u001b[1;32m   1322\u001b[0m     answer, \u001b[39mself\u001b[39;49m\u001b[39m.\u001b[39;49mgateway_client, \u001b[39mself\u001b[39;49m\u001b[39m.\u001b[39;49mtarget_id, \u001b[39mself\u001b[39;49m\u001b[39m.\u001b[39;49mname)\n\u001b[1;32m   1324\u001b[0m \u001b[39mfor\u001b[39;00m temp_arg \u001b[39min\u001b[39;00m temp_args:\n\u001b[1;32m   1325\u001b[0m     temp_arg\u001b[39m.\u001b[39m_detach()\n",
      "File \u001b[0;32m~/Documentos/projetos/open_weather_api_apache/analise_dados_youtube/venv/lib/python3.10/site-packages/pyspark/sql/utils.py:196\u001b[0m, in \u001b[0;36mcapture_sql_exception.<locals>.deco\u001b[0;34m(*a, **kw)\u001b[0m\n\u001b[1;32m    192\u001b[0m converted \u001b[39m=\u001b[39m convert_exception(e\u001b[39m.\u001b[39mjava_exception)\n\u001b[1;32m    193\u001b[0m \u001b[39mif\u001b[39;00m \u001b[39mnot\u001b[39;00m \u001b[39misinstance\u001b[39m(converted, UnknownException):\n\u001b[1;32m    194\u001b[0m     \u001b[39m# Hide where the exception came from that shows a non-Pythonic\u001b[39;00m\n\u001b[1;32m    195\u001b[0m     \u001b[39m# JVM exception message.\u001b[39;00m\n\u001b[0;32m--> 196\u001b[0m     \u001b[39mraise\u001b[39;00m converted \u001b[39mfrom\u001b[39;00m \u001b[39mNone\u001b[39;00m\n\u001b[1;32m    197\u001b[0m \u001b[39melse\u001b[39;00m:\n\u001b[1;32m    198\u001b[0m     \u001b[39mraise\u001b[39;00m\n",
      "\u001b[0;31mAnalysisException\u001b[0m: Path does not exist: file:/home/rodrigo/Documentos/projetos/open_weather_api_apache/analise_dados_youtube/data/projetos_youtube_v2/novo_ouro/total_visualizacoes_semana.parquet"
     ]
    }
   ],
   "source": [
    "df_total_visualizacoes_semana = spark.read.parquet('/home/rodrigo/Documentos/projetos/open_weather_api_apache/analise_dados_youtube/data/projetos_youtube_v2/novo_ouro/total_visualizacoes_semana.parquet')\n",
    "df_total_visualizacoes_semana.show()"
   ]
  },
  {
   "cell_type": "code",
   "execution_count": null,
   "metadata": {},
   "outputs": [
    {
     "name": "stdout",
     "output_type": "stream",
     "text": [
      "root\n",
      " |-- NM_CANAL: string (nullable = true)\n",
      " |-- ID_VIDEO: string (nullable = true)\n",
      " |-- TITULO_VIDEO: string (nullable = true)\n",
      " |-- TOTAL_CARACTERE_VIDEO: integer (nullable = true)\n",
      " |-- TAGS: array (nullable = true)\n",
      " |    |-- element: string (containsNull = true)\n",
      " |-- DURACAO_VIDEO_MINUTOS: float (nullable = true)\n",
      " |-- TOTAL_TAGS: integer (nullable = true)\n",
      " |-- TOTAL_VISUALIZACOES: integer (nullable = true)\n",
      " |-- TOTAL_COMENTARIOS: integer (nullable = true)\n",
      " |-- TOTAL_LIKES: integer (nullable = true)\n",
      " |-- TOTAL_VISUALIZACOES_DIA: integer (nullable = true)\n",
      " |-- TOTAL_COMENTARIOS_DIA: integer (nullable = true)\n",
      " |-- TOTAL_LIKES_DIA: integer (nullable = true)\n",
      " |-- ASSUNTO: string (nullable = true)\n",
      " |-- data_extracao: date (nullable = true)\n",
      " |-- ID_CANAL: string (nullable = true)\n",
      "\n"
     ]
    }
   ],
   "source": [
    "df_total_visualizacoes_semana.printSchema()"
   ]
  },
  {
   "cell_type": "code",
   "execution_count": 8,
   "metadata": {},
   "outputs": [
    {
     "ename": "AnalysisException",
     "evalue": "Path does not exist: file:/home/rodrigo/Documentos/projetos/open_weather_api_apache/analise_dados_youtube/data/projetos_youtube_v2/novo_ouro/comentarios.parquet",
     "output_type": "error",
     "traceback": [
      "\u001b[0;31m---------------------------------------------------------------------------\u001b[0m",
      "\u001b[0;31mAnalysisException\u001b[0m                         Traceback (most recent call last)",
      "\u001b[1;32m/home/rodrigo/Documentos/projetos/open_weather_api_apache/analise_dados_youtube/notebooks/new_gold.ipynb Célula 6\u001b[0m line \u001b[0;36m1\n\u001b[0;32m----> <a href='vscode-notebook-cell:/home/rodrigo/Documentos/projetos/open_weather_api_apache/analise_dados_youtube/notebooks/new_gold.ipynb#W4sZmlsZQ%3D%3D?line=0'>1</a>\u001b[0m df_comentarios \u001b[39m=\u001b[39m spark\u001b[39m.\u001b[39;49mread\u001b[39m.\u001b[39;49mparquet(\u001b[39m'\u001b[39;49m\u001b[39m/home/rodrigo/Documentos/projetos/open_weather_api_apache/analise_dados_youtube/data/projetos_youtube_v2/novo_ouro/comentarios.parquet\u001b[39;49m\u001b[39m'\u001b[39;49m)\n\u001b[1;32m      <a href='vscode-notebook-cell:/home/rodrigo/Documentos/projetos/open_weather_api_apache/analise_dados_youtube/notebooks/new_gold.ipynb#W4sZmlsZQ%3D%3D?line=1'>2</a>\u001b[0m df_comentarios\u001b[39m.\u001b[39mshow()\n",
      "File \u001b[0;32m~/Documentos/projetos/open_weather_api_apache/analise_dados_youtube/venv/lib/python3.10/site-packages/pyspark/sql/readwriter.py:364\u001b[0m, in \u001b[0;36mDataFrameReader.parquet\u001b[0;34m(self, *paths, **options)\u001b[0m\n\u001b[1;32m    353\u001b[0m int96RebaseMode \u001b[39m=\u001b[39m options\u001b[39m.\u001b[39mget(\u001b[39m\"\u001b[39m\u001b[39mint96RebaseMode\u001b[39m\u001b[39m\"\u001b[39m, \u001b[39mNone\u001b[39;00m)\n\u001b[1;32m    354\u001b[0m \u001b[39mself\u001b[39m\u001b[39m.\u001b[39m_set_opts(\n\u001b[1;32m    355\u001b[0m     mergeSchema\u001b[39m=\u001b[39mmergeSchema,\n\u001b[1;32m    356\u001b[0m     pathGlobFilter\u001b[39m=\u001b[39mpathGlobFilter,\n\u001b[0;32m   (...)\u001b[0m\n\u001b[1;32m    361\u001b[0m     int96RebaseMode\u001b[39m=\u001b[39mint96RebaseMode,\n\u001b[1;32m    362\u001b[0m )\n\u001b[0;32m--> 364\u001b[0m \u001b[39mreturn\u001b[39;00m \u001b[39mself\u001b[39m\u001b[39m.\u001b[39m_df(\u001b[39mself\u001b[39;49m\u001b[39m.\u001b[39;49m_jreader\u001b[39m.\u001b[39;49mparquet(_to_seq(\u001b[39mself\u001b[39;49m\u001b[39m.\u001b[39;49m_spark\u001b[39m.\u001b[39;49m_sc, paths)))\n",
      "File \u001b[0;32m~/Documentos/projetos/open_weather_api_apache/analise_dados_youtube/venv/lib/python3.10/site-packages/py4j/java_gateway.py:1321\u001b[0m, in \u001b[0;36mJavaMember.__call__\u001b[0;34m(self, *args)\u001b[0m\n\u001b[1;32m   1315\u001b[0m command \u001b[39m=\u001b[39m proto\u001b[39m.\u001b[39mCALL_COMMAND_NAME \u001b[39m+\u001b[39m\\\n\u001b[1;32m   1316\u001b[0m     \u001b[39mself\u001b[39m\u001b[39m.\u001b[39mcommand_header \u001b[39m+\u001b[39m\\\n\u001b[1;32m   1317\u001b[0m     args_command \u001b[39m+\u001b[39m\\\n\u001b[1;32m   1318\u001b[0m     proto\u001b[39m.\u001b[39mEND_COMMAND_PART\n\u001b[1;32m   1320\u001b[0m answer \u001b[39m=\u001b[39m \u001b[39mself\u001b[39m\u001b[39m.\u001b[39mgateway_client\u001b[39m.\u001b[39msend_command(command)\n\u001b[0;32m-> 1321\u001b[0m return_value \u001b[39m=\u001b[39m get_return_value(\n\u001b[1;32m   1322\u001b[0m     answer, \u001b[39mself\u001b[39;49m\u001b[39m.\u001b[39;49mgateway_client, \u001b[39mself\u001b[39;49m\u001b[39m.\u001b[39;49mtarget_id, \u001b[39mself\u001b[39;49m\u001b[39m.\u001b[39;49mname)\n\u001b[1;32m   1324\u001b[0m \u001b[39mfor\u001b[39;00m temp_arg \u001b[39min\u001b[39;00m temp_args:\n\u001b[1;32m   1325\u001b[0m     temp_arg\u001b[39m.\u001b[39m_detach()\n",
      "File \u001b[0;32m~/Documentos/projetos/open_weather_api_apache/analise_dados_youtube/venv/lib/python3.10/site-packages/pyspark/sql/utils.py:196\u001b[0m, in \u001b[0;36mcapture_sql_exception.<locals>.deco\u001b[0;34m(*a, **kw)\u001b[0m\n\u001b[1;32m    192\u001b[0m converted \u001b[39m=\u001b[39m convert_exception(e\u001b[39m.\u001b[39mjava_exception)\n\u001b[1;32m    193\u001b[0m \u001b[39mif\u001b[39;00m \u001b[39mnot\u001b[39;00m \u001b[39misinstance\u001b[39m(converted, UnknownException):\n\u001b[1;32m    194\u001b[0m     \u001b[39m# Hide where the exception came from that shows a non-Pythonic\u001b[39;00m\n\u001b[1;32m    195\u001b[0m     \u001b[39m# JVM exception message.\u001b[39;00m\n\u001b[0;32m--> 196\u001b[0m     \u001b[39mraise\u001b[39;00m converted \u001b[39mfrom\u001b[39;00m \u001b[39mNone\u001b[39;00m\n\u001b[1;32m    197\u001b[0m \u001b[39melse\u001b[39;00m:\n\u001b[1;32m    198\u001b[0m     \u001b[39mraise\u001b[39;00m\n",
      "\u001b[0;31mAnalysisException\u001b[0m: Path does not exist: file:/home/rodrigo/Documentos/projetos/open_weather_api_apache/analise_dados_youtube/data/projetos_youtube_v2/novo_ouro/comentarios.parquet"
     ]
    }
   ],
   "source": [
    "df_comentarios = spark.read.parquet('/home/rodrigo/Documentos/projetos/open_weather_api_apache/analise_dados_youtube/data/projetos_youtube_v2/novo_ouro/comentarios.parquet')\n",
    "df_comentarios.show()"
   ]
  },
  {
   "cell_type": "code",
   "execution_count": 11,
   "metadata": {},
   "outputs": [
    {
     "name": "stdout",
     "output_type": "stream",
     "text": [
      "root\n",
      " |-- ID_COMENTARIO: string (nullable = true)\n",
      " |-- TEXTO_COMENTARIO: string (nullable = true)\n",
      " |-- ASSUNTO: string (nullable = true)\n",
      " |-- ID_CANAL: string (nullable = true)\n",
      " |-- ID_VIDEO: string (nullable = true)\n",
      "\n"
     ]
    }
   ],
   "source": [
    "df_comentarios.printSchema()"
   ]
  },
  {
   "cell_type": "code",
   "execution_count": 13,
   "metadata": {},
   "outputs": [
    {
     "name": "stderr",
     "output_type": "stream",
     "text": [
      "[Stage 82:>                                                         (0 + 1) / 1]\r"
     ]
    },
    {
     "name": "stdout",
     "output_type": "stream",
     "text": [
      "+--------------------+-----------------------+--------------------+--------------------+--------------------+\n",
      "|               TEXTO|ID_RESPOSTA_COMENTARIOS|             ASSUNTO|            ID_CANAL|       ID_COMENTARIO|\n",
      "+--------------------+-----------------------+--------------------+--------------------+--------------------+\n",
      "|@soneideoliveira1...|   9w2m0olb90j9w2vs6...|assunto_python_an...|UCEQ12yB8QLw9pVOY...|UgyU8D5LlUlpvi7WM...|\n",
      "|@Alytreta o que i...|   9wCw6FMDJoi9wD7ft...|assunto_python_an...|UCbww3yb1rObMQURa...|UgzURj6m_kQipewgj...|\n",
      "|@josianethomazini...|   9w1f289nG7d9w2uqp...|assunto_python_an...|UCEQ12yB8QLw9pVOY...|UgwMsJQneJDzBTQ5i...|\n",
      "|​@Jeferson Diogen...|   9w1Jq6FyOGC9w2vUV...|assunto_python_an...|UCEQ12yB8QLw9pVOY...|Ugx6Hwjsj4VOhH8qg...|\n",
      "|@Joelson Gomes eu...|   9w1Jq6FyOGC9w3laV...|assunto_python_an...|UCEQ12yB8QLw9pVOY...|Ugx6Hwjsj4VOhH8qg...|\n",
      "|@Luana Cerqueira ...|   9w1Jq6FyOGC9wANay...|assunto_python_an...|UCEQ12yB8QLw9pVOY...|Ugx6Hwjsj4VOhH8qg...|\n",
      "|A religião nunca ...|   9w1Jq6FyOGC9w2vzD...|assunto_python_an...|UCEQ12yB8QLw9pVOY...|Ugx6Hwjsj4VOhH8qg...|\n",
      "|A religião nunca ...|   9w1Jq6FyOGC9w2vn6...|assunto_python_an...|UCEQ12yB8QLw9pVOY...|Ugx6Hwjsj4VOhH8qg...|\n",
      "|@Regulus de Leão ...|   9w1Jq6FyOGC9w3-7H...|assunto_python_an...|UCEQ12yB8QLw9pVOY...|Ugx6Hwjsj4VOhH8qg...|\n",
      "|As pessoas querem...|   9w1Jq6FyOGC9wNlVG...|assunto_python_an...|UCEQ12yB8QLw9pVOY...|Ugx6Hwjsj4VOhH8qg...|\n",
      "|@Cadeira de prata...|   9w1Jq6FyOGC9w3AUa...|assunto_python_an...|UCEQ12yB8QLw9pVOY...|Ugx6Hwjsj4VOhH8qg...|\n",
      "|​@SUZANA mocelins...|   9w1Jq6FyOGC9w8Xo-...|assunto_python_an...|UCEQ12yB8QLw9pVOY...|Ugx6Hwjsj4VOhH8qg...|\n",
      "|@AndreaBaijao\\nco...|   9w1cZmKiXGM9w2wAS...|assunto_python_an...|UCEQ12yB8QLw9pVOY...|Ugx5UrYPbqn5-Oflm...|\n",
      "|Opa, tudo bom Lui...|   9w0-rMGGB6_9w0B-e...|    assunto_power_bi|UCOcjS2ppQSqIsbMg...|Ugy8BJaSvYXUyviqt...|\n",
      "|@Holanda Bomfim N...|   9w1TdGM11hK9wAsVb...|assunto_python_an...|UCEQ12yB8QLw9pVOY...|Ugx414gLLe0Dk34fB...|\n",
      "|Você não pode neg...|   9w1TdGM11hK9w2v7s...|assunto_python_an...|UCEQ12yB8QLw9pVOY...|Ugx414gLLe0Dk34fB...|\n",
      "|Errado!!!! A inqu...|   9w1TdGM11hK9w2VvZ...|assunto_python_an...|UCEQ12yB8QLw9pVOY...|Ugx414gLLe0Dk34fB...|\n",
      "|Olá, compreendi e...|   9w1TdGM11hK9wC0kj...|assunto_python_an...|UCEQ12yB8QLw9pVOY...|Ugx414gLLe0Dk34fB...|\n",
      "|​@rosangela apare...|   9w1TdGM11hK9w5-JV...|assunto_python_an...|UCEQ12yB8QLw9pVOY...|Ugx414gLLe0Dk34fB...|\n",
      "|o foda é que não ...|   9w0MkpuEPl69w0RCN...|assunto_cities_sk...|UCrxFTbIV_8sUVJ59...|Ugy7wYt-WzUbXWUX2...|\n",
      "+--------------------+-----------------------+--------------------+--------------------+--------------------+\n",
      "only showing top 20 rows\n",
      "\n"
     ]
    },
    {
     "name": "stderr",
     "output_type": "stream",
     "text": [
      "                                                                                \r"
     ]
    }
   ],
   "source": [
    "df_resposta_comentarios = spark.read.parquet('/home/rodrigo/Documentos/projetos/open_weather_api_apache/analise_dados_youtube/data/projetos_youtube_v2/novo_ouro/resposta_comentarios.parquet')\n",
    "df_resposta_comentarios.show()"
   ]
  },
  {
   "cell_type": "code",
   "execution_count": 14,
   "metadata": {},
   "outputs": [
    {
     "name": "stdout",
     "output_type": "stream",
     "text": [
      "root\n",
      " |-- ID_COMENTARIO: string (nullable = true)\n",
      " |-- TEXTO_COMENTARIO: string (nullable = true)\n",
      " |-- ASSUNTO: string (nullable = true)\n",
      " |-- ID_CANAL: string (nullable = true)\n",
      " |-- ID_VIDEO: string (nullable = true)\n",
      "\n"
     ]
    }
   ],
   "source": [
    "df_comentarios.printSchema()"
   ]
  },
  {
   "cell_type": "code",
   "execution_count": 5,
   "metadata": {},
   "outputs": [
    {
     "name": "stdout",
     "output_type": "stream",
     "text": [
      "+----------------+--------------------+------------+---------------+--------------------+--------------------+\n",
      "|SEMANA_TRADUZIDA|            NM_CANAL|TOTAL_VIDEOS|DATA_PUBLICACAO|             ASSUNTO|            ID_CANAL|\n",
      "+----------------+--------------------+------------+---------------+--------------------+--------------------+\n",
      "|   Segunda-feira|Patricia de Sique...|           1|     2023-10-23|assunto_python_an...|UCd8_GwocCAx0aIi9...|\n",
      "|     Terça-feira|Data Science Chal...|           1|     2023-10-24|assunto_python_an...|UC5WY2gtQ136zqASt...|\n",
      "|     Terça-feira|Ciência de Dados ...|           1|     2023-10-17|assunto_python_an...|UCnR_-6nHlN-RrKl7...|\n",
      "|     Sexta-feira|Jason AI - Português|           1|     2023-10-27|assunto_python_an...|UCYvDxCsrwxOA-8MB...|\n",
      "|     Sexta-feira|    IA Descomplicada|           1|     2023-10-27|assunto_python_an...|UCYvDxCsrwxOA-8MB...|\n",
      "|    Quarta-feira|Garotos da Progra...|           1|     2023-10-25|assunto_python_an...|UCw8oQLhyxGelpxXj...|\n",
      "|     Terça-feira|Programação e Lib...|           1|     2023-10-17|assunto_python_an...|UCa-d0hwYHOu6ehwc...|\n",
      "|    Quarta-feira|Professor Gabriel...|           1|     2023-10-25|assunto_python_an...|UC7FD56H8vyZA30oL...|\n",
      "|    Quarta-feira| Variedades e Dicas |           1|     2023-10-18|assunto_python_an...|UCSsSCK_7t7QP_rHh...|\n",
      "|    Quarta-feira|      MARCELO ELIDIO|           1|     2023-10-18|assunto_python_an...|UCSsSCK_7t7QP_rHh...|\n",
      "|    Quinta-feira|Xperiun | Data An...|           1|     2023-10-19|assunto_python_an...|UCOcjS2ppQSqIsbMg...|\n",
      "|    Quinta-feira|Ciência de Dados ...|           1|     2023-10-26|assunto_python_an...|UCwwLM_dJ2o52sTJH...|\n",
      "|          Sábado|Eduardo | Ciência...|           1|     2023-10-21|assunto_python_an...|UCd3ThZLzVDDnKSZM...|\n",
      "|    Quarta-feira|Programador Avent...|           1|     2023-10-18|assunto_python_an...|UCKJ2JOMmbgpoRnu7...|\n",
      "|    Quarta-feira|Programador Avent...|           1|     2023-10-25|assunto_python_an...|UCKJ2JOMmbgpoRnu7...|\n",
      "|     Terça-feira|EEMTI Waldir Leop...|           1|     2023-10-24|assunto_python_an...|UC-SgvBqx-XY3MXiq...|\n",
      "|    Quinta-feira|Programação Dinâmica|           1|     2023-10-26|assunto_python_an...|UC70mr11REaCqgKke...|\n",
      "|          Sábado|#Orientação Em Te...|           1|     2023-10-21|assunto_python_an...|UCtfSUve5SABGVxMO...|\n",
      "|     Terça-feira|Digital Tech Form...|           1|     2023-10-17|assunto_python_an...|UCPGt5HY30kWEbzT1...|\n",
      "|     Sexta-feira|Ninja da Programação|           1|     2023-10-20|assunto_python_an...|UCNqlxCA5plQcNHB0...|\n",
      "+----------------+--------------------+------------+---------------+--------------------+--------------------+\n",
      "only showing top 20 rows\n",
      "\n"
     ]
    }
   ],
   "source": [
    "df_video_publicado_semana = spark.read.parquet('/home/rodrigo/Documentos/projetos/open_weather_api_apache/analise_dados_youtube/data/projetos_youtube_v2/novo_ouro/video_publicado_semana.parquet')\n",
    "df_video_publicado_semana.show()"
   ]
  },
  {
   "cell_type": "code",
   "execution_count": 6,
   "metadata": {},
   "outputs": [
    {
     "name": "stdout",
     "output_type": "stream",
     "text": [
      "root\n",
      " |-- SEMANA_TRADUZIDA: string (nullable = true)\n",
      " |-- NM_CANAL: string (nullable = true)\n",
      " |-- TOTAL_VIDEOS: long (nullable = true)\n",
      " |-- DATA_PUBLICACAO: date (nullable = true)\n",
      " |-- ASSUNTO: string (nullable = true)\n",
      " |-- ID_CANAL: string (nullable = true)\n",
      "\n"
     ]
    }
   ],
   "source": [
    "df_video_publicado_semana.printSchema()"
   ]
  },
  {
   "cell_type": "code",
   "execution_count": 4,
   "metadata": {},
   "outputs": [],
   "source": [
    "spark.stop()"
   ]
  }
 ],
 "metadata": {
  "kernelspec": {
   "display_name": "venv",
   "language": "python",
   "name": "python3"
  },
  "language_info": {
   "codemirror_mode": {
    "name": "ipython",
    "version": 3
   },
   "file_extension": ".py",
   "mimetype": "text/x-python",
   "name": "python",
   "nbconvert_exporter": "python",
   "pygments_lexer": "ipython3",
   "version": "3.10.12"
  }
 },
 "nbformat": 4,
 "nbformat_minor": 2
}
