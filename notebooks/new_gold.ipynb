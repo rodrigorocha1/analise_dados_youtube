{
 "cells": [
  {
   "cell_type": "code",
   "execution_count": 5,
   "metadata": {},
   "outputs": [],
   "source": [
    "from pyspark.sql import SparkSession"
   ]
  },
  {
   "cell_type": "code",
   "execution_count": 6,
   "metadata": {},
   "outputs": [],
   "source": [
    "spark = SparkSession.builder.appName('new_gold').getOrCreate()"
   ]
  },
  {
   "cell_type": "code",
   "execution_count": 7,
   "metadata": {},
   "outputs": [
    {
     "ename": "AnalysisException",
     "evalue": "Path does not exist: file:/home/rodrigo/Documentos/projetos/open_weather_api_apache/analise_dados_youtube/data/projetos_youtube_v2/novo_ouro/total_visualizacoes_semana.parquet",
     "output_type": "error",
     "traceback": [
      "\u001b[0;31m---------------------------------------------------------------------------\u001b[0m",
      "\u001b[0;31mAnalysisException\u001b[0m                         Traceback (most recent call last)",
      "\u001b[1;32m/home/rodrigo/Documentos/projetos/open_weather_api_apache/analise_dados_youtube/notebooks/new_gold.ipynb Célula 3\u001b[0m line \u001b[0;36m1\n\u001b[0;32m----> <a href='vscode-notebook-cell:/home/rodrigo/Documentos/projetos/open_weather_api_apache/analise_dados_youtube/notebooks/new_gold.ipynb#W2sZmlsZQ%3D%3D?line=0'>1</a>\u001b[0m df_total_visualizacoes_semana \u001b[39m=\u001b[39m spark\u001b[39m.\u001b[39;49mread\u001b[39m.\u001b[39;49mparquet(\u001b[39m'\u001b[39;49m\u001b[39m/home/rodrigo/Documentos/projetos/open_weather_api_apache/analise_dados_youtube/data/projetos_youtube_v2/novo_ouro/total_visualizacoes_semana.parquet\u001b[39;49m\u001b[39m'\u001b[39;49m)\n\u001b[1;32m      <a href='vscode-notebook-cell:/home/rodrigo/Documentos/projetos/open_weather_api_apache/analise_dados_youtube/notebooks/new_gold.ipynb#W2sZmlsZQ%3D%3D?line=1'>2</a>\u001b[0m df_total_visualizacoes_semana\u001b[39m.\u001b[39mshow()\n",
      "File \u001b[0;32m~/Documentos/projetos/open_weather_api_apache/analise_dados_youtube/venv/lib/python3.10/site-packages/pyspark/sql/readwriter.py:364\u001b[0m, in \u001b[0;36mDataFrameReader.parquet\u001b[0;34m(self, *paths, **options)\u001b[0m\n\u001b[1;32m    353\u001b[0m int96RebaseMode \u001b[39m=\u001b[39m options\u001b[39m.\u001b[39mget(\u001b[39m\"\u001b[39m\u001b[39mint96RebaseMode\u001b[39m\u001b[39m\"\u001b[39m, \u001b[39mNone\u001b[39;00m)\n\u001b[1;32m    354\u001b[0m \u001b[39mself\u001b[39m\u001b[39m.\u001b[39m_set_opts(\n\u001b[1;32m    355\u001b[0m     mergeSchema\u001b[39m=\u001b[39mmergeSchema,\n\u001b[1;32m    356\u001b[0m     pathGlobFilter\u001b[39m=\u001b[39mpathGlobFilter,\n\u001b[0;32m   (...)\u001b[0m\n\u001b[1;32m    361\u001b[0m     int96RebaseMode\u001b[39m=\u001b[39mint96RebaseMode,\n\u001b[1;32m    362\u001b[0m )\n\u001b[0;32m--> 364\u001b[0m \u001b[39mreturn\u001b[39;00m \u001b[39mself\u001b[39m\u001b[39m.\u001b[39m_df(\u001b[39mself\u001b[39;49m\u001b[39m.\u001b[39;49m_jreader\u001b[39m.\u001b[39;49mparquet(_to_seq(\u001b[39mself\u001b[39;49m\u001b[39m.\u001b[39;49m_spark\u001b[39m.\u001b[39;49m_sc, paths)))\n",
      "File \u001b[0;32m~/Documentos/projetos/open_weather_api_apache/analise_dados_youtube/venv/lib/python3.10/site-packages/py4j/java_gateway.py:1321\u001b[0m, in \u001b[0;36mJavaMember.__call__\u001b[0;34m(self, *args)\u001b[0m\n\u001b[1;32m   1315\u001b[0m command \u001b[39m=\u001b[39m proto\u001b[39m.\u001b[39mCALL_COMMAND_NAME \u001b[39m+\u001b[39m\\\n\u001b[1;32m   1316\u001b[0m     \u001b[39mself\u001b[39m\u001b[39m.\u001b[39mcommand_header \u001b[39m+\u001b[39m\\\n\u001b[1;32m   1317\u001b[0m     args_command \u001b[39m+\u001b[39m\\\n\u001b[1;32m   1318\u001b[0m     proto\u001b[39m.\u001b[39mEND_COMMAND_PART\n\u001b[1;32m   1320\u001b[0m answer \u001b[39m=\u001b[39m \u001b[39mself\u001b[39m\u001b[39m.\u001b[39mgateway_client\u001b[39m.\u001b[39msend_command(command)\n\u001b[0;32m-> 1321\u001b[0m return_value \u001b[39m=\u001b[39m get_return_value(\n\u001b[1;32m   1322\u001b[0m     answer, \u001b[39mself\u001b[39;49m\u001b[39m.\u001b[39;49mgateway_client, \u001b[39mself\u001b[39;49m\u001b[39m.\u001b[39;49mtarget_id, \u001b[39mself\u001b[39;49m\u001b[39m.\u001b[39;49mname)\n\u001b[1;32m   1324\u001b[0m \u001b[39mfor\u001b[39;00m temp_arg \u001b[39min\u001b[39;00m temp_args:\n\u001b[1;32m   1325\u001b[0m     temp_arg\u001b[39m.\u001b[39m_detach()\n",
      "File \u001b[0;32m~/Documentos/projetos/open_weather_api_apache/analise_dados_youtube/venv/lib/python3.10/site-packages/pyspark/sql/utils.py:196\u001b[0m, in \u001b[0;36mcapture_sql_exception.<locals>.deco\u001b[0;34m(*a, **kw)\u001b[0m\n\u001b[1;32m    192\u001b[0m converted \u001b[39m=\u001b[39m convert_exception(e\u001b[39m.\u001b[39mjava_exception)\n\u001b[1;32m    193\u001b[0m \u001b[39mif\u001b[39;00m \u001b[39mnot\u001b[39;00m \u001b[39misinstance\u001b[39m(converted, UnknownException):\n\u001b[1;32m    194\u001b[0m     \u001b[39m# Hide where the exception came from that shows a non-Pythonic\u001b[39;00m\n\u001b[1;32m    195\u001b[0m     \u001b[39m# JVM exception message.\u001b[39;00m\n\u001b[0;32m--> 196\u001b[0m     \u001b[39mraise\u001b[39;00m converted \u001b[39mfrom\u001b[39;00m \u001b[39mNone\u001b[39;00m\n\u001b[1;32m    197\u001b[0m \u001b[39melse\u001b[39;00m:\n\u001b[1;32m    198\u001b[0m     \u001b[39mraise\u001b[39;00m\n",
      "\u001b[0;31mAnalysisException\u001b[0m: Path does not exist: file:/home/rodrigo/Documentos/projetos/open_weather_api_apache/analise_dados_youtube/data/projetos_youtube_v2/novo_ouro/total_visualizacoes_semana.parquet"
     ]
    }
   ],
   "source": [
    "df_total_visualizacoes_semana = spark.read.parquet('/home/rodrigo/Documentos/projetos/open_weather_api_apache/analise_dados_youtube/data/projetos_youtube_v2/novo_ouro/total_visualizacoes_semana.parquet')\n",
    "df_total_visualizacoes_semana.show()"
   ]
  },
  {
   "cell_type": "code",
   "execution_count": null,
   "metadata": {},
   "outputs": [],
   "source": [
    "df_total_visualizacoes_semana.select(\n",
    "        NM_CANAL\n",
    "        ID_VIDEO\n",
    "        TITULO_VIDEO\n",
    "        TOTAL_CARACTERE_VIDEO\n",
    "        TAGS\n",
    "        DURACAO_VIDEO_MINUTOS\n",
    "        TOTAL_TAGS\n",
    "        TOTAL_VISUALIZACOES\n",
    "        TOTAL_COMENTARIOS\n",
    "        TOTAL_LIKES\n",
    "        TOTAL_VISUALIZACOES_DIA\n",
    "        TOTAL_COMENTARIOS_DIA\n",
    "        TOTAL_LIKES_DIA\n",
    "        data_extracao\n",
    "        ID_CANAL|             ASSUNTO\n",
    "\n",
    ")"
   ]
  },
  {
   "cell_type": "code",
   "execution_count": 8,
   "metadata": {},
   "outputs": [
    {
     "name": "stdout",
     "output_type": "stream",
     "text": [
      "root\n",
      " |-- NM_CANAL: string (nullable = true)\n",
      " |-- ID_VIDEO: string (nullable = true)\n",
      " |-- TITULO_VIDEO: string (nullable = true)\n",
      " |-- TOTAL_CARACTERE_VIDEO: integer (nullable = true)\n",
      " |-- TAGS: array (nullable = true)\n",
      " |    |-- element: string (containsNull = true)\n",
      " |-- DURACAO_VIDEO_MINUTOS: float (nullable = true)\n",
      " |-- TOTAL_TAGS: integer (nullable = true)\n",
      " |-- TOTAL_VISUALIZACOES: integer (nullable = true)\n",
      " |-- TOTAL_COMENTARIOS: integer (nullable = true)\n",
      " |-- TOTAL_LIKES: integer (nullable = true)\n",
      " |-- TOTAL_VISUALIZACOES_DIA: integer (nullable = true)\n",
      " |-- TOTAL_COMENTARIOS_DIA: integer (nullable = true)\n",
      " |-- TOTAL_LIKES_DIA: integer (nullable = true)\n",
      " |-- ASSUNTO: string (nullable = true)\n",
      " |-- data_extracao: date (nullable = true)\n",
      " |-- ID_CANAL: string (nullable = true)\n",
      "\n"
     ]
    }
   ],
   "source": [
    "df_total_visualizacoes_semana.printSchema()"
   ]
  },
  {
   "cell_type": "code",
   "execution_count": 8,
   "metadata": {},
   "outputs": [
    {
     "ename": "AnalysisException",
     "evalue": "Path does not exist: file:/home/rodrigo/Documentos/projetos/open_weather_api_apache/analise_dados_youtube/data/projetos_youtube_v2/novo_ouro/comentarios.parquet",
     "output_type": "error",
     "traceback": [
      "\u001b[0;31m---------------------------------------------------------------------------\u001b[0m",
      "\u001b[0;31mAnalysisException\u001b[0m                         Traceback (most recent call last)",
      "\u001b[1;32m/home/rodrigo/Documentos/projetos/open_weather_api_apache/analise_dados_youtube/notebooks/new_gold.ipynb Célula 6\u001b[0m line \u001b[0;36m1\n\u001b[0;32m----> <a href='vscode-notebook-cell:/home/rodrigo/Documentos/projetos/open_weather_api_apache/analise_dados_youtube/notebooks/new_gold.ipynb#W4sZmlsZQ%3D%3D?line=0'>1</a>\u001b[0m df_comentarios \u001b[39m=\u001b[39m spark\u001b[39m.\u001b[39;49mread\u001b[39m.\u001b[39;49mparquet(\u001b[39m'\u001b[39;49m\u001b[39m/home/rodrigo/Documentos/projetos/open_weather_api_apache/analise_dados_youtube/data/projetos_youtube_v2/novo_ouro/comentarios.parquet\u001b[39;49m\u001b[39m'\u001b[39;49m)\n\u001b[1;32m      <a href='vscode-notebook-cell:/home/rodrigo/Documentos/projetos/open_weather_api_apache/analise_dados_youtube/notebooks/new_gold.ipynb#W4sZmlsZQ%3D%3D?line=1'>2</a>\u001b[0m df_comentarios\u001b[39m.\u001b[39mshow()\n",
      "File \u001b[0;32m~/Documentos/projetos/open_weather_api_apache/analise_dados_youtube/venv/lib/python3.10/site-packages/pyspark/sql/readwriter.py:364\u001b[0m, in \u001b[0;36mDataFrameReader.parquet\u001b[0;34m(self, *paths, **options)\u001b[0m\n\u001b[1;32m    353\u001b[0m int96RebaseMode \u001b[39m=\u001b[39m options\u001b[39m.\u001b[39mget(\u001b[39m\"\u001b[39m\u001b[39mint96RebaseMode\u001b[39m\u001b[39m\"\u001b[39m, \u001b[39mNone\u001b[39;00m)\n\u001b[1;32m    354\u001b[0m \u001b[39mself\u001b[39m\u001b[39m.\u001b[39m_set_opts(\n\u001b[1;32m    355\u001b[0m     mergeSchema\u001b[39m=\u001b[39mmergeSchema,\n\u001b[1;32m    356\u001b[0m     pathGlobFilter\u001b[39m=\u001b[39mpathGlobFilter,\n\u001b[0;32m   (...)\u001b[0m\n\u001b[1;32m    361\u001b[0m     int96RebaseMode\u001b[39m=\u001b[39mint96RebaseMode,\n\u001b[1;32m    362\u001b[0m )\n\u001b[0;32m--> 364\u001b[0m \u001b[39mreturn\u001b[39;00m \u001b[39mself\u001b[39m\u001b[39m.\u001b[39m_df(\u001b[39mself\u001b[39;49m\u001b[39m.\u001b[39;49m_jreader\u001b[39m.\u001b[39;49mparquet(_to_seq(\u001b[39mself\u001b[39;49m\u001b[39m.\u001b[39;49m_spark\u001b[39m.\u001b[39;49m_sc, paths)))\n",
      "File \u001b[0;32m~/Documentos/projetos/open_weather_api_apache/analise_dados_youtube/venv/lib/python3.10/site-packages/py4j/java_gateway.py:1321\u001b[0m, in \u001b[0;36mJavaMember.__call__\u001b[0;34m(self, *args)\u001b[0m\n\u001b[1;32m   1315\u001b[0m command \u001b[39m=\u001b[39m proto\u001b[39m.\u001b[39mCALL_COMMAND_NAME \u001b[39m+\u001b[39m\\\n\u001b[1;32m   1316\u001b[0m     \u001b[39mself\u001b[39m\u001b[39m.\u001b[39mcommand_header \u001b[39m+\u001b[39m\\\n\u001b[1;32m   1317\u001b[0m     args_command \u001b[39m+\u001b[39m\\\n\u001b[1;32m   1318\u001b[0m     proto\u001b[39m.\u001b[39mEND_COMMAND_PART\n\u001b[1;32m   1320\u001b[0m answer \u001b[39m=\u001b[39m \u001b[39mself\u001b[39m\u001b[39m.\u001b[39mgateway_client\u001b[39m.\u001b[39msend_command(command)\n\u001b[0;32m-> 1321\u001b[0m return_value \u001b[39m=\u001b[39m get_return_value(\n\u001b[1;32m   1322\u001b[0m     answer, \u001b[39mself\u001b[39;49m\u001b[39m.\u001b[39;49mgateway_client, \u001b[39mself\u001b[39;49m\u001b[39m.\u001b[39;49mtarget_id, \u001b[39mself\u001b[39;49m\u001b[39m.\u001b[39;49mname)\n\u001b[1;32m   1324\u001b[0m \u001b[39mfor\u001b[39;00m temp_arg \u001b[39min\u001b[39;00m temp_args:\n\u001b[1;32m   1325\u001b[0m     temp_arg\u001b[39m.\u001b[39m_detach()\n",
      "File \u001b[0;32m~/Documentos/projetos/open_weather_api_apache/analise_dados_youtube/venv/lib/python3.10/site-packages/pyspark/sql/utils.py:196\u001b[0m, in \u001b[0;36mcapture_sql_exception.<locals>.deco\u001b[0;34m(*a, **kw)\u001b[0m\n\u001b[1;32m    192\u001b[0m converted \u001b[39m=\u001b[39m convert_exception(e\u001b[39m.\u001b[39mjava_exception)\n\u001b[1;32m    193\u001b[0m \u001b[39mif\u001b[39;00m \u001b[39mnot\u001b[39;00m \u001b[39misinstance\u001b[39m(converted, UnknownException):\n\u001b[1;32m    194\u001b[0m     \u001b[39m# Hide where the exception came from that shows a non-Pythonic\u001b[39;00m\n\u001b[1;32m    195\u001b[0m     \u001b[39m# JVM exception message.\u001b[39;00m\n\u001b[0;32m--> 196\u001b[0m     \u001b[39mraise\u001b[39;00m converted \u001b[39mfrom\u001b[39;00m \u001b[39mNone\u001b[39;00m\n\u001b[1;32m    197\u001b[0m \u001b[39melse\u001b[39;00m:\n\u001b[1;32m    198\u001b[0m     \u001b[39mraise\u001b[39;00m\n",
      "\u001b[0;31mAnalysisException\u001b[0m: Path does not exist: file:/home/rodrigo/Documentos/projetos/open_weather_api_apache/analise_dados_youtube/data/projetos_youtube_v2/novo_ouro/comentarios.parquet"
     ]
    }
   ],
   "source": [
    "df_comentarios = spark.read.parquet('/home/rodrigo/Documentos/projetos/open_weather_api_apache/analise_dados_youtube/data/projetos_youtube_v2/novo_ouro/comentarios.parquet')\n",
    "df_comentarios.show()"
   ]
  },
  {
   "cell_type": "code",
   "execution_count": 11,
   "metadata": {},
   "outputs": [
    {
     "name": "stdout",
     "output_type": "stream",
     "text": [
      "root\n",
      " |-- ID_COMENTARIO: string (nullable = true)\n",
      " |-- TEXTO_COMENTARIO: string (nullable = true)\n",
      " |-- ASSUNTO: string (nullable = true)\n",
      " |-- ID_CANAL: string (nullable = true)\n",
      " |-- ID_VIDEO: string (nullable = true)\n",
      "\n"
     ]
    }
   ],
   "source": [
    "df_comentarios.printSchema()"
   ]
  },
  {
   "cell_type": "code",
   "execution_count": 13,
   "metadata": {},
   "outputs": [
    {
     "name": "stderr",
     "output_type": "stream",
     "text": [
      "[Stage 82:>                                                         (0 + 1) / 1]\r"
     ]
    },
    {
     "name": "stdout",
     "output_type": "stream",
     "text": [
      "+--------------------+-----------------------+--------------------+--------------------+--------------------+\n",
      "|               TEXTO|ID_RESPOSTA_COMENTARIOS|             ASSUNTO|            ID_CANAL|       ID_COMENTARIO|\n",
      "+--------------------+-----------------------+--------------------+--------------------+--------------------+\n",
      "|@soneideoliveira1...|   9w2m0olb90j9w2vs6...|assunto_python_an...|UCEQ12yB8QLw9pVOY...|UgyU8D5LlUlpvi7WM...|\n",
      "|@Alytreta o que i...|   9wCw6FMDJoi9wD7ft...|assunto_python_an...|UCbww3yb1rObMQURa...|UgzURj6m_kQipewgj...|\n",
      "|@josianethomazini...|   9w1f289nG7d9w2uqp...|assunto_python_an...|UCEQ12yB8QLw9pVOY...|UgwMsJQneJDzBTQ5i...|\n",
      "|​@Jeferson Diogen...|   9w1Jq6FyOGC9w2vUV...|assunto_python_an...|UCEQ12yB8QLw9pVOY...|Ugx6Hwjsj4VOhH8qg...|\n",
      "|@Joelson Gomes eu...|   9w1Jq6FyOGC9w3laV...|assunto_python_an...|UCEQ12yB8QLw9pVOY...|Ugx6Hwjsj4VOhH8qg...|\n",
      "|@Luana Cerqueira ...|   9w1Jq6FyOGC9wANay...|assunto_python_an...|UCEQ12yB8QLw9pVOY...|Ugx6Hwjsj4VOhH8qg...|\n",
      "|A religião nunca ...|   9w1Jq6FyOGC9w2vzD...|assunto_python_an...|UCEQ12yB8QLw9pVOY...|Ugx6Hwjsj4VOhH8qg...|\n",
      "|A religião nunca ...|   9w1Jq6FyOGC9w2vn6...|assunto_python_an...|UCEQ12yB8QLw9pVOY...|Ugx6Hwjsj4VOhH8qg...|\n",
      "|@Regulus de Leão ...|   9w1Jq6FyOGC9w3-7H...|assunto_python_an...|UCEQ12yB8QLw9pVOY...|Ugx6Hwjsj4VOhH8qg...|\n",
      "|As pessoas querem...|   9w1Jq6FyOGC9wNlVG...|assunto_python_an...|UCEQ12yB8QLw9pVOY...|Ugx6Hwjsj4VOhH8qg...|\n",
      "|@Cadeira de prata...|   9w1Jq6FyOGC9w3AUa...|assunto_python_an...|UCEQ12yB8QLw9pVOY...|Ugx6Hwjsj4VOhH8qg...|\n",
      "|​@SUZANA mocelins...|   9w1Jq6FyOGC9w8Xo-...|assunto_python_an...|UCEQ12yB8QLw9pVOY...|Ugx6Hwjsj4VOhH8qg...|\n",
      "|@AndreaBaijao\\nco...|   9w1cZmKiXGM9w2wAS...|assunto_python_an...|UCEQ12yB8QLw9pVOY...|Ugx5UrYPbqn5-Oflm...|\n",
      "|Opa, tudo bom Lui...|   9w0-rMGGB6_9w0B-e...|    assunto_power_bi|UCOcjS2ppQSqIsbMg...|Ugy8BJaSvYXUyviqt...|\n",
      "|@Holanda Bomfim N...|   9w1TdGM11hK9wAsVb...|assunto_python_an...|UCEQ12yB8QLw9pVOY...|Ugx414gLLe0Dk34fB...|\n",
      "|Você não pode neg...|   9w1TdGM11hK9w2v7s...|assunto_python_an...|UCEQ12yB8QLw9pVOY...|Ugx414gLLe0Dk34fB...|\n",
      "|Errado!!!! A inqu...|   9w1TdGM11hK9w2VvZ...|assunto_python_an...|UCEQ12yB8QLw9pVOY...|Ugx414gLLe0Dk34fB...|\n",
      "|Olá, compreendi e...|   9w1TdGM11hK9wC0kj...|assunto_python_an...|UCEQ12yB8QLw9pVOY...|Ugx414gLLe0Dk34fB...|\n",
      "|​@rosangela apare...|   9w1TdGM11hK9w5-JV...|assunto_python_an...|UCEQ12yB8QLw9pVOY...|Ugx414gLLe0Dk34fB...|\n",
      "|o foda é que não ...|   9w0MkpuEPl69w0RCN...|assunto_cities_sk...|UCrxFTbIV_8sUVJ59...|Ugy7wYt-WzUbXWUX2...|\n",
      "+--------------------+-----------------------+--------------------+--------------------+--------------------+\n",
      "only showing top 20 rows\n",
      "\n"
     ]
    },
    {
     "name": "stderr",
     "output_type": "stream",
     "text": [
      "                                                                                \r"
     ]
    }
   ],
   "source": [
    "df_resposta_comentarios = spark.read.parquet('/home/rodrigo/Documentos/projetos/open_weather_api_apache/analise_dados_youtube/data/projetos_youtube_v2/novo_ouro/resposta_comentarios.parquet')\n",
    "df_resposta_comentarios.show()"
   ]
  },
  {
   "cell_type": "code",
   "execution_count": 14,
   "metadata": {},
   "outputs": [
    {
     "name": "stdout",
     "output_type": "stream",
     "text": [
      "root\n",
      " |-- ID_COMENTARIO: string (nullable = true)\n",
      " |-- TEXTO_COMENTARIO: string (nullable = true)\n",
      " |-- ASSUNTO: string (nullable = true)\n",
      " |-- ID_CANAL: string (nullable = true)\n",
      " |-- ID_VIDEO: string (nullable = true)\n",
      "\n"
     ]
    }
   ],
   "source": [
    "df_comentarios.printSchema()"
   ]
  },
  {
   "cell_type": "code",
   "execution_count": 16,
   "metadata": {},
   "outputs": [
    {
     "name": "stderr",
     "output_type": "stream",
     "text": [
      "[Stage 87:>                                                         (0 + 1) / 1]\r"
     ]
    },
    {
     "name": "stdout",
     "output_type": "stream",
     "text": [
      "+----------------+--------------------+------------+--------------------+---------------+--------------------+\n",
      "|SEMANA_TRADUZIDA|            NM_CANAL|TOTAL_VIDEOS|             ASSUNTO|DATA_PUBLICACAO|            ID_CANAL|\n",
      "+----------------+--------------------+------------+--------------------+---------------+--------------------+\n",
      "|    Quinta-feira|EducaABERJ - Asso...|           1|    assunto_power_bi|     2023-10-26|UCKlyjSFal7jgtMVD...|\n",
      "|   Segunda-feira|Excel do Zero ao ...|           1|    assunto_power_bi|     2023-10-16|UCV4t8SmkcGLHXHbH...|\n",
      "|     Terça-feira|Excel do Zero ao ...|           1|    assunto_power_bi|     2023-10-24|UCV4t8SmkcGLHXHbH...|\n",
      "|     Sexta-feira|Excel do Zero ao ...|           1|    assunto_power_bi|     2023-10-20|UCV4t8SmkcGLHXHbH...|\n",
      "|   Segunda-feira|Canal dos Cursos ...|           1|    assunto_power_bi|     2023-10-16|UCGyqOs1_RKC8CBnd...|\n",
      "|    Quinta-feira|Canal dos Cursos ...|           1|    assunto_power_bi|     2023-10-26|UCGyqOs1_RKC8CBnd...|\n",
      "|    Quarta-feira|Professor Fabrici...|           1|assunto_python_an...|     2023-10-18|UC_bJMXMZkxdkLcSe...|\n",
      "|    Quarta-feira|Professor Fabrici...|           1|assunto_python_an...|     2023-10-25|UC_bJMXMZkxdkLcSe...|\n",
      "|     Sexta-feira|Power Apps na Prá...|           1|    assunto_power_bi|     2023-10-27|UCEn6ZNpD9Qpgqh28...|\n",
      "|   Segunda-feira|Portal do Conheci...|           1|assunto_python_an...|     2023-10-23|UCHQun4keJGrj8RqD...|\n",
      "|    Quarta-feira|BL4D3N | Jogos de...|           1|assunto_cities_sk...|     2023-10-25|UCIv5D2ro1owj6P7O...|\n",
      "|    Quarta-feira|Portal do Conheci...|           1|assunto_python_an...|     2023-10-18|UCHQun4keJGrj8RqD...|\n",
      "|    Quarta-feira|Portal do Conheci...|           1|assunto_python_an...|     2023-10-25|UCHQun4keJGrj8RqD...|\n",
      "|     Terça-feira|Portal do Conheci...|           1|assunto_python_an...|     2023-10-24|UCHQun4keJGrj8RqD...|\n",
      "|    Quarta-feira|BL4D3N | Jogos de...|           1|assunto_cities_sk...|     2023-10-25|UCIv5D2ro1owj6P7O...|\n",
      "|    Quinta-feira|Portal do Conheci...|           1|assunto_python_an...|     2023-10-26|UCHQun4keJGrj8RqD...|\n",
      "|    Quarta-feira|Amigurumi Passo a...|           1|    assunto_power_bi|     2023-10-18|UClZqcB3EsrcngoOx...|\n",
      "|    Quinta-feira|Amigurumi Passo a...|           1|    assunto_power_bi|     2023-10-19|UClZqcB3EsrcngoOx...|\n",
      "|     Sexta-feira|Defensoria Públic...|           1|    assunto_power_bi|     2023-10-27|UCxfK8fA5D95ClVoK...|\n",
      "|    Quinta-feira|Bad Influence gui...|           1|assunto_cities_sk...|     2023-10-26|UC8FS3_qf6F194QTY...|\n",
      "+----------------+--------------------+------------+--------------------+---------------+--------------------+\n",
      "only showing top 20 rows\n",
      "\n"
     ]
    },
    {
     "name": "stderr",
     "output_type": "stream",
     "text": [
      "                                                                                \r"
     ]
    }
   ],
   "source": [
    "df_video_publicado_semana = spark.read.parquet('/home/rodrigo/Documentos/projetos/open_weather_api_apache/analise_dados_youtube/data/projetos_youtube_v2/novo_ouro/video_publicado_semana.parquet')\n",
    "df_video_publicado_semana.show()"
   ]
  },
  {
   "cell_type": "code",
   "execution_count": 17,
   "metadata": {},
   "outputs": [
    {
     "name": "stdout",
     "output_type": "stream",
     "text": [
      "root\n",
      " |-- SEMANA_TRADUZIDA: string (nullable = true)\n",
      " |-- NM_CANAL: string (nullable = true)\n",
      " |-- TOTAL_VIDEOS: long (nullable = true)\n",
      " |-- ASSUNTO: string (nullable = true)\n",
      " |-- DATA_PUBLICACAO: date (nullable = true)\n",
      " |-- ID_CANAL: string (nullable = true)\n",
      "\n"
     ]
    }
   ],
   "source": [
    "df_video_publicado_semana.printSchema()"
   ]
  }
 ],
 "metadata": {
  "kernelspec": {
   "display_name": "venv",
   "language": "python",
   "name": "python3"
  },
  "language_info": {
   "codemirror_mode": {
    "name": "ipython",
    "version": 3
   },
   "file_extension": ".py",
   "mimetype": "text/x-python",
   "name": "python",
   "nbconvert_exporter": "python",
   "pygments_lexer": "ipython3",
   "version": "3.10.12"
  }
 },
 "nbformat": 4,
 "nbformat_minor": 2
}
