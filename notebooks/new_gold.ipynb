{
 "cells": [
  {
   "cell_type": "code",
   "execution_count": 5,
   "metadata": {},
   "outputs": [],
   "source": [
    "from pyspark.sql import SparkSession"
   ]
  },
  {
   "cell_type": "code",
   "execution_count": 6,
   "metadata": {},
   "outputs": [],
   "source": [
    "spark = SparkSession.builder.appName('new_gold').getOrCreate()"
   ]
  },
  {
   "cell_type": "code",
   "execution_count": 7,
   "metadata": {},
   "outputs": [
    {
     "name": "stdout",
     "output_type": "stream",
     "text": [
      "+---------------+-----------+--------------------+---------------------+--------------------+---------------------+----------+-------------------+-----------------+-----------+-----------------------+---------------------+---------------+--------------------+-------------+--------------------+\n",
      "|       NM_CANAL|   ID_VIDEO|        TITULO_VIDEO|TOTAL_CARACTERE_VIDEO|                TAGS|DURACAO_VIDEO_MINUTOS|TOTAL_TAGS|TOTAL_VISUALIZACOES|TOTAL_COMENTARIOS|TOTAL_LIKES|TOTAL_VISUALIZACOES_DIA|TOTAL_COMENTARIOS_DIA|TOTAL_LIKES_DIA|             ASSUNTO|data_extracao|            ID_CANAL|\n",
      "+---------------+-----------+--------------------+---------------------+--------------------+---------------------+----------+-------------------+-----------------+-----------+-----------------------+---------------------+---------------+--------------------+-------------+--------------------+\n",
      "|ChratosGameplay|-QaSHAsHQSs|CITIES SKYLINES 2...|                   81|                null|                  0.0|         0|                  0|                0|         50|                      0|                    0|             50|assunto_cities_sk...|   2023-10-27|UCrOH1V-FyMunBIMr...|\n",
      "|ChratosGameplay|6RgEh-9KAgY|PREFEITURA E PREV...|                   67|[cities skylines,...|                26.88|        31|              42650|              220|       5600|                   3257|                    5|            283|assunto_cities_sk...|   2023-10-27|UCrOH1V-FyMunBIMr...|\n",
      "|ChratosGameplay|9SGBZ7GE5EA|SUPER SUBÚRBIO FA...|                   70|[cities skylines,...|                25.67|        31|              54375|              213|       6855|                   1561|                  213|            148|assunto_cities_sk...|   2023-10-27|UCrOH1V-FyMunBIMr...|\n",
      "|ChratosGameplay|KfzZNkdyeEs|POLUIÇÃO FORÇA MI...|                   81|[cities skylines,...|                28.43|        31|              50789|              124|       6448|                   1853|                  124|            165|assunto_cities_sk...|   2023-10-27|UCrOH1V-FyMunBIMr...|\n",
      "|ChratosGameplay|QwXP79P4xS0|TRANSPORTE PÚBLIC...|                   64|[cities skylines,...|                32.28|        31|              39265|              180|       5046|                  13719|                   37|           1003|assunto_cities_sk...|   2023-10-27|UCrOH1V-FyMunBIMr...|\n",
      "|ChratosGameplay|TBZuVHi3QdM|BALSAS, BUSÕES E ...|                   68|[cities skylines,...|                29.13|        31|              50480|              157|       6330|                   2027|                    2|            171|assunto_cities_sk...|   2023-10-27|UCrOH1V-FyMunBIMr...|\n",
      "|ChratosGameplay|V_d6T_UKRDg|CITIES SKYLINES 2...|                   87|                null|                  0.0|         0|                  0|                0|         51|                      0|                    0|             51|assunto_cities_sk...|   2023-10-27|UCrOH1V-FyMunBIMr...|\n",
      "|ChratosGameplay|XOUzWJ0bHuw|MODDERS decidem f...|                   92|[ascent of ashes,...|                23.25|        33|               9540|               33|       1078|                     19|                   33|              2|assunto_cities_sk...|   2023-10-27|UCrOH1V-FyMunBIMr...|\n",
      "|ChratosGameplay|dRzwiPwGH_M|Planejamento inic...|                   90|[Cities Skylines,...|                25.22|        37|              18599|               79|       2418|                    169|                   79|             14|assunto_cities_sk...|   2023-10-27|UCrOH1V-FyMunBIMr...|\n",
      "|ChratosGameplay|mfCGsYnClDU|CITIES SKYLINES 2...|                   88|                null|                  0.0|         0|                  0|                0|        149|                      0|                    0|            149|assunto_cities_sk...|   2023-10-27|UCrOH1V-FyMunBIMr...|\n",
      "|ChratosGameplay|totHMIv6_hI|PEQUENA FORTUNA E...|                   70|[cities skylines,...|                31.92|        31|              71357|              188|       8978|                   1889|                    2|            139|assunto_cities_sk...|   2023-10-27|UCrOH1V-FyMunBIMr...|\n",
      "|ChratosGameplay|up4KrHrRwLY|DO CRIADOR DA MEL...|                   88|[cities skylines,...|                42.43|        28|              33628|              111|       3382|                   1246|                    1|             61|assunto_cities_sk...|   2023-10-27|UCrOH1V-FyMunBIMr...|\n",
      "|ChratosGameplay|vy-upTpchig|PRIMEIRA PRAÇA DA...|                   63|[cities skylines,...|                22.95|        31|              60786|              201|       7321|                   1568|                    1|            156|assunto_cities_sk...|   2023-10-27|UCrOH1V-FyMunBIMr...|\n",
      "|ChratosGameplay|wCLSZxLfUAk|MELHOR JOGO DE CO...|                   75|[cities skylines,...|                19.63|        31|             120812|              418|      13988|                   3437|                    2|            204|assunto_cities_sk...|   2023-10-27|UCrOH1V-FyMunBIMr...|\n",
      "|ChratosGameplay|xCaUzgIM6Bg|Vias expressas/Ro...|                   86|[cities skylines,...|                19.02|        31|              18620|               54|       1368|                   2388|                    3|            100|assunto_cities_sk...|   2023-10-27|UCrOH1V-FyMunBIMr...|\n",
      "|ChratosGameplay|xSAyLQ9h22k|OBRAS DO ANEL ROD...|                   60|[cities skylines,...|                26.32|        31|              15805|              139|       2753|                  15805|                  139|           2753|assunto_cities_sk...|   2023-10-27|UCrOH1V-FyMunBIMr...|\n",
      "|ChratosGameplay|zFO5_abqEss|Vias coletoras/ar...|                   78|[cities skylines,...|                16.78|        31|              19942|               63|       1950|                    435|                    1|             32|assunto_cities_sk...|   2023-10-27|UCrOH1V-FyMunBIMr...|\n",
      "|ChratosGameplay|zyG3nFm9BB8|SIMULADOR DE PLAT...|                   64|[drill deal, dril...|                34.05|        33|              24021|               40|       2441|                    324|                   40|              8|assunto_cities_sk...|   2023-10-27|UCrOH1V-FyMunBIMr...|\n",
      "|ChratosGameplay|-QaSHAsHQSs|CITIES SKYLINES 2...|                   81|                null|                  0.0|         0|                  0|                0|         50|                      0|                    0|             50|assunto_cities_sk...|   2023-10-27|UCrOH1V-FyMunBIMr...|\n",
      "|ChratosGameplay|6RgEh-9KAgY|PREFEITURA E PREV...|                   67|[cities skylines,...|                26.88|        31|              42650|              220|       5600|                   3257|                    5|            283|assunto_cities_sk...|   2023-10-27|UCrOH1V-FyMunBIMr...|\n",
      "+---------------+-----------+--------------------+---------------------+--------------------+---------------------+----------+-------------------+-----------------+-----------+-----------------------+---------------------+---------------+--------------------+-------------+--------------------+\n",
      "only showing top 20 rows\n",
      "\n"
     ]
    }
   ],
   "source": [
    "df_total_visualizacoes_semana = spark.read.parquet('/home/rodrigo/Documentos/projetos/open_weather_api_apache/analise_dados_youtube/data/projetos_youtube_v2/novo_ouro/total_visualizacoes_semana.parquet')\n",
    "df_total_visualizacoes_semana.show()"
   ]
  },
  {
   "cell_type": "code",
   "execution_count": 8,
   "metadata": {},
   "outputs": [
    {
     "name": "stdout",
     "output_type": "stream",
     "text": [
      "root\n",
      " |-- NM_CANAL: string (nullable = true)\n",
      " |-- ID_VIDEO: string (nullable = true)\n",
      " |-- TITULO_VIDEO: string (nullable = true)\n",
      " |-- TOTAL_CARACTERE_VIDEO: integer (nullable = true)\n",
      " |-- TAGS: array (nullable = true)\n",
      " |    |-- element: string (containsNull = true)\n",
      " |-- DURACAO_VIDEO_MINUTOS: float (nullable = true)\n",
      " |-- TOTAL_TAGS: integer (nullable = true)\n",
      " |-- TOTAL_VISUALIZACOES: integer (nullable = true)\n",
      " |-- TOTAL_COMENTARIOS: integer (nullable = true)\n",
      " |-- TOTAL_LIKES: integer (nullable = true)\n",
      " |-- TOTAL_VISUALIZACOES_DIA: integer (nullable = true)\n",
      " |-- TOTAL_COMENTARIOS_DIA: integer (nullable = true)\n",
      " |-- TOTAL_LIKES_DIA: integer (nullable = true)\n",
      " |-- ASSUNTO: string (nullable = true)\n",
      " |-- data_extracao: date (nullable = true)\n",
      " |-- ID_CANAL: string (nullable = true)\n",
      "\n"
     ]
    }
   ],
   "source": [
    "df_total_visualizacoes_semana.printSchema()"
   ]
  },
  {
   "cell_type": "code",
   "execution_count": 10,
   "metadata": {},
   "outputs": [
    {
     "name": "stdout",
     "output_type": "stream",
     "text": [
      "+--------------------+--------------------+--------------------+--------------------+-----------+\n",
      "|       ID_COMENTARIO|    TEXTO_COMENTARIO|             ASSUNTO|            ID_CANAL|   ID_VIDEO|\n",
      "+--------------------+--------------------+--------------------+--------------------+-----------+\n",
      "|Ugwo1A4xrDaZ-XKGN...|     Muito obrigado.|assunto_python_an...|UCEQ12yB8QLw9pVOY...|V_sQAmzhrdE|\n",
      "|UgxgC8_ga_1__iwbH...|O STF, através do...|assunto_python_an...|UCEQ12yB8QLw9pVOY...|V_sQAmzhrdE|\n",
      "|UgypMe09kA5OSkuWR...|           Muito bem|assunto_python_an...|UCEQ12yB8QLw9pVOY...|V_sQAmzhrdE|\n",
      "|UgzJ4nJ8p_GS6npgi...|Religiosos e suas...|assunto_python_an...|UCEQ12yB8QLw9pVOY...|V_sQAmzhrdE|\n",
      "|UgxDzoXOXpdpV8RWT...|Ahhhhhh, o ser hu...|assunto_python_an...|UCEQ12yB8QLw9pVOY...|V_sQAmzhrdE|\n",
      "|UgwKgkQrOoHt5HiDt...|SÉCULOS  ATRÁS  E...|assunto_python_an...|UCEQ12yB8QLw9pVOY...|V_sQAmzhrdE|\n",
      "|UgzvCEPAT80vyKlad...| Muito bom obrigado!|assunto_python_an...|UCEQ12yB8QLw9pVOY...|V_sQAmzhrdE|\n",
      "|Ugy1wXhWhj6jTErOV...|Bela explanação s...|assunto_python_an...|UCEQ12yB8QLw9pVOY...|V_sQAmzhrdE|\n",
      "|UgygviyhiJJdAOTz7...|Sugiro im vídeo s...|assunto_python_an...|UCEQ12yB8QLw9pVOY...|V_sQAmzhrdE|\n",
      "|UgyT1nTG54-rQc2Z_...|Obrigada pelo víd...|assunto_python_an...|UCEQ12yB8QLw9pVOY...|V_sQAmzhrdE|\n",
      "|Ugx2EBW9OLc27Fyto...|Agradeço por comp...|assunto_python_an...|UCEQ12yB8QLw9pVOY...|V_sQAmzhrdE|\n",
      "|UgymQ6sDEqfTOVLxD...|O problema não é ...|assunto_python_an...|UCEQ12yB8QLw9pVOY...|V_sQAmzhrdE|\n",
      "|UgzTFZDLeVombVlOS...|Poderia começar a...|assunto_python_an...|UCEQ12yB8QLw9pVOY...|V_sQAmzhrdE|\n",
      "|Ugz2BoGg-WBAKZYS3...|Boa noite meu que...|assunto_python_an...|UCEQ12yB8QLw9pVOY...|V_sQAmzhrdE|\n",
      "|UgwMihQ45Uuz3XSeV...|Hoje BR  Temos in...|assunto_python_an...|UCEQ12yB8QLw9pVOY...|V_sQAmzhrdE|\n",
      "|Ugx1gr9rj8XNkTEFH...|Enfim, tudo trata...|assunto_python_an...|UCEQ12yB8QLw9pVOY...|V_sQAmzhrdE|\n",
      "|UgxcUnE8RKaTJAgVI...|Parabéns! Esse ca...|assunto_python_an...|UCEQ12yB8QLw9pVOY...|V_sQAmzhrdE|\n",
      "|UgyBAPQXBBLU_GWDO...|Show!!! <br>Parab...|assunto_python_an...|UCEQ12yB8QLw9pVOY...|V_sQAmzhrdE|\n",
      "|UgydinggSOTXorR1O...|Misericórdia essa...|assunto_python_an...|UCEQ12yB8QLw9pVOY...|V_sQAmzhrdE|\n",
      "|Ugy-DxKLsY2bHl3el...|Muitas coisas,o p...|assunto_python_an...|UCEQ12yB8QLw9pVOY...|V_sQAmzhrdE|\n",
      "+--------------------+--------------------+--------------------+--------------------+-----------+\n",
      "only showing top 20 rows\n",
      "\n"
     ]
    }
   ],
   "source": [
    "df_comentarios = spark.read.parquet('/home/rodrigo/Documentos/projetos/open_weather_api_apache/analise_dados_youtube/data/projetos_youtube_v2/novo_ouro/comentarios.parquet')\n",
    "df_comentarios.show()"
   ]
  },
  {
   "cell_type": "code",
   "execution_count": 11,
   "metadata": {},
   "outputs": [
    {
     "name": "stdout",
     "output_type": "stream",
     "text": [
      "root\n",
      " |-- ID_COMENTARIO: string (nullable = true)\n",
      " |-- TEXTO_COMENTARIO: string (nullable = true)\n",
      " |-- ASSUNTO: string (nullable = true)\n",
      " |-- ID_CANAL: string (nullable = true)\n",
      " |-- ID_VIDEO: string (nullable = true)\n",
      "\n"
     ]
    }
   ],
   "source": [
    "df_comentarios.printSchema()"
   ]
  },
  {
   "cell_type": "code",
   "execution_count": 13,
   "metadata": {},
   "outputs": [
    {
     "name": "stderr",
     "output_type": "stream",
     "text": [
      "[Stage 82:>                                                         (0 + 1) / 1]\r"
     ]
    },
    {
     "name": "stdout",
     "output_type": "stream",
     "text": [
      "+--------------------+-----------------------+--------------------+--------------------+--------------------+\n",
      "|               TEXTO|ID_RESPOSTA_COMENTARIOS|             ASSUNTO|            ID_CANAL|       ID_COMENTARIO|\n",
      "+--------------------+-----------------------+--------------------+--------------------+--------------------+\n",
      "|@soneideoliveira1...|   9w2m0olb90j9w2vs6...|assunto_python_an...|UCEQ12yB8QLw9pVOY...|UgyU8D5LlUlpvi7WM...|\n",
      "|@Alytreta o que i...|   9wCw6FMDJoi9wD7ft...|assunto_python_an...|UCbww3yb1rObMQURa...|UgzURj6m_kQipewgj...|\n",
      "|@josianethomazini...|   9w1f289nG7d9w2uqp...|assunto_python_an...|UCEQ12yB8QLw9pVOY...|UgwMsJQneJDzBTQ5i...|\n",
      "|​@Jeferson Diogen...|   9w1Jq6FyOGC9w2vUV...|assunto_python_an...|UCEQ12yB8QLw9pVOY...|Ugx6Hwjsj4VOhH8qg...|\n",
      "|@Joelson Gomes eu...|   9w1Jq6FyOGC9w3laV...|assunto_python_an...|UCEQ12yB8QLw9pVOY...|Ugx6Hwjsj4VOhH8qg...|\n",
      "|@Luana Cerqueira ...|   9w1Jq6FyOGC9wANay...|assunto_python_an...|UCEQ12yB8QLw9pVOY...|Ugx6Hwjsj4VOhH8qg...|\n",
      "|A religião nunca ...|   9w1Jq6FyOGC9w2vzD...|assunto_python_an...|UCEQ12yB8QLw9pVOY...|Ugx6Hwjsj4VOhH8qg...|\n",
      "|A religião nunca ...|   9w1Jq6FyOGC9w2vn6...|assunto_python_an...|UCEQ12yB8QLw9pVOY...|Ugx6Hwjsj4VOhH8qg...|\n",
      "|@Regulus de Leão ...|   9w1Jq6FyOGC9w3-7H...|assunto_python_an...|UCEQ12yB8QLw9pVOY...|Ugx6Hwjsj4VOhH8qg...|\n",
      "|As pessoas querem...|   9w1Jq6FyOGC9wNlVG...|assunto_python_an...|UCEQ12yB8QLw9pVOY...|Ugx6Hwjsj4VOhH8qg...|\n",
      "|@Cadeira de prata...|   9w1Jq6FyOGC9w3AUa...|assunto_python_an...|UCEQ12yB8QLw9pVOY...|Ugx6Hwjsj4VOhH8qg...|\n",
      "|​@SUZANA mocelins...|   9w1Jq6FyOGC9w8Xo-...|assunto_python_an...|UCEQ12yB8QLw9pVOY...|Ugx6Hwjsj4VOhH8qg...|\n",
      "|@AndreaBaijao\\nco...|   9w1cZmKiXGM9w2wAS...|assunto_python_an...|UCEQ12yB8QLw9pVOY...|Ugx5UrYPbqn5-Oflm...|\n",
      "|Opa, tudo bom Lui...|   9w0-rMGGB6_9w0B-e...|    assunto_power_bi|UCOcjS2ppQSqIsbMg...|Ugy8BJaSvYXUyviqt...|\n",
      "|@Holanda Bomfim N...|   9w1TdGM11hK9wAsVb...|assunto_python_an...|UCEQ12yB8QLw9pVOY...|Ugx414gLLe0Dk34fB...|\n",
      "|Você não pode neg...|   9w1TdGM11hK9w2v7s...|assunto_python_an...|UCEQ12yB8QLw9pVOY...|Ugx414gLLe0Dk34fB...|\n",
      "|Errado!!!! A inqu...|   9w1TdGM11hK9w2VvZ...|assunto_python_an...|UCEQ12yB8QLw9pVOY...|Ugx414gLLe0Dk34fB...|\n",
      "|Olá, compreendi e...|   9w1TdGM11hK9wC0kj...|assunto_python_an...|UCEQ12yB8QLw9pVOY...|Ugx414gLLe0Dk34fB...|\n",
      "|​@rosangela apare...|   9w1TdGM11hK9w5-JV...|assunto_python_an...|UCEQ12yB8QLw9pVOY...|Ugx414gLLe0Dk34fB...|\n",
      "|o foda é que não ...|   9w0MkpuEPl69w0RCN...|assunto_cities_sk...|UCrxFTbIV_8sUVJ59...|Ugy7wYt-WzUbXWUX2...|\n",
      "+--------------------+-----------------------+--------------------+--------------------+--------------------+\n",
      "only showing top 20 rows\n",
      "\n"
     ]
    },
    {
     "name": "stderr",
     "output_type": "stream",
     "text": [
      "                                                                                \r"
     ]
    }
   ],
   "source": [
    "df_resposta_comentarios = spark.read.parquet('/home/rodrigo/Documentos/projetos/open_weather_api_apache/analise_dados_youtube/data/projetos_youtube_v2/novo_ouro/resposta_comentarios.parquet')\n",
    "df_resposta_comentarios.show()"
   ]
  },
  {
   "cell_type": "code",
   "execution_count": 14,
   "metadata": {},
   "outputs": [
    {
     "name": "stdout",
     "output_type": "stream",
     "text": [
      "root\n",
      " |-- ID_COMENTARIO: string (nullable = true)\n",
      " |-- TEXTO_COMENTARIO: string (nullable = true)\n",
      " |-- ASSUNTO: string (nullable = true)\n",
      " |-- ID_CANAL: string (nullable = true)\n",
      " |-- ID_VIDEO: string (nullable = true)\n",
      "\n"
     ]
    }
   ],
   "source": [
    "df_comentarios.printSchema()"
   ]
  },
  {
   "cell_type": "code",
   "execution_count": 16,
   "metadata": {},
   "outputs": [
    {
     "name": "stderr",
     "output_type": "stream",
     "text": [
      "[Stage 87:>                                                         (0 + 1) / 1]\r"
     ]
    },
    {
     "name": "stdout",
     "output_type": "stream",
     "text": [
      "+----------------+--------------------+------------+--------------------+---------------+--------------------+\n",
      "|SEMANA_TRADUZIDA|            NM_CANAL|TOTAL_VIDEOS|             ASSUNTO|DATA_PUBLICACAO|            ID_CANAL|\n",
      "+----------------+--------------------+------------+--------------------+---------------+--------------------+\n",
      "|    Quinta-feira|EducaABERJ - Asso...|           1|    assunto_power_bi|     2023-10-26|UCKlyjSFal7jgtMVD...|\n",
      "|   Segunda-feira|Excel do Zero ao ...|           1|    assunto_power_bi|     2023-10-16|UCV4t8SmkcGLHXHbH...|\n",
      "|     Terça-feira|Excel do Zero ao ...|           1|    assunto_power_bi|     2023-10-24|UCV4t8SmkcGLHXHbH...|\n",
      "|     Sexta-feira|Excel do Zero ao ...|           1|    assunto_power_bi|     2023-10-20|UCV4t8SmkcGLHXHbH...|\n",
      "|   Segunda-feira|Canal dos Cursos ...|           1|    assunto_power_bi|     2023-10-16|UCGyqOs1_RKC8CBnd...|\n",
      "|    Quinta-feira|Canal dos Cursos ...|           1|    assunto_power_bi|     2023-10-26|UCGyqOs1_RKC8CBnd...|\n",
      "|    Quarta-feira|Professor Fabrici...|           1|assunto_python_an...|     2023-10-18|UC_bJMXMZkxdkLcSe...|\n",
      "|    Quarta-feira|Professor Fabrici...|           1|assunto_python_an...|     2023-10-25|UC_bJMXMZkxdkLcSe...|\n",
      "|     Sexta-feira|Power Apps na Prá...|           1|    assunto_power_bi|     2023-10-27|UCEn6ZNpD9Qpgqh28...|\n",
      "|   Segunda-feira|Portal do Conheci...|           1|assunto_python_an...|     2023-10-23|UCHQun4keJGrj8RqD...|\n",
      "|    Quarta-feira|BL4D3N | Jogos de...|           1|assunto_cities_sk...|     2023-10-25|UCIv5D2ro1owj6P7O...|\n",
      "|    Quarta-feira|Portal do Conheci...|           1|assunto_python_an...|     2023-10-18|UCHQun4keJGrj8RqD...|\n",
      "|    Quarta-feira|Portal do Conheci...|           1|assunto_python_an...|     2023-10-25|UCHQun4keJGrj8RqD...|\n",
      "|     Terça-feira|Portal do Conheci...|           1|assunto_python_an...|     2023-10-24|UCHQun4keJGrj8RqD...|\n",
      "|    Quarta-feira|BL4D3N | Jogos de...|           1|assunto_cities_sk...|     2023-10-25|UCIv5D2ro1owj6P7O...|\n",
      "|    Quinta-feira|Portal do Conheci...|           1|assunto_python_an...|     2023-10-26|UCHQun4keJGrj8RqD...|\n",
      "|    Quarta-feira|Amigurumi Passo a...|           1|    assunto_power_bi|     2023-10-18|UClZqcB3EsrcngoOx...|\n",
      "|    Quinta-feira|Amigurumi Passo a...|           1|    assunto_power_bi|     2023-10-19|UClZqcB3EsrcngoOx...|\n",
      "|     Sexta-feira|Defensoria Públic...|           1|    assunto_power_bi|     2023-10-27|UCxfK8fA5D95ClVoK...|\n",
      "|    Quinta-feira|Bad Influence gui...|           1|assunto_cities_sk...|     2023-10-26|UC8FS3_qf6F194QTY...|\n",
      "+----------------+--------------------+------------+--------------------+---------------+--------------------+\n",
      "only showing top 20 rows\n",
      "\n"
     ]
    },
    {
     "name": "stderr",
     "output_type": "stream",
     "text": [
      "                                                                                \r"
     ]
    }
   ],
   "source": [
    "df_video_publicado_semana = spark.read.parquet('/home/rodrigo/Documentos/projetos/open_weather_api_apache/analise_dados_youtube/data/projetos_youtube_v2/novo_ouro/video_publicado_semana.parquet')\n",
    "df_video_publicado_semana.show()"
   ]
  },
  {
   "cell_type": "code",
   "execution_count": 17,
   "metadata": {},
   "outputs": [
    {
     "name": "stdout",
     "output_type": "stream",
     "text": [
      "root\n",
      " |-- SEMANA_TRADUZIDA: string (nullable = true)\n",
      " |-- NM_CANAL: string (nullable = true)\n",
      " |-- TOTAL_VIDEOS: long (nullable = true)\n",
      " |-- ASSUNTO: string (nullable = true)\n",
      " |-- DATA_PUBLICACAO: date (nullable = true)\n",
      " |-- ID_CANAL: string (nullable = true)\n",
      "\n"
     ]
    }
   ],
   "source": [
    "df_video_publicado_semana.printSchema()"
   ]
  }
 ],
 "metadata": {
  "kernelspec": {
   "display_name": "venv",
   "language": "python",
   "name": "python3"
  },
  "language_info": {
   "codemirror_mode": {
    "name": "ipython",
    "version": 3
   },
   "file_extension": ".py",
   "mimetype": "text/x-python",
   "name": "python",
   "nbconvert_exporter": "python",
   "pygments_lexer": "ipython3",
   "version": "3.10.12"
  }
 },
 "nbformat": 4,
 "nbformat_minor": 2
}
