{
 "cells": [
  {
   "cell_type": "code",
   "execution_count": 1,
   "metadata": {},
   "outputs": [],
   "source": [
    "from pyhive import hive\n",
    "import plotly.express as px\n",
    "from plotly.subplots import make_subplots\n",
    "import plotly.graph_objects as go\n",
    "import pandas as pd\n",
    "from sqlalchemy import create_engine"
   ]
  },
  {
   "cell_type": "code",
   "execution_count": 2,
   "metadata": {},
   "outputs": [],
   "source": [
    "conn = hive.Connection(host='localhost', port=10000, username='rodrigo', database='youtube')\n",
    "engine = create_engine('hive://', creator=lambda: conn)"
   ]
  },
  {
   "cell_type": "code",
   "execution_count": 5,
   "metadata": {},
   "outputs": [],
   "source": [
    "df_result = pd.read_sql_query(\n",
    "    ' SELECT * '\n",
    "    ' FROM TOTAL_VISUALIZACOES_POR_SEMANA '\n",
    "    ' where TOTAL_VISUALIZACOES_POR_SEMANA.assunto = \"assunto_cities_skylines\" ', \n",
    "    con=engine\n",
    ")"
   ]
  },
  {
   "cell_type": "code",
   "execution_count": 4,
   "metadata": {},
   "outputs": [
    {
     "data": {
      "text/html": [
       "<div>\n",
       "<style scoped>\n",
       "    .dataframe tbody tr th:only-of-type {\n",
       "        vertical-align: middle;\n",
       "    }\n",
       "\n",
       "    .dataframe tbody tr th {\n",
       "        vertical-align: top;\n",
       "    }\n",
       "\n",
       "    .dataframe thead th {\n",
       "        text-align: right;\n",
       "    }\n",
       "</style>\n",
       "<table border=\"1\" class=\"dataframe\">\n",
       "  <thead>\n",
       "    <tr style=\"text-align: right;\">\n",
       "      <th></th>\n",
       "      <th>nm_canal</th>\n",
       "      <th>titulo_video</th>\n",
       "      <th>total_caractere_video</th>\n",
       "      <th>tags</th>\n",
       "      <th>duracao_video_minutos</th>\n",
       "      <th>total_tags</th>\n",
       "      <th>total_visualizacoes</th>\n",
       "      <th>total_comentarios</th>\n",
       "      <th>total_likes</th>\n",
       "      <th>total_visualizacoes_dia</th>\n",
       "      <th>total_comentarios_dia</th>\n",
       "      <th>total_likes_dia</th>\n",
       "      <th>assunto</th>\n",
       "      <th>data_extracao</th>\n",
       "      <th>id_canal</th>\n",
       "      <th>id_video</th>\n",
       "    </tr>\n",
       "  </thead>\n",
       "  <tbody>\n",
       "    <tr>\n",
       "      <th>0</th>\n",
       "      <td>Irmãos Cities</td>\n",
       "      <td>Cities Skylines, GRANDE EXPANSÃO DA CIDADE!! -...</td>\n",
       "      <td>81</td>\n",
       "      <td>[]</td>\n",
       "      <td>29.58</td>\n",
       "      <td>0</td>\n",
       "      <td>181</td>\n",
       "      <td>12</td>\n",
       "      <td>45.0</td>\n",
       "      <td>181</td>\n",
       "      <td>12</td>\n",
       "      <td>45.0</td>\n",
       "      <td>assunto_cities_skylines</td>\n",
       "      <td>2023-10-15</td>\n",
       "      <td>UC1mk6EtfMjxR4eEZ7C43zTQ</td>\n",
       "      <td>YhXTcceM1NA</td>\n",
       "    </tr>\n",
       "    <tr>\n",
       "      <th>1</th>\n",
       "      <td>CANAL HAND - GAME WITH MUSIC</td>\n",
       "      <td>CITIES SKYLINES | MAPA COSTA DIAMANTINA | HAND...</td>\n",
       "      <td>64</td>\n",
       "      <td>[\"cities skylines\",\"cities skylines gameplay\",...</td>\n",
       "      <td>235.08</td>\n",
       "      <td>21</td>\n",
       "      <td>1</td>\n",
       "      <td>0</td>\n",
       "      <td>1.0</td>\n",
       "      <td>1</td>\n",
       "      <td>0</td>\n",
       "      <td>1.0</td>\n",
       "      <td>assunto_cities_skylines</td>\n",
       "      <td>2023-10-15</td>\n",
       "      <td>UC7v51W2NoLFawizgcNuVBOA</td>\n",
       "      <td>M34bccK5G1U</td>\n",
       "    </tr>\n",
       "    <tr>\n",
       "      <th>2</th>\n",
       "      <td>GAC TV</td>\n",
       "      <td>EQUILIBRANDO A CIDADE! | DEMOLINDO PRÉDIOS ABA...</td>\n",
       "      <td>75</td>\n",
       "      <td>[\"xbae8vvXZp1LBYAKst0k\",\"Machinimas\",\"GAC\",\"Ga...</td>\n",
       "      <td>15.07</td>\n",
       "      <td>43</td>\n",
       "      <td>7</td>\n",
       "      <td>2</td>\n",
       "      <td>2.0</td>\n",
       "      <td>7</td>\n",
       "      <td>2</td>\n",
       "      <td>2.0</td>\n",
       "      <td>assunto_cities_skylines</td>\n",
       "      <td>2023-10-15</td>\n",
       "      <td>UCEc5jA0NvvR-yJC0SISV6nw</td>\n",
       "      <td>igxEHvMej3g</td>\n",
       "    </tr>\n",
       "    <tr>\n",
       "      <th>3</th>\n",
       "      <td>Lucas gameplays brasil</td>\n",
       "      <td>Cities Skylines uma nova cidade começando do z...</td>\n",
       "      <td>72</td>\n",
       "      <td>[\"euro truck 2\",\"lucas gameplays brasil\",\"mapa...</td>\n",
       "      <td>21.15</td>\n",
       "      <td>18</td>\n",
       "      <td>8</td>\n",
       "      <td>0</td>\n",
       "      <td>0.0</td>\n",
       "      <td>8</td>\n",
       "      <td>0</td>\n",
       "      <td>0.0</td>\n",
       "      <td>assunto_cities_skylines</td>\n",
       "      <td>2023-10-15</td>\n",
       "      <td>UCOYJm7BsLV8VCkW2DC1MI5w</td>\n",
       "      <td>nMMr_myn5yI</td>\n",
       "    </tr>\n",
       "    <tr>\n",
       "      <th>4</th>\n",
       "      <td>O Veio Games</td>\n",
       "      <td>Cities Skylines 2 - Bom para PC fraco - CONFIA...</td>\n",
       "      <td>78</td>\n",
       "      <td>[\"review\",\"gameplay\",\"jogo pc\",\"jogos pc\",\"pc ...</td>\n",
       "      <td>0.38</td>\n",
       "      <td>29</td>\n",
       "      <td>441</td>\n",
       "      <td>0</td>\n",
       "      <td>19.0</td>\n",
       "      <td>441</td>\n",
       "      <td>0</td>\n",
       "      <td>19.0</td>\n",
       "      <td>assunto_cities_skylines</td>\n",
       "      <td>2023-10-15</td>\n",
       "      <td>UCOe_x5ararWwWajBKbFKNkA</td>\n",
       "      <td>weciQDqn07g</td>\n",
       "    </tr>\n",
       "  </tbody>\n",
       "</table>\n",
       "</div>"
      ],
      "text/plain": [
       "                       nm_canal  \\\n",
       "0                 Irmãos Cities   \n",
       "1  CANAL HAND - GAME WITH MUSIC   \n",
       "2                        GAC TV   \n",
       "3        Lucas gameplays brasil   \n",
       "4                  O Veio Games   \n",
       "\n",
       "                                        titulo_video  total_caractere_video  \\\n",
       "0  Cities Skylines, GRANDE EXPANSÃO DA CIDADE!! -...                     81   \n",
       "1  CITIES SKYLINES | MAPA COSTA DIAMANTINA | HAND...                     64   \n",
       "2  EQUILIBRANDO A CIDADE! | DEMOLINDO PRÉDIOS ABA...                     75   \n",
       "3  Cities Skylines uma nova cidade começando do z...                     72   \n",
       "4  Cities Skylines 2 - Bom para PC fraco - CONFIA...                     78   \n",
       "\n",
       "                                                tags  duracao_video_minutos  \\\n",
       "0                                                 []                  29.58   \n",
       "1  [\"cities skylines\",\"cities skylines gameplay\",...                 235.08   \n",
       "2  [\"xbae8vvXZp1LBYAKst0k\",\"Machinimas\",\"GAC\",\"Ga...                  15.07   \n",
       "3  [\"euro truck 2\",\"lucas gameplays brasil\",\"mapa...                  21.15   \n",
       "4  [\"review\",\"gameplay\",\"jogo pc\",\"jogos pc\",\"pc ...                   0.38   \n",
       "\n",
       "   total_tags  total_visualizacoes  total_comentarios  total_likes  \\\n",
       "0           0                  181                 12         45.0   \n",
       "1          21                    1                  0          1.0   \n",
       "2          43                    7                  2          2.0   \n",
       "3          18                    8                  0          0.0   \n",
       "4          29                  441                  0         19.0   \n",
       "\n",
       "   total_visualizacoes_dia  total_comentarios_dia  total_likes_dia  \\\n",
       "0                      181                     12             45.0   \n",
       "1                        1                      0              1.0   \n",
       "2                        7                      2              2.0   \n",
       "3                        8                      0              0.0   \n",
       "4                      441                      0             19.0   \n",
       "\n",
       "                   assunto data_extracao                  id_canal  \\\n",
       "0  assunto_cities_skylines    2023-10-15  UC1mk6EtfMjxR4eEZ7C43zTQ   \n",
       "1  assunto_cities_skylines    2023-10-15  UC7v51W2NoLFawizgcNuVBOA   \n",
       "2  assunto_cities_skylines    2023-10-15  UCEc5jA0NvvR-yJC0SISV6nw   \n",
       "3  assunto_cities_skylines    2023-10-15  UCOYJm7BsLV8VCkW2DC1MI5w   \n",
       "4  assunto_cities_skylines    2023-10-15  UCOe_x5ararWwWajBKbFKNkA   \n",
       "\n",
       "      id_video  \n",
       "0  YhXTcceM1NA  \n",
       "1  M34bccK5G1U  \n",
       "2  igxEHvMej3g  \n",
       "3  nMMr_myn5yI  \n",
       "4  weciQDqn07g  "
      ]
     },
     "execution_count": 4,
     "metadata": {},
     "output_type": "execute_result"
    }
   ],
   "source": [
    "df_result.head()"
   ]
  },
  {
   "cell_type": "code",
   "execution_count": 6,
   "metadata": {},
   "outputs": [
    {
     "data": {
      "text/plain": [
       "nm_canal                    object\n",
       "titulo_video                object\n",
       "total_caractere_video        int64\n",
       "tags                        object\n",
       "duracao_video_minutos      float64\n",
       "total_tags                   int64\n",
       "total_visualizacoes          int64\n",
       "total_comentarios            int64\n",
       "total_likes                float64\n",
       "total_visualizacoes_dia      int64\n",
       "total_comentarios_dia        int64\n",
       "total_likes_dia            float64\n",
       "assunto                     object\n",
       "data_extracao               object\n",
       "id_canal                    object\n",
       "id_video                    object\n",
       "dtype: object"
      ]
     },
     "execution_count": 6,
     "metadata": {},
     "output_type": "execute_result"
    }
   ],
   "source": [
    "df_result.dtypes"
   ]
  },
  {
   "cell_type": "code",
   "execution_count": 23,
   "metadata": {},
   "outputs": [
    {
     "data": {
      "text/plain": [
       "(14, 16)"
      ]
     },
     "execution_count": 23,
     "metadata": {},
     "output_type": "execute_result"
    }
   ],
   "source": [
    "df_result.shape"
   ]
  },
  {
   "cell_type": "markdown",
   "metadata": {},
   "source": [
    "# Relação Comentários X Visualização (proporção) e Relação Visualizações X Likes (proporção)"
   ]
  },
  {
   "cell_type": "code",
   "execution_count": 7,
   "metadata": {},
   "outputs": [
    {
     "data": {
      "text/html": [
       "<div>\n",
       "<style scoped>\n",
       "    .dataframe tbody tr th:only-of-type {\n",
       "        vertical-align: middle;\n",
       "    }\n",
       "\n",
       "    .dataframe tbody tr th {\n",
       "        vertical-align: top;\n",
       "    }\n",
       "\n",
       "    .dataframe thead th {\n",
       "        text-align: right;\n",
       "    }\n",
       "</style>\n",
       "<table border=\"1\" class=\"dataframe\">\n",
       "  <thead>\n",
       "    <tr style=\"text-align: right;\">\n",
       "      <th></th>\n",
       "      <th>nm_canal</th>\n",
       "      <th>titulo_video</th>\n",
       "      <th>total_caractere_video</th>\n",
       "      <th>tags</th>\n",
       "      <th>duracao_video_minutos</th>\n",
       "      <th>total_tags</th>\n",
       "      <th>total_visualizacoes</th>\n",
       "      <th>total_comentarios</th>\n",
       "      <th>total_likes</th>\n",
       "      <th>total_visualizacoes_dia</th>\n",
       "      <th>total_comentarios_dia</th>\n",
       "      <th>total_likes_dia</th>\n",
       "      <th>assunto</th>\n",
       "      <th>data_extracao</th>\n",
       "      <th>id_canal</th>\n",
       "      <th>id_video</th>\n",
       "    </tr>\n",
       "  </thead>\n",
       "  <tbody>\n",
       "    <tr>\n",
       "      <th>1433</th>\n",
       "      <td>ChratosGameplay</td>\n",
       "      <td>MELHOR JOGO DE CONSTRUIR CIDADES CHEGOU E ESTÁ...</td>\n",
       "      <td>75</td>\n",
       "      <td>[\"cities skylines\",\"cities skylines 2\",\"cities...</td>\n",
       "      <td>19.63</td>\n",
       "      <td>31</td>\n",
       "      <td>120812</td>\n",
       "      <td>418</td>\n",
       "      <td>13988.0</td>\n",
       "      <td>3437</td>\n",
       "      <td>2</td>\n",
       "      <td>204.0</td>\n",
       "      <td>assunto_cities_skylines</td>\n",
       "      <td>2023-10-27</td>\n",
       "      <td>UCrOH1V-FyMunBIMrKL0y0xQ</td>\n",
       "      <td>wCLSZxLfUAk</td>\n",
       "    </tr>\n",
       "    <tr>\n",
       "      <th>1191</th>\n",
       "      <td>ChratosGameplay</td>\n",
       "      <td>MELHOR JOGO DE CONSTRUIR CIDADES CHEGOU E ESTÁ...</td>\n",
       "      <td>75</td>\n",
       "      <td>[\"cities skylines\",\"cities skylines 2\",\"cities...</td>\n",
       "      <td>19.63</td>\n",
       "      <td>31</td>\n",
       "      <td>117375</td>\n",
       "      <td>416</td>\n",
       "      <td>13784.0</td>\n",
       "      <td>5533</td>\n",
       "      <td>2</td>\n",
       "      <td>324.0</td>\n",
       "      <td>assunto_cities_skylines</td>\n",
       "      <td>2023-10-26</td>\n",
       "      <td>UCrOH1V-FyMunBIMrKL0y0xQ</td>\n",
       "      <td>wCLSZxLfUAk</td>\n",
       "    </tr>\n",
       "    <tr>\n",
       "      <th>972</th>\n",
       "      <td>ChratosGameplay</td>\n",
       "      <td>MELHOR JOGO DE CONSTRUIR CIDADES CHEGOU E ESTÁ...</td>\n",
       "      <td>75</td>\n",
       "      <td>[\"cities skylines\",\"cities skylines 2\",\"cities...</td>\n",
       "      <td>19.63</td>\n",
       "      <td>31</td>\n",
       "      <td>111842</td>\n",
       "      <td>414</td>\n",
       "      <td>13460.0</td>\n",
       "      <td>7433</td>\n",
       "      <td>6</td>\n",
       "      <td>427.0</td>\n",
       "      <td>assunto_cities_skylines</td>\n",
       "      <td>2023-10-25</td>\n",
       "      <td>UCrOH1V-FyMunBIMrKL0y0xQ</td>\n",
       "      <td>wCLSZxLfUAk</td>\n",
       "    </tr>\n",
       "    <tr>\n",
       "      <th>778</th>\n",
       "      <td>ChratosGameplay</td>\n",
       "      <td>MELHOR JOGO DE CONSTRUIR CIDADES CHEGOU E ESTÁ...</td>\n",
       "      <td>75</td>\n",
       "      <td>[\"cities skylines\",\"cities skylines 2\",\"cities...</td>\n",
       "      <td>19.63</td>\n",
       "      <td>31</td>\n",
       "      <td>104409</td>\n",
       "      <td>408</td>\n",
       "      <td>13033.0</td>\n",
       "      <td>7370</td>\n",
       "      <td>5</td>\n",
       "      <td>428.0</td>\n",
       "      <td>assunto_cities_skylines</td>\n",
       "      <td>2023-10-24</td>\n",
       "      <td>UCrOH1V-FyMunBIMrKL0y0xQ</td>\n",
       "      <td>wCLSZxLfUAk</td>\n",
       "    </tr>\n",
       "    <tr>\n",
       "      <th>598</th>\n",
       "      <td>ChratosGameplay</td>\n",
       "      <td>MELHOR JOGO DE CONSTRUIR CIDADES CHEGOU E ESTÁ...</td>\n",
       "      <td>75</td>\n",
       "      <td>[\"cities skylines\",\"cities skylines 2\",\"cities...</td>\n",
       "      <td>19.63</td>\n",
       "      <td>31</td>\n",
       "      <td>97039</td>\n",
       "      <td>403</td>\n",
       "      <td>12605.0</td>\n",
       "      <td>8201</td>\n",
       "      <td>2</td>\n",
       "      <td>592.0</td>\n",
       "      <td>assunto_cities_skylines</td>\n",
       "      <td>2023-10-23</td>\n",
       "      <td>UCrOH1V-FyMunBIMrKL0y0xQ</td>\n",
       "      <td>wCLSZxLfUAk</td>\n",
       "    </tr>\n",
       "  </tbody>\n",
       "</table>\n",
       "</div>"
      ],
      "text/plain": [
       "             nm_canal                                       titulo_video  \\\n",
       "1433  ChratosGameplay  MELHOR JOGO DE CONSTRUIR CIDADES CHEGOU E ESTÁ...   \n",
       "1191  ChratosGameplay  MELHOR JOGO DE CONSTRUIR CIDADES CHEGOU E ESTÁ...   \n",
       "972   ChratosGameplay  MELHOR JOGO DE CONSTRUIR CIDADES CHEGOU E ESTÁ...   \n",
       "778   ChratosGameplay  MELHOR JOGO DE CONSTRUIR CIDADES CHEGOU E ESTÁ...   \n",
       "598   ChratosGameplay  MELHOR JOGO DE CONSTRUIR CIDADES CHEGOU E ESTÁ...   \n",
       "\n",
       "      total_caractere_video  \\\n",
       "1433                     75   \n",
       "1191                     75   \n",
       "972                      75   \n",
       "778                      75   \n",
       "598                      75   \n",
       "\n",
       "                                                   tags  \\\n",
       "1433  [\"cities skylines\",\"cities skylines 2\",\"cities...   \n",
       "1191  [\"cities skylines\",\"cities skylines 2\",\"cities...   \n",
       "972   [\"cities skylines\",\"cities skylines 2\",\"cities...   \n",
       "778   [\"cities skylines\",\"cities skylines 2\",\"cities...   \n",
       "598   [\"cities skylines\",\"cities skylines 2\",\"cities...   \n",
       "\n",
       "      duracao_video_minutos  total_tags  total_visualizacoes  \\\n",
       "1433                  19.63          31               120812   \n",
       "1191                  19.63          31               117375   \n",
       "972                   19.63          31               111842   \n",
       "778                   19.63          31               104409   \n",
       "598                   19.63          31                97039   \n",
       "\n",
       "      total_comentarios  total_likes  total_visualizacoes_dia  \\\n",
       "1433                418      13988.0                     3437   \n",
       "1191                416      13784.0                     5533   \n",
       "972                 414      13460.0                     7433   \n",
       "778                 408      13033.0                     7370   \n",
       "598                 403      12605.0                     8201   \n",
       "\n",
       "      total_comentarios_dia  total_likes_dia                  assunto  \\\n",
       "1433                      2            204.0  assunto_cities_skylines   \n",
       "1191                      2            324.0  assunto_cities_skylines   \n",
       "972                       6            427.0  assunto_cities_skylines   \n",
       "778                       5            428.0  assunto_cities_skylines   \n",
       "598                       2            592.0  assunto_cities_skylines   \n",
       "\n",
       "     data_extracao                  id_canal     id_video  \n",
       "1433    2023-10-27  UCrOH1V-FyMunBIMrKL0y0xQ  wCLSZxLfUAk  \n",
       "1191    2023-10-26  UCrOH1V-FyMunBIMrKL0y0xQ  wCLSZxLfUAk  \n",
       "972     2023-10-25  UCrOH1V-FyMunBIMrKL0y0xQ  wCLSZxLfUAk  \n",
       "778     2023-10-24  UCrOH1V-FyMunBIMrKL0y0xQ  wCLSZxLfUAk  \n",
       "598     2023-10-23  UCrOH1V-FyMunBIMrKL0y0xQ  wCLSZxLfUAk  "
      ]
     },
     "execution_count": 7,
     "metadata": {},
     "output_type": "execute_result"
    }
   ],
   "source": [
    "\n",
    "fig = px.scatter(df_result, x='total_caractere_video', y='total_visualizacoes')\n",
    "df_result.sort_values(by='total_visualizacoes', ascending=False).head()\n"
   ]
  },
  {
   "cell_type": "code",
   "execution_count": 8,
   "metadata": {},
   "outputs": [
    {
     "data": {
      "application/vnd.plotly.v1+json": {
       "config": {
        "plotlyServerURL": "https://plot.ly"
       },
       "data": [
        {
         "hovertemplate": "total_caractere_video=%{x}<br>total_visualizacoes=%{y}<extra></extra>",
         "legendgroup": "",
         "marker": {
          "color": "#636efa",
          "symbol": "circle"
         },
         "mode": "markers",
         "name": "",
         "showlegend": false,
         "type": "scattergl",
         "x": [
          81,
          64,
          75,
          72,
          78,
          34,
          34,
          66,
          66,
          42,
          42,
          39,
          92,
          34,
          75,
          81,
          64,
          64,
          75,
          78,
          27,
          19,
          69,
          72,
          78,
          34,
          66,
          66,
          72,
          35,
          35,
          48,
          78,
          42,
          42,
          42,
          42,
          39,
          39,
          68,
          92,
          90,
          45,
          44,
          34,
          71,
          70,
          89,
          77,
          75,
          81,
          96,
          61,
          96,
          64,
          64,
          64,
          64,
          64,
          64,
          100,
          71,
          76,
          75,
          78,
          27,
          38,
          73,
          70,
          34,
          19,
          69,
          91,
          72,
          78,
          67,
          85,
          34,
          74,
          72,
          75,
          69,
          35,
          35,
          35,
          35,
          35,
          43,
          88,
          59,
          38,
          74,
          16,
          16,
          43,
          26,
          33,
          97,
          48,
          70,
          74,
          69,
          78,
          42,
          42,
          39,
          58,
          39,
          32,
          68,
          76,
          92,
          90,
          88,
          88,
          75,
          64,
          85,
          45,
          44,
          76,
          71,
          71,
          70,
          89,
          77,
          75,
          81,
          96,
          61,
          96,
          64,
          64,
          64,
          64,
          64,
          64,
          64,
          58,
          100,
          76,
          75,
          44,
          49,
          78,
          27,
          38,
          73,
          70,
          34,
          19,
          69,
          91,
          94,
          72,
          78,
          67,
          85,
          34,
          28,
          74,
          72,
          75,
          69,
          35,
          35,
          35,
          35,
          35,
          28,
          88,
          59,
          38,
          62,
          74,
          44,
          16,
          43,
          26,
          33,
          97,
          48,
          70,
          74,
          93,
          69,
          78,
          42,
          42,
          39,
          58,
          39,
          32,
          68,
          76,
          81,
          92,
          90,
          88,
          70,
          88,
          75,
          64,
          85,
          45,
          44,
          60,
          93,
          76,
          93,
          71,
          71,
          70,
          88,
          89,
          77,
          75,
          81,
          96,
          61,
          96,
          64,
          64,
          64,
          64,
          64,
          64,
          64,
          64,
          40,
          58,
          65,
          100,
          89,
          69,
          73,
          76,
          100,
          31,
          31,
          75,
          44,
          49,
          78,
          27,
          38,
          61,
          73,
          70,
          34,
          19,
          79,
          79,
          69,
          91,
          92,
          94,
          72,
          78,
          67,
          36,
          85,
          34,
          28,
          28,
          28,
          66,
          74,
          72,
          75,
          52,
          100,
          80,
          69,
          35,
          35,
          35,
          35,
          35,
          28,
          88,
          59,
          38,
          46,
          38,
          62,
          74,
          16,
          43,
          26,
          33,
          97,
          48,
          70,
          80,
          74,
          93,
          69,
          78,
          42,
          42,
          39,
          60,
          39,
          32,
          68,
          76,
          50,
          81,
          92,
          90,
          88,
          70,
          88,
          63,
          75,
          64,
          85,
          80,
          45,
          44,
          83,
          60,
          56,
          93,
          71,
          71,
          70,
          88,
          89,
          77,
          75,
          81,
          49,
          96,
          61,
          96,
          64,
          64,
          64,
          64,
          64,
          64,
          64,
          64,
          64,
          40,
          58,
          65,
          100,
          89,
          69,
          73,
          76,
          100,
          100,
          31,
          75,
          44,
          49,
          78,
          27,
          38,
          61,
          73,
          70,
          63,
          62,
          34,
          19,
          79,
          72,
          72,
          72,
          88,
          69,
          91,
          92,
          94,
          72,
          95,
          75,
          78,
          67,
          36,
          85,
          34,
          28,
          28,
          28,
          28,
          66,
          74,
          72,
          75,
          52,
          75,
          100,
          58,
          80,
          79,
          69,
          35,
          35,
          35,
          35,
          35,
          28,
          88,
          59,
          64,
          38,
          46,
          38,
          62,
          62,
          74,
          16,
          43,
          26,
          33,
          97,
          48,
          70,
          80,
          74,
          93,
          69,
          78,
          42,
          42,
          39,
          60,
          39,
          32,
          68,
          76,
          50,
          81,
          70,
          92,
          90,
          88,
          70,
          88,
          63,
          75,
          78,
          64,
          85,
          80,
          80,
          45,
          44,
          83,
          60,
          56,
          93,
          71,
          71,
          70,
          88,
          89,
          77,
          57,
          75,
          81,
          49,
          96,
          61,
          96,
          64,
          64,
          64,
          64,
          64,
          64,
          64,
          64,
          64,
          64,
          40,
          51,
          57,
          58,
          65,
          100,
          80,
          89,
          69,
          73,
          76,
          86,
          100,
          100,
          100,
          31,
          75,
          84,
          88,
          49,
          78,
          27,
          38,
          61,
          73,
          37,
          70,
          63,
          34,
          19,
          79,
          72,
          72,
          72,
          90,
          90,
          88,
          69,
          91,
          92,
          94,
          72,
          75,
          78,
          67,
          24,
          36,
          24,
          85,
          53,
          34,
          28,
          28,
          28,
          24,
          66,
          74,
          72,
          78,
          75,
          52,
          75,
          100,
          58,
          80,
          79,
          69,
          35,
          35,
          35,
          35,
          35,
          28,
          88,
          59,
          64,
          38,
          66,
          46,
          38,
          62,
          62,
          74,
          16,
          43,
          26,
          33,
          97,
          48,
          53,
          70,
          89,
          80,
          74,
          93,
          69,
          78,
          42,
          42,
          42,
          39,
          63,
          60,
          39,
          32,
          68,
          76,
          50,
          81,
          70,
          81,
          92,
          90,
          88,
          70,
          88,
          63,
          75,
          78,
          64,
          85,
          80,
          80,
          78,
          64,
          45,
          44,
          83,
          60,
          56,
          93,
          20,
          84,
          71,
          71,
          70,
          88,
          89,
          77,
          57,
          75,
          81,
          49,
          96,
          61,
          96,
          64,
          64,
          64,
          64,
          64,
          64,
          64,
          64,
          64,
          64,
          40,
          57,
          58,
          62,
          65,
          100,
          45,
          46,
          80,
          89,
          69,
          84,
          81,
          73,
          76,
          86,
          100,
          100,
          100,
          64,
          31,
          18,
          75,
          84,
          88,
          49,
          78,
          27,
          38,
          61,
          73,
          42,
          37,
          70,
          24,
          63,
          34,
          57,
          19,
          79,
          72,
          72,
          72,
          90,
          88,
          69,
          91,
          92,
          94,
          72,
          75,
          78,
          67,
          24,
          24,
          85,
          53,
          34,
          28,
          28,
          28,
          24,
          24,
          66,
          57,
          57,
          56,
          74,
          72,
          78,
          75,
          52,
          75,
          100,
          58,
          80,
          79,
          69,
          18,
          35,
          35,
          35,
          35,
          35,
          28,
          97,
          88,
          59,
          64,
          38,
          38,
          38,
          75,
          66,
          46,
          38,
          71,
          62,
          62,
          74,
          16,
          43,
          26,
          33,
          97,
          45,
          45,
          45,
          48,
          48,
          53,
          70,
          89,
          80,
          74,
          93,
          83,
          69,
          78,
          42,
          42,
          42,
          39,
          63,
          60,
          39,
          32,
          68,
          76,
          50,
          81,
          70,
          81,
          68,
          87,
          92,
          90,
          88,
          70,
          88,
          63,
          75,
          78,
          64,
          85,
          61,
          80,
          80,
          78,
          24,
          64,
          45,
          44,
          83,
          60,
          73,
          93,
          20,
          84,
          71,
          71,
          70,
          88,
          89,
          77,
          57,
          75,
          81,
          49,
          96,
          61,
          60,
          96,
          64,
          64,
          64,
          64,
          64,
          64,
          64,
          64,
          64,
          64,
          40,
          57,
          57,
          58,
          62,
          65,
          100,
          45,
          57,
          46,
          79,
          79,
          80,
          89,
          69,
          84,
          81,
          73,
          76,
          86,
          100,
          100,
          100,
          64,
          31,
          18,
          29,
          75,
          84,
          88,
          49,
          78,
          27,
          38,
          61,
          73,
          42,
          37,
          37,
          70,
          24,
          89,
          63,
          34,
          57,
          19,
          79,
          72,
          72,
          72,
          90,
          88,
          69,
          91,
          92,
          94,
          72,
          75,
          78,
          67,
          52,
          24,
          24,
          85,
          53,
          34,
          28,
          28,
          28,
          38,
          38,
          24,
          66,
          57,
          56,
          62,
          61,
          74,
          72,
          78,
          75,
          64,
          52,
          75,
          100,
          58,
          80,
          79,
          69,
          18,
          18,
          35,
          35,
          35,
          36,
          35,
          35,
          28,
          93,
          88,
          59,
          64,
          38,
          38,
          75,
          46,
          38,
          71,
          62,
          74,
          16,
          43,
          26,
          33,
          97,
          48,
          53,
          70,
          89,
          80,
          74,
          74,
          93,
          83,
          69,
          78,
          58,
          42,
          42,
          42,
          39,
          63,
          63,
          60,
          39,
          32,
          87,
          68,
          76,
          50,
          81,
          67,
          70,
          81,
          68,
          87,
          92,
          90,
          88,
          70,
          88,
          63,
          75,
          86,
          78,
          64,
          85,
          61,
          80,
          76,
          80,
          78,
          24,
          43,
          64,
          53,
          45,
          44,
          83,
          60,
          86,
          73,
          93,
          20,
          84,
          71,
          71,
          70,
          88,
          89,
          77,
          57,
          75,
          81,
          49,
          96,
          61,
          60,
          96,
          64,
          64,
          64,
          64,
          64,
          64,
          64,
          64,
          64,
          64,
          98,
          67,
          67,
          40,
          57,
          58,
          42,
          65,
          100,
          45,
          57,
          53,
          46,
          79,
          80,
          89,
          69,
          84,
          81,
          73,
          76,
          86,
          100,
          100,
          100,
          64,
          31,
          18,
          29,
          75,
          84,
          88,
          49,
          78,
          59,
          27,
          38,
          61,
          73,
          22,
          42,
          37,
          37,
          70,
          24,
          75,
          77,
          89,
          63,
          34,
          84,
          57,
          19,
          79,
          72,
          72,
          72,
          90,
          88,
          69,
          91,
          92,
          94,
          72,
          75,
          78,
          67,
          52,
          24,
          24,
          85,
          53,
          34,
          28,
          28,
          28,
          38,
          38,
          24,
          66,
          76,
          57,
          56,
          62,
          57,
          61,
          63,
          74,
          72,
          78,
          77,
          75,
          64,
          52,
          75,
          100,
          57,
          58,
          80,
          67,
          79,
          70,
          94,
          69,
          18,
          35,
          35,
          35,
          36,
          36,
          35,
          35,
          28,
          93,
          88,
          59,
          64,
          38,
          38,
          75,
          46,
          38,
          71,
          62,
          74,
          16,
          43,
          26,
          33,
          97,
          48,
          53,
          70,
          89,
          80,
          91,
          74,
          74,
          93,
          83,
          69,
          78,
          58,
          42,
          55,
          42,
          42,
          39,
          63,
          63,
          60,
          53,
          39,
          32,
          89,
          87,
          68,
          76,
          50,
          81,
          67,
          70,
          81,
          64,
          68,
          87,
          92,
          90,
          88,
          70,
          88,
          63,
          75,
          86,
          78,
          64,
          85,
          61,
          80,
          76,
          80,
          59,
          78,
          24,
          43,
          43,
          64,
          53,
          45,
          44,
          83,
          60,
          86,
          73,
          93,
          20,
          84,
          66,
          71,
          71,
          48,
          92,
          70,
          88,
          89,
          77,
          57,
          75,
          81,
          62,
          49,
          96,
          61,
          60,
          96,
          64,
          64,
          64,
          64,
          64,
          64,
          64,
          64,
          64,
          64,
          98,
          67,
          87,
          40,
          57,
          58,
          42,
          65,
          100,
          45,
          57,
          57,
          53,
          46,
          79,
          80,
          89,
          69,
          69,
          84,
          81,
          73,
          76,
          86,
          77,
          100,
          100,
          100,
          64,
          31,
          18,
          29,
          75,
          84,
          88,
          49,
          75,
          78,
          52,
          59,
          27,
          38,
          61,
          73,
          22,
          42,
          59,
          37,
          37,
          70,
          24,
          75,
          77,
          89,
          63,
          34,
          84,
          94,
          57,
          19,
          79,
          72,
          72,
          72,
          67,
          90,
          88,
          69,
          91,
          92,
          94,
          72,
          75,
          78,
          67,
          47,
          52,
          24,
          24,
          85,
          53,
          61,
          34,
          28,
          28,
          28,
          38,
          24,
          62,
          66,
          76,
          76,
          57,
          56,
          62,
          57,
          61,
          63,
          74,
          72,
          78,
          77,
          75,
          64,
          52,
          50,
          75,
          100,
          57,
          58,
          80,
          67,
          79,
          70,
          73,
          75,
          94,
          69,
          18,
          35,
          35,
          35,
          36,
          35,
          35,
          28,
          93,
          88,
          59,
          85,
          64,
          38,
          38,
          75,
          46,
          38,
          71,
          62,
          74,
          16,
          43,
          26,
          33,
          97,
          48,
          53,
          81,
          70,
          89,
          80,
          91,
          74,
          74,
          93,
          83,
          69,
          78,
          58,
          42,
          55,
          42,
          42,
          39,
          63,
          63,
          63,
          60,
          53,
          39,
          32,
          46,
          88,
          87,
          68,
          76,
          50,
          81,
          67,
          70,
          81,
          64,
          68,
          87,
          92,
          90,
          88,
          70,
          88,
          63,
          75,
          86,
          60,
          78,
          64,
          80,
          85,
          61,
          80,
          76,
          80,
          59,
          78,
          47,
          24,
          43,
          64,
          53,
          45,
          44,
          83,
          60,
          86,
          73,
          93,
          20,
          84,
          66,
          71,
          71,
          49,
          48
         ],
         "xaxis": "x",
         "y": [
          181,
          1,
          7,
          8,
          441,
          13,
          25,
          17,
          32,
          289,
          461,
          398,
          4562,
          32,
          6,
          469,
          2,
          16,
          9,
          27,
          0,
          8,
          14,
          30,
          788,
          52,
          55,
          45,
          523,
          24,
          0,
          26,
          27,
          468,
          572,
          597,
          620,
          551,
          575,
          19,
          7399,
          7914,
          22,
          36,
          33,
          426,
          57,
          452,
          341,
          926,
          568,
          0,
          34,
          13,
          20,
          3,
          13,
          43,
          24,
          2,
          139,
          0,
          2726,
          11,
          251,
          3,
          80,
          180,
          68,
          14,
          48,
          58,
          4,
          94,
          951,
          106,
          2463,
          71,
          329,
          1082,
          3,
          36,
          162,
          39,
          4,
          7,
          0,
          9,
          5011,
          7819,
          1568,
          3827,
          9,
          8,
          27,
          77,
          909,
          323,
          121,
          3,
          8,
          86,
          82,
          658,
          638,
          633,
          40,
          20,
          43,
          218,
          20,
          8949,
          16452,
          0,
          20325,
          17961,
          18470,
          2360,
          26,
          39,
          100,
          894,
          402,
          299,
          462,
          370,
          935,
          571,
          4,
          49,
          12,
          1,
          22,
          3,
          13,
          44,
          27,
          9,
          7,
          151,
          10428,
          11,
          2631,
          904,
          251,
          3,
          105,
          248,
          2292,
          25,
          49,
          70,
          15,
          4,
          94,
          969,
          124,
          2484,
          71,
          20,
          1073,
          1101,
          10,
          52,
          162,
          40,
          12,
          0,
          2,
          0,
          5353,
          22101,
          2104,
          1658,
          13127,
          0,
          9,
          27,
          112,
          966,
          333,
          121,
          16,
          13,
          6,
          95,
          82,
          664,
          639,
          634,
          191,
          20,
          55,
          233,
          150,
          0,
          9112,
          16805,
          0,
          12838,
          22599,
          52156,
          19597,
          8247,
          27,
          39,
          24,
          136,
          136,
          136,
          952,
          463,
          406,
          76,
          468,
          380,
          939,
          574,
          6,
          60,
          17,
          1,
          20,
          3,
          14,
          45,
          0,
          27,
          9,
          38,
          29,
          10,
          169,
          1649,
          3337,
          1074,
          13590,
          0,
          43,
          16,
          11,
          4124,
          2515,
          253,
          3,
          149,
          8,
          305,
          4206,
          33,
          51,
          53,
          106,
          70,
          21,
          7,
          14,
          94,
          1006,
          177,
          2,
          2491,
          71,
          27,
          3,
          6,
          60,
          1166,
          1122,
          17,
          3300,
          2328,
          11491,
          57,
          159,
          40,
          16,
          0,
          5,
          0,
          5687,
          29522,
          2114,
          2280,
          1481,
          8943,
          17808,
          12,
          27,
          132,
          1242,
          338,
          121,
          20,
          2,
          14,
          27,
          95,
          82,
          685,
          642,
          640,
          260,
          20,
          91,
          246,
          324,
          30,
          0,
          9263,
          17245,
          0,
          44930,
          24837,
          24631,
          76038,
          20827,
          13250,
          2192,
          27,
          40,
          22,
          148,
          13,
          144,
          979,
          508,
          448,
          255,
          472,
          383,
          949,
          575,
          17,
          7,
          62,
          20,
          1,
          18,
          4,
          14,
          44,
          6,
          27,
          14,
          3,
          38,
          89,
          17,
          174,
          2392,
          4777,
          3738,
          14582,
          0,
          0,
          62,
          11,
          4447,
          2834,
          253,
          4,
          175,
          17,
          309,
          4776,
          64,
          24,
          33,
          54,
          110,
          34,
          73,
          111,
          6,
          71,
          24,
          9,
          30,
          93,
          174,
          1148,
          1043,
          270,
          7,
          2506,
          72,
          12,
          12,
          40,
          10,
          61,
          1229,
          1129,
          20,
          10547,
          3349,
          8512,
          3796,
          29665,
          6078,
          57,
          158,
          40,
          16,
          0,
          17,
          0,
          5921,
          32911,
          10963,
          2119,
          4303,
          3901,
          3826,
          11106,
          19789,
          13,
          27,
          135,
          1283,
          340,
          123,
          27,
          3,
          16,
          55,
          95,
          83,
          699,
          647,
          648,
          321,
          20,
          97,
          247,
          484,
          54,
          0,
          25216,
          9351,
          17489,
          0,
          53307,
          26784,
          42500,
          88838,
          4266,
          21618,
          15296,
          3983,
          1361,
          27,
          39,
          39,
          516,
          43,
          144,
          987,
          533,
          459,
          314,
          479,
          393,
          117,
          953,
          577,
          577,
          12,
          69,
          21,
          5,
          18,
          4,
          14,
          44,
          2,
          7,
          27,
          18,
          6,
          50,
          0,
          6,
          106,
          21,
          180,
          0,
          2789,
          5520,
          4465,
          15398,
          1607,
          1,
          5,
          1,
          66,
          11,
          4628,
          1381,
          2913,
          255,
          4,
          179,
          129,
          310,
          70,
          5156,
          354,
          34,
          57,
          110,
          56,
          76,
          119,
          21,
          12,
          7,
          71,
          28,
          11,
          31,
          93,
          2357,
          1125,
          317,
          0,
          7,
          1,
          2510,
          25,
          73,
          22,
          46,
          28,
          5,
          61,
          1286,
          1142,
          289,
          22,
          13653,
          8474,
          10415,
          7869,
          37977,
          11419,
          60,
          158,
          40,
          17,
          0,
          22,
          0,
          6088,
          35233,
          17480,
          2119,
          2954,
          4925,
          3922,
          8182,
          12717,
          20899,
          14,
          27,
          142,
          1299,
          340,
          123,
          1798,
          28,
          2,
          8,
          18,
          79,
          96,
          85,
          342,
          705,
          653,
          657,
          4,
          345,
          20,
          97,
          252,
          517,
          63,
          0,
          42611,
          25707,
          9404,
          17777,
          0,
          59038,
          28387,
          50017,
          97039,
          14438,
          22431,
          17131,
          4936,
          3889,
          1807,
          8,
          27,
          39,
          48,
          662,
          93,
          142,
          21,
          723,
          1005,
          569,
          476,
          340,
          484,
          397,
          453,
          959,
          581,
          771,
          19,
          76,
          24,
          5,
          20,
          4,
          14,
          44,
          6,
          9,
          27,
          18,
          6,
          56,
          9,
          109,
          17,
          23,
          180,
          21,
          2060,
          658,
          2877,
          5995,
          2701,
          3534,
          4652,
          16080,
          6059,
          9,
          5,
          1,
          6,
          70,
          49,
          11,
          4750,
          1840,
          2944,
          258,
          3,
          181,
          182,
          313,
          2,
          112,
          5576,
          291,
          578,
          34,
          138,
          57,
          114,
          91,
          76,
          111,
          31,
          19,
          70,
          26,
          14,
          33,
          93,
          2382,
          1185,
          335,
          0,
          1,
          2522,
          48,
          74,
          24,
          47,
          35,
          25,
          14,
          61,
          15,
          16,
          1304,
          1330,
          1145,
          537,
          23,
          15810,
          10054,
          11590,
          9495,
          42943,
          14333,
          63,
          4,
          158,
          41,
          16,
          0,
          22,
          0,
          1095,
          6235,
          36959,
          19922,
          2120,
          1428,
          1179,
          5467,
          4734,
          5170,
          3931,
          10487,
          9370,
          14684,
          22054,
          14,
          27,
          144,
          1309,
          365,
          60,
          75,
          99,
          121,
          0,
          6079,
          28,
          8,
          17,
          18,
          85,
          4,
          96,
          86,
          2036,
          715,
          655,
          668,
          25,
          359,
          20,
          99,
          255,
          544,
          69,
          0,
          47320,
          41868,
          27606,
          0,
          9451,
          18004,
          0,
          63099,
          29858,
          54002,
          104409,
          17338,
          22921,
          18449,
          967,
          5543,
          4458,
          3198,
          66,
          79,
          26,
          39,
          74,
          666,
          114,
          142,
          32,
          1054,
          1015,
          588,
          478,
          342,
          481,
          398,
          485,
          963,
          585,
          787,
          19,
          79,
          5,
          31,
          5,
          20,
          4,
          14,
          44,
          8,
          10,
          27,
          18,
          9,
          58,
          1718,
          16,
          109,
          65,
          24,
          184,
          22,
          9,
          2152,
          1575,
          4618,
          4060,
          2957,
          6391,
          7796,
          5781,
          4726,
          16659,
          6242,
          17,
          5,
          0,
          64,
          84,
          90,
          29,
          11,
          4850,
          1956,
          3036,
          260,
          3,
          186,
          187,
          315,
          32,
          246,
          10,
          5871,
          980,
          187,
          658,
          34,
          406,
          57,
          114,
          92,
          76,
          112,
          31,
          26,
          70,
          26,
          15,
          32,
          93,
          2400,
          1265,
          340,
          78,
          0,
          1,
          2541,
          50,
          76,
          24,
          47,
          36,
          9,
          4,
          29,
          61,
          18,
          3965,
          9,
          9,
          1341,
          1148,
          635,
          27,
          154,
          16890,
          11127,
          12310,
          10234,
          45616,
          15713,
          66,
          9,
          26,
          158,
          41,
          16,
          0,
          0,
          22,
          0,
          9142,
          6387,
          38935,
          21960,
          2121,
          1462,
          6038,
          5321,
          3930,
          11865,
          16126,
          22915,
          13,
          27,
          144,
          1324,
          380,
          121,
          6280,
          28,
          10,
          18,
          6,
          18,
          85,
          12,
          96,
          88,
          21,
          2409,
          721,
          656,
          671,
          0,
          28,
          368,
          20,
          103,
          42,
          256,
          547,
          70,
          0,
          24904,
          50535,
          46106,
          44415,
          0,
          9488,
          18197,
          0,
          66655,
          31140,
          57019,
          111842,
          4298,
          18699,
          23317,
          20061,
          4835,
          6146,
          1506,
          4995,
          3900,
          89,
          23,
          89,
          2,
          26,
          39,
          90,
          669,
          16,
          128,
          143,
          33,
          1230,
          1022,
          599,
          480,
          343,
          481,
          399,
          524,
          967,
          586,
          802,
          21,
          79,
          14,
          71,
          5,
          20,
          4,
          14,
          44,
          8,
          10,
          27,
          18,
          10,
          11,
          6,
          10,
          57,
          1842,
          109,
          88,
          24,
          191,
          23,
          9,
          24,
          2165,
          6359,
          4898,
          3061,
          6602,
          8510,
          6350,
          4760,
          16966,
          6292,
          18,
          10,
          0,
          67,
          84,
          93,
          81,
          11,
          4948,
          2043,
          3088,
          262,
          2,
          3,
          187,
          188,
          315,
          1,
          41,
          318,
          126,
          6060,
          1116,
          158,
          1170,
          1497,
          747,
          34,
          56,
          610,
          57,
          114,
          83,
          75,
          128,
          28,
          27,
          71,
          27,
          15,
          32,
          93,
          2406,
          1347,
          348,
          129,
          0,
          1,
          2549,
          63,
          77,
          24,
          47,
          36,
          10,
          13,
          35,
          61,
          19,
          16,
          4656,
          70,
          5,
          39,
          12,
          1348,
          1149,
          713,
          47,
          28,
          4909,
          17422,
          11730,
          12802,
          1846,
          10671,
          46793,
          3681,
          16338,
          1741,
          8,
          68,
          27,
          158,
          40,
          16,
          6,
          2,
          0,
          22,
          0,
          14617,
          6504,
          40378,
          23189,
          2122,
          1464,
          6471,
          5462,
          3925,
          12962,
          16736,
          23474,
          13,
          27,
          148,
          1334,
          394,
          121,
          6362,
          27,
          10,
          18,
          2,
          8,
          18,
          85,
          12,
          96,
          87,
          21,
          2409,
          79,
          727,
          656,
          679,
          20,
          52,
          382,
          26701,
          20,
          104,
          29,
          594,
          258,
          562,
          73,
          0,
          39393,
          52814,
          48936,
          25546,
          48453,
          0,
          9521,
          18430,
          0,
          69468,
          32382,
          59218,
          117375,
          16232,
          19507,
          23697,
          21201,
          5421,
          6643,
          4704,
          5358,
          990,
          4484,
          104,
          46,
          67,
          89,
          3,
          26,
          39,
          91,
          671,
          33,
          132,
          143,
          33,
          1387,
          1417,
          1029,
          611,
          30,
          4,
          481,
          342,
          481,
          400,
          537,
          968,
          586,
          86,
          805,
          21,
          79,
          22,
          76,
          5,
          20,
          4,
          14,
          44,
          9,
          11,
          27,
          18,
          10,
          48,
          16,
          61,
          57,
          1970,
          109,
          103,
          26,
          193,
          23,
          9,
          9,
          129,
          2167,
          6705,
          5233,
          3228,
          105,
          6714,
          8594,
          6609,
          4773,
          17145,
          6330,
          184,
          16,
          11,
          2,
          67,
          85,
          95,
          86,
          11,
          5000,
          2079,
          3112,
          6,
          262,
          15,
          6,
          3,
          187,
          186,
          316,
          6,
          46,
          18,
          339,
          161,
          6157,
          1145,
          601,
          1219,
          1641,
          782,
          34,
          62,
          4,
          801,
          57,
          117,
          95,
          76,
          129,
          0,
          29,
          28,
          71,
          27,
          20,
          32,
          93,
          2413,
          1361,
          421,
          159,
          150,
          0,
          1,
          2558,
          66,
          8,
          78,
          23,
          47,
          36,
          13,
          43,
          466,
          61,
          36,
          25,
          20,
          4999,
          70,
          87,
          45,
          31,
          1349,
          1149,
          737,
          302,
          28,
          7297,
          17956,
          979,
          12127,
          13236,
          4314,
          11042,
          47658,
          6402,
          16828,
          4795,
          1656,
          1051,
          15,
          71,
          31,
          158,
          40,
          16,
          8,
          0,
          22,
          0,
          16102,
          6567,
          41307,
          7118,
          23991,
          2122,
          1466,
          6713,
          5539,
          3926,
          13516,
          16921,
          23876,
          13,
          27,
          148,
          1344,
          396,
          121,
          6408,
          1,
          27,
          10,
          18,
          4,
          15,
          18,
          85,
          16,
          96,
          87,
          27,
          2411,
          240,
          738,
          656,
          681,
          2,
          34,
          56,
          389,
          40661,
          20,
          104,
          16,
          166,
          871,
          259,
          569,
          76,
          0,
          42650,
          54375,
          50789,
          39265,
          50480,
          0,
          9540,
          18599,
          0,
          71357,
          33628,
          60786,
          120812,
          18620,
          15805,
          19942,
          24021,
          1530,
          22102,
          5745,
          6973,
          5238,
          5593,
          2948,
          4808,
          8,
          130,
          68,
          93,
          3,
          26,
          39,
          95,
          675,
          46,
          131,
          144,
          32,
          1623,
          5488,
          1044,
          622,
          2,
          33
         ],
         "yaxis": "y"
        }
       ],
       "layout": {
        "legend": {
         "tracegroupgap": 0
        },
        "margin": {
         "t": 60
        },
        "template": {
         "data": {
          "bar": [
           {
            "error_x": {
             "color": "#2a3f5f"
            },
            "error_y": {
             "color": "#2a3f5f"
            },
            "marker": {
             "line": {
              "color": "#E5ECF6",
              "width": 0.5
             },
             "pattern": {
              "fillmode": "overlay",
              "size": 10,
              "solidity": 0.2
             }
            },
            "type": "bar"
           }
          ],
          "barpolar": [
           {
            "marker": {
             "line": {
              "color": "#E5ECF6",
              "width": 0.5
             },
             "pattern": {
              "fillmode": "overlay",
              "size": 10,
              "solidity": 0.2
             }
            },
            "type": "barpolar"
           }
          ],
          "carpet": [
           {
            "aaxis": {
             "endlinecolor": "#2a3f5f",
             "gridcolor": "white",
             "linecolor": "white",
             "minorgridcolor": "white",
             "startlinecolor": "#2a3f5f"
            },
            "baxis": {
             "endlinecolor": "#2a3f5f",
             "gridcolor": "white",
             "linecolor": "white",
             "minorgridcolor": "white",
             "startlinecolor": "#2a3f5f"
            },
            "type": "carpet"
           }
          ],
          "choropleth": [
           {
            "colorbar": {
             "outlinewidth": 0,
             "ticks": ""
            },
            "type": "choropleth"
           }
          ],
          "contour": [
           {
            "colorbar": {
             "outlinewidth": 0,
             "ticks": ""
            },
            "colorscale": [
             [
              0,
              "#0d0887"
             ],
             [
              0.1111111111111111,
              "#46039f"
             ],
             [
              0.2222222222222222,
              "#7201a8"
             ],
             [
              0.3333333333333333,
              "#9c179e"
             ],
             [
              0.4444444444444444,
              "#bd3786"
             ],
             [
              0.5555555555555556,
              "#d8576b"
             ],
             [
              0.6666666666666666,
              "#ed7953"
             ],
             [
              0.7777777777777778,
              "#fb9f3a"
             ],
             [
              0.8888888888888888,
              "#fdca26"
             ],
             [
              1,
              "#f0f921"
             ]
            ],
            "type": "contour"
           }
          ],
          "contourcarpet": [
           {
            "colorbar": {
             "outlinewidth": 0,
             "ticks": ""
            },
            "type": "contourcarpet"
           }
          ],
          "heatmap": [
           {
            "colorbar": {
             "outlinewidth": 0,
             "ticks": ""
            },
            "colorscale": [
             [
              0,
              "#0d0887"
             ],
             [
              0.1111111111111111,
              "#46039f"
             ],
             [
              0.2222222222222222,
              "#7201a8"
             ],
             [
              0.3333333333333333,
              "#9c179e"
             ],
             [
              0.4444444444444444,
              "#bd3786"
             ],
             [
              0.5555555555555556,
              "#d8576b"
             ],
             [
              0.6666666666666666,
              "#ed7953"
             ],
             [
              0.7777777777777778,
              "#fb9f3a"
             ],
             [
              0.8888888888888888,
              "#fdca26"
             ],
             [
              1,
              "#f0f921"
             ]
            ],
            "type": "heatmap"
           }
          ],
          "heatmapgl": [
           {
            "colorbar": {
             "outlinewidth": 0,
             "ticks": ""
            },
            "colorscale": [
             [
              0,
              "#0d0887"
             ],
             [
              0.1111111111111111,
              "#46039f"
             ],
             [
              0.2222222222222222,
              "#7201a8"
             ],
             [
              0.3333333333333333,
              "#9c179e"
             ],
             [
              0.4444444444444444,
              "#bd3786"
             ],
             [
              0.5555555555555556,
              "#d8576b"
             ],
             [
              0.6666666666666666,
              "#ed7953"
             ],
             [
              0.7777777777777778,
              "#fb9f3a"
             ],
             [
              0.8888888888888888,
              "#fdca26"
             ],
             [
              1,
              "#f0f921"
             ]
            ],
            "type": "heatmapgl"
           }
          ],
          "histogram": [
           {
            "marker": {
             "pattern": {
              "fillmode": "overlay",
              "size": 10,
              "solidity": 0.2
             }
            },
            "type": "histogram"
           }
          ],
          "histogram2d": [
           {
            "colorbar": {
             "outlinewidth": 0,
             "ticks": ""
            },
            "colorscale": [
             [
              0,
              "#0d0887"
             ],
             [
              0.1111111111111111,
              "#46039f"
             ],
             [
              0.2222222222222222,
              "#7201a8"
             ],
             [
              0.3333333333333333,
              "#9c179e"
             ],
             [
              0.4444444444444444,
              "#bd3786"
             ],
             [
              0.5555555555555556,
              "#d8576b"
             ],
             [
              0.6666666666666666,
              "#ed7953"
             ],
             [
              0.7777777777777778,
              "#fb9f3a"
             ],
             [
              0.8888888888888888,
              "#fdca26"
             ],
             [
              1,
              "#f0f921"
             ]
            ],
            "type": "histogram2d"
           }
          ],
          "histogram2dcontour": [
           {
            "colorbar": {
             "outlinewidth": 0,
             "ticks": ""
            },
            "colorscale": [
             [
              0,
              "#0d0887"
             ],
             [
              0.1111111111111111,
              "#46039f"
             ],
             [
              0.2222222222222222,
              "#7201a8"
             ],
             [
              0.3333333333333333,
              "#9c179e"
             ],
             [
              0.4444444444444444,
              "#bd3786"
             ],
             [
              0.5555555555555556,
              "#d8576b"
             ],
             [
              0.6666666666666666,
              "#ed7953"
             ],
             [
              0.7777777777777778,
              "#fb9f3a"
             ],
             [
              0.8888888888888888,
              "#fdca26"
             ],
             [
              1,
              "#f0f921"
             ]
            ],
            "type": "histogram2dcontour"
           }
          ],
          "mesh3d": [
           {
            "colorbar": {
             "outlinewidth": 0,
             "ticks": ""
            },
            "type": "mesh3d"
           }
          ],
          "parcoords": [
           {
            "line": {
             "colorbar": {
              "outlinewidth": 0,
              "ticks": ""
             }
            },
            "type": "parcoords"
           }
          ],
          "pie": [
           {
            "automargin": true,
            "type": "pie"
           }
          ],
          "scatter": [
           {
            "fillpattern": {
             "fillmode": "overlay",
             "size": 10,
             "solidity": 0.2
            },
            "type": "scatter"
           }
          ],
          "scatter3d": [
           {
            "line": {
             "colorbar": {
              "outlinewidth": 0,
              "ticks": ""
             }
            },
            "marker": {
             "colorbar": {
              "outlinewidth": 0,
              "ticks": ""
             }
            },
            "type": "scatter3d"
           }
          ],
          "scattercarpet": [
           {
            "marker": {
             "colorbar": {
              "outlinewidth": 0,
              "ticks": ""
             }
            },
            "type": "scattercarpet"
           }
          ],
          "scattergeo": [
           {
            "marker": {
             "colorbar": {
              "outlinewidth": 0,
              "ticks": ""
             }
            },
            "type": "scattergeo"
           }
          ],
          "scattergl": [
           {
            "marker": {
             "colorbar": {
              "outlinewidth": 0,
              "ticks": ""
             }
            },
            "type": "scattergl"
           }
          ],
          "scattermapbox": [
           {
            "marker": {
             "colorbar": {
              "outlinewidth": 0,
              "ticks": ""
             }
            },
            "type": "scattermapbox"
           }
          ],
          "scatterpolar": [
           {
            "marker": {
             "colorbar": {
              "outlinewidth": 0,
              "ticks": ""
             }
            },
            "type": "scatterpolar"
           }
          ],
          "scatterpolargl": [
           {
            "marker": {
             "colorbar": {
              "outlinewidth": 0,
              "ticks": ""
             }
            },
            "type": "scatterpolargl"
           }
          ],
          "scatterternary": [
           {
            "marker": {
             "colorbar": {
              "outlinewidth": 0,
              "ticks": ""
             }
            },
            "type": "scatterternary"
           }
          ],
          "surface": [
           {
            "colorbar": {
             "outlinewidth": 0,
             "ticks": ""
            },
            "colorscale": [
             [
              0,
              "#0d0887"
             ],
             [
              0.1111111111111111,
              "#46039f"
             ],
             [
              0.2222222222222222,
              "#7201a8"
             ],
             [
              0.3333333333333333,
              "#9c179e"
             ],
             [
              0.4444444444444444,
              "#bd3786"
             ],
             [
              0.5555555555555556,
              "#d8576b"
             ],
             [
              0.6666666666666666,
              "#ed7953"
             ],
             [
              0.7777777777777778,
              "#fb9f3a"
             ],
             [
              0.8888888888888888,
              "#fdca26"
             ],
             [
              1,
              "#f0f921"
             ]
            ],
            "type": "surface"
           }
          ],
          "table": [
           {
            "cells": {
             "fill": {
              "color": "#EBF0F8"
             },
             "line": {
              "color": "white"
             }
            },
            "header": {
             "fill": {
              "color": "#C8D4E3"
             },
             "line": {
              "color": "white"
             }
            },
            "type": "table"
           }
          ]
         },
         "layout": {
          "annotationdefaults": {
           "arrowcolor": "#2a3f5f",
           "arrowhead": 0,
           "arrowwidth": 1
          },
          "autotypenumbers": "strict",
          "coloraxis": {
           "colorbar": {
            "outlinewidth": 0,
            "ticks": ""
           }
          },
          "colorscale": {
           "diverging": [
            [
             0,
             "#8e0152"
            ],
            [
             0.1,
             "#c51b7d"
            ],
            [
             0.2,
             "#de77ae"
            ],
            [
             0.3,
             "#f1b6da"
            ],
            [
             0.4,
             "#fde0ef"
            ],
            [
             0.5,
             "#f7f7f7"
            ],
            [
             0.6,
             "#e6f5d0"
            ],
            [
             0.7,
             "#b8e186"
            ],
            [
             0.8,
             "#7fbc41"
            ],
            [
             0.9,
             "#4d9221"
            ],
            [
             1,
             "#276419"
            ]
           ],
           "sequential": [
            [
             0,
             "#0d0887"
            ],
            [
             0.1111111111111111,
             "#46039f"
            ],
            [
             0.2222222222222222,
             "#7201a8"
            ],
            [
             0.3333333333333333,
             "#9c179e"
            ],
            [
             0.4444444444444444,
             "#bd3786"
            ],
            [
             0.5555555555555556,
             "#d8576b"
            ],
            [
             0.6666666666666666,
             "#ed7953"
            ],
            [
             0.7777777777777778,
             "#fb9f3a"
            ],
            [
             0.8888888888888888,
             "#fdca26"
            ],
            [
             1,
             "#f0f921"
            ]
           ],
           "sequentialminus": [
            [
             0,
             "#0d0887"
            ],
            [
             0.1111111111111111,
             "#46039f"
            ],
            [
             0.2222222222222222,
             "#7201a8"
            ],
            [
             0.3333333333333333,
             "#9c179e"
            ],
            [
             0.4444444444444444,
             "#bd3786"
            ],
            [
             0.5555555555555556,
             "#d8576b"
            ],
            [
             0.6666666666666666,
             "#ed7953"
            ],
            [
             0.7777777777777778,
             "#fb9f3a"
            ],
            [
             0.8888888888888888,
             "#fdca26"
            ],
            [
             1,
             "#f0f921"
            ]
           ]
          },
          "colorway": [
           "#636efa",
           "#EF553B",
           "#00cc96",
           "#ab63fa",
           "#FFA15A",
           "#19d3f3",
           "#FF6692",
           "#B6E880",
           "#FF97FF",
           "#FECB52"
          ],
          "font": {
           "color": "#2a3f5f"
          },
          "geo": {
           "bgcolor": "white",
           "lakecolor": "white",
           "landcolor": "#E5ECF6",
           "showlakes": true,
           "showland": true,
           "subunitcolor": "white"
          },
          "hoverlabel": {
           "align": "left"
          },
          "hovermode": "closest",
          "mapbox": {
           "style": "light"
          },
          "paper_bgcolor": "white",
          "plot_bgcolor": "#E5ECF6",
          "polar": {
           "angularaxis": {
            "gridcolor": "white",
            "linecolor": "white",
            "ticks": ""
           },
           "bgcolor": "#E5ECF6",
           "radialaxis": {
            "gridcolor": "white",
            "linecolor": "white",
            "ticks": ""
           }
          },
          "scene": {
           "xaxis": {
            "backgroundcolor": "#E5ECF6",
            "gridcolor": "white",
            "gridwidth": 2,
            "linecolor": "white",
            "showbackground": true,
            "ticks": "",
            "zerolinecolor": "white"
           },
           "yaxis": {
            "backgroundcolor": "#E5ECF6",
            "gridcolor": "white",
            "gridwidth": 2,
            "linecolor": "white",
            "showbackground": true,
            "ticks": "",
            "zerolinecolor": "white"
           },
           "zaxis": {
            "backgroundcolor": "#E5ECF6",
            "gridcolor": "white",
            "gridwidth": 2,
            "linecolor": "white",
            "showbackground": true,
            "ticks": "",
            "zerolinecolor": "white"
           }
          },
          "shapedefaults": {
           "line": {
            "color": "#2a3f5f"
           }
          },
          "ternary": {
           "aaxis": {
            "gridcolor": "white",
            "linecolor": "white",
            "ticks": ""
           },
           "baxis": {
            "gridcolor": "white",
            "linecolor": "white",
            "ticks": ""
           },
           "bgcolor": "#E5ECF6",
           "caxis": {
            "gridcolor": "white",
            "linecolor": "white",
            "ticks": ""
           }
          },
          "title": {
           "x": 0.05
          },
          "xaxis": {
           "automargin": true,
           "gridcolor": "white",
           "linecolor": "white",
           "ticks": "",
           "title": {
            "standoff": 15
           },
           "zerolinecolor": "white",
           "zerolinewidth": 2
          },
          "yaxis": {
           "automargin": true,
           "gridcolor": "white",
           "linecolor": "white",
           "ticks": "",
           "title": {
            "standoff": 15
           },
           "zerolinecolor": "white",
           "zerolinewidth": 2
          }
         }
        },
        "xaxis": {
         "anchor": "y",
         "domain": [
          0,
          1
         ],
         "title": {
          "text": "total_caractere_video"
         }
        },
        "yaxis": {
         "anchor": "x",
         "domain": [
          0,
          1
         ],
         "title": {
          "text": "total_visualizacoes"
         }
        }
       }
      }
     },
     "metadata": {},
     "output_type": "display_data"
    }
   ],
   "source": [
    "fig.show()"
   ]
  },
  {
   "cell_type": "markdown",
   "metadata": {},
   "source": [
    "- Comparação Likes X Visualizações e Cometários X Visualizações"
   ]
  },
  {
   "cell_type": "code",
   "execution_count": 10,
   "metadata": {},
   "outputs": [
    {
     "data": {
      "application/vnd.plotly.v1+json": {
       "config": {
        "plotlyServerURL": "https://plot.ly"
       },
       "data": [
        {
         "hovertemplate": "total_likes=%{x}<br>total_visualizacoes=%{y}<extra></extra>",
         "legendgroup": "",
         "marker": {
          "color": "#636efa",
          "symbol": "circle"
         },
         "mode": "markers",
         "name": "",
         "showlegend": false,
         "type": "scattergl",
         "x": [
          45,
          1,
          2,
          0,
          19,
          2,
          2,
          6,
          8,
          42,
          57,
          45,
          687,
          2,
          4,
          73,
          0,
          4,
          2,
          5,
          0,
          3,
          1,
          2,
          35,
          6,
          8,
          8,
          70,
          1,
          0,
          2,
          3,
          51,
          54,
          59,
          60,
          49,
          52,
          4,
          923,
          1517,
          2,
          2,
          2,
          80,
          26,
          83,
          48,
          90,
          82,
          0,
          1,
          1,
          0,
          0,
          0,
          4,
          1,
          0,
          7,
          20,
          435,
          2,
          12,
          1,
          9,
          11,
          17,
          2,
          6,
          2,
          2,
          2,
          42,
          9,
          null,
          6,
          55,
          109,
          0,
          0,
          3,
          0,
          0,
          0,
          0,
          3,
          795,
          2011,
          218,
          695,
          1,
          1,
          5,
          6,
          123,
          42,
          5,
          1,
          1,
          4,
          5,
          59,
          61,
          54,
          11,
          3,
          4,
          11,
          5,
          1036,
          2293,
          86,
          2604,
          4955,
          2141,
          684,
          2,
          2,
          10,
          125,
          79,
          59,
          84,
          54,
          90,
          82,
          2,
          1,
          1,
          0,
          0,
          0,
          0,
          4,
          1,
          0,
          1,
          7,
          927,
          2,
          225,
          115,
          12,
          1,
          11,
          13,
          213,
          3,
          6,
          2,
          3,
          1,
          2,
          43,
          10,
          null,
          6,
          3,
          101,
          110,
          0,
          0,
          3,
          0,
          0,
          0,
          0,
          0,
          837,
          3733,
          250,
          335,
          1377,
          0,
          1,
          5,
          7,
          127,
          42,
          5,
          1,
          1,
          1,
          4,
          5,
          58,
          60,
          54,
          19,
          3,
          6,
          12,
          12,
          8,
          1049,
          2316,
          146,
          3306,
          2770,
          8899,
          2206,
          1395,
          2,
          2,
          5,
          11,
          11,
          11,
          127,
          88,
          65,
          19,
          85,
          56,
          91,
          83,
          2,
          1,
          1,
          0,
          0,
          0,
          0,
          4,
          0,
          1,
          0,
          3,
          2,
          1,
          9,
          311,
          400,
          187,
          1125,
          0,
          16,
          10,
          2,
          296,
          177,
          12,
          1,
          13,
          1,
          14,
          298,
          3,
          6,
          7,
          12,
          2,
          3,
          1,
          2,
          2,
          45,
          11,
          1,
          null,
          6,
          3,
          4,
          4,
          8,
          114,
          111,
          1,
          320,
          250,
          1465,
          0,
          3,
          0,
          0,
          0,
          0,
          0,
          868,
          4408,
          252,
          238,
          175,
          876,
          1621,
          1,
          5,
          7,
          129,
          42,
          5,
          1,
          0,
          1,
          2,
          4,
          5,
          59,
          60,
          54,
          24,
          3,
          7,
          12,
          17,
          2,
          49,
          1060,
          2344,
          149,
          6610,
          2930,
          3992,
          10993,
          2271,
          1932,
          436,
          2,
          2,
          8,
          13,
          5,
          11,
          129,
          94,
          68,
          40,
          86,
          56,
          93,
          83,
          10,
          2,
          1,
          1,
          0,
          0,
          0,
          0,
          4,
          0,
          1,
          0,
          0,
          3,
          4,
          1,
          9,
          424,
          535,
          352,
          1184,
          0,
          0,
          20,
          2,
          327,
          196,
          12,
          1,
          13,
          4,
          14,
          317,
          7,
          3,
          3,
          6,
          12,
          7,
          7,
          8,
          1,
          2,
          3,
          1,
          2,
          2,
          13,
          56,
          46,
          11,
          1,
          null,
          6,
          5,
          5,
          4,
          5,
          8,
          118,
          112,
          1,
          773,
          312,
          621,
          346,
          2595,
          568,
          0,
          3,
          0,
          0,
          0,
          0,
          0,
          892,
          4723,
          1744,
          253,
          381,
          290,
          320,
          1078,
          1740,
          1,
          5,
          7,
          130,
          42,
          5,
          1,
          0,
          1,
          3,
          4,
          5,
          59,
          61,
          56,
          30,
          3,
          7,
          12,
          21,
          4,
          50,
          4137,
          1063,
          2351,
          149,
          7460,
          3040,
          5652,
          12013,
          739,
          2316,
          2168,
          638,
          314,
          2,
          2,
          9,
          28,
          6,
          11,
          129,
          97,
          68,
          46,
          86,
          57,
          36,
          93,
          83,
          59,
          3,
          1,
          1,
          0,
          0,
          0,
          0,
          4,
          0,
          0,
          1,
          0,
          0,
          4,
          null,
          null,
          6,
          1,
          9,
          11,
          466,
          605,
          381,
          1228,
          211,
          0,
          0,
          0,
          21,
          2,
          347,
          134,
          203,
          12,
          1,
          13,
          6,
          14,
          12,
          336,
          26,
          3,
          6,
          12,
          7,
          12,
          8,
          6,
          5,
          1,
          2,
          3,
          1,
          2,
          2,
          80,
          50,
          12,
          0,
          1,
          0,
          null,
          null,
          6,
          5,
          4,
          5,
          4,
          8,
          118,
          113,
          54,
          1,
          948,
          591,
          766,
          564,
          3094,
          869,
          0,
          3,
          0,
          0,
          0,
          0,
          0,
          906,
          4922,
          2412,
          253,
          220,
          418,
          289,
          573,
          1193,
          1782,
          1,
          5,
          7,
          132,
          42,
          5,
          226,
          1,
          1,
          0,
          1,
          3,
          4,
          6,
          19,
          59,
          61,
          57,
          2,
          30,
          3,
          7,
          12,
          22,
          4,
          50,
          5726,
          4282,
          1070,
          2376,
          149,
          7997,
          3130,
          6364,
          12605,
          1601,
          2356,
          2322,
          722,
          563,
          368,
          4,
          2,
          2,
          10,
          32,
          9,
          11,
          2,
          106,
          130,
          98,
          69,
          52,
          86,
          58,
          49,
          93,
          83,
          65,
          3,
          1,
          1,
          0,
          0,
          0,
          0,
          4,
          0,
          0,
          1,
          0,
          0,
          4,
          null,
          6,
          7,
          1,
          9,
          0,
          177,
          104,
          475,
          658,
          268,
          362,
          381,
          1266,
          409,
          0,
          0,
          0,
          0,
          22,
          16,
          2,
          355,
          164,
          209,
          12,
          1,
          13,
          10,
          14,
          1,
          14,
          346,
          56,
          33,
          3,
          5,
          6,
          12,
          8,
          12,
          8,
          7,
          1,
          2,
          3,
          1,
          2,
          2,
          82,
          51,
          12,
          0,
          0,
          null,
          null,
          6,
          5,
          4,
          5,
          5,
          5,
          8,
          3,
          3,
          222,
          119,
          113,
          70,
          1,
          1050,
          699,
          842,
          659,
          3322,
          1013,
          0,
          1,
          3,
          0,
          0,
          0,
          0,
          0,
          0,
          917,
          5035,
          2604,
          253,
          124,
          118,
          320,
          295,
          430,
          289,
          678,
          637,
          1299,
          1817,
          1,
          5,
          7,
          133,
          42,
          13,
          14,
          14,
          5,
          0,
          398,
          1,
          1,
          1,
          1,
          3,
          1,
          4,
          7,
          93,
          61,
          61,
          58,
          4,
          31,
          3,
          7,
          12,
          22,
          4,
          50,
          6192,
          5606,
          4416,
          49,
          1072,
          2392,
          149,
          8346,
          3202,
          6725,
          13033,
          1756,
          2383,
          2430,
          229,
          769,
          614,
          541,
          2,
          8,
          2,
          2,
          11,
          32,
          9,
          11,
          2,
          138,
          130,
          99,
          69,
          52,
          86,
          58,
          52,
          93,
          83,
          65,
          3,
          1,
          0,
          2,
          0,
          0,
          0,
          0,
          4,
          0,
          0,
          1,
          0,
          0,
          4,
          null,
          null,
          6,
          12,
          1,
          9,
          0,
          0,
          186,
          176,
          340,
          284,
          486,
          691,
          412,
          493,
          385,
          1287,
          416,
          0,
          0,
          0,
          1,
          22,
          18,
          2,
          2,
          363,
          172,
          214,
          12,
          1,
          13,
          11,
          14,
          3,
          23,
          6,
          352,
          99,
          47,
          38,
          3,
          9,
          6,
          12,
          8,
          12,
          8,
          7,
          1,
          2,
          3,
          1,
          2,
          2,
          83,
          56,
          12,
          19,
          0,
          0,
          null,
          null,
          6,
          5,
          4,
          5,
          4,
          1,
          5,
          8,
          3,
          562,
          0,
          8,
          119,
          113,
          76,
          3,
          35,
          1105,
          742,
          877,
          693,
          3427,
          1060,
          0,
          1,
          1,
          3,
          0,
          0,
          0,
          0,
          0,
          0,
          1614,
          926,
          5197,
          2762,
          253,
          126,
          340,
          441,
          289,
          730,
          1382,
          1848,
          1,
          5,
          7,
          134,
          42,
          5,
          401,
          1,
          1,
          1,
          0,
          1,
          3,
          1,
          4,
          7,
          4,
          105,
          61,
          61,
          58,
          0,
          4,
          31,
          3,
          7,
          9,
          12,
          22,
          4,
          50,
          4102,
          6510,
          6023,
          5771,
          52,
          1076,
          2400,
          149,
          8625,
          3261,
          6985,
          13460,
          633,
          1856,
          2403,
          2582,
          614,
          817,
          303,
          663,
          615,
          5,
          3,
          8,
          0,
          2,
          2,
          11,
          32,
          5,
          9,
          11,
          2,
          153,
          131,
          100,
          69,
          52,
          86,
          58,
          54,
          93,
          83,
          66,
          3,
          1,
          0,
          2,
          0,
          0,
          0,
          0,
          4,
          0,
          0,
          1,
          0,
          0,
          2,
          2,
          2,
          4,
          null,
          6,
          13,
          1,
          9,
          0,
          0,
          4,
          187,
          418,
          304,
          492,
          704,
          437,
          543,
          388,
          1297,
          422,
          0,
          0,
          0,
          1,
          22,
          19,
          2,
          2,
          371,
          178,
          216,
          12,
          1,
          1,
          13,
          11,
          14,
          0,
          4,
          25,
          12,
          355,
          105,
          40,
          68,
          154,
          40,
          3,
          8,
          13,
          6,
          12,
          8,
          12,
          8,
          7,
          1,
          2,
          3,
          1,
          2,
          2,
          84,
          59,
          14,
          31,
          0,
          0,
          null,
          null,
          6,
          5,
          4,
          5,
          4,
          4,
          6,
          8,
          5,
          3,
          640,
          2,
          0,
          0,
          10,
          119,
          113,
          78,
          12,
          3,
          359,
          1146,
          779,
          910,
          162,
          721,
          3497,
          403,
          1087,
          170,
          3,
          0,
          1,
          3,
          0,
          0,
          0,
          0,
          0,
          0,
          0,
          2164,
          933,
          5310,
          2868,
          252,
          126,
          349,
          443,
          289,
          776,
          1412,
          1865,
          1,
          5,
          7,
          135,
          42,
          5,
          403,
          1,
          1,
          1,
          0,
          0,
          1,
          3,
          1,
          4,
          7,
          4,
          105,
          12,
          61,
          61,
          58,
          2,
          4,
          31,
          3698,
          3,
          7,
          6,
          31,
          12,
          22,
          4,
          50,
          5317,
          6707,
          6283,
          4043,
          6159,
          51,
          1076,
          2404,
          149,
          8839,
          3321,
          7165,
          13784,
          1268,
          1918,
          2433,
          2658,
          669,
          850,
          538,
          690,
          250,
          659,
          4,
          4,
          5,
          8,
          0,
          2,
          2,
          11,
          33,
          9,
          10,
          11,
          3,
          164,
          232,
          134,
          103,
          2,
          2,
          69,
          52,
          86,
          58,
          54,
          93,
          83,
          15,
          66,
          3,
          1,
          2,
          2,
          0,
          0,
          0,
          0,
          4,
          0,
          0,
          1,
          0,
          0,
          2,
          2,
          9,
          4,
          null,
          6,
          14,
          1,
          9,
          0,
          0,
          0,
          8,
          187,
          433,
          313,
          498,
          37,
          709,
          439,
          564,
          388,
          1306,
          423,
          27,
          0,
          0,
          0,
          1,
          22,
          19,
          2,
          2,
          373,
          180,
          218,
          7,
          12,
          7,
          3,
          1,
          13,
          11,
          14,
          1,
          4,
          3,
          27,
          15,
          355,
          107,
          76,
          73,
          163,
          40,
          3,
          7,
          0,
          16,
          6,
          12,
          8,
          12,
          8,
          0,
          7,
          1,
          2,
          3,
          1,
          2,
          2,
          84,
          60,
          15,
          38,
          38,
          0,
          0,
          null,
          null,
          2,
          6,
          5,
          4,
          5,
          4,
          6,
          83,
          8,
          5,
          5,
          3,
          687,
          1,
          1,
          0,
          3,
          119,
          113,
          81,
          46,
          3,
          446,
          1174,
          91,
          796,
          935,
          293,
          747,
          3542,
          582,
          1119,
          333,
          207,
          88,
          3,
          0,
          1,
          3,
          0,
          0,
          0,
          0,
          0,
          0,
          2327,
          936,
          5395,
          1298,
          2935,
          252,
          126,
          355,
          444,
          289,
          792,
          1418,
          1885,
          1,
          5,
          7,
          135,
          42,
          5,
          403,
          0,
          1,
          1,
          1,
          1,
          0,
          1,
          3,
          2,
          4,
          7,
          4,
          105,
          34,
          61,
          61,
          58,
          0,
          3,
          4,
          31,
          4804,
          3,
          7,
          6,
          11,
          38,
          12,
          22,
          4,
          50,
          5600,
          6855,
          6448,
          5046,
          6330,
          51,
          1078,
          2418,
          149,
          8978,
          3382,
          7321,
          13988,
          1368,
          2753,
          1950,
          2441,
          304,
          2707,
          698,
          872,
          585,
          710,
          473,
          686,
          3,
          4,
          5,
          9,
          0,
          2,
          2,
          11,
          33,
          9,
          10,
          12,
          3,
          179,
          509,
          134,
          104,
          1,
          2
         ],
         "xaxis": "x",
         "y": [
          181,
          1,
          7,
          8,
          441,
          13,
          25,
          17,
          32,
          289,
          461,
          398,
          4562,
          32,
          6,
          469,
          2,
          16,
          9,
          27,
          0,
          8,
          14,
          30,
          788,
          52,
          55,
          45,
          523,
          24,
          0,
          26,
          27,
          468,
          572,
          597,
          620,
          551,
          575,
          19,
          7399,
          7914,
          22,
          36,
          33,
          426,
          57,
          452,
          341,
          926,
          568,
          0,
          34,
          13,
          20,
          3,
          13,
          43,
          24,
          2,
          139,
          0,
          2726,
          11,
          251,
          3,
          80,
          180,
          68,
          14,
          48,
          58,
          4,
          94,
          951,
          106,
          2463,
          71,
          329,
          1082,
          3,
          36,
          162,
          39,
          4,
          7,
          0,
          9,
          5011,
          7819,
          1568,
          3827,
          9,
          8,
          27,
          77,
          909,
          323,
          121,
          3,
          8,
          86,
          82,
          658,
          638,
          633,
          40,
          20,
          43,
          218,
          20,
          8949,
          16452,
          0,
          20325,
          17961,
          18470,
          2360,
          26,
          39,
          100,
          894,
          402,
          299,
          462,
          370,
          935,
          571,
          4,
          49,
          12,
          1,
          22,
          3,
          13,
          44,
          27,
          9,
          7,
          151,
          10428,
          11,
          2631,
          904,
          251,
          3,
          105,
          248,
          2292,
          25,
          49,
          70,
          15,
          4,
          94,
          969,
          124,
          2484,
          71,
          20,
          1073,
          1101,
          10,
          52,
          162,
          40,
          12,
          0,
          2,
          0,
          5353,
          22101,
          2104,
          1658,
          13127,
          0,
          9,
          27,
          112,
          966,
          333,
          121,
          16,
          13,
          6,
          95,
          82,
          664,
          639,
          634,
          191,
          20,
          55,
          233,
          150,
          0,
          9112,
          16805,
          0,
          12838,
          22599,
          52156,
          19597,
          8247,
          27,
          39,
          24,
          136,
          136,
          136,
          952,
          463,
          406,
          76,
          468,
          380,
          939,
          574,
          6,
          60,
          17,
          1,
          20,
          3,
          14,
          45,
          0,
          27,
          9,
          38,
          29,
          10,
          169,
          1649,
          3337,
          1074,
          13590,
          0,
          43,
          16,
          11,
          4124,
          2515,
          253,
          3,
          149,
          8,
          305,
          4206,
          33,
          51,
          53,
          106,
          70,
          21,
          7,
          14,
          94,
          1006,
          177,
          2,
          2491,
          71,
          27,
          3,
          6,
          60,
          1166,
          1122,
          17,
          3300,
          2328,
          11491,
          57,
          159,
          40,
          16,
          0,
          5,
          0,
          5687,
          29522,
          2114,
          2280,
          1481,
          8943,
          17808,
          12,
          27,
          132,
          1242,
          338,
          121,
          20,
          2,
          14,
          27,
          95,
          82,
          685,
          642,
          640,
          260,
          20,
          91,
          246,
          324,
          30,
          0,
          9263,
          17245,
          0,
          44930,
          24837,
          24631,
          76038,
          20827,
          13250,
          2192,
          27,
          40,
          22,
          148,
          13,
          144,
          979,
          508,
          448,
          255,
          472,
          383,
          949,
          575,
          17,
          7,
          62,
          20,
          1,
          18,
          4,
          14,
          44,
          6,
          27,
          14,
          3,
          38,
          89,
          17,
          174,
          2392,
          4777,
          3738,
          14582,
          0,
          0,
          62,
          11,
          4447,
          2834,
          253,
          4,
          175,
          17,
          309,
          4776,
          64,
          24,
          33,
          54,
          110,
          34,
          73,
          111,
          6,
          71,
          24,
          9,
          30,
          93,
          174,
          1148,
          1043,
          270,
          7,
          2506,
          72,
          12,
          12,
          40,
          10,
          61,
          1229,
          1129,
          20,
          10547,
          3349,
          8512,
          3796,
          29665,
          6078,
          57,
          158,
          40,
          16,
          0,
          17,
          0,
          5921,
          32911,
          10963,
          2119,
          4303,
          3901,
          3826,
          11106,
          19789,
          13,
          27,
          135,
          1283,
          340,
          123,
          27,
          3,
          16,
          55,
          95,
          83,
          699,
          647,
          648,
          321,
          20,
          97,
          247,
          484,
          54,
          0,
          25216,
          9351,
          17489,
          0,
          53307,
          26784,
          42500,
          88838,
          4266,
          21618,
          15296,
          3983,
          1361,
          27,
          39,
          39,
          516,
          43,
          144,
          987,
          533,
          459,
          314,
          479,
          393,
          117,
          953,
          577,
          577,
          12,
          69,
          21,
          5,
          18,
          4,
          14,
          44,
          2,
          7,
          27,
          18,
          6,
          50,
          0,
          6,
          106,
          21,
          180,
          0,
          2789,
          5520,
          4465,
          15398,
          1607,
          1,
          5,
          1,
          66,
          11,
          4628,
          1381,
          2913,
          255,
          4,
          179,
          129,
          310,
          70,
          5156,
          354,
          34,
          57,
          110,
          56,
          76,
          119,
          21,
          12,
          7,
          71,
          28,
          11,
          31,
          93,
          2357,
          1125,
          317,
          0,
          7,
          1,
          2510,
          25,
          73,
          22,
          46,
          28,
          5,
          61,
          1286,
          1142,
          289,
          22,
          13653,
          8474,
          10415,
          7869,
          37977,
          11419,
          60,
          158,
          40,
          17,
          0,
          22,
          0,
          6088,
          35233,
          17480,
          2119,
          2954,
          4925,
          3922,
          8182,
          12717,
          20899,
          14,
          27,
          142,
          1299,
          340,
          123,
          1798,
          28,
          2,
          8,
          18,
          79,
          96,
          85,
          342,
          705,
          653,
          657,
          4,
          345,
          20,
          97,
          252,
          517,
          63,
          0,
          42611,
          25707,
          9404,
          17777,
          0,
          59038,
          28387,
          50017,
          97039,
          14438,
          22431,
          17131,
          4936,
          3889,
          1807,
          8,
          27,
          39,
          48,
          662,
          93,
          142,
          21,
          723,
          1005,
          569,
          476,
          340,
          484,
          397,
          453,
          959,
          581,
          771,
          19,
          76,
          24,
          5,
          20,
          4,
          14,
          44,
          6,
          9,
          27,
          18,
          6,
          56,
          9,
          109,
          17,
          23,
          180,
          21,
          2060,
          658,
          2877,
          5995,
          2701,
          3534,
          4652,
          16080,
          6059,
          9,
          5,
          1,
          6,
          70,
          49,
          11,
          4750,
          1840,
          2944,
          258,
          3,
          181,
          182,
          313,
          2,
          112,
          5576,
          291,
          578,
          34,
          138,
          57,
          114,
          91,
          76,
          111,
          31,
          19,
          70,
          26,
          14,
          33,
          93,
          2382,
          1185,
          335,
          0,
          1,
          2522,
          48,
          74,
          24,
          47,
          35,
          25,
          14,
          61,
          15,
          16,
          1304,
          1330,
          1145,
          537,
          23,
          15810,
          10054,
          11590,
          9495,
          42943,
          14333,
          63,
          4,
          158,
          41,
          16,
          0,
          22,
          0,
          1095,
          6235,
          36959,
          19922,
          2120,
          1428,
          1179,
          5467,
          4734,
          5170,
          3931,
          10487,
          9370,
          14684,
          22054,
          14,
          27,
          144,
          1309,
          365,
          60,
          75,
          99,
          121,
          0,
          6079,
          28,
          8,
          17,
          18,
          85,
          4,
          96,
          86,
          2036,
          715,
          655,
          668,
          25,
          359,
          20,
          99,
          255,
          544,
          69,
          0,
          47320,
          41868,
          27606,
          0,
          9451,
          18004,
          0,
          63099,
          29858,
          54002,
          104409,
          17338,
          22921,
          18449,
          967,
          5543,
          4458,
          3198,
          66,
          79,
          26,
          39,
          74,
          666,
          114,
          142,
          32,
          1054,
          1015,
          588,
          478,
          342,
          481,
          398,
          485,
          963,
          585,
          787,
          19,
          79,
          5,
          31,
          5,
          20,
          4,
          14,
          44,
          8,
          10,
          27,
          18,
          9,
          58,
          1718,
          16,
          109,
          65,
          24,
          184,
          22,
          9,
          2152,
          1575,
          4618,
          4060,
          2957,
          6391,
          7796,
          5781,
          4726,
          16659,
          6242,
          17,
          5,
          0,
          64,
          84,
          90,
          29,
          11,
          4850,
          1956,
          3036,
          260,
          3,
          186,
          187,
          315,
          32,
          246,
          10,
          5871,
          980,
          187,
          658,
          34,
          406,
          57,
          114,
          92,
          76,
          112,
          31,
          26,
          70,
          26,
          15,
          32,
          93,
          2400,
          1265,
          340,
          78,
          0,
          1,
          2541,
          50,
          76,
          24,
          47,
          36,
          9,
          4,
          29,
          61,
          18,
          3965,
          9,
          9,
          1341,
          1148,
          635,
          27,
          154,
          16890,
          11127,
          12310,
          10234,
          45616,
          15713,
          66,
          9,
          26,
          158,
          41,
          16,
          0,
          0,
          22,
          0,
          9142,
          6387,
          38935,
          21960,
          2121,
          1462,
          6038,
          5321,
          3930,
          11865,
          16126,
          22915,
          13,
          27,
          144,
          1324,
          380,
          121,
          6280,
          28,
          10,
          18,
          6,
          18,
          85,
          12,
          96,
          88,
          21,
          2409,
          721,
          656,
          671,
          0,
          28,
          368,
          20,
          103,
          42,
          256,
          547,
          70,
          0,
          24904,
          50535,
          46106,
          44415,
          0,
          9488,
          18197,
          0,
          66655,
          31140,
          57019,
          111842,
          4298,
          18699,
          23317,
          20061,
          4835,
          6146,
          1506,
          4995,
          3900,
          89,
          23,
          89,
          2,
          26,
          39,
          90,
          669,
          16,
          128,
          143,
          33,
          1230,
          1022,
          599,
          480,
          343,
          481,
          399,
          524,
          967,
          586,
          802,
          21,
          79,
          14,
          71,
          5,
          20,
          4,
          14,
          44,
          8,
          10,
          27,
          18,
          10,
          11,
          6,
          10,
          57,
          1842,
          109,
          88,
          24,
          191,
          23,
          9,
          24,
          2165,
          6359,
          4898,
          3061,
          6602,
          8510,
          6350,
          4760,
          16966,
          6292,
          18,
          10,
          0,
          67,
          84,
          93,
          81,
          11,
          4948,
          2043,
          3088,
          262,
          2,
          3,
          187,
          188,
          315,
          1,
          41,
          318,
          126,
          6060,
          1116,
          158,
          1170,
          1497,
          747,
          34,
          56,
          610,
          57,
          114,
          83,
          75,
          128,
          28,
          27,
          71,
          27,
          15,
          32,
          93,
          2406,
          1347,
          348,
          129,
          0,
          1,
          2549,
          63,
          77,
          24,
          47,
          36,
          10,
          13,
          35,
          61,
          19,
          16,
          4656,
          70,
          5,
          39,
          12,
          1348,
          1149,
          713,
          47,
          28,
          4909,
          17422,
          11730,
          12802,
          1846,
          10671,
          46793,
          3681,
          16338,
          1741,
          8,
          68,
          27,
          158,
          40,
          16,
          6,
          2,
          0,
          22,
          0,
          14617,
          6504,
          40378,
          23189,
          2122,
          1464,
          6471,
          5462,
          3925,
          12962,
          16736,
          23474,
          13,
          27,
          148,
          1334,
          394,
          121,
          6362,
          27,
          10,
          18,
          2,
          8,
          18,
          85,
          12,
          96,
          87,
          21,
          2409,
          79,
          727,
          656,
          679,
          20,
          52,
          382,
          26701,
          20,
          104,
          29,
          594,
          258,
          562,
          73,
          0,
          39393,
          52814,
          48936,
          25546,
          48453,
          0,
          9521,
          18430,
          0,
          69468,
          32382,
          59218,
          117375,
          16232,
          19507,
          23697,
          21201,
          5421,
          6643,
          4704,
          5358,
          990,
          4484,
          104,
          46,
          67,
          89,
          3,
          26,
          39,
          91,
          671,
          33,
          132,
          143,
          33,
          1387,
          1417,
          1029,
          611,
          30,
          4,
          481,
          342,
          481,
          400,
          537,
          968,
          586,
          86,
          805,
          21,
          79,
          22,
          76,
          5,
          20,
          4,
          14,
          44,
          9,
          11,
          27,
          18,
          10,
          48,
          16,
          61,
          57,
          1970,
          109,
          103,
          26,
          193,
          23,
          9,
          9,
          129,
          2167,
          6705,
          5233,
          3228,
          105,
          6714,
          8594,
          6609,
          4773,
          17145,
          6330,
          184,
          16,
          11,
          2,
          67,
          85,
          95,
          86,
          11,
          5000,
          2079,
          3112,
          6,
          262,
          15,
          6,
          3,
          187,
          186,
          316,
          6,
          46,
          18,
          339,
          161,
          6157,
          1145,
          601,
          1219,
          1641,
          782,
          34,
          62,
          4,
          801,
          57,
          117,
          95,
          76,
          129,
          0,
          29,
          28,
          71,
          27,
          20,
          32,
          93,
          2413,
          1361,
          421,
          159,
          150,
          0,
          1,
          2558,
          66,
          8,
          78,
          23,
          47,
          36,
          13,
          43,
          466,
          61,
          36,
          25,
          20,
          4999,
          70,
          87,
          45,
          31,
          1349,
          1149,
          737,
          302,
          28,
          7297,
          17956,
          979,
          12127,
          13236,
          4314,
          11042,
          47658,
          6402,
          16828,
          4795,
          1656,
          1051,
          15,
          71,
          31,
          158,
          40,
          16,
          8,
          0,
          22,
          0,
          16102,
          6567,
          41307,
          7118,
          23991,
          2122,
          1466,
          6713,
          5539,
          3926,
          13516,
          16921,
          23876,
          13,
          27,
          148,
          1344,
          396,
          121,
          6408,
          1,
          27,
          10,
          18,
          4,
          15,
          18,
          85,
          16,
          96,
          87,
          27,
          2411,
          240,
          738,
          656,
          681,
          2,
          34,
          56,
          389,
          40661,
          20,
          104,
          16,
          166,
          871,
          259,
          569,
          76,
          0,
          42650,
          54375,
          50789,
          39265,
          50480,
          0,
          9540,
          18599,
          0,
          71357,
          33628,
          60786,
          120812,
          18620,
          15805,
          19942,
          24021,
          1530,
          22102,
          5745,
          6973,
          5238,
          5593,
          2948,
          4808,
          8,
          130,
          68,
          93,
          3,
          26,
          39,
          95,
          675,
          46,
          131,
          144,
          32,
          1623,
          5488,
          1044,
          622,
          2,
          33
         ],
         "yaxis": "y"
        },
        {
         "hovertemplate": "total_comentarios=%{x}<br>total_visualizacoes=%{y}<extra></extra>",
         "legendgroup": "",
         "marker": {
          "color": "#636efa",
          "symbol": "circle"
         },
         "mode": "markers",
         "name": "",
         "showlegend": false,
         "type": "scattergl",
         "x": [
          12,
          0,
          2,
          0,
          0,
          0,
          0,
          0,
          0,
          0,
          2,
          3,
          23,
          0,
          0,
          24,
          0,
          0,
          4,
          0,
          0,
          0,
          0,
          0,
          0,
          2,
          0,
          0,
          10,
          0,
          0,
          0,
          0,
          2,
          2,
          3,
          3,
          4,
          5,
          0,
          29,
          55,
          0,
          0,
          0,
          2,
          0,
          15,
          12,
          9,
          25,
          0,
          0,
          0,
          0,
          0,
          0,
          1,
          0,
          0,
          0,
          3,
          23,
          4,
          0,
          0,
          2,
          2,
          0,
          0,
          0,
          0,
          2,
          0,
          1,
          2,
          0,
          4,
          8,
          23,
          0,
          0,
          0,
          0,
          0,
          0,
          0,
          0,
          48,
          120,
          0,
          27,
          0,
          0,
          0,
          7,
          24,
          0,
          0,
          0,
          0,
          0,
          0,
          8,
          3,
          5,
          5,
          0,
          5,
          2,
          0,
          32,
          78,
          0,
          94,
          183,
          40,
          42,
          1,
          1,
          7,
          5,
          5,
          10,
          19,
          20,
          9,
          25,
          0,
          0,
          0,
          0,
          0,
          0,
          0,
          1,
          0,
          0,
          0,
          0,
          78,
          4,
          56,
          30,
          0,
          0,
          2,
          3,
          19,
          0,
          0,
          0,
          2,
          2,
          0,
          1,
          2,
          0,
          4,
          0,
          17,
          25,
          0,
          0,
          0,
          0,
          0,
          0,
          0,
          0,
          51,
          229,
          2,
          79,
          64,
          0,
          0,
          0,
          8,
          26,
          1,
          0,
          0,
          0,
          0,
          0,
          0,
          8,
          3,
          5,
          7,
          0,
          9,
          2,
          0,
          0,
          33,
          77,
          0,
          112,
          99,
          369,
          40,
          70,
          1,
          1,
          0,
          8,
          8,
          8,
          5,
          5,
          17,
          1,
          19,
          20,
          9,
          25,
          0,
          0,
          0,
          0,
          0,
          0,
          0,
          1,
          0,
          0,
          0,
          0,
          1,
          0,
          0,
          41,
          29,
          0,
          89,
          0,
          0,
          0,
          4,
          81,
          48,
          0,
          0,
          2,
          1,
          3,
          28,
          0,
          0,
          0,
          0,
          0,
          2,
          2,
          2,
          0,
          1,
          2,
          0,
          0,
          4,
          0,
          0,
          0,
          0,
          18,
          25,
          0,
          7,
          8,
          38,
          0,
          0,
          0,
          0,
          0,
          0,
          0,
          52,
          255,
          2,
          6,
          0,
          218,
          76,
          0,
          0,
          8,
          27,
          2,
          0,
          0,
          0,
          0,
          0,
          0,
          0,
          8,
          3,
          5,
          8,
          0,
          9,
          2,
          0,
          2,
          0,
          33,
          78,
          0,
          176,
          104,
          127,
          396,
          41,
          83,
          23,
          1,
          1,
          1,
          1,
          3,
          12,
          5,
          7,
          20,
          5,
          19,
          20,
          8,
          25,
          1,
          0,
          0,
          0,
          0,
          0,
          0,
          0,
          1,
          0,
          0,
          0,
          0,
          0,
          1,
          0,
          0,
          51,
          36,
          2,
          90,
          0,
          0,
          2,
          4,
          81,
          50,
          0,
          1,
          2,
          1,
          3,
          49,
          6,
          3,
          0,
          1,
          0,
          0,
          0,
          0,
          0,
          0,
          2,
          4,
          2,
          0,
          0,
          0,
          1,
          2,
          0,
          1,
          4,
          0,
          0,
          0,
          0,
          0,
          18,
          26,
          0,
          13,
          18,
          11,
          9,
          61,
          15,
          0,
          0,
          0,
          0,
          0,
          0,
          0,
          52,
          263,
          46,
          2,
          10,
          3,
          12,
          246,
          82,
          0,
          0,
          8,
          27,
          2,
          0,
          0,
          0,
          0,
          0,
          0,
          0,
          8,
          3,
          5,
          8,
          0,
          9,
          2,
          0,
          6,
          0,
          156,
          33,
          79,
          0,
          180,
          105,
          178,
          401,
          27,
          41,
          87,
          27,
          13,
          2,
          1,
          3,
          5,
          3,
          12,
          5,
          7,
          20,
          8,
          19,
          20,
          2,
          8,
          25,
          6,
          1,
          0,
          0,
          0,
          0,
          0,
          0,
          1,
          0,
          0,
          0,
          0,
          0,
          0,
          0,
          0,
          1,
          0,
          0,
          0,
          66,
          42,
          4,
          91,
          0,
          0,
          0,
          0,
          2,
          4,
          86,
          7,
          50,
          0,
          1,
          2,
          1,
          3,
          2,
          57,
          18,
          0,
          1,
          0,
          0,
          0,
          0,
          0,
          0,
          0,
          0,
          2,
          4,
          2,
          0,
          0,
          3,
          2,
          0,
          0,
          0,
          2,
          0,
          4,
          0,
          0,
          0,
          0,
          0,
          19,
          27,
          13,
          0,
          15,
          31,
          16,
          17,
          66,
          19,
          0,
          0,
          0,
          0,
          0,
          0,
          0,
          52,
          257,
          60,
          2,
          11,
          12,
          3,
          27,
          272,
          88,
          1,
          0,
          8,
          27,
          2,
          0,
          0,
          0,
          0,
          0,
          0,
          0,
          0,
          1,
          2,
          8,
          3,
          5,
          0,
          9,
          0,
          9,
          2,
          0,
          6,
          0,
          201,
          106,
          33,
          79,
          0,
          181,
          105,
          193,
          403,
          51,
          41,
          91,
          29,
          16,
          12,
          7,
          2,
          1,
          3,
          6,
          4,
          12,
          1,
          10,
          6,
          7,
          19,
          10,
          19,
          20,
          3,
          8,
          25,
          6,
          1,
          0,
          0,
          0,
          0,
          0,
          0,
          1,
          0,
          0,
          0,
          0,
          0,
          0,
          0,
          1,
          4,
          0,
          0,
          0,
          2,
          0,
          70,
          44,
          0,
          21,
          4,
          91,
          13,
          0,
          0,
          0,
          0,
          2,
          0,
          4,
          86,
          8,
          51,
          0,
          1,
          2,
          1,
          3,
          0,
          2,
          64,
          0,
          25,
          0,
          5,
          1,
          0,
          0,
          0,
          0,
          1,
          0,
          0,
          2,
          4,
          2,
          0,
          0,
          3,
          2,
          0,
          0,
          2,
          0,
          4,
          0,
          0,
          0,
          0,
          0,
          0,
          0,
          0,
          9,
          19,
          27,
          19,
          0,
          21,
          33,
          18,
          18,
          70,
          20,
          0,
          0,
          0,
          0,
          0,
          0,
          0,
          0,
          0,
          52,
          257,
          70,
          2,
          0,
          0,
          14,
          12,
          12,
          3,
          34,
          31,
          292,
          90,
          1,
          0,
          8,
          27,
          2,
          0,
          0,
          0,
          0,
          0,
          5,
          0,
          0,
          0,
          0,
          0,
          0,
          0,
          1,
          4,
          8,
          3,
          5,
          0,
          9,
          0,
          9,
          2,
          0,
          6,
          0,
          210,
          119,
          126,
          0,
          33,
          79,
          0,
          185,
          105,
          195,
          408,
          54,
          41,
          94,
          11,
          30,
          18,
          25,
          0,
          17,
          2,
          1,
          3,
          6,
          5,
          12,
          3,
          13,
          6,
          7,
          19,
          11,
          19,
          20,
          3,
          8,
          25,
          6,
          2,
          0,
          0,
          0,
          0,
          0,
          0,
          0,
          1,
          0,
          0,
          0,
          0,
          0,
          0,
          3,
          0,
          1,
          10,
          0,
          0,
          0,
          0,
          2,
          0,
          0,
          25,
          71,
          44,
          18,
          29,
          3,
          91,
          15,
          0,
          0,
          0,
          0,
          2,
          4,
          1,
          4,
          86,
          9,
          50,
          0,
          1,
          2,
          1,
          3,
          0,
          3,
          2,
          67,
          7,
          7,
          25,
          0,
          5,
          1,
          0,
          0,
          0,
          0,
          1,
          0,
          0,
          2,
          4,
          2,
          0,
          0,
          3,
          2,
          5,
          0,
          0,
          2,
          0,
          4,
          0,
          0,
          0,
          0,
          0,
          0,
          0,
          0,
          19,
          0,
          0,
          19,
          27,
          23,
          0,
          6,
          22,
          35,
          18,
          18,
          75,
          22,
          0,
          0,
          0,
          0,
          0,
          0,
          0,
          0,
          0,
          0,
          88,
          53,
          265,
          74,
          2,
          0,
          15,
          12,
          3,
          36,
          302,
          95,
          1,
          0,
          8,
          27,
          2,
          0,
          5,
          0,
          0,
          0,
          0,
          0,
          0,
          0,
          0,
          1,
          0,
          5,
          8,
          3,
          5,
          0,
          0,
          9,
          0,
          9,
          2,
          2,
          0,
          6,
          0,
          179,
          212,
          124,
          155,
          0,
          33,
          79,
          0,
          186,
          107,
          199,
          414,
          30,
          60,
          40,
          97,
          36,
          30,
          6,
          18,
          26,
          0,
          0,
          17,
          0,
          2,
          1,
          3,
          6,
          2,
          5,
          12,
          3,
          14,
          6,
          7,
          19,
          11,
          19,
          20,
          3,
          8,
          25,
          6,
          2,
          0,
          0,
          0,
          0,
          0,
          0,
          0,
          1,
          0,
          0,
          0,
          0,
          0,
          0,
          0,
          0,
          0,
          5,
          1,
          10,
          0,
          0,
          0,
          0,
          1,
          2,
          3,
          25,
          71,
          44,
          20,
          30,
          3,
          91,
          15,
          0,
          0,
          0,
          0,
          2,
          4,
          1,
          4,
          86,
          9,
          50,
          0,
          0,
          1,
          2,
          1,
          3,
          0,
          0,
          3,
          4,
          68,
          7,
          6,
          0,
          31,
          25,
          0,
          0,
          9,
          1,
          0,
          0,
          0,
          0,
          1,
          0,
          0,
          2,
          4,
          2,
          0,
          0,
          3,
          2,
          8,
          0,
          0,
          2,
          0,
          4,
          0,
          0,
          0,
          0,
          0,
          0,
          0,
          0,
          0,
          20,
          0,
          0,
          0,
          0,
          19,
          27,
          27,
          1,
          0,
          81,
          22,
          35,
          18,
          8,
          19,
          75,
          25,
          22,
          9,
          0,
          0,
          0,
          0,
          0,
          0,
          0,
          0,
          0,
          0,
          0,
          115,
          53,
          266,
          74,
          2,
          0,
          17,
          12,
          3,
          35,
          306,
          98,
          1,
          0,
          8,
          27,
          2,
          0,
          5,
          0,
          0,
          0,
          0,
          0,
          0,
          0,
          0,
          0,
          1,
          0,
          5,
          5,
          8,
          3,
          5,
          1,
          0,
          9,
          332,
          0,
          9,
          2,
          9,
          2,
          0,
          6,
          0,
          215,
          213,
          124,
          143,
          155,
          0,
          33,
          79,
          0,
          186,
          110,
          200,
          416,
          51,
          62,
          40,
          97,
          38,
          30,
          20,
          18,
          11,
          26,
          0,
          0,
          0,
          17,
          0,
          1,
          1,
          3,
          6,
          4,
          7,
          12,
          3,
          16,
          19,
          6,
          8,
          0,
          0,
          19,
          11,
          19,
          20,
          3,
          8,
          25,
          2,
          6,
          2,
          0,
          1,
          0,
          0,
          0,
          0,
          0,
          1,
          0,
          0,
          0,
          0,
          0,
          0,
          0,
          0,
          0,
          5,
          1,
          10,
          1,
          0,
          0,
          0,
          0,
          1,
          2,
          5,
          29,
          71,
          6,
          45,
          21,
          30,
          4,
          91,
          15,
          0,
          0,
          0,
          1,
          0,
          2,
          4,
          1,
          4,
          86,
          9,
          50,
          0,
          0,
          0,
          0,
          1,
          2,
          1,
          3,
          0,
          1,
          3,
          3,
          7,
          69,
          7,
          11,
          0,
          33,
          25,
          0,
          0,
          0,
          9,
          1,
          1,
          0,
          0,
          0,
          0,
          1,
          0,
          0,
          2,
          4,
          2,
          0,
          0,
          3,
          3,
          8,
          8,
          0,
          0,
          2,
          0,
          2,
          4,
          0,
          0,
          0,
          0,
          0,
          15,
          0,
          0,
          0,
          0,
          20,
          0,
          0,
          0,
          0,
          19,
          27,
          29,
          3,
          0,
          102,
          23,
          2,
          35,
          18,
          11,
          19,
          76,
          40,
          22,
          15,
          5,
          5,
          0,
          0,
          0,
          0,
          0,
          0,
          0,
          0,
          0,
          0,
          119,
          52,
          269,
          101,
          75,
          2,
          0,
          17,
          12,
          3,
          35,
          308,
          99,
          0,
          0,
          8,
          27,
          2,
          0,
          5,
          0,
          0,
          0,
          0,
          0,
          3,
          0,
          0,
          0,
          0,
          1,
          0,
          5,
          10,
          8,
          3,
          5,
          2,
          1,
          0,
          9,
          418,
          0,
          9,
          2,
          2,
          16,
          2,
          0,
          6,
          0,
          220,
          213,
          124,
          180,
          157,
          0,
          33,
          79,
          0,
          188,
          111,
          201,
          418,
          54,
          139,
          63,
          40,
          10,
          97,
          38,
          31,
          20,
          18,
          21,
          26,
          0,
          0,
          0,
          17,
          0,
          1,
          1,
          3,
          6,
          4,
          7,
          12,
          3,
          17,
          26,
          6,
          8,
          0,
          0
         ],
         "xaxis": "x2",
         "y": [
          181,
          1,
          7,
          8,
          441,
          13,
          25,
          17,
          32,
          289,
          461,
          398,
          4562,
          32,
          6,
          469,
          2,
          16,
          9,
          27,
          0,
          8,
          14,
          30,
          788,
          52,
          55,
          45,
          523,
          24,
          0,
          26,
          27,
          468,
          572,
          597,
          620,
          551,
          575,
          19,
          7399,
          7914,
          22,
          36,
          33,
          426,
          57,
          452,
          341,
          926,
          568,
          0,
          34,
          13,
          20,
          3,
          13,
          43,
          24,
          2,
          139,
          0,
          2726,
          11,
          251,
          3,
          80,
          180,
          68,
          14,
          48,
          58,
          4,
          94,
          951,
          106,
          2463,
          71,
          329,
          1082,
          3,
          36,
          162,
          39,
          4,
          7,
          0,
          9,
          5011,
          7819,
          1568,
          3827,
          9,
          8,
          27,
          77,
          909,
          323,
          121,
          3,
          8,
          86,
          82,
          658,
          638,
          633,
          40,
          20,
          43,
          218,
          20,
          8949,
          16452,
          0,
          20325,
          17961,
          18470,
          2360,
          26,
          39,
          100,
          894,
          402,
          299,
          462,
          370,
          935,
          571,
          4,
          49,
          12,
          1,
          22,
          3,
          13,
          44,
          27,
          9,
          7,
          151,
          10428,
          11,
          2631,
          904,
          251,
          3,
          105,
          248,
          2292,
          25,
          49,
          70,
          15,
          4,
          94,
          969,
          124,
          2484,
          71,
          20,
          1073,
          1101,
          10,
          52,
          162,
          40,
          12,
          0,
          2,
          0,
          5353,
          22101,
          2104,
          1658,
          13127,
          0,
          9,
          27,
          112,
          966,
          333,
          121,
          16,
          13,
          6,
          95,
          82,
          664,
          639,
          634,
          191,
          20,
          55,
          233,
          150,
          0,
          9112,
          16805,
          0,
          12838,
          22599,
          52156,
          19597,
          8247,
          27,
          39,
          24,
          136,
          136,
          136,
          952,
          463,
          406,
          76,
          468,
          380,
          939,
          574,
          6,
          60,
          17,
          1,
          20,
          3,
          14,
          45,
          0,
          27,
          9,
          38,
          29,
          10,
          169,
          1649,
          3337,
          1074,
          13590,
          0,
          43,
          16,
          11,
          4124,
          2515,
          253,
          3,
          149,
          8,
          305,
          4206,
          33,
          51,
          53,
          106,
          70,
          21,
          7,
          14,
          94,
          1006,
          177,
          2,
          2491,
          71,
          27,
          3,
          6,
          60,
          1166,
          1122,
          17,
          3300,
          2328,
          11491,
          57,
          159,
          40,
          16,
          0,
          5,
          0,
          5687,
          29522,
          2114,
          2280,
          1481,
          8943,
          17808,
          12,
          27,
          132,
          1242,
          338,
          121,
          20,
          2,
          14,
          27,
          95,
          82,
          685,
          642,
          640,
          260,
          20,
          91,
          246,
          324,
          30,
          0,
          9263,
          17245,
          0,
          44930,
          24837,
          24631,
          76038,
          20827,
          13250,
          2192,
          27,
          40,
          22,
          148,
          13,
          144,
          979,
          508,
          448,
          255,
          472,
          383,
          949,
          575,
          17,
          7,
          62,
          20,
          1,
          18,
          4,
          14,
          44,
          6,
          27,
          14,
          3,
          38,
          89,
          17,
          174,
          2392,
          4777,
          3738,
          14582,
          0,
          0,
          62,
          11,
          4447,
          2834,
          253,
          4,
          175,
          17,
          309,
          4776,
          64,
          24,
          33,
          54,
          110,
          34,
          73,
          111,
          6,
          71,
          24,
          9,
          30,
          93,
          174,
          1148,
          1043,
          270,
          7,
          2506,
          72,
          12,
          12,
          40,
          10,
          61,
          1229,
          1129,
          20,
          10547,
          3349,
          8512,
          3796,
          29665,
          6078,
          57,
          158,
          40,
          16,
          0,
          17,
          0,
          5921,
          32911,
          10963,
          2119,
          4303,
          3901,
          3826,
          11106,
          19789,
          13,
          27,
          135,
          1283,
          340,
          123,
          27,
          3,
          16,
          55,
          95,
          83,
          699,
          647,
          648,
          321,
          20,
          97,
          247,
          484,
          54,
          0,
          25216,
          9351,
          17489,
          0,
          53307,
          26784,
          42500,
          88838,
          4266,
          21618,
          15296,
          3983,
          1361,
          27,
          39,
          39,
          516,
          43,
          144,
          987,
          533,
          459,
          314,
          479,
          393,
          117,
          953,
          577,
          577,
          12,
          69,
          21,
          5,
          18,
          4,
          14,
          44,
          2,
          7,
          27,
          18,
          6,
          50,
          0,
          6,
          106,
          21,
          180,
          0,
          2789,
          5520,
          4465,
          15398,
          1607,
          1,
          5,
          1,
          66,
          11,
          4628,
          1381,
          2913,
          255,
          4,
          179,
          129,
          310,
          70,
          5156,
          354,
          34,
          57,
          110,
          56,
          76,
          119,
          21,
          12,
          7,
          71,
          28,
          11,
          31,
          93,
          2357,
          1125,
          317,
          0,
          7,
          1,
          2510,
          25,
          73,
          22,
          46,
          28,
          5,
          61,
          1286,
          1142,
          289,
          22,
          13653,
          8474,
          10415,
          7869,
          37977,
          11419,
          60,
          158,
          40,
          17,
          0,
          22,
          0,
          6088,
          35233,
          17480,
          2119,
          2954,
          4925,
          3922,
          8182,
          12717,
          20899,
          14,
          27,
          142,
          1299,
          340,
          123,
          1798,
          28,
          2,
          8,
          18,
          79,
          96,
          85,
          342,
          705,
          653,
          657,
          4,
          345,
          20,
          97,
          252,
          517,
          63,
          0,
          42611,
          25707,
          9404,
          17777,
          0,
          59038,
          28387,
          50017,
          97039,
          14438,
          22431,
          17131,
          4936,
          3889,
          1807,
          8,
          27,
          39,
          48,
          662,
          93,
          142,
          21,
          723,
          1005,
          569,
          476,
          340,
          484,
          397,
          453,
          959,
          581,
          771,
          19,
          76,
          24,
          5,
          20,
          4,
          14,
          44,
          6,
          9,
          27,
          18,
          6,
          56,
          9,
          109,
          17,
          23,
          180,
          21,
          2060,
          658,
          2877,
          5995,
          2701,
          3534,
          4652,
          16080,
          6059,
          9,
          5,
          1,
          6,
          70,
          49,
          11,
          4750,
          1840,
          2944,
          258,
          3,
          181,
          182,
          313,
          2,
          112,
          5576,
          291,
          578,
          34,
          138,
          57,
          114,
          91,
          76,
          111,
          31,
          19,
          70,
          26,
          14,
          33,
          93,
          2382,
          1185,
          335,
          0,
          1,
          2522,
          48,
          74,
          24,
          47,
          35,
          25,
          14,
          61,
          15,
          16,
          1304,
          1330,
          1145,
          537,
          23,
          15810,
          10054,
          11590,
          9495,
          42943,
          14333,
          63,
          4,
          158,
          41,
          16,
          0,
          22,
          0,
          1095,
          6235,
          36959,
          19922,
          2120,
          1428,
          1179,
          5467,
          4734,
          5170,
          3931,
          10487,
          9370,
          14684,
          22054,
          14,
          27,
          144,
          1309,
          365,
          60,
          75,
          99,
          121,
          0,
          6079,
          28,
          8,
          17,
          18,
          85,
          4,
          96,
          86,
          2036,
          715,
          655,
          668,
          25,
          359,
          20,
          99,
          255,
          544,
          69,
          0,
          47320,
          41868,
          27606,
          0,
          9451,
          18004,
          0,
          63099,
          29858,
          54002,
          104409,
          17338,
          22921,
          18449,
          967,
          5543,
          4458,
          3198,
          66,
          79,
          26,
          39,
          74,
          666,
          114,
          142,
          32,
          1054,
          1015,
          588,
          478,
          342,
          481,
          398,
          485,
          963,
          585,
          787,
          19,
          79,
          5,
          31,
          5,
          20,
          4,
          14,
          44,
          8,
          10,
          27,
          18,
          9,
          58,
          1718,
          16,
          109,
          65,
          24,
          184,
          22,
          9,
          2152,
          1575,
          4618,
          4060,
          2957,
          6391,
          7796,
          5781,
          4726,
          16659,
          6242,
          17,
          5,
          0,
          64,
          84,
          90,
          29,
          11,
          4850,
          1956,
          3036,
          260,
          3,
          186,
          187,
          315,
          32,
          246,
          10,
          5871,
          980,
          187,
          658,
          34,
          406,
          57,
          114,
          92,
          76,
          112,
          31,
          26,
          70,
          26,
          15,
          32,
          93,
          2400,
          1265,
          340,
          78,
          0,
          1,
          2541,
          50,
          76,
          24,
          47,
          36,
          9,
          4,
          29,
          61,
          18,
          3965,
          9,
          9,
          1341,
          1148,
          635,
          27,
          154,
          16890,
          11127,
          12310,
          10234,
          45616,
          15713,
          66,
          9,
          26,
          158,
          41,
          16,
          0,
          0,
          22,
          0,
          9142,
          6387,
          38935,
          21960,
          2121,
          1462,
          6038,
          5321,
          3930,
          11865,
          16126,
          22915,
          13,
          27,
          144,
          1324,
          380,
          121,
          6280,
          28,
          10,
          18,
          6,
          18,
          85,
          12,
          96,
          88,
          21,
          2409,
          721,
          656,
          671,
          0,
          28,
          368,
          20,
          103,
          42,
          256,
          547,
          70,
          0,
          24904,
          50535,
          46106,
          44415,
          0,
          9488,
          18197,
          0,
          66655,
          31140,
          57019,
          111842,
          4298,
          18699,
          23317,
          20061,
          4835,
          6146,
          1506,
          4995,
          3900,
          89,
          23,
          89,
          2,
          26,
          39,
          90,
          669,
          16,
          128,
          143,
          33,
          1230,
          1022,
          599,
          480,
          343,
          481,
          399,
          524,
          967,
          586,
          802,
          21,
          79,
          14,
          71,
          5,
          20,
          4,
          14,
          44,
          8,
          10,
          27,
          18,
          10,
          11,
          6,
          10,
          57,
          1842,
          109,
          88,
          24,
          191,
          23,
          9,
          24,
          2165,
          6359,
          4898,
          3061,
          6602,
          8510,
          6350,
          4760,
          16966,
          6292,
          18,
          10,
          0,
          67,
          84,
          93,
          81,
          11,
          4948,
          2043,
          3088,
          262,
          2,
          3,
          187,
          188,
          315,
          1,
          41,
          318,
          126,
          6060,
          1116,
          158,
          1170,
          1497,
          747,
          34,
          56,
          610,
          57,
          114,
          83,
          75,
          128,
          28,
          27,
          71,
          27,
          15,
          32,
          93,
          2406,
          1347,
          348,
          129,
          0,
          1,
          2549,
          63,
          77,
          24,
          47,
          36,
          10,
          13,
          35,
          61,
          19,
          16,
          4656,
          70,
          5,
          39,
          12,
          1348,
          1149,
          713,
          47,
          28,
          4909,
          17422,
          11730,
          12802,
          1846,
          10671,
          46793,
          3681,
          16338,
          1741,
          8,
          68,
          27,
          158,
          40,
          16,
          6,
          2,
          0,
          22,
          0,
          14617,
          6504,
          40378,
          23189,
          2122,
          1464,
          6471,
          5462,
          3925,
          12962,
          16736,
          23474,
          13,
          27,
          148,
          1334,
          394,
          121,
          6362,
          27,
          10,
          18,
          2,
          8,
          18,
          85,
          12,
          96,
          87,
          21,
          2409,
          79,
          727,
          656,
          679,
          20,
          52,
          382,
          26701,
          20,
          104,
          29,
          594,
          258,
          562,
          73,
          0,
          39393,
          52814,
          48936,
          25546,
          48453,
          0,
          9521,
          18430,
          0,
          69468,
          32382,
          59218,
          117375,
          16232,
          19507,
          23697,
          21201,
          5421,
          6643,
          4704,
          5358,
          990,
          4484,
          104,
          46,
          67,
          89,
          3,
          26,
          39,
          91,
          671,
          33,
          132,
          143,
          33,
          1387,
          1417,
          1029,
          611,
          30,
          4,
          481,
          342,
          481,
          400,
          537,
          968,
          586,
          86,
          805,
          21,
          79,
          22,
          76,
          5,
          20,
          4,
          14,
          44,
          9,
          11,
          27,
          18,
          10,
          48,
          16,
          61,
          57,
          1970,
          109,
          103,
          26,
          193,
          23,
          9,
          9,
          129,
          2167,
          6705,
          5233,
          3228,
          105,
          6714,
          8594,
          6609,
          4773,
          17145,
          6330,
          184,
          16,
          11,
          2,
          67,
          85,
          95,
          86,
          11,
          5000,
          2079,
          3112,
          6,
          262,
          15,
          6,
          3,
          187,
          186,
          316,
          6,
          46,
          18,
          339,
          161,
          6157,
          1145,
          601,
          1219,
          1641,
          782,
          34,
          62,
          4,
          801,
          57,
          117,
          95,
          76,
          129,
          0,
          29,
          28,
          71,
          27,
          20,
          32,
          93,
          2413,
          1361,
          421,
          159,
          150,
          0,
          1,
          2558,
          66,
          8,
          78,
          23,
          47,
          36,
          13,
          43,
          466,
          61,
          36,
          25,
          20,
          4999,
          70,
          87,
          45,
          31,
          1349,
          1149,
          737,
          302,
          28,
          7297,
          17956,
          979,
          12127,
          13236,
          4314,
          11042,
          47658,
          6402,
          16828,
          4795,
          1656,
          1051,
          15,
          71,
          31,
          158,
          40,
          16,
          8,
          0,
          22,
          0,
          16102,
          6567,
          41307,
          7118,
          23991,
          2122,
          1466,
          6713,
          5539,
          3926,
          13516,
          16921,
          23876,
          13,
          27,
          148,
          1344,
          396,
          121,
          6408,
          1,
          27,
          10,
          18,
          4,
          15,
          18,
          85,
          16,
          96,
          87,
          27,
          2411,
          240,
          738,
          656,
          681,
          2,
          34,
          56,
          389,
          40661,
          20,
          104,
          16,
          166,
          871,
          259,
          569,
          76,
          0,
          42650,
          54375,
          50789,
          39265,
          50480,
          0,
          9540,
          18599,
          0,
          71357,
          33628,
          60786,
          120812,
          18620,
          15805,
          19942,
          24021,
          1530,
          22102,
          5745,
          6973,
          5238,
          5593,
          2948,
          4808,
          8,
          130,
          68,
          93,
          3,
          26,
          39,
          95,
          675,
          46,
          131,
          144,
          32,
          1623,
          5488,
          1044,
          622,
          2,
          33
         ],
         "yaxis": "y2"
        },
        {
         "hovertemplate": "total_caractere_video=%{x}<br>total_visualizacoes=%{y}<extra></extra>",
         "legendgroup": "",
         "marker": {
          "color": "#636efa",
          "symbol": "circle"
         },
         "mode": "markers",
         "name": "",
         "showlegend": false,
         "type": "scattergl",
         "x": [
          81,
          64,
          75,
          72,
          78,
          34,
          34,
          66,
          66,
          42,
          42,
          39,
          92,
          34,
          75,
          81,
          64,
          64,
          75,
          78,
          27,
          19,
          69,
          72,
          78,
          34,
          66,
          66,
          72,
          35,
          35,
          48,
          78,
          42,
          42,
          42,
          42,
          39,
          39,
          68,
          92,
          90,
          45,
          44,
          34,
          71,
          70,
          89,
          77,
          75,
          81,
          96,
          61,
          96,
          64,
          64,
          64,
          64,
          64,
          64,
          100,
          71,
          76,
          75,
          78,
          27,
          38,
          73,
          70,
          34,
          19,
          69,
          91,
          72,
          78,
          67,
          85,
          34,
          74,
          72,
          75,
          69,
          35,
          35,
          35,
          35,
          35,
          43,
          88,
          59,
          38,
          74,
          16,
          16,
          43,
          26,
          33,
          97,
          48,
          70,
          74,
          69,
          78,
          42,
          42,
          39,
          58,
          39,
          32,
          68,
          76,
          92,
          90,
          88,
          88,
          75,
          64,
          85,
          45,
          44,
          76,
          71,
          71,
          70,
          89,
          77,
          75,
          81,
          96,
          61,
          96,
          64,
          64,
          64,
          64,
          64,
          64,
          64,
          58,
          100,
          76,
          75,
          44,
          49,
          78,
          27,
          38,
          73,
          70,
          34,
          19,
          69,
          91,
          94,
          72,
          78,
          67,
          85,
          34,
          28,
          74,
          72,
          75,
          69,
          35,
          35,
          35,
          35,
          35,
          28,
          88,
          59,
          38,
          62,
          74,
          44,
          16,
          43,
          26,
          33,
          97,
          48,
          70,
          74,
          93,
          69,
          78,
          42,
          42,
          39,
          58,
          39,
          32,
          68,
          76,
          81,
          92,
          90,
          88,
          70,
          88,
          75,
          64,
          85,
          45,
          44,
          60,
          93,
          76,
          93,
          71,
          71,
          70,
          88,
          89,
          77,
          75,
          81,
          96,
          61,
          96,
          64,
          64,
          64,
          64,
          64,
          64,
          64,
          64,
          40,
          58,
          65,
          100,
          89,
          69,
          73,
          76,
          100,
          31,
          31,
          75,
          44,
          49,
          78,
          27,
          38,
          61,
          73,
          70,
          34,
          19,
          79,
          79,
          69,
          91,
          92,
          94,
          72,
          78,
          67,
          36,
          85,
          34,
          28,
          28,
          28,
          66,
          74,
          72,
          75,
          52,
          100,
          80,
          69,
          35,
          35,
          35,
          35,
          35,
          28,
          88,
          59,
          38,
          46,
          38,
          62,
          74,
          16,
          43,
          26,
          33,
          97,
          48,
          70,
          80,
          74,
          93,
          69,
          78,
          42,
          42,
          39,
          60,
          39,
          32,
          68,
          76,
          50,
          81,
          92,
          90,
          88,
          70,
          88,
          63,
          75,
          64,
          85,
          80,
          45,
          44,
          83,
          60,
          56,
          93,
          71,
          71,
          70,
          88,
          89,
          77,
          75,
          81,
          49,
          96,
          61,
          96,
          64,
          64,
          64,
          64,
          64,
          64,
          64,
          64,
          64,
          40,
          58,
          65,
          100,
          89,
          69,
          73,
          76,
          100,
          100,
          31,
          75,
          44,
          49,
          78,
          27,
          38,
          61,
          73,
          70,
          63,
          62,
          34,
          19,
          79,
          72,
          72,
          72,
          88,
          69,
          91,
          92,
          94,
          72,
          95,
          75,
          78,
          67,
          36,
          85,
          34,
          28,
          28,
          28,
          28,
          66,
          74,
          72,
          75,
          52,
          75,
          100,
          58,
          80,
          79,
          69,
          35,
          35,
          35,
          35,
          35,
          28,
          88,
          59,
          64,
          38,
          46,
          38,
          62,
          62,
          74,
          16,
          43,
          26,
          33,
          97,
          48,
          70,
          80,
          74,
          93,
          69,
          78,
          42,
          42,
          39,
          60,
          39,
          32,
          68,
          76,
          50,
          81,
          70,
          92,
          90,
          88,
          70,
          88,
          63,
          75,
          78,
          64,
          85,
          80,
          80,
          45,
          44,
          83,
          60,
          56,
          93,
          71,
          71,
          70,
          88,
          89,
          77,
          57,
          75,
          81,
          49,
          96,
          61,
          96,
          64,
          64,
          64,
          64,
          64,
          64,
          64,
          64,
          64,
          64,
          40,
          51,
          57,
          58,
          65,
          100,
          80,
          89,
          69,
          73,
          76,
          86,
          100,
          100,
          100,
          31,
          75,
          84,
          88,
          49,
          78,
          27,
          38,
          61,
          73,
          37,
          70,
          63,
          34,
          19,
          79,
          72,
          72,
          72,
          90,
          90,
          88,
          69,
          91,
          92,
          94,
          72,
          75,
          78,
          67,
          24,
          36,
          24,
          85,
          53,
          34,
          28,
          28,
          28,
          24,
          66,
          74,
          72,
          78,
          75,
          52,
          75,
          100,
          58,
          80,
          79,
          69,
          35,
          35,
          35,
          35,
          35,
          28,
          88,
          59,
          64,
          38,
          66,
          46,
          38,
          62,
          62,
          74,
          16,
          43,
          26,
          33,
          97,
          48,
          53,
          70,
          89,
          80,
          74,
          93,
          69,
          78,
          42,
          42,
          42,
          39,
          63,
          60,
          39,
          32,
          68,
          76,
          50,
          81,
          70,
          81,
          92,
          90,
          88,
          70,
          88,
          63,
          75,
          78,
          64,
          85,
          80,
          80,
          78,
          64,
          45,
          44,
          83,
          60,
          56,
          93,
          20,
          84,
          71,
          71,
          70,
          88,
          89,
          77,
          57,
          75,
          81,
          49,
          96,
          61,
          96,
          64,
          64,
          64,
          64,
          64,
          64,
          64,
          64,
          64,
          64,
          40,
          57,
          58,
          62,
          65,
          100,
          45,
          46,
          80,
          89,
          69,
          84,
          81,
          73,
          76,
          86,
          100,
          100,
          100,
          64,
          31,
          18,
          75,
          84,
          88,
          49,
          78,
          27,
          38,
          61,
          73,
          42,
          37,
          70,
          24,
          63,
          34,
          57,
          19,
          79,
          72,
          72,
          72,
          90,
          88,
          69,
          91,
          92,
          94,
          72,
          75,
          78,
          67,
          24,
          24,
          85,
          53,
          34,
          28,
          28,
          28,
          24,
          24,
          66,
          57,
          57,
          56,
          74,
          72,
          78,
          75,
          52,
          75,
          100,
          58,
          80,
          79,
          69,
          18,
          35,
          35,
          35,
          35,
          35,
          28,
          97,
          88,
          59,
          64,
          38,
          38,
          38,
          75,
          66,
          46,
          38,
          71,
          62,
          62,
          74,
          16,
          43,
          26,
          33,
          97,
          45,
          45,
          45,
          48,
          48,
          53,
          70,
          89,
          80,
          74,
          93,
          83,
          69,
          78,
          42,
          42,
          42,
          39,
          63,
          60,
          39,
          32,
          68,
          76,
          50,
          81,
          70,
          81,
          68,
          87,
          92,
          90,
          88,
          70,
          88,
          63,
          75,
          78,
          64,
          85,
          61,
          80,
          80,
          78,
          24,
          64,
          45,
          44,
          83,
          60,
          73,
          93,
          20,
          84,
          71,
          71,
          70,
          88,
          89,
          77,
          57,
          75,
          81,
          49,
          96,
          61,
          60,
          96,
          64,
          64,
          64,
          64,
          64,
          64,
          64,
          64,
          64,
          64,
          40,
          57,
          57,
          58,
          62,
          65,
          100,
          45,
          57,
          46,
          79,
          79,
          80,
          89,
          69,
          84,
          81,
          73,
          76,
          86,
          100,
          100,
          100,
          64,
          31,
          18,
          29,
          75,
          84,
          88,
          49,
          78,
          27,
          38,
          61,
          73,
          42,
          37,
          37,
          70,
          24,
          89,
          63,
          34,
          57,
          19,
          79,
          72,
          72,
          72,
          90,
          88,
          69,
          91,
          92,
          94,
          72,
          75,
          78,
          67,
          52,
          24,
          24,
          85,
          53,
          34,
          28,
          28,
          28,
          38,
          38,
          24,
          66,
          57,
          56,
          62,
          61,
          74,
          72,
          78,
          75,
          64,
          52,
          75,
          100,
          58,
          80,
          79,
          69,
          18,
          18,
          35,
          35,
          35,
          36,
          35,
          35,
          28,
          93,
          88,
          59,
          64,
          38,
          38,
          75,
          46,
          38,
          71,
          62,
          74,
          16,
          43,
          26,
          33,
          97,
          48,
          53,
          70,
          89,
          80,
          74,
          74,
          93,
          83,
          69,
          78,
          58,
          42,
          42,
          42,
          39,
          63,
          63,
          60,
          39,
          32,
          87,
          68,
          76,
          50,
          81,
          67,
          70,
          81,
          68,
          87,
          92,
          90,
          88,
          70,
          88,
          63,
          75,
          86,
          78,
          64,
          85,
          61,
          80,
          76,
          80,
          78,
          24,
          43,
          64,
          53,
          45,
          44,
          83,
          60,
          86,
          73,
          93,
          20,
          84,
          71,
          71,
          70,
          88,
          89,
          77,
          57,
          75,
          81,
          49,
          96,
          61,
          60,
          96,
          64,
          64,
          64,
          64,
          64,
          64,
          64,
          64,
          64,
          64,
          98,
          67,
          67,
          40,
          57,
          58,
          42,
          65,
          100,
          45,
          57,
          53,
          46,
          79,
          80,
          89,
          69,
          84,
          81,
          73,
          76,
          86,
          100,
          100,
          100,
          64,
          31,
          18,
          29,
          75,
          84,
          88,
          49,
          78,
          59,
          27,
          38,
          61,
          73,
          22,
          42,
          37,
          37,
          70,
          24,
          75,
          77,
          89,
          63,
          34,
          84,
          57,
          19,
          79,
          72,
          72,
          72,
          90,
          88,
          69,
          91,
          92,
          94,
          72,
          75,
          78,
          67,
          52,
          24,
          24,
          85,
          53,
          34,
          28,
          28,
          28,
          38,
          38,
          24,
          66,
          76,
          57,
          56,
          62,
          57,
          61,
          63,
          74,
          72,
          78,
          77,
          75,
          64,
          52,
          75,
          100,
          57,
          58,
          80,
          67,
          79,
          70,
          94,
          69,
          18,
          35,
          35,
          35,
          36,
          36,
          35,
          35,
          28,
          93,
          88,
          59,
          64,
          38,
          38,
          75,
          46,
          38,
          71,
          62,
          74,
          16,
          43,
          26,
          33,
          97,
          48,
          53,
          70,
          89,
          80,
          91,
          74,
          74,
          93,
          83,
          69,
          78,
          58,
          42,
          55,
          42,
          42,
          39,
          63,
          63,
          60,
          53,
          39,
          32,
          89,
          87,
          68,
          76,
          50,
          81,
          67,
          70,
          81,
          64,
          68,
          87,
          92,
          90,
          88,
          70,
          88,
          63,
          75,
          86,
          78,
          64,
          85,
          61,
          80,
          76,
          80,
          59,
          78,
          24,
          43,
          43,
          64,
          53,
          45,
          44,
          83,
          60,
          86,
          73,
          93,
          20,
          84,
          66,
          71,
          71,
          48,
          92,
          70,
          88,
          89,
          77,
          57,
          75,
          81,
          62,
          49,
          96,
          61,
          60,
          96,
          64,
          64,
          64,
          64,
          64,
          64,
          64,
          64,
          64,
          64,
          98,
          67,
          87,
          40,
          57,
          58,
          42,
          65,
          100,
          45,
          57,
          57,
          53,
          46,
          79,
          80,
          89,
          69,
          69,
          84,
          81,
          73,
          76,
          86,
          77,
          100,
          100,
          100,
          64,
          31,
          18,
          29,
          75,
          84,
          88,
          49,
          75,
          78,
          52,
          59,
          27,
          38,
          61,
          73,
          22,
          42,
          59,
          37,
          37,
          70,
          24,
          75,
          77,
          89,
          63,
          34,
          84,
          94,
          57,
          19,
          79,
          72,
          72,
          72,
          67,
          90,
          88,
          69,
          91,
          92,
          94,
          72,
          75,
          78,
          67,
          47,
          52,
          24,
          24,
          85,
          53,
          61,
          34,
          28,
          28,
          28,
          38,
          24,
          62,
          66,
          76,
          76,
          57,
          56,
          62,
          57,
          61,
          63,
          74,
          72,
          78,
          77,
          75,
          64,
          52,
          50,
          75,
          100,
          57,
          58,
          80,
          67,
          79,
          70,
          73,
          75,
          94,
          69,
          18,
          35,
          35,
          35,
          36,
          35,
          35,
          28,
          93,
          88,
          59,
          85,
          64,
          38,
          38,
          75,
          46,
          38,
          71,
          62,
          74,
          16,
          43,
          26,
          33,
          97,
          48,
          53,
          81,
          70,
          89,
          80,
          91,
          74,
          74,
          93,
          83,
          69,
          78,
          58,
          42,
          55,
          42,
          42,
          39,
          63,
          63,
          63,
          60,
          53,
          39,
          32,
          46,
          88,
          87,
          68,
          76,
          50,
          81,
          67,
          70,
          81,
          64,
          68,
          87,
          92,
          90,
          88,
          70,
          88,
          63,
          75,
          86,
          60,
          78,
          64,
          80,
          85,
          61,
          80,
          76,
          80,
          59,
          78,
          47,
          24,
          43,
          64,
          53,
          45,
          44,
          83,
          60,
          86,
          73,
          93,
          20,
          84,
          66,
          71,
          71,
          49,
          48
         ],
         "xaxis": "x3",
         "y": [
          181,
          1,
          7,
          8,
          441,
          13,
          25,
          17,
          32,
          289,
          461,
          398,
          4562,
          32,
          6,
          469,
          2,
          16,
          9,
          27,
          0,
          8,
          14,
          30,
          788,
          52,
          55,
          45,
          523,
          24,
          0,
          26,
          27,
          468,
          572,
          597,
          620,
          551,
          575,
          19,
          7399,
          7914,
          22,
          36,
          33,
          426,
          57,
          452,
          341,
          926,
          568,
          0,
          34,
          13,
          20,
          3,
          13,
          43,
          24,
          2,
          139,
          0,
          2726,
          11,
          251,
          3,
          80,
          180,
          68,
          14,
          48,
          58,
          4,
          94,
          951,
          106,
          2463,
          71,
          329,
          1082,
          3,
          36,
          162,
          39,
          4,
          7,
          0,
          9,
          5011,
          7819,
          1568,
          3827,
          9,
          8,
          27,
          77,
          909,
          323,
          121,
          3,
          8,
          86,
          82,
          658,
          638,
          633,
          40,
          20,
          43,
          218,
          20,
          8949,
          16452,
          0,
          20325,
          17961,
          18470,
          2360,
          26,
          39,
          100,
          894,
          402,
          299,
          462,
          370,
          935,
          571,
          4,
          49,
          12,
          1,
          22,
          3,
          13,
          44,
          27,
          9,
          7,
          151,
          10428,
          11,
          2631,
          904,
          251,
          3,
          105,
          248,
          2292,
          25,
          49,
          70,
          15,
          4,
          94,
          969,
          124,
          2484,
          71,
          20,
          1073,
          1101,
          10,
          52,
          162,
          40,
          12,
          0,
          2,
          0,
          5353,
          22101,
          2104,
          1658,
          13127,
          0,
          9,
          27,
          112,
          966,
          333,
          121,
          16,
          13,
          6,
          95,
          82,
          664,
          639,
          634,
          191,
          20,
          55,
          233,
          150,
          0,
          9112,
          16805,
          0,
          12838,
          22599,
          52156,
          19597,
          8247,
          27,
          39,
          24,
          136,
          136,
          136,
          952,
          463,
          406,
          76,
          468,
          380,
          939,
          574,
          6,
          60,
          17,
          1,
          20,
          3,
          14,
          45,
          0,
          27,
          9,
          38,
          29,
          10,
          169,
          1649,
          3337,
          1074,
          13590,
          0,
          43,
          16,
          11,
          4124,
          2515,
          253,
          3,
          149,
          8,
          305,
          4206,
          33,
          51,
          53,
          106,
          70,
          21,
          7,
          14,
          94,
          1006,
          177,
          2,
          2491,
          71,
          27,
          3,
          6,
          60,
          1166,
          1122,
          17,
          3300,
          2328,
          11491,
          57,
          159,
          40,
          16,
          0,
          5,
          0,
          5687,
          29522,
          2114,
          2280,
          1481,
          8943,
          17808,
          12,
          27,
          132,
          1242,
          338,
          121,
          20,
          2,
          14,
          27,
          95,
          82,
          685,
          642,
          640,
          260,
          20,
          91,
          246,
          324,
          30,
          0,
          9263,
          17245,
          0,
          44930,
          24837,
          24631,
          76038,
          20827,
          13250,
          2192,
          27,
          40,
          22,
          148,
          13,
          144,
          979,
          508,
          448,
          255,
          472,
          383,
          949,
          575,
          17,
          7,
          62,
          20,
          1,
          18,
          4,
          14,
          44,
          6,
          27,
          14,
          3,
          38,
          89,
          17,
          174,
          2392,
          4777,
          3738,
          14582,
          0,
          0,
          62,
          11,
          4447,
          2834,
          253,
          4,
          175,
          17,
          309,
          4776,
          64,
          24,
          33,
          54,
          110,
          34,
          73,
          111,
          6,
          71,
          24,
          9,
          30,
          93,
          174,
          1148,
          1043,
          270,
          7,
          2506,
          72,
          12,
          12,
          40,
          10,
          61,
          1229,
          1129,
          20,
          10547,
          3349,
          8512,
          3796,
          29665,
          6078,
          57,
          158,
          40,
          16,
          0,
          17,
          0,
          5921,
          32911,
          10963,
          2119,
          4303,
          3901,
          3826,
          11106,
          19789,
          13,
          27,
          135,
          1283,
          340,
          123,
          27,
          3,
          16,
          55,
          95,
          83,
          699,
          647,
          648,
          321,
          20,
          97,
          247,
          484,
          54,
          0,
          25216,
          9351,
          17489,
          0,
          53307,
          26784,
          42500,
          88838,
          4266,
          21618,
          15296,
          3983,
          1361,
          27,
          39,
          39,
          516,
          43,
          144,
          987,
          533,
          459,
          314,
          479,
          393,
          117,
          953,
          577,
          577,
          12,
          69,
          21,
          5,
          18,
          4,
          14,
          44,
          2,
          7,
          27,
          18,
          6,
          50,
          0,
          6,
          106,
          21,
          180,
          0,
          2789,
          5520,
          4465,
          15398,
          1607,
          1,
          5,
          1,
          66,
          11,
          4628,
          1381,
          2913,
          255,
          4,
          179,
          129,
          310,
          70,
          5156,
          354,
          34,
          57,
          110,
          56,
          76,
          119,
          21,
          12,
          7,
          71,
          28,
          11,
          31,
          93,
          2357,
          1125,
          317,
          0,
          7,
          1,
          2510,
          25,
          73,
          22,
          46,
          28,
          5,
          61,
          1286,
          1142,
          289,
          22,
          13653,
          8474,
          10415,
          7869,
          37977,
          11419,
          60,
          158,
          40,
          17,
          0,
          22,
          0,
          6088,
          35233,
          17480,
          2119,
          2954,
          4925,
          3922,
          8182,
          12717,
          20899,
          14,
          27,
          142,
          1299,
          340,
          123,
          1798,
          28,
          2,
          8,
          18,
          79,
          96,
          85,
          342,
          705,
          653,
          657,
          4,
          345,
          20,
          97,
          252,
          517,
          63,
          0,
          42611,
          25707,
          9404,
          17777,
          0,
          59038,
          28387,
          50017,
          97039,
          14438,
          22431,
          17131,
          4936,
          3889,
          1807,
          8,
          27,
          39,
          48,
          662,
          93,
          142,
          21,
          723,
          1005,
          569,
          476,
          340,
          484,
          397,
          453,
          959,
          581,
          771,
          19,
          76,
          24,
          5,
          20,
          4,
          14,
          44,
          6,
          9,
          27,
          18,
          6,
          56,
          9,
          109,
          17,
          23,
          180,
          21,
          2060,
          658,
          2877,
          5995,
          2701,
          3534,
          4652,
          16080,
          6059,
          9,
          5,
          1,
          6,
          70,
          49,
          11,
          4750,
          1840,
          2944,
          258,
          3,
          181,
          182,
          313,
          2,
          112,
          5576,
          291,
          578,
          34,
          138,
          57,
          114,
          91,
          76,
          111,
          31,
          19,
          70,
          26,
          14,
          33,
          93,
          2382,
          1185,
          335,
          0,
          1,
          2522,
          48,
          74,
          24,
          47,
          35,
          25,
          14,
          61,
          15,
          16,
          1304,
          1330,
          1145,
          537,
          23,
          15810,
          10054,
          11590,
          9495,
          42943,
          14333,
          63,
          4,
          158,
          41,
          16,
          0,
          22,
          0,
          1095,
          6235,
          36959,
          19922,
          2120,
          1428,
          1179,
          5467,
          4734,
          5170,
          3931,
          10487,
          9370,
          14684,
          22054,
          14,
          27,
          144,
          1309,
          365,
          60,
          75,
          99,
          121,
          0,
          6079,
          28,
          8,
          17,
          18,
          85,
          4,
          96,
          86,
          2036,
          715,
          655,
          668,
          25,
          359,
          20,
          99,
          255,
          544,
          69,
          0,
          47320,
          41868,
          27606,
          0,
          9451,
          18004,
          0,
          63099,
          29858,
          54002,
          104409,
          17338,
          22921,
          18449,
          967,
          5543,
          4458,
          3198,
          66,
          79,
          26,
          39,
          74,
          666,
          114,
          142,
          32,
          1054,
          1015,
          588,
          478,
          342,
          481,
          398,
          485,
          963,
          585,
          787,
          19,
          79,
          5,
          31,
          5,
          20,
          4,
          14,
          44,
          8,
          10,
          27,
          18,
          9,
          58,
          1718,
          16,
          109,
          65,
          24,
          184,
          22,
          9,
          2152,
          1575,
          4618,
          4060,
          2957,
          6391,
          7796,
          5781,
          4726,
          16659,
          6242,
          17,
          5,
          0,
          64,
          84,
          90,
          29,
          11,
          4850,
          1956,
          3036,
          260,
          3,
          186,
          187,
          315,
          32,
          246,
          10,
          5871,
          980,
          187,
          658,
          34,
          406,
          57,
          114,
          92,
          76,
          112,
          31,
          26,
          70,
          26,
          15,
          32,
          93,
          2400,
          1265,
          340,
          78,
          0,
          1,
          2541,
          50,
          76,
          24,
          47,
          36,
          9,
          4,
          29,
          61,
          18,
          3965,
          9,
          9,
          1341,
          1148,
          635,
          27,
          154,
          16890,
          11127,
          12310,
          10234,
          45616,
          15713,
          66,
          9,
          26,
          158,
          41,
          16,
          0,
          0,
          22,
          0,
          9142,
          6387,
          38935,
          21960,
          2121,
          1462,
          6038,
          5321,
          3930,
          11865,
          16126,
          22915,
          13,
          27,
          144,
          1324,
          380,
          121,
          6280,
          28,
          10,
          18,
          6,
          18,
          85,
          12,
          96,
          88,
          21,
          2409,
          721,
          656,
          671,
          0,
          28,
          368,
          20,
          103,
          42,
          256,
          547,
          70,
          0,
          24904,
          50535,
          46106,
          44415,
          0,
          9488,
          18197,
          0,
          66655,
          31140,
          57019,
          111842,
          4298,
          18699,
          23317,
          20061,
          4835,
          6146,
          1506,
          4995,
          3900,
          89,
          23,
          89,
          2,
          26,
          39,
          90,
          669,
          16,
          128,
          143,
          33,
          1230,
          1022,
          599,
          480,
          343,
          481,
          399,
          524,
          967,
          586,
          802,
          21,
          79,
          14,
          71,
          5,
          20,
          4,
          14,
          44,
          8,
          10,
          27,
          18,
          10,
          11,
          6,
          10,
          57,
          1842,
          109,
          88,
          24,
          191,
          23,
          9,
          24,
          2165,
          6359,
          4898,
          3061,
          6602,
          8510,
          6350,
          4760,
          16966,
          6292,
          18,
          10,
          0,
          67,
          84,
          93,
          81,
          11,
          4948,
          2043,
          3088,
          262,
          2,
          3,
          187,
          188,
          315,
          1,
          41,
          318,
          126,
          6060,
          1116,
          158,
          1170,
          1497,
          747,
          34,
          56,
          610,
          57,
          114,
          83,
          75,
          128,
          28,
          27,
          71,
          27,
          15,
          32,
          93,
          2406,
          1347,
          348,
          129,
          0,
          1,
          2549,
          63,
          77,
          24,
          47,
          36,
          10,
          13,
          35,
          61,
          19,
          16,
          4656,
          70,
          5,
          39,
          12,
          1348,
          1149,
          713,
          47,
          28,
          4909,
          17422,
          11730,
          12802,
          1846,
          10671,
          46793,
          3681,
          16338,
          1741,
          8,
          68,
          27,
          158,
          40,
          16,
          6,
          2,
          0,
          22,
          0,
          14617,
          6504,
          40378,
          23189,
          2122,
          1464,
          6471,
          5462,
          3925,
          12962,
          16736,
          23474,
          13,
          27,
          148,
          1334,
          394,
          121,
          6362,
          27,
          10,
          18,
          2,
          8,
          18,
          85,
          12,
          96,
          87,
          21,
          2409,
          79,
          727,
          656,
          679,
          20,
          52,
          382,
          26701,
          20,
          104,
          29,
          594,
          258,
          562,
          73,
          0,
          39393,
          52814,
          48936,
          25546,
          48453,
          0,
          9521,
          18430,
          0,
          69468,
          32382,
          59218,
          117375,
          16232,
          19507,
          23697,
          21201,
          5421,
          6643,
          4704,
          5358,
          990,
          4484,
          104,
          46,
          67,
          89,
          3,
          26,
          39,
          91,
          671,
          33,
          132,
          143,
          33,
          1387,
          1417,
          1029,
          611,
          30,
          4,
          481,
          342,
          481,
          400,
          537,
          968,
          586,
          86,
          805,
          21,
          79,
          22,
          76,
          5,
          20,
          4,
          14,
          44,
          9,
          11,
          27,
          18,
          10,
          48,
          16,
          61,
          57,
          1970,
          109,
          103,
          26,
          193,
          23,
          9,
          9,
          129,
          2167,
          6705,
          5233,
          3228,
          105,
          6714,
          8594,
          6609,
          4773,
          17145,
          6330,
          184,
          16,
          11,
          2,
          67,
          85,
          95,
          86,
          11,
          5000,
          2079,
          3112,
          6,
          262,
          15,
          6,
          3,
          187,
          186,
          316,
          6,
          46,
          18,
          339,
          161,
          6157,
          1145,
          601,
          1219,
          1641,
          782,
          34,
          62,
          4,
          801,
          57,
          117,
          95,
          76,
          129,
          0,
          29,
          28,
          71,
          27,
          20,
          32,
          93,
          2413,
          1361,
          421,
          159,
          150,
          0,
          1,
          2558,
          66,
          8,
          78,
          23,
          47,
          36,
          13,
          43,
          466,
          61,
          36,
          25,
          20,
          4999,
          70,
          87,
          45,
          31,
          1349,
          1149,
          737,
          302,
          28,
          7297,
          17956,
          979,
          12127,
          13236,
          4314,
          11042,
          47658,
          6402,
          16828,
          4795,
          1656,
          1051,
          15,
          71,
          31,
          158,
          40,
          16,
          8,
          0,
          22,
          0,
          16102,
          6567,
          41307,
          7118,
          23991,
          2122,
          1466,
          6713,
          5539,
          3926,
          13516,
          16921,
          23876,
          13,
          27,
          148,
          1344,
          396,
          121,
          6408,
          1,
          27,
          10,
          18,
          4,
          15,
          18,
          85,
          16,
          96,
          87,
          27,
          2411,
          240,
          738,
          656,
          681,
          2,
          34,
          56,
          389,
          40661,
          20,
          104,
          16,
          166,
          871,
          259,
          569,
          76,
          0,
          42650,
          54375,
          50789,
          39265,
          50480,
          0,
          9540,
          18599,
          0,
          71357,
          33628,
          60786,
          120812,
          18620,
          15805,
          19942,
          24021,
          1530,
          22102,
          5745,
          6973,
          5238,
          5593,
          2948,
          4808,
          8,
          130,
          68,
          93,
          3,
          26,
          39,
          95,
          675,
          46,
          131,
          144,
          32,
          1623,
          5488,
          1044,
          622,
          2,
          33
         ],
         "yaxis": "y3"
        }
       ],
       "layout": {
        "annotations": [
         {
          "font": {
           "size": 16
          },
          "showarrow": false,
          "text": "Likes X Visualizações",
          "x": 0.14444444444444446,
          "xanchor": "center",
          "xref": "paper",
          "y": 1,
          "yanchor": "bottom",
          "yref": "paper"
         },
         {
          "font": {
           "size": 16
          },
          "showarrow": false,
          "text": "Cometários X Visualizações",
          "x": 0.5,
          "xanchor": "center",
          "xref": "paper",
          "y": 1,
          "yanchor": "bottom",
          "yref": "paper"
         },
         {
          "font": {
           "size": 16
          },
          "showarrow": false,
          "text": "TOTAL_CARACTERE_VIDEO X VISUALIZAÇÔES",
          "x": 0.8555555555555556,
          "xanchor": "center",
          "xref": "paper",
          "y": 1,
          "yanchor": "bottom",
          "yref": "paper"
         }
        ],
        "showlegend": true,
        "template": {
         "data": {
          "bar": [
           {
            "error_x": {
             "color": "#2a3f5f"
            },
            "error_y": {
             "color": "#2a3f5f"
            },
            "marker": {
             "line": {
              "color": "#E5ECF6",
              "width": 0.5
             },
             "pattern": {
              "fillmode": "overlay",
              "size": 10,
              "solidity": 0.2
             }
            },
            "type": "bar"
           }
          ],
          "barpolar": [
           {
            "marker": {
             "line": {
              "color": "#E5ECF6",
              "width": 0.5
             },
             "pattern": {
              "fillmode": "overlay",
              "size": 10,
              "solidity": 0.2
             }
            },
            "type": "barpolar"
           }
          ],
          "carpet": [
           {
            "aaxis": {
             "endlinecolor": "#2a3f5f",
             "gridcolor": "white",
             "linecolor": "white",
             "minorgridcolor": "white",
             "startlinecolor": "#2a3f5f"
            },
            "baxis": {
             "endlinecolor": "#2a3f5f",
             "gridcolor": "white",
             "linecolor": "white",
             "minorgridcolor": "white",
             "startlinecolor": "#2a3f5f"
            },
            "type": "carpet"
           }
          ],
          "choropleth": [
           {
            "colorbar": {
             "outlinewidth": 0,
             "ticks": ""
            },
            "type": "choropleth"
           }
          ],
          "contour": [
           {
            "colorbar": {
             "outlinewidth": 0,
             "ticks": ""
            },
            "colorscale": [
             [
              0,
              "#0d0887"
             ],
             [
              0.1111111111111111,
              "#46039f"
             ],
             [
              0.2222222222222222,
              "#7201a8"
             ],
             [
              0.3333333333333333,
              "#9c179e"
             ],
             [
              0.4444444444444444,
              "#bd3786"
             ],
             [
              0.5555555555555556,
              "#d8576b"
             ],
             [
              0.6666666666666666,
              "#ed7953"
             ],
             [
              0.7777777777777778,
              "#fb9f3a"
             ],
             [
              0.8888888888888888,
              "#fdca26"
             ],
             [
              1,
              "#f0f921"
             ]
            ],
            "type": "contour"
           }
          ],
          "contourcarpet": [
           {
            "colorbar": {
             "outlinewidth": 0,
             "ticks": ""
            },
            "type": "contourcarpet"
           }
          ],
          "heatmap": [
           {
            "colorbar": {
             "outlinewidth": 0,
             "ticks": ""
            },
            "colorscale": [
             [
              0,
              "#0d0887"
             ],
             [
              0.1111111111111111,
              "#46039f"
             ],
             [
              0.2222222222222222,
              "#7201a8"
             ],
             [
              0.3333333333333333,
              "#9c179e"
             ],
             [
              0.4444444444444444,
              "#bd3786"
             ],
             [
              0.5555555555555556,
              "#d8576b"
             ],
             [
              0.6666666666666666,
              "#ed7953"
             ],
             [
              0.7777777777777778,
              "#fb9f3a"
             ],
             [
              0.8888888888888888,
              "#fdca26"
             ],
             [
              1,
              "#f0f921"
             ]
            ],
            "type": "heatmap"
           }
          ],
          "heatmapgl": [
           {
            "colorbar": {
             "outlinewidth": 0,
             "ticks": ""
            },
            "colorscale": [
             [
              0,
              "#0d0887"
             ],
             [
              0.1111111111111111,
              "#46039f"
             ],
             [
              0.2222222222222222,
              "#7201a8"
             ],
             [
              0.3333333333333333,
              "#9c179e"
             ],
             [
              0.4444444444444444,
              "#bd3786"
             ],
             [
              0.5555555555555556,
              "#d8576b"
             ],
             [
              0.6666666666666666,
              "#ed7953"
             ],
             [
              0.7777777777777778,
              "#fb9f3a"
             ],
             [
              0.8888888888888888,
              "#fdca26"
             ],
             [
              1,
              "#f0f921"
             ]
            ],
            "type": "heatmapgl"
           }
          ],
          "histogram": [
           {
            "marker": {
             "pattern": {
              "fillmode": "overlay",
              "size": 10,
              "solidity": 0.2
             }
            },
            "type": "histogram"
           }
          ],
          "histogram2d": [
           {
            "colorbar": {
             "outlinewidth": 0,
             "ticks": ""
            },
            "colorscale": [
             [
              0,
              "#0d0887"
             ],
             [
              0.1111111111111111,
              "#46039f"
             ],
             [
              0.2222222222222222,
              "#7201a8"
             ],
             [
              0.3333333333333333,
              "#9c179e"
             ],
             [
              0.4444444444444444,
              "#bd3786"
             ],
             [
              0.5555555555555556,
              "#d8576b"
             ],
             [
              0.6666666666666666,
              "#ed7953"
             ],
             [
              0.7777777777777778,
              "#fb9f3a"
             ],
             [
              0.8888888888888888,
              "#fdca26"
             ],
             [
              1,
              "#f0f921"
             ]
            ],
            "type": "histogram2d"
           }
          ],
          "histogram2dcontour": [
           {
            "colorbar": {
             "outlinewidth": 0,
             "ticks": ""
            },
            "colorscale": [
             [
              0,
              "#0d0887"
             ],
             [
              0.1111111111111111,
              "#46039f"
             ],
             [
              0.2222222222222222,
              "#7201a8"
             ],
             [
              0.3333333333333333,
              "#9c179e"
             ],
             [
              0.4444444444444444,
              "#bd3786"
             ],
             [
              0.5555555555555556,
              "#d8576b"
             ],
             [
              0.6666666666666666,
              "#ed7953"
             ],
             [
              0.7777777777777778,
              "#fb9f3a"
             ],
             [
              0.8888888888888888,
              "#fdca26"
             ],
             [
              1,
              "#f0f921"
             ]
            ],
            "type": "histogram2dcontour"
           }
          ],
          "mesh3d": [
           {
            "colorbar": {
             "outlinewidth": 0,
             "ticks": ""
            },
            "type": "mesh3d"
           }
          ],
          "parcoords": [
           {
            "line": {
             "colorbar": {
              "outlinewidth": 0,
              "ticks": ""
             }
            },
            "type": "parcoords"
           }
          ],
          "pie": [
           {
            "automargin": true,
            "type": "pie"
           }
          ],
          "scatter": [
           {
            "fillpattern": {
             "fillmode": "overlay",
             "size": 10,
             "solidity": 0.2
            },
            "type": "scatter"
           }
          ],
          "scatter3d": [
           {
            "line": {
             "colorbar": {
              "outlinewidth": 0,
              "ticks": ""
             }
            },
            "marker": {
             "colorbar": {
              "outlinewidth": 0,
              "ticks": ""
             }
            },
            "type": "scatter3d"
           }
          ],
          "scattercarpet": [
           {
            "marker": {
             "colorbar": {
              "outlinewidth": 0,
              "ticks": ""
             }
            },
            "type": "scattercarpet"
           }
          ],
          "scattergeo": [
           {
            "marker": {
             "colorbar": {
              "outlinewidth": 0,
              "ticks": ""
             }
            },
            "type": "scattergeo"
           }
          ],
          "scattergl": [
           {
            "marker": {
             "colorbar": {
              "outlinewidth": 0,
              "ticks": ""
             }
            },
            "type": "scattergl"
           }
          ],
          "scattermapbox": [
           {
            "marker": {
             "colorbar": {
              "outlinewidth": 0,
              "ticks": ""
             }
            },
            "type": "scattermapbox"
           }
          ],
          "scatterpolar": [
           {
            "marker": {
             "colorbar": {
              "outlinewidth": 0,
              "ticks": ""
             }
            },
            "type": "scatterpolar"
           }
          ],
          "scatterpolargl": [
           {
            "marker": {
             "colorbar": {
              "outlinewidth": 0,
              "ticks": ""
             }
            },
            "type": "scatterpolargl"
           }
          ],
          "scatterternary": [
           {
            "marker": {
             "colorbar": {
              "outlinewidth": 0,
              "ticks": ""
             }
            },
            "type": "scatterternary"
           }
          ],
          "surface": [
           {
            "colorbar": {
             "outlinewidth": 0,
             "ticks": ""
            },
            "colorscale": [
             [
              0,
              "#0d0887"
             ],
             [
              0.1111111111111111,
              "#46039f"
             ],
             [
              0.2222222222222222,
              "#7201a8"
             ],
             [
              0.3333333333333333,
              "#9c179e"
             ],
             [
              0.4444444444444444,
              "#bd3786"
             ],
             [
              0.5555555555555556,
              "#d8576b"
             ],
             [
              0.6666666666666666,
              "#ed7953"
             ],
             [
              0.7777777777777778,
              "#fb9f3a"
             ],
             [
              0.8888888888888888,
              "#fdca26"
             ],
             [
              1,
              "#f0f921"
             ]
            ],
            "type": "surface"
           }
          ],
          "table": [
           {
            "cells": {
             "fill": {
              "color": "#EBF0F8"
             },
             "line": {
              "color": "white"
             }
            },
            "header": {
             "fill": {
              "color": "#C8D4E3"
             },
             "line": {
              "color": "white"
             }
            },
            "type": "table"
           }
          ]
         },
         "layout": {
          "annotationdefaults": {
           "arrowcolor": "#2a3f5f",
           "arrowhead": 0,
           "arrowwidth": 1
          },
          "autotypenumbers": "strict",
          "coloraxis": {
           "colorbar": {
            "outlinewidth": 0,
            "ticks": ""
           }
          },
          "colorscale": {
           "diverging": [
            [
             0,
             "#8e0152"
            ],
            [
             0.1,
             "#c51b7d"
            ],
            [
             0.2,
             "#de77ae"
            ],
            [
             0.3,
             "#f1b6da"
            ],
            [
             0.4,
             "#fde0ef"
            ],
            [
             0.5,
             "#f7f7f7"
            ],
            [
             0.6,
             "#e6f5d0"
            ],
            [
             0.7,
             "#b8e186"
            ],
            [
             0.8,
             "#7fbc41"
            ],
            [
             0.9,
             "#4d9221"
            ],
            [
             1,
             "#276419"
            ]
           ],
           "sequential": [
            [
             0,
             "#0d0887"
            ],
            [
             0.1111111111111111,
             "#46039f"
            ],
            [
             0.2222222222222222,
             "#7201a8"
            ],
            [
             0.3333333333333333,
             "#9c179e"
            ],
            [
             0.4444444444444444,
             "#bd3786"
            ],
            [
             0.5555555555555556,
             "#d8576b"
            ],
            [
             0.6666666666666666,
             "#ed7953"
            ],
            [
             0.7777777777777778,
             "#fb9f3a"
            ],
            [
             0.8888888888888888,
             "#fdca26"
            ],
            [
             1,
             "#f0f921"
            ]
           ],
           "sequentialminus": [
            [
             0,
             "#0d0887"
            ],
            [
             0.1111111111111111,
             "#46039f"
            ],
            [
             0.2222222222222222,
             "#7201a8"
            ],
            [
             0.3333333333333333,
             "#9c179e"
            ],
            [
             0.4444444444444444,
             "#bd3786"
            ],
            [
             0.5555555555555556,
             "#d8576b"
            ],
            [
             0.6666666666666666,
             "#ed7953"
            ],
            [
             0.7777777777777778,
             "#fb9f3a"
            ],
            [
             0.8888888888888888,
             "#fdca26"
            ],
            [
             1,
             "#f0f921"
            ]
           ]
          },
          "colorway": [
           "#636efa",
           "#EF553B",
           "#00cc96",
           "#ab63fa",
           "#FFA15A",
           "#19d3f3",
           "#FF6692",
           "#B6E880",
           "#FF97FF",
           "#FECB52"
          ],
          "font": {
           "color": "#2a3f5f"
          },
          "geo": {
           "bgcolor": "white",
           "lakecolor": "white",
           "landcolor": "#E5ECF6",
           "showlakes": true,
           "showland": true,
           "subunitcolor": "white"
          },
          "hoverlabel": {
           "align": "left"
          },
          "hovermode": "closest",
          "mapbox": {
           "style": "light"
          },
          "paper_bgcolor": "white",
          "plot_bgcolor": "#E5ECF6",
          "polar": {
           "angularaxis": {
            "gridcolor": "white",
            "linecolor": "white",
            "ticks": ""
           },
           "bgcolor": "#E5ECF6",
           "radialaxis": {
            "gridcolor": "white",
            "linecolor": "white",
            "ticks": ""
           }
          },
          "scene": {
           "xaxis": {
            "backgroundcolor": "#E5ECF6",
            "gridcolor": "white",
            "gridwidth": 2,
            "linecolor": "white",
            "showbackground": true,
            "ticks": "",
            "zerolinecolor": "white"
           },
           "yaxis": {
            "backgroundcolor": "#E5ECF6",
            "gridcolor": "white",
            "gridwidth": 2,
            "linecolor": "white",
            "showbackground": true,
            "ticks": "",
            "zerolinecolor": "white"
           },
           "zaxis": {
            "backgroundcolor": "#E5ECF6",
            "gridcolor": "white",
            "gridwidth": 2,
            "linecolor": "white",
            "showbackground": true,
            "ticks": "",
            "zerolinecolor": "white"
           }
          },
          "shapedefaults": {
           "line": {
            "color": "#2a3f5f"
           }
          },
          "ternary": {
           "aaxis": {
            "gridcolor": "white",
            "linecolor": "white",
            "ticks": ""
           },
           "baxis": {
            "gridcolor": "white",
            "linecolor": "white",
            "ticks": ""
           },
           "bgcolor": "#E5ECF6",
           "caxis": {
            "gridcolor": "white",
            "linecolor": "white",
            "ticks": ""
           }
          },
          "title": {
           "x": 0.05
          },
          "xaxis": {
           "automargin": true,
           "gridcolor": "white",
           "linecolor": "white",
           "ticks": "",
           "title": {
            "standoff": 15
           },
           "zerolinecolor": "white",
           "zerolinewidth": 2
          },
          "yaxis": {
           "automargin": true,
           "gridcolor": "white",
           "linecolor": "white",
           "ticks": "",
           "title": {
            "standoff": 15
           },
           "zerolinecolor": "white",
           "zerolinewidth": 2
          }
         }
        },
        "title": {
         "text": "Desenpenho Canal"
        },
        "xaxis": {
         "anchor": "y",
         "domain": [
          0,
          0.2888888888888889
         ],
         "title": {
          "text": "Likes"
         }
        },
        "xaxis2": {
         "anchor": "y2",
         "domain": [
          0.35555555555555557,
          0.6444444444444445
         ],
         "title": {
          "text": "Comentários"
         }
        },
        "xaxis3": {
         "anchor": "y3",
         "domain": [
          0.7111111111111111,
          1
         ],
         "title": {
          "text": "TOTAL_CARACTERE_VIDEO"
         }
        },
        "yaxis": {
         "anchor": "x",
         "domain": [
          0,
          1
         ],
         "title": {
          "text": "Visualizações"
         }
        },
        "yaxis2": {
         "anchor": "x2",
         "domain": [
          0,
          1
         ],
         "title": {
          "text": "Visualizações"
         }
        },
        "yaxis3": {
         "anchor": "x3",
         "domain": [
          0,
          1
         ],
         "title": {
          "text": "Visualizações"
         }
        }
       }
      }
     },
     "metadata": {},
     "output_type": "display_data"
    }
   ],
   "source": [
    "fig = make_subplots(rows=1, cols=3, subplot_titles=['Likes X Visualizações', 'Cometários X Visualizações', 'TOTAL_CARACTERE_VIDEO X VISUALIZAÇÔES'])\n",
    "sc1 = px.scatter(df_result, x='total_likes', y='total_visualizacoes',)\n",
    "fig.add_trace(sc1['data'][0], row=1, col=1)\n",
    "fig.update_xaxes(title_text='Likes', row=1, col=1)\n",
    "fig.update_yaxes(title_text='Visualizações', row=1, col=1)\n",
    "\n",
    "sc2 = px.scatter(df_result, x='total_comentarios', y='total_visualizacoes')\n",
    "fig.add_trace(sc2['data'][0], row=1, col=2)\n",
    "fig.update_xaxes(title_text='Comentários', row=1, col=2)\n",
    "fig.update_yaxes(title_text='Visualizações', row=1, col=2)\n",
    "fig.update_layout(title_text='Desenpenho Canal', showlegend=True)\n",
    "\n",
    "sc3 = px.scatter(df_result, x='total_caractere_video', y='total_visualizacoes')\n",
    "fig.add_trace(sc3['data'][0], row=1, col=3)\n",
    "fig.update_xaxes(title_text='TOTAL_CARACTERE_VIDEO', row=1, col=3)\n",
    "fig.update_yaxes(title_text='Visualizações', row=1, col=3)\n",
    "fig.update_layout(title_text='Desenpenho Canal', showlegend=True)\n",
    "\n",
    "\n",
    "\n",
    "fig.show()"
   ]
  },
  {
   "cell_type": "markdown",
   "metadata": {},
   "source": [
    "# Dia em que os vídeos são Públicados com alta frequência"
   ]
  },
  {
   "cell_type": "code",
   "execution_count": 36,
   "metadata": {},
   "outputs": [],
   "source": [
    "df_publicacao_video = pd.read_sql_query(\n",
    "    'SELECT semana_traduzida, '\n",
    "    ' nm_canal,  '\n",
    "    ' total_videos, '\n",
    "    ' data_publicacao,  '\n",
    "    ' assunto, '\n",
    "    ' id_canal '\n",
    "    ' FROM youtube.total_video_publicado_semana'\n",
    "    ' WHERE assunto = \"assunto_cities_skylines\" ',\n",
    "    con=engine\n",
    ")"
   ]
  },
  {
   "cell_type": "code",
   "execution_count": 28,
   "metadata": {},
   "outputs": [],
   "source": [
    "def indice_semana(dia: str) -> int: \n",
    "    dias_semana = {\n",
    "        'Domingo': 1,\n",
    "        'Segunda-feira' : 2,\n",
    "        'Terça-feira' : 3,\n",
    "        'Quarta-feira' : 4,\n",
    "        'Quinta-feira': 5,\n",
    "        'Sexta-feira': 6,\n",
    "        'Sábado' : 7\n",
    "    }\n",
    "\n",
    "    return dias_semana.get(dia)\n"
   ]
  },
  {
   "cell_type": "code",
   "execution_count": 37,
   "metadata": {},
   "outputs": [
    {
     "data": {
      "text/html": [
       "<div>\n",
       "<style scoped>\n",
       "    .dataframe tbody tr th:only-of-type {\n",
       "        vertical-align: middle;\n",
       "    }\n",
       "\n",
       "    .dataframe tbody tr th {\n",
       "        vertical-align: top;\n",
       "    }\n",
       "\n",
       "    .dataframe thead th {\n",
       "        text-align: right;\n",
       "    }\n",
       "</style>\n",
       "<table border=\"1\" class=\"dataframe\">\n",
       "  <thead>\n",
       "    <tr style=\"text-align: right;\">\n",
       "      <th></th>\n",
       "      <th>semana_traduzida</th>\n",
       "      <th>nm_canal</th>\n",
       "      <th>total_videos</th>\n",
       "      <th>data_publicacao</th>\n",
       "      <th>assunto</th>\n",
       "      <th>id_canal</th>\n",
       "    </tr>\n",
       "  </thead>\n",
       "  <tbody>\n",
       "    <tr>\n",
       "      <th>0</th>\n",
       "      <td>Domingo</td>\n",
       "      <td>Irmãos Cities</td>\n",
       "      <td>1</td>\n",
       "      <td>2023-10-15</td>\n",
       "      <td>assunto_cities_skylines</td>\n",
       "      <td>UC1mk6EtfMjxR4eEZ7C43zTQ</td>\n",
       "    </tr>\n",
       "    <tr>\n",
       "      <th>1</th>\n",
       "      <td>Domingo</td>\n",
       "      <td>CANAL HAND - GAME WITH MUSIC</td>\n",
       "      <td>1</td>\n",
       "      <td>2023-10-15</td>\n",
       "      <td>assunto_cities_skylines</td>\n",
       "      <td>UC7v51W2NoLFawizgcNuVBOA</td>\n",
       "    </tr>\n",
       "    <tr>\n",
       "      <th>2</th>\n",
       "      <td>Domingo</td>\n",
       "      <td>GAC TV</td>\n",
       "      <td>1</td>\n",
       "      <td>2023-10-15</td>\n",
       "      <td>assunto_cities_skylines</td>\n",
       "      <td>UCEc5jA0NvvR-yJC0SISV6nw</td>\n",
       "    </tr>\n",
       "    <tr>\n",
       "      <th>3</th>\n",
       "      <td>Domingo</td>\n",
       "      <td>Lucas gameplays brasil</td>\n",
       "      <td>1</td>\n",
       "      <td>2023-10-15</td>\n",
       "      <td>assunto_cities_skylines</td>\n",
       "      <td>UCOYJm7BsLV8VCkW2DC1MI5w</td>\n",
       "    </tr>\n",
       "    <tr>\n",
       "      <th>4</th>\n",
       "      <td>Domingo</td>\n",
       "      <td>O Veio Games</td>\n",
       "      <td>1</td>\n",
       "      <td>2023-10-15</td>\n",
       "      <td>assunto_cities_skylines</td>\n",
       "      <td>UCOe_x5ararWwWajBKbFKNkA</td>\n",
       "    </tr>\n",
       "  </tbody>\n",
       "</table>\n",
       "</div>"
      ],
      "text/plain": [
       "  semana_traduzida                      nm_canal  total_videos  \\\n",
       "0          Domingo                 Irmãos Cities             1   \n",
       "1          Domingo  CANAL HAND - GAME WITH MUSIC             1   \n",
       "2          Domingo                        GAC TV             1   \n",
       "3          Domingo        Lucas gameplays brasil             1   \n",
       "4          Domingo                  O Veio Games             1   \n",
       "\n",
       "  data_publicacao                  assunto                  id_canal  \n",
       "0      2023-10-15  assunto_cities_skylines  UC1mk6EtfMjxR4eEZ7C43zTQ  \n",
       "1      2023-10-15  assunto_cities_skylines  UC7v51W2NoLFawizgcNuVBOA  \n",
       "2      2023-10-15  assunto_cities_skylines  UCEc5jA0NvvR-yJC0SISV6nw  \n",
       "3      2023-10-15  assunto_cities_skylines  UCOYJm7BsLV8VCkW2DC1MI5w  \n",
       "4      2023-10-15  assunto_cities_skylines  UCOe_x5ararWwWajBKbFKNkA  "
      ]
     },
     "execution_count": 37,
     "metadata": {},
     "output_type": "execute_result"
    }
   ],
   "source": [
    "df_publicacao_video.head()"
   ]
  },
  {
   "cell_type": "code",
   "execution_count": 39,
   "metadata": {},
   "outputs": [
    {
     "data": {
      "text/html": [
       "<div>\n",
       "<style scoped>\n",
       "    .dataframe tbody tr th:only-of-type {\n",
       "        vertical-align: middle;\n",
       "    }\n",
       "\n",
       "    .dataframe tbody tr th {\n",
       "        vertical-align: top;\n",
       "    }\n",
       "\n",
       "    .dataframe thead th {\n",
       "        text-align: right;\n",
       "    }\n",
       "</style>\n",
       "<table border=\"1\" class=\"dataframe\">\n",
       "  <thead>\n",
       "    <tr style=\"text-align: right;\">\n",
       "      <th></th>\n",
       "      <th>semana_traduzida</th>\n",
       "      <th>total_videos</th>\n",
       "    </tr>\n",
       "  </thead>\n",
       "  <tbody>\n",
       "    <tr>\n",
       "      <th>0</th>\n",
       "      <td>Domingo</td>\n",
       "      <td>25</td>\n",
       "    </tr>\n",
       "    <tr>\n",
       "      <th>3</th>\n",
       "      <td>Segunda-feira</td>\n",
       "      <td>40</td>\n",
       "    </tr>\n",
       "    <tr>\n",
       "      <th>6</th>\n",
       "      <td>Terça-feira</td>\n",
       "      <td>39</td>\n",
       "    </tr>\n",
       "    <tr>\n",
       "      <th>1</th>\n",
       "      <td>Quarta-feira</td>\n",
       "      <td>37</td>\n",
       "    </tr>\n",
       "    <tr>\n",
       "      <th>2</th>\n",
       "      <td>Quinta-feira</td>\n",
       "      <td>39</td>\n",
       "    </tr>\n",
       "    <tr>\n",
       "      <th>4</th>\n",
       "      <td>Sexta-feira</td>\n",
       "      <td>34</td>\n",
       "    </tr>\n",
       "    <tr>\n",
       "      <th>5</th>\n",
       "      <td>Sábado</td>\n",
       "      <td>21</td>\n",
       "    </tr>\n",
       "  </tbody>\n",
       "</table>\n",
       "</div>"
      ],
      "text/plain": [
       "  semana_traduzida  total_videos\n",
       "0          Domingo            25\n",
       "3    Segunda-feira            40\n",
       "6      Terça-feira            39\n",
       "1     Quarta-feira            37\n",
       "2     Quinta-feira            39\n",
       "4      Sexta-feira            34\n",
       "5           Sábado            21"
      ]
     },
     "execution_count": 39,
     "metadata": {},
     "output_type": "execute_result"
    }
   ],
   "source": [
    "\n",
    "# df_publicacao_video['indice_semana'] = df_publicacao_video['semana_traduzida'].apply(indice_semana)\n",
    "# df_publicacao_video.sort_values(by='indice_semana', inplace=True)\n",
    "df_publicacao_video = df_publicacao_video.groupby('semana_traduzida').sum('total_videos').reset_index()\n",
    "df_publicacao_video['indice_semana'] = df_publicacao_video['semana_traduzida'].apply(indice_semana)\n",
    "df_publicacao_video.sort_values(by='indice_semana', inplace=True)\n",
    "df_publicacao_video.drop(['indice_semana'], axis=1, inplace=True)\n",
    "df_publicacao_video.head(7)"
   ]
  },
  {
   "cell_type": "code",
   "execution_count": 40,
   "metadata": {},
   "outputs": [
    {
     "data": {
      "application/vnd.plotly.v1+json": {
       "config": {
        "plotlyServerURL": "https://plot.ly"
       },
       "data": [
        {
         "alignmentgroup": "True",
         "hovertemplate": "semana_traduzida=%{x}<br>total_videos=%{y}<extra></extra>",
         "legendgroup": "",
         "marker": {
          "color": "#636efa",
          "pattern": {
           "shape": ""
          }
         },
         "name": "",
         "offsetgroup": "",
         "orientation": "v",
         "showlegend": false,
         "textposition": "auto",
         "texttemplate": "%{y}",
         "type": "bar",
         "x": [
          "Domingo",
          "Segunda-feira",
          "Terça-feira",
          "Quarta-feira",
          "Quinta-feira",
          "Sexta-feira",
          "Sábado"
         ],
         "xaxis": "x",
         "y": [
          25,
          40,
          39,
          37,
          39,
          34,
          21
         ],
         "yaxis": "y"
        }
       ],
       "layout": {
        "barmode": "relative",
        "legend": {
         "tracegroupgap": 0
        },
        "margin": {
         "t": 60
        },
        "showlegend": true,
        "template": {
         "data": {
          "bar": [
           {
            "error_x": {
             "color": "#2a3f5f"
            },
            "error_y": {
             "color": "#2a3f5f"
            },
            "marker": {
             "line": {
              "color": "#E5ECF6",
              "width": 0.5
             },
             "pattern": {
              "fillmode": "overlay",
              "size": 10,
              "solidity": 0.2
             }
            },
            "type": "bar"
           }
          ],
          "barpolar": [
           {
            "marker": {
             "line": {
              "color": "#E5ECF6",
              "width": 0.5
             },
             "pattern": {
              "fillmode": "overlay",
              "size": 10,
              "solidity": 0.2
             }
            },
            "type": "barpolar"
           }
          ],
          "carpet": [
           {
            "aaxis": {
             "endlinecolor": "#2a3f5f",
             "gridcolor": "white",
             "linecolor": "white",
             "minorgridcolor": "white",
             "startlinecolor": "#2a3f5f"
            },
            "baxis": {
             "endlinecolor": "#2a3f5f",
             "gridcolor": "white",
             "linecolor": "white",
             "minorgridcolor": "white",
             "startlinecolor": "#2a3f5f"
            },
            "type": "carpet"
           }
          ],
          "choropleth": [
           {
            "colorbar": {
             "outlinewidth": 0,
             "ticks": ""
            },
            "type": "choropleth"
           }
          ],
          "contour": [
           {
            "colorbar": {
             "outlinewidth": 0,
             "ticks": ""
            },
            "colorscale": [
             [
              0,
              "#0d0887"
             ],
             [
              0.1111111111111111,
              "#46039f"
             ],
             [
              0.2222222222222222,
              "#7201a8"
             ],
             [
              0.3333333333333333,
              "#9c179e"
             ],
             [
              0.4444444444444444,
              "#bd3786"
             ],
             [
              0.5555555555555556,
              "#d8576b"
             ],
             [
              0.6666666666666666,
              "#ed7953"
             ],
             [
              0.7777777777777778,
              "#fb9f3a"
             ],
             [
              0.8888888888888888,
              "#fdca26"
             ],
             [
              1,
              "#f0f921"
             ]
            ],
            "type": "contour"
           }
          ],
          "contourcarpet": [
           {
            "colorbar": {
             "outlinewidth": 0,
             "ticks": ""
            },
            "type": "contourcarpet"
           }
          ],
          "heatmap": [
           {
            "colorbar": {
             "outlinewidth": 0,
             "ticks": ""
            },
            "colorscale": [
             [
              0,
              "#0d0887"
             ],
             [
              0.1111111111111111,
              "#46039f"
             ],
             [
              0.2222222222222222,
              "#7201a8"
             ],
             [
              0.3333333333333333,
              "#9c179e"
             ],
             [
              0.4444444444444444,
              "#bd3786"
             ],
             [
              0.5555555555555556,
              "#d8576b"
             ],
             [
              0.6666666666666666,
              "#ed7953"
             ],
             [
              0.7777777777777778,
              "#fb9f3a"
             ],
             [
              0.8888888888888888,
              "#fdca26"
             ],
             [
              1,
              "#f0f921"
             ]
            ],
            "type": "heatmap"
           }
          ],
          "heatmapgl": [
           {
            "colorbar": {
             "outlinewidth": 0,
             "ticks": ""
            },
            "colorscale": [
             [
              0,
              "#0d0887"
             ],
             [
              0.1111111111111111,
              "#46039f"
             ],
             [
              0.2222222222222222,
              "#7201a8"
             ],
             [
              0.3333333333333333,
              "#9c179e"
             ],
             [
              0.4444444444444444,
              "#bd3786"
             ],
             [
              0.5555555555555556,
              "#d8576b"
             ],
             [
              0.6666666666666666,
              "#ed7953"
             ],
             [
              0.7777777777777778,
              "#fb9f3a"
             ],
             [
              0.8888888888888888,
              "#fdca26"
             ],
             [
              1,
              "#f0f921"
             ]
            ],
            "type": "heatmapgl"
           }
          ],
          "histogram": [
           {
            "marker": {
             "pattern": {
              "fillmode": "overlay",
              "size": 10,
              "solidity": 0.2
             }
            },
            "type": "histogram"
           }
          ],
          "histogram2d": [
           {
            "colorbar": {
             "outlinewidth": 0,
             "ticks": ""
            },
            "colorscale": [
             [
              0,
              "#0d0887"
             ],
             [
              0.1111111111111111,
              "#46039f"
             ],
             [
              0.2222222222222222,
              "#7201a8"
             ],
             [
              0.3333333333333333,
              "#9c179e"
             ],
             [
              0.4444444444444444,
              "#bd3786"
             ],
             [
              0.5555555555555556,
              "#d8576b"
             ],
             [
              0.6666666666666666,
              "#ed7953"
             ],
             [
              0.7777777777777778,
              "#fb9f3a"
             ],
             [
              0.8888888888888888,
              "#fdca26"
             ],
             [
              1,
              "#f0f921"
             ]
            ],
            "type": "histogram2d"
           }
          ],
          "histogram2dcontour": [
           {
            "colorbar": {
             "outlinewidth": 0,
             "ticks": ""
            },
            "colorscale": [
             [
              0,
              "#0d0887"
             ],
             [
              0.1111111111111111,
              "#46039f"
             ],
             [
              0.2222222222222222,
              "#7201a8"
             ],
             [
              0.3333333333333333,
              "#9c179e"
             ],
             [
              0.4444444444444444,
              "#bd3786"
             ],
             [
              0.5555555555555556,
              "#d8576b"
             ],
             [
              0.6666666666666666,
              "#ed7953"
             ],
             [
              0.7777777777777778,
              "#fb9f3a"
             ],
             [
              0.8888888888888888,
              "#fdca26"
             ],
             [
              1,
              "#f0f921"
             ]
            ],
            "type": "histogram2dcontour"
           }
          ],
          "mesh3d": [
           {
            "colorbar": {
             "outlinewidth": 0,
             "ticks": ""
            },
            "type": "mesh3d"
           }
          ],
          "parcoords": [
           {
            "line": {
             "colorbar": {
              "outlinewidth": 0,
              "ticks": ""
             }
            },
            "type": "parcoords"
           }
          ],
          "pie": [
           {
            "automargin": true,
            "type": "pie"
           }
          ],
          "scatter": [
           {
            "fillpattern": {
             "fillmode": "overlay",
             "size": 10,
             "solidity": 0.2
            },
            "type": "scatter"
           }
          ],
          "scatter3d": [
           {
            "line": {
             "colorbar": {
              "outlinewidth": 0,
              "ticks": ""
             }
            },
            "marker": {
             "colorbar": {
              "outlinewidth": 0,
              "ticks": ""
             }
            },
            "type": "scatter3d"
           }
          ],
          "scattercarpet": [
           {
            "marker": {
             "colorbar": {
              "outlinewidth": 0,
              "ticks": ""
             }
            },
            "type": "scattercarpet"
           }
          ],
          "scattergeo": [
           {
            "marker": {
             "colorbar": {
              "outlinewidth": 0,
              "ticks": ""
             }
            },
            "type": "scattergeo"
           }
          ],
          "scattergl": [
           {
            "marker": {
             "colorbar": {
              "outlinewidth": 0,
              "ticks": ""
             }
            },
            "type": "scattergl"
           }
          ],
          "scattermapbox": [
           {
            "marker": {
             "colorbar": {
              "outlinewidth": 0,
              "ticks": ""
             }
            },
            "type": "scattermapbox"
           }
          ],
          "scatterpolar": [
           {
            "marker": {
             "colorbar": {
              "outlinewidth": 0,
              "ticks": ""
             }
            },
            "type": "scatterpolar"
           }
          ],
          "scatterpolargl": [
           {
            "marker": {
             "colorbar": {
              "outlinewidth": 0,
              "ticks": ""
             }
            },
            "type": "scatterpolargl"
           }
          ],
          "scatterternary": [
           {
            "marker": {
             "colorbar": {
              "outlinewidth": 0,
              "ticks": ""
             }
            },
            "type": "scatterternary"
           }
          ],
          "surface": [
           {
            "colorbar": {
             "outlinewidth": 0,
             "ticks": ""
            },
            "colorscale": [
             [
              0,
              "#0d0887"
             ],
             [
              0.1111111111111111,
              "#46039f"
             ],
             [
              0.2222222222222222,
              "#7201a8"
             ],
             [
              0.3333333333333333,
              "#9c179e"
             ],
             [
              0.4444444444444444,
              "#bd3786"
             ],
             [
              0.5555555555555556,
              "#d8576b"
             ],
             [
              0.6666666666666666,
              "#ed7953"
             ],
             [
              0.7777777777777778,
              "#fb9f3a"
             ],
             [
              0.8888888888888888,
              "#fdca26"
             ],
             [
              1,
              "#f0f921"
             ]
            ],
            "type": "surface"
           }
          ],
          "table": [
           {
            "cells": {
             "fill": {
              "color": "#EBF0F8"
             },
             "line": {
              "color": "white"
             }
            },
            "header": {
             "fill": {
              "color": "#C8D4E3"
             },
             "line": {
              "color": "white"
             }
            },
            "type": "table"
           }
          ]
         },
         "layout": {
          "annotationdefaults": {
           "arrowcolor": "#2a3f5f",
           "arrowhead": 0,
           "arrowwidth": 1
          },
          "autotypenumbers": "strict",
          "coloraxis": {
           "colorbar": {
            "outlinewidth": 0,
            "ticks": ""
           }
          },
          "colorscale": {
           "diverging": [
            [
             0,
             "#8e0152"
            ],
            [
             0.1,
             "#c51b7d"
            ],
            [
             0.2,
             "#de77ae"
            ],
            [
             0.3,
             "#f1b6da"
            ],
            [
             0.4,
             "#fde0ef"
            ],
            [
             0.5,
             "#f7f7f7"
            ],
            [
             0.6,
             "#e6f5d0"
            ],
            [
             0.7,
             "#b8e186"
            ],
            [
             0.8,
             "#7fbc41"
            ],
            [
             0.9,
             "#4d9221"
            ],
            [
             1,
             "#276419"
            ]
           ],
           "sequential": [
            [
             0,
             "#0d0887"
            ],
            [
             0.1111111111111111,
             "#46039f"
            ],
            [
             0.2222222222222222,
             "#7201a8"
            ],
            [
             0.3333333333333333,
             "#9c179e"
            ],
            [
             0.4444444444444444,
             "#bd3786"
            ],
            [
             0.5555555555555556,
             "#d8576b"
            ],
            [
             0.6666666666666666,
             "#ed7953"
            ],
            [
             0.7777777777777778,
             "#fb9f3a"
            ],
            [
             0.8888888888888888,
             "#fdca26"
            ],
            [
             1,
             "#f0f921"
            ]
           ],
           "sequentialminus": [
            [
             0,
             "#0d0887"
            ],
            [
             0.1111111111111111,
             "#46039f"
            ],
            [
             0.2222222222222222,
             "#7201a8"
            ],
            [
             0.3333333333333333,
             "#9c179e"
            ],
            [
             0.4444444444444444,
             "#bd3786"
            ],
            [
             0.5555555555555556,
             "#d8576b"
            ],
            [
             0.6666666666666666,
             "#ed7953"
            ],
            [
             0.7777777777777778,
             "#fb9f3a"
            ],
            [
             0.8888888888888888,
             "#fdca26"
            ],
            [
             1,
             "#f0f921"
            ]
           ]
          },
          "colorway": [
           "#636efa",
           "#EF553B",
           "#00cc96",
           "#ab63fa",
           "#FFA15A",
           "#19d3f3",
           "#FF6692",
           "#B6E880",
           "#FF97FF",
           "#FECB52"
          ],
          "font": {
           "color": "#2a3f5f"
          },
          "geo": {
           "bgcolor": "white",
           "lakecolor": "white",
           "landcolor": "#E5ECF6",
           "showlakes": true,
           "showland": true,
           "subunitcolor": "white"
          },
          "hoverlabel": {
           "align": "left"
          },
          "hovermode": "closest",
          "mapbox": {
           "style": "light"
          },
          "paper_bgcolor": "white",
          "plot_bgcolor": "#E5ECF6",
          "polar": {
           "angularaxis": {
            "gridcolor": "white",
            "linecolor": "white",
            "ticks": ""
           },
           "bgcolor": "#E5ECF6",
           "radialaxis": {
            "gridcolor": "white",
            "linecolor": "white",
            "ticks": ""
           }
          },
          "scene": {
           "xaxis": {
            "backgroundcolor": "#E5ECF6",
            "gridcolor": "white",
            "gridwidth": 2,
            "linecolor": "white",
            "showbackground": true,
            "ticks": "",
            "zerolinecolor": "white"
           },
           "yaxis": {
            "backgroundcolor": "#E5ECF6",
            "gridcolor": "white",
            "gridwidth": 2,
            "linecolor": "white",
            "showbackground": true,
            "ticks": "",
            "zerolinecolor": "white"
           },
           "zaxis": {
            "backgroundcolor": "#E5ECF6",
            "gridcolor": "white",
            "gridwidth": 2,
            "linecolor": "white",
            "showbackground": true,
            "ticks": "",
            "zerolinecolor": "white"
           }
          },
          "shapedefaults": {
           "line": {
            "color": "#2a3f5f"
           }
          },
          "ternary": {
           "aaxis": {
            "gridcolor": "white",
            "linecolor": "white",
            "ticks": ""
           },
           "baxis": {
            "gridcolor": "white",
            "linecolor": "white",
            "ticks": ""
           },
           "bgcolor": "#E5ECF6",
           "caxis": {
            "gridcolor": "white",
            "linecolor": "white",
            "ticks": ""
           }
          },
          "title": {
           "x": 0.05
          },
          "xaxis": {
           "automargin": true,
           "gridcolor": "white",
           "linecolor": "white",
           "ticks": "",
           "title": {
            "standoff": 15
           },
           "zerolinecolor": "white",
           "zerolinewidth": 2
          },
          "yaxis": {
           "automargin": true,
           "gridcolor": "white",
           "linecolor": "white",
           "ticks": "",
           "title": {
            "standoff": 15
           },
           "zerolinecolor": "white",
           "zerolinewidth": 2
          }
         }
        },
        "title": {
         "text": "Envio de Vídeo por Semana",
         "x": 0.5
        },
        "xaxis": {
         "anchor": "y",
         "domain": [
          0,
          1
         ],
         "title": {
          "text": "semana_traduzida"
         }
        },
        "yaxis": {
         "anchor": "x",
         "domain": [
          0,
          1
         ],
         "title": {
          "text": "total_videos"
         }
        }
       }
      }
     },
     "metadata": {},
     "output_type": "display_data"
    }
   ],
   "source": [
    "fig = px.bar(df_publicacao_video, x='semana_traduzida',y='total_videos', text_auto=True)\n",
    "fig.update_layout(title_text='Envio de Vídeo por Semana', showlegend=True, title=dict(x=0.5) )\n",
    "\n",
    "fig.show()"
   ]
  },
  {
   "cell_type": "markdown",
   "metadata": {},
   "source": [
    "# Total de Tags X Vísualizações "
   ]
  },
  {
   "cell_type": "code",
   "execution_count": 21,
   "metadata": {},
   "outputs": [
    {
     "data": {
      "application/vnd.plotly.v1+json": {
       "config": {
        "plotlyServerURL": "https://plot.ly"
       },
       "data": [
        {
         "hovertemplate": "TOTAL_TAGS=%{x}<br>TOTAL_VISUALIZACOES=%{y}<extra></extra>",
         "legendgroup": "",
         "marker": {
          "color": "#636efa",
          "symbol": "circle"
         },
         "mode": "markers",
         "name": "",
         "orientation": "v",
         "showlegend": false,
         "type": "scatter",
         "x": [
          0,
          31,
          31,
          31,
          31,
          31,
          0,
          33,
          37,
          0,
          31,
          28,
          31,
          31,
          31,
          31,
          31,
          33,
          0,
          31,
          31,
          31,
          31,
          31,
          0,
          33,
          37,
          0,
          31,
          28,
          31,
          31,
          31,
          31,
          33,
          0,
          31,
          31,
          31,
          31,
          0,
          33,
          37,
          0,
          31,
          28,
          31,
          31,
          31,
          31,
          33,
          0,
          31,
          31,
          31,
          0,
          33,
          37,
          0,
          31,
          28,
          31,
          31,
          31,
          33,
          0,
          31,
          31,
          33,
          37,
          0,
          31,
          28,
          31,
          31,
          31,
          33,
          0,
          31,
          33,
          37,
          0,
          31,
          28,
          31,
          31,
          31,
          33,
          0,
          33,
          37,
          0,
          31,
          28,
          31,
          31,
          33,
          0,
          33,
          37,
          0,
          31,
          28,
          31,
          33,
          33,
          37,
          0,
          28,
          31,
          33,
          33,
          37,
          33
         ],
         "xaxis": "x",
         "y": [
          0,
          42650,
          54375,
          50789,
          39265,
          50480,
          0,
          9540,
          18599,
          0,
          71357,
          33628,
          60786,
          120812,
          18620,
          15805,
          19942,
          24021,
          0,
          39393,
          52814,
          48936,
          25546,
          48453,
          0,
          9521,
          18430,
          0,
          69468,
          32382,
          59218,
          117375,
          16232,
          19507,
          23697,
          0,
          24904,
          50535,
          46106,
          44415,
          0,
          9488,
          18197,
          0,
          66655,
          31140,
          57019,
          111842,
          4298,
          18699,
          23317,
          0,
          47320,
          41868,
          27606,
          0,
          9451,
          18004,
          0,
          63099,
          29858,
          54002,
          104409,
          17338,
          22921,
          0,
          42611,
          25707,
          9404,
          17777,
          0,
          59038,
          28387,
          50017,
          97039,
          14438,
          22431,
          0,
          25216,
          9351,
          17489,
          0,
          53307,
          26784,
          42500,
          88838,
          4266,
          21618,
          0,
          9263,
          17245,
          0,
          44930,
          24837,
          24631,
          76038,
          20827,
          0,
          9112,
          16805,
          0,
          12838,
          22599,
          52156,
          19597,
          8949,
          16452,
          0,
          20325,
          17961,
          18470,
          7399,
          7914,
          4562
         ],
         "yaxis": "y"
        }
       ],
       "layout": {
        "legend": {
         "tracegroupgap": 0
        },
        "margin": {
         "t": 60
        },
        "template": {
         "data": {
          "bar": [
           {
            "error_x": {
             "color": "#2a3f5f"
            },
            "error_y": {
             "color": "#2a3f5f"
            },
            "marker": {
             "line": {
              "color": "#E5ECF6",
              "width": 0.5
             },
             "pattern": {
              "fillmode": "overlay",
              "size": 10,
              "solidity": 0.2
             }
            },
            "type": "bar"
           }
          ],
          "barpolar": [
           {
            "marker": {
             "line": {
              "color": "#E5ECF6",
              "width": 0.5
             },
             "pattern": {
              "fillmode": "overlay",
              "size": 10,
              "solidity": 0.2
             }
            },
            "type": "barpolar"
           }
          ],
          "carpet": [
           {
            "aaxis": {
             "endlinecolor": "#2a3f5f",
             "gridcolor": "white",
             "linecolor": "white",
             "minorgridcolor": "white",
             "startlinecolor": "#2a3f5f"
            },
            "baxis": {
             "endlinecolor": "#2a3f5f",
             "gridcolor": "white",
             "linecolor": "white",
             "minorgridcolor": "white",
             "startlinecolor": "#2a3f5f"
            },
            "type": "carpet"
           }
          ],
          "choropleth": [
           {
            "colorbar": {
             "outlinewidth": 0,
             "ticks": ""
            },
            "type": "choropleth"
           }
          ],
          "contour": [
           {
            "colorbar": {
             "outlinewidth": 0,
             "ticks": ""
            },
            "colorscale": [
             [
              0,
              "#0d0887"
             ],
             [
              0.1111111111111111,
              "#46039f"
             ],
             [
              0.2222222222222222,
              "#7201a8"
             ],
             [
              0.3333333333333333,
              "#9c179e"
             ],
             [
              0.4444444444444444,
              "#bd3786"
             ],
             [
              0.5555555555555556,
              "#d8576b"
             ],
             [
              0.6666666666666666,
              "#ed7953"
             ],
             [
              0.7777777777777778,
              "#fb9f3a"
             ],
             [
              0.8888888888888888,
              "#fdca26"
             ],
             [
              1,
              "#f0f921"
             ]
            ],
            "type": "contour"
           }
          ],
          "contourcarpet": [
           {
            "colorbar": {
             "outlinewidth": 0,
             "ticks": ""
            },
            "type": "contourcarpet"
           }
          ],
          "heatmap": [
           {
            "colorbar": {
             "outlinewidth": 0,
             "ticks": ""
            },
            "colorscale": [
             [
              0,
              "#0d0887"
             ],
             [
              0.1111111111111111,
              "#46039f"
             ],
             [
              0.2222222222222222,
              "#7201a8"
             ],
             [
              0.3333333333333333,
              "#9c179e"
             ],
             [
              0.4444444444444444,
              "#bd3786"
             ],
             [
              0.5555555555555556,
              "#d8576b"
             ],
             [
              0.6666666666666666,
              "#ed7953"
             ],
             [
              0.7777777777777778,
              "#fb9f3a"
             ],
             [
              0.8888888888888888,
              "#fdca26"
             ],
             [
              1,
              "#f0f921"
             ]
            ],
            "type": "heatmap"
           }
          ],
          "heatmapgl": [
           {
            "colorbar": {
             "outlinewidth": 0,
             "ticks": ""
            },
            "colorscale": [
             [
              0,
              "#0d0887"
             ],
             [
              0.1111111111111111,
              "#46039f"
             ],
             [
              0.2222222222222222,
              "#7201a8"
             ],
             [
              0.3333333333333333,
              "#9c179e"
             ],
             [
              0.4444444444444444,
              "#bd3786"
             ],
             [
              0.5555555555555556,
              "#d8576b"
             ],
             [
              0.6666666666666666,
              "#ed7953"
             ],
             [
              0.7777777777777778,
              "#fb9f3a"
             ],
             [
              0.8888888888888888,
              "#fdca26"
             ],
             [
              1,
              "#f0f921"
             ]
            ],
            "type": "heatmapgl"
           }
          ],
          "histogram": [
           {
            "marker": {
             "pattern": {
              "fillmode": "overlay",
              "size": 10,
              "solidity": 0.2
             }
            },
            "type": "histogram"
           }
          ],
          "histogram2d": [
           {
            "colorbar": {
             "outlinewidth": 0,
             "ticks": ""
            },
            "colorscale": [
             [
              0,
              "#0d0887"
             ],
             [
              0.1111111111111111,
              "#46039f"
             ],
             [
              0.2222222222222222,
              "#7201a8"
             ],
             [
              0.3333333333333333,
              "#9c179e"
             ],
             [
              0.4444444444444444,
              "#bd3786"
             ],
             [
              0.5555555555555556,
              "#d8576b"
             ],
             [
              0.6666666666666666,
              "#ed7953"
             ],
             [
              0.7777777777777778,
              "#fb9f3a"
             ],
             [
              0.8888888888888888,
              "#fdca26"
             ],
             [
              1,
              "#f0f921"
             ]
            ],
            "type": "histogram2d"
           }
          ],
          "histogram2dcontour": [
           {
            "colorbar": {
             "outlinewidth": 0,
             "ticks": ""
            },
            "colorscale": [
             [
              0,
              "#0d0887"
             ],
             [
              0.1111111111111111,
              "#46039f"
             ],
             [
              0.2222222222222222,
              "#7201a8"
             ],
             [
              0.3333333333333333,
              "#9c179e"
             ],
             [
              0.4444444444444444,
              "#bd3786"
             ],
             [
              0.5555555555555556,
              "#d8576b"
             ],
             [
              0.6666666666666666,
              "#ed7953"
             ],
             [
              0.7777777777777778,
              "#fb9f3a"
             ],
             [
              0.8888888888888888,
              "#fdca26"
             ],
             [
              1,
              "#f0f921"
             ]
            ],
            "type": "histogram2dcontour"
           }
          ],
          "mesh3d": [
           {
            "colorbar": {
             "outlinewidth": 0,
             "ticks": ""
            },
            "type": "mesh3d"
           }
          ],
          "parcoords": [
           {
            "line": {
             "colorbar": {
              "outlinewidth": 0,
              "ticks": ""
             }
            },
            "type": "parcoords"
           }
          ],
          "pie": [
           {
            "automargin": true,
            "type": "pie"
           }
          ],
          "scatter": [
           {
            "fillpattern": {
             "fillmode": "overlay",
             "size": 10,
             "solidity": 0.2
            },
            "type": "scatter"
           }
          ],
          "scatter3d": [
           {
            "line": {
             "colorbar": {
              "outlinewidth": 0,
              "ticks": ""
             }
            },
            "marker": {
             "colorbar": {
              "outlinewidth": 0,
              "ticks": ""
             }
            },
            "type": "scatter3d"
           }
          ],
          "scattercarpet": [
           {
            "marker": {
             "colorbar": {
              "outlinewidth": 0,
              "ticks": ""
             }
            },
            "type": "scattercarpet"
           }
          ],
          "scattergeo": [
           {
            "marker": {
             "colorbar": {
              "outlinewidth": 0,
              "ticks": ""
             }
            },
            "type": "scattergeo"
           }
          ],
          "scattergl": [
           {
            "marker": {
             "colorbar": {
              "outlinewidth": 0,
              "ticks": ""
             }
            },
            "type": "scattergl"
           }
          ],
          "scattermapbox": [
           {
            "marker": {
             "colorbar": {
              "outlinewidth": 0,
              "ticks": ""
             }
            },
            "type": "scattermapbox"
           }
          ],
          "scatterpolar": [
           {
            "marker": {
             "colorbar": {
              "outlinewidth": 0,
              "ticks": ""
             }
            },
            "type": "scatterpolar"
           }
          ],
          "scatterpolargl": [
           {
            "marker": {
             "colorbar": {
              "outlinewidth": 0,
              "ticks": ""
             }
            },
            "type": "scatterpolargl"
           }
          ],
          "scatterternary": [
           {
            "marker": {
             "colorbar": {
              "outlinewidth": 0,
              "ticks": ""
             }
            },
            "type": "scatterternary"
           }
          ],
          "surface": [
           {
            "colorbar": {
             "outlinewidth": 0,
             "ticks": ""
            },
            "colorscale": [
             [
              0,
              "#0d0887"
             ],
             [
              0.1111111111111111,
              "#46039f"
             ],
             [
              0.2222222222222222,
              "#7201a8"
             ],
             [
              0.3333333333333333,
              "#9c179e"
             ],
             [
              0.4444444444444444,
              "#bd3786"
             ],
             [
              0.5555555555555556,
              "#d8576b"
             ],
             [
              0.6666666666666666,
              "#ed7953"
             ],
             [
              0.7777777777777778,
              "#fb9f3a"
             ],
             [
              0.8888888888888888,
              "#fdca26"
             ],
             [
              1,
              "#f0f921"
             ]
            ],
            "type": "surface"
           }
          ],
          "table": [
           {
            "cells": {
             "fill": {
              "color": "#EBF0F8"
             },
             "line": {
              "color": "white"
             }
            },
            "header": {
             "fill": {
              "color": "#C8D4E3"
             },
             "line": {
              "color": "white"
             }
            },
            "type": "table"
           }
          ]
         },
         "layout": {
          "annotationdefaults": {
           "arrowcolor": "#2a3f5f",
           "arrowhead": 0,
           "arrowwidth": 1
          },
          "autotypenumbers": "strict",
          "coloraxis": {
           "colorbar": {
            "outlinewidth": 0,
            "ticks": ""
           }
          },
          "colorscale": {
           "diverging": [
            [
             0,
             "#8e0152"
            ],
            [
             0.1,
             "#c51b7d"
            ],
            [
             0.2,
             "#de77ae"
            ],
            [
             0.3,
             "#f1b6da"
            ],
            [
             0.4,
             "#fde0ef"
            ],
            [
             0.5,
             "#f7f7f7"
            ],
            [
             0.6,
             "#e6f5d0"
            ],
            [
             0.7,
             "#b8e186"
            ],
            [
             0.8,
             "#7fbc41"
            ],
            [
             0.9,
             "#4d9221"
            ],
            [
             1,
             "#276419"
            ]
           ],
           "sequential": [
            [
             0,
             "#0d0887"
            ],
            [
             0.1111111111111111,
             "#46039f"
            ],
            [
             0.2222222222222222,
             "#7201a8"
            ],
            [
             0.3333333333333333,
             "#9c179e"
            ],
            [
             0.4444444444444444,
             "#bd3786"
            ],
            [
             0.5555555555555556,
             "#d8576b"
            ],
            [
             0.6666666666666666,
             "#ed7953"
            ],
            [
             0.7777777777777778,
             "#fb9f3a"
            ],
            [
             0.8888888888888888,
             "#fdca26"
            ],
            [
             1,
             "#f0f921"
            ]
           ],
           "sequentialminus": [
            [
             0,
             "#0d0887"
            ],
            [
             0.1111111111111111,
             "#46039f"
            ],
            [
             0.2222222222222222,
             "#7201a8"
            ],
            [
             0.3333333333333333,
             "#9c179e"
            ],
            [
             0.4444444444444444,
             "#bd3786"
            ],
            [
             0.5555555555555556,
             "#d8576b"
            ],
            [
             0.6666666666666666,
             "#ed7953"
            ],
            [
             0.7777777777777778,
             "#fb9f3a"
            ],
            [
             0.8888888888888888,
             "#fdca26"
            ],
            [
             1,
             "#f0f921"
            ]
           ]
          },
          "colorway": [
           "#636efa",
           "#EF553B",
           "#00cc96",
           "#ab63fa",
           "#FFA15A",
           "#19d3f3",
           "#FF6692",
           "#B6E880",
           "#FF97FF",
           "#FECB52"
          ],
          "font": {
           "color": "#2a3f5f"
          },
          "geo": {
           "bgcolor": "white",
           "lakecolor": "white",
           "landcolor": "#E5ECF6",
           "showlakes": true,
           "showland": true,
           "subunitcolor": "white"
          },
          "hoverlabel": {
           "align": "left"
          },
          "hovermode": "closest",
          "mapbox": {
           "style": "light"
          },
          "paper_bgcolor": "white",
          "plot_bgcolor": "#E5ECF6",
          "polar": {
           "angularaxis": {
            "gridcolor": "white",
            "linecolor": "white",
            "ticks": ""
           },
           "bgcolor": "#E5ECF6",
           "radialaxis": {
            "gridcolor": "white",
            "linecolor": "white",
            "ticks": ""
           }
          },
          "scene": {
           "xaxis": {
            "backgroundcolor": "#E5ECF6",
            "gridcolor": "white",
            "gridwidth": 2,
            "linecolor": "white",
            "showbackground": true,
            "ticks": "",
            "zerolinecolor": "white"
           },
           "yaxis": {
            "backgroundcolor": "#E5ECF6",
            "gridcolor": "white",
            "gridwidth": 2,
            "linecolor": "white",
            "showbackground": true,
            "ticks": "",
            "zerolinecolor": "white"
           },
           "zaxis": {
            "backgroundcolor": "#E5ECF6",
            "gridcolor": "white",
            "gridwidth": 2,
            "linecolor": "white",
            "showbackground": true,
            "ticks": "",
            "zerolinecolor": "white"
           }
          },
          "shapedefaults": {
           "line": {
            "color": "#2a3f5f"
           }
          },
          "ternary": {
           "aaxis": {
            "gridcolor": "white",
            "linecolor": "white",
            "ticks": ""
           },
           "baxis": {
            "gridcolor": "white",
            "linecolor": "white",
            "ticks": ""
           },
           "bgcolor": "#E5ECF6",
           "caxis": {
            "gridcolor": "white",
            "linecolor": "white",
            "ticks": ""
           }
          },
          "title": {
           "x": 0.05
          },
          "xaxis": {
           "automargin": true,
           "gridcolor": "white",
           "linecolor": "white",
           "ticks": "",
           "title": {
            "standoff": 15
           },
           "zerolinecolor": "white",
           "zerolinewidth": 2
          },
          "yaxis": {
           "automargin": true,
           "gridcolor": "white",
           "linecolor": "white",
           "ticks": "",
           "title": {
            "standoff": 15
           },
           "zerolinecolor": "white",
           "zerolinewidth": 2
          }
         }
        },
        "xaxis": {
         "anchor": "y",
         "domain": [
          0,
          1
         ],
         "title": {
          "text": "TOTAL_TAGS"
         }
        },
        "yaxis": {
         "anchor": "x",
         "domain": [
          0,
          1
         ],
         "title": {
          "text": "TOTAL_VISUALIZACOES"
         }
        }
       }
      }
     },
     "metadata": {},
     "output_type": "display_data"
    }
   ],
   "source": [
    "df_tags_visualizacoes = spark.sql('SELECT TOTAL_TAGS, TOTAL_VISUALIZACOES FROM METRICAS_VIDEO where ID_CANAL in (\"UCrOH1V-FyMunBIMrKL0y0xQ\") ').toPandas()\n",
    "df_tags_visualizacoes.head()\n",
    "fig = px.scatter(df_tags_visualizacoes, x='TOTAL_TAGS', y='TOTAL_VISUALIZACOES')\n",
    "fig.show()"
   ]
  },
  {
   "cell_type": "markdown",
   "metadata": {},
   "source": [
    "# Tamanho dos títulos do Vídeos X Vísualizações"
   ]
  },
  {
   "cell_type": "markdown",
   "metadata": {},
   "source": [
    "# Total Víews DIA por Vídeo"
   ]
  },
  {
   "cell_type": "code",
   "execution_count": 38,
   "metadata": {},
   "outputs": [
    {
     "data": {
      "application/vnd.plotly.v1+json": {
       "config": {
        "plotlyServerURL": "https://plot.ly"
       },
       "data": [
        {
         "alignmentgroup": "True",
         "hovertemplate": "TOTAL_VISUALIZACOES_DIA=%{x}<br>TITULO_VIDEO=%{y}<extra></extra>",
         "legendgroup": "",
         "marker": {
          "color": "#636efa",
          "pattern": {
           "shape": ""
          }
         },
         "name": "",
         "offsetgroup": "",
         "orientation": "h",
         "showlegend": false,
         "textposition": "auto",
         "texttemplate": "%{x}",
         "type": "bar",
         "x": [
          33,
          233,
          380,
          808,
          1242,
          2199,
          2279,
          2813,
          2830,
          4038,
          5533,
          11934,
          14489,
          25546
         ],
         "xaxis": "x",
         "y": [
          "Modders decidem fazer o melhor jogo de gerencimento com combate tático? 🎖️ - ascent of ashes",
          "Planejamento inicial pode salvar sua cidade! 🚗 - cities skylines  - consertando o trânsito",
          "Simulador de plataforma de petróleo da petrobrás! ⛽ - drill deal",
          "Vias coletoras/arteriais e avenidas - guia de planejamento - cities skylines 2",
          "Do criador da melhor cidade já feita, a nova melhor cidade? 🏢 - cities skylines showcase",
          "Primeira praça da cidade sai do papel 🏙️ - cities skylines 2 #3",
          "Super subúrbio faz alcançar 10000 habitantes 🏙️ - cities skylines 2 #4",
          "Pequena fortuna em serviços públicos básicos 🏙️ - cities skylines 2 #2",
          "Poluição força migração da indústria para novo distrito 🏙️ - cities skylines 2 #5",
          "Balsas, busões e bondes salvaram trânsito? 🏙️ - cities skylines 2 #6",
          "Melhor jogo de construir cidades chegou e está lindo 🏙️ - cities skylines 2",
          "Vias expressas/rodovias e aneis rodoviários - guia de planejamento - cities skylines 2",
          "Prefeitura e previdência chegam a cidade! 🏙️ - cities skylines 2 #7",
          "Transporte público de massa com trens! 🏙️ - cities skylines 2 #8"
         ],
         "yaxis": "y"
        }
       ],
       "layout": {
        "barmode": "relative",
        "legend": {
         "tracegroupgap": 0
        },
        "margin": {
         "t": 60
        },
        "template": {
         "data": {
          "bar": [
           {
            "error_x": {
             "color": "#2a3f5f"
            },
            "error_y": {
             "color": "#2a3f5f"
            },
            "marker": {
             "line": {
              "color": "#E5ECF6",
              "width": 0.5
             },
             "pattern": {
              "fillmode": "overlay",
              "size": 10,
              "solidity": 0.2
             }
            },
            "type": "bar"
           }
          ],
          "barpolar": [
           {
            "marker": {
             "line": {
              "color": "#E5ECF6",
              "width": 0.5
             },
             "pattern": {
              "fillmode": "overlay",
              "size": 10,
              "solidity": 0.2
             }
            },
            "type": "barpolar"
           }
          ],
          "carpet": [
           {
            "aaxis": {
             "endlinecolor": "#2a3f5f",
             "gridcolor": "white",
             "linecolor": "white",
             "minorgridcolor": "white",
             "startlinecolor": "#2a3f5f"
            },
            "baxis": {
             "endlinecolor": "#2a3f5f",
             "gridcolor": "white",
             "linecolor": "white",
             "minorgridcolor": "white",
             "startlinecolor": "#2a3f5f"
            },
            "type": "carpet"
           }
          ],
          "choropleth": [
           {
            "colorbar": {
             "outlinewidth": 0,
             "ticks": ""
            },
            "type": "choropleth"
           }
          ],
          "contour": [
           {
            "colorbar": {
             "outlinewidth": 0,
             "ticks": ""
            },
            "colorscale": [
             [
              0,
              "#0d0887"
             ],
             [
              0.1111111111111111,
              "#46039f"
             ],
             [
              0.2222222222222222,
              "#7201a8"
             ],
             [
              0.3333333333333333,
              "#9c179e"
             ],
             [
              0.4444444444444444,
              "#bd3786"
             ],
             [
              0.5555555555555556,
              "#d8576b"
             ],
             [
              0.6666666666666666,
              "#ed7953"
             ],
             [
              0.7777777777777778,
              "#fb9f3a"
             ],
             [
              0.8888888888888888,
              "#fdca26"
             ],
             [
              1,
              "#f0f921"
             ]
            ],
            "type": "contour"
           }
          ],
          "contourcarpet": [
           {
            "colorbar": {
             "outlinewidth": 0,
             "ticks": ""
            },
            "type": "contourcarpet"
           }
          ],
          "heatmap": [
           {
            "colorbar": {
             "outlinewidth": 0,
             "ticks": ""
            },
            "colorscale": [
             [
              0,
              "#0d0887"
             ],
             [
              0.1111111111111111,
              "#46039f"
             ],
             [
              0.2222222222222222,
              "#7201a8"
             ],
             [
              0.3333333333333333,
              "#9c179e"
             ],
             [
              0.4444444444444444,
              "#bd3786"
             ],
             [
              0.5555555555555556,
              "#d8576b"
             ],
             [
              0.6666666666666666,
              "#ed7953"
             ],
             [
              0.7777777777777778,
              "#fb9f3a"
             ],
             [
              0.8888888888888888,
              "#fdca26"
             ],
             [
              1,
              "#f0f921"
             ]
            ],
            "type": "heatmap"
           }
          ],
          "heatmapgl": [
           {
            "colorbar": {
             "outlinewidth": 0,
             "ticks": ""
            },
            "colorscale": [
             [
              0,
              "#0d0887"
             ],
             [
              0.1111111111111111,
              "#46039f"
             ],
             [
              0.2222222222222222,
              "#7201a8"
             ],
             [
              0.3333333333333333,
              "#9c179e"
             ],
             [
              0.4444444444444444,
              "#bd3786"
             ],
             [
              0.5555555555555556,
              "#d8576b"
             ],
             [
              0.6666666666666666,
              "#ed7953"
             ],
             [
              0.7777777777777778,
              "#fb9f3a"
             ],
             [
              0.8888888888888888,
              "#fdca26"
             ],
             [
              1,
              "#f0f921"
             ]
            ],
            "type": "heatmapgl"
           }
          ],
          "histogram": [
           {
            "marker": {
             "pattern": {
              "fillmode": "overlay",
              "size": 10,
              "solidity": 0.2
             }
            },
            "type": "histogram"
           }
          ],
          "histogram2d": [
           {
            "colorbar": {
             "outlinewidth": 0,
             "ticks": ""
            },
            "colorscale": [
             [
              0,
              "#0d0887"
             ],
             [
              0.1111111111111111,
              "#46039f"
             ],
             [
              0.2222222222222222,
              "#7201a8"
             ],
             [
              0.3333333333333333,
              "#9c179e"
             ],
             [
              0.4444444444444444,
              "#bd3786"
             ],
             [
              0.5555555555555556,
              "#d8576b"
             ],
             [
              0.6666666666666666,
              "#ed7953"
             ],
             [
              0.7777777777777778,
              "#fb9f3a"
             ],
             [
              0.8888888888888888,
              "#fdca26"
             ],
             [
              1,
              "#f0f921"
             ]
            ],
            "type": "histogram2d"
           }
          ],
          "histogram2dcontour": [
           {
            "colorbar": {
             "outlinewidth": 0,
             "ticks": ""
            },
            "colorscale": [
             [
              0,
              "#0d0887"
             ],
             [
              0.1111111111111111,
              "#46039f"
             ],
             [
              0.2222222222222222,
              "#7201a8"
             ],
             [
              0.3333333333333333,
              "#9c179e"
             ],
             [
              0.4444444444444444,
              "#bd3786"
             ],
             [
              0.5555555555555556,
              "#d8576b"
             ],
             [
              0.6666666666666666,
              "#ed7953"
             ],
             [
              0.7777777777777778,
              "#fb9f3a"
             ],
             [
              0.8888888888888888,
              "#fdca26"
             ],
             [
              1,
              "#f0f921"
             ]
            ],
            "type": "histogram2dcontour"
           }
          ],
          "mesh3d": [
           {
            "colorbar": {
             "outlinewidth": 0,
             "ticks": ""
            },
            "type": "mesh3d"
           }
          ],
          "parcoords": [
           {
            "line": {
             "colorbar": {
              "outlinewidth": 0,
              "ticks": ""
             }
            },
            "type": "parcoords"
           }
          ],
          "pie": [
           {
            "automargin": true,
            "type": "pie"
           }
          ],
          "scatter": [
           {
            "fillpattern": {
             "fillmode": "overlay",
             "size": 10,
             "solidity": 0.2
            },
            "type": "scatter"
           }
          ],
          "scatter3d": [
           {
            "line": {
             "colorbar": {
              "outlinewidth": 0,
              "ticks": ""
             }
            },
            "marker": {
             "colorbar": {
              "outlinewidth": 0,
              "ticks": ""
             }
            },
            "type": "scatter3d"
           }
          ],
          "scattercarpet": [
           {
            "marker": {
             "colorbar": {
              "outlinewidth": 0,
              "ticks": ""
             }
            },
            "type": "scattercarpet"
           }
          ],
          "scattergeo": [
           {
            "marker": {
             "colorbar": {
              "outlinewidth": 0,
              "ticks": ""
             }
            },
            "type": "scattergeo"
           }
          ],
          "scattergl": [
           {
            "marker": {
             "colorbar": {
              "outlinewidth": 0,
              "ticks": ""
             }
            },
            "type": "scattergl"
           }
          ],
          "scattermapbox": [
           {
            "marker": {
             "colorbar": {
              "outlinewidth": 0,
              "ticks": ""
             }
            },
            "type": "scattermapbox"
           }
          ],
          "scatterpolar": [
           {
            "marker": {
             "colorbar": {
              "outlinewidth": 0,
              "ticks": ""
             }
            },
            "type": "scatterpolar"
           }
          ],
          "scatterpolargl": [
           {
            "marker": {
             "colorbar": {
              "outlinewidth": 0,
              "ticks": ""
             }
            },
            "type": "scatterpolargl"
           }
          ],
          "scatterternary": [
           {
            "marker": {
             "colorbar": {
              "outlinewidth": 0,
              "ticks": ""
             }
            },
            "type": "scatterternary"
           }
          ],
          "surface": [
           {
            "colorbar": {
             "outlinewidth": 0,
             "ticks": ""
            },
            "colorscale": [
             [
              0,
              "#0d0887"
             ],
             [
              0.1111111111111111,
              "#46039f"
             ],
             [
              0.2222222222222222,
              "#7201a8"
             ],
             [
              0.3333333333333333,
              "#9c179e"
             ],
             [
              0.4444444444444444,
              "#bd3786"
             ],
             [
              0.5555555555555556,
              "#d8576b"
             ],
             [
              0.6666666666666666,
              "#ed7953"
             ],
             [
              0.7777777777777778,
              "#fb9f3a"
             ],
             [
              0.8888888888888888,
              "#fdca26"
             ],
             [
              1,
              "#f0f921"
             ]
            ],
            "type": "surface"
           }
          ],
          "table": [
           {
            "cells": {
             "fill": {
              "color": "#EBF0F8"
             },
             "line": {
              "color": "white"
             }
            },
            "header": {
             "fill": {
              "color": "#C8D4E3"
             },
             "line": {
              "color": "white"
             }
            },
            "type": "table"
           }
          ]
         },
         "layout": {
          "annotationdefaults": {
           "arrowcolor": "#2a3f5f",
           "arrowhead": 0,
           "arrowwidth": 1
          },
          "autotypenumbers": "strict",
          "coloraxis": {
           "colorbar": {
            "outlinewidth": 0,
            "ticks": ""
           }
          },
          "colorscale": {
           "diverging": [
            [
             0,
             "#8e0152"
            ],
            [
             0.1,
             "#c51b7d"
            ],
            [
             0.2,
             "#de77ae"
            ],
            [
             0.3,
             "#f1b6da"
            ],
            [
             0.4,
             "#fde0ef"
            ],
            [
             0.5,
             "#f7f7f7"
            ],
            [
             0.6,
             "#e6f5d0"
            ],
            [
             0.7,
             "#b8e186"
            ],
            [
             0.8,
             "#7fbc41"
            ],
            [
             0.9,
             "#4d9221"
            ],
            [
             1,
             "#276419"
            ]
           ],
           "sequential": [
            [
             0,
             "#0d0887"
            ],
            [
             0.1111111111111111,
             "#46039f"
            ],
            [
             0.2222222222222222,
             "#7201a8"
            ],
            [
             0.3333333333333333,
             "#9c179e"
            ],
            [
             0.4444444444444444,
             "#bd3786"
            ],
            [
             0.5555555555555556,
             "#d8576b"
            ],
            [
             0.6666666666666666,
             "#ed7953"
            ],
            [
             0.7777777777777778,
             "#fb9f3a"
            ],
            [
             0.8888888888888888,
             "#fdca26"
            ],
            [
             1,
             "#f0f921"
            ]
           ],
           "sequentialminus": [
            [
             0,
             "#0d0887"
            ],
            [
             0.1111111111111111,
             "#46039f"
            ],
            [
             0.2222222222222222,
             "#7201a8"
            ],
            [
             0.3333333333333333,
             "#9c179e"
            ],
            [
             0.4444444444444444,
             "#bd3786"
            ],
            [
             0.5555555555555556,
             "#d8576b"
            ],
            [
             0.6666666666666666,
             "#ed7953"
            ],
            [
             0.7777777777777778,
             "#fb9f3a"
            ],
            [
             0.8888888888888888,
             "#fdca26"
            ],
            [
             1,
             "#f0f921"
            ]
           ]
          },
          "colorway": [
           "#636efa",
           "#EF553B",
           "#00cc96",
           "#ab63fa",
           "#FFA15A",
           "#19d3f3",
           "#FF6692",
           "#B6E880",
           "#FF97FF",
           "#FECB52"
          ],
          "font": {
           "color": "#2a3f5f"
          },
          "geo": {
           "bgcolor": "white",
           "lakecolor": "white",
           "landcolor": "#E5ECF6",
           "showlakes": true,
           "showland": true,
           "subunitcolor": "white"
          },
          "hoverlabel": {
           "align": "left"
          },
          "hovermode": "closest",
          "mapbox": {
           "style": "light"
          },
          "paper_bgcolor": "white",
          "plot_bgcolor": "#E5ECF6",
          "polar": {
           "angularaxis": {
            "gridcolor": "white",
            "linecolor": "white",
            "ticks": ""
           },
           "bgcolor": "#E5ECF6",
           "radialaxis": {
            "gridcolor": "white",
            "linecolor": "white",
            "ticks": ""
           }
          },
          "scene": {
           "xaxis": {
            "backgroundcolor": "#E5ECF6",
            "gridcolor": "white",
            "gridwidth": 2,
            "linecolor": "white",
            "showbackground": true,
            "ticks": "",
            "zerolinecolor": "white"
           },
           "yaxis": {
            "backgroundcolor": "#E5ECF6",
            "gridcolor": "white",
            "gridwidth": 2,
            "linecolor": "white",
            "showbackground": true,
            "ticks": "",
            "zerolinecolor": "white"
           },
           "zaxis": {
            "backgroundcolor": "#E5ECF6",
            "gridcolor": "white",
            "gridwidth": 2,
            "linecolor": "white",
            "showbackground": true,
            "ticks": "",
            "zerolinecolor": "white"
           }
          },
          "shapedefaults": {
           "line": {
            "color": "#2a3f5f"
           }
          },
          "ternary": {
           "aaxis": {
            "gridcolor": "white",
            "linecolor": "white",
            "ticks": ""
           },
           "baxis": {
            "gridcolor": "white",
            "linecolor": "white",
            "ticks": ""
           },
           "bgcolor": "#E5ECF6",
           "caxis": {
            "gridcolor": "white",
            "linecolor": "white",
            "ticks": ""
           }
          },
          "title": {
           "x": 0.05
          },
          "xaxis": {
           "automargin": true,
           "gridcolor": "white",
           "linecolor": "white",
           "ticks": "",
           "title": {
            "standoff": 15
           },
           "zerolinecolor": "white",
           "zerolinewidth": 2
          },
          "yaxis": {
           "automargin": true,
           "gridcolor": "white",
           "linecolor": "white",
           "ticks": "",
           "title": {
            "standoff": 15
           },
           "zerolinecolor": "white",
           "zerolinewidth": 2
          }
         }
        },
        "xaxis": {
         "anchor": "y",
         "domain": [
          0,
          1
         ],
         "title": {
          "text": "TOTAL_VISUALIZACOES_DIA"
         }
        },
        "yaxis": {
         "anchor": "x",
         "domain": [
          0,
          1
         ],
         "title": {
          "text": "TITULO_VIDEO"
         }
        }
       }
      }
     },
     "metadata": {},
     "output_type": "display_data"
    }
   ],
   "source": [
    "df_views_video = spark.sql(' SELECT TITULO_VIDEO, TOTAL_VISUALIZACOES_DIA '  \n",
    "          ' FROM METRICAS_VIDEO ' \n",
    "          ' WHERE ID_CANAL = \"UCrOH1V-FyMunBIMrKL0y0xQ\" ' \n",
    "          ' AND data_extracao = \"2023-10-26\" '\n",
    "          ' AND TOTAL_VISUALIZACOES > 0 '\n",
    "          ' ORDER BY 2 ').toPandas()\n",
    "df_views_video.head() \n",
    "df_views_video['TITULO_VIDEO'] = df_views_video['TITULO_VIDEO'].apply(lambda x: x.capitalize())\n",
    "fig = px.bar(df_views_video, x='TOTAL_VISUALIZACOES_DIA', y='TITULO_VIDEO', orientation='h', text_auto=True)\n",
    "fig.show()\n"
   ]
  },
  {
   "cell_type": "markdown",
   "metadata": {},
   "source": [
    "# Total Víews DIA por Canal"
   ]
  },
  {
   "cell_type": "code",
   "execution_count": 23,
   "metadata": {},
   "outputs": [
    {
     "data": {
      "application/vnd.plotly.v1+json": {
       "config": {
        "plotlyServerURL": "https://plot.ly"
       },
       "data": [
        {
         "alignmentgroup": "True",
         "hovertemplate": "sum(TOTAL_VISUALIZACOES_DIA)=%{x}<br>NM_CANAL=%{y}<extra></extra>",
         "legendgroup": "",
         "marker": {
          "color": "#636efa",
          "pattern": {
           "shape": ""
          }
         },
         "name": "",
         "offsetgroup": "",
         "orientation": "h",
         "showlegend": false,
         "textposition": "auto",
         "texttemplate": "%{x}",
         "type": "bar",
         "x": [
          1,
          1,
          1,
          2,
          2,
          2,
          2,
          3,
          3,
          3,
          3,
          3,
          3,
          4,
          4,
          4,
          4,
          5,
          5,
          5,
          5,
          6,
          6,
          7,
          7,
          8,
          8,
          8,
          8,
          10,
          10,
          11,
          12,
          17,
          18,
          19,
          19,
          20,
          20,
          21,
          21,
          21,
          21,
          24,
          26,
          28,
          32,
          34,
          35,
          35,
          40,
          41,
          46,
          57,
          57,
          65,
          67,
          73,
          79,
          88,
          88,
          97,
          103,
          104,
          105,
          105,
          107,
          121,
          126,
          128,
          144,
          145,
          148,
          161,
          177,
          180,
          187,
          187,
          191,
          229,
          242,
          255,
          262,
          343,
          348,
          355,
          438,
          466,
          502,
          665,
          669,
          869,
          1174,
          1514,
          2388,
          3585,
          4333,
          6136,
          10397,
          13960,
          15020,
          49697
         ],
         "xaxis": "x",
         "y": [
          "Quinto controle",
          "Game tv brasa",
          "Francalvaro gamer",
          "Tio joe",
          "Skarlatus",
          "Pinguires",
          "Dannoob",
          "Victor no controle",
          "Noob cardo",
          "Filipe tanus marçal",
          "Player 7",
          "Gabriel",
          "Tecnologia",
          "Joga com william",
          "Mkjxzz",
          "Skulksgamer",
          "Uli2084",
          "Pika-pau gameplay",
          "Wilhaco",
          "Gxtec",
          "Oidsystem",
          "Supreme br",
          "Taverna replicante",
          "Rodness",
          "Bruuninz",
          "Atomic2c",
          "Maroto",
          "Fumacento",
          "Hughesgames",
          "Juliogameplay",
          "Xboxbr",
          "Gac tv",
          "Le alves play",
          "Rlkpedrom",
          "Elvisplaylive",
          "Bug cities",
          "Migeez",
          "Lives do ivdmaluco",
          "Luh gamer",
          "O veio games",
          "Mundo gamer tv",
          "Malvinan",
          "Dinas e games",
          "Klyte45",
          "Luketuke",
          "Galilezinski",
          "Bruno",
          "Nigeriakkj",
          "Bl4d3n | jogos de gestão e construção",
          "Silva tweaks",
          "Personal apple vr",
          "Wellington souza",
          "Rodrigo baltar",
          "Ale_bagunçinha mta",
          "Wzz",
          "Sr l",
          "Inteligame",
          "Team random",
          "Kebrada geek",
          "Bad influence guias de otimização ",
          "Hominek1",
          "Game com ciência",
          "Douglas willian yt",
          "Monte",
          "Uaisô games",
          "Rivas",
          "Dilsão",
          "Kassiano",
          "Prompt dark",
          "Gabriel boeni",
          "Canal hand - game with music",
          "Grilo gamer",
          "Sete iwnl",
          "Ttauros gamer",
          "Cortes boladao",
          "Viktorkav",
          "Ubira",
          "Fumacinha",
          "Kyokat pc gameplay | benchmark",
          "Lucas gameplays brasil",
          "Cabrunco games",
          "Cityon",
          "Jogando",
          "Cogumelando videogame",
          "Patife",
          "Betospa gaming",
          "Ganso gameplay",
          "Liminhag0d",
          "Octopolis",
          "Jowgando",
          "O construtor",
          "Simularies",
          "Canal sala de jogos",
          "Irmãos cities",
          "Tiochuckz",
          "Metalbear",
          "Majestic",
          "Canal do void",
          "Barbosa cities",
          "Central",
          "Lives do chratos",
          "Chratosgameplay"
         ],
         "yaxis": "y"
        }
       ],
       "layout": {
        "barmode": "relative",
        "legend": {
         "tracegroupgap": 0
        },
        "margin": {
         "t": 60
        },
        "template": {
         "data": {
          "bar": [
           {
            "error_x": {
             "color": "#2a3f5f"
            },
            "error_y": {
             "color": "#2a3f5f"
            },
            "marker": {
             "line": {
              "color": "#E5ECF6",
              "width": 0.5
             },
             "pattern": {
              "fillmode": "overlay",
              "size": 10,
              "solidity": 0.2
             }
            },
            "type": "bar"
           }
          ],
          "barpolar": [
           {
            "marker": {
             "line": {
              "color": "#E5ECF6",
              "width": 0.5
             },
             "pattern": {
              "fillmode": "overlay",
              "size": 10,
              "solidity": 0.2
             }
            },
            "type": "barpolar"
           }
          ],
          "carpet": [
           {
            "aaxis": {
             "endlinecolor": "#2a3f5f",
             "gridcolor": "white",
             "linecolor": "white",
             "minorgridcolor": "white",
             "startlinecolor": "#2a3f5f"
            },
            "baxis": {
             "endlinecolor": "#2a3f5f",
             "gridcolor": "white",
             "linecolor": "white",
             "minorgridcolor": "white",
             "startlinecolor": "#2a3f5f"
            },
            "type": "carpet"
           }
          ],
          "choropleth": [
           {
            "colorbar": {
             "outlinewidth": 0,
             "ticks": ""
            },
            "type": "choropleth"
           }
          ],
          "contour": [
           {
            "colorbar": {
             "outlinewidth": 0,
             "ticks": ""
            },
            "colorscale": [
             [
              0,
              "#0d0887"
             ],
             [
              0.1111111111111111,
              "#46039f"
             ],
             [
              0.2222222222222222,
              "#7201a8"
             ],
             [
              0.3333333333333333,
              "#9c179e"
             ],
             [
              0.4444444444444444,
              "#bd3786"
             ],
             [
              0.5555555555555556,
              "#d8576b"
             ],
             [
              0.6666666666666666,
              "#ed7953"
             ],
             [
              0.7777777777777778,
              "#fb9f3a"
             ],
             [
              0.8888888888888888,
              "#fdca26"
             ],
             [
              1,
              "#f0f921"
             ]
            ],
            "type": "contour"
           }
          ],
          "contourcarpet": [
           {
            "colorbar": {
             "outlinewidth": 0,
             "ticks": ""
            },
            "type": "contourcarpet"
           }
          ],
          "heatmap": [
           {
            "colorbar": {
             "outlinewidth": 0,
             "ticks": ""
            },
            "colorscale": [
             [
              0,
              "#0d0887"
             ],
             [
              0.1111111111111111,
              "#46039f"
             ],
             [
              0.2222222222222222,
              "#7201a8"
             ],
             [
              0.3333333333333333,
              "#9c179e"
             ],
             [
              0.4444444444444444,
              "#bd3786"
             ],
             [
              0.5555555555555556,
              "#d8576b"
             ],
             [
              0.6666666666666666,
              "#ed7953"
             ],
             [
              0.7777777777777778,
              "#fb9f3a"
             ],
             [
              0.8888888888888888,
              "#fdca26"
             ],
             [
              1,
              "#f0f921"
             ]
            ],
            "type": "heatmap"
           }
          ],
          "heatmapgl": [
           {
            "colorbar": {
             "outlinewidth": 0,
             "ticks": ""
            },
            "colorscale": [
             [
              0,
              "#0d0887"
             ],
             [
              0.1111111111111111,
              "#46039f"
             ],
             [
              0.2222222222222222,
              "#7201a8"
             ],
             [
              0.3333333333333333,
              "#9c179e"
             ],
             [
              0.4444444444444444,
              "#bd3786"
             ],
             [
              0.5555555555555556,
              "#d8576b"
             ],
             [
              0.6666666666666666,
              "#ed7953"
             ],
             [
              0.7777777777777778,
              "#fb9f3a"
             ],
             [
              0.8888888888888888,
              "#fdca26"
             ],
             [
              1,
              "#f0f921"
             ]
            ],
            "type": "heatmapgl"
           }
          ],
          "histogram": [
           {
            "marker": {
             "pattern": {
              "fillmode": "overlay",
              "size": 10,
              "solidity": 0.2
             }
            },
            "type": "histogram"
           }
          ],
          "histogram2d": [
           {
            "colorbar": {
             "outlinewidth": 0,
             "ticks": ""
            },
            "colorscale": [
             [
              0,
              "#0d0887"
             ],
             [
              0.1111111111111111,
              "#46039f"
             ],
             [
              0.2222222222222222,
              "#7201a8"
             ],
             [
              0.3333333333333333,
              "#9c179e"
             ],
             [
              0.4444444444444444,
              "#bd3786"
             ],
             [
              0.5555555555555556,
              "#d8576b"
             ],
             [
              0.6666666666666666,
              "#ed7953"
             ],
             [
              0.7777777777777778,
              "#fb9f3a"
             ],
             [
              0.8888888888888888,
              "#fdca26"
             ],
             [
              1,
              "#f0f921"
             ]
            ],
            "type": "histogram2d"
           }
          ],
          "histogram2dcontour": [
           {
            "colorbar": {
             "outlinewidth": 0,
             "ticks": ""
            },
            "colorscale": [
             [
              0,
              "#0d0887"
             ],
             [
              0.1111111111111111,
              "#46039f"
             ],
             [
              0.2222222222222222,
              "#7201a8"
             ],
             [
              0.3333333333333333,
              "#9c179e"
             ],
             [
              0.4444444444444444,
              "#bd3786"
             ],
             [
              0.5555555555555556,
              "#d8576b"
             ],
             [
              0.6666666666666666,
              "#ed7953"
             ],
             [
              0.7777777777777778,
              "#fb9f3a"
             ],
             [
              0.8888888888888888,
              "#fdca26"
             ],
             [
              1,
              "#f0f921"
             ]
            ],
            "type": "histogram2dcontour"
           }
          ],
          "mesh3d": [
           {
            "colorbar": {
             "outlinewidth": 0,
             "ticks": ""
            },
            "type": "mesh3d"
           }
          ],
          "parcoords": [
           {
            "line": {
             "colorbar": {
              "outlinewidth": 0,
              "ticks": ""
             }
            },
            "type": "parcoords"
           }
          ],
          "pie": [
           {
            "automargin": true,
            "type": "pie"
           }
          ],
          "scatter": [
           {
            "fillpattern": {
             "fillmode": "overlay",
             "size": 10,
             "solidity": 0.2
            },
            "type": "scatter"
           }
          ],
          "scatter3d": [
           {
            "line": {
             "colorbar": {
              "outlinewidth": 0,
              "ticks": ""
             }
            },
            "marker": {
             "colorbar": {
              "outlinewidth": 0,
              "ticks": ""
             }
            },
            "type": "scatter3d"
           }
          ],
          "scattercarpet": [
           {
            "marker": {
             "colorbar": {
              "outlinewidth": 0,
              "ticks": ""
             }
            },
            "type": "scattercarpet"
           }
          ],
          "scattergeo": [
           {
            "marker": {
             "colorbar": {
              "outlinewidth": 0,
              "ticks": ""
             }
            },
            "type": "scattergeo"
           }
          ],
          "scattergl": [
           {
            "marker": {
             "colorbar": {
              "outlinewidth": 0,
              "ticks": ""
             }
            },
            "type": "scattergl"
           }
          ],
          "scattermapbox": [
           {
            "marker": {
             "colorbar": {
              "outlinewidth": 0,
              "ticks": ""
             }
            },
            "type": "scattermapbox"
           }
          ],
          "scatterpolar": [
           {
            "marker": {
             "colorbar": {
              "outlinewidth": 0,
              "ticks": ""
             }
            },
            "type": "scatterpolar"
           }
          ],
          "scatterpolargl": [
           {
            "marker": {
             "colorbar": {
              "outlinewidth": 0,
              "ticks": ""
             }
            },
            "type": "scatterpolargl"
           }
          ],
          "scatterternary": [
           {
            "marker": {
             "colorbar": {
              "outlinewidth": 0,
              "ticks": ""
             }
            },
            "type": "scatterternary"
           }
          ],
          "surface": [
           {
            "colorbar": {
             "outlinewidth": 0,
             "ticks": ""
            },
            "colorscale": [
             [
              0,
              "#0d0887"
             ],
             [
              0.1111111111111111,
              "#46039f"
             ],
             [
              0.2222222222222222,
              "#7201a8"
             ],
             [
              0.3333333333333333,
              "#9c179e"
             ],
             [
              0.4444444444444444,
              "#bd3786"
             ],
             [
              0.5555555555555556,
              "#d8576b"
             ],
             [
              0.6666666666666666,
              "#ed7953"
             ],
             [
              0.7777777777777778,
              "#fb9f3a"
             ],
             [
              0.8888888888888888,
              "#fdca26"
             ],
             [
              1,
              "#f0f921"
             ]
            ],
            "type": "surface"
           }
          ],
          "table": [
           {
            "cells": {
             "fill": {
              "color": "#EBF0F8"
             },
             "line": {
              "color": "white"
             }
            },
            "header": {
             "fill": {
              "color": "#C8D4E3"
             },
             "line": {
              "color": "white"
             }
            },
            "type": "table"
           }
          ]
         },
         "layout": {
          "annotationdefaults": {
           "arrowcolor": "#2a3f5f",
           "arrowhead": 0,
           "arrowwidth": 1
          },
          "autotypenumbers": "strict",
          "coloraxis": {
           "colorbar": {
            "outlinewidth": 0,
            "ticks": ""
           }
          },
          "colorscale": {
           "diverging": [
            [
             0,
             "#8e0152"
            ],
            [
             0.1,
             "#c51b7d"
            ],
            [
             0.2,
             "#de77ae"
            ],
            [
             0.3,
             "#f1b6da"
            ],
            [
             0.4,
             "#fde0ef"
            ],
            [
             0.5,
             "#f7f7f7"
            ],
            [
             0.6,
             "#e6f5d0"
            ],
            [
             0.7,
             "#b8e186"
            ],
            [
             0.8,
             "#7fbc41"
            ],
            [
             0.9,
             "#4d9221"
            ],
            [
             1,
             "#276419"
            ]
           ],
           "sequential": [
            [
             0,
             "#0d0887"
            ],
            [
             0.1111111111111111,
             "#46039f"
            ],
            [
             0.2222222222222222,
             "#7201a8"
            ],
            [
             0.3333333333333333,
             "#9c179e"
            ],
            [
             0.4444444444444444,
             "#bd3786"
            ],
            [
             0.5555555555555556,
             "#d8576b"
            ],
            [
             0.6666666666666666,
             "#ed7953"
            ],
            [
             0.7777777777777778,
             "#fb9f3a"
            ],
            [
             0.8888888888888888,
             "#fdca26"
            ],
            [
             1,
             "#f0f921"
            ]
           ],
           "sequentialminus": [
            [
             0,
             "#0d0887"
            ],
            [
             0.1111111111111111,
             "#46039f"
            ],
            [
             0.2222222222222222,
             "#7201a8"
            ],
            [
             0.3333333333333333,
             "#9c179e"
            ],
            [
             0.4444444444444444,
             "#bd3786"
            ],
            [
             0.5555555555555556,
             "#d8576b"
            ],
            [
             0.6666666666666666,
             "#ed7953"
            ],
            [
             0.7777777777777778,
             "#fb9f3a"
            ],
            [
             0.8888888888888888,
             "#fdca26"
            ],
            [
             1,
             "#f0f921"
            ]
           ]
          },
          "colorway": [
           "#636efa",
           "#EF553B",
           "#00cc96",
           "#ab63fa",
           "#FFA15A",
           "#19d3f3",
           "#FF6692",
           "#B6E880",
           "#FF97FF",
           "#FECB52"
          ],
          "font": {
           "color": "#2a3f5f"
          },
          "geo": {
           "bgcolor": "white",
           "lakecolor": "white",
           "landcolor": "#E5ECF6",
           "showlakes": true,
           "showland": true,
           "subunitcolor": "white"
          },
          "hoverlabel": {
           "align": "left"
          },
          "hovermode": "closest",
          "mapbox": {
           "style": "light"
          },
          "paper_bgcolor": "white",
          "plot_bgcolor": "#E5ECF6",
          "polar": {
           "angularaxis": {
            "gridcolor": "white",
            "linecolor": "white",
            "ticks": ""
           },
           "bgcolor": "#E5ECF6",
           "radialaxis": {
            "gridcolor": "white",
            "linecolor": "white",
            "ticks": ""
           }
          },
          "scene": {
           "xaxis": {
            "backgroundcolor": "#E5ECF6",
            "gridcolor": "white",
            "gridwidth": 2,
            "linecolor": "white",
            "showbackground": true,
            "ticks": "",
            "zerolinecolor": "white"
           },
           "yaxis": {
            "backgroundcolor": "#E5ECF6",
            "gridcolor": "white",
            "gridwidth": 2,
            "linecolor": "white",
            "showbackground": true,
            "ticks": "",
            "zerolinecolor": "white"
           },
           "zaxis": {
            "backgroundcolor": "#E5ECF6",
            "gridcolor": "white",
            "gridwidth": 2,
            "linecolor": "white",
            "showbackground": true,
            "ticks": "",
            "zerolinecolor": "white"
           }
          },
          "shapedefaults": {
           "line": {
            "color": "#2a3f5f"
           }
          },
          "ternary": {
           "aaxis": {
            "gridcolor": "white",
            "linecolor": "white",
            "ticks": ""
           },
           "baxis": {
            "gridcolor": "white",
            "linecolor": "white",
            "ticks": ""
           },
           "bgcolor": "#E5ECF6",
           "caxis": {
            "gridcolor": "white",
            "linecolor": "white",
            "ticks": ""
           }
          },
          "title": {
           "x": 0.05
          },
          "xaxis": {
           "automargin": true,
           "gridcolor": "white",
           "linecolor": "white",
           "ticks": "",
           "title": {
            "standoff": 15
           },
           "zerolinecolor": "white",
           "zerolinewidth": 2
          },
          "yaxis": {
           "automargin": true,
           "gridcolor": "white",
           "linecolor": "white",
           "ticks": "",
           "title": {
            "standoff": 15
           },
           "zerolinecolor": "white",
           "zerolinewidth": 2
          }
         }
        },
        "xaxis": {
         "anchor": "y",
         "domain": [
          0,
          1
         ],
         "title": {
          "text": "sum(TOTAL_VISUALIZACOES_DIA)"
         }
        },
        "yaxis": {
         "anchor": "x",
         "domain": [
          0,
          1
         ],
         "title": {
          "text": "NM_CANAL"
         }
        }
       }
      }
     },
     "metadata": {},
     "output_type": "display_data"
    }
   ],
   "source": [
    "df_views_canal = spark.sql(\n",
    "    ' SELECT NM_CANAL, sum(TOTAL_VISUALIZACOES_DIA)  '\n",
    "    ' FROM  METRICAS_VIDEO '\n",
    "    ' WHERE  data_extracao = \"2023-10-27\"  AND TOTAL_VISUALIZACOES_DIA > 0 '\n",
    "    ' GROUP BY NM_CANAL '\n",
    "    ' ORDER BY 2 '\n",
    ").toPandas()\n",
    "df_views_canal['NM_CANAL'] = df_views_canal['NM_CANAL'].apply(lambda x: x.capitalize())\n",
    "\n",
    "df_views_canal.head()\n",
    "fig = px.bar(df_views_canal, x='sum(TOTAL_VISUALIZACOES_DIA)', y='NM_CANAL', orientation='h', text_auto=True)\n",
    "fig.show() "
   ]
  },
  {
   "cell_type": "markdown",
   "metadata": {},
   "source": [
    "# A duração do vídeo é importante para visualizações e interação (curtidas/comentários)?"
   ]
  },
  {
   "cell_type": "code",
   "execution_count": 24,
   "metadata": {},
   "outputs": [
    {
     "data": {
      "text/html": [
       "<div>\n",
       "<style scoped>\n",
       "    .dataframe tbody tr th:only-of-type {\n",
       "        vertical-align: middle;\n",
       "    }\n",
       "\n",
       "    .dataframe tbody tr th {\n",
       "        vertical-align: top;\n",
       "    }\n",
       "\n",
       "    .dataframe thead th {\n",
       "        text-align: right;\n",
       "    }\n",
       "</style>\n",
       "<table border=\"1\" class=\"dataframe\">\n",
       "  <thead>\n",
       "    <tr style=\"text-align: right;\">\n",
       "      <th></th>\n",
       "      <th>DURACAO_VIDEO_MINUTOS</th>\n",
       "      <th>TOTAL_COMENTARIOS</th>\n",
       "      <th>TOTAL_LIKES</th>\n",
       "      <th>TOTAL_VISUALIZACOES</th>\n",
       "    </tr>\n",
       "  </thead>\n",
       "  <tbody>\n",
       "    <tr>\n",
       "      <th>0</th>\n",
       "      <td>0.000000</td>\n",
       "      <td>0</td>\n",
       "      <td>50</td>\n",
       "      <td>0</td>\n",
       "    </tr>\n",
       "    <tr>\n",
       "      <th>1</th>\n",
       "      <td>26.879999</td>\n",
       "      <td>220</td>\n",
       "      <td>5600</td>\n",
       "      <td>42650</td>\n",
       "    </tr>\n",
       "    <tr>\n",
       "      <th>2</th>\n",
       "      <td>25.670000</td>\n",
       "      <td>213</td>\n",
       "      <td>6855</td>\n",
       "      <td>54375</td>\n",
       "    </tr>\n",
       "    <tr>\n",
       "      <th>3</th>\n",
       "      <td>28.430000</td>\n",
       "      <td>124</td>\n",
       "      <td>6448</td>\n",
       "      <td>50789</td>\n",
       "    </tr>\n",
       "    <tr>\n",
       "      <th>4</th>\n",
       "      <td>32.279999</td>\n",
       "      <td>180</td>\n",
       "      <td>5046</td>\n",
       "      <td>39265</td>\n",
       "    </tr>\n",
       "  </tbody>\n",
       "</table>\n",
       "</div>"
      ],
      "text/plain": [
       "   DURACAO_VIDEO_MINUTOS  TOTAL_COMENTARIOS  TOTAL_LIKES  TOTAL_VISUALIZACOES\n",
       "0               0.000000                  0           50                    0\n",
       "1              26.879999                220         5600                42650\n",
       "2              25.670000                213         6855                54375\n",
       "3              28.430000                124         6448                50789\n",
       "4              32.279999                180         5046                39265"
      ]
     },
     "execution_count": 24,
     "metadata": {},
     "output_type": "execute_result"
    }
   ],
   "source": [
    "df_duracao_video = spark.sql(\n",
    "    ' SELECT DURACAO_VIDEO_MINUTOS, TOTAL_COMENTARIOS, TOTAL_LIKES, TOTAL_VISUALIZACOES'\n",
    "    ' FROM METRICAS_VIDEO '\n",
    "    ' WHERE ID_CANAL IN (\"UCrOH1V-FyMunBIMrKL0y0xQ\") '\n",
    "    ).toPandas()\n",
    "df_duracao_video.head()"
   ]
  },
  {
   "cell_type": "code",
   "execution_count": 25,
   "metadata": {},
   "outputs": [
    {
     "data": {
      "application/vnd.plotly.v1+json": {
       "config": {
        "plotlyServerURL": "https://plot.ly"
       },
       "data": [
        {
         "hovertemplate": "DURACAO_VIDEO_MINUTOS=%{x}<br>TOTAL_LIKES=%{y}<extra></extra>",
         "legendgroup": "",
         "marker": {
          "color": "#636efa",
          "symbol": "circle"
         },
         "mode": "markers",
         "name": "",
         "orientation": "v",
         "showlegend": false,
         "type": "scatter",
         "x": [
          0,
          26.8799991607666,
          25.670000076293945,
          28.43000030517578,
          32.279998779296875,
          29.1299991607666,
          0,
          23.25,
          25.219999313354492,
          0,
          31.920000076293945,
          42.43000030517578,
          22.950000762939453,
          19.6299991607666,
          19.020000457763672,
          26.31999969482422,
          16.780000686645508,
          34.04999923706055,
          0,
          26.8799991607666,
          25.670000076293945,
          28.43000030517578,
          32.279998779296875,
          29.1299991607666,
          0,
          23.25,
          25.219999313354492,
          0,
          31.920000076293945,
          42.43000030517578,
          22.950000762939453,
          19.6299991607666,
          19.020000457763672,
          16.780000686645508,
          34.04999923706055,
          0,
          26.8799991607666,
          25.670000076293945,
          28.43000030517578,
          29.1299991607666,
          0,
          23.25,
          25.219999313354492,
          0,
          31.920000076293945,
          42.43000030517578,
          22.950000762939453,
          19.6299991607666,
          19.020000457763672,
          16.780000686645508,
          34.04999923706055,
          0,
          25.670000076293945,
          28.43000030517578,
          29.1299991607666,
          0,
          23.25,
          25.219999313354492,
          0,
          31.920000076293945,
          42.43000030517578,
          22.950000762939453,
          19.6299991607666,
          16.780000686645508,
          34.04999923706055,
          0,
          25.670000076293945,
          28.43000030517578,
          23.25,
          25.219999313354492,
          0,
          31.920000076293945,
          42.43000030517578,
          22.950000762939453,
          19.6299991607666,
          16.780000686645508,
          34.04999923706055,
          0,
          25.670000076293945,
          23.25,
          25.219999313354492,
          0,
          31.920000076293945,
          42.43000030517578,
          22.950000762939453,
          19.6299991607666,
          16.780000686645508,
          34.04999923706055,
          0,
          23.25,
          25.219999313354492,
          0,
          31.920000076293945,
          42.43000030517578,
          22.950000762939453,
          19.6299991607666,
          34.04999923706055,
          0,
          23.25,
          25.219999313354492,
          0,
          31.920000076293945,
          42.43000030517578,
          19.6299991607666,
          34.04999923706055,
          23.25,
          25.219999313354492,
          0,
          42.43000030517578,
          19.6299991607666,
          34.04999923706055,
          23.25,
          25.219999313354492,
          23.25
         ],
         "xaxis": "x",
         "y": [
          50,
          5600,
          6855,
          6448,
          5046,
          6330,
          51,
          1078,
          2418,
          149,
          8978,
          3382,
          7321,
          13988,
          1368,
          2753,
          1950,
          2441,
          50,
          5317,
          6707,
          6283,
          4043,
          6159,
          51,
          1076,
          2404,
          149,
          8839,
          3321,
          7165,
          13784,
          1268,
          1918,
          2433,
          50,
          4102,
          6510,
          6023,
          5771,
          52,
          1076,
          2400,
          149,
          8625,
          3261,
          6985,
          13460,
          633,
          1856,
          2403,
          50,
          6192,
          5606,
          4416,
          49,
          1072,
          2392,
          149,
          8346,
          3202,
          6725,
          13033,
          1756,
          2383,
          50,
          5726,
          4282,
          1070,
          2376,
          149,
          7997,
          3130,
          6364,
          12605,
          1601,
          2356,
          50,
          4137,
          1063,
          2351,
          149,
          7460,
          3040,
          5652,
          12013,
          739,
          2316,
          49,
          1060,
          2344,
          149,
          6610,
          2930,
          3992,
          10993,
          2271,
          8,
          1049,
          2316,
          146,
          3306,
          2770,
          8899,
          2206,
          1036,
          2293,
          86,
          2604,
          4955,
          2141,
          923,
          1517,
          687
         ],
         "yaxis": "y"
        },
        {
         "hovertemplate": "DURACAO_VIDEO_MINUTOS=%{x}<br>TOTAL_COMENTARIOS=%{y}<extra></extra>",
         "legendgroup": "",
         "marker": {
          "color": "#636efa",
          "symbol": "circle"
         },
         "mode": "markers",
         "name": "",
         "orientation": "v",
         "showlegend": false,
         "type": "scatter",
         "x": [
          0,
          26.8799991607666,
          25.670000076293945,
          28.43000030517578,
          32.279998779296875,
          29.1299991607666,
          0,
          23.25,
          25.219999313354492,
          0,
          31.920000076293945,
          42.43000030517578,
          22.950000762939453,
          19.6299991607666,
          19.020000457763672,
          26.31999969482422,
          16.780000686645508,
          34.04999923706055,
          0,
          26.8799991607666,
          25.670000076293945,
          28.43000030517578,
          32.279998779296875,
          29.1299991607666,
          0,
          23.25,
          25.219999313354492,
          0,
          31.920000076293945,
          42.43000030517578,
          22.950000762939453,
          19.6299991607666,
          19.020000457763672,
          16.780000686645508,
          34.04999923706055,
          0,
          26.8799991607666,
          25.670000076293945,
          28.43000030517578,
          29.1299991607666,
          0,
          23.25,
          25.219999313354492,
          0,
          31.920000076293945,
          42.43000030517578,
          22.950000762939453,
          19.6299991607666,
          19.020000457763672,
          16.780000686645508,
          34.04999923706055,
          0,
          25.670000076293945,
          28.43000030517578,
          29.1299991607666,
          0,
          23.25,
          25.219999313354492,
          0,
          31.920000076293945,
          42.43000030517578,
          22.950000762939453,
          19.6299991607666,
          16.780000686645508,
          34.04999923706055,
          0,
          25.670000076293945,
          28.43000030517578,
          23.25,
          25.219999313354492,
          0,
          31.920000076293945,
          42.43000030517578,
          22.950000762939453,
          19.6299991607666,
          16.780000686645508,
          34.04999923706055,
          0,
          25.670000076293945,
          23.25,
          25.219999313354492,
          0,
          31.920000076293945,
          42.43000030517578,
          22.950000762939453,
          19.6299991607666,
          16.780000686645508,
          34.04999923706055,
          0,
          23.25,
          25.219999313354492,
          0,
          31.920000076293945,
          42.43000030517578,
          22.950000762939453,
          19.6299991607666,
          34.04999923706055,
          0,
          23.25,
          25.219999313354492,
          0,
          31.920000076293945,
          42.43000030517578,
          19.6299991607666,
          34.04999923706055,
          23.25,
          25.219999313354492,
          0,
          42.43000030517578,
          19.6299991607666,
          34.04999923706055,
          23.25,
          25.219999313354492,
          23.25
         ],
         "xaxis": "x2",
         "y": [
          0,
          220,
          213,
          124,
          180,
          157,
          0,
          33,
          79,
          0,
          188,
          111,
          201,
          418,
          54,
          139,
          63,
          40,
          0,
          215,
          213,
          124,
          143,
          155,
          0,
          33,
          79,
          0,
          186,
          110,
          200,
          416,
          51,
          62,
          40,
          0,
          179,
          212,
          124,
          155,
          0,
          33,
          79,
          0,
          186,
          107,
          199,
          414,
          30,
          60,
          40,
          0,
          210,
          119,
          126,
          0,
          33,
          79,
          0,
          185,
          105,
          195,
          408,
          54,
          41,
          0,
          201,
          106,
          33,
          79,
          0,
          181,
          105,
          193,
          403,
          51,
          41,
          0,
          156,
          33,
          79,
          0,
          180,
          105,
          178,
          401,
          27,
          41,
          0,
          33,
          78,
          0,
          176,
          104,
          127,
          396,
          41,
          0,
          33,
          77,
          0,
          112,
          99,
          369,
          40,
          32,
          78,
          0,
          94,
          183,
          40,
          29,
          55,
          23
         ],
         "yaxis": "y2"
        },
        {
         "hovertemplate": "DURACAO_VIDEO_MINUTOS=%{x}<br>TOTAL_VISUALIZACOES=%{y}<extra></extra>",
         "legendgroup": "",
         "marker": {
          "color": "#636efa",
          "symbol": "circle"
         },
         "mode": "markers",
         "name": "",
         "orientation": "v",
         "showlegend": false,
         "type": "scatter",
         "x": [
          0,
          26.8799991607666,
          25.670000076293945,
          28.43000030517578,
          32.279998779296875,
          29.1299991607666,
          0,
          23.25,
          25.219999313354492,
          0,
          31.920000076293945,
          42.43000030517578,
          22.950000762939453,
          19.6299991607666,
          19.020000457763672,
          26.31999969482422,
          16.780000686645508,
          34.04999923706055,
          0,
          26.8799991607666,
          25.670000076293945,
          28.43000030517578,
          32.279998779296875,
          29.1299991607666,
          0,
          23.25,
          25.219999313354492,
          0,
          31.920000076293945,
          42.43000030517578,
          22.950000762939453,
          19.6299991607666,
          19.020000457763672,
          16.780000686645508,
          34.04999923706055,
          0,
          26.8799991607666,
          25.670000076293945,
          28.43000030517578,
          29.1299991607666,
          0,
          23.25,
          25.219999313354492,
          0,
          31.920000076293945,
          42.43000030517578,
          22.950000762939453,
          19.6299991607666,
          19.020000457763672,
          16.780000686645508,
          34.04999923706055,
          0,
          25.670000076293945,
          28.43000030517578,
          29.1299991607666,
          0,
          23.25,
          25.219999313354492,
          0,
          31.920000076293945,
          42.43000030517578,
          22.950000762939453,
          19.6299991607666,
          16.780000686645508,
          34.04999923706055,
          0,
          25.670000076293945,
          28.43000030517578,
          23.25,
          25.219999313354492,
          0,
          31.920000076293945,
          42.43000030517578,
          22.950000762939453,
          19.6299991607666,
          16.780000686645508,
          34.04999923706055,
          0,
          25.670000076293945,
          23.25,
          25.219999313354492,
          0,
          31.920000076293945,
          42.43000030517578,
          22.950000762939453,
          19.6299991607666,
          16.780000686645508,
          34.04999923706055,
          0,
          23.25,
          25.219999313354492,
          0,
          31.920000076293945,
          42.43000030517578,
          22.950000762939453,
          19.6299991607666,
          34.04999923706055,
          0,
          23.25,
          25.219999313354492,
          0,
          31.920000076293945,
          42.43000030517578,
          19.6299991607666,
          34.04999923706055,
          23.25,
          25.219999313354492,
          0,
          42.43000030517578,
          19.6299991607666,
          34.04999923706055,
          23.25,
          25.219999313354492,
          23.25
         ],
         "xaxis": "x3",
         "y": [
          0,
          42650,
          54375,
          50789,
          39265,
          50480,
          0,
          9540,
          18599,
          0,
          71357,
          33628,
          60786,
          120812,
          18620,
          15805,
          19942,
          24021,
          0,
          39393,
          52814,
          48936,
          25546,
          48453,
          0,
          9521,
          18430,
          0,
          69468,
          32382,
          59218,
          117375,
          16232,
          19507,
          23697,
          0,
          24904,
          50535,
          46106,
          44415,
          0,
          9488,
          18197,
          0,
          66655,
          31140,
          57019,
          111842,
          4298,
          18699,
          23317,
          0,
          47320,
          41868,
          27606,
          0,
          9451,
          18004,
          0,
          63099,
          29858,
          54002,
          104409,
          17338,
          22921,
          0,
          42611,
          25707,
          9404,
          17777,
          0,
          59038,
          28387,
          50017,
          97039,
          14438,
          22431,
          0,
          25216,
          9351,
          17489,
          0,
          53307,
          26784,
          42500,
          88838,
          4266,
          21618,
          0,
          9263,
          17245,
          0,
          44930,
          24837,
          24631,
          76038,
          20827,
          0,
          9112,
          16805,
          0,
          12838,
          22599,
          52156,
          19597,
          8949,
          16452,
          0,
          20325,
          17961,
          18470,
          7399,
          7914,
          4562
         ],
         "yaxis": "y3"
        }
       ],
       "layout": {
        "annotations": [
         {
          "font": {
           "size": 16
          },
          "showarrow": false,
          "text": "DURACAO_VIDEO_MINUTOS X TOTAL_LIKES",
          "x": 0.14444444444444446,
          "xanchor": "center",
          "xref": "paper",
          "y": 1,
          "yanchor": "bottom",
          "yref": "paper"
         },
         {
          "font": {
           "size": 16
          },
          "showarrow": false,
          "text": "DURACAO_VIDEO_MINUTOS X TOTAL_COMENTARIOS",
          "x": 0.5,
          "xanchor": "center",
          "xref": "paper",
          "y": 1,
          "yanchor": "bottom",
          "yref": "paper"
         },
         {
          "font": {
           "size": 16
          },
          "showarrow": false,
          "text": "DURACAO_VIDEO_MINUTOS X TOTAL_VISUALIZACOES",
          "x": 0.8555555555555556,
          "xanchor": "center",
          "xref": "paper",
          "y": 1,
          "yanchor": "bottom",
          "yref": "paper"
         }
        ],
        "showlegend": true,
        "template": {
         "data": {
          "bar": [
           {
            "error_x": {
             "color": "#2a3f5f"
            },
            "error_y": {
             "color": "#2a3f5f"
            },
            "marker": {
             "line": {
              "color": "#E5ECF6",
              "width": 0.5
             },
             "pattern": {
              "fillmode": "overlay",
              "size": 10,
              "solidity": 0.2
             }
            },
            "type": "bar"
           }
          ],
          "barpolar": [
           {
            "marker": {
             "line": {
              "color": "#E5ECF6",
              "width": 0.5
             },
             "pattern": {
              "fillmode": "overlay",
              "size": 10,
              "solidity": 0.2
             }
            },
            "type": "barpolar"
           }
          ],
          "carpet": [
           {
            "aaxis": {
             "endlinecolor": "#2a3f5f",
             "gridcolor": "white",
             "linecolor": "white",
             "minorgridcolor": "white",
             "startlinecolor": "#2a3f5f"
            },
            "baxis": {
             "endlinecolor": "#2a3f5f",
             "gridcolor": "white",
             "linecolor": "white",
             "minorgridcolor": "white",
             "startlinecolor": "#2a3f5f"
            },
            "type": "carpet"
           }
          ],
          "choropleth": [
           {
            "colorbar": {
             "outlinewidth": 0,
             "ticks": ""
            },
            "type": "choropleth"
           }
          ],
          "contour": [
           {
            "colorbar": {
             "outlinewidth": 0,
             "ticks": ""
            },
            "colorscale": [
             [
              0,
              "#0d0887"
             ],
             [
              0.1111111111111111,
              "#46039f"
             ],
             [
              0.2222222222222222,
              "#7201a8"
             ],
             [
              0.3333333333333333,
              "#9c179e"
             ],
             [
              0.4444444444444444,
              "#bd3786"
             ],
             [
              0.5555555555555556,
              "#d8576b"
             ],
             [
              0.6666666666666666,
              "#ed7953"
             ],
             [
              0.7777777777777778,
              "#fb9f3a"
             ],
             [
              0.8888888888888888,
              "#fdca26"
             ],
             [
              1,
              "#f0f921"
             ]
            ],
            "type": "contour"
           }
          ],
          "contourcarpet": [
           {
            "colorbar": {
             "outlinewidth": 0,
             "ticks": ""
            },
            "type": "contourcarpet"
           }
          ],
          "heatmap": [
           {
            "colorbar": {
             "outlinewidth": 0,
             "ticks": ""
            },
            "colorscale": [
             [
              0,
              "#0d0887"
             ],
             [
              0.1111111111111111,
              "#46039f"
             ],
             [
              0.2222222222222222,
              "#7201a8"
             ],
             [
              0.3333333333333333,
              "#9c179e"
             ],
             [
              0.4444444444444444,
              "#bd3786"
             ],
             [
              0.5555555555555556,
              "#d8576b"
             ],
             [
              0.6666666666666666,
              "#ed7953"
             ],
             [
              0.7777777777777778,
              "#fb9f3a"
             ],
             [
              0.8888888888888888,
              "#fdca26"
             ],
             [
              1,
              "#f0f921"
             ]
            ],
            "type": "heatmap"
           }
          ],
          "heatmapgl": [
           {
            "colorbar": {
             "outlinewidth": 0,
             "ticks": ""
            },
            "colorscale": [
             [
              0,
              "#0d0887"
             ],
             [
              0.1111111111111111,
              "#46039f"
             ],
             [
              0.2222222222222222,
              "#7201a8"
             ],
             [
              0.3333333333333333,
              "#9c179e"
             ],
             [
              0.4444444444444444,
              "#bd3786"
             ],
             [
              0.5555555555555556,
              "#d8576b"
             ],
             [
              0.6666666666666666,
              "#ed7953"
             ],
             [
              0.7777777777777778,
              "#fb9f3a"
             ],
             [
              0.8888888888888888,
              "#fdca26"
             ],
             [
              1,
              "#f0f921"
             ]
            ],
            "type": "heatmapgl"
           }
          ],
          "histogram": [
           {
            "marker": {
             "pattern": {
              "fillmode": "overlay",
              "size": 10,
              "solidity": 0.2
             }
            },
            "type": "histogram"
           }
          ],
          "histogram2d": [
           {
            "colorbar": {
             "outlinewidth": 0,
             "ticks": ""
            },
            "colorscale": [
             [
              0,
              "#0d0887"
             ],
             [
              0.1111111111111111,
              "#46039f"
             ],
             [
              0.2222222222222222,
              "#7201a8"
             ],
             [
              0.3333333333333333,
              "#9c179e"
             ],
             [
              0.4444444444444444,
              "#bd3786"
             ],
             [
              0.5555555555555556,
              "#d8576b"
             ],
             [
              0.6666666666666666,
              "#ed7953"
             ],
             [
              0.7777777777777778,
              "#fb9f3a"
             ],
             [
              0.8888888888888888,
              "#fdca26"
             ],
             [
              1,
              "#f0f921"
             ]
            ],
            "type": "histogram2d"
           }
          ],
          "histogram2dcontour": [
           {
            "colorbar": {
             "outlinewidth": 0,
             "ticks": ""
            },
            "colorscale": [
             [
              0,
              "#0d0887"
             ],
             [
              0.1111111111111111,
              "#46039f"
             ],
             [
              0.2222222222222222,
              "#7201a8"
             ],
             [
              0.3333333333333333,
              "#9c179e"
             ],
             [
              0.4444444444444444,
              "#bd3786"
             ],
             [
              0.5555555555555556,
              "#d8576b"
             ],
             [
              0.6666666666666666,
              "#ed7953"
             ],
             [
              0.7777777777777778,
              "#fb9f3a"
             ],
             [
              0.8888888888888888,
              "#fdca26"
             ],
             [
              1,
              "#f0f921"
             ]
            ],
            "type": "histogram2dcontour"
           }
          ],
          "mesh3d": [
           {
            "colorbar": {
             "outlinewidth": 0,
             "ticks": ""
            },
            "type": "mesh3d"
           }
          ],
          "parcoords": [
           {
            "line": {
             "colorbar": {
              "outlinewidth": 0,
              "ticks": ""
             }
            },
            "type": "parcoords"
           }
          ],
          "pie": [
           {
            "automargin": true,
            "type": "pie"
           }
          ],
          "scatter": [
           {
            "fillpattern": {
             "fillmode": "overlay",
             "size": 10,
             "solidity": 0.2
            },
            "type": "scatter"
           }
          ],
          "scatter3d": [
           {
            "line": {
             "colorbar": {
              "outlinewidth": 0,
              "ticks": ""
             }
            },
            "marker": {
             "colorbar": {
              "outlinewidth": 0,
              "ticks": ""
             }
            },
            "type": "scatter3d"
           }
          ],
          "scattercarpet": [
           {
            "marker": {
             "colorbar": {
              "outlinewidth": 0,
              "ticks": ""
             }
            },
            "type": "scattercarpet"
           }
          ],
          "scattergeo": [
           {
            "marker": {
             "colorbar": {
              "outlinewidth": 0,
              "ticks": ""
             }
            },
            "type": "scattergeo"
           }
          ],
          "scattergl": [
           {
            "marker": {
             "colorbar": {
              "outlinewidth": 0,
              "ticks": ""
             }
            },
            "type": "scattergl"
           }
          ],
          "scattermapbox": [
           {
            "marker": {
             "colorbar": {
              "outlinewidth": 0,
              "ticks": ""
             }
            },
            "type": "scattermapbox"
           }
          ],
          "scatterpolar": [
           {
            "marker": {
             "colorbar": {
              "outlinewidth": 0,
              "ticks": ""
             }
            },
            "type": "scatterpolar"
           }
          ],
          "scatterpolargl": [
           {
            "marker": {
             "colorbar": {
              "outlinewidth": 0,
              "ticks": ""
             }
            },
            "type": "scatterpolargl"
           }
          ],
          "scatterternary": [
           {
            "marker": {
             "colorbar": {
              "outlinewidth": 0,
              "ticks": ""
             }
            },
            "type": "scatterternary"
           }
          ],
          "surface": [
           {
            "colorbar": {
             "outlinewidth": 0,
             "ticks": ""
            },
            "colorscale": [
             [
              0,
              "#0d0887"
             ],
             [
              0.1111111111111111,
              "#46039f"
             ],
             [
              0.2222222222222222,
              "#7201a8"
             ],
             [
              0.3333333333333333,
              "#9c179e"
             ],
             [
              0.4444444444444444,
              "#bd3786"
             ],
             [
              0.5555555555555556,
              "#d8576b"
             ],
             [
              0.6666666666666666,
              "#ed7953"
             ],
             [
              0.7777777777777778,
              "#fb9f3a"
             ],
             [
              0.8888888888888888,
              "#fdca26"
             ],
             [
              1,
              "#f0f921"
             ]
            ],
            "type": "surface"
           }
          ],
          "table": [
           {
            "cells": {
             "fill": {
              "color": "#EBF0F8"
             },
             "line": {
              "color": "white"
             }
            },
            "header": {
             "fill": {
              "color": "#C8D4E3"
             },
             "line": {
              "color": "white"
             }
            },
            "type": "table"
           }
          ]
         },
         "layout": {
          "annotationdefaults": {
           "arrowcolor": "#2a3f5f",
           "arrowhead": 0,
           "arrowwidth": 1
          },
          "autotypenumbers": "strict",
          "coloraxis": {
           "colorbar": {
            "outlinewidth": 0,
            "ticks": ""
           }
          },
          "colorscale": {
           "diverging": [
            [
             0,
             "#8e0152"
            ],
            [
             0.1,
             "#c51b7d"
            ],
            [
             0.2,
             "#de77ae"
            ],
            [
             0.3,
             "#f1b6da"
            ],
            [
             0.4,
             "#fde0ef"
            ],
            [
             0.5,
             "#f7f7f7"
            ],
            [
             0.6,
             "#e6f5d0"
            ],
            [
             0.7,
             "#b8e186"
            ],
            [
             0.8,
             "#7fbc41"
            ],
            [
             0.9,
             "#4d9221"
            ],
            [
             1,
             "#276419"
            ]
           ],
           "sequential": [
            [
             0,
             "#0d0887"
            ],
            [
             0.1111111111111111,
             "#46039f"
            ],
            [
             0.2222222222222222,
             "#7201a8"
            ],
            [
             0.3333333333333333,
             "#9c179e"
            ],
            [
             0.4444444444444444,
             "#bd3786"
            ],
            [
             0.5555555555555556,
             "#d8576b"
            ],
            [
             0.6666666666666666,
             "#ed7953"
            ],
            [
             0.7777777777777778,
             "#fb9f3a"
            ],
            [
             0.8888888888888888,
             "#fdca26"
            ],
            [
             1,
             "#f0f921"
            ]
           ],
           "sequentialminus": [
            [
             0,
             "#0d0887"
            ],
            [
             0.1111111111111111,
             "#46039f"
            ],
            [
             0.2222222222222222,
             "#7201a8"
            ],
            [
             0.3333333333333333,
             "#9c179e"
            ],
            [
             0.4444444444444444,
             "#bd3786"
            ],
            [
             0.5555555555555556,
             "#d8576b"
            ],
            [
             0.6666666666666666,
             "#ed7953"
            ],
            [
             0.7777777777777778,
             "#fb9f3a"
            ],
            [
             0.8888888888888888,
             "#fdca26"
            ],
            [
             1,
             "#f0f921"
            ]
           ]
          },
          "colorway": [
           "#636efa",
           "#EF553B",
           "#00cc96",
           "#ab63fa",
           "#FFA15A",
           "#19d3f3",
           "#FF6692",
           "#B6E880",
           "#FF97FF",
           "#FECB52"
          ],
          "font": {
           "color": "#2a3f5f"
          },
          "geo": {
           "bgcolor": "white",
           "lakecolor": "white",
           "landcolor": "#E5ECF6",
           "showlakes": true,
           "showland": true,
           "subunitcolor": "white"
          },
          "hoverlabel": {
           "align": "left"
          },
          "hovermode": "closest",
          "mapbox": {
           "style": "light"
          },
          "paper_bgcolor": "white",
          "plot_bgcolor": "#E5ECF6",
          "polar": {
           "angularaxis": {
            "gridcolor": "white",
            "linecolor": "white",
            "ticks": ""
           },
           "bgcolor": "#E5ECF6",
           "radialaxis": {
            "gridcolor": "white",
            "linecolor": "white",
            "ticks": ""
           }
          },
          "scene": {
           "xaxis": {
            "backgroundcolor": "#E5ECF6",
            "gridcolor": "white",
            "gridwidth": 2,
            "linecolor": "white",
            "showbackground": true,
            "ticks": "",
            "zerolinecolor": "white"
           },
           "yaxis": {
            "backgroundcolor": "#E5ECF6",
            "gridcolor": "white",
            "gridwidth": 2,
            "linecolor": "white",
            "showbackground": true,
            "ticks": "",
            "zerolinecolor": "white"
           },
           "zaxis": {
            "backgroundcolor": "#E5ECF6",
            "gridcolor": "white",
            "gridwidth": 2,
            "linecolor": "white",
            "showbackground": true,
            "ticks": "",
            "zerolinecolor": "white"
           }
          },
          "shapedefaults": {
           "line": {
            "color": "#2a3f5f"
           }
          },
          "ternary": {
           "aaxis": {
            "gridcolor": "white",
            "linecolor": "white",
            "ticks": ""
           },
           "baxis": {
            "gridcolor": "white",
            "linecolor": "white",
            "ticks": ""
           },
           "bgcolor": "#E5ECF6",
           "caxis": {
            "gridcolor": "white",
            "linecolor": "white",
            "ticks": ""
           }
          },
          "title": {
           "x": 0.05
          },
          "xaxis": {
           "automargin": true,
           "gridcolor": "white",
           "linecolor": "white",
           "ticks": "",
           "title": {
            "standoff": 15
           },
           "zerolinecolor": "white",
           "zerolinewidth": 2
          },
          "yaxis": {
           "automargin": true,
           "gridcolor": "white",
           "linecolor": "white",
           "ticks": "",
           "title": {
            "standoff": 15
           },
           "zerolinecolor": "white",
           "zerolinewidth": 2
          }
         }
        },
        "title": {
         "text": "Desenpenho Canal"
        },
        "xaxis": {
         "anchor": "y",
         "domain": [
          0,
          0.2888888888888889
         ],
         "title": {
          "text": "DURACAO_VIDEO_MINUTOS"
         }
        },
        "xaxis2": {
         "anchor": "y2",
         "domain": [
          0.35555555555555557,
          0.6444444444444445
         ],
         "title": {
          "text": "DURACAO_VIDEO_MINUTOS"
         }
        },
        "xaxis3": {
         "anchor": "y3",
         "domain": [
          0.7111111111111111,
          1
         ],
         "title": {
          "text": "DURACAO_VIDEO_MINUTOS"
         }
        },
        "yaxis": {
         "anchor": "x",
         "domain": [
          0,
          1
         ],
         "title": {
          "text": "TOTAL_LIKES"
         }
        },
        "yaxis2": {
         "anchor": "x2",
         "domain": [
          0,
          1
         ],
         "title": {
          "text": "TOTAL_COMENTARIOS"
         }
        },
        "yaxis3": {
         "anchor": "x3",
         "domain": [
          0,
          1
         ],
         "title": {
          "text": "TOTAL_VISUALIZACOES"
         }
        }
       }
      }
     },
     "metadata": {},
     "output_type": "display_data"
    }
   ],
   "source": [
    "fig = make_subplots(rows=1, cols=3, subplot_titles=['DURACAO_VIDEO_MINUTOS X TOTAL_LIKES', 'DURACAO_VIDEO_MINUTOS X TOTAL_COMENTARIOS', 'DURACAO_VIDEO_MINUTOS X TOTAL_VISUALIZACOES'])\n",
    "sc1 = px.scatter(df_duracao_video, x='DURACAO_VIDEO_MINUTOS', y='TOTAL_LIKES',)\n",
    "fig.add_trace(sc1['data'][0], row=1, col=1)\n",
    "fig.update_xaxes(title_text='DURACAO_VIDEO_MINUTOS', row=1, col=1)\n",
    "fig.update_yaxes(title_text='TOTAL_LIKES', row=1, col=1)\n",
    "\n",
    "sc2 = px.scatter(df_duracao_video, x='DURACAO_VIDEO_MINUTOS', y='TOTAL_COMENTARIOS')\n",
    "fig.add_trace(sc2['data'][0], row=1, col=2)\n",
    "fig.update_xaxes(title_text='DURACAO_VIDEO_MINUTOS', row=1, col=2)\n",
    "fig.update_yaxes(title_text='TOTAL_COMENTARIOS', row=1, col=2)\n",
    "fig.update_layout(title_text='Desenpenho Canal', showlegend=True)\n",
    "\n",
    "sc3 = px.scatter(df_duracao_video, x='DURACAO_VIDEO_MINUTOS', y='TOTAL_VISUALIZACOES')\n",
    "fig.add_trace(sc3['data'][0], row=1, col=3)\n",
    "fig.update_xaxes(title_text='DURACAO_VIDEO_MINUTOS', row=1, col=3)\n",
    "fig.update_yaxes(title_text='TOTAL_VISUALIZACOES', row=1, col=3)\n",
    "fig.update_layout(title_text='Desenpenho Canal', showlegend=True)\n"
   ]
  },
  {
   "cell_type": "markdown",
   "metadata": {},
   "source": [
    "# Desepenho dos vídeos (like, comentários, vísualizações) (Faça comparação)"
   ]
  },
  {
   "cell_type": "code",
   "execution_count": 26,
   "metadata": {},
   "outputs": [
    {
     "name": "stderr",
     "output_type": "stream",
     "text": [
      "[Stage 45:=============================================>          (17 + 4) / 21]\r"
     ]
    },
    {
     "name": "stdout",
     "output_type": "stream",
     "text": [
      "+-------------+---------------+----------------------------+\n",
      "|data_extracao|       NM_CANAL|sum(TOTAL_VISUALIZACOES_DIA)|\n",
      "+-------------+---------------+----------------------------+\n",
      "|   2023-10-27|ChratosGameplay|                        2388|\n",
      "|   2023-10-25|ChratosGameplay|                        4298|\n",
      "|   2023-10-26|ChratosGameplay|                       11934|\n",
      "+-------------+---------------+----------------------------+\n",
      "\n"
     ]
    },
    {
     "name": "stderr",
     "output_type": "stream",
     "text": [
      "                                                                                \r"
     ]
    }
   ],
   "source": [
    "df_duracao_video = spark.sql(\n",
    "    ' SELECT data_extracao, NM_CANAL, SUM(TOTAL_VISUALIZACOES_DIA) '\n",
    "    ' FROM METRICAS_VIDEO '\n",
    "    ' WHERE  ID_VIDEO IN (\"xCaUzgIM6Bg\")  '\n",
    "    ' GROUP BY data_extracao, NM_CANAL '\n",
    "    ).show()"
   ]
  },
  {
   "cell_type": "code",
   "execution_count": 27,
   "metadata": {},
   "outputs": [
    {
     "name": "stderr",
     "output_type": "stream",
     "text": [
      "[Stage 48:=============================>                          (11 + 8) / 21]\r"
     ]
    },
    {
     "name": "stdout",
     "output_type": "stream",
     "text": [
      "+-------------+------------------------+--------------------------------------------------------------------------------------+-----------------------+---------------+---------------------+\n",
      "|data_extracao|ID_CANAL                |TITULO_VIDEO                                                                          |TOTAL_VISUALIZACOES_DIA|TOTAL_LIKES_DIA|TOTAL_COMENTARIOS_DIA|\n",
      "+-------------+------------------------+--------------------------------------------------------------------------------------+-----------------------+---------------+---------------------+\n",
      "|2023-10-25   |UCrOH1V-FyMunBIMrKL0y0xQ|Vias expressas/Rodovias e aneis rodoviários - Guia de planejamento - Cities Skylines 2|4298                   |633            |30                   |\n",
      "|2023-10-26   |UCrOH1V-FyMunBIMrKL0y0xQ|Vias expressas/Rodovias e aneis rodoviários - Guia de planejamento - Cities Skylines 2|11934                  |635            |21                   |\n",
      "|2023-10-27   |UCrOH1V-FyMunBIMrKL0y0xQ|Vias expressas/Rodovias e aneis rodoviários - Guia de planejamento - Cities Skylines 2|2388                   |100            |3                    |\n",
      "+-------------+------------------------+--------------------------------------------------------------------------------------+-----------------------+---------------+---------------------+\n",
      "\n"
     ]
    },
    {
     "name": "stderr",
     "output_type": "stream",
     "text": [
      "                                                                                \r"
     ]
    }
   ],
   "source": [
    "df_duracao_video = spark.sql(\n",
    "    ' SELECT data_extracao, ID_CANAL, TITULO_VIDEO, TOTAL_VISUALIZACOES_DIA, TOTAL_LIKES_DIA, TOTAL_COMENTARIOS_DIA '\n",
    "    ' FROM METRICAS_VIDEO '\n",
    "    ' WHERE  ID_VIDEO IN (\"xCaUzgIM6Bg\")  '\n",
    "    ' ORDER BY 1 '\n",
    "    ).show(truncate=False)"
   ]
  },
  {
   "cell_type": "markdown",
   "metadata": {},
   "source": [
    "# Desepenho dos Canais (like, comentários, vísualizações) Faça Comparação\n"
   ]
  },
  {
   "cell_type": "code",
   "execution_count": 28,
   "metadata": {},
   "outputs": [
    {
     "data": {
      "text/html": [
       "<div>\n",
       "<style scoped>\n",
       "    .dataframe tbody tr th:only-of-type {\n",
       "        vertical-align: middle;\n",
       "    }\n",
       "\n",
       "    .dataframe tbody tr th {\n",
       "        vertical-align: top;\n",
       "    }\n",
       "\n",
       "    .dataframe thead th {\n",
       "        text-align: right;\n",
       "    }\n",
       "</style>\n",
       "<table border=\"1\" class=\"dataframe\">\n",
       "  <thead>\n",
       "    <tr style=\"text-align: right;\">\n",
       "      <th></th>\n",
       "      <th>data_extracao</th>\n",
       "      <th>NM_CANAL</th>\n",
       "      <th>SOMA_VISUALIZACOES_DIA</th>\n",
       "      <th>SOMA_TOTAL_LIKES_DIA</th>\n",
       "      <th>SOMA_TOTAL_COMENTARIOS_DIA</th>\n",
       "    </tr>\n",
       "  </thead>\n",
       "  <tbody>\n",
       "    <tr>\n",
       "      <th>0</th>\n",
       "      <td>2023-10-15</td>\n",
       "      <td>ChratosGameplay</td>\n",
       "      <td>4562</td>\n",
       "      <td>687</td>\n",
       "      <td>23</td>\n",
       "    </tr>\n",
       "    <tr>\n",
       "      <th>1</th>\n",
       "      <td>2023-10-16</td>\n",
       "      <td>ChratosGameplay</td>\n",
       "      <td>10751</td>\n",
       "      <td>1753</td>\n",
       "      <td>61</td>\n",
       "    </tr>\n",
       "    <tr>\n",
       "      <th>2</th>\n",
       "      <td>2023-10-19</td>\n",
       "      <td>ChratosGameplay</td>\n",
       "      <td>66844</td>\n",
       "      <td>10675</td>\n",
       "      <td>343</td>\n",
       "    </tr>\n",
       "    <tr>\n",
       "      <th>3</th>\n",
       "      <td>2023-10-19</td>\n",
       "      <td>Barbosa Cities</td>\n",
       "      <td>12830</td>\n",
       "      <td>2806</td>\n",
       "      <td>168</td>\n",
       "    </tr>\n",
       "    <tr>\n",
       "      <th>4</th>\n",
       "      <td>2023-10-20</td>\n",
       "      <td>ChratosGameplay</td>\n",
       "      <td>50950</td>\n",
       "      <td>7585</td>\n",
       "      <td>421</td>\n",
       "    </tr>\n",
       "  </tbody>\n",
       "</table>\n",
       "</div>"
      ],
      "text/plain": [
       "  data_extracao         NM_CANAL  SOMA_VISUALIZACOES_DIA  \\\n",
       "0    2023-10-15  ChratosGameplay                    4562   \n",
       "1    2023-10-16  ChratosGameplay                   10751   \n",
       "2    2023-10-19  ChratosGameplay                   66844   \n",
       "3    2023-10-19   Barbosa Cities                   12830   \n",
       "4    2023-10-20  ChratosGameplay                   50950   \n",
       "\n",
       "   SOMA_TOTAL_LIKES_DIA  SOMA_TOTAL_COMENTARIOS_DIA  \n",
       "0                   687                          23  \n",
       "1                  1753                          61  \n",
       "2                 10675                         343  \n",
       "3                  2806                         168  \n",
       "4                  7585                         421  "
      ]
     },
     "execution_count": 28,
     "metadata": {},
     "output_type": "execute_result"
    }
   ],
   "source": [
    "df_duracao_video = spark.sql(\n",
    "    ' SELECT data_extracao, NM_CANAL, SUM(TOTAL_VISUALIZACOES_DIA) as SOMA_VISUALIZACOES_DIA, sum(TOTAL_LIKES_DIA) AS SOMA_TOTAL_LIKES_DIA, sum(TOTAL_COMENTARIOS_DIA) AS SOMA_TOTAL_COMENTARIOS_DIA'\n",
    "    ' FROM METRICAS_VIDEO '\n",
    "    ' WHERE  ID_CANAL IN (\"UCrOH1V-FyMunBIMrKL0y0xQ\" , \"UCe9jrI0YQ5SM6h5QRZ9FZlA\")  '\n",
    "    ' GROUP BY data_extracao, NM_CANAL '\n",
    "    ' ORDER BY 1 '\n",
    "    ).toPandas()\n",
    "\n",
    "df_duracao_video.head()"
   ]
  },
  {
   "cell_type": "code",
   "execution_count": 29,
   "metadata": {},
   "outputs": [
    {
     "data": {
      "application/vnd.plotly.v1+json": {
       "config": {
        "plotlyServerURL": "https://plot.ly"
       },
       "data": [
        {
         "alignmentgroup": "True",
         "hovertemplate": "NM_CANAL=ChratosGameplay<br>data_extracao=%{x}<br>SOMA_VISUALIZACOES_DIA=%{y}<extra></extra>",
         "legendgroup": "ChratosGameplay",
         "marker": {
          "color": "#636efa",
          "pattern": {
           "shape": ""
          }
         },
         "name": "ChratosGameplay",
         "offsetgroup": "ChratosGameplay",
         "orientation": "v",
         "showlegend": true,
         "textposition": "auto",
         "type": "bar",
         "x": [
          "2023-10-15",
          "2023-10-16",
          "2023-10-19",
          "2023-10-20",
          "2023-10-21",
          "2023-10-22",
          "2023-10-23",
          "2023-10-24",
          "2023-10-25",
          "2023-10-26",
          "2023-10-27"
         ],
         "xaxis": "x",
         "y": [
          4562,
          10751,
          66844,
          50950,
          84664,
          71598,
          77480,
          69027,
          70739,
          74357,
          49697
         ],
         "yaxis": "y"
        },
        {
         "alignmentgroup": "True",
         "hovertemplate": "NM_CANAL=Barbosa Cities<br>data_extracao=%{x}<br>SOMA_VISUALIZACOES_DIA=%{y}<extra></extra>",
         "legendgroup": "Barbosa Cities",
         "marker": {
          "color": "#EF553B",
          "pattern": {
           "shape": ""
          }
         },
         "name": "Barbosa Cities",
         "offsetgroup": "Barbosa Cities",
         "orientation": "v",
         "showlegend": true,
         "textposition": "auto",
         "type": "bar",
         "x": [
          "2023-10-19",
          "2023-10-20",
          "2023-10-21",
          "2023-10-22",
          "2023-10-23",
          "2023-10-24",
          "2023-10-25",
          "2023-10-26",
          "2023-10-27"
         ],
         "xaxis": "x",
         "y": [
          12830,
          14624,
          7755,
          14586,
          9006,
          4315,
          13308,
          8264,
          10397
         ],
         "yaxis": "y"
        }
       ],
       "layout": {
        "barmode": "group",
        "legend": {
         "title": {
          "text": "NM_CANAL"
         },
         "tracegroupgap": 0
        },
        "margin": {
         "t": 60
        },
        "template": {
         "data": {
          "bar": [
           {
            "error_x": {
             "color": "#2a3f5f"
            },
            "error_y": {
             "color": "#2a3f5f"
            },
            "marker": {
             "line": {
              "color": "#E5ECF6",
              "width": 0.5
             },
             "pattern": {
              "fillmode": "overlay",
              "size": 10,
              "solidity": 0.2
             }
            },
            "type": "bar"
           }
          ],
          "barpolar": [
           {
            "marker": {
             "line": {
              "color": "#E5ECF6",
              "width": 0.5
             },
             "pattern": {
              "fillmode": "overlay",
              "size": 10,
              "solidity": 0.2
             }
            },
            "type": "barpolar"
           }
          ],
          "carpet": [
           {
            "aaxis": {
             "endlinecolor": "#2a3f5f",
             "gridcolor": "white",
             "linecolor": "white",
             "minorgridcolor": "white",
             "startlinecolor": "#2a3f5f"
            },
            "baxis": {
             "endlinecolor": "#2a3f5f",
             "gridcolor": "white",
             "linecolor": "white",
             "minorgridcolor": "white",
             "startlinecolor": "#2a3f5f"
            },
            "type": "carpet"
           }
          ],
          "choropleth": [
           {
            "colorbar": {
             "outlinewidth": 0,
             "ticks": ""
            },
            "type": "choropleth"
           }
          ],
          "contour": [
           {
            "colorbar": {
             "outlinewidth": 0,
             "ticks": ""
            },
            "colorscale": [
             [
              0,
              "#0d0887"
             ],
             [
              0.1111111111111111,
              "#46039f"
             ],
             [
              0.2222222222222222,
              "#7201a8"
             ],
             [
              0.3333333333333333,
              "#9c179e"
             ],
             [
              0.4444444444444444,
              "#bd3786"
             ],
             [
              0.5555555555555556,
              "#d8576b"
             ],
             [
              0.6666666666666666,
              "#ed7953"
             ],
             [
              0.7777777777777778,
              "#fb9f3a"
             ],
             [
              0.8888888888888888,
              "#fdca26"
             ],
             [
              1,
              "#f0f921"
             ]
            ],
            "type": "contour"
           }
          ],
          "contourcarpet": [
           {
            "colorbar": {
             "outlinewidth": 0,
             "ticks": ""
            },
            "type": "contourcarpet"
           }
          ],
          "heatmap": [
           {
            "colorbar": {
             "outlinewidth": 0,
             "ticks": ""
            },
            "colorscale": [
             [
              0,
              "#0d0887"
             ],
             [
              0.1111111111111111,
              "#46039f"
             ],
             [
              0.2222222222222222,
              "#7201a8"
             ],
             [
              0.3333333333333333,
              "#9c179e"
             ],
             [
              0.4444444444444444,
              "#bd3786"
             ],
             [
              0.5555555555555556,
              "#d8576b"
             ],
             [
              0.6666666666666666,
              "#ed7953"
             ],
             [
              0.7777777777777778,
              "#fb9f3a"
             ],
             [
              0.8888888888888888,
              "#fdca26"
             ],
             [
              1,
              "#f0f921"
             ]
            ],
            "type": "heatmap"
           }
          ],
          "heatmapgl": [
           {
            "colorbar": {
             "outlinewidth": 0,
             "ticks": ""
            },
            "colorscale": [
             [
              0,
              "#0d0887"
             ],
             [
              0.1111111111111111,
              "#46039f"
             ],
             [
              0.2222222222222222,
              "#7201a8"
             ],
             [
              0.3333333333333333,
              "#9c179e"
             ],
             [
              0.4444444444444444,
              "#bd3786"
             ],
             [
              0.5555555555555556,
              "#d8576b"
             ],
             [
              0.6666666666666666,
              "#ed7953"
             ],
             [
              0.7777777777777778,
              "#fb9f3a"
             ],
             [
              0.8888888888888888,
              "#fdca26"
             ],
             [
              1,
              "#f0f921"
             ]
            ],
            "type": "heatmapgl"
           }
          ],
          "histogram": [
           {
            "marker": {
             "pattern": {
              "fillmode": "overlay",
              "size": 10,
              "solidity": 0.2
             }
            },
            "type": "histogram"
           }
          ],
          "histogram2d": [
           {
            "colorbar": {
             "outlinewidth": 0,
             "ticks": ""
            },
            "colorscale": [
             [
              0,
              "#0d0887"
             ],
             [
              0.1111111111111111,
              "#46039f"
             ],
             [
              0.2222222222222222,
              "#7201a8"
             ],
             [
              0.3333333333333333,
              "#9c179e"
             ],
             [
              0.4444444444444444,
              "#bd3786"
             ],
             [
              0.5555555555555556,
              "#d8576b"
             ],
             [
              0.6666666666666666,
              "#ed7953"
             ],
             [
              0.7777777777777778,
              "#fb9f3a"
             ],
             [
              0.8888888888888888,
              "#fdca26"
             ],
             [
              1,
              "#f0f921"
             ]
            ],
            "type": "histogram2d"
           }
          ],
          "histogram2dcontour": [
           {
            "colorbar": {
             "outlinewidth": 0,
             "ticks": ""
            },
            "colorscale": [
             [
              0,
              "#0d0887"
             ],
             [
              0.1111111111111111,
              "#46039f"
             ],
             [
              0.2222222222222222,
              "#7201a8"
             ],
             [
              0.3333333333333333,
              "#9c179e"
             ],
             [
              0.4444444444444444,
              "#bd3786"
             ],
             [
              0.5555555555555556,
              "#d8576b"
             ],
             [
              0.6666666666666666,
              "#ed7953"
             ],
             [
              0.7777777777777778,
              "#fb9f3a"
             ],
             [
              0.8888888888888888,
              "#fdca26"
             ],
             [
              1,
              "#f0f921"
             ]
            ],
            "type": "histogram2dcontour"
           }
          ],
          "mesh3d": [
           {
            "colorbar": {
             "outlinewidth": 0,
             "ticks": ""
            },
            "type": "mesh3d"
           }
          ],
          "parcoords": [
           {
            "line": {
             "colorbar": {
              "outlinewidth": 0,
              "ticks": ""
             }
            },
            "type": "parcoords"
           }
          ],
          "pie": [
           {
            "automargin": true,
            "type": "pie"
           }
          ],
          "scatter": [
           {
            "fillpattern": {
             "fillmode": "overlay",
             "size": 10,
             "solidity": 0.2
            },
            "type": "scatter"
           }
          ],
          "scatter3d": [
           {
            "line": {
             "colorbar": {
              "outlinewidth": 0,
              "ticks": ""
             }
            },
            "marker": {
             "colorbar": {
              "outlinewidth": 0,
              "ticks": ""
             }
            },
            "type": "scatter3d"
           }
          ],
          "scattercarpet": [
           {
            "marker": {
             "colorbar": {
              "outlinewidth": 0,
              "ticks": ""
             }
            },
            "type": "scattercarpet"
           }
          ],
          "scattergeo": [
           {
            "marker": {
             "colorbar": {
              "outlinewidth": 0,
              "ticks": ""
             }
            },
            "type": "scattergeo"
           }
          ],
          "scattergl": [
           {
            "marker": {
             "colorbar": {
              "outlinewidth": 0,
              "ticks": ""
             }
            },
            "type": "scattergl"
           }
          ],
          "scattermapbox": [
           {
            "marker": {
             "colorbar": {
              "outlinewidth": 0,
              "ticks": ""
             }
            },
            "type": "scattermapbox"
           }
          ],
          "scatterpolar": [
           {
            "marker": {
             "colorbar": {
              "outlinewidth": 0,
              "ticks": ""
             }
            },
            "type": "scatterpolar"
           }
          ],
          "scatterpolargl": [
           {
            "marker": {
             "colorbar": {
              "outlinewidth": 0,
              "ticks": ""
             }
            },
            "type": "scatterpolargl"
           }
          ],
          "scatterternary": [
           {
            "marker": {
             "colorbar": {
              "outlinewidth": 0,
              "ticks": ""
             }
            },
            "type": "scatterternary"
           }
          ],
          "surface": [
           {
            "colorbar": {
             "outlinewidth": 0,
             "ticks": ""
            },
            "colorscale": [
             [
              0,
              "#0d0887"
             ],
             [
              0.1111111111111111,
              "#46039f"
             ],
             [
              0.2222222222222222,
              "#7201a8"
             ],
             [
              0.3333333333333333,
              "#9c179e"
             ],
             [
              0.4444444444444444,
              "#bd3786"
             ],
             [
              0.5555555555555556,
              "#d8576b"
             ],
             [
              0.6666666666666666,
              "#ed7953"
             ],
             [
              0.7777777777777778,
              "#fb9f3a"
             ],
             [
              0.8888888888888888,
              "#fdca26"
             ],
             [
              1,
              "#f0f921"
             ]
            ],
            "type": "surface"
           }
          ],
          "table": [
           {
            "cells": {
             "fill": {
              "color": "#EBF0F8"
             },
             "line": {
              "color": "white"
             }
            },
            "header": {
             "fill": {
              "color": "#C8D4E3"
             },
             "line": {
              "color": "white"
             }
            },
            "type": "table"
           }
          ]
         },
         "layout": {
          "annotationdefaults": {
           "arrowcolor": "#2a3f5f",
           "arrowhead": 0,
           "arrowwidth": 1
          },
          "autotypenumbers": "strict",
          "coloraxis": {
           "colorbar": {
            "outlinewidth": 0,
            "ticks": ""
           }
          },
          "colorscale": {
           "diverging": [
            [
             0,
             "#8e0152"
            ],
            [
             0.1,
             "#c51b7d"
            ],
            [
             0.2,
             "#de77ae"
            ],
            [
             0.3,
             "#f1b6da"
            ],
            [
             0.4,
             "#fde0ef"
            ],
            [
             0.5,
             "#f7f7f7"
            ],
            [
             0.6,
             "#e6f5d0"
            ],
            [
             0.7,
             "#b8e186"
            ],
            [
             0.8,
             "#7fbc41"
            ],
            [
             0.9,
             "#4d9221"
            ],
            [
             1,
             "#276419"
            ]
           ],
           "sequential": [
            [
             0,
             "#0d0887"
            ],
            [
             0.1111111111111111,
             "#46039f"
            ],
            [
             0.2222222222222222,
             "#7201a8"
            ],
            [
             0.3333333333333333,
             "#9c179e"
            ],
            [
             0.4444444444444444,
             "#bd3786"
            ],
            [
             0.5555555555555556,
             "#d8576b"
            ],
            [
             0.6666666666666666,
             "#ed7953"
            ],
            [
             0.7777777777777778,
             "#fb9f3a"
            ],
            [
             0.8888888888888888,
             "#fdca26"
            ],
            [
             1,
             "#f0f921"
            ]
           ],
           "sequentialminus": [
            [
             0,
             "#0d0887"
            ],
            [
             0.1111111111111111,
             "#46039f"
            ],
            [
             0.2222222222222222,
             "#7201a8"
            ],
            [
             0.3333333333333333,
             "#9c179e"
            ],
            [
             0.4444444444444444,
             "#bd3786"
            ],
            [
             0.5555555555555556,
             "#d8576b"
            ],
            [
             0.6666666666666666,
             "#ed7953"
            ],
            [
             0.7777777777777778,
             "#fb9f3a"
            ],
            [
             0.8888888888888888,
             "#fdca26"
            ],
            [
             1,
             "#f0f921"
            ]
           ]
          },
          "colorway": [
           "#636efa",
           "#EF553B",
           "#00cc96",
           "#ab63fa",
           "#FFA15A",
           "#19d3f3",
           "#FF6692",
           "#B6E880",
           "#FF97FF",
           "#FECB52"
          ],
          "font": {
           "color": "#2a3f5f"
          },
          "geo": {
           "bgcolor": "white",
           "lakecolor": "white",
           "landcolor": "#E5ECF6",
           "showlakes": true,
           "showland": true,
           "subunitcolor": "white"
          },
          "hoverlabel": {
           "align": "left"
          },
          "hovermode": "closest",
          "mapbox": {
           "style": "light"
          },
          "paper_bgcolor": "white",
          "plot_bgcolor": "#E5ECF6",
          "polar": {
           "angularaxis": {
            "gridcolor": "white",
            "linecolor": "white",
            "ticks": ""
           },
           "bgcolor": "#E5ECF6",
           "radialaxis": {
            "gridcolor": "white",
            "linecolor": "white",
            "ticks": ""
           }
          },
          "scene": {
           "xaxis": {
            "backgroundcolor": "#E5ECF6",
            "gridcolor": "white",
            "gridwidth": 2,
            "linecolor": "white",
            "showbackground": true,
            "ticks": "",
            "zerolinecolor": "white"
           },
           "yaxis": {
            "backgroundcolor": "#E5ECF6",
            "gridcolor": "white",
            "gridwidth": 2,
            "linecolor": "white",
            "showbackground": true,
            "ticks": "",
            "zerolinecolor": "white"
           },
           "zaxis": {
            "backgroundcolor": "#E5ECF6",
            "gridcolor": "white",
            "gridwidth": 2,
            "linecolor": "white",
            "showbackground": true,
            "ticks": "",
            "zerolinecolor": "white"
           }
          },
          "shapedefaults": {
           "line": {
            "color": "#2a3f5f"
           }
          },
          "ternary": {
           "aaxis": {
            "gridcolor": "white",
            "linecolor": "white",
            "ticks": ""
           },
           "baxis": {
            "gridcolor": "white",
            "linecolor": "white",
            "ticks": ""
           },
           "bgcolor": "#E5ECF6",
           "caxis": {
            "gridcolor": "white",
            "linecolor": "white",
            "ticks": ""
           }
          },
          "title": {
           "x": 0.05
          },
          "xaxis": {
           "automargin": true,
           "gridcolor": "white",
           "linecolor": "white",
           "ticks": "",
           "title": {
            "standoff": 15
           },
           "zerolinecolor": "white",
           "zerolinewidth": 2
          },
          "yaxis": {
           "automargin": true,
           "gridcolor": "white",
           "linecolor": "white",
           "ticks": "",
           "title": {
            "standoff": 15
           },
           "zerolinecolor": "white",
           "zerolinewidth": 2
          }
         }
        },
        "xaxis": {
         "anchor": "y",
         "domain": [
          0,
          1
         ],
         "title": {
          "text": "data_extracao"
         }
        },
        "yaxis": {
         "anchor": "x",
         "domain": [
          0,
          1
         ],
         "title": {
          "text": "SOMA_VISUALIZACOES_DIA"
         }
        }
       }
      }
     },
     "metadata": {},
     "output_type": "display_data"
    }
   ],
   "source": [
    "fig = px.bar(df_duracao_video, x='data_extracao', y='SOMA_VISUALIZACOES_DIA', barmode='group', color='NM_CANAL')\n",
    "fig.show()\n",
    "\n"
   ]
  },
  {
   "cell_type": "code",
   "execution_count": 30,
   "metadata": {},
   "outputs": [
    {
     "data": {
      "application/vnd.plotly.v1+json": {
       "config": {
        "plotlyServerURL": "https://plot.ly"
       },
       "data": [
        {
         "alignmentgroup": "True",
         "hovertemplate": "NM_CANAL=ChratosGameplay<br>data_extracao=%{x}<br>SOMA_TOTAL_LIKES_DIA=%{y}<extra></extra>",
         "legendgroup": "ChratosGameplay",
         "marker": {
          "color": "#636efa",
          "pattern": {
           "shape": ""
          }
         },
         "name": "ChratosGameplay",
         "offsetgroup": "ChratosGameplay",
         "orientation": "v",
         "showlegend": true,
         "textposition": "auto",
         "type": "bar",
         "x": [
          "2023-10-15",
          "2023-10-16",
          "2023-10-19",
          "2023-10-20",
          "2023-10-21",
          "2023-10-22",
          "2023-10-23",
          "2023-10-24",
          "2023-10-25",
          "2023-10-26",
          "2023-10-27"
         ],
         "xaxis": "x",
         "y": [
          687,
          1753,
          10675,
          7585,
          9698,
          8721,
          8935,
          7864,
          8184,
          8938,
          5489
         ],
         "yaxis": "y"
        },
        {
         "alignmentgroup": "True",
         "hovertemplate": "NM_CANAL=Barbosa Cities<br>data_extracao=%{x}<br>SOMA_TOTAL_LIKES_DIA=%{y}<extra></extra>",
         "legendgroup": "Barbosa Cities",
         "marker": {
          "color": "#EF553B",
          "pattern": {
           "shape": ""
          }
         },
         "name": "Barbosa Cities",
         "offsetgroup": "Barbosa Cities",
         "orientation": "v",
         "showlegend": true,
         "textposition": "auto",
         "type": "bar",
         "x": [
          "2023-10-19",
          "2023-10-20",
          "2023-10-21",
          "2023-10-22",
          "2023-10-23",
          "2023-10-24",
          "2023-10-25",
          "2023-10-26",
          "2023-10-27"
         ],
         "xaxis": "x",
         "y": [
          2806,
          1764,
          706,
          2083,
          881,
          316,
          1943,
          776,
          1616
         ],
         "yaxis": "y"
        }
       ],
       "layout": {
        "barmode": "group",
        "legend": {
         "title": {
          "text": "NM_CANAL"
         },
         "tracegroupgap": 0
        },
        "margin": {
         "t": 60
        },
        "template": {
         "data": {
          "bar": [
           {
            "error_x": {
             "color": "#2a3f5f"
            },
            "error_y": {
             "color": "#2a3f5f"
            },
            "marker": {
             "line": {
              "color": "#E5ECF6",
              "width": 0.5
             },
             "pattern": {
              "fillmode": "overlay",
              "size": 10,
              "solidity": 0.2
             }
            },
            "type": "bar"
           }
          ],
          "barpolar": [
           {
            "marker": {
             "line": {
              "color": "#E5ECF6",
              "width": 0.5
             },
             "pattern": {
              "fillmode": "overlay",
              "size": 10,
              "solidity": 0.2
             }
            },
            "type": "barpolar"
           }
          ],
          "carpet": [
           {
            "aaxis": {
             "endlinecolor": "#2a3f5f",
             "gridcolor": "white",
             "linecolor": "white",
             "minorgridcolor": "white",
             "startlinecolor": "#2a3f5f"
            },
            "baxis": {
             "endlinecolor": "#2a3f5f",
             "gridcolor": "white",
             "linecolor": "white",
             "minorgridcolor": "white",
             "startlinecolor": "#2a3f5f"
            },
            "type": "carpet"
           }
          ],
          "choropleth": [
           {
            "colorbar": {
             "outlinewidth": 0,
             "ticks": ""
            },
            "type": "choropleth"
           }
          ],
          "contour": [
           {
            "colorbar": {
             "outlinewidth": 0,
             "ticks": ""
            },
            "colorscale": [
             [
              0,
              "#0d0887"
             ],
             [
              0.1111111111111111,
              "#46039f"
             ],
             [
              0.2222222222222222,
              "#7201a8"
             ],
             [
              0.3333333333333333,
              "#9c179e"
             ],
             [
              0.4444444444444444,
              "#bd3786"
             ],
             [
              0.5555555555555556,
              "#d8576b"
             ],
             [
              0.6666666666666666,
              "#ed7953"
             ],
             [
              0.7777777777777778,
              "#fb9f3a"
             ],
             [
              0.8888888888888888,
              "#fdca26"
             ],
             [
              1,
              "#f0f921"
             ]
            ],
            "type": "contour"
           }
          ],
          "contourcarpet": [
           {
            "colorbar": {
             "outlinewidth": 0,
             "ticks": ""
            },
            "type": "contourcarpet"
           }
          ],
          "heatmap": [
           {
            "colorbar": {
             "outlinewidth": 0,
             "ticks": ""
            },
            "colorscale": [
             [
              0,
              "#0d0887"
             ],
             [
              0.1111111111111111,
              "#46039f"
             ],
             [
              0.2222222222222222,
              "#7201a8"
             ],
             [
              0.3333333333333333,
              "#9c179e"
             ],
             [
              0.4444444444444444,
              "#bd3786"
             ],
             [
              0.5555555555555556,
              "#d8576b"
             ],
             [
              0.6666666666666666,
              "#ed7953"
             ],
             [
              0.7777777777777778,
              "#fb9f3a"
             ],
             [
              0.8888888888888888,
              "#fdca26"
             ],
             [
              1,
              "#f0f921"
             ]
            ],
            "type": "heatmap"
           }
          ],
          "heatmapgl": [
           {
            "colorbar": {
             "outlinewidth": 0,
             "ticks": ""
            },
            "colorscale": [
             [
              0,
              "#0d0887"
             ],
             [
              0.1111111111111111,
              "#46039f"
             ],
             [
              0.2222222222222222,
              "#7201a8"
             ],
             [
              0.3333333333333333,
              "#9c179e"
             ],
             [
              0.4444444444444444,
              "#bd3786"
             ],
             [
              0.5555555555555556,
              "#d8576b"
             ],
             [
              0.6666666666666666,
              "#ed7953"
             ],
             [
              0.7777777777777778,
              "#fb9f3a"
             ],
             [
              0.8888888888888888,
              "#fdca26"
             ],
             [
              1,
              "#f0f921"
             ]
            ],
            "type": "heatmapgl"
           }
          ],
          "histogram": [
           {
            "marker": {
             "pattern": {
              "fillmode": "overlay",
              "size": 10,
              "solidity": 0.2
             }
            },
            "type": "histogram"
           }
          ],
          "histogram2d": [
           {
            "colorbar": {
             "outlinewidth": 0,
             "ticks": ""
            },
            "colorscale": [
             [
              0,
              "#0d0887"
             ],
             [
              0.1111111111111111,
              "#46039f"
             ],
             [
              0.2222222222222222,
              "#7201a8"
             ],
             [
              0.3333333333333333,
              "#9c179e"
             ],
             [
              0.4444444444444444,
              "#bd3786"
             ],
             [
              0.5555555555555556,
              "#d8576b"
             ],
             [
              0.6666666666666666,
              "#ed7953"
             ],
             [
              0.7777777777777778,
              "#fb9f3a"
             ],
             [
              0.8888888888888888,
              "#fdca26"
             ],
             [
              1,
              "#f0f921"
             ]
            ],
            "type": "histogram2d"
           }
          ],
          "histogram2dcontour": [
           {
            "colorbar": {
             "outlinewidth": 0,
             "ticks": ""
            },
            "colorscale": [
             [
              0,
              "#0d0887"
             ],
             [
              0.1111111111111111,
              "#46039f"
             ],
             [
              0.2222222222222222,
              "#7201a8"
             ],
             [
              0.3333333333333333,
              "#9c179e"
             ],
             [
              0.4444444444444444,
              "#bd3786"
             ],
             [
              0.5555555555555556,
              "#d8576b"
             ],
             [
              0.6666666666666666,
              "#ed7953"
             ],
             [
              0.7777777777777778,
              "#fb9f3a"
             ],
             [
              0.8888888888888888,
              "#fdca26"
             ],
             [
              1,
              "#f0f921"
             ]
            ],
            "type": "histogram2dcontour"
           }
          ],
          "mesh3d": [
           {
            "colorbar": {
             "outlinewidth": 0,
             "ticks": ""
            },
            "type": "mesh3d"
           }
          ],
          "parcoords": [
           {
            "line": {
             "colorbar": {
              "outlinewidth": 0,
              "ticks": ""
             }
            },
            "type": "parcoords"
           }
          ],
          "pie": [
           {
            "automargin": true,
            "type": "pie"
           }
          ],
          "scatter": [
           {
            "fillpattern": {
             "fillmode": "overlay",
             "size": 10,
             "solidity": 0.2
            },
            "type": "scatter"
           }
          ],
          "scatter3d": [
           {
            "line": {
             "colorbar": {
              "outlinewidth": 0,
              "ticks": ""
             }
            },
            "marker": {
             "colorbar": {
              "outlinewidth": 0,
              "ticks": ""
             }
            },
            "type": "scatter3d"
           }
          ],
          "scattercarpet": [
           {
            "marker": {
             "colorbar": {
              "outlinewidth": 0,
              "ticks": ""
             }
            },
            "type": "scattercarpet"
           }
          ],
          "scattergeo": [
           {
            "marker": {
             "colorbar": {
              "outlinewidth": 0,
              "ticks": ""
             }
            },
            "type": "scattergeo"
           }
          ],
          "scattergl": [
           {
            "marker": {
             "colorbar": {
              "outlinewidth": 0,
              "ticks": ""
             }
            },
            "type": "scattergl"
           }
          ],
          "scattermapbox": [
           {
            "marker": {
             "colorbar": {
              "outlinewidth": 0,
              "ticks": ""
             }
            },
            "type": "scattermapbox"
           }
          ],
          "scatterpolar": [
           {
            "marker": {
             "colorbar": {
              "outlinewidth": 0,
              "ticks": ""
             }
            },
            "type": "scatterpolar"
           }
          ],
          "scatterpolargl": [
           {
            "marker": {
             "colorbar": {
              "outlinewidth": 0,
              "ticks": ""
             }
            },
            "type": "scatterpolargl"
           }
          ],
          "scatterternary": [
           {
            "marker": {
             "colorbar": {
              "outlinewidth": 0,
              "ticks": ""
             }
            },
            "type": "scatterternary"
           }
          ],
          "surface": [
           {
            "colorbar": {
             "outlinewidth": 0,
             "ticks": ""
            },
            "colorscale": [
             [
              0,
              "#0d0887"
             ],
             [
              0.1111111111111111,
              "#46039f"
             ],
             [
              0.2222222222222222,
              "#7201a8"
             ],
             [
              0.3333333333333333,
              "#9c179e"
             ],
             [
              0.4444444444444444,
              "#bd3786"
             ],
             [
              0.5555555555555556,
              "#d8576b"
             ],
             [
              0.6666666666666666,
              "#ed7953"
             ],
             [
              0.7777777777777778,
              "#fb9f3a"
             ],
             [
              0.8888888888888888,
              "#fdca26"
             ],
             [
              1,
              "#f0f921"
             ]
            ],
            "type": "surface"
           }
          ],
          "table": [
           {
            "cells": {
             "fill": {
              "color": "#EBF0F8"
             },
             "line": {
              "color": "white"
             }
            },
            "header": {
             "fill": {
              "color": "#C8D4E3"
             },
             "line": {
              "color": "white"
             }
            },
            "type": "table"
           }
          ]
         },
         "layout": {
          "annotationdefaults": {
           "arrowcolor": "#2a3f5f",
           "arrowhead": 0,
           "arrowwidth": 1
          },
          "autotypenumbers": "strict",
          "coloraxis": {
           "colorbar": {
            "outlinewidth": 0,
            "ticks": ""
           }
          },
          "colorscale": {
           "diverging": [
            [
             0,
             "#8e0152"
            ],
            [
             0.1,
             "#c51b7d"
            ],
            [
             0.2,
             "#de77ae"
            ],
            [
             0.3,
             "#f1b6da"
            ],
            [
             0.4,
             "#fde0ef"
            ],
            [
             0.5,
             "#f7f7f7"
            ],
            [
             0.6,
             "#e6f5d0"
            ],
            [
             0.7,
             "#b8e186"
            ],
            [
             0.8,
             "#7fbc41"
            ],
            [
             0.9,
             "#4d9221"
            ],
            [
             1,
             "#276419"
            ]
           ],
           "sequential": [
            [
             0,
             "#0d0887"
            ],
            [
             0.1111111111111111,
             "#46039f"
            ],
            [
             0.2222222222222222,
             "#7201a8"
            ],
            [
             0.3333333333333333,
             "#9c179e"
            ],
            [
             0.4444444444444444,
             "#bd3786"
            ],
            [
             0.5555555555555556,
             "#d8576b"
            ],
            [
             0.6666666666666666,
             "#ed7953"
            ],
            [
             0.7777777777777778,
             "#fb9f3a"
            ],
            [
             0.8888888888888888,
             "#fdca26"
            ],
            [
             1,
             "#f0f921"
            ]
           ],
           "sequentialminus": [
            [
             0,
             "#0d0887"
            ],
            [
             0.1111111111111111,
             "#46039f"
            ],
            [
             0.2222222222222222,
             "#7201a8"
            ],
            [
             0.3333333333333333,
             "#9c179e"
            ],
            [
             0.4444444444444444,
             "#bd3786"
            ],
            [
             0.5555555555555556,
             "#d8576b"
            ],
            [
             0.6666666666666666,
             "#ed7953"
            ],
            [
             0.7777777777777778,
             "#fb9f3a"
            ],
            [
             0.8888888888888888,
             "#fdca26"
            ],
            [
             1,
             "#f0f921"
            ]
           ]
          },
          "colorway": [
           "#636efa",
           "#EF553B",
           "#00cc96",
           "#ab63fa",
           "#FFA15A",
           "#19d3f3",
           "#FF6692",
           "#B6E880",
           "#FF97FF",
           "#FECB52"
          ],
          "font": {
           "color": "#2a3f5f"
          },
          "geo": {
           "bgcolor": "white",
           "lakecolor": "white",
           "landcolor": "#E5ECF6",
           "showlakes": true,
           "showland": true,
           "subunitcolor": "white"
          },
          "hoverlabel": {
           "align": "left"
          },
          "hovermode": "closest",
          "mapbox": {
           "style": "light"
          },
          "paper_bgcolor": "white",
          "plot_bgcolor": "#E5ECF6",
          "polar": {
           "angularaxis": {
            "gridcolor": "white",
            "linecolor": "white",
            "ticks": ""
           },
           "bgcolor": "#E5ECF6",
           "radialaxis": {
            "gridcolor": "white",
            "linecolor": "white",
            "ticks": ""
           }
          },
          "scene": {
           "xaxis": {
            "backgroundcolor": "#E5ECF6",
            "gridcolor": "white",
            "gridwidth": 2,
            "linecolor": "white",
            "showbackground": true,
            "ticks": "",
            "zerolinecolor": "white"
           },
           "yaxis": {
            "backgroundcolor": "#E5ECF6",
            "gridcolor": "white",
            "gridwidth": 2,
            "linecolor": "white",
            "showbackground": true,
            "ticks": "",
            "zerolinecolor": "white"
           },
           "zaxis": {
            "backgroundcolor": "#E5ECF6",
            "gridcolor": "white",
            "gridwidth": 2,
            "linecolor": "white",
            "showbackground": true,
            "ticks": "",
            "zerolinecolor": "white"
           }
          },
          "shapedefaults": {
           "line": {
            "color": "#2a3f5f"
           }
          },
          "ternary": {
           "aaxis": {
            "gridcolor": "white",
            "linecolor": "white",
            "ticks": ""
           },
           "baxis": {
            "gridcolor": "white",
            "linecolor": "white",
            "ticks": ""
           },
           "bgcolor": "#E5ECF6",
           "caxis": {
            "gridcolor": "white",
            "linecolor": "white",
            "ticks": ""
           }
          },
          "title": {
           "x": 0.05
          },
          "xaxis": {
           "automargin": true,
           "gridcolor": "white",
           "linecolor": "white",
           "ticks": "",
           "title": {
            "standoff": 15
           },
           "zerolinecolor": "white",
           "zerolinewidth": 2
          },
          "yaxis": {
           "automargin": true,
           "gridcolor": "white",
           "linecolor": "white",
           "ticks": "",
           "title": {
            "standoff": 15
           },
           "zerolinecolor": "white",
           "zerolinewidth": 2
          }
         }
        },
        "xaxis": {
         "anchor": "y",
         "domain": [
          0,
          1
         ],
         "title": {
          "text": "data_extracao"
         }
        },
        "yaxis": {
         "anchor": "x",
         "domain": [
          0,
          1
         ],
         "title": {
          "text": "SOMA_TOTAL_LIKES_DIA"
         }
        }
       }
      }
     },
     "metadata": {},
     "output_type": "display_data"
    }
   ],
   "source": [
    "fig = px.bar(df_duracao_video, x='data_extracao', y='SOMA_TOTAL_LIKES_DIA', barmode='group', color='NM_CANAL')\n",
    "fig.show()"
   ]
  },
  {
   "cell_type": "code",
   "execution_count": 31,
   "metadata": {},
   "outputs": [
    {
     "data": {
      "application/vnd.plotly.v1+json": {
       "config": {
        "plotlyServerURL": "https://plot.ly"
       },
       "data": [
        {
         "alignmentgroup": "True",
         "hovertemplate": "NM_CANAL=ChratosGameplay<br>data_extracao=%{x}<br>SOMA_TOTAL_COMENTARIOS_DIA=%{y}<extra></extra>",
         "legendgroup": "ChratosGameplay",
         "marker": {
          "color": "#636efa",
          "pattern": {
           "shape": ""
          }
         },
         "name": "ChratosGameplay",
         "offsetgroup": "ChratosGameplay",
         "orientation": "v",
         "showlegend": true,
         "textposition": "auto",
         "type": "bar",
         "x": [
          "2023-10-15",
          "2023-10-16",
          "2023-10-19",
          "2023-10-20",
          "2023-10-21",
          "2023-10-22",
          "2023-10-23",
          "2023-10-24",
          "2023-10-25",
          "2023-10-26",
          "2023-10-27"
         ],
         "xaxis": "x",
         "y": [
          23,
          61,
          343,
          421,
          258,
          319,
          451,
          420,
          416,
          826,
          682
         ],
         "yaxis": "y"
        },
        {
         "alignmentgroup": "True",
         "hovertemplate": "NM_CANAL=Barbosa Cities<br>data_extracao=%{x}<br>SOMA_TOTAL_COMENTARIOS_DIA=%{y}<extra></extra>",
         "legendgroup": "Barbosa Cities",
         "marker": {
          "color": "#EF553B",
          "pattern": {
           "shape": ""
          }
         },
         "name": "Barbosa Cities",
         "offsetgroup": "Barbosa Cities",
         "orientation": "v",
         "showlegend": true,
         "textposition": "auto",
         "type": "bar",
         "x": [
          "2023-10-19",
          "2023-10-20",
          "2023-10-21",
          "2023-10-22",
          "2023-10-23",
          "2023-10-24",
          "2023-10-25",
          "2023-10-26",
          "2023-10-27"
         ],
         "xaxis": "x",
         "y": [
          168,
          112,
          27,
          106,
          323,
          319,
          101,
          155,
          161
         ],
         "yaxis": "y"
        }
       ],
       "layout": {
        "barmode": "group",
        "legend": {
         "title": {
          "text": "NM_CANAL"
         },
         "tracegroupgap": 0
        },
        "margin": {
         "t": 60
        },
        "template": {
         "data": {
          "bar": [
           {
            "error_x": {
             "color": "#2a3f5f"
            },
            "error_y": {
             "color": "#2a3f5f"
            },
            "marker": {
             "line": {
              "color": "#E5ECF6",
              "width": 0.5
             },
             "pattern": {
              "fillmode": "overlay",
              "size": 10,
              "solidity": 0.2
             }
            },
            "type": "bar"
           }
          ],
          "barpolar": [
           {
            "marker": {
             "line": {
              "color": "#E5ECF6",
              "width": 0.5
             },
             "pattern": {
              "fillmode": "overlay",
              "size": 10,
              "solidity": 0.2
             }
            },
            "type": "barpolar"
           }
          ],
          "carpet": [
           {
            "aaxis": {
             "endlinecolor": "#2a3f5f",
             "gridcolor": "white",
             "linecolor": "white",
             "minorgridcolor": "white",
             "startlinecolor": "#2a3f5f"
            },
            "baxis": {
             "endlinecolor": "#2a3f5f",
             "gridcolor": "white",
             "linecolor": "white",
             "minorgridcolor": "white",
             "startlinecolor": "#2a3f5f"
            },
            "type": "carpet"
           }
          ],
          "choropleth": [
           {
            "colorbar": {
             "outlinewidth": 0,
             "ticks": ""
            },
            "type": "choropleth"
           }
          ],
          "contour": [
           {
            "colorbar": {
             "outlinewidth": 0,
             "ticks": ""
            },
            "colorscale": [
             [
              0,
              "#0d0887"
             ],
             [
              0.1111111111111111,
              "#46039f"
             ],
             [
              0.2222222222222222,
              "#7201a8"
             ],
             [
              0.3333333333333333,
              "#9c179e"
             ],
             [
              0.4444444444444444,
              "#bd3786"
             ],
             [
              0.5555555555555556,
              "#d8576b"
             ],
             [
              0.6666666666666666,
              "#ed7953"
             ],
             [
              0.7777777777777778,
              "#fb9f3a"
             ],
             [
              0.8888888888888888,
              "#fdca26"
             ],
             [
              1,
              "#f0f921"
             ]
            ],
            "type": "contour"
           }
          ],
          "contourcarpet": [
           {
            "colorbar": {
             "outlinewidth": 0,
             "ticks": ""
            },
            "type": "contourcarpet"
           }
          ],
          "heatmap": [
           {
            "colorbar": {
             "outlinewidth": 0,
             "ticks": ""
            },
            "colorscale": [
             [
              0,
              "#0d0887"
             ],
             [
              0.1111111111111111,
              "#46039f"
             ],
             [
              0.2222222222222222,
              "#7201a8"
             ],
             [
              0.3333333333333333,
              "#9c179e"
             ],
             [
              0.4444444444444444,
              "#bd3786"
             ],
             [
              0.5555555555555556,
              "#d8576b"
             ],
             [
              0.6666666666666666,
              "#ed7953"
             ],
             [
              0.7777777777777778,
              "#fb9f3a"
             ],
             [
              0.8888888888888888,
              "#fdca26"
             ],
             [
              1,
              "#f0f921"
             ]
            ],
            "type": "heatmap"
           }
          ],
          "heatmapgl": [
           {
            "colorbar": {
             "outlinewidth": 0,
             "ticks": ""
            },
            "colorscale": [
             [
              0,
              "#0d0887"
             ],
             [
              0.1111111111111111,
              "#46039f"
             ],
             [
              0.2222222222222222,
              "#7201a8"
             ],
             [
              0.3333333333333333,
              "#9c179e"
             ],
             [
              0.4444444444444444,
              "#bd3786"
             ],
             [
              0.5555555555555556,
              "#d8576b"
             ],
             [
              0.6666666666666666,
              "#ed7953"
             ],
             [
              0.7777777777777778,
              "#fb9f3a"
             ],
             [
              0.8888888888888888,
              "#fdca26"
             ],
             [
              1,
              "#f0f921"
             ]
            ],
            "type": "heatmapgl"
           }
          ],
          "histogram": [
           {
            "marker": {
             "pattern": {
              "fillmode": "overlay",
              "size": 10,
              "solidity": 0.2
             }
            },
            "type": "histogram"
           }
          ],
          "histogram2d": [
           {
            "colorbar": {
             "outlinewidth": 0,
             "ticks": ""
            },
            "colorscale": [
             [
              0,
              "#0d0887"
             ],
             [
              0.1111111111111111,
              "#46039f"
             ],
             [
              0.2222222222222222,
              "#7201a8"
             ],
             [
              0.3333333333333333,
              "#9c179e"
             ],
             [
              0.4444444444444444,
              "#bd3786"
             ],
             [
              0.5555555555555556,
              "#d8576b"
             ],
             [
              0.6666666666666666,
              "#ed7953"
             ],
             [
              0.7777777777777778,
              "#fb9f3a"
             ],
             [
              0.8888888888888888,
              "#fdca26"
             ],
             [
              1,
              "#f0f921"
             ]
            ],
            "type": "histogram2d"
           }
          ],
          "histogram2dcontour": [
           {
            "colorbar": {
             "outlinewidth": 0,
             "ticks": ""
            },
            "colorscale": [
             [
              0,
              "#0d0887"
             ],
             [
              0.1111111111111111,
              "#46039f"
             ],
             [
              0.2222222222222222,
              "#7201a8"
             ],
             [
              0.3333333333333333,
              "#9c179e"
             ],
             [
              0.4444444444444444,
              "#bd3786"
             ],
             [
              0.5555555555555556,
              "#d8576b"
             ],
             [
              0.6666666666666666,
              "#ed7953"
             ],
             [
              0.7777777777777778,
              "#fb9f3a"
             ],
             [
              0.8888888888888888,
              "#fdca26"
             ],
             [
              1,
              "#f0f921"
             ]
            ],
            "type": "histogram2dcontour"
           }
          ],
          "mesh3d": [
           {
            "colorbar": {
             "outlinewidth": 0,
             "ticks": ""
            },
            "type": "mesh3d"
           }
          ],
          "parcoords": [
           {
            "line": {
             "colorbar": {
              "outlinewidth": 0,
              "ticks": ""
             }
            },
            "type": "parcoords"
           }
          ],
          "pie": [
           {
            "automargin": true,
            "type": "pie"
           }
          ],
          "scatter": [
           {
            "fillpattern": {
             "fillmode": "overlay",
             "size": 10,
             "solidity": 0.2
            },
            "type": "scatter"
           }
          ],
          "scatter3d": [
           {
            "line": {
             "colorbar": {
              "outlinewidth": 0,
              "ticks": ""
             }
            },
            "marker": {
             "colorbar": {
              "outlinewidth": 0,
              "ticks": ""
             }
            },
            "type": "scatter3d"
           }
          ],
          "scattercarpet": [
           {
            "marker": {
             "colorbar": {
              "outlinewidth": 0,
              "ticks": ""
             }
            },
            "type": "scattercarpet"
           }
          ],
          "scattergeo": [
           {
            "marker": {
             "colorbar": {
              "outlinewidth": 0,
              "ticks": ""
             }
            },
            "type": "scattergeo"
           }
          ],
          "scattergl": [
           {
            "marker": {
             "colorbar": {
              "outlinewidth": 0,
              "ticks": ""
             }
            },
            "type": "scattergl"
           }
          ],
          "scattermapbox": [
           {
            "marker": {
             "colorbar": {
              "outlinewidth": 0,
              "ticks": ""
             }
            },
            "type": "scattermapbox"
           }
          ],
          "scatterpolar": [
           {
            "marker": {
             "colorbar": {
              "outlinewidth": 0,
              "ticks": ""
             }
            },
            "type": "scatterpolar"
           }
          ],
          "scatterpolargl": [
           {
            "marker": {
             "colorbar": {
              "outlinewidth": 0,
              "ticks": ""
             }
            },
            "type": "scatterpolargl"
           }
          ],
          "scatterternary": [
           {
            "marker": {
             "colorbar": {
              "outlinewidth": 0,
              "ticks": ""
             }
            },
            "type": "scatterternary"
           }
          ],
          "surface": [
           {
            "colorbar": {
             "outlinewidth": 0,
             "ticks": ""
            },
            "colorscale": [
             [
              0,
              "#0d0887"
             ],
             [
              0.1111111111111111,
              "#46039f"
             ],
             [
              0.2222222222222222,
              "#7201a8"
             ],
             [
              0.3333333333333333,
              "#9c179e"
             ],
             [
              0.4444444444444444,
              "#bd3786"
             ],
             [
              0.5555555555555556,
              "#d8576b"
             ],
             [
              0.6666666666666666,
              "#ed7953"
             ],
             [
              0.7777777777777778,
              "#fb9f3a"
             ],
             [
              0.8888888888888888,
              "#fdca26"
             ],
             [
              1,
              "#f0f921"
             ]
            ],
            "type": "surface"
           }
          ],
          "table": [
           {
            "cells": {
             "fill": {
              "color": "#EBF0F8"
             },
             "line": {
              "color": "white"
             }
            },
            "header": {
             "fill": {
              "color": "#C8D4E3"
             },
             "line": {
              "color": "white"
             }
            },
            "type": "table"
           }
          ]
         },
         "layout": {
          "annotationdefaults": {
           "arrowcolor": "#2a3f5f",
           "arrowhead": 0,
           "arrowwidth": 1
          },
          "autotypenumbers": "strict",
          "coloraxis": {
           "colorbar": {
            "outlinewidth": 0,
            "ticks": ""
           }
          },
          "colorscale": {
           "diverging": [
            [
             0,
             "#8e0152"
            ],
            [
             0.1,
             "#c51b7d"
            ],
            [
             0.2,
             "#de77ae"
            ],
            [
             0.3,
             "#f1b6da"
            ],
            [
             0.4,
             "#fde0ef"
            ],
            [
             0.5,
             "#f7f7f7"
            ],
            [
             0.6,
             "#e6f5d0"
            ],
            [
             0.7,
             "#b8e186"
            ],
            [
             0.8,
             "#7fbc41"
            ],
            [
             0.9,
             "#4d9221"
            ],
            [
             1,
             "#276419"
            ]
           ],
           "sequential": [
            [
             0,
             "#0d0887"
            ],
            [
             0.1111111111111111,
             "#46039f"
            ],
            [
             0.2222222222222222,
             "#7201a8"
            ],
            [
             0.3333333333333333,
             "#9c179e"
            ],
            [
             0.4444444444444444,
             "#bd3786"
            ],
            [
             0.5555555555555556,
             "#d8576b"
            ],
            [
             0.6666666666666666,
             "#ed7953"
            ],
            [
             0.7777777777777778,
             "#fb9f3a"
            ],
            [
             0.8888888888888888,
             "#fdca26"
            ],
            [
             1,
             "#f0f921"
            ]
           ],
           "sequentialminus": [
            [
             0,
             "#0d0887"
            ],
            [
             0.1111111111111111,
             "#46039f"
            ],
            [
             0.2222222222222222,
             "#7201a8"
            ],
            [
             0.3333333333333333,
             "#9c179e"
            ],
            [
             0.4444444444444444,
             "#bd3786"
            ],
            [
             0.5555555555555556,
             "#d8576b"
            ],
            [
             0.6666666666666666,
             "#ed7953"
            ],
            [
             0.7777777777777778,
             "#fb9f3a"
            ],
            [
             0.8888888888888888,
             "#fdca26"
            ],
            [
             1,
             "#f0f921"
            ]
           ]
          },
          "colorway": [
           "#636efa",
           "#EF553B",
           "#00cc96",
           "#ab63fa",
           "#FFA15A",
           "#19d3f3",
           "#FF6692",
           "#B6E880",
           "#FF97FF",
           "#FECB52"
          ],
          "font": {
           "color": "#2a3f5f"
          },
          "geo": {
           "bgcolor": "white",
           "lakecolor": "white",
           "landcolor": "#E5ECF6",
           "showlakes": true,
           "showland": true,
           "subunitcolor": "white"
          },
          "hoverlabel": {
           "align": "left"
          },
          "hovermode": "closest",
          "mapbox": {
           "style": "light"
          },
          "paper_bgcolor": "white",
          "plot_bgcolor": "#E5ECF6",
          "polar": {
           "angularaxis": {
            "gridcolor": "white",
            "linecolor": "white",
            "ticks": ""
           },
           "bgcolor": "#E5ECF6",
           "radialaxis": {
            "gridcolor": "white",
            "linecolor": "white",
            "ticks": ""
           }
          },
          "scene": {
           "xaxis": {
            "backgroundcolor": "#E5ECF6",
            "gridcolor": "white",
            "gridwidth": 2,
            "linecolor": "white",
            "showbackground": true,
            "ticks": "",
            "zerolinecolor": "white"
           },
           "yaxis": {
            "backgroundcolor": "#E5ECF6",
            "gridcolor": "white",
            "gridwidth": 2,
            "linecolor": "white",
            "showbackground": true,
            "ticks": "",
            "zerolinecolor": "white"
           },
           "zaxis": {
            "backgroundcolor": "#E5ECF6",
            "gridcolor": "white",
            "gridwidth": 2,
            "linecolor": "white",
            "showbackground": true,
            "ticks": "",
            "zerolinecolor": "white"
           }
          },
          "shapedefaults": {
           "line": {
            "color": "#2a3f5f"
           }
          },
          "ternary": {
           "aaxis": {
            "gridcolor": "white",
            "linecolor": "white",
            "ticks": ""
           },
           "baxis": {
            "gridcolor": "white",
            "linecolor": "white",
            "ticks": ""
           },
           "bgcolor": "#E5ECF6",
           "caxis": {
            "gridcolor": "white",
            "linecolor": "white",
            "ticks": ""
           }
          },
          "title": {
           "x": 0.05
          },
          "xaxis": {
           "automargin": true,
           "gridcolor": "white",
           "linecolor": "white",
           "ticks": "",
           "title": {
            "standoff": 15
           },
           "zerolinecolor": "white",
           "zerolinewidth": 2
          },
          "yaxis": {
           "automargin": true,
           "gridcolor": "white",
           "linecolor": "white",
           "ticks": "",
           "title": {
            "standoff": 15
           },
           "zerolinecolor": "white",
           "zerolinewidth": 2
          }
         }
        },
        "xaxis": {
         "anchor": "y",
         "domain": [
          0,
          1
         ],
         "title": {
          "text": "data_extracao"
         }
        },
        "yaxis": {
         "anchor": "x",
         "domain": [
          0,
          1
         ],
         "title": {
          "text": "SOMA_TOTAL_COMENTARIOS_DIA"
         }
        }
       }
      }
     },
     "metadata": {},
     "output_type": "display_data"
    }
   ],
   "source": [
    "fig = px.bar(df_duracao_video, x='data_extracao', y='SOMA_TOTAL_COMENTARIOS_DIA', barmode='group', color='NM_CANAL')\n",
    "fig.show()"
   ]
  },
  {
   "cell_type": "markdown",
   "metadata": {},
   "source": [
    "# Wordcloud TAGS"
   ]
  },
  {
   "cell_type": "markdown",
   "metadata": {},
   "source": [
    "# Métricas especificas TRENDS"
   ]
  },
  {
   "cell_type": "code",
   "execution_count": 32,
   "metadata": {},
   "outputs": [
    {
     "name": "stdout",
     "output_type": "stream",
     "text": [
      "+------------------------------------------------+------------------------------------------------------------------------------------------------------+-------------------+---------------+-----------------+-----------+-----------------------+-------------------+---------------------+---------------+-------------+------------+------------------------+-----------+\n",
      "|NM_CANAL                                        |TITULO_VIDEO                                                                                          |TOTAL_VISUALIZACOES|TOTAL_FAVORITOS|TOTAL_COMENTARIOS|TOTAL_LIKES|TOTAL_VISUALIZACOES_DIA|TOTAL_FAVORITOS_DIA|TOTAL_COMENTARIOS_DIA|TOTAL_LIKES_DIA|data_extracao|ID_CATEGORIA|ID_CANAL                |ID_VIDEO   |\n",
      "+------------------------------------------------+------------------------------------------------------------------------------------------------------+-------------------+---------------+-----------------+-----------+-----------------------+-------------------+---------------------+---------------+-------------+------------+------------------------+-----------+\n",
      "|Melhor Futebol do Mundo - TNT Sports Brasil     |REAL SOCIEDAD VENCE E AFUNDA O BENFICA NO GRUPO D! BENFICA 0 X 1 REAL SOCIEDAD | CHAMPIONS            |124186             |0              |163              |4569       |3115                   |0                  |7                    |112            |2023-10-26   |17          |UCiQ7Ll2Gsb5eQhgQQhZ2lGQ|j4TlIePiewE|\n",
      "|Melhor Futebol do Mundo - TNT Sports Brasil     |REAL SOCIEDAD VENCE E AFUNDA O BENFICA NO GRUPO D! BENFICA 0 X 1 REAL SOCIEDAD | CHAMPIONS            |121071             |0              |156              |4457       |121071                 |0                  |156                  |4457           |2023-10-25   |17          |UCiQ7Ll2Gsb5eQhgQQhZ2lGQ|j4TlIePiewE|\n",
      "|Melhor Futebol do Mundo - TNT Sports Brasil     |REAL SOCIEDAD VENCE E AFUNDA O BENFICA NO GRUPO D! BENFICA 0 X 1 REAL SOCIEDAD | CHAMPIONS            |125404             |0              |164              |4620       |1218                   |0                  |1                    |51             |2023-10-27   |17          |UCiQ7Ll2Gsb5eQhgQQhZ2lGQ|j4TlIePiewE|\n",
      "|(G)I-DLE (여자)아이들 (Official YouTube Channel)|(여자)아이들((G)I-DLE) - 'I Want That' Official Music Video                                           |8627209            |0              |19048            |476803     |8627209                |0                  |19048                |476803         |2023-10-15   |10          |UCritGVo7pLJLUS8wEu32vow|Iewisp9KYRw|\n",
      "|Cortes do Casimito [OFICIAL]                    |CASIMIRO REAGE: URUGUAI 2 X 0 BRASIL - ELIMINATÓRIAS PARA A COPA (DESESPERADOR) | Cortes do Casimito  |736472             |0              |3084             |52139      |2575                   |0                  |10                   |131            |2023-10-25   |24          |UC4aiJNDUviw_vMhdCq5Kq1Q|MHQXhXJdQB4|\n",
      "|Cortes do Casimito [OFICIAL]                    |CASIMIRO REAGE: URUGUAI 2 X 0 BRASIL - ELIMINATÓRIAS PARA A COPA (DESESPERADOR) | Cortes do Casimito  |686166             |0              |2963             |49394      |38432                  |0                  |115                  |1970           |2023-10-20   |24          |UC4aiJNDUviw_vMhdCq5Kq1Q|MHQXhXJdQB4|\n",
      "|Cortes do Casimito [OFICIAL]                    |CASIMIRO REAGE: URUGUAI 2 X 0 BRASIL - ELIMINATÓRIAS PARA A COPA (DESESPERADOR) | Cortes do Casimito  |647734             |0              |2848             |47424      |647734                 |0                  |2848                 |47424          |2023-10-19   |24          |UC4aiJNDUviw_vMhdCq5Kq1Q|MHQXhXJdQB4|\n",
      "|Cortes do Casimito [OFICIAL]                    |CASIMIRO REAGE: URUGUAI 2 X 0 BRASIL - ELIMINATÓRIAS PARA A COPA (DESESPERADOR) | Cortes do Casimito  |709132             |0              |3031             |50729      |22966                  |0                  |68                   |1335           |2023-10-21   |24          |UC4aiJNDUviw_vMhdCq5Kq1Q|MHQXhXJdQB4|\n",
      "|Cortes do Casimito [OFICIAL]                    |CASIMIRO REAGE: URUGUAI 2 X 0 BRASIL - ELIMINATÓRIAS PARA A COPA (DESESPERADOR) | Cortes do Casimito  |720502             |0              |3059             |51320      |11370                  |0                  |28                   |591            |2023-10-22   |24          |UC4aiJNDUviw_vMhdCq5Kq1Q|MHQXhXJdQB4|\n",
      "|Cortes do Casimito [OFICIAL]                    |CASIMIRO REAGE: URUGUAI 2 X 0 BRASIL - ELIMINATÓRIAS PARA A COPA (DESESPERADOR) | Cortes do Casimito  |733897             |0              |3074             |52008      |4030                   |0                  |1                    |205            |2023-10-24   |24          |UC4aiJNDUviw_vMhdCq5Kq1Q|MHQXhXJdQB4|\n",
      "|Cortes do Casimito [OFICIAL]                    |CASIMIRO REAGE: URUGUAI 2 X 0 BRASIL - ELIMINATÓRIAS PARA A COPA (DESESPERADOR) | Cortes do Casimito  |729867             |0              |3073             |51803      |9365                   |0                  |14                   |483            |2023-10-23   |24          |UC4aiJNDUviw_vMhdCq5Kq1Q|MHQXhXJdQB4|\n",
      "|Vem a mim língua russa                          |Cheguei em Moscou 🇷🇺 | Vlog viajando para Rússia pela primeira vez! Voo, hotel e cidade incrível #1|692101             |0              |7044             |70564      |37272                  |0                  |161                  |2874           |2023-10-26   |19          |UCX8pfKRW496XSHsUyXgDXDA|05yeNSE8jDc|\n",
      "|Vem a mim língua russa                          |Cheguei em Moscou 🇷🇺 | Vlog viajando para Rússia pela primeira vez! Voo, hotel e cidade incrível #1|605469             |0              |6582             |63706      |62974                  |0                  |349                  |4275           |2023-10-24   |19          |UCX8pfKRW496XSHsUyXgDXDA|05yeNSE8jDc|\n",
      "|Vem a mim língua russa                          |Cheguei em Moscou 🇷🇺 | Vlog viajando para Rússia pela primeira vez! Voo, hotel e cidade incrível #1|542495             |0              |6233             |59431      |69374                  |0                  |446                  |4671           |2023-10-23   |19          |UCX8pfKRW496XSHsUyXgDXDA|05yeNSE8jDc|\n",
      "|Vem a mim língua russa                          |Cheguei em Moscou 🇷🇺 | Vlog viajando para Rússia pela primeira vez! Voo, hotel e cidade incrível #1|654829             |0              |6883             |67690      |49360                  |0                  |301                  |3984           |2023-10-25   |19          |UCX8pfKRW496XSHsUyXgDXDA|05yeNSE8jDc|\n",
      "|Vem a mim língua russa                          |Cheguei em Moscou 🇷🇺 | Vlog viajando para Rússia pela primeira vez! Voo, hotel e cidade incrível #1|718524             |0              |7167             |72471      |26423                  |0                  |123                  |1907           |2023-10-27   |19          |UCX8pfKRW496XSHsUyXgDXDA|05yeNSE8jDc|\n",
      "|CANAL DO NILSON CESAR [Rádio De Pai pra Filho]  |NILSON CESAR DETONA SELEÇÃO BRASILEIRA! | Cortes Rádio de Pai pra Filho                               |89034              |0              |811              |4342       |1102                   |0                  |8                    |15             |2023-10-20   |17          |UC407XQEh4grFPh-FYCWEKUw|1EEZtNFDU8Q|\n",
      "|CANAL DO NILSON CESAR [Rádio De Pai pra Filho]  |NILSON CESAR DETONA SELEÇÃO BRASILEIRA! | Cortes Rádio de Pai pra Filho                               |92245              |0              |813              |4485       |509                    |0                  |813                  |24             |2023-10-24   |17          |UC407XQEh4grFPh-FYCWEKUw|1EEZtNFDU8Q|\n",
      "|CANAL DO NILSON CESAR [Rádio De Pai pra Filho]  |NILSON CESAR DETONA SELEÇÃO BRASILEIRA! | Cortes Rádio de Pai pra Filho                               |92541              |0              |813              |4500       |296                    |0                  |813                  |15             |2023-10-25   |17          |UC407XQEh4grFPh-FYCWEKUw|1EEZtNFDU8Q|\n",
      "|CANAL DO NILSON CESAR [Rádio De Pai pra Filho]  |NILSON CESAR DETONA SELEÇÃO BRASILEIRA! | Cortes Rádio de Pai pra Filho                               |87932              |0              |803              |4327       |87932                  |0                  |803                  |4327           |2023-10-19   |17          |UC407XQEh4grFPh-FYCWEKUw|1EEZtNFDU8Q|\n",
      "+------------------------------------------------+------------------------------------------------------------------------------------------------------+-------------------+---------------+-----------------+-----------+-----------------------+-------------------+---------------------+---------------+-------------+------------+------------------------+-----------+\n",
      "only showing top 20 rows\n",
      "\n"
     ]
    }
   ],
   "source": [
    "df_trends = spark.read.parquet('/home/rodrigo/Documentos/projetos/open_weather_api_apache/analise_dados_youtube/data/projetos_youtube_v2/ouro/trends_brazil/trends_brazil/trends_brazil.parquet')\n",
    "df_trends.show(truncate=False)\n",
    "df_trends.createOrReplaceTempView('TRENDS')"
   ]
  },
  {
   "cell_type": "markdown",
   "metadata": {},
   "source": [
    "# Categrias Populares por data de extração"
   ]
  },
  {
   "cell_type": "code",
   "execution_count": 33,
   "metadata": {},
   "outputs": [
    {
     "name": "stderr",
     "output_type": "stream",
     "text": [
      "[Stage 90:=============================================>          (65 + 8) / 80]\r"
     ]
    },
    {
     "name": "stdout",
     "output_type": "stream",
     "text": [
      "+-------------+------------+----------------------------+\n",
      "|data_extracao|ID_CATEGORIA|sum(TOTAL_VISUALIZACOES_DIA)|\n",
      "+-------------+------------+----------------------------+\n",
      "|   2023-10-15|          17|                    25971018|\n",
      "|   2023-10-15|          10|                   188470120|\n",
      "|   2023-10-15|          26|                       49953|\n",
      "|   2023-10-15|          25|                    11520764|\n",
      "|   2023-10-15|           1|                    10646952|\n",
      "|   2023-10-15|          27|                     5215689|\n",
      "|   2023-10-15|          22|                     6772581|\n",
      "|   2023-10-15|          20|                    29314189|\n",
      "|   2023-10-15|          28|                     6273526|\n",
      "|   2023-10-15|          23|                     1361139|\n",
      "|   2023-10-15|          24|                   285267745|\n",
      "|   2023-10-16|          20|                     8515606|\n",
      "|   2023-10-16|          27|                      256909|\n",
      "|   2023-10-16|           1|                      981247|\n",
      "|   2023-10-16|          24|                    24791050|\n",
      "|   2023-10-16|          22|                     1145557|\n",
      "|   2023-10-16|           2|                      151356|\n",
      "|   2023-10-16|          25|                      875017|\n",
      "|   2023-10-16|          28|                     1820504|\n",
      "|   2023-10-16|          17|                     2962976|\n",
      "+-------------+------------+----------------------------+\n",
      "only showing top 20 rows\n",
      "\n"
     ]
    },
    {
     "name": "stderr",
     "output_type": "stream",
     "text": [
      "                                                                                \r"
     ]
    }
   ],
   "source": [
    "df_categoria_populares = spark.sql(' SELECT data_extracao, ID_CATEGORIA, SUM(TOTAL_VISUALIZACOES_DIA) '\n",
    "                                  '  FROM TRENDS '\n",
    "                                  '  GROUP BY data_extracao, ID_CATEGORIA  '\n",
    "                                  '  ORDER BY 1 '   ).show()"
   ]
  },
  {
   "cell_type": "code",
   "execution_count": 34,
   "metadata": {},
   "outputs": [
    {
     "name": "stderr",
     "output_type": "stream",
     "text": [
      "[Stage 93:======================================================> (78 + 2) / 80]\r"
     ]
    },
    {
     "name": "stdout",
     "output_type": "stream",
     "text": [
      "+-------------+------------+--------------------------+\n",
      "|data_extracao|ID_CATEGORIA|sum(TOTAL_COMENTARIOS_DIA)|\n",
      "+-------------+------------+--------------------------+\n",
      "|   2023-10-15|          17|                     50166|\n",
      "|   2023-10-15|          10|                    505272|\n",
      "|   2023-10-15|          26|                       690|\n",
      "|   2023-10-15|          25|                     13235|\n",
      "|   2023-10-15|           1|                     36792|\n",
      "|   2023-10-15|          27|                     12350|\n",
      "|   2023-10-15|          22|                     49841|\n",
      "|   2023-10-15|          20|                    116548|\n",
      "|   2023-10-15|          28|                     14408|\n",
      "|   2023-10-15|          23|                      1486|\n",
      "|   2023-10-15|          24|                    572240|\n",
      "|   2023-10-16|          20|                     28578|\n",
      "|   2023-10-16|          27|                      2881|\n",
      "|   2023-10-16|           1|                      1812|\n",
      "|   2023-10-16|          24|                     48767|\n",
      "|   2023-10-16|          22|                      5555|\n",
      "|   2023-10-16|           2|                      1723|\n",
      "|   2023-10-16|          25|                      7279|\n",
      "|   2023-10-16|          28|                      5220|\n",
      "|   2023-10-16|          17|                      9185|\n",
      "+-------------+------------+--------------------------+\n",
      "only showing top 20 rows\n",
      "\n"
     ]
    },
    {
     "name": "stderr",
     "output_type": "stream",
     "text": [
      "                                                                                \r"
     ]
    }
   ],
   "source": [
    "df_categoria_populares = spark.sql(' SELECT data_extracao, ID_CATEGORIA, SUM(TOTAL_COMENTARIOS_DIA) '\n",
    "                                  '  FROM TRENDS '\n",
    "                                  '  GROUP BY data_extracao, ID_CATEGORIA  '\n",
    "                                  '  ORDER BY 1 '   ).show()"
   ]
  },
  {
   "cell_type": "code",
   "execution_count": 35,
   "metadata": {},
   "outputs": [
    {
     "name": "stderr",
     "output_type": "stream",
     "text": [
      "[Stage 96:=====================================================>  (77 + 3) / 80]\r"
     ]
    },
    {
     "name": "stdout",
     "output_type": "stream",
     "text": [
      "+-------------+------------+--------------------+\n",
      "|data_extracao|ID_CATEGORIA|sum(TOTAL_LIKES_DIA)|\n",
      "+-------------+------------+--------------------+\n",
      "|   2023-10-15|          17|              942816|\n",
      "|   2023-10-15|          10|             8054410|\n",
      "|   2023-10-15|          26|                9076|\n",
      "|   2023-10-15|          25|              248596|\n",
      "|   2023-10-15|           1|              487262|\n",
      "|   2023-10-15|          27|              263761|\n",
      "|   2023-10-15|          22|              620345|\n",
      "|   2023-10-15|          20|             1747021|\n",
      "|   2023-10-15|          28|                2956|\n",
      "|   2023-10-15|          23|               68949|\n",
      "|   2023-10-15|          24|            11743071|\n",
      "|   2023-10-16|          20|              487937|\n",
      "|   2023-10-16|          27|               19982|\n",
      "|   2023-10-16|           1|               38297|\n",
      "|   2023-10-16|          24|              871289|\n",
      "|   2023-10-16|          22|               91885|\n",
      "|   2023-10-16|           2|               19070|\n",
      "|   2023-10-16|          25|               29884|\n",
      "|   2023-10-16|          28|                  14|\n",
      "|   2023-10-16|          17|              186046|\n",
      "+-------------+------------+--------------------+\n",
      "only showing top 20 rows\n",
      "\n"
     ]
    },
    {
     "name": "stderr",
     "output_type": "stream",
     "text": [
      "                                                                                \r"
     ]
    }
   ],
   "source": [
    "df_categoria_populares = spark.sql(' SELECT data_extracao, ID_CATEGORIA, SUM(TOTAL_LIKES_DIA) '\n",
    "                                  '  FROM TRENDS '\n",
    "                                  '  GROUP BY data_extracao, ID_CATEGORIA  '\n",
    "                                  '  ORDER BY 1 '   ).show()"
   ]
  },
  {
   "cell_type": "markdown",
   "metadata": {},
   "source": [
    "# Vídeo populares"
   ]
  },
  {
   "cell_type": "code",
   "execution_count": 36,
   "metadata": {},
   "outputs": [
    {
     "name": "stderr",
     "output_type": "stream",
     "text": [
      "[Stage 99:==================================================>     (72 + 8) / 80]\r"
     ]
    },
    {
     "name": "stdout",
     "output_type": "stream",
     "text": [
      "+-------------+--------------------+----------------------------+\n",
      "|data_extracao|        TITULO_VIDEO|sum(TOTAL_VISUALIZACOES_DIA)|\n",
      "+-------------+--------------------+----------------------------+\n",
      "|   2023-10-15|🔴 FLAMENGO ACERT...|                      106760|\n",
      "|   2023-10-15|FÁCIL COMO NENHUM...|                      525570|\n",
      "|   2023-10-15|PSG É HUMILHADO P...|                     3106648|\n",
      "|   2023-10-15|😱 ABRIU O ARMÁRI...|                      386196|\n",
      "|   2023-10-15|Goblin Mines Dist...|                     2002737|\n",
      "|   2023-10-15|A BRUX4 TÁ SOLTA!...|                       80215|\n",
      "|   2023-10-15|PALMEIRAS 6 X 0 O...|                      127723|\n",
      "|   2023-10-15|CHEGOU! CONHECEND...|                       98244|\n",
      "|   2023-10-15|EPISÓDIO 04 - 3/5...|                     1422581|\n",
      "|   2023-10-15|A MORTE de G-MAN!...|                      113073|\n",
      "|   2023-10-15|O FAMOSO BOLO ALA...|                     1756861|\n",
      "|   2023-10-15|MEU DEUS! \"OLHA I...|                      390493|\n",
      "|   2023-10-15|EPISÓDIO 04 - 4/5...|                     1274461|\n",
      "|   2023-10-15|COMO ACHAR TODOS ...|                       90064|\n",
      "|   2023-10-15|GUARDA NOTURNO MA...|                      915595|\n",
      "|   2023-10-15|Mundial de Ginást...|                      373265|\n",
      "|   2023-10-15|Lukaku marca, Bél...|                      544382|\n",
      "|   2023-10-15|LOKI 2 TEMPORADA ...|                       75984|\n",
      "|   2023-10-15|FLUTV - BASTIDORE...|                      285019|\n",
      "|   2023-10-15|EPISÓDIO 04 - 2/5...|                     1374227|\n",
      "+-------------+--------------------+----------------------------+\n",
      "only showing top 20 rows\n",
      "\n"
     ]
    },
    {
     "name": "stderr",
     "output_type": "stream",
     "text": [
      "                                                                                \r"
     ]
    }
   ],
   "source": [
    "df_video_populares = spark.sql(' SELECT data_extracao, TITULO_VIDEO, SUM(TOTAL_VISUALIZACOES_DIA) '\n",
    "                                  '  FROM TRENDS '\n",
    "                                  '  GROUP BY data_extracao, TITULO_VIDEO  '\n",
    "                                  '  ORDER BY 1 '   ).show()"
   ]
  },
  {
   "cell_type": "markdown",
   "metadata": {},
   "source": [
    "# Desenpenho Vídeo"
   ]
  },
  {
   "cell_type": "code",
   "execution_count": 37,
   "metadata": {},
   "outputs": [
    {
     "name": "stdout",
     "output_type": "stream",
     "text": [
      "+-------------+--------------------+-----------------------+\n",
      "|data_extracao|        TITULO_VIDEO|TOTAL_VISUALIZACOES_DIA|\n",
      "+-------------+--------------------+-----------------------+\n",
      "|   2023-10-25|REAL SOCIEDAD VEN...|                 121071|\n",
      "|   2023-10-26|REAL SOCIEDAD VEN...|                   3115|\n",
      "|   2023-10-27|REAL SOCIEDAD VEN...|                   1218|\n",
      "+-------------+--------------------+-----------------------+\n",
      "\n"
     ]
    }
   ],
   "source": [
    "df_video_populares = spark.sql(' SELECT data_extracao, TITULO_VIDEO, TOTAL_VISUALIZACOES_DIA'\n",
    "                                  '  FROM TRENDS '\n",
    "                                  ' WHERE ID_VIDEO IN (\"j4TlIePiewE\") '\n",
    "                                  '  ORDER BY 1 '   ).show()"
   ]
  },
  {
   "cell_type": "markdown",
   "metadata": {},
   "source": []
  }
 ],
 "metadata": {
  "kernelspec": {
   "display_name": "venv",
   "language": "python",
   "name": "python3"
  },
  "language_info": {
   "codemirror_mode": {
    "name": "ipython",
    "version": 3
   },
   "file_extension": ".py",
   "mimetype": "text/x-python",
   "name": "python",
   "nbconvert_exporter": "python",
   "pygments_lexer": "ipython3",
   "version": "3.10.12"
  }
 },
 "nbformat": 4,
 "nbformat_minor": 2
}
