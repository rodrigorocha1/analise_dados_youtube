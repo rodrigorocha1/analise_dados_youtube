{
 "cells": [
  {
   "cell_type": "code",
   "execution_count": 48,
   "metadata": {},
   "outputs": [],
   "source": [
    "from pyspark.sql import SparkSession"
   ]
  },
  {
   "cell_type": "code",
   "execution_count": 49,
   "metadata": {},
<<<<<<< HEAD
   "outputs": [
    {
     "name": "stdout",
     "output_type": "stream",
     "text": [
      "23/11/02 18:43:44 WARN Utils: Your hostname, rodrigo-Nitro-AN515-54 resolves to a loopback address: 127.0.1.1; using 192.168.0.112 instead (on interface wlp8s0)\n",
      "23/11/02 18:43:44 WARN Utils: Set SPARK_LOCAL_IP if you need to bind to another address\n"
     ]
    },
    {
     "name": "stderr",
     "output_type": "stream",
     "text": [
      "Setting default log level to \"WARN\".\n",
      "To adjust logging level use sc.setLogLevel(newLevel). For SparkR, use setLogLevel(newLevel).\n"
     ]
    },
    {
     "name": "stdout",
     "output_type": "stream",
     "text": [
      "23/11/02 18:43:44 WARN NativeCodeLoader: Unable to load native-hadoop library for your platform... using builtin-java classes where applicable\n"
     ]
    }
   ],
=======
   "outputs": [],
>>>>>>> d06dd8f (Testando performance)
   "source": [
    "spark = SparkSession.builder.appName('teste').getOrCreate()"
   ]
  },
  {
   "cell_type": "code",
<<<<<<< HEAD
   "execution_count": 3,
=======
   "execution_count": 50,
>>>>>>> d06dd8f (Testando performance)
   "metadata": {},
   "outputs": [
    {
     "data": {
      "text/html": [
       "\n",
       "            <div>\n",
       "                <p><b>SparkSession - in-memory</b></p>\n",
       "                \n",
       "        <div>\n",
       "            <p><b>SparkContext</b></p>\n",
       "\n",
       "            <p><a href=\"http://192.168.0.112:4040\">Spark UI</a></p>\n",
       "\n",
       "            <dl>\n",
       "              <dt>Version</dt>\n",
       "                <dd><code>v3.3.0</code></dd>\n",
       "              <dt>Master</dt>\n",
       "                <dd><code>local[*]</code></dd>\n",
       "              <dt>AppName</dt>\n",
       "                <dd><code>teste</code></dd>\n",
       "            </dl>\n",
       "        </div>\n",
       "        \n",
       "            </div>\n",
       "        "
      ],
      "text/plain": [
<<<<<<< HEAD
       "<pyspark.sql.session.SparkSession at 0x7fa6d82286a0>"
      ]
     },
     "execution_count": 3,
=======
       "<pyspark.sql.session.SparkSession at 0x7f1a2931ae00>"
      ]
     },
     "execution_count": 50,
>>>>>>> d06dd8f (Testando performance)
     "metadata": {},
     "output_type": "execute_result"
    }
   ],
   "source": [
    "spark"
   ]
  },
  {
   "cell_type": "code",
   "execution_count": 51,
   "metadata": {},
   "outputs": [],
   "source": [
    "parquert_test = spark.read.parquet('/home/rodrigo/Documentos/projetos/open_weather_api_apache/analise_dados_youtube/data/projetos_youtube_v2/ouro/assunto_cities_skylines/total_visualizacoes_por_semana/total_visualizacoes_por_semana.parquet')"
   ]
  },
  {
   "cell_type": "code",
   "execution_count": 52,
   "metadata": {},
   "outputs": [],
   "source": [
    "parquert_test.createTempView('VISUALIZACOES_SEMANA')"
   ]
  },
  {
   "cell_type": "code",
   "execution_count": 56,
   "metadata": {},
   "outputs": [
    {
     "name": "stdout",
     "output_type": "stream",
     "text": [
      "+---------------+-----------+--------------------+---------------------+--------------------+----------+-------------------+-----------------+-----------+-----------------------+---------------------+---------------+-------------+--------------------+\n",
      "|       NM_CANAL|   ID_VIDEO|        TITULO_VIDEO|TOTAL_CARACTERE_VIDEO|                TAGS|TOTAL_TAGS|TOTAL_VISUALIZACOES|TOTAL_COMENTARIOS|TOTAL_LIKES|TOTAL_VISUALIZACOES_DIA|TOTAL_COMENTARIOS_DIA|TOTAL_LIKES_DIA|data_extracao|            ID_CANAL|\n",
      "+---------------+-----------+--------------------+---------------------+--------------------+----------+-------------------+-----------------+-----------+-----------------------+---------------------+---------------+-------------+--------------------+\n",
      "|ChratosGameplay|-QaSHAsHQSs|CITIES SKYLINES 2...|                   81|                null|         0|                  0|                0|         50|                      0|                    0|             50|   2023-10-27|UCrOH1V-FyMunBIMr...|\n",
      "|ChratosGameplay|6RgEh-9KAgY|PREFEITURA E PREV...|                   67|[cities skylines,...|        31|              42650|              220|       5600|                   3257|                    5|            283|   2023-10-27|UCrOH1V-FyMunBIMr...|\n",
      "|ChratosGameplay|9SGBZ7GE5EA|SUPER SUBÚRBIO FA...|                   70|[cities skylines,...|        31|              54375|              213|       6855|                   1561|                  213|            148|   2023-10-27|UCrOH1V-FyMunBIMr...|\n",
      "|ChratosGameplay|KfzZNkdyeEs|POLUIÇÃO FORÇA MI...|                   81|[cities skylines,...|        31|              50789|              124|       6448|                   1853|                  124|            165|   2023-10-27|UCrOH1V-FyMunBIMr...|\n",
      "|ChratosGameplay|QwXP79P4xS0|TRANSPORTE PÚBLIC...|                   64|[cities skylines,...|        31|              39265|              180|       5046|                  13719|                   37|           1003|   2023-10-27|UCrOH1V-FyMunBIMr...|\n",
      "|ChratosGameplay|TBZuVHi3QdM|BALSAS, BUSÕES E ...|                   68|[cities skylines,...|        31|              50480|              157|       6330|                   2027|                    2|            171|   2023-10-27|UCrOH1V-FyMunBIMr...|\n",
      "|ChratosGameplay|V_d6T_UKRDg|CITIES SKYLINES 2...|                   87|                null|         0|                  0|                0|         51|                      0|                    0|             51|   2023-10-27|UCrOH1V-FyMunBIMr...|\n",
      "|ChratosGameplay|XOUzWJ0bHuw|MODDERS decidem f...|                   92|[ascent of ashes,...|        33|               9540|               33|       1078|                     19|                   33|              2|   2023-10-27|UCrOH1V-FyMunBIMr...|\n",
      "|ChratosGameplay|dRzwiPwGH_M|Planejamento inic...|                   90|[Cities Skylines,...|        37|              18599|               79|       2418|                    169|                   79|             14|   2023-10-27|UCrOH1V-FyMunBIMr...|\n",
      "|ChratosGameplay|mfCGsYnClDU|CITIES SKYLINES 2...|                   88|                null|         0|                  0|                0|        149|                      0|                    0|            149|   2023-10-27|UCrOH1V-FyMunBIMr...|\n",
      "|ChratosGameplay|totHMIv6_hI|PEQUENA FORTUNA E...|                   70|[cities skylines,...|        31|              71357|              188|       8978|                   1889|                    2|            139|   2023-10-27|UCrOH1V-FyMunBIMr...|\n",
      "|ChratosGameplay|up4KrHrRwLY|DO CRIADOR DA MEL...|                   88|[cities skylines,...|        28|              33628|              111|       3382|                   1246|                    1|             61|   2023-10-27|UCrOH1V-FyMunBIMr...|\n",
      "|ChratosGameplay|vy-upTpchig|PRIMEIRA PRAÇA DA...|                   63|[cities skylines,...|        31|              60786|              201|       7321|                   1568|                    1|            156|   2023-10-27|UCrOH1V-FyMunBIMr...|\n",
      "|ChratosGameplay|wCLSZxLfUAk|MELHOR JOGO DE CO...|                   75|[cities skylines,...|        31|             120812|              418|      13988|                   3437|                    2|            204|   2023-10-27|UCrOH1V-FyMunBIMr...|\n",
      "|ChratosGameplay|xCaUzgIM6Bg|Vias expressas/Ro...|                   86|[cities skylines,...|        31|              18620|               54|       1368|                   2388|                    3|            100|   2023-10-27|UCrOH1V-FyMunBIMr...|\n",
      "|ChratosGameplay|xSAyLQ9h22k|OBRAS DO ANEL ROD...|                   60|[cities skylines,...|        31|              15805|              139|       2753|                  15805|                  139|           2753|   2023-10-27|UCrOH1V-FyMunBIMr...|\n",
      "|ChratosGameplay|zFO5_abqEss|Vias coletoras/ar...|                   78|[cities skylines,...|        31|              19942|               63|       1950|                    435|                    1|             32|   2023-10-27|UCrOH1V-FyMunBIMr...|\n",
      "|ChratosGameplay|zyG3nFm9BB8|SIMULADOR DE PLAT...|                   64|[drill deal, dril...|        33|              24021|               40|       2441|                    324|                   40|              8|   2023-10-27|UCrOH1V-FyMunBIMr...|\n",
      "|ChratosGameplay|-QaSHAsHQSs|CITIES SKYLINES 2...|                   81|                null|         0|                  0|                0|         50|                      0|                    0|             50|   2023-10-26|UCrOH1V-FyMunBIMr...|\n",
      "|ChratosGameplay|6RgEh-9KAgY|PREFEITURA E PREV...|                   67|[cities skylines,...|        31|              39393|              215|       5317|                  14489|                   36|           1215|   2023-10-26|UCrOH1V-FyMunBIMr...|\n",
      "+---------------+-----------+--------------------+---------------------+--------------------+----------+-------------------+-----------------+-----------+-----------------------+---------------------+---------------+-------------+--------------------+\n",
      "only showing top 20 rows\n",
      "\n"
     ]
    },
    {
     "name": "stderr",
     "output_type": "stream",
     "text": [
      "                                                                                \r"
     ]
    }
   ],
   "source": [
    "spark.sql(\n",
    "    'SELECT * '\n",
    "    'from VISUALIZACOES_SEMANA '\n",
    "\n",
    ").show()"
   ]
  },
  {
   "cell_type": "code",
   "execution_count": 54,
   "metadata": {},
   "outputs": [
    {
     "name": "stdout",
     "output_type": "stream",
     "text": [
      "+-----------+-------------------+\n",
      "|   ID_VIDEO|TOTAL_VISUALIZACOES|\n",
      "+-----------+-------------------+\n",
      "|kt_0wxJZoGc|                  2|\n",
      "|up4KrHrRwLY|              58245|\n",
      "|FW11WBBHJTI|               4239|\n",
      "|7sdmjzJnWD4|                 10|\n",
      "|FK-EYFdPqpA|              18528|\n",
      "|PXFSPpOhqiU|              10095|\n",
      "|LGLnm6csfZo|              10479|\n",
      "|vzzeZU07rmo|              27401|\n",
      "|v3YF3Bgyq68|              28039|\n",
      "|9SGBZ7GE5EA|              89931|\n",
      "|h4rXTjnHu4A|              37402|\n",
      "|zFO5_abqEss|              31776|\n",
      "|Ls3dVzGc4_E|                 28|\n",
      "|zEHZpgrv3D8|                171|\n",
      "|totHMIv6_hI|             122137|\n",
      "|SY0_eLxzf5I|                 64|\n",
      "|9ldc5LO1eis|                 10|\n",
      "|GaYWC83B-uw|                 38|\n",
      "|f2oVDmsT2fU|                 12|\n",
      "|-QaSHAsHQSs|                  0|\n",
      "+-----------+-------------------+\n",
      "only showing top 20 rows\n",
      "\n"
     ]
    }
   ],
   "source": [
    "spark.sql(\n",
    "    'SELECT ID_VIDEO, SUM(TOTAL_VISUALIZACOES) as TOTAL_VISUALIZACOES '\n",
    "    'from VISUALIZACOES_SEMANA '\n",
    "    'WHERE data_extracao IN(\"2023-10-23\", \"2023-10-24\")'\n",
    "    'GROUP BY ID_VIDEO'\n",
    ").show()"
   ]
  },
  {
   "cell_type": "code",
   "execution_count": 55,
   "metadata": {},
   "outputs": [
    {
     "name": "stdout",
     "output_type": "stream",
     "text": [
      "+-----------------------+\n",
      "|current_timestamp()    |\n",
      "+-----------------------+\n",
      "|2023-11-02 20:28:58.881|\n",
      "+-----------------------+\n",
      "\n"
     ]
    }
   ],
   "source": [
    "spark.sql(sqlQuery='select current_timestamp()').show(truncate=False)"
   ]
  },
  {
   "cell_type": "markdown",
   "metadata": {},
   "source": [
    "# Relação Comentários X Likes (proporção)"
   ]
  },
  {
   "cell_type": "code",
   "execution_count": null,
   "metadata": {},
   "outputs": [],
   "source": []
  },
  {
   "cell_type": "markdown",
   "metadata": {},
   "source": [
    "# Relação Visualizações X Likes (proporção)"
   ]
  },
  {
   "cell_type": "code",
   "execution_count": null,
   "metadata": {},
   "outputs": [],
   "source": []
  },
  {
   "cell_type": "markdown",
   "metadata": {},
   "source": [
    "# Dia em que os vídeos são Públicados com alta frequência"
   ]
  },
  {
   "cell_type": "code",
   "execution_count": null,
   "metadata": {},
   "outputs": [],
   "source": []
  },
  {
   "cell_type": "markdown",
   "metadata": {},
   "source": [
    "# Total de Tags X Vísualizações "
   ]
  },
  {
   "cell_type": "code",
   "execution_count": null,
   "metadata": {},
   "outputs": [],
   "source": []
  },
  {
   "cell_type": "markdown",
   "metadata": {},
   "source": [
    "# Tamanho dos títulos do Vídeos X Vísualizações"
   ]
  },
  {
   "cell_type": "code",
   "execution_count": null,
   "metadata": {},
   "outputs": [],
   "source": []
  },
  {
   "cell_type": "markdown",
   "metadata": {},
   "source": [
    "# Total Víews por Vídeo"
   ]
  },
  {
   "cell_type": "code",
   "execution_count": null,
   "metadata": {},
   "outputs": [],
   "source": []
  },
  {
   "cell_type": "markdown",
   "metadata": {},
   "source": [
    "# A duração do vídeo é importante para visualizações e interação (curtidas/comentários)?"
   ]
  },
  {
   "cell_type": "code",
   "execution_count": null,
   "metadata": {},
   "outputs": [],
   "source": []
  }
 ],
 "metadata": {
  "kernelspec": {
   "display_name": "venv",
   "language": "python",
   "name": "python3"
  },
  "language_info": {
   "codemirror_mode": {
    "name": "ipython",
    "version": 3
   },
   "file_extension": ".py",
   "mimetype": "text/x-python",
   "name": "python",
   "nbconvert_exporter": "python",
   "pygments_lexer": "ipython3",
   "version": "3.10.12"
  }
 },
 "nbformat": 4,
 "nbformat_minor": 2
}
