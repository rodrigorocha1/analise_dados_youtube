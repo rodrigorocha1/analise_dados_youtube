{
 "cells": [
  {
   "cell_type": "code",
   "execution_count": 1,
   "metadata": {},
   "outputs": [],
   "source": [
    "from pyspark.sql import SparkSession"
   ]
  },
  {
   "cell_type": "code",
   "execution_count": 2,
   "metadata": {},
   "outputs": [
    {
     "name": "stdout",
     "output_type": "stream",
     "text": [
      "23/11/02 18:43:44 WARN Utils: Your hostname, rodrigo-Nitro-AN515-54 resolves to a loopback address: 127.0.1.1; using 192.168.0.112 instead (on interface wlp8s0)\n",
      "23/11/02 18:43:44 WARN Utils: Set SPARK_LOCAL_IP if you need to bind to another address\n"
     ]
    },
    {
     "name": "stderr",
     "output_type": "stream",
     "text": [
      "Setting default log level to \"WARN\".\n",
      "To adjust logging level use sc.setLogLevel(newLevel). For SparkR, use setLogLevel(newLevel).\n"
     ]
    },
    {
     "name": "stdout",
     "output_type": "stream",
     "text": [
      "23/11/02 18:43:44 WARN NativeCodeLoader: Unable to load native-hadoop library for your platform... using builtin-java classes where applicable\n"
     ]
    }
   ],
   "source": [
    "spark = SparkSession.builder.appName('vizualizações').getOrCreate()"
   ]
  },
  {
   "cell_type": "code",
   "execution_count": 57,
   "metadata": {},
   "outputs": [
    {
     "name": "stderr",
     "output_type": "stream",
     "text": [
      "                                                                                \r"
     ]
    }
   ],
   "source": [
    "df_parquet = spark.read.parquet('/home/rodrigo/Documentos/projetos/open_weather_api_apache/analise_dados_youtube/data/projetos_youtube_v2/ouro/assunto_cities_skylines_2/total_visualizacoes_por_semana/total_visualizacoes_por_semana.parquet')\n",
    "df_parquet.createOrReplaceTempView('TOTAL_VISUALIZACOES')"
   ]
  },
  {
   "cell_type": "code",
   "execution_count": 60,
   "metadata": {},
   "outputs": [
    {
     "name": "stderr",
     "output_type": "stream",
     "text": [
      "[Stage 25:================================>                        (8 + 6) / 14]\r"
     ]
    },
    {
     "name": "stdout",
     "output_type": "stream",
     "text": [
      "+--------------------+-----------+--------------------+---------------------+--------------------+----------+-------------------+-----------------+-----------+-----------------------+---------------------+---------------+-------------+--------------------+\n",
      "|            NM_CANAL|   ID_VIDEO|        TITULO_VIDEO|TOTAL_CARACTERE_VIDEO|                TAGS|TOTAL_TAGS|TOTAL_VISUALIZACOES|TOTAL_COMENTARIOS|TOTAL_LIKES|TOTAL_VISUALIZACOES_DIA|TOTAL_COMENTARIOS_DIA|TOTAL_LIKES_DIA|data_extracao|            ID_CANAL|\n",
      "+--------------------+-----------+--------------------+---------------------+--------------------+----------+-------------------+-----------------+-----------+-----------------------+---------------------+---------------+-------------+--------------------+\n",
      "|        O Veio Games|weciQDqn07g|Cities Skylines 2...|                   78|[review, gameplay...|        29|                441|                0|         19|                    441|                    0|             19|   2023-10-15|UCOe_x5ararWwWajB...|\n",
      "|     ChratosGameplay|XOUzWJ0bHuw|MODDERS decidem f...|                   92|[ascent of ashes,...|        33|               4562|               23|        687|                   4562|                   23|            687|   2023-10-15|UCrOH1V-FyMunBIMr...|\n",
      "|             Dw Play|rie83X9qYpk|🔴LIVE🔴 CITIES S...|                   66|                null|         0|                 32|                0|          8|                     32|                    0|              8|   2023-10-15|UCVM5Kg0mLSmmvdmh...|\n",
      "|Lucas gameplays b...|nMMr_myn5yI|Cities Skylines u...|                   72|[euro truck 2, lu...|        18|                  8|                0|          0|                      8|                    0|              0|   2023-10-15|UCOYJm7BsLV8VCkW2...|\n",
      "|       Irmãos Cities|YhXTcceM1NA|Cities Skylines, ...|                   81|                null|         0|                181|               12|         45|                    181|                   12|             45|   2023-10-15|UC1mk6EtfMjxR4eEZ...|\n",
      "|Lucas gameplays b...|8p7ulXmubg8|Cities Skylines a...|                   69|[euro truck 2, lu...|        18|                 12|                0|          1|                     12|                    0|              1|   2023-10-16|UCOYJm7BsLV8VCkW2...|\n",
      "|        diTudo Gamer|Yx8svkRgN_Y|Arthur foi convid...|                   84|[jogar, jogando, ...|        10|                  2|                0|          0|                      2|                    0|              0|   2023-10-16|UCbizLUsvMMknWFxR...|\n",
      "|        O Veio Games|weciQDqn07g|Cities Skylines 2...|                   78|[review, gameplay...|        29|                777|                0|         35|                    336|                    0|             16|   2023-10-16|UCOe_x5ararWwWajB...|\n",
      "|                Sr L|EMJho5TI26w|HOTEIS DE L City ...|                   45|[#shorts, #cities...|         5|                 21|                0|          2|                     21|                    0|              2|   2023-10-16|UCvEj9EurcC8q5hkV...|\n",
      "|             Dw Play|rie83X9qYpk|🔴LIVE🔴 CITIES S...|                   66|                null|         0|                 55|                0|          8|                     23|                    0|              8|   2023-10-16|UCVM5Kg0mLSmmvdmh...|\n",
      "|Lucas gameplays b...|nMMr_myn5yI|Cities Skylines u...|                   72|[euro truck 2, lu...|        18|                 30|                0|          2|                     22|                    0|              2|   2023-10-16|UCOYJm7BsLV8VCkW2...|\n",
      "|            Majestic|kkPRDzrBUiY|CITIES SKYLINES -...|                   71|[COMEÇANDO UM NOV...|        33|                426|                2|         80|                    426|                    2|             80|   2023-10-16|UCxIMGC-GmZ2pXE_j...|\n",
      "|             Jogando|EYNNLxG38yg|LUCRO, ÁGUA, LUZ ...|                   78|[Cities Skyines p...|        16|                 27|                0|          5|                     27|                    0|              5|   2023-10-16|UCGved3ynk6ZhUvSK...|\n",
      "|       Irmãos Cities|THuiHJMMvKc|Cities Skylines, ...|                   75|                null|         0|                  6|                0|          4|                      6|                    0|              4|   2023-10-16|UC1mk6EtfMjxR4eEZ...|\n",
      "|       Irmãos Cities|YhXTcceM1NA|Cities Skylines, ...|                   81|                null|         0|                469|               24|         73|                    288|                   12|             28|   2023-10-16|UC1mk6EtfMjxR4eEZ...|\n",
      "|     ChratosGameplay|XOUzWJ0bHuw|MODDERS decidem f...|                   92|[ascent of ashes,...|        33|               7399|               29|        923|                   2837|                    6|            236|   2023-10-16|UCrOH1V-FyMunBIMr...|\n",
      "|     ChratosGameplay|dRzwiPwGH_M|Planejamento inic...|                   90|[Cities Skylines,...|        37|               7914|               55|       1517|                   7914|                   55|           1517|   2023-10-16|UCrOH1V-FyMunBIMr...|\n",
      "| Canal Sala de Jogos|BJH6Or12MrA|Cities: Skylines ...|                   72|[cities skylines ...|        28|                480|                4|         67|                    480|                    4|             67|   2023-10-16|UCYEb5mbKZ5JJzN0x...|\n",
      "|   Personal Apple VR|B_QELgP7x8g|Forza Motorsport ...|                   35|                null|         0|                 24|                0|          1|                     24|                    0|              1|   2023-10-16|UCfuxXVeeaS8cLj2k...|\n",
      "|       Irmãos Cities|YhXTcceM1NA|Cities Skylines, ...|                   81|                null|         0|                568|               25|         82|                     99|                    1|              9|   2023-10-19|UC1mk6EtfMjxR4eEZ...|\n",
      "+--------------------+-----------+--------------------+---------------------+--------------------+----------+-------------------+-----------------+-----------+-----------------------+---------------------+---------------+-------------+--------------------+\n",
      "only showing top 20 rows\n",
      "\n"
     ]
    },
    {
     "name": "stderr",
     "output_type": "stream",
     "text": [
      "                                                                                \r"
     ]
    }
   ],
   "source": [
    "spark.sql('SELECT * FROM TOTAL_VISUALIZACOES order by data_extracao').show()"
   ]
  },
  {
   "cell_type": "markdown",
   "metadata": {},
   "source": [
    "# Relação Comentários X Likes (proporção)"
   ]
  },
  {
   "cell_type": "code",
   "execution_count": null,
   "metadata": {},
   "outputs": [],
   "source": []
  },
  {
   "cell_type": "markdown",
   "metadata": {},
   "source": [
    "# Relação Visualizações X Likes (proporção)"
   ]
  },
  {
   "cell_type": "code",
   "execution_count": null,
   "metadata": {},
   "outputs": [],
   "source": []
  },
  {
   "cell_type": "markdown",
   "metadata": {},
   "source": [
    "# Dia em que os vídeos são Públicados com alta frequência"
   ]
  },
  {
   "cell_type": "code",
   "execution_count": null,
   "metadata": {},
   "outputs": [],
   "source": []
  },
  {
   "cell_type": "markdown",
   "metadata": {},
   "source": [
    "# Total de Tags X Vísualizações "
   ]
  },
  {
   "cell_type": "code",
   "execution_count": null,
   "metadata": {},
   "outputs": [],
   "source": []
  },
  {
   "cell_type": "markdown",
   "metadata": {},
   "source": [
    "# Tamanho dos títulos do Vídeos X Vísualizações"
   ]
  },
  {
   "cell_type": "code",
   "execution_count": null,
   "metadata": {},
   "outputs": [],
   "source": []
  },
  {
   "cell_type": "markdown",
   "metadata": {},
   "source": [
    "# Total Víews por Vídeo"
   ]
  },
  {
   "cell_type": "code",
   "execution_count": null,
   "metadata": {},
   "outputs": [],
   "source": []
  },
  {
   "cell_type": "markdown",
   "metadata": {},
   "source": [
    "# A duração do vídeo é importante para visualizações e interação (curtidas/comentários)?"
   ]
  },
  {
   "cell_type": "code",
   "execution_count": null,
   "metadata": {},
   "outputs": [],
   "source": []
  }
 ],
 "metadata": {
  "kernelspec": {
   "display_name": "venv",
   "language": "python",
   "name": "python3"
  },
  "language_info": {
   "codemirror_mode": {
    "name": "ipython",
    "version": 3
   },
   "file_extension": ".py",
   "mimetype": "text/x-python",
   "name": "python",
   "nbconvert_exporter": "python",
   "pygments_lexer": "ipython3",
   "version": "3.10.12"
  }
 },
 "nbformat": 4,
 "nbformat_minor": 2
}
