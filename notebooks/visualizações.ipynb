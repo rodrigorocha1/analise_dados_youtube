{
 "cells": [
  {
   "cell_type": "code",
   "execution_count": 8,
   "metadata": {},
   "outputs": [],
   "source": [
    "from pyspark.sql import SparkSession"
   ]
  },
  {
   "cell_type": "code",
   "execution_count": 9,
   "metadata": {},
   "outputs": [],
   "source": [
    "spark = SparkSession.builder.appName('vizualizações3').getOrCreate()"
   ]
  },
  {
   "cell_type": "code",
   "execution_count": 10,
   "metadata": {},
   "outputs": [],
   "source": [
    "df_parquet = spark.read.parquet('/home/rodrigo/Documentos/projetos/open_weather_api_apache/analise_dados_youtube/data/projetos_youtube_v2/ouro/assunto_cities_skylines_2/total_visualizacoes_por_semana/total_visualizacoes_por_semana.parquet')\n",
    "df_parquet.createOrReplaceTempView('TOTAL_VISUALIZACOES')"
   ]
  },
  {
   "cell_type": "code",
   "execution_count": 14,
   "metadata": {},
   "outputs": [
    {
     "name": "stdout",
     "output_type": "stream",
     "text": [
      "+---------------+-----------+--------------------+---------------------+--------------------+----------+-------------------+-----------------+-----------+-----------------------+---------------------+---------------+-------------+--------------------+\n",
      "|       NM_CANAL|   ID_VIDEO|        TITULO_VIDEO|TOTAL_CARACTERE_VIDEO|                TAGS|TOTAL_TAGS|TOTAL_VISUALIZACOES|TOTAL_COMENTARIOS|TOTAL_LIKES|TOTAL_VISUALIZACOES_DIA|TOTAL_COMENTARIOS_DIA|TOTAL_LIKES_DIA|data_extracao|            ID_CANAL|\n",
      "+---------------+-----------+--------------------+---------------------+--------------------+----------+-------------------+-----------------+-----------+-----------------------+---------------------+---------------+-------------+--------------------+\n",
      "|ChratosGameplay|-QaSHAsHQSs|CITIES SKYLINES 2...|                   81|                null|         0|                  0|                0|         50|                      0|                    0|             50|   2023-10-27|UCrOH1V-FyMunBIMr...|\n",
      "|ChratosGameplay|6RgEh-9KAgY|PREFEITURA E PREV...|                   67|[cities skylines,...|        31|              42650|              220|       5600|                   3257|                    5|            283|   2023-10-27|UCrOH1V-FyMunBIMr...|\n",
      "|ChratosGameplay|9SGBZ7GE5EA|SUPER SUBÚRBIO FA...|                   70|[cities skylines,...|        31|              54375|              213|       6855|                   1561|                  213|            148|   2023-10-27|UCrOH1V-FyMunBIMr...|\n",
      "|ChratosGameplay|KfzZNkdyeEs|POLUIÇÃO FORÇA MI...|                   81|[cities skylines,...|        31|              50789|              124|       6448|                   1853|                  124|            165|   2023-10-27|UCrOH1V-FyMunBIMr...|\n",
      "|ChratosGameplay|QwXP79P4xS0|TRANSPORTE PÚBLIC...|                   64|[cities skylines,...|        31|              39265|              180|       5046|                  13719|                   37|           1004|   2023-10-27|UCrOH1V-FyMunBIMr...|\n",
      "|ChratosGameplay|TBZuVHi3QdM|BALSAS, BUSÕES E ...|                   68|[cities skylines,...|        31|              50480|              157|       6330|                   2027|                    2|            171|   2023-10-27|UCrOH1V-FyMunBIMr...|\n",
      "|ChratosGameplay|V_d6T_UKRDg|CITIES SKYLINES 2...|                   87|                null|         0|                  0|                0|         51|                      0|                    0|             51|   2023-10-27|UCrOH1V-FyMunBIMr...|\n",
      "|ChratosGameplay|XOUzWJ0bHuw|MODDERS decidem f...|                   92|[ascent of ashes,...|        33|               9540|               33|       1078|                     19|                   33|              2|   2023-10-27|UCrOH1V-FyMunBIMr...|\n",
      "|ChratosGameplay|dRzwiPwGH_M|Planejamento inic...|                   90|[Cities Skylines,...|        37|              18599|               79|       2418|                    169|                   79|             14|   2023-10-27|UCrOH1V-FyMunBIMr...|\n",
      "|ChratosGameplay|mfCGsYnClDU|CITIES SKYLINES 2...|                   88|                null|         0|                  0|                0|        149|                      0|                    0|            149|   2023-10-27|UCrOH1V-FyMunBIMr...|\n",
      "|ChratosGameplay|totHMIv6_hI|PEQUENA FORTUNA E...|                   70|[cities skylines,...|        31|              71357|              188|       8978|                   1889|                    2|            139|   2023-10-27|UCrOH1V-FyMunBIMr...|\n",
      "|ChratosGameplay|up4KrHrRwLY|DO CRIADOR DA MEL...|                   88|[cities skylines,...|        28|              33628|              111|       3382|                   1246|                    1|             61|   2023-10-27|UCrOH1V-FyMunBIMr...|\n",
      "|ChratosGameplay|vy-upTpchig|PRIMEIRA PRAÇA DA...|                   63|[cities skylines,...|        31|              60786|              201|       7321|                   1568|                    1|            156|   2023-10-27|UCrOH1V-FyMunBIMr...|\n",
      "|ChratosGameplay|wCLSZxLfUAk|MELHOR JOGO DE CO...|                   75|[cities skylines,...|        31|             120812|              418|      13988|                   3437|                    2|            204|   2023-10-27|UCrOH1V-FyMunBIMr...|\n",
      "|ChratosGameplay|xCaUzgIM6Bg|Vias expressas/Ro...|                   86|[cities skylines,...|        31|              18620|               54|       1368|                   2388|                    3|            100|   2023-10-27|UCrOH1V-FyMunBIMr...|\n",
      "|ChratosGameplay|xSAyLQ9h22k|OBRAS DO ANEL ROD...|                   60|[cities skylines,...|        31|              15805|              139|       2753|                  15805|                  139|           2753|   2023-10-27|UCrOH1V-FyMunBIMr...|\n",
      "|ChratosGameplay|zFO5_abqEss|Vias coletoras/ar...|                   78|[cities skylines,...|        31|              19942|               63|       1950|                    435|                    1|             32|   2023-10-27|UCrOH1V-FyMunBIMr...|\n",
      "|ChratosGameplay|zyG3nFm9BB8|SIMULADOR DE PLAT...|                   64|[drill deal, dril...|        33|              24021|               40|       2441|                    324|                   40|              8|   2023-10-27|UCrOH1V-FyMunBIMr...|\n",
      "|ChratosGameplay|-QaSHAsHQSs|CITIES SKYLINES 2...|                   81|                null|         0|                  0|                0|         50|                      0|                    0|             50|   2023-10-26|UCrOH1V-FyMunBIMr...|\n",
      "|ChratosGameplay|6RgEh-9KAgY|PREFEITURA E PREV...|                   67|[cities skylines,...|        31|              39393|              215|       5317|                  14489|                   36|           1215|   2023-10-26|UCrOH1V-FyMunBIMr...|\n",
      "+---------------+-----------+--------------------+---------------------+--------------------+----------+-------------------+-----------------+-----------+-----------------------+---------------------+---------------+-------------+--------------------+\n",
      "only showing top 20 rows\n",
      "\n"
     ]
    }
   ],
   "source": [
    "spark.sql('SELECT * FROM TOTAL_VISUALIZACOES').show()"
   ]
  },
  {
   "cell_type": "code",
   "execution_count": 15,
   "metadata": {},
   "outputs": [
    {
     "name": "stdout",
     "output_type": "stream",
     "text": [
      "+---------------+-----------+--------------------+---------------------+--------------------+----------+-------------------+-----------------+-----------+-----------------------+---------------------+---------------+-------------+--------------------+\n",
      "|       NM_CANAL|   ID_VIDEO|        TITULO_VIDEO|TOTAL_CARACTERE_VIDEO|                TAGS|TOTAL_TAGS|TOTAL_VISUALIZACOES|TOTAL_COMENTARIOS|TOTAL_LIKES|TOTAL_VISUALIZACOES_DIA|TOTAL_COMENTARIOS_DIA|TOTAL_LIKES_DIA|data_extracao|            ID_CANAL|\n",
      "+---------------+-----------+--------------------+---------------------+--------------------+----------+-------------------+-----------------+-----------+-----------------------+---------------------+---------------+-------------+--------------------+\n",
      "|ChratosGameplay|-QaSHAsHQSs|CITIES SKYLINES 2...|                   81|                null|         0|                  0|                0|         50|                      0|                    0|             50|   2023-10-25|UCrOH1V-FyMunBIMr...|\n",
      "|ChratosGameplay|6RgEh-9KAgY|PREFEITURA E PREV...|                   67|[cities skylines,...|        31|              24904|              179|       4102|                  24904|                  179|           4102|   2023-10-25|UCrOH1V-FyMunBIMr...|\n",
      "|ChratosGameplay|9SGBZ7GE5EA|SUPER SUBÚRBIO FA...|                   70|[cities skylines,...|        31|              50535|              212|       6510|                   3215|                    2|            318|   2023-10-25|UCrOH1V-FyMunBIMr...|\n",
      "|ChratosGameplay|KfzZNkdyeEs|POLUIÇÃO FORÇA MI...|                   81|[cities skylines,...|        31|              46106|              124|       6023|                   4238|                    5|            417|   2023-10-25|UCrOH1V-FyMunBIMr...|\n",
      "|ChratosGameplay|TBZuVHi3QdM|BALSAS, BUSÕES E ...|                   68|[cities skylines,...|        31|              44415|              155|       5771|                  16809|                   29|           1355|   2023-10-25|UCrOH1V-FyMunBIMr...|\n",
      "|ChratosGameplay|V_d6T_UKRDg|CITIES SKYLINES 2...|                   87|                null|         0|                  0|                0|         52|                      0|                    0|              3|   2023-10-25|UCrOH1V-FyMunBIMr...|\n",
      "|ChratosGameplay|XOUzWJ0bHuw|MODDERS decidem f...|                   92|[ascent of ashes,...|        33|               9488|               33|       1076|                     37|                   33|              4|   2023-10-25|UCrOH1V-FyMunBIMr...|\n",
      "|ChratosGameplay|dRzwiPwGH_M|Planejamento inic...|                   90|[Cities Skylines,...|        37|              18197|               79|       2400|                    193|                   79|              8|   2023-10-25|UCrOH1V-FyMunBIMr...|\n",
      "|ChratosGameplay|mfCGsYnClDU|CITIES SKYLINES 2...|                   88|                null|         0|                  0|                0|        149|                      0|                    0|            149|   2023-10-25|UCrOH1V-FyMunBIMr...|\n",
      "|ChratosGameplay|totHMIv6_hI|PEQUENA FORTUNA E...|                   70|[cities skylines,...|        31|              66655|              186|       8625|                   3556|                    1|            279|   2023-10-25|UCrOH1V-FyMunBIMr...|\n",
      "|ChratosGameplay|up4KrHrRwLY|DO CRIADOR DA MEL...|                   88|[cities skylines,...|        28|              31135|              107|       3261|                   1277|                    2|             59|   2023-10-25|UCrOH1V-FyMunBIMr...|\n",
      "|ChratosGameplay|vy-upTpchig|PRIMEIRA PRAÇA DA...|                   63|[cities skylines,...|        31|              57019|              199|       6985|                   3017|                    4|            260|   2023-10-25|UCrOH1V-FyMunBIMr...|\n",
      "|ChratosGameplay|wCLSZxLfUAk|MELHOR JOGO DE CO...|                   75|[cities skylines,...|        31|             111842|              414|      13460|                   7433|                    6|            427|   2023-10-25|UCrOH1V-FyMunBIMr...|\n",
      "|ChratosGameplay|xCaUzgIM6Bg|Vias expressas/Ro...|                   86|[cities skylines,...|        31|               4298|               30|        633|                   4298|                   30|            633|   2023-10-25|UCrOH1V-FyMunBIMr...|\n",
      "|ChratosGameplay|zFO5_abqEss|Vias coletoras/ar...|                   78|[cities skylines,...|        31|              18699|               60|       1856|                   1361|                    6|            100|   2023-10-25|UCrOH1V-FyMunBIMr...|\n",
      "|ChratosGameplay|zyG3nFm9BB8|SIMULADOR DE PLAT...|                   64|[drill deal, dril...|        33|              23317|               40|       2403|                    396|                   40|             20|   2023-10-25|UCrOH1V-FyMunBIMr...|\n",
      "|      MetalBear|FW11WBBHJTI|Gameplay AO VIVO ...|                   38|[metalbear, baldu...|        14|               2121|                2|        253|                      1|                    2|            253|   2023-10-25|UCfY4ggUDPeecGSCN...|\n",
      "|      MetalBear|IIbZ8ok9WpA|Gameplay AO VIVO ...|                   38|[metalbear, baldu...|        14|               1462|                0|        126|                     34|                    0|              2|   2023-10-25|UCfY4ggUDPeecGSCN...|\n",
      "|      MetalBear|KsWGb7aVhkI|Indústria, Trens ...|                   75|[metalbear, Citie...|        14|               6038|               15|        340|                   1304|                    3|             45|   2023-10-25|UCfY4ggUDPeecGSCN...|\n",
      "|      MetalBear|PXFSPpOhqiU|Expansões e Educa...|                   46|[metalbear, Citie...|        14|               5321|               12|        441|                    151|                   12|             11|   2023-10-25|UCfY4ggUDPeecGSCN...|\n",
      "+---------------+-----------+--------------------+---------------------+--------------------+----------+-------------------+-----------------+-----------+-----------------------+---------------------+---------------+-------------+--------------------+\n",
      "only showing top 20 rows\n",
      "\n"
     ]
    }
   ],
   "source": [
    "spark.sql('SELECT * FROM TOTAL_VISUALIZACOES where data_extracao = \"2023-10-25\"').show()"
   ]
  },
  {
   "cell_type": "markdown",
   "metadata": {},
   "source": [
    "# Relação Comentários X Likes (proporção)"
   ]
  },
  {
   "cell_type": "code",
   "execution_count": null,
   "metadata": {},
   "outputs": [],
   "source": []
  },
  {
   "cell_type": "markdown",
   "metadata": {},
   "source": [
    "# Relação Visualizações X Likes (proporção)"
   ]
  },
  {
   "cell_type": "code",
   "execution_count": null,
   "metadata": {},
   "outputs": [],
   "source": []
  },
  {
   "cell_type": "markdown",
   "metadata": {},
   "source": [
    "# Dia em que os vídeos são Públicados com alta frequência"
   ]
  },
  {
   "cell_type": "code",
   "execution_count": null,
   "metadata": {},
   "outputs": [],
   "source": []
  },
  {
   "cell_type": "markdown",
   "metadata": {},
   "source": [
    "# Total de Tags X Vísualizações "
   ]
  },
  {
   "cell_type": "code",
   "execution_count": null,
   "metadata": {},
   "outputs": [],
   "source": []
  },
  {
   "cell_type": "markdown",
   "metadata": {},
   "source": [
    "# Tamanho dos títulos do Vídeos X Vísualizações"
   ]
  },
  {
   "cell_type": "code",
   "execution_count": null,
   "metadata": {},
   "outputs": [],
   "source": []
  },
  {
   "cell_type": "markdown",
   "metadata": {},
   "source": [
    "# Total Víews por Vídeo"
   ]
  },
  {
   "cell_type": "code",
   "execution_count": null,
   "metadata": {},
   "outputs": [],
   "source": []
  },
  {
   "cell_type": "markdown",
   "metadata": {},
   "source": [
    "# A duração do vídeo é importante para visualizações e interação (curtidas/comentários)?"
   ]
  },
  {
   "cell_type": "code",
   "execution_count": null,
   "metadata": {},
   "outputs": [],
   "source": []
  }
 ],
 "metadata": {
  "kernelspec": {
   "display_name": "venv",
   "language": "python",
   "name": "python3"
  },
  "language_info": {
   "codemirror_mode": {
    "name": "ipython",
    "version": 3
   },
   "file_extension": ".py",
   "mimetype": "text/x-python",
   "name": "python",
   "nbconvert_exporter": "python",
   "pygments_lexer": "ipython3",
   "version": "3.10.12"
  }
 },
 "nbformat": 4,
 "nbformat_minor": 2
}
