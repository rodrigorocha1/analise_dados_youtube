{
 "cells": [
  {
   "cell_type": "code",
   "execution_count": 95,
   "metadata": {},
   "outputs": [],
   "source": [
    "from pyspark.sql import SparkSession\n",
    "import plotly.express as px\n",
    "from plotly.subplots import make_subplots\n",
    "import plotly.graph_objects as go\n",
    "import pandas as pd"
   ]
  },
  {
   "cell_type": "code",
   "execution_count": 2,
   "metadata": {},
   "outputs": [
    {
     "name": "stdout",
     "output_type": "stream",
     "text": [
      "23/11/10 22:11:59 WARN Utils: Your hostname, rodrigo-Nitro-AN515-54 resolves to a loopback address: 127.0.1.1; using 192.168.0.112 instead (on interface wlp8s0)\n",
      "23/11/10 22:11:59 WARN Utils: Set SPARK_LOCAL_IP if you need to bind to another address\n"
     ]
    },
    {
     "name": "stderr",
     "output_type": "stream",
     "text": [
      "Setting default log level to \"WARN\".\n",
      "To adjust logging level use sc.setLogLevel(newLevel). For SparkR, use setLogLevel(newLevel).\n"
     ]
    },
    {
     "name": "stdout",
     "output_type": "stream",
     "text": [
      "23/11/10 22:12:01 WARN NativeCodeLoader: Unable to load native-hadoop library for your platform... using builtin-java classes where applicable\n"
     ]
    }
   ],
   "source": [
    "spark = SparkSession.builder.appName('vizualizações3').getOrCreate()"
   ]
  },
  {
   "cell_type": "code",
   "execution_count": 3,
   "metadata": {},
   "outputs": [
    {
     "data": {
      "text/html": [
       "\n",
       "            <div>\n",
       "                <p><b>SparkSession - in-memory</b></p>\n",
       "                \n",
       "        <div>\n",
       "            <p><b>SparkContext</b></p>\n",
       "\n",
       "            <p><a href=\"http://192.168.0.112:4040\">Spark UI</a></p>\n",
       "\n",
       "            <dl>\n",
       "              <dt>Version</dt>\n",
       "                <dd><code>v3.3.0</code></dd>\n",
       "              <dt>Master</dt>\n",
       "                <dd><code>local[*]</code></dd>\n",
       "              <dt>AppName</dt>\n",
       "                <dd><code>vizualizações3</code></dd>\n",
       "            </dl>\n",
       "        </div>\n",
       "        \n",
       "            </div>\n",
       "        "
      ],
      "text/plain": [
       "<pyspark.sql.session.SparkSession at 0x7f3a3cd1cca0>"
      ]
     },
     "execution_count": 3,
     "metadata": {},
     "output_type": "execute_result"
    }
   ],
   "source": [
    "spark"
   ]
  },
  {
   "cell_type": "code",
   "execution_count": 4,
   "metadata": {},
   "outputs": [
    {
     "name": "stderr",
     "output_type": "stream",
     "text": [
      "                                                                                \r"
     ]
    }
   ],
   "source": [
    "df_parquet = spark.read.parquet('/home/rodrigo/Documentos/projetos/open_weather_api_apache/analise_dados_youtube/data/projetos_youtube_v2/ouro/assunto_cities_skylines/total_video_publicado_semana/total_video_publicado_semana.parquet')\n",
    "df_parquet.createOrReplaceTempView('TOTAL_PUBLICACOES')"
   ]
  },
  {
   "cell_type": "code",
   "execution_count": 5,
   "metadata": {},
   "outputs": [
    {
     "name": "stderr",
     "output_type": "stream",
     "text": [
      "                                                                                \r"
     ]
    },
    {
     "name": "stdout",
     "output_type": "stream",
     "text": [
      "+----------------+----------------------------+------------+---------------+------------------------+\n",
      "|SEMANA_TRADUZIDA|NM_CANAL                    |TOTAL_VIDEOS|DATA_PUBLICACAO|ID_CANAL                |\n",
      "+----------------+----------------------------+------------+---------------+------------------------+\n",
      "|Segunda-feira   |CANAL HAND - GAME WITH MUSIC|1           |2023-10-16     |UC7v51W2NoLFawizgcNuVBOA|\n",
      "|Segunda-feira   |CANAL HAND - GAME WITH MUSIC|1           |2023-10-23     |UC7v51W2NoLFawizgcNuVBOA|\n",
      "|Quarta-feira    |CANAL HAND - GAME WITH MUSIC|1           |2023-10-18     |UC7v51W2NoLFawizgcNuVBOA|\n",
      "|Terça-feira     |CANAL HAND - GAME WITH MUSIC|1           |2023-10-17     |UC7v51W2NoLFawizgcNuVBOA|\n",
      "|Sexta-feira     |CANAL HAND - GAME WITH MUSIC|1           |2023-10-20     |UC7v51W2NoLFawizgcNuVBOA|\n",
      "|Sábado          |CANAL HAND - GAME WITH MUSIC|1           |2023-10-21     |UC7v51W2NoLFawizgcNuVBOA|\n",
      "|Domingo         |CANAL HAND - GAME WITH MUSIC|1           |2023-10-22     |UC7v51W2NoLFawizgcNuVBOA|\n",
      "|Domingo         |CANAL HAND - GAME WITH MUSIC|1           |2023-10-15     |UC7v51W2NoLFawizgcNuVBOA|\n",
      "|Terça-feira     |Cogumelando Videogame       |1           |2023-10-24     |UCXso4Ho8UARhzS3I_LOVTKA|\n",
      "|Segunda-feira   |Canal Sala de Jogos         |1           |2023-10-16     |UCYEb5mbKZ5JJzN0xBuKyaig|\n",
      "|Segunda-feira   |Canal Sala de Jogos         |1           |2023-10-23     |UCYEb5mbKZ5JJzN0xBuKyaig|\n",
      "|Quinta-feira    |Canal Sala de Jogos         |1           |2023-10-19     |UCYEb5mbKZ5JJzN0xBuKyaig|\n",
      "|Segunda-feira   |ChratosGameplay             |1           |2023-10-23     |UCrOH1V-FyMunBIMrKL0y0xQ|\n",
      "|Segunda-feira   |ChratosGameplay             |1           |2023-10-16     |UCrOH1V-FyMunBIMrKL0y0xQ|\n",
      "|Terça-feira     |ChratosGameplay             |1           |2023-10-24     |UCrOH1V-FyMunBIMrKL0y0xQ|\n",
      "|Quinta-feira    |ChratosGameplay             |1           |2023-10-26     |UCrOH1V-FyMunBIMrKL0y0xQ|\n",
      "|Quinta-feira    |ChratosGameplay             |1           |2023-10-19     |UCrOH1V-FyMunBIMrKL0y0xQ|\n",
      "|Quarta-feira    |ChratosGameplay             |1           |2023-10-18     |UCrOH1V-FyMunBIMrKL0y0xQ|\n",
      "|Terça-feira     |ChratosGameplay             |1           |2023-10-17     |UCrOH1V-FyMunBIMrKL0y0xQ|\n",
      "|Quarta-feira    |ChratosGameplay             |1           |2023-10-25     |UCrOH1V-FyMunBIMrKL0y0xQ|\n",
      "+----------------+----------------------------+------------+---------------+------------------------+\n",
      "only showing top 20 rows\n",
      "\n"
     ]
    }
   ],
   "source": [
    "spark.sql('SELECT * FROM TOTAL_PUBLICACOES WHERE NM_CANAL LIKE \"C%\"').show(truncate=False)"
   ]
  },
  {
   "cell_type": "code",
   "execution_count": 6,
   "metadata": {},
   "outputs": [
    {
     "name": "stderr",
     "output_type": "stream",
     "text": [
      "[Stage 3:>                                                          (0 + 8) / 8]\r"
     ]
    },
    {
     "name": "stdout",
     "output_type": "stream",
     "text": [
      "+---------------+-----------------+\n",
      "|DATA_PUBLICACAO|sum(TOTAL_VIDEOS)|\n",
      "+---------------+-----------------+\n",
      "|     2023-10-25|               23|\n",
      "|     2023-10-16|               16|\n",
      "|     2023-10-15|               10|\n",
      "|     2023-10-18|               14|\n",
      "|     2023-10-23|               24|\n",
      "|     2023-10-21|               21|\n",
      "|     2023-10-20|               13|\n",
      "|     2023-10-19|               17|\n",
      "|     2023-10-22|               15|\n",
      "|     2023-10-17|               16|\n",
      "|     2023-10-26|               22|\n",
      "|     2023-10-24|               23|\n",
      "|     2023-10-27|               21|\n",
      "+---------------+-----------------+\n",
      "\n"
     ]
    },
    {
     "name": "stderr",
     "output_type": "stream",
     "text": [
      "                                                                                \r"
     ]
    }
   ],
   "source": [
    "spark.sql('SELECT DATA_PUBLICACAO, sum(TOTAL_VIDEOS) FROM TOTAL_PUBLICACOES GROUP BY  DATA_PUBLICACAO').show()"
   ]
  },
  {
   "cell_type": "code",
   "execution_count": 7,
   "metadata": {},
   "outputs": [
    {
     "name": "stdout",
     "output_type": "stream",
     "text": [
      "+--------+\n",
      "|count(1)|\n",
      "+--------+\n",
      "|      23|\n",
      "+--------+\n",
      "\n"
     ]
    }
   ],
   "source": [
    "spark.sql('SELECT COUNT(*) FROM TOTAL_PUBLICACOES where DATA_PUBLICACAO = \"2023-10-25\"  ' ).show(26)"
   ]
  },
  {
   "cell_type": "markdown",
   "metadata": {},
   "source": [
    "- Relação Comentários X Visualização (proporção) e Relação Visualizações X Likes (proporção)"
   ]
  },
  {
   "cell_type": "code",
   "execution_count": 36,
   "metadata": {},
   "outputs": [],
   "source": [
    "assunto = 'assunto_cities_skylines'"
   ]
  },
  {
   "cell_type": "code",
   "execution_count": 37,
   "metadata": {},
   "outputs": [],
   "source": [
    "df_visualizacoes_semana = spark.read.parquet(f'/home/rodrigo/Documentos/projetos/open_weather_api_apache/analise_dados_youtube/data/projetos_youtube_v2/ouro/{assunto}/total_visualizacoes_por_semana')\n",
    "df_visualizacoes_semana.createOrReplaceTempView('METRICAS_VIDEO')"
   ]
  },
  {
   "cell_type": "code",
   "execution_count": 38,
   "metadata": {},
   "outputs": [
    {
     "name": "stdout",
     "output_type": "stream",
     "text": [
      "+---------------+-----------+---------------------------------------------------------------------------------------------+---------------------+------------------------------------------------------------------------------------------------------------------------------------------------------------------------------------------------------------------------------------------------------------------------------------------------------------------------------------------------------------------------------------------------------------------------------------------------------------------------------------------------------------------------+---------------------+----------+-------------------+-----------------+-----------+-----------------------+---------------------+---------------+-------------+------------------------+\n",
      "|NM_CANAL       |ID_VIDEO   |TITULO_VIDEO                                                                                 |TOTAL_CARACTERE_VIDEO|TAGS                                                                                                                                                                                                                                                                                                                                                                                                                                                                                                                    |DURACAO_VIDEO_MINUTOS|TOTAL_TAGS|TOTAL_VISUALIZACOES|TOTAL_COMENTARIOS|TOTAL_LIKES|TOTAL_VISUALIZACOES_DIA|TOTAL_COMENTARIOS_DIA|TOTAL_LIKES_DIA|data_extracao|ID_CANAL                |\n",
      "+---------------+-----------+---------------------------------------------------------------------------------------------+---------------------+------------------------------------------------------------------------------------------------------------------------------------------------------------------------------------------------------------------------------------------------------------------------------------------------------------------------------------------------------------------------------------------------------------------------------------------------------------------------------------------------------------------------+---------------------+----------+-------------------+-----------------+-----------+-----------------------+---------------------+---------------+-------------+------------------------+\n",
      "|ChratosGameplay|-QaSHAsHQSs|CITIES SKYLINES 2: É PAU É PEDRA É A ECONOMIA DA CIDADE DO CHAT! (LINK DESCRIÇÃO)            |81                   |null                                                                                                                                                                                                                                                                                                                                                                                                                                                                                                                    |0.0                  |0         |0                  |0                |50         |0                      |0                    |50             |2023-10-27   |UCrOH1V-FyMunBIMrKL0y0xQ|\n",
      "|ChratosGameplay|6RgEh-9KAgY|PREFEITURA E PREVIDÊNCIA CHEGAM A CIDADE! 🏙️ - Cities Skylines 2 #7                         |67                   |[cities skylines, cities skylines 2, cities skylines gameplay, cities skylines 2 gameplay, cities, skylines, gameplay, city builder, cities skylines como começar, cities skylines tutorial, city skylines, tutorial, citybuilder, brasil, cities: skylines, mods, cities skylines pt br, cidade, chratos, cities skylines 2 vs 1, cities skylines 2 tutorial, cities skylines 2 mods, cities skylines ii, cities 2, cs2, city skylines 2, cities skylines 2 ptbr, cities: skylines 2 pt br, pt, br, ptbr]              |26.88                |31        |42650              |220              |5600       |3257                   |5                    |283            |2023-10-27   |UCrOH1V-FyMunBIMrKL0y0xQ|\n",
      "|ChratosGameplay|9SGBZ7GE5EA|SUPER SUBÚRBIO FAZ ALCANÇAR 10000 HABITANTES 🏙️ - Cities Skylines 2 #4                      |70                   |[cities skylines, cities skylines 2, cities skylines gameplay, cities skylines 2 gameplay, cities, skylines, gameplay, city builder, cities skylines como começar, cities skylines tutorial, city skylines, tutorial, citybuilder, brasil, cities: skylines, mods, cities skylines pt br, cidade, chratos, cities skylines 2 vs 1, cities skylines 2 tutorial, cities skylines 2 mods, cities skylines ii, cities 2, cs2, city skylines 2, cities skylines 2 ptbr, cities: skylines 2 pt br, pt, br, ptbr]              |25.67                |31        |54375              |213              |6855       |1561                   |213                  |148            |2023-10-27   |UCrOH1V-FyMunBIMrKL0y0xQ|\n",
      "|ChratosGameplay|KfzZNkdyeEs|POLUIÇÃO FORÇA MIGRAÇÃO DA INDÚSTRIA PARA NOVO DISTRITO 🏙️ - Cities Skylines 2 #5           |81                   |[cities skylines, cities skylines 2, cities skylines gameplay, cities skylines 2 gameplay, cities, skylines, gameplay, city builder, cities skylines como começar, cities skylines tutorial, city skylines, tutorial, citybuilder, brasil, cities: skylines, mods, cities skylines pt br, cidade, chratos, cities skylines 2 vs 1, cities skylines 2 tutorial, cities skylines 2 mods, cities skylines ii, cities 2, cs2, city skylines 2, cities skylines 2 ptbr, cities: skylines 2 pt br, pt, br, ptbr]              |28.43                |31        |50789              |124              |6448       |1853                   |124                  |165            |2023-10-27   |UCrOH1V-FyMunBIMrKL0y0xQ|\n",
      "|ChratosGameplay|QwXP79P4xS0|TRANSPORTE PÚBLICO DE MASSA COM TRENS! 🏙️ - Cities Skylines 2 #8                            |64                   |[cities skylines, cities skylines 2, cities skylines gameplay, cities skylines 2 gameplay, cities, skylines, gameplay, city builder, cities skylines como começar, cities skylines tutorial, city skylines, tutorial, citybuilder, brasil, cities: skylines, mods, cities skylines pt br, cidade, chratos, cities skylines 2 vs 1, cities skylines 2 tutorial, cities skylines 2 mods, cities skylines ii, cities 2, cs2, city skylines 2, cities skylines 2 ptbr, cities: skylines 2 pt br, pt, br, ptbr]              |32.28                |31        |39265              |180              |5046       |13719                  |37                   |1003           |2023-10-27   |UCrOH1V-FyMunBIMrKL0y0xQ|\n",
      "|ChratosGameplay|TBZuVHi3QdM|BALSAS, BUSÕES E BONDES SALVARAM TRÂNSITO? 🏙️ - Cities Skylines 2 #6                        |68                   |[cities skylines, cities skylines 2, cities skylines gameplay, cities skylines 2 gameplay, cities, skylines, gameplay, city builder, cities skylines como começar, cities skylines tutorial, city skylines, tutorial, citybuilder, brasil, cities: skylines, mods, cities skylines pt br, cidade, chratos, cities skylines 2 vs 1, cities skylines 2 tutorial, cities skylines 2 mods, cities skylines ii, cities 2, cs2, city skylines 2, cities skylines 2 ptbr, cities: skylines 2 pt br, pt, br, ptbr]              |29.13                |31        |50480              |157              |6330       |2027                   |2                    |171            |2023-10-27   |UCrOH1V-FyMunBIMrKL0y0xQ|\n",
      "|ChratosGameplay|V_d6T_UKRDg|CITIES SKYLINES 2: LANÇAMENTO OFICIAL E EXPLORANDO A ECONOMIA DO JOGO! (LINK DESCRIÇÃO)      |87                   |null                                                                                                                                                                                                                                                                                                                                                                                                                                                                                                                    |0.0                  |0         |0                  |0                |51         |0                      |0                    |51             |2023-10-27   |UCrOH1V-FyMunBIMrKL0y0xQ|\n",
      "|ChratosGameplay|XOUzWJ0bHuw|MODDERS decidem fazer O MELHOR JOGO DE GERENCIMENTO COM COMBATE TÁTICO? 🎖️ - Ascent of Ashes|92                   |[ascent of ashes, rimworld, chratos, gameplay, chratosgameplay, pt, br, ptbr, portugal, brasil, ascent of ashes gameplay, colony sim, rimworld gameplay, rimworld mods, base building, city builder, ascent of ashes game, colony sim games 2023, colony simulator, colony sim games, estratégia, gerenciamento, 2023, ascent of ashes steam, ascent of ashes download, rimworld fans, rimworld lets play, rimworld combat extended, strategy, rts, real time tactics, tático, combate]                                 |23.25                |33        |9540               |33               |1078       |19                     |33                   |2              |2023-10-27   |UCrOH1V-FyMunBIMrKL0y0xQ|\n",
      "|ChratosGameplay|dRzwiPwGH_M|Planejamento inicial PODE SALVAR SUA CIDADE! 🚗 - Cities Skylines  - CONSERTANDO O TRÂNSITO  |90                   |[Cities Skylines, parklife, dlc, new, gameplay, chratos, paradox, citybuilder, cities: skylines, video game, city builder, paradox interactive, game, cities, colossal order, city building, cities skylines dlc, skylines, let's play, construir, parque, portugal, pt-br, pt br, brasil, steam, jogo, tutorial, lets play, mod, mods, cities skylines tutorial roads, cities skylines gameplay, cities skylines como começar, cities skylines gameplay 2020, cities skylines dicas transito, cities skylines tutorial]|25.22                |37        |18599              |79               |2418       |169                    |79                   |14             |2023-10-27   |UCrOH1V-FyMunBIMrKL0y0xQ|\n",
      "|ChratosGameplay|mfCGsYnClDU|CITIES SKYLINES 2: BORA LEVANTAR UMA CIDADE COM A PARTICIPAÇÃO DO CHAT! (LINK DESCRIÇÃO)     |88                   |null                                                                                                                                                                                                                                                                                                                                                                                                                                                                                                                    |0.0                  |0         |0                  |0                |149        |0                      |0                    |149            |2023-10-27   |UCrOH1V-FyMunBIMrKL0y0xQ|\n",
      "|ChratosGameplay|totHMIv6_hI|PEQUENA FORTUNA EM SERVIÇOS PÚBLICOS BÁSICOS 🏙️ - Cities Skylines 2 #2                      |70                   |[cities skylines, cities skylines 2, cities skylines gameplay, cities skylines 2 gameplay, cities, skylines, gameplay, city builder, cities skylines como começar, cities skylines tutorial, city skylines, tutorial, citybuilder, brasil, cities: skylines, mods, cities skylines pt br, cidade, chratos, cities skylines 2 vs 1, cities skylines 2 tutorial, cities skylines 2 mods, cities skylines ii, cities 2, cs2, city skylines 2, cities skylines 2 ptbr, cities: skylines 2 pt br, pt, br, ptbr]              |31.92                |31        |71357              |188              |8978       |1889                   |2                    |139            |2023-10-27   |UCrOH1V-FyMunBIMrKL0y0xQ|\n",
      "|ChratosGameplay|up4KrHrRwLY|DO CRIADOR DA MELHOR CIDADE JÁ FEITA, A NOVA MELHOR CIDADE? 🏢 - Cities Skylines Showcase    |88                   |[cities skylines, cities skylines 2, cities skylines gameplay, cities skylines 2 gameplay, cities skylines financial district, cities skylines airport, cities skylines timelapse, cities skylines vanilla, cities skylines mods, cities skylines dlc, cities, skylines, gameplay, city builder, cities skylines como começar, cities skylines tutorial, city skylines, tutorial, colossal order, citybuilder, paradox, brasil, lets play, cities: skylines, mods, cities skylines pt br, cidade, chratos]              |42.43                |28        |33628              |111              |3382       |1246                   |1                    |61             |2023-10-27   |UCrOH1V-FyMunBIMrKL0y0xQ|\n",
      "|ChratosGameplay|vy-upTpchig|PRIMEIRA PRAÇA DA CIDADE SAI DO PAPEL 🏙️ - Cities Skylines 2 #3                             |63                   |[cities skylines, cities skylines 2, cities skylines gameplay, cities skylines 2 gameplay, cities, skylines, gameplay, city builder, cities skylines como começar, cities skylines tutorial, city skylines, tutorial, citybuilder, brasil, cities: skylines, mods, cities skylines pt br, cidade, chratos, cities skylines 2 vs 1, cities skylines 2 tutorial, cities skylines 2 mods, cities skylines ii, cities 2, cs2, city skylines 2, cities skylines 2 ptbr, cities: skylines 2 pt br, pt, br, ptbr]              |22.95                |31        |60786              |201              |7321       |1568                   |1                    |156            |2023-10-27   |UCrOH1V-FyMunBIMrKL0y0xQ|\n",
      "|ChratosGameplay|wCLSZxLfUAk|MELHOR JOGO DE CONSTRUIR CIDADES CHEGOU E ESTÁ LINDO 🏙️ - Cities Skylines 2                 |75                   |[cities skylines, cities skylines 2, cities skylines gameplay, cities skylines 2 gameplay, cities, skylines, gameplay, city builder, cities skylines como começar, cities skylines tutorial, city skylines, tutorial, citybuilder, brasil, cities: skylines, mods, cities skylines pt br, cidade, chratos, cities skylines 2 vs 1, cities skylines 2 tutorial, cities skylines 2 mods, cities skylines ii, cities 2, cs2, city skylines 2, cities skylines 2 ptbr, cities: skylines 2 pt br, pt, br, ptbr]              |19.63                |31        |120812             |418              |13988      |3437                   |2                    |204            |2023-10-27   |UCrOH1V-FyMunBIMrKL0y0xQ|\n",
      "|ChratosGameplay|xCaUzgIM6Bg|Vias expressas/Rodovias e aneis rodoviários - Guia de planejamento - Cities Skylines 2       |86                   |[cities skylines, cities skylines 2, cities skylines gameplay, cities skylines 2 gameplay, cities, skylines, gameplay, city builder, cities skylines como começar, cities skylines tutorial, city skylines, tutorial, citybuilder, brasil, cities: skylines, mods, cities skylines pt br, cidade, chratos, cities skylines 2 vs 1, cities skylines 2 tutorial, cities skylines 2 mods, cities skylines ii, cities 2, cs2, city skylines 2, cities skylines 2 ptbr, cities: skylines 2 pt br, pt, br, ptbr]              |19.02                |31        |18620              |54               |1368       |2388                   |3                    |100            |2023-10-27   |UCrOH1V-FyMunBIMrKL0y0xQ|\n",
      "|ChratosGameplay|xSAyLQ9h22k|OBRAS DO ANEL RODOVIÁRIO COMPLETA! 🏙️ - Cities Skylines 2 #9                                |60                   |[cities skylines, cities skylines 2, cities skylines gameplay, cities skylines 2 gameplay, cities, skylines, gameplay, city builder, cities skylines como começar, cities skylines tutorial, city skylines, tutorial, citybuilder, brasil, cities: skylines, mods, cities skylines pt br, cidade, chratos, cities skylines 2 vs 1, cities skylines 2 tutorial, cities skylines 2 mods, cities skylines ii, cities 2, cs2, city skylines 2, cities skylines 2 ptbr, cities: skylines 2 pt br, pt, br, ptbr]              |26.32                |31        |15805              |139              |2753       |15805                  |139                  |2753           |2023-10-27   |UCrOH1V-FyMunBIMrKL0y0xQ|\n",
      "|ChratosGameplay|zFO5_abqEss|Vias coletoras/arteriais e avenidas - Guia de planejamento - Cities Skylines 2               |78                   |[cities skylines, cities skylines 2, cities skylines gameplay, cities skylines 2 gameplay, cities, skylines, gameplay, city builder, cities skylines como começar, cities skylines tutorial, city skylines, tutorial, citybuilder, brasil, cities: skylines, mods, cities skylines pt br, cidade, chratos, cities skylines 2 vs 1, cities skylines 2 tutorial, cities skylines 2 mods, cities skylines ii, cities 2, cs2, city skylines 2, cities skylines 2 ptbr, cities: skylines 2 pt br, pt, br, ptbr]              |16.78                |31        |19942              |63               |1950       |435                    |1                    |32             |2023-10-27   |UCrOH1V-FyMunBIMrKL0y0xQ|\n",
      "|ChratosGameplay|zyG3nFm9BB8|SIMULADOR DE PLATAFORMA DE PETRÓLEO DA PETROBRÁS! ⛽ - Drill Deal                             |64                   |[drill deal, drill deal oil tycoon, oil tycoon, drill deal – oil tycoon, drill deal gameplay, drill deal ps4, drill deal pc, drill deal oil tycoon gameplay, oil tycoon game, chratos, gameplay, chratosgameplay, pt, br, ptbr, português, portugal, brasil, drill deal oil tycoon review, drill deals, pt br, magnata do petróleo, drill deal trailer, drill deal game, drill deal lets play, tycoon, petrobrás, petróleo, plataforma, estratégia, gerenciamento, city builder, cities skylines]                       |34.05                |33        |24021              |40               |2441       |324                    |40                   |8              |2023-10-27   |UCrOH1V-FyMunBIMrKL0y0xQ|\n",
      "|ChratosGameplay|-QaSHAsHQSs|CITIES SKYLINES 2: É PAU É PEDRA É A ECONOMIA DA CIDADE DO CHAT! (LINK DESCRIÇÃO)            |81                   |null                                                                                                                                                                                                                                                                                                                                                                                                                                                                                                                    |0.0                  |0         |0                  |0                |50         |0                      |0                    |50             |2023-10-26   |UCrOH1V-FyMunBIMrKL0y0xQ|\n",
      "|ChratosGameplay|6RgEh-9KAgY|PREFEITURA E PREVIDÊNCIA CHEGAM A CIDADE! 🏙️ - Cities Skylines 2 #7                         |67                   |[cities skylines, cities skylines 2, cities skylines gameplay, cities skylines 2 gameplay, cities, skylines, gameplay, city builder, cities skylines como começar, cities skylines tutorial, city skylines, tutorial, citybuilder, brasil, cities: skylines, mods, cities skylines pt br, cidade, chratos, cities skylines 2 vs 1, cities skylines 2 tutorial, cities skylines 2 mods, cities skylines ii, cities 2, cs2, city skylines 2, cities skylines 2 ptbr, cities: skylines 2 pt br, pt, br, ptbr]              |26.88                |31        |39393              |215              |5317       |14489                  |36                   |1215           |2023-10-26   |UCrOH1V-FyMunBIMrKL0y0xQ|\n",
      "+---------------+-----------+---------------------------------------------------------------------------------------------+---------------------+------------------------------------------------------------------------------------------------------------------------------------------------------------------------------------------------------------------------------------------------------------------------------------------------------------------------------------------------------------------------------------------------------------------------------------------------------------------------------------------------------------------------+---------------------+----------+-------------------+-----------------+-----------+-----------------------+---------------------+---------------+-------------+------------------------+\n",
      "only showing top 20 rows\n",
      "\n"
     ]
    }
   ],
   "source": [
    "spark.sql(' SELECT *'\n",
    "          ' FROM METRICAS_VIDEO ').show(truncate=False)"
   ]
  },
  {
   "cell_type": "code",
   "execution_count": 39,
   "metadata": {},
   "outputs": [
    {
     "name": "stderr",
     "output_type": "stream",
     "text": [
      "[Stage 56:========================================>               (15 + 6) / 21]\r"
     ]
    },
    {
     "name": "stdout",
     "output_type": "stream",
     "text": [
      "+------------------------+----------------------------+--------+\n",
      "|ID_CANAL                |NM_CANAL                    |count(1)|\n",
      "+------------------------+----------------------------+--------+\n",
      "|UCrOH1V-FyMunBIMrKL0y0xQ|ChratosGameplay             |114     |\n",
      "|UC7v51W2NoLFawizgcNuVBOA|CANAL HAND - GAME WITH MUSIC|83      |\n",
      "|UCkXA2EoaXRFW18vrAE01BpQ|Betospa Gaming              |67      |\n",
      "|UC1mk6EtfMjxR4eEZ7C43zTQ|Irmãos Cities               |67      |\n",
      "|UCfY4ggUDPeecGSCNePyyVSA|MetalBear                   |58      |\n",
      "|UCcn60fs5EMW8A_k9R-e4gEg|Cabrunco Games              |51      |\n",
      "|UCOYJm7BsLV8VCkW2DC1MI5w|Lucas gameplays brasil      |51      |\n",
      "|UCayiH2Y5JBEOSubqoQhufDA|Lives do Chratos            |48      |\n",
      "|UCDGo_s0I-2JpO3o3xlkMQVA|Simularies                  |38      |\n",
      "|UCrUcdH_bCfX77xpXHyq2fJw|Canal do Void               |37      |\n",
      "|UCmg3_taw1BrGuo1ITlQe2hA|O Construtor                |36      |\n",
      "|UCTrNnXivZU_1-aJqn1uNANg|DILSÃO                      |35      |\n",
      "|UCe9jrI0YQ5SM6h5QRZ9FZlA|Barbosa Cities              |28      |\n",
      "|UCMsbzwrSvRJoa0JhS5YcsqQ|rlkpedrom                   |26      |\n",
      "|UCxIMGC-GmZ2pXE_jGGW2C9A|Majestic                    |26      |\n",
      "|UCp7gzkfbWE7jazP65W9ZtWg|Ganso GamePlay              |25      |\n",
      "|UCYEb5mbKZ5JJzN0xBuKyaig|Canal Sala de Jogos         |24      |\n",
      "|UCvEj9EurcC8q5hkV-Apf4jA|Sr L                        |22      |\n",
      "|UCwBN6GQiolq3EkRPYC7OTtA|Grilo Gamer                 |21      |\n",
      "|UCABm0SdJCoM6z0MFod7s3Lg|Prompt Dark                 |19      |\n",
      "+------------------------+----------------------------+--------+\n",
      "only showing top 20 rows\n",
      "\n"
     ]
    },
    {
     "name": "stderr",
     "output_type": "stream",
     "text": [
      "                                                                                \r"
     ]
    }
   ],
   "source": [
    "spark.sql(' SELECT ID_CANAL, NM_CANAL, count(*)'\n",
    "          ' FROM METRICAS_VIDEO '\n",
    "          ' GROUP BY ID_CANAL, NM_CANAL ORDER BY 3 DESC').show(truncate=False)"
   ]
  },
  {
   "cell_type": "code",
   "execution_count": 74,
   "metadata": {},
   "outputs": [
    {
     "data": {
      "text/html": [
       "<div>\n",
       "<style scoped>\n",
       "    .dataframe tbody tr th:only-of-type {\n",
       "        vertical-align: middle;\n",
       "    }\n",
       "\n",
       "    .dataframe tbody tr th {\n",
       "        vertical-align: top;\n",
       "    }\n",
       "\n",
       "    .dataframe thead th {\n",
       "        text-align: right;\n",
       "    }\n",
       "</style>\n",
       "<table border=\"1\" class=\"dataframe\">\n",
       "  <thead>\n",
       "    <tr style=\"text-align: right;\">\n",
       "      <th></th>\n",
       "      <th>ID_VIDEO</th>\n",
       "      <th>TOTAL_CARACTERE_VIDEO</th>\n",
       "      <th>TITULO_VIDEO</th>\n",
       "      <th>NM_CANAL</th>\n",
       "      <th>TOTAL_COMENTARIOS</th>\n",
       "      <th>TOTAL_LIKES</th>\n",
       "      <th>TOTAL_VISUALIZACOES</th>\n",
       "    </tr>\n",
       "  </thead>\n",
       "  <tbody>\n",
       "    <tr>\n",
       "      <th>13</th>\n",
       "      <td>wCLSZxLfUAk</td>\n",
       "      <td>75</td>\n",
       "      <td>MELHOR JOGO DE CONSTRUIR CIDADES CHEGOU E ESTÁ...</td>\n",
       "      <td>ChratosGameplay</td>\n",
       "      <td>418</td>\n",
       "      <td>13988</td>\n",
       "      <td>120812</td>\n",
       "    </tr>\n",
       "    <tr>\n",
       "      <th>10</th>\n",
       "      <td>totHMIv6_hI</td>\n",
       "      <td>70</td>\n",
       "      <td>PEQUENA FORTUNA EM SERVIÇOS PÚBLICOS BÁSICOS 🏙...</td>\n",
       "      <td>ChratosGameplay</td>\n",
       "      <td>188</td>\n",
       "      <td>8978</td>\n",
       "      <td>71357</td>\n",
       "    </tr>\n",
       "    <tr>\n",
       "      <th>12</th>\n",
       "      <td>vy-upTpchig</td>\n",
       "      <td>63</td>\n",
       "      <td>PRIMEIRA PRAÇA DA CIDADE SAI DO PAPEL 🏙️ - Cit...</td>\n",
       "      <td>ChratosGameplay</td>\n",
       "      <td>201</td>\n",
       "      <td>7321</td>\n",
       "      <td>60786</td>\n",
       "    </tr>\n",
       "    <tr>\n",
       "      <th>2</th>\n",
       "      <td>9SGBZ7GE5EA</td>\n",
       "      <td>70</td>\n",
       "      <td>SUPER SUBÚRBIO FAZ ALCANÇAR 10000 HABITANTES 🏙...</td>\n",
       "      <td>ChratosGameplay</td>\n",
       "      <td>213</td>\n",
       "      <td>6855</td>\n",
       "      <td>54375</td>\n",
       "    </tr>\n",
       "    <tr>\n",
       "      <th>3</th>\n",
       "      <td>KfzZNkdyeEs</td>\n",
       "      <td>81</td>\n",
       "      <td>POLUIÇÃO FORÇA MIGRAÇÃO DA INDÚSTRIA PARA NOVO...</td>\n",
       "      <td>ChratosGameplay</td>\n",
       "      <td>124</td>\n",
       "      <td>6448</td>\n",
       "      <td>50789</td>\n",
       "    </tr>\n",
       "  </tbody>\n",
       "</table>\n",
       "</div>"
      ],
      "text/plain": [
       "       ID_VIDEO  TOTAL_CARACTERE_VIDEO  \\\n",
       "13  wCLSZxLfUAk                     75   \n",
       "10  totHMIv6_hI                     70   \n",
       "12  vy-upTpchig                     63   \n",
       "2   9SGBZ7GE5EA                     70   \n",
       "3   KfzZNkdyeEs                     81   \n",
       "\n",
       "                                         TITULO_VIDEO         NM_CANAL  \\\n",
       "13  MELHOR JOGO DE CONSTRUIR CIDADES CHEGOU E ESTÁ...  ChratosGameplay   \n",
       "10  PEQUENA FORTUNA EM SERVIÇOS PÚBLICOS BÁSICOS 🏙...  ChratosGameplay   \n",
       "12  PRIMEIRA PRAÇA DA CIDADE SAI DO PAPEL 🏙️ - Cit...  ChratosGameplay   \n",
       "2   SUPER SUBÚRBIO FAZ ALCANÇAR 10000 HABITANTES 🏙...  ChratosGameplay   \n",
       "3   POLUIÇÃO FORÇA MIGRAÇÃO DA INDÚSTRIA PARA NOVO...  ChratosGameplay   \n",
       "\n",
       "    TOTAL_COMENTARIOS  TOTAL_LIKES  TOTAL_VISUALIZACOES  \n",
       "13                418        13988               120812  \n",
       "10                188         8978                71357  \n",
       "12                201         7321                60786  \n",
       "2                 213         6855                54375  \n",
       "3                 124         6448                50789  "
      ]
     },
     "execution_count": 74,
     "metadata": {},
     "output_type": "execute_result"
    }
   ],
   "source": [
    "df_result = spark.sql(' SELECT ID_VIDEO, TOTAL_CARACTERE_VIDEO, TITULO_VIDEO,NM_CANAL, TOTAL_COMENTARIOS, TOTAL_LIKES , TOTAL_VISUALIZACOES '\n",
    "          ' FROM METRICAS_VIDEO '\n",
    "          ' WHERE data_extracao = \"2023-10-27\" ' \n",
    "          ' AND ID_CANAL in (\"UCrOH1V-FyMunBIMrKL0y0xQ\") ').toPandas()\n",
    "fig = px.scatter(df_result, x='TOTAL_CARACTERE_VIDEO', y='TOTAL_VISUALIZACOES')\n",
    "df_result.sort_values(by='TOTAL_VISUALIZACOES', ascending=False).head()\n"
   ]
  },
  {
   "cell_type": "code",
   "execution_count": 75,
   "metadata": {},
   "outputs": [
    {
     "data": {
      "application/vnd.plotly.v1+json": {
       "config": {
        "plotlyServerURL": "https://plot.ly"
       },
       "data": [
        {
         "hovertemplate": "TOTAL_CARACTERE_VIDEO=%{x}<br>TOTAL_VISUALIZACOES=%{y}<extra></extra>",
         "legendgroup": "",
         "marker": {
          "color": "#636efa",
          "symbol": "circle"
         },
         "mode": "markers",
         "name": "",
         "orientation": "v",
         "showlegend": false,
         "type": "scatter",
         "x": [
          81,
          67,
          70,
          81,
          64,
          68,
          87,
          92,
          90,
          88,
          70,
          88,
          63,
          75,
          86,
          60,
          78,
          64
         ],
         "xaxis": "x",
         "y": [
          0,
          42650,
          54375,
          50789,
          39265,
          50480,
          0,
          9540,
          18599,
          0,
          71357,
          33628,
          60786,
          120812,
          18620,
          15805,
          19942,
          24021
         ],
         "yaxis": "y"
        }
       ],
       "layout": {
        "legend": {
         "tracegroupgap": 0
        },
        "margin": {
         "t": 60
        },
        "template": {
         "data": {
          "bar": [
           {
            "error_x": {
             "color": "#2a3f5f"
            },
            "error_y": {
             "color": "#2a3f5f"
            },
            "marker": {
             "line": {
              "color": "#E5ECF6",
              "width": 0.5
             },
             "pattern": {
              "fillmode": "overlay",
              "size": 10,
              "solidity": 0.2
             }
            },
            "type": "bar"
           }
          ],
          "barpolar": [
           {
            "marker": {
             "line": {
              "color": "#E5ECF6",
              "width": 0.5
             },
             "pattern": {
              "fillmode": "overlay",
              "size": 10,
              "solidity": 0.2
             }
            },
            "type": "barpolar"
           }
          ],
          "carpet": [
           {
            "aaxis": {
             "endlinecolor": "#2a3f5f",
             "gridcolor": "white",
             "linecolor": "white",
             "minorgridcolor": "white",
             "startlinecolor": "#2a3f5f"
            },
            "baxis": {
             "endlinecolor": "#2a3f5f",
             "gridcolor": "white",
             "linecolor": "white",
             "minorgridcolor": "white",
             "startlinecolor": "#2a3f5f"
            },
            "type": "carpet"
           }
          ],
          "choropleth": [
           {
            "colorbar": {
             "outlinewidth": 0,
             "ticks": ""
            },
            "type": "choropleth"
           }
          ],
          "contour": [
           {
            "colorbar": {
             "outlinewidth": 0,
             "ticks": ""
            },
            "colorscale": [
             [
              0,
              "#0d0887"
             ],
             [
              0.1111111111111111,
              "#46039f"
             ],
             [
              0.2222222222222222,
              "#7201a8"
             ],
             [
              0.3333333333333333,
              "#9c179e"
             ],
             [
              0.4444444444444444,
              "#bd3786"
             ],
             [
              0.5555555555555556,
              "#d8576b"
             ],
             [
              0.6666666666666666,
              "#ed7953"
             ],
             [
              0.7777777777777778,
              "#fb9f3a"
             ],
             [
              0.8888888888888888,
              "#fdca26"
             ],
             [
              1,
              "#f0f921"
             ]
            ],
            "type": "contour"
           }
          ],
          "contourcarpet": [
           {
            "colorbar": {
             "outlinewidth": 0,
             "ticks": ""
            },
            "type": "contourcarpet"
           }
          ],
          "heatmap": [
           {
            "colorbar": {
             "outlinewidth": 0,
             "ticks": ""
            },
            "colorscale": [
             [
              0,
              "#0d0887"
             ],
             [
              0.1111111111111111,
              "#46039f"
             ],
             [
              0.2222222222222222,
              "#7201a8"
             ],
             [
              0.3333333333333333,
              "#9c179e"
             ],
             [
              0.4444444444444444,
              "#bd3786"
             ],
             [
              0.5555555555555556,
              "#d8576b"
             ],
             [
              0.6666666666666666,
              "#ed7953"
             ],
             [
              0.7777777777777778,
              "#fb9f3a"
             ],
             [
              0.8888888888888888,
              "#fdca26"
             ],
             [
              1,
              "#f0f921"
             ]
            ],
            "type": "heatmap"
           }
          ],
          "heatmapgl": [
           {
            "colorbar": {
             "outlinewidth": 0,
             "ticks": ""
            },
            "colorscale": [
             [
              0,
              "#0d0887"
             ],
             [
              0.1111111111111111,
              "#46039f"
             ],
             [
              0.2222222222222222,
              "#7201a8"
             ],
             [
              0.3333333333333333,
              "#9c179e"
             ],
             [
              0.4444444444444444,
              "#bd3786"
             ],
             [
              0.5555555555555556,
              "#d8576b"
             ],
             [
              0.6666666666666666,
              "#ed7953"
             ],
             [
              0.7777777777777778,
              "#fb9f3a"
             ],
             [
              0.8888888888888888,
              "#fdca26"
             ],
             [
              1,
              "#f0f921"
             ]
            ],
            "type": "heatmapgl"
           }
          ],
          "histogram": [
           {
            "marker": {
             "pattern": {
              "fillmode": "overlay",
              "size": 10,
              "solidity": 0.2
             }
            },
            "type": "histogram"
           }
          ],
          "histogram2d": [
           {
            "colorbar": {
             "outlinewidth": 0,
             "ticks": ""
            },
            "colorscale": [
             [
              0,
              "#0d0887"
             ],
             [
              0.1111111111111111,
              "#46039f"
             ],
             [
              0.2222222222222222,
              "#7201a8"
             ],
             [
              0.3333333333333333,
              "#9c179e"
             ],
             [
              0.4444444444444444,
              "#bd3786"
             ],
             [
              0.5555555555555556,
              "#d8576b"
             ],
             [
              0.6666666666666666,
              "#ed7953"
             ],
             [
              0.7777777777777778,
              "#fb9f3a"
             ],
             [
              0.8888888888888888,
              "#fdca26"
             ],
             [
              1,
              "#f0f921"
             ]
            ],
            "type": "histogram2d"
           }
          ],
          "histogram2dcontour": [
           {
            "colorbar": {
             "outlinewidth": 0,
             "ticks": ""
            },
            "colorscale": [
             [
              0,
              "#0d0887"
             ],
             [
              0.1111111111111111,
              "#46039f"
             ],
             [
              0.2222222222222222,
              "#7201a8"
             ],
             [
              0.3333333333333333,
              "#9c179e"
             ],
             [
              0.4444444444444444,
              "#bd3786"
             ],
             [
              0.5555555555555556,
              "#d8576b"
             ],
             [
              0.6666666666666666,
              "#ed7953"
             ],
             [
              0.7777777777777778,
              "#fb9f3a"
             ],
             [
              0.8888888888888888,
              "#fdca26"
             ],
             [
              1,
              "#f0f921"
             ]
            ],
            "type": "histogram2dcontour"
           }
          ],
          "mesh3d": [
           {
            "colorbar": {
             "outlinewidth": 0,
             "ticks": ""
            },
            "type": "mesh3d"
           }
          ],
          "parcoords": [
           {
            "line": {
             "colorbar": {
              "outlinewidth": 0,
              "ticks": ""
             }
            },
            "type": "parcoords"
           }
          ],
          "pie": [
           {
            "automargin": true,
            "type": "pie"
           }
          ],
          "scatter": [
           {
            "fillpattern": {
             "fillmode": "overlay",
             "size": 10,
             "solidity": 0.2
            },
            "type": "scatter"
           }
          ],
          "scatter3d": [
           {
            "line": {
             "colorbar": {
              "outlinewidth": 0,
              "ticks": ""
             }
            },
            "marker": {
             "colorbar": {
              "outlinewidth": 0,
              "ticks": ""
             }
            },
            "type": "scatter3d"
           }
          ],
          "scattercarpet": [
           {
            "marker": {
             "colorbar": {
              "outlinewidth": 0,
              "ticks": ""
             }
            },
            "type": "scattercarpet"
           }
          ],
          "scattergeo": [
           {
            "marker": {
             "colorbar": {
              "outlinewidth": 0,
              "ticks": ""
             }
            },
            "type": "scattergeo"
           }
          ],
          "scattergl": [
           {
            "marker": {
             "colorbar": {
              "outlinewidth": 0,
              "ticks": ""
             }
            },
            "type": "scattergl"
           }
          ],
          "scattermapbox": [
           {
            "marker": {
             "colorbar": {
              "outlinewidth": 0,
              "ticks": ""
             }
            },
            "type": "scattermapbox"
           }
          ],
          "scatterpolar": [
           {
            "marker": {
             "colorbar": {
              "outlinewidth": 0,
              "ticks": ""
             }
            },
            "type": "scatterpolar"
           }
          ],
          "scatterpolargl": [
           {
            "marker": {
             "colorbar": {
              "outlinewidth": 0,
              "ticks": ""
             }
            },
            "type": "scatterpolargl"
           }
          ],
          "scatterternary": [
           {
            "marker": {
             "colorbar": {
              "outlinewidth": 0,
              "ticks": ""
             }
            },
            "type": "scatterternary"
           }
          ],
          "surface": [
           {
            "colorbar": {
             "outlinewidth": 0,
             "ticks": ""
            },
            "colorscale": [
             [
              0,
              "#0d0887"
             ],
             [
              0.1111111111111111,
              "#46039f"
             ],
             [
              0.2222222222222222,
              "#7201a8"
             ],
             [
              0.3333333333333333,
              "#9c179e"
             ],
             [
              0.4444444444444444,
              "#bd3786"
             ],
             [
              0.5555555555555556,
              "#d8576b"
             ],
             [
              0.6666666666666666,
              "#ed7953"
             ],
             [
              0.7777777777777778,
              "#fb9f3a"
             ],
             [
              0.8888888888888888,
              "#fdca26"
             ],
             [
              1,
              "#f0f921"
             ]
            ],
            "type": "surface"
           }
          ],
          "table": [
           {
            "cells": {
             "fill": {
              "color": "#EBF0F8"
             },
             "line": {
              "color": "white"
             }
            },
            "header": {
             "fill": {
              "color": "#C8D4E3"
             },
             "line": {
              "color": "white"
             }
            },
            "type": "table"
           }
          ]
         },
         "layout": {
          "annotationdefaults": {
           "arrowcolor": "#2a3f5f",
           "arrowhead": 0,
           "arrowwidth": 1
          },
          "autotypenumbers": "strict",
          "coloraxis": {
           "colorbar": {
            "outlinewidth": 0,
            "ticks": ""
           }
          },
          "colorscale": {
           "diverging": [
            [
             0,
             "#8e0152"
            ],
            [
             0.1,
             "#c51b7d"
            ],
            [
             0.2,
             "#de77ae"
            ],
            [
             0.3,
             "#f1b6da"
            ],
            [
             0.4,
             "#fde0ef"
            ],
            [
             0.5,
             "#f7f7f7"
            ],
            [
             0.6,
             "#e6f5d0"
            ],
            [
             0.7,
             "#b8e186"
            ],
            [
             0.8,
             "#7fbc41"
            ],
            [
             0.9,
             "#4d9221"
            ],
            [
             1,
             "#276419"
            ]
           ],
           "sequential": [
            [
             0,
             "#0d0887"
            ],
            [
             0.1111111111111111,
             "#46039f"
            ],
            [
             0.2222222222222222,
             "#7201a8"
            ],
            [
             0.3333333333333333,
             "#9c179e"
            ],
            [
             0.4444444444444444,
             "#bd3786"
            ],
            [
             0.5555555555555556,
             "#d8576b"
            ],
            [
             0.6666666666666666,
             "#ed7953"
            ],
            [
             0.7777777777777778,
             "#fb9f3a"
            ],
            [
             0.8888888888888888,
             "#fdca26"
            ],
            [
             1,
             "#f0f921"
            ]
           ],
           "sequentialminus": [
            [
             0,
             "#0d0887"
            ],
            [
             0.1111111111111111,
             "#46039f"
            ],
            [
             0.2222222222222222,
             "#7201a8"
            ],
            [
             0.3333333333333333,
             "#9c179e"
            ],
            [
             0.4444444444444444,
             "#bd3786"
            ],
            [
             0.5555555555555556,
             "#d8576b"
            ],
            [
             0.6666666666666666,
             "#ed7953"
            ],
            [
             0.7777777777777778,
             "#fb9f3a"
            ],
            [
             0.8888888888888888,
             "#fdca26"
            ],
            [
             1,
             "#f0f921"
            ]
           ]
          },
          "colorway": [
           "#636efa",
           "#EF553B",
           "#00cc96",
           "#ab63fa",
           "#FFA15A",
           "#19d3f3",
           "#FF6692",
           "#B6E880",
           "#FF97FF",
           "#FECB52"
          ],
          "font": {
           "color": "#2a3f5f"
          },
          "geo": {
           "bgcolor": "white",
           "lakecolor": "white",
           "landcolor": "#E5ECF6",
           "showlakes": true,
           "showland": true,
           "subunitcolor": "white"
          },
          "hoverlabel": {
           "align": "left"
          },
          "hovermode": "closest",
          "mapbox": {
           "style": "light"
          },
          "paper_bgcolor": "white",
          "plot_bgcolor": "#E5ECF6",
          "polar": {
           "angularaxis": {
            "gridcolor": "white",
            "linecolor": "white",
            "ticks": ""
           },
           "bgcolor": "#E5ECF6",
           "radialaxis": {
            "gridcolor": "white",
            "linecolor": "white",
            "ticks": ""
           }
          },
          "scene": {
           "xaxis": {
            "backgroundcolor": "#E5ECF6",
            "gridcolor": "white",
            "gridwidth": 2,
            "linecolor": "white",
            "showbackground": true,
            "ticks": "",
            "zerolinecolor": "white"
           },
           "yaxis": {
            "backgroundcolor": "#E5ECF6",
            "gridcolor": "white",
            "gridwidth": 2,
            "linecolor": "white",
            "showbackground": true,
            "ticks": "",
            "zerolinecolor": "white"
           },
           "zaxis": {
            "backgroundcolor": "#E5ECF6",
            "gridcolor": "white",
            "gridwidth": 2,
            "linecolor": "white",
            "showbackground": true,
            "ticks": "",
            "zerolinecolor": "white"
           }
          },
          "shapedefaults": {
           "line": {
            "color": "#2a3f5f"
           }
          },
          "ternary": {
           "aaxis": {
            "gridcolor": "white",
            "linecolor": "white",
            "ticks": ""
           },
           "baxis": {
            "gridcolor": "white",
            "linecolor": "white",
            "ticks": ""
           },
           "bgcolor": "#E5ECF6",
           "caxis": {
            "gridcolor": "white",
            "linecolor": "white",
            "ticks": ""
           }
          },
          "title": {
           "x": 0.05
          },
          "xaxis": {
           "automargin": true,
           "gridcolor": "white",
           "linecolor": "white",
           "ticks": "",
           "title": {
            "standoff": 15
           },
           "zerolinecolor": "white",
           "zerolinewidth": 2
          },
          "yaxis": {
           "automargin": true,
           "gridcolor": "white",
           "linecolor": "white",
           "ticks": "",
           "title": {
            "standoff": 15
           },
           "zerolinecolor": "white",
           "zerolinewidth": 2
          }
         }
        },
        "xaxis": {
         "anchor": "y",
         "domain": [
          0,
          1
         ],
         "title": {
          "text": "TOTAL_CARACTERE_VIDEO"
         }
        },
        "yaxis": {
         "anchor": "x",
         "domain": [
          0,
          1
         ],
         "title": {
          "text": "TOTAL_VISUALIZACOES"
         }
        }
       }
      }
     },
     "metadata": {},
     "output_type": "display_data"
    }
   ],
   "source": [
    "fig.show()"
   ]
  },
  {
   "cell_type": "markdown",
   "metadata": {},
   "source": [
    "- Comparação Likes X Visualizações e Cometários X Visualizações"
   ]
  },
  {
   "cell_type": "code",
   "execution_count": 76,
   "metadata": {},
   "outputs": [
    {
     "data": {
      "application/vnd.plotly.v1+json": {
       "config": {
        "plotlyServerURL": "https://plot.ly"
       },
       "data": [
        {
         "hovertemplate": "TOTAL_LIKES=%{x}<br>TOTAL_VISUALIZACOES=%{y}<extra></extra>",
         "legendgroup": "",
         "marker": {
          "color": "#636efa",
          "symbol": "circle"
         },
         "mode": "markers",
         "name": "",
         "orientation": "v",
         "showlegend": false,
         "type": "scatter",
         "x": [
          50,
          5600,
          6855,
          6448,
          5046,
          6330,
          51,
          1078,
          2418,
          149,
          8978,
          3382,
          7321,
          13988,
          1368,
          2753,
          1950,
          2441
         ],
         "xaxis": "x",
         "y": [
          0,
          42650,
          54375,
          50789,
          39265,
          50480,
          0,
          9540,
          18599,
          0,
          71357,
          33628,
          60786,
          120812,
          18620,
          15805,
          19942,
          24021
         ],
         "yaxis": "y"
        },
        {
         "hovertemplate": "TOTAL_COMENTARIOS=%{x}<br>TOTAL_VISUALIZACOES=%{y}<extra></extra>",
         "legendgroup": "",
         "marker": {
          "color": "#636efa",
          "symbol": "circle"
         },
         "mode": "markers",
         "name": "",
         "orientation": "v",
         "showlegend": false,
         "type": "scatter",
         "x": [
          0,
          220,
          213,
          124,
          180,
          157,
          0,
          33,
          79,
          0,
          188,
          111,
          201,
          418,
          54,
          139,
          63,
          40
         ],
         "xaxis": "x2",
         "y": [
          0,
          42650,
          54375,
          50789,
          39265,
          50480,
          0,
          9540,
          18599,
          0,
          71357,
          33628,
          60786,
          120812,
          18620,
          15805,
          19942,
          24021
         ],
         "yaxis": "y2"
        },
        {
         "hovertemplate": "TOTAL_CARACTERE_VIDEO=%{x}<br>TOTAL_VISUALIZACOES=%{y}<extra></extra>",
         "legendgroup": "",
         "marker": {
          "color": "#636efa",
          "symbol": "circle"
         },
         "mode": "markers",
         "name": "",
         "orientation": "v",
         "showlegend": false,
         "type": "scatter",
         "x": [
          81,
          67,
          70,
          81,
          64,
          68,
          87,
          92,
          90,
          88,
          70,
          88,
          63,
          75,
          86,
          60,
          78,
          64
         ],
         "xaxis": "x3",
         "y": [
          0,
          42650,
          54375,
          50789,
          39265,
          50480,
          0,
          9540,
          18599,
          0,
          71357,
          33628,
          60786,
          120812,
          18620,
          15805,
          19942,
          24021
         ],
         "yaxis": "y3"
        }
       ],
       "layout": {
        "annotations": [
         {
          "font": {
           "size": 16
          },
          "showarrow": false,
          "text": "Likes X Visualizações",
          "x": 0.14444444444444446,
          "xanchor": "center",
          "xref": "paper",
          "y": 1,
          "yanchor": "bottom",
          "yref": "paper"
         },
         {
          "font": {
           "size": 16
          },
          "showarrow": false,
          "text": "Cometários X Visualizações",
          "x": 0.5,
          "xanchor": "center",
          "xref": "paper",
          "y": 1,
          "yanchor": "bottom",
          "yref": "paper"
         },
         {
          "font": {
           "size": 16
          },
          "showarrow": false,
          "text": "TOTAL_CARACTERE_VIDEO X VISUALIZAÇÔES",
          "x": 0.8555555555555556,
          "xanchor": "center",
          "xref": "paper",
          "y": 1,
          "yanchor": "bottom",
          "yref": "paper"
         }
        ],
        "showlegend": true,
        "template": {
         "data": {
          "bar": [
           {
            "error_x": {
             "color": "#2a3f5f"
            },
            "error_y": {
             "color": "#2a3f5f"
            },
            "marker": {
             "line": {
              "color": "#E5ECF6",
              "width": 0.5
             },
             "pattern": {
              "fillmode": "overlay",
              "size": 10,
              "solidity": 0.2
             }
            },
            "type": "bar"
           }
          ],
          "barpolar": [
           {
            "marker": {
             "line": {
              "color": "#E5ECF6",
              "width": 0.5
             },
             "pattern": {
              "fillmode": "overlay",
              "size": 10,
              "solidity": 0.2
             }
            },
            "type": "barpolar"
           }
          ],
          "carpet": [
           {
            "aaxis": {
             "endlinecolor": "#2a3f5f",
             "gridcolor": "white",
             "linecolor": "white",
             "minorgridcolor": "white",
             "startlinecolor": "#2a3f5f"
            },
            "baxis": {
             "endlinecolor": "#2a3f5f",
             "gridcolor": "white",
             "linecolor": "white",
             "minorgridcolor": "white",
             "startlinecolor": "#2a3f5f"
            },
            "type": "carpet"
           }
          ],
          "choropleth": [
           {
            "colorbar": {
             "outlinewidth": 0,
             "ticks": ""
            },
            "type": "choropleth"
           }
          ],
          "contour": [
           {
            "colorbar": {
             "outlinewidth": 0,
             "ticks": ""
            },
            "colorscale": [
             [
              0,
              "#0d0887"
             ],
             [
              0.1111111111111111,
              "#46039f"
             ],
             [
              0.2222222222222222,
              "#7201a8"
             ],
             [
              0.3333333333333333,
              "#9c179e"
             ],
             [
              0.4444444444444444,
              "#bd3786"
             ],
             [
              0.5555555555555556,
              "#d8576b"
             ],
             [
              0.6666666666666666,
              "#ed7953"
             ],
             [
              0.7777777777777778,
              "#fb9f3a"
             ],
             [
              0.8888888888888888,
              "#fdca26"
             ],
             [
              1,
              "#f0f921"
             ]
            ],
            "type": "contour"
           }
          ],
          "contourcarpet": [
           {
            "colorbar": {
             "outlinewidth": 0,
             "ticks": ""
            },
            "type": "contourcarpet"
           }
          ],
          "heatmap": [
           {
            "colorbar": {
             "outlinewidth": 0,
             "ticks": ""
            },
            "colorscale": [
             [
              0,
              "#0d0887"
             ],
             [
              0.1111111111111111,
              "#46039f"
             ],
             [
              0.2222222222222222,
              "#7201a8"
             ],
             [
              0.3333333333333333,
              "#9c179e"
             ],
             [
              0.4444444444444444,
              "#bd3786"
             ],
             [
              0.5555555555555556,
              "#d8576b"
             ],
             [
              0.6666666666666666,
              "#ed7953"
             ],
             [
              0.7777777777777778,
              "#fb9f3a"
             ],
             [
              0.8888888888888888,
              "#fdca26"
             ],
             [
              1,
              "#f0f921"
             ]
            ],
            "type": "heatmap"
           }
          ],
          "heatmapgl": [
           {
            "colorbar": {
             "outlinewidth": 0,
             "ticks": ""
            },
            "colorscale": [
             [
              0,
              "#0d0887"
             ],
             [
              0.1111111111111111,
              "#46039f"
             ],
             [
              0.2222222222222222,
              "#7201a8"
             ],
             [
              0.3333333333333333,
              "#9c179e"
             ],
             [
              0.4444444444444444,
              "#bd3786"
             ],
             [
              0.5555555555555556,
              "#d8576b"
             ],
             [
              0.6666666666666666,
              "#ed7953"
             ],
             [
              0.7777777777777778,
              "#fb9f3a"
             ],
             [
              0.8888888888888888,
              "#fdca26"
             ],
             [
              1,
              "#f0f921"
             ]
            ],
            "type": "heatmapgl"
           }
          ],
          "histogram": [
           {
            "marker": {
             "pattern": {
              "fillmode": "overlay",
              "size": 10,
              "solidity": 0.2
             }
            },
            "type": "histogram"
           }
          ],
          "histogram2d": [
           {
            "colorbar": {
             "outlinewidth": 0,
             "ticks": ""
            },
            "colorscale": [
             [
              0,
              "#0d0887"
             ],
             [
              0.1111111111111111,
              "#46039f"
             ],
             [
              0.2222222222222222,
              "#7201a8"
             ],
             [
              0.3333333333333333,
              "#9c179e"
             ],
             [
              0.4444444444444444,
              "#bd3786"
             ],
             [
              0.5555555555555556,
              "#d8576b"
             ],
             [
              0.6666666666666666,
              "#ed7953"
             ],
             [
              0.7777777777777778,
              "#fb9f3a"
             ],
             [
              0.8888888888888888,
              "#fdca26"
             ],
             [
              1,
              "#f0f921"
             ]
            ],
            "type": "histogram2d"
           }
          ],
          "histogram2dcontour": [
           {
            "colorbar": {
             "outlinewidth": 0,
             "ticks": ""
            },
            "colorscale": [
             [
              0,
              "#0d0887"
             ],
             [
              0.1111111111111111,
              "#46039f"
             ],
             [
              0.2222222222222222,
              "#7201a8"
             ],
             [
              0.3333333333333333,
              "#9c179e"
             ],
             [
              0.4444444444444444,
              "#bd3786"
             ],
             [
              0.5555555555555556,
              "#d8576b"
             ],
             [
              0.6666666666666666,
              "#ed7953"
             ],
             [
              0.7777777777777778,
              "#fb9f3a"
             ],
             [
              0.8888888888888888,
              "#fdca26"
             ],
             [
              1,
              "#f0f921"
             ]
            ],
            "type": "histogram2dcontour"
           }
          ],
          "mesh3d": [
           {
            "colorbar": {
             "outlinewidth": 0,
             "ticks": ""
            },
            "type": "mesh3d"
           }
          ],
          "parcoords": [
           {
            "line": {
             "colorbar": {
              "outlinewidth": 0,
              "ticks": ""
             }
            },
            "type": "parcoords"
           }
          ],
          "pie": [
           {
            "automargin": true,
            "type": "pie"
           }
          ],
          "scatter": [
           {
            "fillpattern": {
             "fillmode": "overlay",
             "size": 10,
             "solidity": 0.2
            },
            "type": "scatter"
           }
          ],
          "scatter3d": [
           {
            "line": {
             "colorbar": {
              "outlinewidth": 0,
              "ticks": ""
             }
            },
            "marker": {
             "colorbar": {
              "outlinewidth": 0,
              "ticks": ""
             }
            },
            "type": "scatter3d"
           }
          ],
          "scattercarpet": [
           {
            "marker": {
             "colorbar": {
              "outlinewidth": 0,
              "ticks": ""
             }
            },
            "type": "scattercarpet"
           }
          ],
          "scattergeo": [
           {
            "marker": {
             "colorbar": {
              "outlinewidth": 0,
              "ticks": ""
             }
            },
            "type": "scattergeo"
           }
          ],
          "scattergl": [
           {
            "marker": {
             "colorbar": {
              "outlinewidth": 0,
              "ticks": ""
             }
            },
            "type": "scattergl"
           }
          ],
          "scattermapbox": [
           {
            "marker": {
             "colorbar": {
              "outlinewidth": 0,
              "ticks": ""
             }
            },
            "type": "scattermapbox"
           }
          ],
          "scatterpolar": [
           {
            "marker": {
             "colorbar": {
              "outlinewidth": 0,
              "ticks": ""
             }
            },
            "type": "scatterpolar"
           }
          ],
          "scatterpolargl": [
           {
            "marker": {
             "colorbar": {
              "outlinewidth": 0,
              "ticks": ""
             }
            },
            "type": "scatterpolargl"
           }
          ],
          "scatterternary": [
           {
            "marker": {
             "colorbar": {
              "outlinewidth": 0,
              "ticks": ""
             }
            },
            "type": "scatterternary"
           }
          ],
          "surface": [
           {
            "colorbar": {
             "outlinewidth": 0,
             "ticks": ""
            },
            "colorscale": [
             [
              0,
              "#0d0887"
             ],
             [
              0.1111111111111111,
              "#46039f"
             ],
             [
              0.2222222222222222,
              "#7201a8"
             ],
             [
              0.3333333333333333,
              "#9c179e"
             ],
             [
              0.4444444444444444,
              "#bd3786"
             ],
             [
              0.5555555555555556,
              "#d8576b"
             ],
             [
              0.6666666666666666,
              "#ed7953"
             ],
             [
              0.7777777777777778,
              "#fb9f3a"
             ],
             [
              0.8888888888888888,
              "#fdca26"
             ],
             [
              1,
              "#f0f921"
             ]
            ],
            "type": "surface"
           }
          ],
          "table": [
           {
            "cells": {
             "fill": {
              "color": "#EBF0F8"
             },
             "line": {
              "color": "white"
             }
            },
            "header": {
             "fill": {
              "color": "#C8D4E3"
             },
             "line": {
              "color": "white"
             }
            },
            "type": "table"
           }
          ]
         },
         "layout": {
          "annotationdefaults": {
           "arrowcolor": "#2a3f5f",
           "arrowhead": 0,
           "arrowwidth": 1
          },
          "autotypenumbers": "strict",
          "coloraxis": {
           "colorbar": {
            "outlinewidth": 0,
            "ticks": ""
           }
          },
          "colorscale": {
           "diverging": [
            [
             0,
             "#8e0152"
            ],
            [
             0.1,
             "#c51b7d"
            ],
            [
             0.2,
             "#de77ae"
            ],
            [
             0.3,
             "#f1b6da"
            ],
            [
             0.4,
             "#fde0ef"
            ],
            [
             0.5,
             "#f7f7f7"
            ],
            [
             0.6,
             "#e6f5d0"
            ],
            [
             0.7,
             "#b8e186"
            ],
            [
             0.8,
             "#7fbc41"
            ],
            [
             0.9,
             "#4d9221"
            ],
            [
             1,
             "#276419"
            ]
           ],
           "sequential": [
            [
             0,
             "#0d0887"
            ],
            [
             0.1111111111111111,
             "#46039f"
            ],
            [
             0.2222222222222222,
             "#7201a8"
            ],
            [
             0.3333333333333333,
             "#9c179e"
            ],
            [
             0.4444444444444444,
             "#bd3786"
            ],
            [
             0.5555555555555556,
             "#d8576b"
            ],
            [
             0.6666666666666666,
             "#ed7953"
            ],
            [
             0.7777777777777778,
             "#fb9f3a"
            ],
            [
             0.8888888888888888,
             "#fdca26"
            ],
            [
             1,
             "#f0f921"
            ]
           ],
           "sequentialminus": [
            [
             0,
             "#0d0887"
            ],
            [
             0.1111111111111111,
             "#46039f"
            ],
            [
             0.2222222222222222,
             "#7201a8"
            ],
            [
             0.3333333333333333,
             "#9c179e"
            ],
            [
             0.4444444444444444,
             "#bd3786"
            ],
            [
             0.5555555555555556,
             "#d8576b"
            ],
            [
             0.6666666666666666,
             "#ed7953"
            ],
            [
             0.7777777777777778,
             "#fb9f3a"
            ],
            [
             0.8888888888888888,
             "#fdca26"
            ],
            [
             1,
             "#f0f921"
            ]
           ]
          },
          "colorway": [
           "#636efa",
           "#EF553B",
           "#00cc96",
           "#ab63fa",
           "#FFA15A",
           "#19d3f3",
           "#FF6692",
           "#B6E880",
           "#FF97FF",
           "#FECB52"
          ],
          "font": {
           "color": "#2a3f5f"
          },
          "geo": {
           "bgcolor": "white",
           "lakecolor": "white",
           "landcolor": "#E5ECF6",
           "showlakes": true,
           "showland": true,
           "subunitcolor": "white"
          },
          "hoverlabel": {
           "align": "left"
          },
          "hovermode": "closest",
          "mapbox": {
           "style": "light"
          },
          "paper_bgcolor": "white",
          "plot_bgcolor": "#E5ECF6",
          "polar": {
           "angularaxis": {
            "gridcolor": "white",
            "linecolor": "white",
            "ticks": ""
           },
           "bgcolor": "#E5ECF6",
           "radialaxis": {
            "gridcolor": "white",
            "linecolor": "white",
            "ticks": ""
           }
          },
          "scene": {
           "xaxis": {
            "backgroundcolor": "#E5ECF6",
            "gridcolor": "white",
            "gridwidth": 2,
            "linecolor": "white",
            "showbackground": true,
            "ticks": "",
            "zerolinecolor": "white"
           },
           "yaxis": {
            "backgroundcolor": "#E5ECF6",
            "gridcolor": "white",
            "gridwidth": 2,
            "linecolor": "white",
            "showbackground": true,
            "ticks": "",
            "zerolinecolor": "white"
           },
           "zaxis": {
            "backgroundcolor": "#E5ECF6",
            "gridcolor": "white",
            "gridwidth": 2,
            "linecolor": "white",
            "showbackground": true,
            "ticks": "",
            "zerolinecolor": "white"
           }
          },
          "shapedefaults": {
           "line": {
            "color": "#2a3f5f"
           }
          },
          "ternary": {
           "aaxis": {
            "gridcolor": "white",
            "linecolor": "white",
            "ticks": ""
           },
           "baxis": {
            "gridcolor": "white",
            "linecolor": "white",
            "ticks": ""
           },
           "bgcolor": "#E5ECF6",
           "caxis": {
            "gridcolor": "white",
            "linecolor": "white",
            "ticks": ""
           }
          },
          "title": {
           "x": 0.05
          },
          "xaxis": {
           "automargin": true,
           "gridcolor": "white",
           "linecolor": "white",
           "ticks": "",
           "title": {
            "standoff": 15
           },
           "zerolinecolor": "white",
           "zerolinewidth": 2
          },
          "yaxis": {
           "automargin": true,
           "gridcolor": "white",
           "linecolor": "white",
           "ticks": "",
           "title": {
            "standoff": 15
           },
           "zerolinecolor": "white",
           "zerolinewidth": 2
          }
         }
        },
        "title": {
         "text": "Desenpenho Canal"
        },
        "xaxis": {
         "anchor": "y",
         "domain": [
          0,
          0.2888888888888889
         ],
         "title": {
          "text": "Likes"
         }
        },
        "xaxis2": {
         "anchor": "y2",
         "domain": [
          0.35555555555555557,
          0.6444444444444445
         ],
         "title": {
          "text": "Comentários"
         }
        },
        "xaxis3": {
         "anchor": "y3",
         "domain": [
          0.7111111111111111,
          1
         ],
         "title": {
          "text": "TOTAL_CARACTERE_VIDEO"
         }
        },
        "yaxis": {
         "anchor": "x",
         "domain": [
          0,
          1
         ],
         "title": {
          "text": "Visualizações"
         }
        },
        "yaxis2": {
         "anchor": "x2",
         "domain": [
          0,
          1
         ],
         "title": {
          "text": "Visualizações"
         }
        },
        "yaxis3": {
         "anchor": "x3",
         "domain": [
          0,
          1
         ],
         "title": {
          "text": "Visualizações"
         }
        }
       }
      }
     },
     "metadata": {},
     "output_type": "display_data"
    }
   ],
   "source": [
    "fig = make_subplots(rows=1, cols=3, subplot_titles=['Likes X Visualizações', 'Cometários X Visualizações', 'TOTAL_CARACTERE_VIDEO X VISUALIZAÇÔES'])\n",
    "sc1 = px.scatter(df_result, x='TOTAL_LIKES', y='TOTAL_VISUALIZACOES',)\n",
    "fig.add_trace(sc1['data'][0], row=1, col=1)\n",
    "fig.update_xaxes(title_text='Likes', row=1, col=1)\n",
    "fig.update_yaxes(title_text='Visualizações', row=1, col=1)\n",
    "\n",
    "sc2 = px.scatter(df_result, x='TOTAL_COMENTARIOS', y='TOTAL_VISUALIZACOES')\n",
    "fig.add_trace(sc2['data'][0], row=1, col=2)\n",
    "fig.update_xaxes(title_text='Comentários', row=1, col=2)\n",
    "fig.update_yaxes(title_text='Visualizações', row=1, col=2)\n",
    "fig.update_layout(title_text='Desenpenho Canal', showlegend=True)\n",
    "\n",
    "sc3 = px.scatter(df_result, x='TOTAL_CARACTERE_VIDEO', y='TOTAL_VISUALIZACOES')\n",
    "fig.add_trace(sc3['data'][0], row=1, col=3)\n",
    "fig.update_xaxes(title_text='TOTAL_CARACTERE_VIDEO', row=1, col=3)\n",
    "fig.update_yaxes(title_text='Visualizações', row=1, col=3)\n",
    "fig.update_layout(title_text='Desenpenho Canal', showlegend=True)\n",
    "\n",
    "\n",
    "\n",
    "fig.show()"
   ]
  },
  {
   "cell_type": "markdown",
   "metadata": {},
   "source": [
    "# Dia em que os vídeos são Públicados com alta frequência"
   ]
  },
  {
   "cell_type": "code",
   "execution_count": 78,
   "metadata": {},
   "outputs": [],
   "source": [
    "df_dias_publicado = spark.read.parquet('/home/rodrigo/Documentos/projetos/open_weather_api_apache/analise_dados_youtube/data/projetos_youtube_v2/ouro/assunto_cities_skylines/total_video_publicado_semana')\n",
    "df_dias_publicado.createOrReplaceTempView('PUBLICACAO_VIDEO')"
   ]
  },
  {
   "cell_type": "code",
   "execution_count": 85,
   "metadata": {},
   "outputs": [
    {
     "name": "stdout",
     "output_type": "stream",
     "text": [
      "+----------------+--------------------+------------+---------------+--------------------+\n",
      "|SEMANA_TRADUZIDA|            NM_CANAL|TOTAL_VIDEOS|DATA_PUBLICACAO|            ID_CANAL|\n",
      "+----------------+--------------------+------------+---------------+--------------------+\n",
      "|    Quarta-feira|BL4D3N | Jogos de...|           1|     2023-10-25|UCIv5D2ro1owj6P7O...|\n",
      "|    Quinta-feira|Bad Influence gui...|           1|     2023-10-26|UC8FS3_qf6F194QTY...|\n",
      "|     Terça-feira|KyoKat PC Gamepla...|           1|     2023-10-24|UCLAUYEY8ITQC8b47...|\n",
      "|   Segunda-feira|CANAL HAND - GAME...|           1|     2023-10-16|UC7v51W2NoLFawizg...|\n",
      "|   Segunda-feira|CANAL HAND - GAME...|           1|     2023-10-23|UC7v51W2NoLFawizg...|\n",
      "|    Quarta-feira|CANAL HAND - GAME...|           1|     2023-10-18|UC7v51W2NoLFawizg...|\n",
      "|     Terça-feira|CANAL HAND - GAME...|           1|     2023-10-17|UC7v51W2NoLFawizg...|\n",
      "|     Sexta-feira|CANAL HAND - GAME...|           1|     2023-10-20|UC7v51W2NoLFawizg...|\n",
      "|          Sábado|CANAL HAND - GAME...|           1|     2023-10-21|UC7v51W2NoLFawizg...|\n",
      "|         Domingo|CANAL HAND - GAME...|           1|     2023-10-22|UC7v51W2NoLFawizg...|\n",
      "|         Domingo|CANAL HAND - GAME...|           1|     2023-10-15|UC7v51W2NoLFawizg...|\n",
      "|   Segunda-feira|Lucas gameplays b...|           1|     2023-10-16|UCOYJm7BsLV8VCkW2...|\n",
      "|    Quinta-feira|Lucas gameplays b...|           1|     2023-10-19|UCOYJm7BsLV8VCkW2...|\n",
      "|   Segunda-feira|  Douglas Willian YT|           1|     2023-10-16|UCVM5Kg0mLSmmvdmh...|\n",
      "|   Segunda-feira|             Dw Play|           1|     2023-10-16|UCVM5Kg0mLSmmvdmh...|\n",
      "|     Terça-feira|Cogumelando Video...|           1|     2023-10-24|UCXso4Ho8UARhzS3I...|\n",
      "|     Sexta-feira|Lucas gameplays b...|           1|     2023-10-20|UCOYJm7BsLV8VCkW2...|\n",
      "|   Segunda-feira| Canal Sala de Jogos|           1|     2023-10-16|UCYEb5mbKZ5JJzN0x...|\n",
      "|   Segunda-feira| Canal Sala de Jogos|           1|     2023-10-23|UCYEb5mbKZ5JJzN0x...|\n",
      "|    Quinta-feira| Canal Sala de Jogos|           1|     2023-10-19|UCYEb5mbKZ5JJzN0x...|\n",
      "+----------------+--------------------+------------+---------------+--------------------+\n",
      "only showing top 20 rows\n",
      "\n"
     ]
    }
   ],
   "source": [
    "spark.sql('select * from PUBLICACAO_VIDEO').show()"
   ]
  },
  {
   "cell_type": "code",
   "execution_count": 115,
   "metadata": {},
   "outputs": [],
   "source": [
    "def indice_semana(dia: str) -> int: \n",
    "    dias_semana = {\n",
    "        'Domingo': 1,\n",
    "        'Segunda-feira' : 2,\n",
    "        'Terça-feira' : 3,\n",
    "        'Quarta-feira' : 4,\n",
    "        'Quinta-feira': 5,\n",
    "        'Sexta-feira': 6,\n",
    "        'Sábado' : 7\n",
    "    }\n",
    "\n",
    "    return dias_semana.get(dia)\n"
   ]
  },
  {
   "cell_type": "code",
   "execution_count": 101,
   "metadata": {},
   "outputs": [
    {
     "data": {
      "text/plain": [
       "7"
      ]
     },
     "execution_count": 101,
     "metadata": {},
     "output_type": "execute_result"
    }
   ],
   "source": [
    "indice_semana('Sábado')"
   ]
  },
  {
   "cell_type": "code",
   "execution_count": 119,
   "metadata": {},
   "outputs": [
    {
     "data": {
      "text/html": [
       "<div>\n",
       "<style scoped>\n",
       "    .dataframe tbody tr th:only-of-type {\n",
       "        vertical-align: middle;\n",
       "    }\n",
       "\n",
       "    .dataframe tbody tr th {\n",
       "        vertical-align: top;\n",
       "    }\n",
       "\n",
       "    .dataframe thead th {\n",
       "        text-align: right;\n",
       "    }\n",
       "</style>\n",
       "<table border=\"1\" class=\"dataframe\">\n",
       "  <thead>\n",
       "    <tr style=\"text-align: right;\">\n",
       "      <th></th>\n",
       "      <th>SEMANA_TRADUZIDA</th>\n",
       "      <th>sum(TOTAL_VIDEOS)</th>\n",
       "      <th>INDICE_SEMANA</th>\n",
       "    </tr>\n",
       "  </thead>\n",
       "  <tbody>\n",
       "    <tr>\n",
       "      <th>5</th>\n",
       "      <td>Domingo</td>\n",
       "      <td>25</td>\n",
       "      <td>1</td>\n",
       "    </tr>\n",
       "    <tr>\n",
       "      <th>0</th>\n",
       "      <td>Segunda-feira</td>\n",
       "      <td>40</td>\n",
       "      <td>2</td>\n",
       "    </tr>\n",
       "    <tr>\n",
       "      <th>2</th>\n",
       "      <td>Terça-feira</td>\n",
       "      <td>39</td>\n",
       "      <td>3</td>\n",
       "    </tr>\n",
       "    <tr>\n",
       "      <th>1</th>\n",
       "      <td>Quarta-feira</td>\n",
       "      <td>37</td>\n",
       "      <td>4</td>\n",
       "    </tr>\n",
       "    <tr>\n",
       "      <th>6</th>\n",
       "      <td>Quinta-feira</td>\n",
       "      <td>39</td>\n",
       "      <td>5</td>\n",
       "    </tr>\n",
       "    <tr>\n",
       "      <th>4</th>\n",
       "      <td>Sexta-feira</td>\n",
       "      <td>34</td>\n",
       "      <td>6</td>\n",
       "    </tr>\n",
       "    <tr>\n",
       "      <th>3</th>\n",
       "      <td>Sábado</td>\n",
       "      <td>21</td>\n",
       "      <td>7</td>\n",
       "    </tr>\n",
       "  </tbody>\n",
       "</table>\n",
       "</div>"
      ],
      "text/plain": [
       "  SEMANA_TRADUZIDA  sum(TOTAL_VIDEOS)  INDICE_SEMANA\n",
       "5          Domingo                 25              1\n",
       "0    Segunda-feira                 40              2\n",
       "2      Terça-feira                 39              3\n",
       "1     Quarta-feira                 37              4\n",
       "6     Quinta-feira                 39              5\n",
       "4      Sexta-feira                 34              6\n",
       "3           Sábado                 21              7"
      ]
     },
     "execution_count": 119,
     "metadata": {},
     "output_type": "execute_result"
    }
   ],
   "source": [
    "df_publicacao_video  = spark.sql(' SELECT SEMANA_TRADUZIDA,  sum(TOTAL_VIDEOS) '\n",
    "          ' FROM PUBLICACAO_VIDEO'\n",
    "          ' GROUP BY SEMANA_TRADUZIDA ').toPandas()\n",
    "df_publicacao_video['INDICE_SEMANA'] = df_publicacao_video['SEMANA_TRADUZIDA'].apply(indice_semana)\n",
    "df_publicacao_video.sort_values(by='INDICE_SEMANA', inplace=True)\n",
    "df_publicacao_video.head(7)\n"
   ]
  },
  {
   "cell_type": "code",
   "execution_count": 120,
   "metadata": {},
   "outputs": [
    {
     "data": {
      "application/vnd.plotly.v1+json": {
       "config": {
        "plotlyServerURL": "https://plot.ly"
       },
       "data": [
        {
         "alignmentgroup": "True",
         "hovertemplate": "SEMANA_TRADUZIDA=%{x}<br>sum(TOTAL_VIDEOS)=%{y}<extra></extra>",
         "legendgroup": "",
         "marker": {
          "color": "#636efa",
          "pattern": {
           "shape": ""
          }
         },
         "name": "",
         "offsetgroup": "",
         "orientation": "v",
         "showlegend": false,
         "textposition": "auto",
         "texttemplate": "%{y}",
         "type": "bar",
         "x": [
          "Domingo",
          "Segunda-feira",
          "Terça-feira",
          "Quarta-feira",
          "Quinta-feira",
          "Sexta-feira",
          "Sábado"
         ],
         "xaxis": "x",
         "y": [
          25,
          40,
          39,
          37,
          39,
          34,
          21
         ],
         "yaxis": "y"
        }
       ],
       "layout": {
        "barmode": "relative",
        "legend": {
         "tracegroupgap": 0
        },
        "margin": {
         "t": 60
        },
        "template": {
         "data": {
          "bar": [
           {
            "error_x": {
             "color": "#2a3f5f"
            },
            "error_y": {
             "color": "#2a3f5f"
            },
            "marker": {
             "line": {
              "color": "#E5ECF6",
              "width": 0.5
             },
             "pattern": {
              "fillmode": "overlay",
              "size": 10,
              "solidity": 0.2
             }
            },
            "type": "bar"
           }
          ],
          "barpolar": [
           {
            "marker": {
             "line": {
              "color": "#E5ECF6",
              "width": 0.5
             },
             "pattern": {
              "fillmode": "overlay",
              "size": 10,
              "solidity": 0.2
             }
            },
            "type": "barpolar"
           }
          ],
          "carpet": [
           {
            "aaxis": {
             "endlinecolor": "#2a3f5f",
             "gridcolor": "white",
             "linecolor": "white",
             "minorgridcolor": "white",
             "startlinecolor": "#2a3f5f"
            },
            "baxis": {
             "endlinecolor": "#2a3f5f",
             "gridcolor": "white",
             "linecolor": "white",
             "minorgridcolor": "white",
             "startlinecolor": "#2a3f5f"
            },
            "type": "carpet"
           }
          ],
          "choropleth": [
           {
            "colorbar": {
             "outlinewidth": 0,
             "ticks": ""
            },
            "type": "choropleth"
           }
          ],
          "contour": [
           {
            "colorbar": {
             "outlinewidth": 0,
             "ticks": ""
            },
            "colorscale": [
             [
              0,
              "#0d0887"
             ],
             [
              0.1111111111111111,
              "#46039f"
             ],
             [
              0.2222222222222222,
              "#7201a8"
             ],
             [
              0.3333333333333333,
              "#9c179e"
             ],
             [
              0.4444444444444444,
              "#bd3786"
             ],
             [
              0.5555555555555556,
              "#d8576b"
             ],
             [
              0.6666666666666666,
              "#ed7953"
             ],
             [
              0.7777777777777778,
              "#fb9f3a"
             ],
             [
              0.8888888888888888,
              "#fdca26"
             ],
             [
              1,
              "#f0f921"
             ]
            ],
            "type": "contour"
           }
          ],
          "contourcarpet": [
           {
            "colorbar": {
             "outlinewidth": 0,
             "ticks": ""
            },
            "type": "contourcarpet"
           }
          ],
          "heatmap": [
           {
            "colorbar": {
             "outlinewidth": 0,
             "ticks": ""
            },
            "colorscale": [
             [
              0,
              "#0d0887"
             ],
             [
              0.1111111111111111,
              "#46039f"
             ],
             [
              0.2222222222222222,
              "#7201a8"
             ],
             [
              0.3333333333333333,
              "#9c179e"
             ],
             [
              0.4444444444444444,
              "#bd3786"
             ],
             [
              0.5555555555555556,
              "#d8576b"
             ],
             [
              0.6666666666666666,
              "#ed7953"
             ],
             [
              0.7777777777777778,
              "#fb9f3a"
             ],
             [
              0.8888888888888888,
              "#fdca26"
             ],
             [
              1,
              "#f0f921"
             ]
            ],
            "type": "heatmap"
           }
          ],
          "heatmapgl": [
           {
            "colorbar": {
             "outlinewidth": 0,
             "ticks": ""
            },
            "colorscale": [
             [
              0,
              "#0d0887"
             ],
             [
              0.1111111111111111,
              "#46039f"
             ],
             [
              0.2222222222222222,
              "#7201a8"
             ],
             [
              0.3333333333333333,
              "#9c179e"
             ],
             [
              0.4444444444444444,
              "#bd3786"
             ],
             [
              0.5555555555555556,
              "#d8576b"
             ],
             [
              0.6666666666666666,
              "#ed7953"
             ],
             [
              0.7777777777777778,
              "#fb9f3a"
             ],
             [
              0.8888888888888888,
              "#fdca26"
             ],
             [
              1,
              "#f0f921"
             ]
            ],
            "type": "heatmapgl"
           }
          ],
          "histogram": [
           {
            "marker": {
             "pattern": {
              "fillmode": "overlay",
              "size": 10,
              "solidity": 0.2
             }
            },
            "type": "histogram"
           }
          ],
          "histogram2d": [
           {
            "colorbar": {
             "outlinewidth": 0,
             "ticks": ""
            },
            "colorscale": [
             [
              0,
              "#0d0887"
             ],
             [
              0.1111111111111111,
              "#46039f"
             ],
             [
              0.2222222222222222,
              "#7201a8"
             ],
             [
              0.3333333333333333,
              "#9c179e"
             ],
             [
              0.4444444444444444,
              "#bd3786"
             ],
             [
              0.5555555555555556,
              "#d8576b"
             ],
             [
              0.6666666666666666,
              "#ed7953"
             ],
             [
              0.7777777777777778,
              "#fb9f3a"
             ],
             [
              0.8888888888888888,
              "#fdca26"
             ],
             [
              1,
              "#f0f921"
             ]
            ],
            "type": "histogram2d"
           }
          ],
          "histogram2dcontour": [
           {
            "colorbar": {
             "outlinewidth": 0,
             "ticks": ""
            },
            "colorscale": [
             [
              0,
              "#0d0887"
             ],
             [
              0.1111111111111111,
              "#46039f"
             ],
             [
              0.2222222222222222,
              "#7201a8"
             ],
             [
              0.3333333333333333,
              "#9c179e"
             ],
             [
              0.4444444444444444,
              "#bd3786"
             ],
             [
              0.5555555555555556,
              "#d8576b"
             ],
             [
              0.6666666666666666,
              "#ed7953"
             ],
             [
              0.7777777777777778,
              "#fb9f3a"
             ],
             [
              0.8888888888888888,
              "#fdca26"
             ],
             [
              1,
              "#f0f921"
             ]
            ],
            "type": "histogram2dcontour"
           }
          ],
          "mesh3d": [
           {
            "colorbar": {
             "outlinewidth": 0,
             "ticks": ""
            },
            "type": "mesh3d"
           }
          ],
          "parcoords": [
           {
            "line": {
             "colorbar": {
              "outlinewidth": 0,
              "ticks": ""
             }
            },
            "type": "parcoords"
           }
          ],
          "pie": [
           {
            "automargin": true,
            "type": "pie"
           }
          ],
          "scatter": [
           {
            "fillpattern": {
             "fillmode": "overlay",
             "size": 10,
             "solidity": 0.2
            },
            "type": "scatter"
           }
          ],
          "scatter3d": [
           {
            "line": {
             "colorbar": {
              "outlinewidth": 0,
              "ticks": ""
             }
            },
            "marker": {
             "colorbar": {
              "outlinewidth": 0,
              "ticks": ""
             }
            },
            "type": "scatter3d"
           }
          ],
          "scattercarpet": [
           {
            "marker": {
             "colorbar": {
              "outlinewidth": 0,
              "ticks": ""
             }
            },
            "type": "scattercarpet"
           }
          ],
          "scattergeo": [
           {
            "marker": {
             "colorbar": {
              "outlinewidth": 0,
              "ticks": ""
             }
            },
            "type": "scattergeo"
           }
          ],
          "scattergl": [
           {
            "marker": {
             "colorbar": {
              "outlinewidth": 0,
              "ticks": ""
             }
            },
            "type": "scattergl"
           }
          ],
          "scattermapbox": [
           {
            "marker": {
             "colorbar": {
              "outlinewidth": 0,
              "ticks": ""
             }
            },
            "type": "scattermapbox"
           }
          ],
          "scatterpolar": [
           {
            "marker": {
             "colorbar": {
              "outlinewidth": 0,
              "ticks": ""
             }
            },
            "type": "scatterpolar"
           }
          ],
          "scatterpolargl": [
           {
            "marker": {
             "colorbar": {
              "outlinewidth": 0,
              "ticks": ""
             }
            },
            "type": "scatterpolargl"
           }
          ],
          "scatterternary": [
           {
            "marker": {
             "colorbar": {
              "outlinewidth": 0,
              "ticks": ""
             }
            },
            "type": "scatterternary"
           }
          ],
          "surface": [
           {
            "colorbar": {
             "outlinewidth": 0,
             "ticks": ""
            },
            "colorscale": [
             [
              0,
              "#0d0887"
             ],
             [
              0.1111111111111111,
              "#46039f"
             ],
             [
              0.2222222222222222,
              "#7201a8"
             ],
             [
              0.3333333333333333,
              "#9c179e"
             ],
             [
              0.4444444444444444,
              "#bd3786"
             ],
             [
              0.5555555555555556,
              "#d8576b"
             ],
             [
              0.6666666666666666,
              "#ed7953"
             ],
             [
              0.7777777777777778,
              "#fb9f3a"
             ],
             [
              0.8888888888888888,
              "#fdca26"
             ],
             [
              1,
              "#f0f921"
             ]
            ],
            "type": "surface"
           }
          ],
          "table": [
           {
            "cells": {
             "fill": {
              "color": "#EBF0F8"
             },
             "line": {
              "color": "white"
             }
            },
            "header": {
             "fill": {
              "color": "#C8D4E3"
             },
             "line": {
              "color": "white"
             }
            },
            "type": "table"
           }
          ]
         },
         "layout": {
          "annotationdefaults": {
           "arrowcolor": "#2a3f5f",
           "arrowhead": 0,
           "arrowwidth": 1
          },
          "autotypenumbers": "strict",
          "coloraxis": {
           "colorbar": {
            "outlinewidth": 0,
            "ticks": ""
           }
          },
          "colorscale": {
           "diverging": [
            [
             0,
             "#8e0152"
            ],
            [
             0.1,
             "#c51b7d"
            ],
            [
             0.2,
             "#de77ae"
            ],
            [
             0.3,
             "#f1b6da"
            ],
            [
             0.4,
             "#fde0ef"
            ],
            [
             0.5,
             "#f7f7f7"
            ],
            [
             0.6,
             "#e6f5d0"
            ],
            [
             0.7,
             "#b8e186"
            ],
            [
             0.8,
             "#7fbc41"
            ],
            [
             0.9,
             "#4d9221"
            ],
            [
             1,
             "#276419"
            ]
           ],
           "sequential": [
            [
             0,
             "#0d0887"
            ],
            [
             0.1111111111111111,
             "#46039f"
            ],
            [
             0.2222222222222222,
             "#7201a8"
            ],
            [
             0.3333333333333333,
             "#9c179e"
            ],
            [
             0.4444444444444444,
             "#bd3786"
            ],
            [
             0.5555555555555556,
             "#d8576b"
            ],
            [
             0.6666666666666666,
             "#ed7953"
            ],
            [
             0.7777777777777778,
             "#fb9f3a"
            ],
            [
             0.8888888888888888,
             "#fdca26"
            ],
            [
             1,
             "#f0f921"
            ]
           ],
           "sequentialminus": [
            [
             0,
             "#0d0887"
            ],
            [
             0.1111111111111111,
             "#46039f"
            ],
            [
             0.2222222222222222,
             "#7201a8"
            ],
            [
             0.3333333333333333,
             "#9c179e"
            ],
            [
             0.4444444444444444,
             "#bd3786"
            ],
            [
             0.5555555555555556,
             "#d8576b"
            ],
            [
             0.6666666666666666,
             "#ed7953"
            ],
            [
             0.7777777777777778,
             "#fb9f3a"
            ],
            [
             0.8888888888888888,
             "#fdca26"
            ],
            [
             1,
             "#f0f921"
            ]
           ]
          },
          "colorway": [
           "#636efa",
           "#EF553B",
           "#00cc96",
           "#ab63fa",
           "#FFA15A",
           "#19d3f3",
           "#FF6692",
           "#B6E880",
           "#FF97FF",
           "#FECB52"
          ],
          "font": {
           "color": "#2a3f5f"
          },
          "geo": {
           "bgcolor": "white",
           "lakecolor": "white",
           "landcolor": "#E5ECF6",
           "showlakes": true,
           "showland": true,
           "subunitcolor": "white"
          },
          "hoverlabel": {
           "align": "left"
          },
          "hovermode": "closest",
          "mapbox": {
           "style": "light"
          },
          "paper_bgcolor": "white",
          "plot_bgcolor": "#E5ECF6",
          "polar": {
           "angularaxis": {
            "gridcolor": "white",
            "linecolor": "white",
            "ticks": ""
           },
           "bgcolor": "#E5ECF6",
           "radialaxis": {
            "gridcolor": "white",
            "linecolor": "white",
            "ticks": ""
           }
          },
          "scene": {
           "xaxis": {
            "backgroundcolor": "#E5ECF6",
            "gridcolor": "white",
            "gridwidth": 2,
            "linecolor": "white",
            "showbackground": true,
            "ticks": "",
            "zerolinecolor": "white"
           },
           "yaxis": {
            "backgroundcolor": "#E5ECF6",
            "gridcolor": "white",
            "gridwidth": 2,
            "linecolor": "white",
            "showbackground": true,
            "ticks": "",
            "zerolinecolor": "white"
           },
           "zaxis": {
            "backgroundcolor": "#E5ECF6",
            "gridcolor": "white",
            "gridwidth": 2,
            "linecolor": "white",
            "showbackground": true,
            "ticks": "",
            "zerolinecolor": "white"
           }
          },
          "shapedefaults": {
           "line": {
            "color": "#2a3f5f"
           }
          },
          "ternary": {
           "aaxis": {
            "gridcolor": "white",
            "linecolor": "white",
            "ticks": ""
           },
           "baxis": {
            "gridcolor": "white",
            "linecolor": "white",
            "ticks": ""
           },
           "bgcolor": "#E5ECF6",
           "caxis": {
            "gridcolor": "white",
            "linecolor": "white",
            "ticks": ""
           }
          },
          "title": {
           "x": 0.05
          },
          "xaxis": {
           "automargin": true,
           "gridcolor": "white",
           "linecolor": "white",
           "ticks": "",
           "title": {
            "standoff": 15
           },
           "zerolinecolor": "white",
           "zerolinewidth": 2
          },
          "yaxis": {
           "automargin": true,
           "gridcolor": "white",
           "linecolor": "white",
           "ticks": "",
           "title": {
            "standoff": 15
           },
           "zerolinecolor": "white",
           "zerolinewidth": 2
          }
         }
        },
        "xaxis": {
         "anchor": "y",
         "domain": [
          0,
          1
         ],
         "title": {
          "text": "SEMANA_TRADUZIDA"
         }
        },
        "yaxis": {
         "anchor": "x",
         "domain": [
          0,
          1
         ],
         "title": {
          "text": "sum(TOTAL_VIDEOS)"
         }
        }
       }
      }
     },
     "metadata": {},
     "output_type": "display_data"
    }
   ],
   "source": [
    "fig = px.bar(df_publicacao_video, x='SEMANA_TRADUZIDA',y='sum(TOTAL_VIDEOS)', text_auto=True)\n",
    "fig.show()"
   ]
  },
  {
   "cell_type": "markdown",
   "metadata": {},
   "source": [
    "# Total de Tags X Vísualizações "
   ]
  },
  {
   "cell_type": "code",
   "execution_count": null,
   "metadata": {},
   "outputs": [],
   "source": []
  },
  {
   "cell_type": "markdown",
   "metadata": {},
   "source": [
    "# Tamanho dos títulos do Vídeos X Vísualizações"
   ]
  },
  {
   "cell_type": "code",
   "execution_count": null,
   "metadata": {},
   "outputs": [],
   "source": []
  },
  {
   "cell_type": "markdown",
   "metadata": {},
   "source": [
    "# Total Víews por Vídeo"
   ]
  },
  {
   "cell_type": "code",
   "execution_count": null,
   "metadata": {},
   "outputs": [],
   "source": []
  },
  {
   "cell_type": "markdown",
   "metadata": {},
   "source": [
    "# A duração do vídeo é importante para visualizações e interação (curtidas/comentários)?"
   ]
  },
  {
   "cell_type": "code",
   "execution_count": null,
   "metadata": {},
   "outputs": [],
   "source": []
  },
  {
   "cell_type": "markdown",
   "metadata": {},
   "source": [
    "# Desepenho dos vídeos (like, comentários, vísualizações) (Faça comparação)"
   ]
  },
  {
   "cell_type": "markdown",
   "metadata": {},
   "source": [
    "# Desepenho dos Canais (like, comentários, vísualizações) Faça Comparação\n"
   ]
  },
  {
   "cell_type": "code",
   "execution_count": null,
   "metadata": {},
   "outputs": [],
   "source": []
  },
  {
   "cell_type": "markdown",
   "metadata": {},
   "source": [
    "- Métricas especificas TRENDS"
   ]
  },
  {
   "cell_type": "markdown",
   "metadata": {},
   "source": []
  }
 ],
 "metadata": {
  "kernelspec": {
   "display_name": "venv",
   "language": "python",
   "name": "python3"
  },
  "language_info": {
   "codemirror_mode": {
    "name": "ipython",
    "version": 3
   },
   "file_extension": ".py",
   "mimetype": "text/x-python",
   "name": "python",
   "nbconvert_exporter": "python",
   "pygments_lexer": "ipython3",
   "version": "3.10.12"
  }
 },
 "nbformat": 4,
 "nbformat_minor": 2
}
