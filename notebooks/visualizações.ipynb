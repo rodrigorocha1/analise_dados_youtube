{
 "cells": [
  {
   "cell_type": "code",
   "execution_count": 1,
   "metadata": {},
   "outputs": [],
   "source": [
    "from pyspark.sql import SparkSession\n",
    "import plotly.express as px\n",
    "from plotly.subplots import make_subplots\n",
    "import plotly.graph_objects as go\n",
    "import pandas as pd"
   ]
  },
  {
   "cell_type": "code",
   "execution_count": 2,
   "metadata": {},
   "outputs": [
    {
     "name": "stdout",
     "output_type": "stream",
     "text": [
      "23/11/11 19:40:11 WARN Utils: Your hostname, rodrigo-Nitro-AN515-54 resolves to a loopback address: 127.0.1.1; using 192.168.0.112 instead (on interface wlp8s0)\n",
      "23/11/11 19:40:11 WARN Utils: Set SPARK_LOCAL_IP if you need to bind to another address\n"
     ]
    },
    {
     "name": "stderr",
     "output_type": "stream",
     "text": [
      "Setting default log level to \"WARN\".\n",
      "To adjust logging level use sc.setLogLevel(newLevel). For SparkR, use setLogLevel(newLevel).\n"
     ]
    },
    {
     "name": "stdout",
     "output_type": "stream",
     "text": [
      "23/11/11 19:40:13 WARN NativeCodeLoader: Unable to load native-hadoop library for your platform... using builtin-java classes where applicable\n"
     ]
    }
   ],
   "source": [
    "spark = SparkSession.builder.appName('vizualizações').getOrCreate()"
   ]
  },
  {
   "cell_type": "code",
   "execution_count": 3,
   "metadata": {},
   "outputs": [
    {
     "data": {
      "text/html": [
       "\n",
       "            <div>\n",
       "                <p><b>SparkSession - in-memory</b></p>\n",
       "                \n",
       "        <div>\n",
       "            <p><b>SparkContext</b></p>\n",
       "\n",
       "            <p><a href=\"http://192.168.0.112:4040\">Spark UI</a></p>\n",
       "\n",
       "            <dl>\n",
       "              <dt>Version</dt>\n",
       "                <dd><code>v3.3.0</code></dd>\n",
       "              <dt>Master</dt>\n",
       "                <dd><code>local[*]</code></dd>\n",
       "              <dt>AppName</dt>\n",
       "                <dd><code>vizualizações</code></dd>\n",
       "            </dl>\n",
       "        </div>\n",
       "        \n",
       "            </div>\n",
       "        "
      ],
      "text/plain": [
       "<pyspark.sql.session.SparkSession at 0x7f027ef14be0>"
      ]
     },
     "execution_count": 3,
     "metadata": {},
     "output_type": "execute_result"
    }
   ],
   "source": [
    "spark"
   ]
  },
  {
   "cell_type": "code",
   "execution_count": 4,
   "metadata": {},
   "outputs": [
    {
     "name": "stderr",
     "output_type": "stream",
     "text": [
      "                                                                                \r"
     ]
    }
   ],
   "source": [
    "df_parquet = spark.read.parquet('/home/rodrigo/Documentos/projetos/open_weather_api_apache/analise_dados_youtube/data/projetos_youtube_v2/ouro/assunto_cities_skylines/total_video_publicado_semana/total_video_publicado_semana.parquet')\n",
    "df_parquet.createOrReplaceTempView('TOTAL_PUBLICACOES')"
   ]
  },
  {
   "cell_type": "code",
   "execution_count": 5,
   "metadata": {},
   "outputs": [
    {
     "name": "stderr",
     "output_type": "stream",
     "text": [
      "                                                                                \r"
     ]
    },
    {
     "name": "stdout",
     "output_type": "stream",
     "text": [
      "+----------------+----------------------------+------------+---------------+------------------------+\n",
      "|SEMANA_TRADUZIDA|NM_CANAL                    |TOTAL_VIDEOS|DATA_PUBLICACAO|ID_CANAL                |\n",
      "+----------------+----------------------------+------------+---------------+------------------------+\n",
      "|Segunda-feira   |CANAL HAND - GAME WITH MUSIC|1           |2023-10-16     |UC7v51W2NoLFawizgcNuVBOA|\n",
      "|Segunda-feira   |CANAL HAND - GAME WITH MUSIC|1           |2023-10-23     |UC7v51W2NoLFawizgcNuVBOA|\n",
      "|Quarta-feira    |CANAL HAND - GAME WITH MUSIC|1           |2023-10-18     |UC7v51W2NoLFawizgcNuVBOA|\n",
      "|Terça-feira     |CANAL HAND - GAME WITH MUSIC|1           |2023-10-17     |UC7v51W2NoLFawizgcNuVBOA|\n",
      "|Sexta-feira     |CANAL HAND - GAME WITH MUSIC|1           |2023-10-20     |UC7v51W2NoLFawizgcNuVBOA|\n",
      "|Sábado          |CANAL HAND - GAME WITH MUSIC|1           |2023-10-21     |UC7v51W2NoLFawizgcNuVBOA|\n",
      "|Domingo         |CANAL HAND - GAME WITH MUSIC|1           |2023-10-22     |UC7v51W2NoLFawizgcNuVBOA|\n",
      "|Domingo         |CANAL HAND - GAME WITH MUSIC|1           |2023-10-15     |UC7v51W2NoLFawizgcNuVBOA|\n",
      "|Terça-feira     |Cogumelando Videogame       |1           |2023-10-24     |UCXso4Ho8UARhzS3I_LOVTKA|\n",
      "|Segunda-feira   |Canal Sala de Jogos         |1           |2023-10-16     |UCYEb5mbKZ5JJzN0xBuKyaig|\n",
      "|Segunda-feira   |Canal Sala de Jogos         |1           |2023-10-23     |UCYEb5mbKZ5JJzN0xBuKyaig|\n",
      "|Quinta-feira    |Canal Sala de Jogos         |1           |2023-10-19     |UCYEb5mbKZ5JJzN0xBuKyaig|\n",
      "|Segunda-feira   |ChratosGameplay             |1           |2023-10-23     |UCrOH1V-FyMunBIMrKL0y0xQ|\n",
      "|Segunda-feira   |ChratosGameplay             |1           |2023-10-16     |UCrOH1V-FyMunBIMrKL0y0xQ|\n",
      "|Terça-feira     |ChratosGameplay             |1           |2023-10-24     |UCrOH1V-FyMunBIMrKL0y0xQ|\n",
      "|Quinta-feira    |ChratosGameplay             |1           |2023-10-26     |UCrOH1V-FyMunBIMrKL0y0xQ|\n",
      "|Quinta-feira    |ChratosGameplay             |1           |2023-10-19     |UCrOH1V-FyMunBIMrKL0y0xQ|\n",
      "|Quarta-feira    |ChratosGameplay             |1           |2023-10-18     |UCrOH1V-FyMunBIMrKL0y0xQ|\n",
      "|Terça-feira     |ChratosGameplay             |1           |2023-10-17     |UCrOH1V-FyMunBIMrKL0y0xQ|\n",
      "|Quarta-feira    |ChratosGameplay             |1           |2023-10-25     |UCrOH1V-FyMunBIMrKL0y0xQ|\n",
      "+----------------+----------------------------+------------+---------------+------------------------+\n",
      "only showing top 20 rows\n",
      "\n"
     ]
    }
   ],
   "source": [
    "spark.sql('SELECT * FROM TOTAL_PUBLICACOES WHERE NM_CANAL LIKE \"C%\"').show(truncate=False)"
   ]
  },
  {
   "cell_type": "code",
   "execution_count": 6,
   "metadata": {},
   "outputs": [
    {
     "name": "stderr",
     "output_type": "stream",
     "text": [
      "[Stage 5:>                                                          (0 + 1) / 1]\r"
     ]
    },
    {
     "name": "stdout",
     "output_type": "stream",
     "text": [
      "+---------------+-----------------+\n",
      "|DATA_PUBLICACAO|sum(TOTAL_VIDEOS)|\n",
      "+---------------+-----------------+\n",
      "|     2023-10-25|               23|\n",
      "|     2023-10-16|               16|\n",
      "|     2023-10-15|               10|\n",
      "|     2023-10-18|               14|\n",
      "|     2023-10-23|               24|\n",
      "|     2023-10-21|               21|\n",
      "|     2023-10-20|               13|\n",
      "|     2023-10-19|               17|\n",
      "|     2023-10-22|               15|\n",
      "|     2023-10-17|               16|\n",
      "|     2023-10-26|               22|\n",
      "|     2023-10-24|               23|\n",
      "|     2023-10-27|               21|\n",
      "+---------------+-----------------+\n",
      "\n"
     ]
    },
    {
     "name": "stderr",
     "output_type": "stream",
     "text": [
      "                                                                                \r"
     ]
    }
   ],
   "source": [
    "spark.sql('SELECT DATA_PUBLICACAO, sum(TOTAL_VIDEOS) FROM TOTAL_PUBLICACOES GROUP BY  DATA_PUBLICACAO').show()"
   ]
  },
  {
   "cell_type": "code",
   "execution_count": 7,
   "metadata": {},
   "outputs": [
    {
     "name": "stdout",
     "output_type": "stream",
     "text": [
      "+--------+\n",
      "|count(1)|\n",
      "+--------+\n",
      "|      23|\n",
      "+--------+\n",
      "\n"
     ]
    }
   ],
   "source": [
    "spark.sql('SELECT COUNT(*) FROM TOTAL_PUBLICACOES where DATA_PUBLICACAO = \"2023-10-25\"  ' ).show(26)"
   ]
  },
  {
   "cell_type": "markdown",
   "metadata": {},
   "source": [
    "# Relação Comentários X Visualização (proporção) e Relação Visualizações X Likes (proporção)"
   ]
  },
  {
   "cell_type": "code",
   "execution_count": 8,
   "metadata": {},
   "outputs": [],
   "source": [
    "assunto = 'assunto_cities_skylines'"
   ]
  },
  {
   "cell_type": "code",
   "execution_count": 9,
   "metadata": {},
   "outputs": [
    {
     "name": "stderr",
     "output_type": "stream",
     "text": [
      "                                                                                \r"
     ]
    }
   ],
   "source": [
    "df_visualizacoes_semana = spark.read.parquet(f'/home/rodrigo/Documentos/projetos/open_weather_api_apache/analise_dados_youtube/data/projetos_youtube_v2/ouro/{assunto}/total_visualizacoes_por_semana')\n",
    "df_visualizacoes_semana.createOrReplaceTempView('METRICAS_VIDEO')"
   ]
  },
  {
   "cell_type": "code",
   "execution_count": 10,
   "metadata": {},
   "outputs": [
    {
     "name": "stderr",
     "output_type": "stream",
     "text": [
      "[Stage 19:>                                                         (0 + 1) / 1]\r"
     ]
    },
    {
     "name": "stdout",
     "output_type": "stream",
     "text": [
      "+---------------+-----------+---------------------------------------------------------------------------------------------+---------------------+------------------------------------------------------------------------------------------------------------------------------------------------------------------------------------------------------------------------------------------------------------------------------------------------------------------------------------------------------------------------------------------------------------------------------------------------------------------------------------------------------------------------+---------------------+----------+-------------------+-----------------+-----------+-----------------------+---------------------+---------------+-------------+------------------------+\n",
      "|NM_CANAL       |ID_VIDEO   |TITULO_VIDEO                                                                                 |TOTAL_CARACTERE_VIDEO|TAGS                                                                                                                                                                                                                                                                                                                                                                                                                                                                                                                    |DURACAO_VIDEO_MINUTOS|TOTAL_TAGS|TOTAL_VISUALIZACOES|TOTAL_COMENTARIOS|TOTAL_LIKES|TOTAL_VISUALIZACOES_DIA|TOTAL_COMENTARIOS_DIA|TOTAL_LIKES_DIA|data_extracao|ID_CANAL                |\n",
      "+---------------+-----------+---------------------------------------------------------------------------------------------+---------------------+------------------------------------------------------------------------------------------------------------------------------------------------------------------------------------------------------------------------------------------------------------------------------------------------------------------------------------------------------------------------------------------------------------------------------------------------------------------------------------------------------------------------+---------------------+----------+-------------------+-----------------+-----------+-----------------------+---------------------+---------------+-------------+------------------------+\n",
      "|ChratosGameplay|-QaSHAsHQSs|CITIES SKYLINES 2: É PAU É PEDRA É A ECONOMIA DA CIDADE DO CHAT! (LINK DESCRIÇÃO)            |81                   |null                                                                                                                                                                                                                                                                                                                                                                                                                                                                                                                    |0.0                  |0         |0                  |0                |50         |0                      |0                    |50             |2023-10-27   |UCrOH1V-FyMunBIMrKL0y0xQ|\n",
      "|ChratosGameplay|6RgEh-9KAgY|PREFEITURA E PREVIDÊNCIA CHEGAM A CIDADE! 🏙️ - Cities Skylines 2 #7                         |67                   |[cities skylines, cities skylines 2, cities skylines gameplay, cities skylines 2 gameplay, cities, skylines, gameplay, city builder, cities skylines como começar, cities skylines tutorial, city skylines, tutorial, citybuilder, brasil, cities: skylines, mods, cities skylines pt br, cidade, chratos, cities skylines 2 vs 1, cities skylines 2 tutorial, cities skylines 2 mods, cities skylines ii, cities 2, cs2, city skylines 2, cities skylines 2 ptbr, cities: skylines 2 pt br, pt, br, ptbr]              |26.88                |31        |42650              |220              |5600       |3257                   |5                    |283            |2023-10-27   |UCrOH1V-FyMunBIMrKL0y0xQ|\n",
      "|ChratosGameplay|9SGBZ7GE5EA|SUPER SUBÚRBIO FAZ ALCANÇAR 10000 HABITANTES 🏙️ - Cities Skylines 2 #4                      |70                   |[cities skylines, cities skylines 2, cities skylines gameplay, cities skylines 2 gameplay, cities, skylines, gameplay, city builder, cities skylines como começar, cities skylines tutorial, city skylines, tutorial, citybuilder, brasil, cities: skylines, mods, cities skylines pt br, cidade, chratos, cities skylines 2 vs 1, cities skylines 2 tutorial, cities skylines 2 mods, cities skylines ii, cities 2, cs2, city skylines 2, cities skylines 2 ptbr, cities: skylines 2 pt br, pt, br, ptbr]              |25.67                |31        |54375              |213              |6855       |1561                   |213                  |148            |2023-10-27   |UCrOH1V-FyMunBIMrKL0y0xQ|\n",
      "|ChratosGameplay|KfzZNkdyeEs|POLUIÇÃO FORÇA MIGRAÇÃO DA INDÚSTRIA PARA NOVO DISTRITO 🏙️ - Cities Skylines 2 #5           |81                   |[cities skylines, cities skylines 2, cities skylines gameplay, cities skylines 2 gameplay, cities, skylines, gameplay, city builder, cities skylines como começar, cities skylines tutorial, city skylines, tutorial, citybuilder, brasil, cities: skylines, mods, cities skylines pt br, cidade, chratos, cities skylines 2 vs 1, cities skylines 2 tutorial, cities skylines 2 mods, cities skylines ii, cities 2, cs2, city skylines 2, cities skylines 2 ptbr, cities: skylines 2 pt br, pt, br, ptbr]              |28.43                |31        |50789              |124              |6448       |1853                   |124                  |165            |2023-10-27   |UCrOH1V-FyMunBIMrKL0y0xQ|\n",
      "|ChratosGameplay|QwXP79P4xS0|TRANSPORTE PÚBLICO DE MASSA COM TRENS! 🏙️ - Cities Skylines 2 #8                            |64                   |[cities skylines, cities skylines 2, cities skylines gameplay, cities skylines 2 gameplay, cities, skylines, gameplay, city builder, cities skylines como começar, cities skylines tutorial, city skylines, tutorial, citybuilder, brasil, cities: skylines, mods, cities skylines pt br, cidade, chratos, cities skylines 2 vs 1, cities skylines 2 tutorial, cities skylines 2 mods, cities skylines ii, cities 2, cs2, city skylines 2, cities skylines 2 ptbr, cities: skylines 2 pt br, pt, br, ptbr]              |32.28                |31        |39265              |180              |5046       |13719                  |37                   |1003           |2023-10-27   |UCrOH1V-FyMunBIMrKL0y0xQ|\n",
      "|ChratosGameplay|TBZuVHi3QdM|BALSAS, BUSÕES E BONDES SALVARAM TRÂNSITO? 🏙️ - Cities Skylines 2 #6                        |68                   |[cities skylines, cities skylines 2, cities skylines gameplay, cities skylines 2 gameplay, cities, skylines, gameplay, city builder, cities skylines como começar, cities skylines tutorial, city skylines, tutorial, citybuilder, brasil, cities: skylines, mods, cities skylines pt br, cidade, chratos, cities skylines 2 vs 1, cities skylines 2 tutorial, cities skylines 2 mods, cities skylines ii, cities 2, cs2, city skylines 2, cities skylines 2 ptbr, cities: skylines 2 pt br, pt, br, ptbr]              |29.13                |31        |50480              |157              |6330       |2027                   |2                    |171            |2023-10-27   |UCrOH1V-FyMunBIMrKL0y0xQ|\n",
      "|ChratosGameplay|V_d6T_UKRDg|CITIES SKYLINES 2: LANÇAMENTO OFICIAL E EXPLORANDO A ECONOMIA DO JOGO! (LINK DESCRIÇÃO)      |87                   |null                                                                                                                                                                                                                                                                                                                                                                                                                                                                                                                    |0.0                  |0         |0                  |0                |51         |0                      |0                    |51             |2023-10-27   |UCrOH1V-FyMunBIMrKL0y0xQ|\n",
      "|ChratosGameplay|XOUzWJ0bHuw|MODDERS decidem fazer O MELHOR JOGO DE GERENCIMENTO COM COMBATE TÁTICO? 🎖️ - Ascent of Ashes|92                   |[ascent of ashes, rimworld, chratos, gameplay, chratosgameplay, pt, br, ptbr, portugal, brasil, ascent of ashes gameplay, colony sim, rimworld gameplay, rimworld mods, base building, city builder, ascent of ashes game, colony sim games 2023, colony simulator, colony sim games, estratégia, gerenciamento, 2023, ascent of ashes steam, ascent of ashes download, rimworld fans, rimworld lets play, rimworld combat extended, strategy, rts, real time tactics, tático, combate]                                 |23.25                |33        |9540               |33               |1078       |19                     |33                   |2              |2023-10-27   |UCrOH1V-FyMunBIMrKL0y0xQ|\n",
      "|ChratosGameplay|dRzwiPwGH_M|Planejamento inicial PODE SALVAR SUA CIDADE! 🚗 - Cities Skylines  - CONSERTANDO O TRÂNSITO  |90                   |[Cities Skylines, parklife, dlc, new, gameplay, chratos, paradox, citybuilder, cities: skylines, video game, city builder, paradox interactive, game, cities, colossal order, city building, cities skylines dlc, skylines, let's play, construir, parque, portugal, pt-br, pt br, brasil, steam, jogo, tutorial, lets play, mod, mods, cities skylines tutorial roads, cities skylines gameplay, cities skylines como começar, cities skylines gameplay 2020, cities skylines dicas transito, cities skylines tutorial]|25.22                |37        |18599              |79               |2418       |169                    |79                   |14             |2023-10-27   |UCrOH1V-FyMunBIMrKL0y0xQ|\n",
      "|ChratosGameplay|mfCGsYnClDU|CITIES SKYLINES 2: BORA LEVANTAR UMA CIDADE COM A PARTICIPAÇÃO DO CHAT! (LINK DESCRIÇÃO)     |88                   |null                                                                                                                                                                                                                                                                                                                                                                                                                                                                                                                    |0.0                  |0         |0                  |0                |149        |0                      |0                    |149            |2023-10-27   |UCrOH1V-FyMunBIMrKL0y0xQ|\n",
      "|ChratosGameplay|totHMIv6_hI|PEQUENA FORTUNA EM SERVIÇOS PÚBLICOS BÁSICOS 🏙️ - Cities Skylines 2 #2                      |70                   |[cities skylines, cities skylines 2, cities skylines gameplay, cities skylines 2 gameplay, cities, skylines, gameplay, city builder, cities skylines como começar, cities skylines tutorial, city skylines, tutorial, citybuilder, brasil, cities: skylines, mods, cities skylines pt br, cidade, chratos, cities skylines 2 vs 1, cities skylines 2 tutorial, cities skylines 2 mods, cities skylines ii, cities 2, cs2, city skylines 2, cities skylines 2 ptbr, cities: skylines 2 pt br, pt, br, ptbr]              |31.92                |31        |71357              |188              |8978       |1889                   |2                    |139            |2023-10-27   |UCrOH1V-FyMunBIMrKL0y0xQ|\n",
      "|ChratosGameplay|up4KrHrRwLY|DO CRIADOR DA MELHOR CIDADE JÁ FEITA, A NOVA MELHOR CIDADE? 🏢 - Cities Skylines Showcase    |88                   |[cities skylines, cities skylines 2, cities skylines gameplay, cities skylines 2 gameplay, cities skylines financial district, cities skylines airport, cities skylines timelapse, cities skylines vanilla, cities skylines mods, cities skylines dlc, cities, skylines, gameplay, city builder, cities skylines como começar, cities skylines tutorial, city skylines, tutorial, colossal order, citybuilder, paradox, brasil, lets play, cities: skylines, mods, cities skylines pt br, cidade, chratos]              |42.43                |28        |33628              |111              |3382       |1246                   |1                    |61             |2023-10-27   |UCrOH1V-FyMunBIMrKL0y0xQ|\n",
      "|ChratosGameplay|vy-upTpchig|PRIMEIRA PRAÇA DA CIDADE SAI DO PAPEL 🏙️ - Cities Skylines 2 #3                             |63                   |[cities skylines, cities skylines 2, cities skylines gameplay, cities skylines 2 gameplay, cities, skylines, gameplay, city builder, cities skylines como começar, cities skylines tutorial, city skylines, tutorial, citybuilder, brasil, cities: skylines, mods, cities skylines pt br, cidade, chratos, cities skylines 2 vs 1, cities skylines 2 tutorial, cities skylines 2 mods, cities skylines ii, cities 2, cs2, city skylines 2, cities skylines 2 ptbr, cities: skylines 2 pt br, pt, br, ptbr]              |22.95                |31        |60786              |201              |7321       |1568                   |1                    |156            |2023-10-27   |UCrOH1V-FyMunBIMrKL0y0xQ|\n",
      "|ChratosGameplay|wCLSZxLfUAk|MELHOR JOGO DE CONSTRUIR CIDADES CHEGOU E ESTÁ LINDO 🏙️ - Cities Skylines 2                 |75                   |[cities skylines, cities skylines 2, cities skylines gameplay, cities skylines 2 gameplay, cities, skylines, gameplay, city builder, cities skylines como começar, cities skylines tutorial, city skylines, tutorial, citybuilder, brasil, cities: skylines, mods, cities skylines pt br, cidade, chratos, cities skylines 2 vs 1, cities skylines 2 tutorial, cities skylines 2 mods, cities skylines ii, cities 2, cs2, city skylines 2, cities skylines 2 ptbr, cities: skylines 2 pt br, pt, br, ptbr]              |19.63                |31        |120812             |418              |13988      |3437                   |2                    |204            |2023-10-27   |UCrOH1V-FyMunBIMrKL0y0xQ|\n",
      "|ChratosGameplay|xCaUzgIM6Bg|Vias expressas/Rodovias e aneis rodoviários - Guia de planejamento - Cities Skylines 2       |86                   |[cities skylines, cities skylines 2, cities skylines gameplay, cities skylines 2 gameplay, cities, skylines, gameplay, city builder, cities skylines como começar, cities skylines tutorial, city skylines, tutorial, citybuilder, brasil, cities: skylines, mods, cities skylines pt br, cidade, chratos, cities skylines 2 vs 1, cities skylines 2 tutorial, cities skylines 2 mods, cities skylines ii, cities 2, cs2, city skylines 2, cities skylines 2 ptbr, cities: skylines 2 pt br, pt, br, ptbr]              |19.02                |31        |18620              |54               |1368       |2388                   |3                    |100            |2023-10-27   |UCrOH1V-FyMunBIMrKL0y0xQ|\n",
      "|ChratosGameplay|xSAyLQ9h22k|OBRAS DO ANEL RODOVIÁRIO COMPLETA! 🏙️ - Cities Skylines 2 #9                                |60                   |[cities skylines, cities skylines 2, cities skylines gameplay, cities skylines 2 gameplay, cities, skylines, gameplay, city builder, cities skylines como começar, cities skylines tutorial, city skylines, tutorial, citybuilder, brasil, cities: skylines, mods, cities skylines pt br, cidade, chratos, cities skylines 2 vs 1, cities skylines 2 tutorial, cities skylines 2 mods, cities skylines ii, cities 2, cs2, city skylines 2, cities skylines 2 ptbr, cities: skylines 2 pt br, pt, br, ptbr]              |26.32                |31        |15805              |139              |2753       |15805                  |139                  |2753           |2023-10-27   |UCrOH1V-FyMunBIMrKL0y0xQ|\n",
      "|ChratosGameplay|zFO5_abqEss|Vias coletoras/arteriais e avenidas - Guia de planejamento - Cities Skylines 2               |78                   |[cities skylines, cities skylines 2, cities skylines gameplay, cities skylines 2 gameplay, cities, skylines, gameplay, city builder, cities skylines como começar, cities skylines tutorial, city skylines, tutorial, citybuilder, brasil, cities: skylines, mods, cities skylines pt br, cidade, chratos, cities skylines 2 vs 1, cities skylines 2 tutorial, cities skylines 2 mods, cities skylines ii, cities 2, cs2, city skylines 2, cities skylines 2 ptbr, cities: skylines 2 pt br, pt, br, ptbr]              |16.78                |31        |19942              |63               |1950       |435                    |1                    |32             |2023-10-27   |UCrOH1V-FyMunBIMrKL0y0xQ|\n",
      "|ChratosGameplay|zyG3nFm9BB8|SIMULADOR DE PLATAFORMA DE PETRÓLEO DA PETROBRÁS! ⛽ - Drill Deal                             |64                   |[drill deal, drill deal oil tycoon, oil tycoon, drill deal – oil tycoon, drill deal gameplay, drill deal ps4, drill deal pc, drill deal oil tycoon gameplay, oil tycoon game, chratos, gameplay, chratosgameplay, pt, br, ptbr, português, portugal, brasil, drill deal oil tycoon review, drill deals, pt br, magnata do petróleo, drill deal trailer, drill deal game, drill deal lets play, tycoon, petrobrás, petróleo, plataforma, estratégia, gerenciamento, city builder, cities skylines]                       |34.05                |33        |24021              |40               |2441       |324                    |40                   |8              |2023-10-27   |UCrOH1V-FyMunBIMrKL0y0xQ|\n",
      "|ChratosGameplay|-QaSHAsHQSs|CITIES SKYLINES 2: É PAU É PEDRA É A ECONOMIA DA CIDADE DO CHAT! (LINK DESCRIÇÃO)            |81                   |null                                                                                                                                                                                                                                                                                                                                                                                                                                                                                                                    |0.0                  |0         |0                  |0                |50         |0                      |0                    |50             |2023-10-26   |UCrOH1V-FyMunBIMrKL0y0xQ|\n",
      "|ChratosGameplay|6RgEh-9KAgY|PREFEITURA E PREVIDÊNCIA CHEGAM A CIDADE! 🏙️ - Cities Skylines 2 #7                         |67                   |[cities skylines, cities skylines 2, cities skylines gameplay, cities skylines 2 gameplay, cities, skylines, gameplay, city builder, cities skylines como começar, cities skylines tutorial, city skylines, tutorial, citybuilder, brasil, cities: skylines, mods, cities skylines pt br, cidade, chratos, cities skylines 2 vs 1, cities skylines 2 tutorial, cities skylines 2 mods, cities skylines ii, cities 2, cs2, city skylines 2, cities skylines 2 ptbr, cities: skylines 2 pt br, pt, br, ptbr]              |26.88                |31        |39393              |215              |5317       |14489                  |36                   |1215           |2023-10-26   |UCrOH1V-FyMunBIMrKL0y0xQ|\n",
      "+---------------+-----------+---------------------------------------------------------------------------------------------+---------------------+------------------------------------------------------------------------------------------------------------------------------------------------------------------------------------------------------------------------------------------------------------------------------------------------------------------------------------------------------------------------------------------------------------------------------------------------------------------------------------------------------------------------+---------------------+----------+-------------------+-----------------+-----------+-----------------------+---------------------+---------------+-------------+------------------------+\n",
      "only showing top 20 rows\n",
      "\n"
     ]
    },
    {
     "name": "stderr",
     "output_type": "stream",
     "text": [
      "                                                                                \r"
     ]
    }
   ],
   "source": [
    "spark.sql(' SELECT *'\n",
    "          ' FROM METRICAS_VIDEO ').show(truncate=False)"
   ]
  },
  {
   "cell_type": "code",
   "execution_count": 11,
   "metadata": {},
   "outputs": [
    {
     "name": "stderr",
     "output_type": "stream",
     "text": [
      "[Stage 20:==========================================>             (16 + 5) / 21]\r"
     ]
    },
    {
     "name": "stdout",
     "output_type": "stream",
     "text": [
      "+------------------------+----------------------------+--------+\n",
      "|ID_CANAL                |NM_CANAL                    |count(1)|\n",
      "+------------------------+----------------------------+--------+\n",
      "|UCrOH1V-FyMunBIMrKL0y0xQ|ChratosGameplay             |114     |\n",
      "|UC7v51W2NoLFawizgcNuVBOA|CANAL HAND - GAME WITH MUSIC|83      |\n",
      "|UCkXA2EoaXRFW18vrAE01BpQ|Betospa Gaming              |67      |\n",
      "|UC1mk6EtfMjxR4eEZ7C43zTQ|Irmãos Cities               |67      |\n",
      "|UCfY4ggUDPeecGSCNePyyVSA|MetalBear                   |58      |\n",
      "|UCcn60fs5EMW8A_k9R-e4gEg|Cabrunco Games              |51      |\n",
      "|UCOYJm7BsLV8VCkW2DC1MI5w|Lucas gameplays brasil      |51      |\n",
      "|UCayiH2Y5JBEOSubqoQhufDA|Lives do Chratos            |48      |\n",
      "|UCDGo_s0I-2JpO3o3xlkMQVA|Simularies                  |38      |\n",
      "|UCrUcdH_bCfX77xpXHyq2fJw|Canal do Void               |37      |\n",
      "|UCmg3_taw1BrGuo1ITlQe2hA|O Construtor                |36      |\n",
      "|UCTrNnXivZU_1-aJqn1uNANg|DILSÃO                      |35      |\n",
      "|UCe9jrI0YQ5SM6h5QRZ9FZlA|Barbosa Cities              |28      |\n",
      "|UCMsbzwrSvRJoa0JhS5YcsqQ|rlkpedrom                   |26      |\n",
      "|UCxIMGC-GmZ2pXE_jGGW2C9A|Majestic                    |26      |\n",
      "|UCp7gzkfbWE7jazP65W9ZtWg|Ganso GamePlay              |25      |\n",
      "|UCYEb5mbKZ5JJzN0xBuKyaig|Canal Sala de Jogos         |24      |\n",
      "|UCvEj9EurcC8q5hkV-Apf4jA|Sr L                        |22      |\n",
      "|UCwBN6GQiolq3EkRPYC7OTtA|Grilo Gamer                 |21      |\n",
      "|UCABm0SdJCoM6z0MFod7s3Lg|Prompt Dark                 |19      |\n",
      "+------------------------+----------------------------+--------+\n",
      "only showing top 20 rows\n",
      "\n"
     ]
    },
    {
     "name": "stderr",
     "output_type": "stream",
     "text": [
      "                                                                                \r"
     ]
    }
   ],
   "source": [
    "spark.sql(' SELECT ID_CANAL, NM_CANAL, count(*)'\n",
    "          ' FROM METRICAS_VIDEO '\n",
    "          ' GROUP BY ID_CANAL, NM_CANAL ORDER BY 3 DESC').show(truncate=False)"
   ]
  },
  {
   "cell_type": "code",
   "execution_count": 22,
   "metadata": {},
   "outputs": [
    {
     "data": {
      "text/html": [
       "<div>\n",
       "<style scoped>\n",
       "    .dataframe tbody tr th:only-of-type {\n",
       "        vertical-align: middle;\n",
       "    }\n",
       "\n",
       "    .dataframe tbody tr th {\n",
       "        vertical-align: top;\n",
       "    }\n",
       "\n",
       "    .dataframe thead th {\n",
       "        text-align: right;\n",
       "    }\n",
       "</style>\n",
       "<table border=\"1\" class=\"dataframe\">\n",
       "  <thead>\n",
       "    <tr style=\"text-align: right;\">\n",
       "      <th></th>\n",
       "      <th>ID_VIDEO</th>\n",
       "      <th>TOTAL_CARACTERE_VIDEO</th>\n",
       "      <th>TITULO_VIDEO</th>\n",
       "      <th>NM_CANAL</th>\n",
       "      <th>TOTAL_COMENTARIOS</th>\n",
       "      <th>TOTAL_LIKES</th>\n",
       "      <th>TOTAL_VISUALIZACOES</th>\n",
       "    </tr>\n",
       "  </thead>\n",
       "  <tbody>\n",
       "    <tr>\n",
       "      <th>13</th>\n",
       "      <td>wCLSZxLfUAk</td>\n",
       "      <td>75</td>\n",
       "      <td>MELHOR JOGO DE CONSTRUIR CIDADES CHEGOU E ESTÁ...</td>\n",
       "      <td>ChratosGameplay</td>\n",
       "      <td>418</td>\n",
       "      <td>13988</td>\n",
       "      <td>120812</td>\n",
       "    </tr>\n",
       "    <tr>\n",
       "      <th>31</th>\n",
       "      <td>wCLSZxLfUAk</td>\n",
       "      <td>75</td>\n",
       "      <td>MELHOR JOGO DE CONSTRUIR CIDADES CHEGOU E ESTÁ...</td>\n",
       "      <td>ChratosGameplay</td>\n",
       "      <td>416</td>\n",
       "      <td>13784</td>\n",
       "      <td>117375</td>\n",
       "    </tr>\n",
       "    <tr>\n",
       "      <th>47</th>\n",
       "      <td>wCLSZxLfUAk</td>\n",
       "      <td>75</td>\n",
       "      <td>MELHOR JOGO DE CONSTRUIR CIDADES CHEGOU E ESTÁ...</td>\n",
       "      <td>ChratosGameplay</td>\n",
       "      <td>414</td>\n",
       "      <td>13460</td>\n",
       "      <td>111842</td>\n",
       "    </tr>\n",
       "    <tr>\n",
       "      <th>62</th>\n",
       "      <td>wCLSZxLfUAk</td>\n",
       "      <td>75</td>\n",
       "      <td>MELHOR JOGO DE CONSTRUIR CIDADES CHEGOU E ESTÁ...</td>\n",
       "      <td>ChratosGameplay</td>\n",
       "      <td>408</td>\n",
       "      <td>13033</td>\n",
       "      <td>104409</td>\n",
       "    </tr>\n",
       "    <tr>\n",
       "      <th>74</th>\n",
       "      <td>wCLSZxLfUAk</td>\n",
       "      <td>75</td>\n",
       "      <td>MELHOR JOGO DE CONSTRUIR CIDADES CHEGOU E ESTÁ...</td>\n",
       "      <td>ChratosGameplay</td>\n",
       "      <td>403</td>\n",
       "      <td>12605</td>\n",
       "      <td>97039</td>\n",
       "    </tr>\n",
       "  </tbody>\n",
       "</table>\n",
       "</div>"
      ],
      "text/plain": [
       "       ID_VIDEO  TOTAL_CARACTERE_VIDEO  \\\n",
       "13  wCLSZxLfUAk                     75   \n",
       "31  wCLSZxLfUAk                     75   \n",
       "47  wCLSZxLfUAk                     75   \n",
       "62  wCLSZxLfUAk                     75   \n",
       "74  wCLSZxLfUAk                     75   \n",
       "\n",
       "                                         TITULO_VIDEO         NM_CANAL  \\\n",
       "13  MELHOR JOGO DE CONSTRUIR CIDADES CHEGOU E ESTÁ...  ChratosGameplay   \n",
       "31  MELHOR JOGO DE CONSTRUIR CIDADES CHEGOU E ESTÁ...  ChratosGameplay   \n",
       "47  MELHOR JOGO DE CONSTRUIR CIDADES CHEGOU E ESTÁ...  ChratosGameplay   \n",
       "62  MELHOR JOGO DE CONSTRUIR CIDADES CHEGOU E ESTÁ...  ChratosGameplay   \n",
       "74  MELHOR JOGO DE CONSTRUIR CIDADES CHEGOU E ESTÁ...  ChratosGameplay   \n",
       "\n",
       "    TOTAL_COMENTARIOS  TOTAL_LIKES  TOTAL_VISUALIZACOES  \n",
       "13                418        13988               120812  \n",
       "31                416        13784               117375  \n",
       "47                414        13460               111842  \n",
       "62                408        13033               104409  \n",
       "74                403        12605                97039  "
      ]
     },
     "execution_count": 22,
     "metadata": {},
     "output_type": "execute_result"
    }
   ],
   "source": [
    "df_result = spark.sql(' SELECT ID_VIDEO, TOTAL_CARACTERE_VIDEO, TITULO_VIDEO,NM_CANAL, TOTAL_COMENTARIOS, TOTAL_LIKES , TOTAL_VISUALIZACOES '\n",
    "          ' FROM METRICAS_VIDEO '\n",
    "        #   ' WHERE data_extracao = \"2023-10-27\" ' \n",
    "          ' where ID_CANAL in (\"UCrOH1V-FyMunBIMrKL0y0xQ\") ').toPandas()\n",
    "fig = px.scatter(df_result, x='TOTAL_CARACTERE_VIDEO', y='TOTAL_VISUALIZACOES')\n",
    "df_result.sort_values(by='TOTAL_VISUALIZACOES', ascending=False).head()\n"
   ]
  },
  {
   "cell_type": "code",
   "execution_count": 23,
   "metadata": {},
   "outputs": [
    {
     "data": {
      "application/vnd.plotly.v1+json": {
       "config": {
        "plotlyServerURL": "https://plot.ly"
       },
       "data": [
        {
         "hovertemplate": "TOTAL_CARACTERE_VIDEO=%{x}<br>TOTAL_VISUALIZACOES=%{y}<extra></extra>",
         "legendgroup": "",
         "marker": {
          "color": "#636efa",
          "symbol": "circle"
         },
         "mode": "markers",
         "name": "",
         "orientation": "v",
         "showlegend": false,
         "type": "scatter",
         "x": [
          81,
          67,
          70,
          81,
          64,
          68,
          87,
          92,
          90,
          88,
          70,
          88,
          63,
          75,
          86,
          60,
          78,
          64,
          81,
          67,
          70,
          81,
          64,
          68,
          87,
          92,
          90,
          88,
          70,
          88,
          63,
          75,
          86,
          78,
          64,
          81,
          67,
          70,
          81,
          68,
          87,
          92,
          90,
          88,
          70,
          88,
          63,
          75,
          86,
          78,
          64,
          81,
          70,
          81,
          68,
          87,
          92,
          90,
          88,
          70,
          88,
          63,
          75,
          78,
          64,
          81,
          70,
          81,
          92,
          90,
          88,
          70,
          88,
          63,
          75,
          78,
          64,
          81,
          70,
          92,
          90,
          88,
          70,
          88,
          63,
          75,
          78,
          64,
          81,
          92,
          90,
          88,
          70,
          88,
          63,
          75,
          64,
          81,
          92,
          90,
          88,
          70,
          88,
          75,
          64,
          92,
          90,
          88,
          88,
          75,
          64,
          92,
          90,
          92
         ],
         "xaxis": "x",
         "y": [
          0,
          42650,
          54375,
          50789,
          39265,
          50480,
          0,
          9540,
          18599,
          0,
          71357,
          33628,
          60786,
          120812,
          18620,
          15805,
          19942,
          24021,
          0,
          39393,
          52814,
          48936,
          25546,
          48453,
          0,
          9521,
          18430,
          0,
          69468,
          32382,
          59218,
          117375,
          16232,
          19507,
          23697,
          0,
          24904,
          50535,
          46106,
          44415,
          0,
          9488,
          18197,
          0,
          66655,
          31140,
          57019,
          111842,
          4298,
          18699,
          23317,
          0,
          47320,
          41868,
          27606,
          0,
          9451,
          18004,
          0,
          63099,
          29858,
          54002,
          104409,
          17338,
          22921,
          0,
          42611,
          25707,
          9404,
          17777,
          0,
          59038,
          28387,
          50017,
          97039,
          14438,
          22431,
          0,
          25216,
          9351,
          17489,
          0,
          53307,
          26784,
          42500,
          88838,
          4266,
          21618,
          0,
          9263,
          17245,
          0,
          44930,
          24837,
          24631,
          76038,
          20827,
          0,
          9112,
          16805,
          0,
          12838,
          22599,
          52156,
          19597,
          8949,
          16452,
          0,
          20325,
          17961,
          18470,
          7399,
          7914,
          4562
         ],
         "yaxis": "y"
        }
       ],
       "layout": {
        "legend": {
         "tracegroupgap": 0
        },
        "margin": {
         "t": 60
        },
        "template": {
         "data": {
          "bar": [
           {
            "error_x": {
             "color": "#2a3f5f"
            },
            "error_y": {
             "color": "#2a3f5f"
            },
            "marker": {
             "line": {
              "color": "#E5ECF6",
              "width": 0.5
             },
             "pattern": {
              "fillmode": "overlay",
              "size": 10,
              "solidity": 0.2
             }
            },
            "type": "bar"
           }
          ],
          "barpolar": [
           {
            "marker": {
             "line": {
              "color": "#E5ECF6",
              "width": 0.5
             },
             "pattern": {
              "fillmode": "overlay",
              "size": 10,
              "solidity": 0.2
             }
            },
            "type": "barpolar"
           }
          ],
          "carpet": [
           {
            "aaxis": {
             "endlinecolor": "#2a3f5f",
             "gridcolor": "white",
             "linecolor": "white",
             "minorgridcolor": "white",
             "startlinecolor": "#2a3f5f"
            },
            "baxis": {
             "endlinecolor": "#2a3f5f",
             "gridcolor": "white",
             "linecolor": "white",
             "minorgridcolor": "white",
             "startlinecolor": "#2a3f5f"
            },
            "type": "carpet"
           }
          ],
          "choropleth": [
           {
            "colorbar": {
             "outlinewidth": 0,
             "ticks": ""
            },
            "type": "choropleth"
           }
          ],
          "contour": [
           {
            "colorbar": {
             "outlinewidth": 0,
             "ticks": ""
            },
            "colorscale": [
             [
              0,
              "#0d0887"
             ],
             [
              0.1111111111111111,
              "#46039f"
             ],
             [
              0.2222222222222222,
              "#7201a8"
             ],
             [
              0.3333333333333333,
              "#9c179e"
             ],
             [
              0.4444444444444444,
              "#bd3786"
             ],
             [
              0.5555555555555556,
              "#d8576b"
             ],
             [
              0.6666666666666666,
              "#ed7953"
             ],
             [
              0.7777777777777778,
              "#fb9f3a"
             ],
             [
              0.8888888888888888,
              "#fdca26"
             ],
             [
              1,
              "#f0f921"
             ]
            ],
            "type": "contour"
           }
          ],
          "contourcarpet": [
           {
            "colorbar": {
             "outlinewidth": 0,
             "ticks": ""
            },
            "type": "contourcarpet"
           }
          ],
          "heatmap": [
           {
            "colorbar": {
             "outlinewidth": 0,
             "ticks": ""
            },
            "colorscale": [
             [
              0,
              "#0d0887"
             ],
             [
              0.1111111111111111,
              "#46039f"
             ],
             [
              0.2222222222222222,
              "#7201a8"
             ],
             [
              0.3333333333333333,
              "#9c179e"
             ],
             [
              0.4444444444444444,
              "#bd3786"
             ],
             [
              0.5555555555555556,
              "#d8576b"
             ],
             [
              0.6666666666666666,
              "#ed7953"
             ],
             [
              0.7777777777777778,
              "#fb9f3a"
             ],
             [
              0.8888888888888888,
              "#fdca26"
             ],
             [
              1,
              "#f0f921"
             ]
            ],
            "type": "heatmap"
           }
          ],
          "heatmapgl": [
           {
            "colorbar": {
             "outlinewidth": 0,
             "ticks": ""
            },
            "colorscale": [
             [
              0,
              "#0d0887"
             ],
             [
              0.1111111111111111,
              "#46039f"
             ],
             [
              0.2222222222222222,
              "#7201a8"
             ],
             [
              0.3333333333333333,
              "#9c179e"
             ],
             [
              0.4444444444444444,
              "#bd3786"
             ],
             [
              0.5555555555555556,
              "#d8576b"
             ],
             [
              0.6666666666666666,
              "#ed7953"
             ],
             [
              0.7777777777777778,
              "#fb9f3a"
             ],
             [
              0.8888888888888888,
              "#fdca26"
             ],
             [
              1,
              "#f0f921"
             ]
            ],
            "type": "heatmapgl"
           }
          ],
          "histogram": [
           {
            "marker": {
             "pattern": {
              "fillmode": "overlay",
              "size": 10,
              "solidity": 0.2
             }
            },
            "type": "histogram"
           }
          ],
          "histogram2d": [
           {
            "colorbar": {
             "outlinewidth": 0,
             "ticks": ""
            },
            "colorscale": [
             [
              0,
              "#0d0887"
             ],
             [
              0.1111111111111111,
              "#46039f"
             ],
             [
              0.2222222222222222,
              "#7201a8"
             ],
             [
              0.3333333333333333,
              "#9c179e"
             ],
             [
              0.4444444444444444,
              "#bd3786"
             ],
             [
              0.5555555555555556,
              "#d8576b"
             ],
             [
              0.6666666666666666,
              "#ed7953"
             ],
             [
              0.7777777777777778,
              "#fb9f3a"
             ],
             [
              0.8888888888888888,
              "#fdca26"
             ],
             [
              1,
              "#f0f921"
             ]
            ],
            "type": "histogram2d"
           }
          ],
          "histogram2dcontour": [
           {
            "colorbar": {
             "outlinewidth": 0,
             "ticks": ""
            },
            "colorscale": [
             [
              0,
              "#0d0887"
             ],
             [
              0.1111111111111111,
              "#46039f"
             ],
             [
              0.2222222222222222,
              "#7201a8"
             ],
             [
              0.3333333333333333,
              "#9c179e"
             ],
             [
              0.4444444444444444,
              "#bd3786"
             ],
             [
              0.5555555555555556,
              "#d8576b"
             ],
             [
              0.6666666666666666,
              "#ed7953"
             ],
             [
              0.7777777777777778,
              "#fb9f3a"
             ],
             [
              0.8888888888888888,
              "#fdca26"
             ],
             [
              1,
              "#f0f921"
             ]
            ],
            "type": "histogram2dcontour"
           }
          ],
          "mesh3d": [
           {
            "colorbar": {
             "outlinewidth": 0,
             "ticks": ""
            },
            "type": "mesh3d"
           }
          ],
          "parcoords": [
           {
            "line": {
             "colorbar": {
              "outlinewidth": 0,
              "ticks": ""
             }
            },
            "type": "parcoords"
           }
          ],
          "pie": [
           {
            "automargin": true,
            "type": "pie"
           }
          ],
          "scatter": [
           {
            "fillpattern": {
             "fillmode": "overlay",
             "size": 10,
             "solidity": 0.2
            },
            "type": "scatter"
           }
          ],
          "scatter3d": [
           {
            "line": {
             "colorbar": {
              "outlinewidth": 0,
              "ticks": ""
             }
            },
            "marker": {
             "colorbar": {
              "outlinewidth": 0,
              "ticks": ""
             }
            },
            "type": "scatter3d"
           }
          ],
          "scattercarpet": [
           {
            "marker": {
             "colorbar": {
              "outlinewidth": 0,
              "ticks": ""
             }
            },
            "type": "scattercarpet"
           }
          ],
          "scattergeo": [
           {
            "marker": {
             "colorbar": {
              "outlinewidth": 0,
              "ticks": ""
             }
            },
            "type": "scattergeo"
           }
          ],
          "scattergl": [
           {
            "marker": {
             "colorbar": {
              "outlinewidth": 0,
              "ticks": ""
             }
            },
            "type": "scattergl"
           }
          ],
          "scattermapbox": [
           {
            "marker": {
             "colorbar": {
              "outlinewidth": 0,
              "ticks": ""
             }
            },
            "type": "scattermapbox"
           }
          ],
          "scatterpolar": [
           {
            "marker": {
             "colorbar": {
              "outlinewidth": 0,
              "ticks": ""
             }
            },
            "type": "scatterpolar"
           }
          ],
          "scatterpolargl": [
           {
            "marker": {
             "colorbar": {
              "outlinewidth": 0,
              "ticks": ""
             }
            },
            "type": "scatterpolargl"
           }
          ],
          "scatterternary": [
           {
            "marker": {
             "colorbar": {
              "outlinewidth": 0,
              "ticks": ""
             }
            },
            "type": "scatterternary"
           }
          ],
          "surface": [
           {
            "colorbar": {
             "outlinewidth": 0,
             "ticks": ""
            },
            "colorscale": [
             [
              0,
              "#0d0887"
             ],
             [
              0.1111111111111111,
              "#46039f"
             ],
             [
              0.2222222222222222,
              "#7201a8"
             ],
             [
              0.3333333333333333,
              "#9c179e"
             ],
             [
              0.4444444444444444,
              "#bd3786"
             ],
             [
              0.5555555555555556,
              "#d8576b"
             ],
             [
              0.6666666666666666,
              "#ed7953"
             ],
             [
              0.7777777777777778,
              "#fb9f3a"
             ],
             [
              0.8888888888888888,
              "#fdca26"
             ],
             [
              1,
              "#f0f921"
             ]
            ],
            "type": "surface"
           }
          ],
          "table": [
           {
            "cells": {
             "fill": {
              "color": "#EBF0F8"
             },
             "line": {
              "color": "white"
             }
            },
            "header": {
             "fill": {
              "color": "#C8D4E3"
             },
             "line": {
              "color": "white"
             }
            },
            "type": "table"
           }
          ]
         },
         "layout": {
          "annotationdefaults": {
           "arrowcolor": "#2a3f5f",
           "arrowhead": 0,
           "arrowwidth": 1
          },
          "autotypenumbers": "strict",
          "coloraxis": {
           "colorbar": {
            "outlinewidth": 0,
            "ticks": ""
           }
          },
          "colorscale": {
           "diverging": [
            [
             0,
             "#8e0152"
            ],
            [
             0.1,
             "#c51b7d"
            ],
            [
             0.2,
             "#de77ae"
            ],
            [
             0.3,
             "#f1b6da"
            ],
            [
             0.4,
             "#fde0ef"
            ],
            [
             0.5,
             "#f7f7f7"
            ],
            [
             0.6,
             "#e6f5d0"
            ],
            [
             0.7,
             "#b8e186"
            ],
            [
             0.8,
             "#7fbc41"
            ],
            [
             0.9,
             "#4d9221"
            ],
            [
             1,
             "#276419"
            ]
           ],
           "sequential": [
            [
             0,
             "#0d0887"
            ],
            [
             0.1111111111111111,
             "#46039f"
            ],
            [
             0.2222222222222222,
             "#7201a8"
            ],
            [
             0.3333333333333333,
             "#9c179e"
            ],
            [
             0.4444444444444444,
             "#bd3786"
            ],
            [
             0.5555555555555556,
             "#d8576b"
            ],
            [
             0.6666666666666666,
             "#ed7953"
            ],
            [
             0.7777777777777778,
             "#fb9f3a"
            ],
            [
             0.8888888888888888,
             "#fdca26"
            ],
            [
             1,
             "#f0f921"
            ]
           ],
           "sequentialminus": [
            [
             0,
             "#0d0887"
            ],
            [
             0.1111111111111111,
             "#46039f"
            ],
            [
             0.2222222222222222,
             "#7201a8"
            ],
            [
             0.3333333333333333,
             "#9c179e"
            ],
            [
             0.4444444444444444,
             "#bd3786"
            ],
            [
             0.5555555555555556,
             "#d8576b"
            ],
            [
             0.6666666666666666,
             "#ed7953"
            ],
            [
             0.7777777777777778,
             "#fb9f3a"
            ],
            [
             0.8888888888888888,
             "#fdca26"
            ],
            [
             1,
             "#f0f921"
            ]
           ]
          },
          "colorway": [
           "#636efa",
           "#EF553B",
           "#00cc96",
           "#ab63fa",
           "#FFA15A",
           "#19d3f3",
           "#FF6692",
           "#B6E880",
           "#FF97FF",
           "#FECB52"
          ],
          "font": {
           "color": "#2a3f5f"
          },
          "geo": {
           "bgcolor": "white",
           "lakecolor": "white",
           "landcolor": "#E5ECF6",
           "showlakes": true,
           "showland": true,
           "subunitcolor": "white"
          },
          "hoverlabel": {
           "align": "left"
          },
          "hovermode": "closest",
          "mapbox": {
           "style": "light"
          },
          "paper_bgcolor": "white",
          "plot_bgcolor": "#E5ECF6",
          "polar": {
           "angularaxis": {
            "gridcolor": "white",
            "linecolor": "white",
            "ticks": ""
           },
           "bgcolor": "#E5ECF6",
           "radialaxis": {
            "gridcolor": "white",
            "linecolor": "white",
            "ticks": ""
           }
          },
          "scene": {
           "xaxis": {
            "backgroundcolor": "#E5ECF6",
            "gridcolor": "white",
            "gridwidth": 2,
            "linecolor": "white",
            "showbackground": true,
            "ticks": "",
            "zerolinecolor": "white"
           },
           "yaxis": {
            "backgroundcolor": "#E5ECF6",
            "gridcolor": "white",
            "gridwidth": 2,
            "linecolor": "white",
            "showbackground": true,
            "ticks": "",
            "zerolinecolor": "white"
           },
           "zaxis": {
            "backgroundcolor": "#E5ECF6",
            "gridcolor": "white",
            "gridwidth": 2,
            "linecolor": "white",
            "showbackground": true,
            "ticks": "",
            "zerolinecolor": "white"
           }
          },
          "shapedefaults": {
           "line": {
            "color": "#2a3f5f"
           }
          },
          "ternary": {
           "aaxis": {
            "gridcolor": "white",
            "linecolor": "white",
            "ticks": ""
           },
           "baxis": {
            "gridcolor": "white",
            "linecolor": "white",
            "ticks": ""
           },
           "bgcolor": "#E5ECF6",
           "caxis": {
            "gridcolor": "white",
            "linecolor": "white",
            "ticks": ""
           }
          },
          "title": {
           "x": 0.05
          },
          "xaxis": {
           "automargin": true,
           "gridcolor": "white",
           "linecolor": "white",
           "ticks": "",
           "title": {
            "standoff": 15
           },
           "zerolinecolor": "white",
           "zerolinewidth": 2
          },
          "yaxis": {
           "automargin": true,
           "gridcolor": "white",
           "linecolor": "white",
           "ticks": "",
           "title": {
            "standoff": 15
           },
           "zerolinecolor": "white",
           "zerolinewidth": 2
          }
         }
        },
        "xaxis": {
         "anchor": "y",
         "domain": [
          0,
          1
         ],
         "title": {
          "text": "TOTAL_CARACTERE_VIDEO"
         }
        },
        "yaxis": {
         "anchor": "x",
         "domain": [
          0,
          1
         ],
         "title": {
          "text": "TOTAL_VISUALIZACOES"
         }
        }
       }
      }
     },
     "metadata": {},
     "output_type": "display_data"
    }
   ],
   "source": [
    "fig.show()"
   ]
  },
  {
   "cell_type": "markdown",
   "metadata": {},
   "source": [
    "- Comparação Likes X Visualizações e Cometários X Visualizações"
   ]
  },
  {
   "cell_type": "code",
   "execution_count": 24,
   "metadata": {},
   "outputs": [
    {
     "data": {
      "application/vnd.plotly.v1+json": {
       "config": {
        "plotlyServerURL": "https://plot.ly"
       },
       "data": [
        {
         "hovertemplate": "TOTAL_LIKES=%{x}<br>TOTAL_VISUALIZACOES=%{y}<extra></extra>",
         "legendgroup": "",
         "marker": {
          "color": "#636efa",
          "symbol": "circle"
         },
         "mode": "markers",
         "name": "",
         "orientation": "v",
         "showlegend": false,
         "type": "scatter",
         "x": [
          50,
          5600,
          6855,
          6448,
          5046,
          6330,
          51,
          1078,
          2418,
          149,
          8978,
          3382,
          7321,
          13988,
          1368,
          2753,
          1950,
          2441,
          50,
          5317,
          6707,
          6283,
          4043,
          6159,
          51,
          1076,
          2404,
          149,
          8839,
          3321,
          7165,
          13784,
          1268,
          1918,
          2433,
          50,
          4102,
          6510,
          6023,
          5771,
          52,
          1076,
          2400,
          149,
          8625,
          3261,
          6985,
          13460,
          633,
          1856,
          2403,
          50,
          6192,
          5606,
          4416,
          49,
          1072,
          2392,
          149,
          8346,
          3202,
          6725,
          13033,
          1756,
          2383,
          50,
          5726,
          4282,
          1070,
          2376,
          149,
          7997,
          3130,
          6364,
          12605,
          1601,
          2356,
          50,
          4137,
          1063,
          2351,
          149,
          7460,
          3040,
          5652,
          12013,
          739,
          2316,
          49,
          1060,
          2344,
          149,
          6610,
          2930,
          3992,
          10993,
          2271,
          8,
          1049,
          2316,
          146,
          3306,
          2770,
          8899,
          2206,
          1036,
          2293,
          86,
          2604,
          4955,
          2141,
          923,
          1517,
          687
         ],
         "xaxis": "x",
         "y": [
          0,
          42650,
          54375,
          50789,
          39265,
          50480,
          0,
          9540,
          18599,
          0,
          71357,
          33628,
          60786,
          120812,
          18620,
          15805,
          19942,
          24021,
          0,
          39393,
          52814,
          48936,
          25546,
          48453,
          0,
          9521,
          18430,
          0,
          69468,
          32382,
          59218,
          117375,
          16232,
          19507,
          23697,
          0,
          24904,
          50535,
          46106,
          44415,
          0,
          9488,
          18197,
          0,
          66655,
          31140,
          57019,
          111842,
          4298,
          18699,
          23317,
          0,
          47320,
          41868,
          27606,
          0,
          9451,
          18004,
          0,
          63099,
          29858,
          54002,
          104409,
          17338,
          22921,
          0,
          42611,
          25707,
          9404,
          17777,
          0,
          59038,
          28387,
          50017,
          97039,
          14438,
          22431,
          0,
          25216,
          9351,
          17489,
          0,
          53307,
          26784,
          42500,
          88838,
          4266,
          21618,
          0,
          9263,
          17245,
          0,
          44930,
          24837,
          24631,
          76038,
          20827,
          0,
          9112,
          16805,
          0,
          12838,
          22599,
          52156,
          19597,
          8949,
          16452,
          0,
          20325,
          17961,
          18470,
          7399,
          7914,
          4562
         ],
         "yaxis": "y"
        },
        {
         "hovertemplate": "TOTAL_COMENTARIOS=%{x}<br>TOTAL_VISUALIZACOES=%{y}<extra></extra>",
         "legendgroup": "",
         "marker": {
          "color": "#636efa",
          "symbol": "circle"
         },
         "mode": "markers",
         "name": "",
         "orientation": "v",
         "showlegend": false,
         "type": "scatter",
         "x": [
          0,
          220,
          213,
          124,
          180,
          157,
          0,
          33,
          79,
          0,
          188,
          111,
          201,
          418,
          54,
          139,
          63,
          40,
          0,
          215,
          213,
          124,
          143,
          155,
          0,
          33,
          79,
          0,
          186,
          110,
          200,
          416,
          51,
          62,
          40,
          0,
          179,
          212,
          124,
          155,
          0,
          33,
          79,
          0,
          186,
          107,
          199,
          414,
          30,
          60,
          40,
          0,
          210,
          119,
          126,
          0,
          33,
          79,
          0,
          185,
          105,
          195,
          408,
          54,
          41,
          0,
          201,
          106,
          33,
          79,
          0,
          181,
          105,
          193,
          403,
          51,
          41,
          0,
          156,
          33,
          79,
          0,
          180,
          105,
          178,
          401,
          27,
          41,
          0,
          33,
          78,
          0,
          176,
          104,
          127,
          396,
          41,
          0,
          33,
          77,
          0,
          112,
          99,
          369,
          40,
          32,
          78,
          0,
          94,
          183,
          40,
          29,
          55,
          23
         ],
         "xaxis": "x2",
         "y": [
          0,
          42650,
          54375,
          50789,
          39265,
          50480,
          0,
          9540,
          18599,
          0,
          71357,
          33628,
          60786,
          120812,
          18620,
          15805,
          19942,
          24021,
          0,
          39393,
          52814,
          48936,
          25546,
          48453,
          0,
          9521,
          18430,
          0,
          69468,
          32382,
          59218,
          117375,
          16232,
          19507,
          23697,
          0,
          24904,
          50535,
          46106,
          44415,
          0,
          9488,
          18197,
          0,
          66655,
          31140,
          57019,
          111842,
          4298,
          18699,
          23317,
          0,
          47320,
          41868,
          27606,
          0,
          9451,
          18004,
          0,
          63099,
          29858,
          54002,
          104409,
          17338,
          22921,
          0,
          42611,
          25707,
          9404,
          17777,
          0,
          59038,
          28387,
          50017,
          97039,
          14438,
          22431,
          0,
          25216,
          9351,
          17489,
          0,
          53307,
          26784,
          42500,
          88838,
          4266,
          21618,
          0,
          9263,
          17245,
          0,
          44930,
          24837,
          24631,
          76038,
          20827,
          0,
          9112,
          16805,
          0,
          12838,
          22599,
          52156,
          19597,
          8949,
          16452,
          0,
          20325,
          17961,
          18470,
          7399,
          7914,
          4562
         ],
         "yaxis": "y2"
        },
        {
         "hovertemplate": "TOTAL_CARACTERE_VIDEO=%{x}<br>TOTAL_VISUALIZACOES=%{y}<extra></extra>",
         "legendgroup": "",
         "marker": {
          "color": "#636efa",
          "symbol": "circle"
         },
         "mode": "markers",
         "name": "",
         "orientation": "v",
         "showlegend": false,
         "type": "scatter",
         "x": [
          81,
          67,
          70,
          81,
          64,
          68,
          87,
          92,
          90,
          88,
          70,
          88,
          63,
          75,
          86,
          60,
          78,
          64,
          81,
          67,
          70,
          81,
          64,
          68,
          87,
          92,
          90,
          88,
          70,
          88,
          63,
          75,
          86,
          78,
          64,
          81,
          67,
          70,
          81,
          68,
          87,
          92,
          90,
          88,
          70,
          88,
          63,
          75,
          86,
          78,
          64,
          81,
          70,
          81,
          68,
          87,
          92,
          90,
          88,
          70,
          88,
          63,
          75,
          78,
          64,
          81,
          70,
          81,
          92,
          90,
          88,
          70,
          88,
          63,
          75,
          78,
          64,
          81,
          70,
          92,
          90,
          88,
          70,
          88,
          63,
          75,
          78,
          64,
          81,
          92,
          90,
          88,
          70,
          88,
          63,
          75,
          64,
          81,
          92,
          90,
          88,
          70,
          88,
          75,
          64,
          92,
          90,
          88,
          88,
          75,
          64,
          92,
          90,
          92
         ],
         "xaxis": "x3",
         "y": [
          0,
          42650,
          54375,
          50789,
          39265,
          50480,
          0,
          9540,
          18599,
          0,
          71357,
          33628,
          60786,
          120812,
          18620,
          15805,
          19942,
          24021,
          0,
          39393,
          52814,
          48936,
          25546,
          48453,
          0,
          9521,
          18430,
          0,
          69468,
          32382,
          59218,
          117375,
          16232,
          19507,
          23697,
          0,
          24904,
          50535,
          46106,
          44415,
          0,
          9488,
          18197,
          0,
          66655,
          31140,
          57019,
          111842,
          4298,
          18699,
          23317,
          0,
          47320,
          41868,
          27606,
          0,
          9451,
          18004,
          0,
          63099,
          29858,
          54002,
          104409,
          17338,
          22921,
          0,
          42611,
          25707,
          9404,
          17777,
          0,
          59038,
          28387,
          50017,
          97039,
          14438,
          22431,
          0,
          25216,
          9351,
          17489,
          0,
          53307,
          26784,
          42500,
          88838,
          4266,
          21618,
          0,
          9263,
          17245,
          0,
          44930,
          24837,
          24631,
          76038,
          20827,
          0,
          9112,
          16805,
          0,
          12838,
          22599,
          52156,
          19597,
          8949,
          16452,
          0,
          20325,
          17961,
          18470,
          7399,
          7914,
          4562
         ],
         "yaxis": "y3"
        }
       ],
       "layout": {
        "annotations": [
         {
          "font": {
           "size": 16
          },
          "showarrow": false,
          "text": "Likes X Visualizações",
          "x": 0.14444444444444446,
          "xanchor": "center",
          "xref": "paper",
          "y": 1,
          "yanchor": "bottom",
          "yref": "paper"
         },
         {
          "font": {
           "size": 16
          },
          "showarrow": false,
          "text": "Cometários X Visualizações",
          "x": 0.5,
          "xanchor": "center",
          "xref": "paper",
          "y": 1,
          "yanchor": "bottom",
          "yref": "paper"
         },
         {
          "font": {
           "size": 16
          },
          "showarrow": false,
          "text": "TOTAL_CARACTERE_VIDEO X VISUALIZAÇÔES",
          "x": 0.8555555555555556,
          "xanchor": "center",
          "xref": "paper",
          "y": 1,
          "yanchor": "bottom",
          "yref": "paper"
         }
        ],
        "showlegend": true,
        "template": {
         "data": {
          "bar": [
           {
            "error_x": {
             "color": "#2a3f5f"
            },
            "error_y": {
             "color": "#2a3f5f"
            },
            "marker": {
             "line": {
              "color": "#E5ECF6",
              "width": 0.5
             },
             "pattern": {
              "fillmode": "overlay",
              "size": 10,
              "solidity": 0.2
             }
            },
            "type": "bar"
           }
          ],
          "barpolar": [
           {
            "marker": {
             "line": {
              "color": "#E5ECF6",
              "width": 0.5
             },
             "pattern": {
              "fillmode": "overlay",
              "size": 10,
              "solidity": 0.2
             }
            },
            "type": "barpolar"
           }
          ],
          "carpet": [
           {
            "aaxis": {
             "endlinecolor": "#2a3f5f",
             "gridcolor": "white",
             "linecolor": "white",
             "minorgridcolor": "white",
             "startlinecolor": "#2a3f5f"
            },
            "baxis": {
             "endlinecolor": "#2a3f5f",
             "gridcolor": "white",
             "linecolor": "white",
             "minorgridcolor": "white",
             "startlinecolor": "#2a3f5f"
            },
            "type": "carpet"
           }
          ],
          "choropleth": [
           {
            "colorbar": {
             "outlinewidth": 0,
             "ticks": ""
            },
            "type": "choropleth"
           }
          ],
          "contour": [
           {
            "colorbar": {
             "outlinewidth": 0,
             "ticks": ""
            },
            "colorscale": [
             [
              0,
              "#0d0887"
             ],
             [
              0.1111111111111111,
              "#46039f"
             ],
             [
              0.2222222222222222,
              "#7201a8"
             ],
             [
              0.3333333333333333,
              "#9c179e"
             ],
             [
              0.4444444444444444,
              "#bd3786"
             ],
             [
              0.5555555555555556,
              "#d8576b"
             ],
             [
              0.6666666666666666,
              "#ed7953"
             ],
             [
              0.7777777777777778,
              "#fb9f3a"
             ],
             [
              0.8888888888888888,
              "#fdca26"
             ],
             [
              1,
              "#f0f921"
             ]
            ],
            "type": "contour"
           }
          ],
          "contourcarpet": [
           {
            "colorbar": {
             "outlinewidth": 0,
             "ticks": ""
            },
            "type": "contourcarpet"
           }
          ],
          "heatmap": [
           {
            "colorbar": {
             "outlinewidth": 0,
             "ticks": ""
            },
            "colorscale": [
             [
              0,
              "#0d0887"
             ],
             [
              0.1111111111111111,
              "#46039f"
             ],
             [
              0.2222222222222222,
              "#7201a8"
             ],
             [
              0.3333333333333333,
              "#9c179e"
             ],
             [
              0.4444444444444444,
              "#bd3786"
             ],
             [
              0.5555555555555556,
              "#d8576b"
             ],
             [
              0.6666666666666666,
              "#ed7953"
             ],
             [
              0.7777777777777778,
              "#fb9f3a"
             ],
             [
              0.8888888888888888,
              "#fdca26"
             ],
             [
              1,
              "#f0f921"
             ]
            ],
            "type": "heatmap"
           }
          ],
          "heatmapgl": [
           {
            "colorbar": {
             "outlinewidth": 0,
             "ticks": ""
            },
            "colorscale": [
             [
              0,
              "#0d0887"
             ],
             [
              0.1111111111111111,
              "#46039f"
             ],
             [
              0.2222222222222222,
              "#7201a8"
             ],
             [
              0.3333333333333333,
              "#9c179e"
             ],
             [
              0.4444444444444444,
              "#bd3786"
             ],
             [
              0.5555555555555556,
              "#d8576b"
             ],
             [
              0.6666666666666666,
              "#ed7953"
             ],
             [
              0.7777777777777778,
              "#fb9f3a"
             ],
             [
              0.8888888888888888,
              "#fdca26"
             ],
             [
              1,
              "#f0f921"
             ]
            ],
            "type": "heatmapgl"
           }
          ],
          "histogram": [
           {
            "marker": {
             "pattern": {
              "fillmode": "overlay",
              "size": 10,
              "solidity": 0.2
             }
            },
            "type": "histogram"
           }
          ],
          "histogram2d": [
           {
            "colorbar": {
             "outlinewidth": 0,
             "ticks": ""
            },
            "colorscale": [
             [
              0,
              "#0d0887"
             ],
             [
              0.1111111111111111,
              "#46039f"
             ],
             [
              0.2222222222222222,
              "#7201a8"
             ],
             [
              0.3333333333333333,
              "#9c179e"
             ],
             [
              0.4444444444444444,
              "#bd3786"
             ],
             [
              0.5555555555555556,
              "#d8576b"
             ],
             [
              0.6666666666666666,
              "#ed7953"
             ],
             [
              0.7777777777777778,
              "#fb9f3a"
             ],
             [
              0.8888888888888888,
              "#fdca26"
             ],
             [
              1,
              "#f0f921"
             ]
            ],
            "type": "histogram2d"
           }
          ],
          "histogram2dcontour": [
           {
            "colorbar": {
             "outlinewidth": 0,
             "ticks": ""
            },
            "colorscale": [
             [
              0,
              "#0d0887"
             ],
             [
              0.1111111111111111,
              "#46039f"
             ],
             [
              0.2222222222222222,
              "#7201a8"
             ],
             [
              0.3333333333333333,
              "#9c179e"
             ],
             [
              0.4444444444444444,
              "#bd3786"
             ],
             [
              0.5555555555555556,
              "#d8576b"
             ],
             [
              0.6666666666666666,
              "#ed7953"
             ],
             [
              0.7777777777777778,
              "#fb9f3a"
             ],
             [
              0.8888888888888888,
              "#fdca26"
             ],
             [
              1,
              "#f0f921"
             ]
            ],
            "type": "histogram2dcontour"
           }
          ],
          "mesh3d": [
           {
            "colorbar": {
             "outlinewidth": 0,
             "ticks": ""
            },
            "type": "mesh3d"
           }
          ],
          "parcoords": [
           {
            "line": {
             "colorbar": {
              "outlinewidth": 0,
              "ticks": ""
             }
            },
            "type": "parcoords"
           }
          ],
          "pie": [
           {
            "automargin": true,
            "type": "pie"
           }
          ],
          "scatter": [
           {
            "fillpattern": {
             "fillmode": "overlay",
             "size": 10,
             "solidity": 0.2
            },
            "type": "scatter"
           }
          ],
          "scatter3d": [
           {
            "line": {
             "colorbar": {
              "outlinewidth": 0,
              "ticks": ""
             }
            },
            "marker": {
             "colorbar": {
              "outlinewidth": 0,
              "ticks": ""
             }
            },
            "type": "scatter3d"
           }
          ],
          "scattercarpet": [
           {
            "marker": {
             "colorbar": {
              "outlinewidth": 0,
              "ticks": ""
             }
            },
            "type": "scattercarpet"
           }
          ],
          "scattergeo": [
           {
            "marker": {
             "colorbar": {
              "outlinewidth": 0,
              "ticks": ""
             }
            },
            "type": "scattergeo"
           }
          ],
          "scattergl": [
           {
            "marker": {
             "colorbar": {
              "outlinewidth": 0,
              "ticks": ""
             }
            },
            "type": "scattergl"
           }
          ],
          "scattermapbox": [
           {
            "marker": {
             "colorbar": {
              "outlinewidth": 0,
              "ticks": ""
             }
            },
            "type": "scattermapbox"
           }
          ],
          "scatterpolar": [
           {
            "marker": {
             "colorbar": {
              "outlinewidth": 0,
              "ticks": ""
             }
            },
            "type": "scatterpolar"
           }
          ],
          "scatterpolargl": [
           {
            "marker": {
             "colorbar": {
              "outlinewidth": 0,
              "ticks": ""
             }
            },
            "type": "scatterpolargl"
           }
          ],
          "scatterternary": [
           {
            "marker": {
             "colorbar": {
              "outlinewidth": 0,
              "ticks": ""
             }
            },
            "type": "scatterternary"
           }
          ],
          "surface": [
           {
            "colorbar": {
             "outlinewidth": 0,
             "ticks": ""
            },
            "colorscale": [
             [
              0,
              "#0d0887"
             ],
             [
              0.1111111111111111,
              "#46039f"
             ],
             [
              0.2222222222222222,
              "#7201a8"
             ],
             [
              0.3333333333333333,
              "#9c179e"
             ],
             [
              0.4444444444444444,
              "#bd3786"
             ],
             [
              0.5555555555555556,
              "#d8576b"
             ],
             [
              0.6666666666666666,
              "#ed7953"
             ],
             [
              0.7777777777777778,
              "#fb9f3a"
             ],
             [
              0.8888888888888888,
              "#fdca26"
             ],
             [
              1,
              "#f0f921"
             ]
            ],
            "type": "surface"
           }
          ],
          "table": [
           {
            "cells": {
             "fill": {
              "color": "#EBF0F8"
             },
             "line": {
              "color": "white"
             }
            },
            "header": {
             "fill": {
              "color": "#C8D4E3"
             },
             "line": {
              "color": "white"
             }
            },
            "type": "table"
           }
          ]
         },
         "layout": {
          "annotationdefaults": {
           "arrowcolor": "#2a3f5f",
           "arrowhead": 0,
           "arrowwidth": 1
          },
          "autotypenumbers": "strict",
          "coloraxis": {
           "colorbar": {
            "outlinewidth": 0,
            "ticks": ""
           }
          },
          "colorscale": {
           "diverging": [
            [
             0,
             "#8e0152"
            ],
            [
             0.1,
             "#c51b7d"
            ],
            [
             0.2,
             "#de77ae"
            ],
            [
             0.3,
             "#f1b6da"
            ],
            [
             0.4,
             "#fde0ef"
            ],
            [
             0.5,
             "#f7f7f7"
            ],
            [
             0.6,
             "#e6f5d0"
            ],
            [
             0.7,
             "#b8e186"
            ],
            [
             0.8,
             "#7fbc41"
            ],
            [
             0.9,
             "#4d9221"
            ],
            [
             1,
             "#276419"
            ]
           ],
           "sequential": [
            [
             0,
             "#0d0887"
            ],
            [
             0.1111111111111111,
             "#46039f"
            ],
            [
             0.2222222222222222,
             "#7201a8"
            ],
            [
             0.3333333333333333,
             "#9c179e"
            ],
            [
             0.4444444444444444,
             "#bd3786"
            ],
            [
             0.5555555555555556,
             "#d8576b"
            ],
            [
             0.6666666666666666,
             "#ed7953"
            ],
            [
             0.7777777777777778,
             "#fb9f3a"
            ],
            [
             0.8888888888888888,
             "#fdca26"
            ],
            [
             1,
             "#f0f921"
            ]
           ],
           "sequentialminus": [
            [
             0,
             "#0d0887"
            ],
            [
             0.1111111111111111,
             "#46039f"
            ],
            [
             0.2222222222222222,
             "#7201a8"
            ],
            [
             0.3333333333333333,
             "#9c179e"
            ],
            [
             0.4444444444444444,
             "#bd3786"
            ],
            [
             0.5555555555555556,
             "#d8576b"
            ],
            [
             0.6666666666666666,
             "#ed7953"
            ],
            [
             0.7777777777777778,
             "#fb9f3a"
            ],
            [
             0.8888888888888888,
             "#fdca26"
            ],
            [
             1,
             "#f0f921"
            ]
           ]
          },
          "colorway": [
           "#636efa",
           "#EF553B",
           "#00cc96",
           "#ab63fa",
           "#FFA15A",
           "#19d3f3",
           "#FF6692",
           "#B6E880",
           "#FF97FF",
           "#FECB52"
          ],
          "font": {
           "color": "#2a3f5f"
          },
          "geo": {
           "bgcolor": "white",
           "lakecolor": "white",
           "landcolor": "#E5ECF6",
           "showlakes": true,
           "showland": true,
           "subunitcolor": "white"
          },
          "hoverlabel": {
           "align": "left"
          },
          "hovermode": "closest",
          "mapbox": {
           "style": "light"
          },
          "paper_bgcolor": "white",
          "plot_bgcolor": "#E5ECF6",
          "polar": {
           "angularaxis": {
            "gridcolor": "white",
            "linecolor": "white",
            "ticks": ""
           },
           "bgcolor": "#E5ECF6",
           "radialaxis": {
            "gridcolor": "white",
            "linecolor": "white",
            "ticks": ""
           }
          },
          "scene": {
           "xaxis": {
            "backgroundcolor": "#E5ECF6",
            "gridcolor": "white",
            "gridwidth": 2,
            "linecolor": "white",
            "showbackground": true,
            "ticks": "",
            "zerolinecolor": "white"
           },
           "yaxis": {
            "backgroundcolor": "#E5ECF6",
            "gridcolor": "white",
            "gridwidth": 2,
            "linecolor": "white",
            "showbackground": true,
            "ticks": "",
            "zerolinecolor": "white"
           },
           "zaxis": {
            "backgroundcolor": "#E5ECF6",
            "gridcolor": "white",
            "gridwidth": 2,
            "linecolor": "white",
            "showbackground": true,
            "ticks": "",
            "zerolinecolor": "white"
           }
          },
          "shapedefaults": {
           "line": {
            "color": "#2a3f5f"
           }
          },
          "ternary": {
           "aaxis": {
            "gridcolor": "white",
            "linecolor": "white",
            "ticks": ""
           },
           "baxis": {
            "gridcolor": "white",
            "linecolor": "white",
            "ticks": ""
           },
           "bgcolor": "#E5ECF6",
           "caxis": {
            "gridcolor": "white",
            "linecolor": "white",
            "ticks": ""
           }
          },
          "title": {
           "x": 0.05
          },
          "xaxis": {
           "automargin": true,
           "gridcolor": "white",
           "linecolor": "white",
           "ticks": "",
           "title": {
            "standoff": 15
           },
           "zerolinecolor": "white",
           "zerolinewidth": 2
          },
          "yaxis": {
           "automargin": true,
           "gridcolor": "white",
           "linecolor": "white",
           "ticks": "",
           "title": {
            "standoff": 15
           },
           "zerolinecolor": "white",
           "zerolinewidth": 2
          }
         }
        },
        "title": {
         "text": "Desenpenho Canal"
        },
        "xaxis": {
         "anchor": "y",
         "domain": [
          0,
          0.2888888888888889
         ],
         "title": {
          "text": "Likes"
         }
        },
        "xaxis2": {
         "anchor": "y2",
         "domain": [
          0.35555555555555557,
          0.6444444444444445
         ],
         "title": {
          "text": "Comentários"
         }
        },
        "xaxis3": {
         "anchor": "y3",
         "domain": [
          0.7111111111111111,
          1
         ],
         "title": {
          "text": "TOTAL_CARACTERE_VIDEO"
         }
        },
        "yaxis": {
         "anchor": "x",
         "domain": [
          0,
          1
         ],
         "title": {
          "text": "Visualizações"
         }
        },
        "yaxis2": {
         "anchor": "x2",
         "domain": [
          0,
          1
         ],
         "title": {
          "text": "Visualizações"
         }
        },
        "yaxis3": {
         "anchor": "x3",
         "domain": [
          0,
          1
         ],
         "title": {
          "text": "Visualizações"
         }
        }
       }
      }
     },
     "metadata": {},
     "output_type": "display_data"
    }
   ],
   "source": [
    "fig = make_subplots(rows=1, cols=3, subplot_titles=['Likes X Visualizações', 'Cometários X Visualizações', 'TOTAL_CARACTERE_VIDEO X VISUALIZAÇÔES'])\n",
    "sc1 = px.scatter(df_result, x='TOTAL_LIKES', y='TOTAL_VISUALIZACOES',)\n",
    "fig.add_trace(sc1['data'][0], row=1, col=1)\n",
    "fig.update_xaxes(title_text='Likes', row=1, col=1)\n",
    "fig.update_yaxes(title_text='Visualizações', row=1, col=1)\n",
    "\n",
    "sc2 = px.scatter(df_result, x='TOTAL_COMENTARIOS', y='TOTAL_VISUALIZACOES')\n",
    "fig.add_trace(sc2['data'][0], row=1, col=2)\n",
    "fig.update_xaxes(title_text='Comentários', row=1, col=2)\n",
    "fig.update_yaxes(title_text='Visualizações', row=1, col=2)\n",
    "fig.update_layout(title_text='Desenpenho Canal', showlegend=True)\n",
    "\n",
    "sc3 = px.scatter(df_result, x='TOTAL_CARACTERE_VIDEO', y='TOTAL_VISUALIZACOES')\n",
    "fig.add_trace(sc3['data'][0], row=1, col=3)\n",
    "fig.update_xaxes(title_text='TOTAL_CARACTERE_VIDEO', row=1, col=3)\n",
    "fig.update_yaxes(title_text='Visualizações', row=1, col=3)\n",
    "fig.update_layout(title_text='Desenpenho Canal', showlegend=True)\n",
    "\n",
    "\n",
    "\n",
    "fig.show()"
   ]
  },
  {
   "cell_type": "markdown",
   "metadata": {},
   "source": [
    "# Dia em que os vídeos são Públicados com alta frequência"
   ]
  },
  {
   "cell_type": "code",
   "execution_count": 25,
   "metadata": {},
   "outputs": [],
   "source": [
    "df_dias_publicado = spark.read.parquet(f'/home/rodrigo/Documentos/projetos/open_weather_api_apache/analise_dados_youtube/data/projetos_youtube_v2/ouro/{assunto}/total_video_publicado_semana')\n",
    "df_dias_publicado.createOrReplaceTempView('PUBLICACAO_VIDEO')"
   ]
  },
  {
   "cell_type": "code",
   "execution_count": 26,
   "metadata": {},
   "outputs": [
    {
     "name": "stdout",
     "output_type": "stream",
     "text": [
      "+----------------+---------------+------------+---------------+--------------------+\n",
      "|SEMANA_TRADUZIDA|       NM_CANAL|TOTAL_VIDEOS|DATA_PUBLICACAO|            ID_CANAL|\n",
      "+----------------+---------------+------------+---------------+--------------------+\n",
      "|   Segunda-feira|ChratosGameplay|           1|     2023-10-23|UCrOH1V-FyMunBIMr...|\n",
      "|   Segunda-feira|ChratosGameplay|           1|     2023-10-16|UCrOH1V-FyMunBIMr...|\n",
      "|     Terça-feira|ChratosGameplay|           1|     2023-10-24|UCrOH1V-FyMunBIMr...|\n",
      "|    Quinta-feira|ChratosGameplay|           1|     2023-10-26|UCrOH1V-FyMunBIMr...|\n",
      "|    Quinta-feira|ChratosGameplay|           1|     2023-10-19|UCrOH1V-FyMunBIMr...|\n",
      "|    Quarta-feira|ChratosGameplay|           1|     2023-10-18|UCrOH1V-FyMunBIMr...|\n",
      "|     Terça-feira|ChratosGameplay|           1|     2023-10-17|UCrOH1V-FyMunBIMr...|\n",
      "|    Quarta-feira|ChratosGameplay|           1|     2023-10-25|UCrOH1V-FyMunBIMr...|\n",
      "|     Sexta-feira|ChratosGameplay|           1|     2023-10-20|UCrOH1V-FyMunBIMr...|\n",
      "|     Sexta-feira|ChratosGameplay|           1|     2023-10-27|UCrOH1V-FyMunBIMr...|\n",
      "|         Domingo|ChratosGameplay|           1|     2023-10-15|UCrOH1V-FyMunBIMr...|\n",
      "|         Domingo|ChratosGameplay|           1|     2023-10-22|UCrOH1V-FyMunBIMr...|\n",
      "|          Sábado|ChratosGameplay|           1|     2023-10-21|UCrOH1V-FyMunBIMr...|\n",
      "+----------------+---------------+------------+---------------+--------------------+\n",
      "\n"
     ]
    }
   ],
   "source": [
    "spark.sql('select * from PUBLICACAO_VIDEO WHERE ID_CANAL IN (\"UCrOH1V-FyMunBIMrKL0y0xQ\")').show()"
   ]
  },
  {
   "cell_type": "code",
   "execution_count": 27,
   "metadata": {},
   "outputs": [],
   "source": [
    "def indice_semana(dia: str) -> int: \n",
    "    dias_semana = {\n",
    "        'Domingo': 1,\n",
    "        'Segunda-feira' : 2,\n",
    "        'Terça-feira' : 3,\n",
    "        'Quarta-feira' : 4,\n",
    "        'Quinta-feira': 5,\n",
    "        'Sexta-feira': 6,\n",
    "        'Sábado' : 7\n",
    "    }\n",
    "\n",
    "    return dias_semana.get(dia)\n"
   ]
  },
  {
   "cell_type": "code",
   "execution_count": 28,
   "metadata": {},
   "outputs": [
    {
     "data": {
      "text/plain": [
       "7"
      ]
     },
     "execution_count": 28,
     "metadata": {},
     "output_type": "execute_result"
    }
   ],
   "source": [
    "indice_semana('Sábado')"
   ]
  },
  {
   "cell_type": "code",
   "execution_count": 29,
   "metadata": {},
   "outputs": [
    {
     "name": "stderr",
     "output_type": "stream",
     "text": [
      "                                                                                \r"
     ]
    },
    {
     "data": {
      "text/html": [
       "<div>\n",
       "<style scoped>\n",
       "    .dataframe tbody tr th:only-of-type {\n",
       "        vertical-align: middle;\n",
       "    }\n",
       "\n",
       "    .dataframe tbody tr th {\n",
       "        vertical-align: top;\n",
       "    }\n",
       "\n",
       "    .dataframe thead th {\n",
       "        text-align: right;\n",
       "    }\n",
       "</style>\n",
       "<table border=\"1\" class=\"dataframe\">\n",
       "  <thead>\n",
       "    <tr style=\"text-align: right;\">\n",
       "      <th></th>\n",
       "      <th>SEMANA_TRADUZIDA</th>\n",
       "      <th>sum(TOTAL_VIDEOS)</th>\n",
       "      <th>INDICE_SEMANA</th>\n",
       "    </tr>\n",
       "  </thead>\n",
       "  <tbody>\n",
       "    <tr>\n",
       "      <th>5</th>\n",
       "      <td>Domingo</td>\n",
       "      <td>25</td>\n",
       "      <td>1</td>\n",
       "    </tr>\n",
       "    <tr>\n",
       "      <th>0</th>\n",
       "      <td>Segunda-feira</td>\n",
       "      <td>40</td>\n",
       "      <td>2</td>\n",
       "    </tr>\n",
       "    <tr>\n",
       "      <th>2</th>\n",
       "      <td>Terça-feira</td>\n",
       "      <td>39</td>\n",
       "      <td>3</td>\n",
       "    </tr>\n",
       "    <tr>\n",
       "      <th>1</th>\n",
       "      <td>Quarta-feira</td>\n",
       "      <td>37</td>\n",
       "      <td>4</td>\n",
       "    </tr>\n",
       "    <tr>\n",
       "      <th>6</th>\n",
       "      <td>Quinta-feira</td>\n",
       "      <td>39</td>\n",
       "      <td>5</td>\n",
       "    </tr>\n",
       "    <tr>\n",
       "      <th>4</th>\n",
       "      <td>Sexta-feira</td>\n",
       "      <td>34</td>\n",
       "      <td>6</td>\n",
       "    </tr>\n",
       "    <tr>\n",
       "      <th>3</th>\n",
       "      <td>Sábado</td>\n",
       "      <td>21</td>\n",
       "      <td>7</td>\n",
       "    </tr>\n",
       "  </tbody>\n",
       "</table>\n",
       "</div>"
      ],
      "text/plain": [
       "  SEMANA_TRADUZIDA  sum(TOTAL_VIDEOS)  INDICE_SEMANA\n",
       "5          Domingo                 25              1\n",
       "0    Segunda-feira                 40              2\n",
       "2      Terça-feira                 39              3\n",
       "1     Quarta-feira                 37              4\n",
       "6     Quinta-feira                 39              5\n",
       "4      Sexta-feira                 34              6\n",
       "3           Sábado                 21              7"
      ]
     },
     "execution_count": 29,
     "metadata": {},
     "output_type": "execute_result"
    }
   ],
   "source": [
    "df_publicacao_video  = spark.sql(' SELECT SEMANA_TRADUZIDA,  sum(TOTAL_VIDEOS) '\n",
    "          ' FROM PUBLICACAO_VIDEO'\n",
    "          ' GROUP BY SEMANA_TRADUZIDA ').toPandas()\n",
    "df_publicacao_video['INDICE_SEMANA'] = df_publicacao_video['SEMANA_TRADUZIDA'].apply(indice_semana)\n",
    "df_publicacao_video.sort_values(by='INDICE_SEMANA', inplace=True)\n",
    "df_publicacao_video.head(7)\n"
   ]
  },
  {
   "cell_type": "code",
   "execution_count": 30,
   "metadata": {},
   "outputs": [
    {
     "data": {
      "application/vnd.plotly.v1+json": {
       "config": {
        "plotlyServerURL": "https://plot.ly"
       },
       "data": [
        {
         "alignmentgroup": "True",
         "hovertemplate": "SEMANA_TRADUZIDA=%{x}<br>sum(TOTAL_VIDEOS)=%{y}<extra></extra>",
         "legendgroup": "",
         "marker": {
          "color": "#636efa",
          "pattern": {
           "shape": ""
          }
         },
         "name": "",
         "offsetgroup": "",
         "orientation": "v",
         "showlegend": false,
         "textposition": "auto",
         "texttemplate": "%{y}",
         "type": "bar",
         "x": [
          "Domingo",
          "Segunda-feira",
          "Terça-feira",
          "Quarta-feira",
          "Quinta-feira",
          "Sexta-feira",
          "Sábado"
         ],
         "xaxis": "x",
         "y": [
          25,
          40,
          39,
          37,
          39,
          34,
          21
         ],
         "yaxis": "y"
        }
       ],
       "layout": {
        "barmode": "relative",
        "legend": {
         "tracegroupgap": 0
        },
        "margin": {
         "t": 60
        },
        "template": {
         "data": {
          "bar": [
           {
            "error_x": {
             "color": "#2a3f5f"
            },
            "error_y": {
             "color": "#2a3f5f"
            },
            "marker": {
             "line": {
              "color": "#E5ECF6",
              "width": 0.5
             },
             "pattern": {
              "fillmode": "overlay",
              "size": 10,
              "solidity": 0.2
             }
            },
            "type": "bar"
           }
          ],
          "barpolar": [
           {
            "marker": {
             "line": {
              "color": "#E5ECF6",
              "width": 0.5
             },
             "pattern": {
              "fillmode": "overlay",
              "size": 10,
              "solidity": 0.2
             }
            },
            "type": "barpolar"
           }
          ],
          "carpet": [
           {
            "aaxis": {
             "endlinecolor": "#2a3f5f",
             "gridcolor": "white",
             "linecolor": "white",
             "minorgridcolor": "white",
             "startlinecolor": "#2a3f5f"
            },
            "baxis": {
             "endlinecolor": "#2a3f5f",
             "gridcolor": "white",
             "linecolor": "white",
             "minorgridcolor": "white",
             "startlinecolor": "#2a3f5f"
            },
            "type": "carpet"
           }
          ],
          "choropleth": [
           {
            "colorbar": {
             "outlinewidth": 0,
             "ticks": ""
            },
            "type": "choropleth"
           }
          ],
          "contour": [
           {
            "colorbar": {
             "outlinewidth": 0,
             "ticks": ""
            },
            "colorscale": [
             [
              0,
              "#0d0887"
             ],
             [
              0.1111111111111111,
              "#46039f"
             ],
             [
              0.2222222222222222,
              "#7201a8"
             ],
             [
              0.3333333333333333,
              "#9c179e"
             ],
             [
              0.4444444444444444,
              "#bd3786"
             ],
             [
              0.5555555555555556,
              "#d8576b"
             ],
             [
              0.6666666666666666,
              "#ed7953"
             ],
             [
              0.7777777777777778,
              "#fb9f3a"
             ],
             [
              0.8888888888888888,
              "#fdca26"
             ],
             [
              1,
              "#f0f921"
             ]
            ],
            "type": "contour"
           }
          ],
          "contourcarpet": [
           {
            "colorbar": {
             "outlinewidth": 0,
             "ticks": ""
            },
            "type": "contourcarpet"
           }
          ],
          "heatmap": [
           {
            "colorbar": {
             "outlinewidth": 0,
             "ticks": ""
            },
            "colorscale": [
             [
              0,
              "#0d0887"
             ],
             [
              0.1111111111111111,
              "#46039f"
             ],
             [
              0.2222222222222222,
              "#7201a8"
             ],
             [
              0.3333333333333333,
              "#9c179e"
             ],
             [
              0.4444444444444444,
              "#bd3786"
             ],
             [
              0.5555555555555556,
              "#d8576b"
             ],
             [
              0.6666666666666666,
              "#ed7953"
             ],
             [
              0.7777777777777778,
              "#fb9f3a"
             ],
             [
              0.8888888888888888,
              "#fdca26"
             ],
             [
              1,
              "#f0f921"
             ]
            ],
            "type": "heatmap"
           }
          ],
          "heatmapgl": [
           {
            "colorbar": {
             "outlinewidth": 0,
             "ticks": ""
            },
            "colorscale": [
             [
              0,
              "#0d0887"
             ],
             [
              0.1111111111111111,
              "#46039f"
             ],
             [
              0.2222222222222222,
              "#7201a8"
             ],
             [
              0.3333333333333333,
              "#9c179e"
             ],
             [
              0.4444444444444444,
              "#bd3786"
             ],
             [
              0.5555555555555556,
              "#d8576b"
             ],
             [
              0.6666666666666666,
              "#ed7953"
             ],
             [
              0.7777777777777778,
              "#fb9f3a"
             ],
             [
              0.8888888888888888,
              "#fdca26"
             ],
             [
              1,
              "#f0f921"
             ]
            ],
            "type": "heatmapgl"
           }
          ],
          "histogram": [
           {
            "marker": {
             "pattern": {
              "fillmode": "overlay",
              "size": 10,
              "solidity": 0.2
             }
            },
            "type": "histogram"
           }
          ],
          "histogram2d": [
           {
            "colorbar": {
             "outlinewidth": 0,
             "ticks": ""
            },
            "colorscale": [
             [
              0,
              "#0d0887"
             ],
             [
              0.1111111111111111,
              "#46039f"
             ],
             [
              0.2222222222222222,
              "#7201a8"
             ],
             [
              0.3333333333333333,
              "#9c179e"
             ],
             [
              0.4444444444444444,
              "#bd3786"
             ],
             [
              0.5555555555555556,
              "#d8576b"
             ],
             [
              0.6666666666666666,
              "#ed7953"
             ],
             [
              0.7777777777777778,
              "#fb9f3a"
             ],
             [
              0.8888888888888888,
              "#fdca26"
             ],
             [
              1,
              "#f0f921"
             ]
            ],
            "type": "histogram2d"
           }
          ],
          "histogram2dcontour": [
           {
            "colorbar": {
             "outlinewidth": 0,
             "ticks": ""
            },
            "colorscale": [
             [
              0,
              "#0d0887"
             ],
             [
              0.1111111111111111,
              "#46039f"
             ],
             [
              0.2222222222222222,
              "#7201a8"
             ],
             [
              0.3333333333333333,
              "#9c179e"
             ],
             [
              0.4444444444444444,
              "#bd3786"
             ],
             [
              0.5555555555555556,
              "#d8576b"
             ],
             [
              0.6666666666666666,
              "#ed7953"
             ],
             [
              0.7777777777777778,
              "#fb9f3a"
             ],
             [
              0.8888888888888888,
              "#fdca26"
             ],
             [
              1,
              "#f0f921"
             ]
            ],
            "type": "histogram2dcontour"
           }
          ],
          "mesh3d": [
           {
            "colorbar": {
             "outlinewidth": 0,
             "ticks": ""
            },
            "type": "mesh3d"
           }
          ],
          "parcoords": [
           {
            "line": {
             "colorbar": {
              "outlinewidth": 0,
              "ticks": ""
             }
            },
            "type": "parcoords"
           }
          ],
          "pie": [
           {
            "automargin": true,
            "type": "pie"
           }
          ],
          "scatter": [
           {
            "fillpattern": {
             "fillmode": "overlay",
             "size": 10,
             "solidity": 0.2
            },
            "type": "scatter"
           }
          ],
          "scatter3d": [
           {
            "line": {
             "colorbar": {
              "outlinewidth": 0,
              "ticks": ""
             }
            },
            "marker": {
             "colorbar": {
              "outlinewidth": 0,
              "ticks": ""
             }
            },
            "type": "scatter3d"
           }
          ],
          "scattercarpet": [
           {
            "marker": {
             "colorbar": {
              "outlinewidth": 0,
              "ticks": ""
             }
            },
            "type": "scattercarpet"
           }
          ],
          "scattergeo": [
           {
            "marker": {
             "colorbar": {
              "outlinewidth": 0,
              "ticks": ""
             }
            },
            "type": "scattergeo"
           }
          ],
          "scattergl": [
           {
            "marker": {
             "colorbar": {
              "outlinewidth": 0,
              "ticks": ""
             }
            },
            "type": "scattergl"
           }
          ],
          "scattermapbox": [
           {
            "marker": {
             "colorbar": {
              "outlinewidth": 0,
              "ticks": ""
             }
            },
            "type": "scattermapbox"
           }
          ],
          "scatterpolar": [
           {
            "marker": {
             "colorbar": {
              "outlinewidth": 0,
              "ticks": ""
             }
            },
            "type": "scatterpolar"
           }
          ],
          "scatterpolargl": [
           {
            "marker": {
             "colorbar": {
              "outlinewidth": 0,
              "ticks": ""
             }
            },
            "type": "scatterpolargl"
           }
          ],
          "scatterternary": [
           {
            "marker": {
             "colorbar": {
              "outlinewidth": 0,
              "ticks": ""
             }
            },
            "type": "scatterternary"
           }
          ],
          "surface": [
           {
            "colorbar": {
             "outlinewidth": 0,
             "ticks": ""
            },
            "colorscale": [
             [
              0,
              "#0d0887"
             ],
             [
              0.1111111111111111,
              "#46039f"
             ],
             [
              0.2222222222222222,
              "#7201a8"
             ],
             [
              0.3333333333333333,
              "#9c179e"
             ],
             [
              0.4444444444444444,
              "#bd3786"
             ],
             [
              0.5555555555555556,
              "#d8576b"
             ],
             [
              0.6666666666666666,
              "#ed7953"
             ],
             [
              0.7777777777777778,
              "#fb9f3a"
             ],
             [
              0.8888888888888888,
              "#fdca26"
             ],
             [
              1,
              "#f0f921"
             ]
            ],
            "type": "surface"
           }
          ],
          "table": [
           {
            "cells": {
             "fill": {
              "color": "#EBF0F8"
             },
             "line": {
              "color": "white"
             }
            },
            "header": {
             "fill": {
              "color": "#C8D4E3"
             },
             "line": {
              "color": "white"
             }
            },
            "type": "table"
           }
          ]
         },
         "layout": {
          "annotationdefaults": {
           "arrowcolor": "#2a3f5f",
           "arrowhead": 0,
           "arrowwidth": 1
          },
          "autotypenumbers": "strict",
          "coloraxis": {
           "colorbar": {
            "outlinewidth": 0,
            "ticks": ""
           }
          },
          "colorscale": {
           "diverging": [
            [
             0,
             "#8e0152"
            ],
            [
             0.1,
             "#c51b7d"
            ],
            [
             0.2,
             "#de77ae"
            ],
            [
             0.3,
             "#f1b6da"
            ],
            [
             0.4,
             "#fde0ef"
            ],
            [
             0.5,
             "#f7f7f7"
            ],
            [
             0.6,
             "#e6f5d0"
            ],
            [
             0.7,
             "#b8e186"
            ],
            [
             0.8,
             "#7fbc41"
            ],
            [
             0.9,
             "#4d9221"
            ],
            [
             1,
             "#276419"
            ]
           ],
           "sequential": [
            [
             0,
             "#0d0887"
            ],
            [
             0.1111111111111111,
             "#46039f"
            ],
            [
             0.2222222222222222,
             "#7201a8"
            ],
            [
             0.3333333333333333,
             "#9c179e"
            ],
            [
             0.4444444444444444,
             "#bd3786"
            ],
            [
             0.5555555555555556,
             "#d8576b"
            ],
            [
             0.6666666666666666,
             "#ed7953"
            ],
            [
             0.7777777777777778,
             "#fb9f3a"
            ],
            [
             0.8888888888888888,
             "#fdca26"
            ],
            [
             1,
             "#f0f921"
            ]
           ],
           "sequentialminus": [
            [
             0,
             "#0d0887"
            ],
            [
             0.1111111111111111,
             "#46039f"
            ],
            [
             0.2222222222222222,
             "#7201a8"
            ],
            [
             0.3333333333333333,
             "#9c179e"
            ],
            [
             0.4444444444444444,
             "#bd3786"
            ],
            [
             0.5555555555555556,
             "#d8576b"
            ],
            [
             0.6666666666666666,
             "#ed7953"
            ],
            [
             0.7777777777777778,
             "#fb9f3a"
            ],
            [
             0.8888888888888888,
             "#fdca26"
            ],
            [
             1,
             "#f0f921"
            ]
           ]
          },
          "colorway": [
           "#636efa",
           "#EF553B",
           "#00cc96",
           "#ab63fa",
           "#FFA15A",
           "#19d3f3",
           "#FF6692",
           "#B6E880",
           "#FF97FF",
           "#FECB52"
          ],
          "font": {
           "color": "#2a3f5f"
          },
          "geo": {
           "bgcolor": "white",
           "lakecolor": "white",
           "landcolor": "#E5ECF6",
           "showlakes": true,
           "showland": true,
           "subunitcolor": "white"
          },
          "hoverlabel": {
           "align": "left"
          },
          "hovermode": "closest",
          "mapbox": {
           "style": "light"
          },
          "paper_bgcolor": "white",
          "plot_bgcolor": "#E5ECF6",
          "polar": {
           "angularaxis": {
            "gridcolor": "white",
            "linecolor": "white",
            "ticks": ""
           },
           "bgcolor": "#E5ECF6",
           "radialaxis": {
            "gridcolor": "white",
            "linecolor": "white",
            "ticks": ""
           }
          },
          "scene": {
           "xaxis": {
            "backgroundcolor": "#E5ECF6",
            "gridcolor": "white",
            "gridwidth": 2,
            "linecolor": "white",
            "showbackground": true,
            "ticks": "",
            "zerolinecolor": "white"
           },
           "yaxis": {
            "backgroundcolor": "#E5ECF6",
            "gridcolor": "white",
            "gridwidth": 2,
            "linecolor": "white",
            "showbackground": true,
            "ticks": "",
            "zerolinecolor": "white"
           },
           "zaxis": {
            "backgroundcolor": "#E5ECF6",
            "gridcolor": "white",
            "gridwidth": 2,
            "linecolor": "white",
            "showbackground": true,
            "ticks": "",
            "zerolinecolor": "white"
           }
          },
          "shapedefaults": {
           "line": {
            "color": "#2a3f5f"
           }
          },
          "ternary": {
           "aaxis": {
            "gridcolor": "white",
            "linecolor": "white",
            "ticks": ""
           },
           "baxis": {
            "gridcolor": "white",
            "linecolor": "white",
            "ticks": ""
           },
           "bgcolor": "#E5ECF6",
           "caxis": {
            "gridcolor": "white",
            "linecolor": "white",
            "ticks": ""
           }
          },
          "title": {
           "x": 0.05
          },
          "xaxis": {
           "automargin": true,
           "gridcolor": "white",
           "linecolor": "white",
           "ticks": "",
           "title": {
            "standoff": 15
           },
           "zerolinecolor": "white",
           "zerolinewidth": 2
          },
          "yaxis": {
           "automargin": true,
           "gridcolor": "white",
           "linecolor": "white",
           "ticks": "",
           "title": {
            "standoff": 15
           },
           "zerolinecolor": "white",
           "zerolinewidth": 2
          }
         }
        },
        "xaxis": {
         "anchor": "y",
         "domain": [
          0,
          1
         ],
         "title": {
          "text": "SEMANA_TRADUZIDA"
         }
        },
        "yaxis": {
         "anchor": "x",
         "domain": [
          0,
          1
         ],
         "title": {
          "text": "sum(TOTAL_VIDEOS)"
         }
        }
       }
      }
     },
     "metadata": {},
     "output_type": "display_data"
    }
   ],
   "source": [
    "fig = px.bar(df_publicacao_video, x='SEMANA_TRADUZIDA',y='sum(TOTAL_VIDEOS)', text_auto=True)\n",
    "fig.show()"
   ]
  },
  {
   "cell_type": "markdown",
   "metadata": {},
   "source": [
    "# Total de Tags X Vísualizações "
   ]
  },
  {
   "cell_type": "code",
   "execution_count": 42,
   "metadata": {},
   "outputs": [
    {
     "data": {
      "application/vnd.plotly.v1+json": {
       "config": {
        "plotlyServerURL": "https://plot.ly"
       },
       "data": [
        {
         "hovertemplate": "TOTAL_TAGS=%{x}<br>TOTAL_VISUALIZACOES=%{y}<extra></extra>",
         "legendgroup": "",
         "marker": {
          "color": "#636efa",
          "symbol": "circle"
         },
         "mode": "markers",
         "name": "",
         "orientation": "v",
         "showlegend": false,
         "type": "scatter",
         "x": [
          0,
          31,
          31,
          31,
          31,
          31,
          0,
          33,
          37,
          0,
          31,
          28,
          31,
          31,
          31,
          31,
          31,
          33,
          0,
          31,
          31,
          31,
          31,
          31,
          0,
          33,
          37,
          0,
          31,
          28,
          31,
          31,
          31,
          31,
          33,
          0,
          31,
          31,
          31,
          31,
          0,
          33,
          37,
          0,
          31,
          28,
          31,
          31,
          31,
          31,
          33,
          0,
          31,
          31,
          31,
          0,
          33,
          37,
          0,
          31,
          28,
          31,
          31,
          31,
          33,
          0,
          31,
          31,
          33,
          37,
          0,
          31,
          28,
          31,
          31,
          31,
          33,
          0,
          31,
          33,
          37,
          0,
          31,
          28,
          31,
          31,
          31,
          33,
          0,
          33,
          37,
          0,
          31,
          28,
          31,
          31,
          33,
          0,
          33,
          37,
          0,
          31,
          28,
          31,
          33,
          33,
          37,
          0,
          28,
          31,
          33,
          33,
          37,
          33
         ],
         "xaxis": "x",
         "y": [
          0,
          42650,
          54375,
          50789,
          39265,
          50480,
          0,
          9540,
          18599,
          0,
          71357,
          33628,
          60786,
          120812,
          18620,
          15805,
          19942,
          24021,
          0,
          39393,
          52814,
          48936,
          25546,
          48453,
          0,
          9521,
          18430,
          0,
          69468,
          32382,
          59218,
          117375,
          16232,
          19507,
          23697,
          0,
          24904,
          50535,
          46106,
          44415,
          0,
          9488,
          18197,
          0,
          66655,
          31140,
          57019,
          111842,
          4298,
          18699,
          23317,
          0,
          47320,
          41868,
          27606,
          0,
          9451,
          18004,
          0,
          63099,
          29858,
          54002,
          104409,
          17338,
          22921,
          0,
          42611,
          25707,
          9404,
          17777,
          0,
          59038,
          28387,
          50017,
          97039,
          14438,
          22431,
          0,
          25216,
          9351,
          17489,
          0,
          53307,
          26784,
          42500,
          88838,
          4266,
          21618,
          0,
          9263,
          17245,
          0,
          44930,
          24837,
          24631,
          76038,
          20827,
          0,
          9112,
          16805,
          0,
          12838,
          22599,
          52156,
          19597,
          8949,
          16452,
          0,
          20325,
          17961,
          18470,
          7399,
          7914,
          4562
         ],
         "yaxis": "y"
        }
       ],
       "layout": {
        "legend": {
         "tracegroupgap": 0
        },
        "margin": {
         "t": 60
        },
        "template": {
         "data": {
          "bar": [
           {
            "error_x": {
             "color": "#2a3f5f"
            },
            "error_y": {
             "color": "#2a3f5f"
            },
            "marker": {
             "line": {
              "color": "#E5ECF6",
              "width": 0.5
             },
             "pattern": {
              "fillmode": "overlay",
              "size": 10,
              "solidity": 0.2
             }
            },
            "type": "bar"
           }
          ],
          "barpolar": [
           {
            "marker": {
             "line": {
              "color": "#E5ECF6",
              "width": 0.5
             },
             "pattern": {
              "fillmode": "overlay",
              "size": 10,
              "solidity": 0.2
             }
            },
            "type": "barpolar"
           }
          ],
          "carpet": [
           {
            "aaxis": {
             "endlinecolor": "#2a3f5f",
             "gridcolor": "white",
             "linecolor": "white",
             "minorgridcolor": "white",
             "startlinecolor": "#2a3f5f"
            },
            "baxis": {
             "endlinecolor": "#2a3f5f",
             "gridcolor": "white",
             "linecolor": "white",
             "minorgridcolor": "white",
             "startlinecolor": "#2a3f5f"
            },
            "type": "carpet"
           }
          ],
          "choropleth": [
           {
            "colorbar": {
             "outlinewidth": 0,
             "ticks": ""
            },
            "type": "choropleth"
           }
          ],
          "contour": [
           {
            "colorbar": {
             "outlinewidth": 0,
             "ticks": ""
            },
            "colorscale": [
             [
              0,
              "#0d0887"
             ],
             [
              0.1111111111111111,
              "#46039f"
             ],
             [
              0.2222222222222222,
              "#7201a8"
             ],
             [
              0.3333333333333333,
              "#9c179e"
             ],
             [
              0.4444444444444444,
              "#bd3786"
             ],
             [
              0.5555555555555556,
              "#d8576b"
             ],
             [
              0.6666666666666666,
              "#ed7953"
             ],
             [
              0.7777777777777778,
              "#fb9f3a"
             ],
             [
              0.8888888888888888,
              "#fdca26"
             ],
             [
              1,
              "#f0f921"
             ]
            ],
            "type": "contour"
           }
          ],
          "contourcarpet": [
           {
            "colorbar": {
             "outlinewidth": 0,
             "ticks": ""
            },
            "type": "contourcarpet"
           }
          ],
          "heatmap": [
           {
            "colorbar": {
             "outlinewidth": 0,
             "ticks": ""
            },
            "colorscale": [
             [
              0,
              "#0d0887"
             ],
             [
              0.1111111111111111,
              "#46039f"
             ],
             [
              0.2222222222222222,
              "#7201a8"
             ],
             [
              0.3333333333333333,
              "#9c179e"
             ],
             [
              0.4444444444444444,
              "#bd3786"
             ],
             [
              0.5555555555555556,
              "#d8576b"
             ],
             [
              0.6666666666666666,
              "#ed7953"
             ],
             [
              0.7777777777777778,
              "#fb9f3a"
             ],
             [
              0.8888888888888888,
              "#fdca26"
             ],
             [
              1,
              "#f0f921"
             ]
            ],
            "type": "heatmap"
           }
          ],
          "heatmapgl": [
           {
            "colorbar": {
             "outlinewidth": 0,
             "ticks": ""
            },
            "colorscale": [
             [
              0,
              "#0d0887"
             ],
             [
              0.1111111111111111,
              "#46039f"
             ],
             [
              0.2222222222222222,
              "#7201a8"
             ],
             [
              0.3333333333333333,
              "#9c179e"
             ],
             [
              0.4444444444444444,
              "#bd3786"
             ],
             [
              0.5555555555555556,
              "#d8576b"
             ],
             [
              0.6666666666666666,
              "#ed7953"
             ],
             [
              0.7777777777777778,
              "#fb9f3a"
             ],
             [
              0.8888888888888888,
              "#fdca26"
             ],
             [
              1,
              "#f0f921"
             ]
            ],
            "type": "heatmapgl"
           }
          ],
          "histogram": [
           {
            "marker": {
             "pattern": {
              "fillmode": "overlay",
              "size": 10,
              "solidity": 0.2
             }
            },
            "type": "histogram"
           }
          ],
          "histogram2d": [
           {
            "colorbar": {
             "outlinewidth": 0,
             "ticks": ""
            },
            "colorscale": [
             [
              0,
              "#0d0887"
             ],
             [
              0.1111111111111111,
              "#46039f"
             ],
             [
              0.2222222222222222,
              "#7201a8"
             ],
             [
              0.3333333333333333,
              "#9c179e"
             ],
             [
              0.4444444444444444,
              "#bd3786"
             ],
             [
              0.5555555555555556,
              "#d8576b"
             ],
             [
              0.6666666666666666,
              "#ed7953"
             ],
             [
              0.7777777777777778,
              "#fb9f3a"
             ],
             [
              0.8888888888888888,
              "#fdca26"
             ],
             [
              1,
              "#f0f921"
             ]
            ],
            "type": "histogram2d"
           }
          ],
          "histogram2dcontour": [
           {
            "colorbar": {
             "outlinewidth": 0,
             "ticks": ""
            },
            "colorscale": [
             [
              0,
              "#0d0887"
             ],
             [
              0.1111111111111111,
              "#46039f"
             ],
             [
              0.2222222222222222,
              "#7201a8"
             ],
             [
              0.3333333333333333,
              "#9c179e"
             ],
             [
              0.4444444444444444,
              "#bd3786"
             ],
             [
              0.5555555555555556,
              "#d8576b"
             ],
             [
              0.6666666666666666,
              "#ed7953"
             ],
             [
              0.7777777777777778,
              "#fb9f3a"
             ],
             [
              0.8888888888888888,
              "#fdca26"
             ],
             [
              1,
              "#f0f921"
             ]
            ],
            "type": "histogram2dcontour"
           }
          ],
          "mesh3d": [
           {
            "colorbar": {
             "outlinewidth": 0,
             "ticks": ""
            },
            "type": "mesh3d"
           }
          ],
          "parcoords": [
           {
            "line": {
             "colorbar": {
              "outlinewidth": 0,
              "ticks": ""
             }
            },
            "type": "parcoords"
           }
          ],
          "pie": [
           {
            "automargin": true,
            "type": "pie"
           }
          ],
          "scatter": [
           {
            "fillpattern": {
             "fillmode": "overlay",
             "size": 10,
             "solidity": 0.2
            },
            "type": "scatter"
           }
          ],
          "scatter3d": [
           {
            "line": {
             "colorbar": {
              "outlinewidth": 0,
              "ticks": ""
             }
            },
            "marker": {
             "colorbar": {
              "outlinewidth": 0,
              "ticks": ""
             }
            },
            "type": "scatter3d"
           }
          ],
          "scattercarpet": [
           {
            "marker": {
             "colorbar": {
              "outlinewidth": 0,
              "ticks": ""
             }
            },
            "type": "scattercarpet"
           }
          ],
          "scattergeo": [
           {
            "marker": {
             "colorbar": {
              "outlinewidth": 0,
              "ticks": ""
             }
            },
            "type": "scattergeo"
           }
          ],
          "scattergl": [
           {
            "marker": {
             "colorbar": {
              "outlinewidth": 0,
              "ticks": ""
             }
            },
            "type": "scattergl"
           }
          ],
          "scattermapbox": [
           {
            "marker": {
             "colorbar": {
              "outlinewidth": 0,
              "ticks": ""
             }
            },
            "type": "scattermapbox"
           }
          ],
          "scatterpolar": [
           {
            "marker": {
             "colorbar": {
              "outlinewidth": 0,
              "ticks": ""
             }
            },
            "type": "scatterpolar"
           }
          ],
          "scatterpolargl": [
           {
            "marker": {
             "colorbar": {
              "outlinewidth": 0,
              "ticks": ""
             }
            },
            "type": "scatterpolargl"
           }
          ],
          "scatterternary": [
           {
            "marker": {
             "colorbar": {
              "outlinewidth": 0,
              "ticks": ""
             }
            },
            "type": "scatterternary"
           }
          ],
          "surface": [
           {
            "colorbar": {
             "outlinewidth": 0,
             "ticks": ""
            },
            "colorscale": [
             [
              0,
              "#0d0887"
             ],
             [
              0.1111111111111111,
              "#46039f"
             ],
             [
              0.2222222222222222,
              "#7201a8"
             ],
             [
              0.3333333333333333,
              "#9c179e"
             ],
             [
              0.4444444444444444,
              "#bd3786"
             ],
             [
              0.5555555555555556,
              "#d8576b"
             ],
             [
              0.6666666666666666,
              "#ed7953"
             ],
             [
              0.7777777777777778,
              "#fb9f3a"
             ],
             [
              0.8888888888888888,
              "#fdca26"
             ],
             [
              1,
              "#f0f921"
             ]
            ],
            "type": "surface"
           }
          ],
          "table": [
           {
            "cells": {
             "fill": {
              "color": "#EBF0F8"
             },
             "line": {
              "color": "white"
             }
            },
            "header": {
             "fill": {
              "color": "#C8D4E3"
             },
             "line": {
              "color": "white"
             }
            },
            "type": "table"
           }
          ]
         },
         "layout": {
          "annotationdefaults": {
           "arrowcolor": "#2a3f5f",
           "arrowhead": 0,
           "arrowwidth": 1
          },
          "autotypenumbers": "strict",
          "coloraxis": {
           "colorbar": {
            "outlinewidth": 0,
            "ticks": ""
           }
          },
          "colorscale": {
           "diverging": [
            [
             0,
             "#8e0152"
            ],
            [
             0.1,
             "#c51b7d"
            ],
            [
             0.2,
             "#de77ae"
            ],
            [
             0.3,
             "#f1b6da"
            ],
            [
             0.4,
             "#fde0ef"
            ],
            [
             0.5,
             "#f7f7f7"
            ],
            [
             0.6,
             "#e6f5d0"
            ],
            [
             0.7,
             "#b8e186"
            ],
            [
             0.8,
             "#7fbc41"
            ],
            [
             0.9,
             "#4d9221"
            ],
            [
             1,
             "#276419"
            ]
           ],
           "sequential": [
            [
             0,
             "#0d0887"
            ],
            [
             0.1111111111111111,
             "#46039f"
            ],
            [
             0.2222222222222222,
             "#7201a8"
            ],
            [
             0.3333333333333333,
             "#9c179e"
            ],
            [
             0.4444444444444444,
             "#bd3786"
            ],
            [
             0.5555555555555556,
             "#d8576b"
            ],
            [
             0.6666666666666666,
             "#ed7953"
            ],
            [
             0.7777777777777778,
             "#fb9f3a"
            ],
            [
             0.8888888888888888,
             "#fdca26"
            ],
            [
             1,
             "#f0f921"
            ]
           ],
           "sequentialminus": [
            [
             0,
             "#0d0887"
            ],
            [
             0.1111111111111111,
             "#46039f"
            ],
            [
             0.2222222222222222,
             "#7201a8"
            ],
            [
             0.3333333333333333,
             "#9c179e"
            ],
            [
             0.4444444444444444,
             "#bd3786"
            ],
            [
             0.5555555555555556,
             "#d8576b"
            ],
            [
             0.6666666666666666,
             "#ed7953"
            ],
            [
             0.7777777777777778,
             "#fb9f3a"
            ],
            [
             0.8888888888888888,
             "#fdca26"
            ],
            [
             1,
             "#f0f921"
            ]
           ]
          },
          "colorway": [
           "#636efa",
           "#EF553B",
           "#00cc96",
           "#ab63fa",
           "#FFA15A",
           "#19d3f3",
           "#FF6692",
           "#B6E880",
           "#FF97FF",
           "#FECB52"
          ],
          "font": {
           "color": "#2a3f5f"
          },
          "geo": {
           "bgcolor": "white",
           "lakecolor": "white",
           "landcolor": "#E5ECF6",
           "showlakes": true,
           "showland": true,
           "subunitcolor": "white"
          },
          "hoverlabel": {
           "align": "left"
          },
          "hovermode": "closest",
          "mapbox": {
           "style": "light"
          },
          "paper_bgcolor": "white",
          "plot_bgcolor": "#E5ECF6",
          "polar": {
           "angularaxis": {
            "gridcolor": "white",
            "linecolor": "white",
            "ticks": ""
           },
           "bgcolor": "#E5ECF6",
           "radialaxis": {
            "gridcolor": "white",
            "linecolor": "white",
            "ticks": ""
           }
          },
          "scene": {
           "xaxis": {
            "backgroundcolor": "#E5ECF6",
            "gridcolor": "white",
            "gridwidth": 2,
            "linecolor": "white",
            "showbackground": true,
            "ticks": "",
            "zerolinecolor": "white"
           },
           "yaxis": {
            "backgroundcolor": "#E5ECF6",
            "gridcolor": "white",
            "gridwidth": 2,
            "linecolor": "white",
            "showbackground": true,
            "ticks": "",
            "zerolinecolor": "white"
           },
           "zaxis": {
            "backgroundcolor": "#E5ECF6",
            "gridcolor": "white",
            "gridwidth": 2,
            "linecolor": "white",
            "showbackground": true,
            "ticks": "",
            "zerolinecolor": "white"
           }
          },
          "shapedefaults": {
           "line": {
            "color": "#2a3f5f"
           }
          },
          "ternary": {
           "aaxis": {
            "gridcolor": "white",
            "linecolor": "white",
            "ticks": ""
           },
           "baxis": {
            "gridcolor": "white",
            "linecolor": "white",
            "ticks": ""
           },
           "bgcolor": "#E5ECF6",
           "caxis": {
            "gridcolor": "white",
            "linecolor": "white",
            "ticks": ""
           }
          },
          "title": {
           "x": 0.05
          },
          "xaxis": {
           "automargin": true,
           "gridcolor": "white",
           "linecolor": "white",
           "ticks": "",
           "title": {
            "standoff": 15
           },
           "zerolinecolor": "white",
           "zerolinewidth": 2
          },
          "yaxis": {
           "automargin": true,
           "gridcolor": "white",
           "linecolor": "white",
           "ticks": "",
           "title": {
            "standoff": 15
           },
           "zerolinecolor": "white",
           "zerolinewidth": 2
          }
         }
        },
        "xaxis": {
         "anchor": "y",
         "domain": [
          0,
          1
         ],
         "title": {
          "text": "TOTAL_TAGS"
         }
        },
        "yaxis": {
         "anchor": "x",
         "domain": [
          0,
          1
         ],
         "title": {
          "text": "TOTAL_VISUALIZACOES"
         }
        }
       }
      }
     },
     "metadata": {},
     "output_type": "display_data"
    }
   ],
   "source": [
    "df_tags_visualizacoes = spark.sql('SELECT TOTAL_TAGS, TOTAL_VISUALIZACOES FROM METRICAS_VIDEO where ID_CANAL in (\"UCrOH1V-FyMunBIMrKL0y0xQ\") ').toPandas()\n",
    "df_tags_visualizacoes.head()\n",
    "fig = px.scatter(df_tags_visualizacoes, x='TOTAL_TAGS', y='TOTAL_VISUALIZACOES')\n",
    "fig.show()"
   ]
  },
  {
   "cell_type": "markdown",
   "metadata": {},
   "source": [
    "# Tamanho dos títulos do Vídeos X Vísualizações"
   ]
  },
  {
   "cell_type": "code",
   "execution_count": 46,
   "metadata": {},
   "outputs": [
    {
     "name": "stderr",
     "output_type": "stream",
     "text": [
      "                                                                                \r"
     ]
    },
    {
     "data": {
      "application/vnd.plotly.v1+json": {
       "config": {
        "plotlyServerURL": "https://plot.ly"
       },
       "data": [
        {
         "hovertemplate": "TOTAL_CARACTERE_VIDEO=%{x}<br>TOTAL_VISUALIZACOES=%{y}<extra></extra>",
         "legendgroup": "",
         "marker": {
          "color": "#636efa",
          "symbol": "circle"
         },
         "mode": "markers",
         "name": "",
         "showlegend": false,
         "type": "scattergl",
         "x": [
          81,
          67,
          70,
          81,
          64,
          68,
          87,
          92,
          90,
          88,
          70,
          88,
          63,
          75,
          86,
          60,
          78,
          64,
          81,
          67,
          70,
          81,
          64,
          68,
          87,
          92,
          90,
          88,
          70,
          88,
          63,
          75,
          86,
          78,
          64,
          81,
          67,
          70,
          81,
          68,
          87,
          92,
          90,
          88,
          70,
          88,
          63,
          75,
          86,
          78,
          64,
          81,
          70,
          81,
          68,
          87,
          92,
          90,
          88,
          70,
          88,
          63,
          75,
          78,
          64,
          81,
          70,
          81,
          92,
          90,
          88,
          70,
          88,
          63,
          75,
          78,
          64,
          81,
          70,
          92,
          90,
          88,
          70,
          88,
          63,
          75,
          78,
          64,
          81,
          92,
          90,
          88,
          70,
          88,
          63,
          75,
          64,
          81,
          92,
          90,
          88,
          70,
          88,
          75,
          64,
          92,
          90,
          88,
          88,
          75,
          64,
          52,
          50,
          75,
          100,
          57,
          58,
          80,
          67,
          79,
          70,
          73,
          75,
          52,
          75,
          100,
          57,
          58,
          80,
          67,
          79,
          70,
          81,
          70,
          89,
          80,
          91,
          74,
          74,
          93,
          83,
          69,
          78,
          38,
          38,
          38,
          75,
          66,
          46,
          38,
          71,
          62,
          62,
          74,
          70,
          89,
          80,
          91,
          74,
          74,
          93,
          83,
          69,
          78,
          93,
          88,
          59,
          85,
          64,
          88,
          69,
          91,
          92,
          94,
          72,
          70,
          89,
          80,
          74,
          74,
          93,
          83,
          69,
          78,
          88,
          69,
          91,
          92,
          94,
          72,
          88,
          69,
          91,
          92,
          94,
          72,
          88,
          69,
          91,
          92,
          94,
          72,
          88,
          69,
          91,
          92,
          94,
          72,
          46,
          88,
          87,
          68,
          76,
          88,
          69,
          91,
          92,
          94,
          72,
          80,
          85,
          61,
          80,
          76,
          80,
          59,
          78,
          38,
          38,
          75,
          46,
          38,
          71,
          62,
          74,
          38,
          38,
          75,
          46,
          38,
          71,
          62,
          74,
          93,
          88,
          59,
          64,
          93,
          88,
          59,
          64,
          52,
          75,
          100,
          58,
          80,
          79,
          38,
          38,
          75,
          46,
          38,
          71,
          62,
          74,
          70,
          89,
          80,
          74,
          93,
          83,
          69,
          78,
          64,
          64,
          64,
          64,
          64,
          64,
          64,
          64,
          64,
          64,
          64,
          64,
          64,
          64,
          64,
          64,
          64,
          64,
          64,
          64,
          64,
          64,
          64,
          64,
          64,
          64,
          64,
          64,
          64,
          64,
          64,
          64,
          64,
          64,
          64,
          64,
          64,
          64,
          64,
          64,
          69,
          84,
          81,
          73,
          76,
          86,
          77,
          64,
          64,
          64,
          64,
          64,
          64,
          64,
          64,
          64,
          64,
          69,
          91,
          92,
          94,
          72,
          52,
          75,
          100,
          58,
          80,
          79,
          70,
          89,
          80,
          74,
          93,
          69,
          78,
          64,
          64,
          64,
          64,
          64,
          64,
          64,
          64,
          64,
          52,
          75,
          100,
          58,
          80,
          79,
          52,
          75,
          100,
          58,
          80,
          79,
          64,
          64,
          64,
          64,
          64,
          64,
          64,
          64,
          38,
          66,
          46,
          38,
          62,
          62,
          74,
          85,
          61,
          80,
          76,
          80,
          59,
          78,
          64,
          64,
          64,
          64,
          64,
          64,
          64,
          88,
          59,
          64,
          88,
          59,
          64,
          88,
          59,
          64,
          89,
          87,
          68,
          76,
          69,
          84,
          81,
          73,
          76,
          86,
          69,
          84,
          81,
          73,
          76,
          86,
          92,
          90,
          69,
          84,
          81,
          73,
          76,
          86,
          69,
          91,
          94,
          72,
          85,
          61,
          80,
          76,
          80,
          78,
          64,
          64,
          64,
          64,
          64,
          64,
          70,
          80,
          74,
          93,
          69,
          78,
          70,
          80,
          74,
          93,
          69,
          78,
          93,
          76,
          93,
          38,
          46,
          38,
          62,
          62,
          74,
          70,
          74,
          93,
          69,
          78,
          100,
          100,
          100,
          69,
          91,
          72,
          87,
          68,
          76,
          98,
          67,
          87,
          84,
          66,
          71,
          71,
          84,
          66,
          71,
          71,
          95,
          75,
          78,
          98,
          67,
          67,
          85,
          61,
          80,
          80,
          78,
          100,
          100,
          100,
          88,
          59,
          88,
          59,
          88,
          59,
          100,
          100,
          100,
          100,
          100,
          100,
          100,
          100,
          100,
          100,
          100,
          86,
          73,
          93,
          45,
          57,
          57,
          85,
          80,
          80,
          78,
          84,
          71,
          71,
          84,
          71,
          71,
          38,
          46,
          38,
          62,
          74,
          86,
          73,
          93,
          52,
          100,
          80,
          86,
          73,
          93,
          69,
          73,
          76,
          86,
          70,
          88,
          89,
          77,
          57,
          75,
          81,
          62,
          49,
          42,
          42,
          42,
          42,
          39,
          39,
          84,
          71,
          71,
          74,
          72,
          78,
          74,
          72,
          78,
          74,
          72,
          78,
          70,
          74,
          69,
          78,
          85,
          80,
          80,
          62,
          57,
          61,
          63,
          62,
          57,
          61,
          63,
          74,
          72,
          78,
          74,
          72,
          78,
          45,
          45,
          45,
          48,
          48,
          80,
          89,
          80,
          89,
          80,
          89,
          80,
          89,
          80,
          89,
          69,
          72,
          70,
          88,
          89,
          77,
          57,
          75,
          81,
          49,
          70,
          88,
          89,
          77,
          57,
          75,
          81,
          49,
          70,
          88,
          89,
          77,
          57,
          75,
          81,
          49,
          70,
          88,
          89,
          77,
          57,
          75,
          81,
          49,
          92,
          100,
          75,
          75,
          75,
          75,
          75,
          75,
          75,
          75,
          75,
          75,
          75,
          69,
          73,
          76,
          34,
          28,
          28,
          28,
          28,
          71,
          71,
          69,
          73,
          76,
          64,
          64,
          63,
          63,
          63,
          92,
          43,
          43,
          68,
          76,
          71,
          71,
          63,
          63,
          73,
          93,
          69,
          69,
          69,
          69,
          69,
          69,
          69,
          69,
          69,
          74,
          72,
          74,
          72,
          74,
          72,
          74,
          72,
          68,
          76,
          68,
          76,
          97,
          68,
          76,
          68,
          76,
          68,
          76,
          38,
          62,
          74,
          71,
          71,
          71,
          71,
          97,
          97,
          97,
          97,
          97,
          97,
          97,
          72,
          97,
          97,
          62,
          61,
          71,
          76,
          75,
          78,
          75,
          78,
          75,
          78,
          75,
          78,
          75,
          78,
          42,
          42,
          39,
          42,
          42,
          39,
          42,
          42,
          39,
          70,
          88,
          89,
          77,
          75,
          81,
          49,
          94,
          94,
          31,
          31,
          63,
          63,
          89,
          89,
          56,
          93,
          56,
          93,
          56,
          93,
          42,
          42,
          39,
          24,
          75,
          77,
          89,
          42,
          42,
          39,
          42,
          42,
          39,
          45,
          57,
          45,
          57,
          24,
          75,
          77,
          89,
          85,
          80,
          70,
          88,
          89,
          77,
          75,
          81,
          34,
          28,
          28,
          28,
          34,
          28,
          28,
          28,
          34,
          28,
          28,
          28,
          34,
          28,
          28,
          28,
          57,
          34,
          28,
          28,
          28,
          57,
          57,
          58,
          42,
          65,
          52,
          59,
          57,
          64,
          76,
          72,
          71,
          42,
          42,
          39,
          42,
          42,
          39,
          42,
          42,
          39,
          75,
          85,
          85,
          90,
          90,
          78,
          78,
          78,
          78,
          78,
          78,
          78,
          78,
          78,
          78,
          78,
          78,
          78,
          78,
          78,
          63,
          63,
          100,
          100,
          100,
          100,
          100,
          100,
          100,
          100,
          100,
          58,
          42,
          65,
          34,
          28,
          28,
          28,
          47,
          52,
          58,
          62,
          65,
          58,
          62,
          65,
          53,
          53,
          68,
          78,
          60,
          60,
          60,
          79,
          79,
          38,
          74,
          66,
          76,
          76,
          76,
          70,
          70,
          70,
          70,
          70,
          70,
          70,
          70,
          70,
          66,
          66,
          70,
          89,
          77,
          75,
          81,
          70,
          89,
          77,
          75,
          81,
          42,
          42,
          42,
          42,
          58,
          65,
          34,
          34,
          59,
          58,
          65,
          58,
          65,
          53,
          53,
          53,
          53,
          53,
          96,
          96,
          96,
          96,
          96,
          96,
          96,
          96,
          96,
          79,
          72,
          72,
          72,
          61,
          73,
          79,
          72,
          72,
          72,
          79,
          72,
          72,
          72,
          66,
          66,
          57,
          57,
          64,
          64,
          64,
          83,
          60,
          61,
          73,
          61,
          73,
          61,
          73,
          61,
          73,
          79,
          72,
          72,
          72,
          61,
          73,
          61,
          73,
          79,
          72,
          72,
          72,
          73,
          73,
          44,
          31,
          18,
          31,
          18,
          31,
          18,
          31,
          18,
          42,
          42,
          42,
          42,
          61,
          42,
          67,
          79,
          72,
          72,
          72,
          35,
          35,
          35,
          36,
          36,
          35,
          35,
          32,
          32,
          32,
          32,
          32,
          32,
          32,
          32,
          32,
          96,
          96,
          96,
          96,
          96,
          96,
          96,
          96,
          96,
          45,
          35,
          35,
          35,
          35,
          35,
          42,
          42,
          39,
          83,
          60,
          61,
          61,
          61,
          61,
          61,
          61,
          61,
          61,
          61,
          59,
          43,
          43,
          58,
          37,
          37,
          37,
          35,
          35,
          35,
          35,
          35,
          35,
          35,
          35,
          35,
          35,
          35,
          35,
          35,
          35,
          35,
          35,
          35,
          35,
          35,
          35,
          35,
          35,
          35,
          35,
          35,
          24,
          89,
          83,
          60,
          83,
          60,
          83,
          60,
          83,
          60,
          83,
          60,
          56,
          56,
          56,
          56,
          35,
          35,
          35,
          36,
          35,
          35,
          35,
          35,
          35,
          36,
          35,
          35,
          55,
          55,
          66,
          76,
          90,
          90,
          90,
          90,
          64,
          64,
          64,
          64,
          58,
          58,
          58,
          31,
          31,
          53,
          53,
          84,
          94,
          48,
          48,
          48,
          48,
          48,
          48,
          48,
          48,
          48,
          52,
          46,
          79,
          79,
          52,
          84,
          88,
          84,
          88,
          45,
          44,
          34,
          84,
          81,
          62,
          24,
          24,
          24,
          24,
          53,
          53,
          53,
          67,
          67,
          67,
          67,
          67,
          67,
          67,
          67,
          67,
          16,
          16,
          43,
          47,
          84,
          88,
          84,
          88,
          84,
          88,
          24,
          36,
          24,
          66,
          66,
          66,
          66,
          66,
          34,
          28,
          75,
          81,
          50,
          50,
          50,
          50,
          50,
          50,
          50,
          75,
          75,
          75,
          75,
          75,
          75,
          75,
          75,
          75,
          38,
          38,
          24,
          85,
          85,
          85,
          85,
          60,
          63,
          62,
          85,
          53,
          85,
          53,
          85,
          53,
          51,
          57,
          85,
          53,
          85,
          53,
          35,
          35,
          77,
          77,
          24,
          24,
          24,
          24,
          24,
          24,
          24,
          24,
          24,
          24,
          45,
          44,
          45,
          44,
          45,
          44,
          45,
          44,
          45,
          44,
          63,
          38,
          38,
          24,
          63,
          63,
          63,
          63,
          69,
          57,
          57,
          60,
          60,
          60,
          60,
          60,
          60,
          64,
          64,
          64,
          60,
          64,
          64,
          45,
          44,
          46,
          79,
          58,
          58,
          18,
          18,
          34,
          34,
          57,
          57,
          57,
          45,
          44,
          45,
          44,
          45,
          44,
          46,
          79,
          16,
          43,
          16,
          43,
          16,
          43,
          16,
          43,
          38,
          38,
          38,
          38,
          38,
          38,
          38,
          38,
          38,
          44,
          57,
          57,
          57,
          36,
          36,
          40,
          40,
          40,
          40,
          40,
          48,
          40,
          40,
          48,
          37,
          37,
          37,
          37,
          37,
          29,
          29,
          29,
          27,
          27,
          27,
          27,
          27,
          27,
          27,
          27,
          27,
          27,
          38,
          24,
          49,
          49,
          49,
          49,
          49,
          49,
          49,
          49,
          49,
          16,
          43,
          16,
          43,
          16,
          43,
          16,
          43,
          44,
          44,
          46,
          43,
          39,
          39,
          39,
          39,
          39,
          39,
          39,
          39,
          39,
          34,
          34,
          34,
          34,
          34,
          34,
          34,
          34,
          34,
          24,
          33,
          33,
          33,
          33,
          33,
          33,
          33,
          33,
          33,
          28,
          28,
          28,
          28,
          28,
          28,
          28,
          28,
          34,
          22,
          22,
          24,
          26,
          26,
          26,
          26,
          26,
          26,
          26,
          26,
          26,
          20,
          19,
          18,
          19,
          20,
          19,
          19,
          18,
          19,
          19,
          19,
          19,
          19,
          18,
          20,
          20,
          19,
          20
         ],
         "xaxis": "x",
         "y": [
          0,
          42650,
          54375,
          50789,
          39265,
          50480,
          0,
          9540,
          18599,
          0,
          71357,
          33628,
          60786,
          120812,
          18620,
          15805,
          19942,
          24021,
          0,
          39393,
          52814,
          48936,
          25546,
          48453,
          0,
          9521,
          18430,
          0,
          69468,
          32382,
          59218,
          117375,
          16232,
          19507,
          23697,
          0,
          24904,
          50535,
          46106,
          44415,
          0,
          9488,
          18197,
          0,
          66655,
          31140,
          57019,
          111842,
          4298,
          18699,
          23317,
          0,
          47320,
          41868,
          27606,
          0,
          9451,
          18004,
          0,
          63099,
          29858,
          54002,
          104409,
          17338,
          22921,
          0,
          42611,
          25707,
          9404,
          17777,
          0,
          59038,
          28387,
          50017,
          97039,
          14438,
          22431,
          0,
          25216,
          9351,
          17489,
          0,
          53307,
          26784,
          42500,
          88838,
          4266,
          21618,
          0,
          9263,
          17245,
          0,
          44930,
          24837,
          24631,
          76038,
          20827,
          0,
          9112,
          16805,
          0,
          12838,
          22599,
          52156,
          19597,
          8949,
          16452,
          0,
          20325,
          17961,
          18470,
          17956,
          979,
          12127,
          13236,
          4314,
          11042,
          47658,
          6402,
          16828,
          4795,
          1656,
          1051,
          17422,
          11730,
          12802,
          1846,
          10671,
          46793,
          3681,
          16338,
          1741,
          1,
          27,
          10,
          18,
          4,
          15,
          18,
          85,
          16,
          96,
          87,
          2120,
          1428,
          1179,
          5467,
          4734,
          5170,
          3931,
          10487,
          9370,
          14684,
          22054,
          27,
          10,
          18,
          2,
          8,
          18,
          85,
          12,
          96,
          87,
          16102,
          6567,
          41307,
          7118,
          23991,
          27,
          71,
          27,
          15,
          32,
          93,
          28,
          10,
          18,
          6,
          18,
          85,
          12,
          96,
          88,
          7,
          71,
          28,
          11,
          31,
          93,
          28,
          71,
          27,
          20,
          32,
          93,
          19,
          70,
          26,
          14,
          33,
          93,
          26,
          70,
          26,
          15,
          32,
          93,
          16,
          166,
          871,
          259,
          569,
          6,
          71,
          24,
          9,
          30,
          93,
          1530,
          22102,
          5745,
          6973,
          5238,
          5593,
          2948,
          4808,
          2121,
          1462,
          6038,
          5321,
          3930,
          11865,
          16126,
          22915,
          2122,
          1464,
          6471,
          5462,
          3925,
          12962,
          16736,
          23474,
          14617,
          6504,
          40378,
          23189,
          9142,
          6387,
          38935,
          21960,
          16890,
          11127,
          12310,
          10234,
          45616,
          15713,
          2122,
          1466,
          6713,
          5539,
          3926,
          13516,
          16921,
          23876,
          28,
          8,
          17,
          18,
          85,
          4,
          96,
          86,
          5,
          20,
          4,
          14,
          44,
          8,
          10,
          27,
          18,
          10,
          5,
          18,
          4,
          14,
          44,
          2,
          7,
          27,
          18,
          6,
          5,
          20,
          4,
          14,
          44,
          8,
          10,
          27,
          18,
          9,
          5,
          20,
          4,
          14,
          44,
          9,
          11,
          27,
          18,
          10,
          6714,
          8594,
          6609,
          4773,
          17145,
          6330,
          184,
          5,
          20,
          4,
          14,
          44,
          6,
          9,
          27,
          18,
          6,
          70,
          21,
          7,
          14,
          94,
          15810,
          10054,
          11590,
          9495,
          42943,
          14333,
          28,
          2,
          8,
          18,
          79,
          96,
          85,
          1,
          18,
          4,
          14,
          44,
          6,
          27,
          14,
          3,
          13653,
          8474,
          10415,
          7869,
          37977,
          11419,
          10547,
          3349,
          8512,
          3796,
          29665,
          6078,
          1,
          20,
          3,
          14,
          45,
          0,
          27,
          9,
          2119,
          2954,
          4925,
          3922,
          8182,
          12717,
          20899,
          21201,
          5421,
          6643,
          4704,
          5358,
          990,
          4484,
          1,
          22,
          3,
          13,
          44,
          27,
          9,
          6235,
          36959,
          19922,
          6088,
          35233,
          17480,
          5921,
          32911,
          10963,
          29,
          594,
          258,
          562,
          6391,
          7796,
          5781,
          4726,
          16659,
          6242,
          6602,
          8510,
          6350,
          4760,
          16966,
          6292,
          7399,
          7914,
          5995,
          2701,
          3534,
          4652,
          16080,
          6059,
          70,
          15,
          4,
          94,
          20061,
          4835,
          6146,
          1506,
          4995,
          3900,
          20,
          3,
          13,
          43,
          24,
          2,
          20,
          2,
          14,
          27,
          95,
          82,
          27,
          3,
          16,
          55,
          95,
          83,
          136,
          136,
          136,
          2119,
          4303,
          3901,
          3826,
          11106,
          19789,
          16,
          13,
          6,
          95,
          82,
          1,
          5,
          1,
          58,
          4,
          94,
          42,
          256,
          547,
          48,
          16,
          61,
          1623,
          5488,
          1044,
          622,
          1387,
          1417,
          1029,
          611,
          174,
          1148,
          1043,
          11,
          6,
          10,
          18449,
          967,
          5543,
          4458,
          3198,
          16,
          11,
          2,
          5011,
          7819,
          5353,
          22101,
          5687,
          29522,
          9,
          5,
          1,
          18,
          10,
          0,
          17,
          5,
          0,
          0,
          0,
          33,
          132,
          143,
          23,
          9,
          9,
          17131,
          4936,
          3889,
          1807,
          723,
          1005,
          569,
          1230,
          1022,
          599,
          2114,
          2280,
          1481,
          8943,
          17808,
          16,
          128,
          143,
          3300,
          2328,
          11491,
          46,
          131,
          144,
          5520,
          4465,
          15398,
          1607,
          481,
          342,
          481,
          400,
          537,
          968,
          586,
          86,
          805,
          468,
          572,
          597,
          620,
          551,
          575,
          1054,
          1015,
          588,
          1348,
          1149,
          713,
          1286,
          1142,
          289,
          1330,
          1145,
          537,
          3,
          8,
          86,
          82,
          15296,
          3983,
          1361,
          70,
          87,
          45,
          31,
          70,
          5,
          39,
          12,
          1341,
          1148,
          635,
          1349,
          1149,
          737,
          60,
          75,
          99,
          121,
          0,
          4060,
          2957,
          0,
          2789,
          5233,
          3228,
          4898,
          3061,
          658,
          2877,
          14,
          30,
          480,
          343,
          481,
          399,
          524,
          967,
          586,
          802,
          459,
          314,
          479,
          393,
          117,
          953,
          577,
          577,
          476,
          340,
          484,
          397,
          453,
          959,
          581,
          771,
          478,
          342,
          481,
          398,
          485,
          963,
          585,
          787,
          4562,
          0,
          11,
          11,
          11,
          11,
          11,
          11,
          7,
          9,
          11,
          11,
          11,
          3337,
          1074,
          13590,
          72,
          12,
          12,
          40,
          10,
          952,
          463,
          4777,
          3738,
          14582,
          2,
          16,
          2,
          34,
          56,
          4,
          46,
          67,
          233,
          150,
          894,
          402,
          0,
          28,
          114,
          142,
          63,
          36,
          52,
          60,
          57,
          57,
          66,
          68,
          71,
          1166,
          1122,
          1229,
          1129,
          329,
          1082,
          1073,
          1101,
          218,
          20,
          255,
          544,
          1095,
          252,
          517,
          247,
          484,
          246,
          324,
          2104,
          1658,
          13127,
          987,
          533,
          979,
          508,
          333,
          380,
          340,
          340,
          396,
          365,
          338,
          8,
          323,
          394,
          9,
          9,
          0,
          2726,
          2382,
          1185,
          2400,
          1265,
          2406,
          1347,
          2357,
          1125,
          2413,
          1361,
          738,
          656,
          681,
          727,
          656,
          679,
          721,
          656,
          671,
          448,
          255,
          472,
          383,
          949,
          575,
          17,
          8,
          15,
          43,
          16,
          20,
          52,
          1649,
          2392,
          43,
          144,
          13,
          144,
          93,
          142,
          664,
          639,
          634,
          1116,
          158,
          1170,
          1497,
          715,
          655,
          668,
          705,
          653,
          657,
          22,
          9,
          23,
          9,
          1145,
          601,
          1219,
          1641,
          13250,
          2192,
          406,
          76,
          468,
          380,
          939,
          574,
          77,
          24,
          47,
          36,
          78,
          23,
          47,
          36,
          73,
          22,
          46,
          28,
          74,
          24,
          47,
          35,
          138,
          76,
          24,
          47,
          36,
          610,
          406,
          109,
          103,
          26,
          15,
          6,
          801,
          1,
          10428,
          523,
          426,
          658,
          638,
          633,
          699,
          647,
          648,
          685,
          642,
          640,
          6,
          2360,
          8247,
          21,
          12,
          441,
          951,
          1006,
          969,
          788,
          255,
          27,
          262,
          262,
          258,
          253,
          251,
          260,
          251,
          253,
          25,
          4,
          184,
          191,
          180,
          193,
          139,
          169,
          174,
          180,
          151,
          109,
          88,
          24,
          71,
          27,
          3,
          6,
          159,
          150,
          109,
          65,
          24,
          109,
          17,
          23,
          129,
          24,
          19,
          27,
          22,
          5,
          14,
          53,
          106,
          1568,
          3827,
          61,
          36,
          25,
          100,
          2292,
          4776,
          5156,
          68,
          5576,
          5871,
          4206,
          6060,
          6157,
          55,
          45,
          299,
          462,
          370,
          935,
          571,
          57,
          452,
          341,
          926,
          568,
          32,
          46,
          2,
          41,
          29,
          10,
          13,
          25,
          2,
          89,
          17,
          106,
          21,
          6079,
          6408,
          6362,
          1798,
          6280,
          6,
          4,
          12,
          21,
          7,
          19,
          0,
          21,
          19,
          117,
          95,
          76,
          129,
          8,
          305,
          114,
          83,
          75,
          128,
          114,
          92,
          76,
          112,
          17,
          32,
          15,
          16,
          4909,
          154,
          7297,
          22,
          148,
          129,
          310,
          182,
          313,
          17,
          309,
          187,
          315,
          114,
          91,
          76,
          111,
          186,
          316,
          188,
          315,
          110,
          34,
          73,
          111,
          248,
          180,
          0,
          85,
          95,
          84,
          93,
          84,
          90,
          70,
          49,
          2036,
          2409,
          2409,
          342,
          8,
          2411,
          0,
          110,
          56,
          76,
          119,
          158,
          40,
          16,
          6,
          2,
          0,
          22,
          99,
          104,
          97,
          43,
          55,
          104,
          103,
          97,
          91,
          31,
          21,
          71,
          20,
          13,
          12,
          24,
          17,
          76,
          21,
          162,
          39,
          4,
          7,
          0,
          289,
          461,
          398,
          95,
          675,
          79,
          34,
          76,
          79,
          62,
          60,
          79,
          69,
          49,
          18,
          68,
          23,
          7,
          161,
          10,
          126,
          159,
          40,
          16,
          0,
          5,
          158,
          40,
          16,
          0,
          17,
          158,
          41,
          16,
          0,
          22,
          158,
          40,
          17,
          0,
          22,
          162,
          40,
          12,
          0,
          2,
          980,
          187,
          90,
          669,
          74,
          666,
          91,
          671,
          48,
          662,
          39,
          516,
          4656,
          1304,
          3965,
          4999,
          158,
          41,
          16,
          0,
          0,
          22,
          158,
          40,
          16,
          8,
          0,
          22,
          240,
          79,
          61,
          19,
          31,
          31,
          29,
          28,
          6,
          64,
          67,
          67,
          27,
          21,
          21,
          62,
          66,
          26701,
          40661,
          62,
          4,
          123,
          121,
          121,
          121,
          121,
          123,
          121,
          26,
          121,
          78,
          2152,
          1575,
          4618,
          129,
          4850,
          1956,
          5000,
          2079,
          22,
          36,
          33,
          56,
          181,
          466,
          104,
          130,
          66,
          89,
          3,
          3,
          2,
          106,
          335,
          340,
          177,
          124,
          317,
          348,
          270,
          421,
          9,
          8,
          27,
          8,
          4948,
          2043,
          4628,
          1381,
          4750,
          1840,
          0,
          7,
          1,
          61,
          61,
          61,
          61,
          60,
          71,
          20,
          6,
          469,
          69,
          63,
          70,
          54,
          30,
          76,
          73,
          10,
          3,
          23,
          17,
          27,
          20,
          22,
          28,
          28,
          10,
          13,
          35,
          2506,
          2463,
          2491,
          2484,
          24,
          64,
          24,
          2510,
          25,
          2541,
          50,
          2558,
          66,
          0,
          6,
          2549,
          63,
          2522,
          48,
          24,
          0,
          47,
          302,
          0,
          1,
          0,
          1,
          0,
          1,
          0,
          1,
          25,
          14,
          26,
          39,
          27,
          39,
          26,
          39,
          26,
          39,
          27,
          40,
          747,
          9,
          4,
          29,
          658,
          354,
          578,
          782,
          105,
          1718,
          16,
          321,
          389,
          345,
          368,
          260,
          359,
          93,
          79,
          89,
          382,
          89,
          8,
          27,
          39,
          2167,
          6705,
          40,
          191,
          9,
          26,
          71,
          52,
          18,
          16,
          20,
          27,
          39,
          26,
          39,
          26,
          39,
          2165,
          6359,
          13,
          27,
          12,
          27,
          13,
          27,
          9,
          27,
          187,
          105,
          175,
          149,
          179,
          186,
          80,
          187,
          181,
          4447,
          9,
          1842,
          1970,
          2,
          7,
          56,
          38,
          57,
          38,
          58,
          30,
          57,
          50,
          33,
          339,
          318,
          70,
          246,
          112,
          81,
          29,
          86,
          4,
          3,
          3,
          4,
          3,
          3,
          3,
          0,
          3,
          3,
          13,
          43,
          3112,
          2913,
          2834,
          904,
          3036,
          2515,
          3088,
          2944,
          2,
          14,
          27,
          14,
          27,
          13,
          27,
          13,
          27,
          4124,
          2631,
          2060,
          9,
          20,
          20,
          20,
          20,
          20,
          20,
          20,
          20,
          20,
          34,
          34,
          34,
          34,
          25,
          34,
          33,
          33,
          14,
          291,
          1283,
          1324,
          966,
          1242,
          1334,
          1344,
          1309,
          1299,
          909,
          0,
          0,
          0,
          0,
          0,
          0,
          0,
          0,
          32,
          1,
          6,
          5,
          135,
          148,
          132,
          112,
          142,
          144,
          77,
          148,
          144,
          32,
          57,
          27,
          48,
          21,
          57,
          54,
          4,
          49,
          57,
          57,
          57,
          8,
          31,
          32,
          33,
          51,
          33
         ],
         "yaxis": "y"
        }
       ],
       "layout": {
        "legend": {
         "tracegroupgap": 0
        },
        "margin": {
         "t": 60
        },
        "template": {
         "data": {
          "bar": [
           {
            "error_x": {
             "color": "#2a3f5f"
            },
            "error_y": {
             "color": "#2a3f5f"
            },
            "marker": {
             "line": {
              "color": "#E5ECF6",
              "width": 0.5
             },
             "pattern": {
              "fillmode": "overlay",
              "size": 10,
              "solidity": 0.2
             }
            },
            "type": "bar"
           }
          ],
          "barpolar": [
           {
            "marker": {
             "line": {
              "color": "#E5ECF6",
              "width": 0.5
             },
             "pattern": {
              "fillmode": "overlay",
              "size": 10,
              "solidity": 0.2
             }
            },
            "type": "barpolar"
           }
          ],
          "carpet": [
           {
            "aaxis": {
             "endlinecolor": "#2a3f5f",
             "gridcolor": "white",
             "linecolor": "white",
             "minorgridcolor": "white",
             "startlinecolor": "#2a3f5f"
            },
            "baxis": {
             "endlinecolor": "#2a3f5f",
             "gridcolor": "white",
             "linecolor": "white",
             "minorgridcolor": "white",
             "startlinecolor": "#2a3f5f"
            },
            "type": "carpet"
           }
          ],
          "choropleth": [
           {
            "colorbar": {
             "outlinewidth": 0,
             "ticks": ""
            },
            "type": "choropleth"
           }
          ],
          "contour": [
           {
            "colorbar": {
             "outlinewidth": 0,
             "ticks": ""
            },
            "colorscale": [
             [
              0,
              "#0d0887"
             ],
             [
              0.1111111111111111,
              "#46039f"
             ],
             [
              0.2222222222222222,
              "#7201a8"
             ],
             [
              0.3333333333333333,
              "#9c179e"
             ],
             [
              0.4444444444444444,
              "#bd3786"
             ],
             [
              0.5555555555555556,
              "#d8576b"
             ],
             [
              0.6666666666666666,
              "#ed7953"
             ],
             [
              0.7777777777777778,
              "#fb9f3a"
             ],
             [
              0.8888888888888888,
              "#fdca26"
             ],
             [
              1,
              "#f0f921"
             ]
            ],
            "type": "contour"
           }
          ],
          "contourcarpet": [
           {
            "colorbar": {
             "outlinewidth": 0,
             "ticks": ""
            },
            "type": "contourcarpet"
           }
          ],
          "heatmap": [
           {
            "colorbar": {
             "outlinewidth": 0,
             "ticks": ""
            },
            "colorscale": [
             [
              0,
              "#0d0887"
             ],
             [
              0.1111111111111111,
              "#46039f"
             ],
             [
              0.2222222222222222,
              "#7201a8"
             ],
             [
              0.3333333333333333,
              "#9c179e"
             ],
             [
              0.4444444444444444,
              "#bd3786"
             ],
             [
              0.5555555555555556,
              "#d8576b"
             ],
             [
              0.6666666666666666,
              "#ed7953"
             ],
             [
              0.7777777777777778,
              "#fb9f3a"
             ],
             [
              0.8888888888888888,
              "#fdca26"
             ],
             [
              1,
              "#f0f921"
             ]
            ],
            "type": "heatmap"
           }
          ],
          "heatmapgl": [
           {
            "colorbar": {
             "outlinewidth": 0,
             "ticks": ""
            },
            "colorscale": [
             [
              0,
              "#0d0887"
             ],
             [
              0.1111111111111111,
              "#46039f"
             ],
             [
              0.2222222222222222,
              "#7201a8"
             ],
             [
              0.3333333333333333,
              "#9c179e"
             ],
             [
              0.4444444444444444,
              "#bd3786"
             ],
             [
              0.5555555555555556,
              "#d8576b"
             ],
             [
              0.6666666666666666,
              "#ed7953"
             ],
             [
              0.7777777777777778,
              "#fb9f3a"
             ],
             [
              0.8888888888888888,
              "#fdca26"
             ],
             [
              1,
              "#f0f921"
             ]
            ],
            "type": "heatmapgl"
           }
          ],
          "histogram": [
           {
            "marker": {
             "pattern": {
              "fillmode": "overlay",
              "size": 10,
              "solidity": 0.2
             }
            },
            "type": "histogram"
           }
          ],
          "histogram2d": [
           {
            "colorbar": {
             "outlinewidth": 0,
             "ticks": ""
            },
            "colorscale": [
             [
              0,
              "#0d0887"
             ],
             [
              0.1111111111111111,
              "#46039f"
             ],
             [
              0.2222222222222222,
              "#7201a8"
             ],
             [
              0.3333333333333333,
              "#9c179e"
             ],
             [
              0.4444444444444444,
              "#bd3786"
             ],
             [
              0.5555555555555556,
              "#d8576b"
             ],
             [
              0.6666666666666666,
              "#ed7953"
             ],
             [
              0.7777777777777778,
              "#fb9f3a"
             ],
             [
              0.8888888888888888,
              "#fdca26"
             ],
             [
              1,
              "#f0f921"
             ]
            ],
            "type": "histogram2d"
           }
          ],
          "histogram2dcontour": [
           {
            "colorbar": {
             "outlinewidth": 0,
             "ticks": ""
            },
            "colorscale": [
             [
              0,
              "#0d0887"
             ],
             [
              0.1111111111111111,
              "#46039f"
             ],
             [
              0.2222222222222222,
              "#7201a8"
             ],
             [
              0.3333333333333333,
              "#9c179e"
             ],
             [
              0.4444444444444444,
              "#bd3786"
             ],
             [
              0.5555555555555556,
              "#d8576b"
             ],
             [
              0.6666666666666666,
              "#ed7953"
             ],
             [
              0.7777777777777778,
              "#fb9f3a"
             ],
             [
              0.8888888888888888,
              "#fdca26"
             ],
             [
              1,
              "#f0f921"
             ]
            ],
            "type": "histogram2dcontour"
           }
          ],
          "mesh3d": [
           {
            "colorbar": {
             "outlinewidth": 0,
             "ticks": ""
            },
            "type": "mesh3d"
           }
          ],
          "parcoords": [
           {
            "line": {
             "colorbar": {
              "outlinewidth": 0,
              "ticks": ""
             }
            },
            "type": "parcoords"
           }
          ],
          "pie": [
           {
            "automargin": true,
            "type": "pie"
           }
          ],
          "scatter": [
           {
            "fillpattern": {
             "fillmode": "overlay",
             "size": 10,
             "solidity": 0.2
            },
            "type": "scatter"
           }
          ],
          "scatter3d": [
           {
            "line": {
             "colorbar": {
              "outlinewidth": 0,
              "ticks": ""
             }
            },
            "marker": {
             "colorbar": {
              "outlinewidth": 0,
              "ticks": ""
             }
            },
            "type": "scatter3d"
           }
          ],
          "scattercarpet": [
           {
            "marker": {
             "colorbar": {
              "outlinewidth": 0,
              "ticks": ""
             }
            },
            "type": "scattercarpet"
           }
          ],
          "scattergeo": [
           {
            "marker": {
             "colorbar": {
              "outlinewidth": 0,
              "ticks": ""
             }
            },
            "type": "scattergeo"
           }
          ],
          "scattergl": [
           {
            "marker": {
             "colorbar": {
              "outlinewidth": 0,
              "ticks": ""
             }
            },
            "type": "scattergl"
           }
          ],
          "scattermapbox": [
           {
            "marker": {
             "colorbar": {
              "outlinewidth": 0,
              "ticks": ""
             }
            },
            "type": "scattermapbox"
           }
          ],
          "scatterpolar": [
           {
            "marker": {
             "colorbar": {
              "outlinewidth": 0,
              "ticks": ""
             }
            },
            "type": "scatterpolar"
           }
          ],
          "scatterpolargl": [
           {
            "marker": {
             "colorbar": {
              "outlinewidth": 0,
              "ticks": ""
             }
            },
            "type": "scatterpolargl"
           }
          ],
          "scatterternary": [
           {
            "marker": {
             "colorbar": {
              "outlinewidth": 0,
              "ticks": ""
             }
            },
            "type": "scatterternary"
           }
          ],
          "surface": [
           {
            "colorbar": {
             "outlinewidth": 0,
             "ticks": ""
            },
            "colorscale": [
             [
              0,
              "#0d0887"
             ],
             [
              0.1111111111111111,
              "#46039f"
             ],
             [
              0.2222222222222222,
              "#7201a8"
             ],
             [
              0.3333333333333333,
              "#9c179e"
             ],
             [
              0.4444444444444444,
              "#bd3786"
             ],
             [
              0.5555555555555556,
              "#d8576b"
             ],
             [
              0.6666666666666666,
              "#ed7953"
             ],
             [
              0.7777777777777778,
              "#fb9f3a"
             ],
             [
              0.8888888888888888,
              "#fdca26"
             ],
             [
              1,
              "#f0f921"
             ]
            ],
            "type": "surface"
           }
          ],
          "table": [
           {
            "cells": {
             "fill": {
              "color": "#EBF0F8"
             },
             "line": {
              "color": "white"
             }
            },
            "header": {
             "fill": {
              "color": "#C8D4E3"
             },
             "line": {
              "color": "white"
             }
            },
            "type": "table"
           }
          ]
         },
         "layout": {
          "annotationdefaults": {
           "arrowcolor": "#2a3f5f",
           "arrowhead": 0,
           "arrowwidth": 1
          },
          "autotypenumbers": "strict",
          "coloraxis": {
           "colorbar": {
            "outlinewidth": 0,
            "ticks": ""
           }
          },
          "colorscale": {
           "diverging": [
            [
             0,
             "#8e0152"
            ],
            [
             0.1,
             "#c51b7d"
            ],
            [
             0.2,
             "#de77ae"
            ],
            [
             0.3,
             "#f1b6da"
            ],
            [
             0.4,
             "#fde0ef"
            ],
            [
             0.5,
             "#f7f7f7"
            ],
            [
             0.6,
             "#e6f5d0"
            ],
            [
             0.7,
             "#b8e186"
            ],
            [
             0.8,
             "#7fbc41"
            ],
            [
             0.9,
             "#4d9221"
            ],
            [
             1,
             "#276419"
            ]
           ],
           "sequential": [
            [
             0,
             "#0d0887"
            ],
            [
             0.1111111111111111,
             "#46039f"
            ],
            [
             0.2222222222222222,
             "#7201a8"
            ],
            [
             0.3333333333333333,
             "#9c179e"
            ],
            [
             0.4444444444444444,
             "#bd3786"
            ],
            [
             0.5555555555555556,
             "#d8576b"
            ],
            [
             0.6666666666666666,
             "#ed7953"
            ],
            [
             0.7777777777777778,
             "#fb9f3a"
            ],
            [
             0.8888888888888888,
             "#fdca26"
            ],
            [
             1,
             "#f0f921"
            ]
           ],
           "sequentialminus": [
            [
             0,
             "#0d0887"
            ],
            [
             0.1111111111111111,
             "#46039f"
            ],
            [
             0.2222222222222222,
             "#7201a8"
            ],
            [
             0.3333333333333333,
             "#9c179e"
            ],
            [
             0.4444444444444444,
             "#bd3786"
            ],
            [
             0.5555555555555556,
             "#d8576b"
            ],
            [
             0.6666666666666666,
             "#ed7953"
            ],
            [
             0.7777777777777778,
             "#fb9f3a"
            ],
            [
             0.8888888888888888,
             "#fdca26"
            ],
            [
             1,
             "#f0f921"
            ]
           ]
          },
          "colorway": [
           "#636efa",
           "#EF553B",
           "#00cc96",
           "#ab63fa",
           "#FFA15A",
           "#19d3f3",
           "#FF6692",
           "#B6E880",
           "#FF97FF",
           "#FECB52"
          ],
          "font": {
           "color": "#2a3f5f"
          },
          "geo": {
           "bgcolor": "white",
           "lakecolor": "white",
           "landcolor": "#E5ECF6",
           "showlakes": true,
           "showland": true,
           "subunitcolor": "white"
          },
          "hoverlabel": {
           "align": "left"
          },
          "hovermode": "closest",
          "mapbox": {
           "style": "light"
          },
          "paper_bgcolor": "white",
          "plot_bgcolor": "#E5ECF6",
          "polar": {
           "angularaxis": {
            "gridcolor": "white",
            "linecolor": "white",
            "ticks": ""
           },
           "bgcolor": "#E5ECF6",
           "radialaxis": {
            "gridcolor": "white",
            "linecolor": "white",
            "ticks": ""
           }
          },
          "scene": {
           "xaxis": {
            "backgroundcolor": "#E5ECF6",
            "gridcolor": "white",
            "gridwidth": 2,
            "linecolor": "white",
            "showbackground": true,
            "ticks": "",
            "zerolinecolor": "white"
           },
           "yaxis": {
            "backgroundcolor": "#E5ECF6",
            "gridcolor": "white",
            "gridwidth": 2,
            "linecolor": "white",
            "showbackground": true,
            "ticks": "",
            "zerolinecolor": "white"
           },
           "zaxis": {
            "backgroundcolor": "#E5ECF6",
            "gridcolor": "white",
            "gridwidth": 2,
            "linecolor": "white",
            "showbackground": true,
            "ticks": "",
            "zerolinecolor": "white"
           }
          },
          "shapedefaults": {
           "line": {
            "color": "#2a3f5f"
           }
          },
          "ternary": {
           "aaxis": {
            "gridcolor": "white",
            "linecolor": "white",
            "ticks": ""
           },
           "baxis": {
            "gridcolor": "white",
            "linecolor": "white",
            "ticks": ""
           },
           "bgcolor": "#E5ECF6",
           "caxis": {
            "gridcolor": "white",
            "linecolor": "white",
            "ticks": ""
           }
          },
          "title": {
           "x": 0.05
          },
          "xaxis": {
           "automargin": true,
           "gridcolor": "white",
           "linecolor": "white",
           "ticks": "",
           "title": {
            "standoff": 15
           },
           "zerolinecolor": "white",
           "zerolinewidth": 2
          },
          "yaxis": {
           "automargin": true,
           "gridcolor": "white",
           "linecolor": "white",
           "ticks": "",
           "title": {
            "standoff": 15
           },
           "zerolinecolor": "white",
           "zerolinewidth": 2
          }
         }
        },
        "xaxis": {
         "anchor": "y",
         "domain": [
          0,
          1
         ],
         "title": {
          "text": "TOTAL_CARACTERE_VIDEO"
         }
        },
        "yaxis": {
         "anchor": "x",
         "domain": [
          0,
          1
         ],
         "title": {
          "text": "TOTAL_VISUALIZACOES"
         }
        }
       }
      }
     },
     "metadata": {},
     "output_type": "display_data"
    }
   ],
   "source": [
    "df_tamanho_titulo_vi = spark.sql('SELECT TOTAL_CARACTERE_VIDEO, TOTAL_VISUALIZACOES FROM METRICAS_VIDEO').toPandas()\n",
    "fig = px.scatter(df_tamanho_titulo_vi, x='TOTAL_CARACTERE_VIDEO', y='TOTAL_VISUALIZACOES')\n",
    "fig.show()\n"
   ]
  },
  {
   "cell_type": "markdown",
   "metadata": {},
   "source": [
    "# Total Víews DIA por Vídeo"
   ]
  },
  {
   "cell_type": "code",
   "execution_count": 76,
   "metadata": {},
   "outputs": [
    {
     "data": {
      "application/vnd.plotly.v1+json": {
       "config": {
        "plotlyServerURL": "https://plot.ly"
       },
       "data": [
        {
         "alignmentgroup": "True",
         "hovertemplate": "TOTAL_VISUALIZACOES_DIA=%{x}<br>TITULO_VIDEO=%{y}<extra></extra>",
         "legendgroup": "",
         "marker": {
          "color": "#636efa",
          "pattern": {
           "shape": ""
          }
         },
         "name": "",
         "offsetgroup": "",
         "orientation": "h",
         "showlegend": false,
         "textposition": "auto",
         "texttemplate": "%{x}",
         "type": "bar",
         "x": [
          19,
          169,
          324,
          435,
          1246,
          1561,
          1568,
          1853,
          1889,
          2027,
          2388,
          3257,
          3437,
          13719,
          15805
         ],
         "xaxis": "x",
         "y": [
          "MODDERS decidem fazer O MELHOR JOGO DE GERENCIMENTO COM COMBATE TÁTICO? 🎖️ - Ascent of Ashes",
          "Planejamento inicial PODE SALVAR SUA CIDADE! 🚗 - Cities Skylines  - CONSERTANDO O TRÂNSITO",
          "SIMULADOR DE PLATAFORMA DE PETRÓLEO DA PETROBRÁS! ⛽ - Drill Deal",
          "Vias coletoras/arteriais e avenidas - Guia de planejamento - Cities Skylines 2",
          "DO CRIADOR DA MELHOR CIDADE JÁ FEITA, A NOVA MELHOR CIDADE? 🏢 - Cities Skylines Showcase",
          "SUPER SUBÚRBIO FAZ ALCANÇAR 10000 HABITANTES 🏙️ - Cities Skylines 2 #4",
          "PRIMEIRA PRAÇA DA CIDADE SAI DO PAPEL 🏙️ - Cities Skylines 2 #3",
          "POLUIÇÃO FORÇA MIGRAÇÃO DA INDÚSTRIA PARA NOVO DISTRITO 🏙️ - Cities Skylines 2 #5",
          "PEQUENA FORTUNA EM SERVIÇOS PÚBLICOS BÁSICOS 🏙️ - Cities Skylines 2 #2",
          "BALSAS, BUSÕES E BONDES SALVARAM TRÂNSITO? 🏙️ - Cities Skylines 2 #6",
          "Vias expressas/Rodovias e aneis rodoviários - Guia de planejamento - Cities Skylines 2",
          "PREFEITURA E PREVIDÊNCIA CHEGAM A CIDADE! 🏙️ - Cities Skylines 2 #7",
          "MELHOR JOGO DE CONSTRUIR CIDADES CHEGOU E ESTÁ LINDO 🏙️ - Cities Skylines 2",
          "TRANSPORTE PÚBLICO DE MASSA COM TRENS! 🏙️ - Cities Skylines 2 #8",
          "OBRAS DO ANEL RODOVIÁRIO COMPLETA! 🏙️ - Cities Skylines 2 #9"
         ],
         "yaxis": "y"
        }
       ],
       "layout": {
        "barmode": "relative",
        "legend": {
         "tracegroupgap": 0
        },
        "margin": {
         "t": 60
        },
        "template": {
         "data": {
          "bar": [
           {
            "error_x": {
             "color": "#2a3f5f"
            },
            "error_y": {
             "color": "#2a3f5f"
            },
            "marker": {
             "line": {
              "color": "#E5ECF6",
              "width": 0.5
             },
             "pattern": {
              "fillmode": "overlay",
              "size": 10,
              "solidity": 0.2
             }
            },
            "type": "bar"
           }
          ],
          "barpolar": [
           {
            "marker": {
             "line": {
              "color": "#E5ECF6",
              "width": 0.5
             },
             "pattern": {
              "fillmode": "overlay",
              "size": 10,
              "solidity": 0.2
             }
            },
            "type": "barpolar"
           }
          ],
          "carpet": [
           {
            "aaxis": {
             "endlinecolor": "#2a3f5f",
             "gridcolor": "white",
             "linecolor": "white",
             "minorgridcolor": "white",
             "startlinecolor": "#2a3f5f"
            },
            "baxis": {
             "endlinecolor": "#2a3f5f",
             "gridcolor": "white",
             "linecolor": "white",
             "minorgridcolor": "white",
             "startlinecolor": "#2a3f5f"
            },
            "type": "carpet"
           }
          ],
          "choropleth": [
           {
            "colorbar": {
             "outlinewidth": 0,
             "ticks": ""
            },
            "type": "choropleth"
           }
          ],
          "contour": [
           {
            "colorbar": {
             "outlinewidth": 0,
             "ticks": ""
            },
            "colorscale": [
             [
              0,
              "#0d0887"
             ],
             [
              0.1111111111111111,
              "#46039f"
             ],
             [
              0.2222222222222222,
              "#7201a8"
             ],
             [
              0.3333333333333333,
              "#9c179e"
             ],
             [
              0.4444444444444444,
              "#bd3786"
             ],
             [
              0.5555555555555556,
              "#d8576b"
             ],
             [
              0.6666666666666666,
              "#ed7953"
             ],
             [
              0.7777777777777778,
              "#fb9f3a"
             ],
             [
              0.8888888888888888,
              "#fdca26"
             ],
             [
              1,
              "#f0f921"
             ]
            ],
            "type": "contour"
           }
          ],
          "contourcarpet": [
           {
            "colorbar": {
             "outlinewidth": 0,
             "ticks": ""
            },
            "type": "contourcarpet"
           }
          ],
          "heatmap": [
           {
            "colorbar": {
             "outlinewidth": 0,
             "ticks": ""
            },
            "colorscale": [
             [
              0,
              "#0d0887"
             ],
             [
              0.1111111111111111,
              "#46039f"
             ],
             [
              0.2222222222222222,
              "#7201a8"
             ],
             [
              0.3333333333333333,
              "#9c179e"
             ],
             [
              0.4444444444444444,
              "#bd3786"
             ],
             [
              0.5555555555555556,
              "#d8576b"
             ],
             [
              0.6666666666666666,
              "#ed7953"
             ],
             [
              0.7777777777777778,
              "#fb9f3a"
             ],
             [
              0.8888888888888888,
              "#fdca26"
             ],
             [
              1,
              "#f0f921"
             ]
            ],
            "type": "heatmap"
           }
          ],
          "heatmapgl": [
           {
            "colorbar": {
             "outlinewidth": 0,
             "ticks": ""
            },
            "colorscale": [
             [
              0,
              "#0d0887"
             ],
             [
              0.1111111111111111,
              "#46039f"
             ],
             [
              0.2222222222222222,
              "#7201a8"
             ],
             [
              0.3333333333333333,
              "#9c179e"
             ],
             [
              0.4444444444444444,
              "#bd3786"
             ],
             [
              0.5555555555555556,
              "#d8576b"
             ],
             [
              0.6666666666666666,
              "#ed7953"
             ],
             [
              0.7777777777777778,
              "#fb9f3a"
             ],
             [
              0.8888888888888888,
              "#fdca26"
             ],
             [
              1,
              "#f0f921"
             ]
            ],
            "type": "heatmapgl"
           }
          ],
          "histogram": [
           {
            "marker": {
             "pattern": {
              "fillmode": "overlay",
              "size": 10,
              "solidity": 0.2
             }
            },
            "type": "histogram"
           }
          ],
          "histogram2d": [
           {
            "colorbar": {
             "outlinewidth": 0,
             "ticks": ""
            },
            "colorscale": [
             [
              0,
              "#0d0887"
             ],
             [
              0.1111111111111111,
              "#46039f"
             ],
             [
              0.2222222222222222,
              "#7201a8"
             ],
             [
              0.3333333333333333,
              "#9c179e"
             ],
             [
              0.4444444444444444,
              "#bd3786"
             ],
             [
              0.5555555555555556,
              "#d8576b"
             ],
             [
              0.6666666666666666,
              "#ed7953"
             ],
             [
              0.7777777777777778,
              "#fb9f3a"
             ],
             [
              0.8888888888888888,
              "#fdca26"
             ],
             [
              1,
              "#f0f921"
             ]
            ],
            "type": "histogram2d"
           }
          ],
          "histogram2dcontour": [
           {
            "colorbar": {
             "outlinewidth": 0,
             "ticks": ""
            },
            "colorscale": [
             [
              0,
              "#0d0887"
             ],
             [
              0.1111111111111111,
              "#46039f"
             ],
             [
              0.2222222222222222,
              "#7201a8"
             ],
             [
              0.3333333333333333,
              "#9c179e"
             ],
             [
              0.4444444444444444,
              "#bd3786"
             ],
             [
              0.5555555555555556,
              "#d8576b"
             ],
             [
              0.6666666666666666,
              "#ed7953"
             ],
             [
              0.7777777777777778,
              "#fb9f3a"
             ],
             [
              0.8888888888888888,
              "#fdca26"
             ],
             [
              1,
              "#f0f921"
             ]
            ],
            "type": "histogram2dcontour"
           }
          ],
          "mesh3d": [
           {
            "colorbar": {
             "outlinewidth": 0,
             "ticks": ""
            },
            "type": "mesh3d"
           }
          ],
          "parcoords": [
           {
            "line": {
             "colorbar": {
              "outlinewidth": 0,
              "ticks": ""
             }
            },
            "type": "parcoords"
           }
          ],
          "pie": [
           {
            "automargin": true,
            "type": "pie"
           }
          ],
          "scatter": [
           {
            "fillpattern": {
             "fillmode": "overlay",
             "size": 10,
             "solidity": 0.2
            },
            "type": "scatter"
           }
          ],
          "scatter3d": [
           {
            "line": {
             "colorbar": {
              "outlinewidth": 0,
              "ticks": ""
             }
            },
            "marker": {
             "colorbar": {
              "outlinewidth": 0,
              "ticks": ""
             }
            },
            "type": "scatter3d"
           }
          ],
          "scattercarpet": [
           {
            "marker": {
             "colorbar": {
              "outlinewidth": 0,
              "ticks": ""
             }
            },
            "type": "scattercarpet"
           }
          ],
          "scattergeo": [
           {
            "marker": {
             "colorbar": {
              "outlinewidth": 0,
              "ticks": ""
             }
            },
            "type": "scattergeo"
           }
          ],
          "scattergl": [
           {
            "marker": {
             "colorbar": {
              "outlinewidth": 0,
              "ticks": ""
             }
            },
            "type": "scattergl"
           }
          ],
          "scattermapbox": [
           {
            "marker": {
             "colorbar": {
              "outlinewidth": 0,
              "ticks": ""
             }
            },
            "type": "scattermapbox"
           }
          ],
          "scatterpolar": [
           {
            "marker": {
             "colorbar": {
              "outlinewidth": 0,
              "ticks": ""
             }
            },
            "type": "scatterpolar"
           }
          ],
          "scatterpolargl": [
           {
            "marker": {
             "colorbar": {
              "outlinewidth": 0,
              "ticks": ""
             }
            },
            "type": "scatterpolargl"
           }
          ],
          "scatterternary": [
           {
            "marker": {
             "colorbar": {
              "outlinewidth": 0,
              "ticks": ""
             }
            },
            "type": "scatterternary"
           }
          ],
          "surface": [
           {
            "colorbar": {
             "outlinewidth": 0,
             "ticks": ""
            },
            "colorscale": [
             [
              0,
              "#0d0887"
             ],
             [
              0.1111111111111111,
              "#46039f"
             ],
             [
              0.2222222222222222,
              "#7201a8"
             ],
             [
              0.3333333333333333,
              "#9c179e"
             ],
             [
              0.4444444444444444,
              "#bd3786"
             ],
             [
              0.5555555555555556,
              "#d8576b"
             ],
             [
              0.6666666666666666,
              "#ed7953"
             ],
             [
              0.7777777777777778,
              "#fb9f3a"
             ],
             [
              0.8888888888888888,
              "#fdca26"
             ],
             [
              1,
              "#f0f921"
             ]
            ],
            "type": "surface"
           }
          ],
          "table": [
           {
            "cells": {
             "fill": {
              "color": "#EBF0F8"
             },
             "line": {
              "color": "white"
             }
            },
            "header": {
             "fill": {
              "color": "#C8D4E3"
             },
             "line": {
              "color": "white"
             }
            },
            "type": "table"
           }
          ]
         },
         "layout": {
          "annotationdefaults": {
           "arrowcolor": "#2a3f5f",
           "arrowhead": 0,
           "arrowwidth": 1
          },
          "autotypenumbers": "strict",
          "coloraxis": {
           "colorbar": {
            "outlinewidth": 0,
            "ticks": ""
           }
          },
          "colorscale": {
           "diverging": [
            [
             0,
             "#8e0152"
            ],
            [
             0.1,
             "#c51b7d"
            ],
            [
             0.2,
             "#de77ae"
            ],
            [
             0.3,
             "#f1b6da"
            ],
            [
             0.4,
             "#fde0ef"
            ],
            [
             0.5,
             "#f7f7f7"
            ],
            [
             0.6,
             "#e6f5d0"
            ],
            [
             0.7,
             "#b8e186"
            ],
            [
             0.8,
             "#7fbc41"
            ],
            [
             0.9,
             "#4d9221"
            ],
            [
             1,
             "#276419"
            ]
           ],
           "sequential": [
            [
             0,
             "#0d0887"
            ],
            [
             0.1111111111111111,
             "#46039f"
            ],
            [
             0.2222222222222222,
             "#7201a8"
            ],
            [
             0.3333333333333333,
             "#9c179e"
            ],
            [
             0.4444444444444444,
             "#bd3786"
            ],
            [
             0.5555555555555556,
             "#d8576b"
            ],
            [
             0.6666666666666666,
             "#ed7953"
            ],
            [
             0.7777777777777778,
             "#fb9f3a"
            ],
            [
             0.8888888888888888,
             "#fdca26"
            ],
            [
             1,
             "#f0f921"
            ]
           ],
           "sequentialminus": [
            [
             0,
             "#0d0887"
            ],
            [
             0.1111111111111111,
             "#46039f"
            ],
            [
             0.2222222222222222,
             "#7201a8"
            ],
            [
             0.3333333333333333,
             "#9c179e"
            ],
            [
             0.4444444444444444,
             "#bd3786"
            ],
            [
             0.5555555555555556,
             "#d8576b"
            ],
            [
             0.6666666666666666,
             "#ed7953"
            ],
            [
             0.7777777777777778,
             "#fb9f3a"
            ],
            [
             0.8888888888888888,
             "#fdca26"
            ],
            [
             1,
             "#f0f921"
            ]
           ]
          },
          "colorway": [
           "#636efa",
           "#EF553B",
           "#00cc96",
           "#ab63fa",
           "#FFA15A",
           "#19d3f3",
           "#FF6692",
           "#B6E880",
           "#FF97FF",
           "#FECB52"
          ],
          "font": {
           "color": "#2a3f5f"
          },
          "geo": {
           "bgcolor": "white",
           "lakecolor": "white",
           "landcolor": "#E5ECF6",
           "showlakes": true,
           "showland": true,
           "subunitcolor": "white"
          },
          "hoverlabel": {
           "align": "left"
          },
          "hovermode": "closest",
          "mapbox": {
           "style": "light"
          },
          "paper_bgcolor": "white",
          "plot_bgcolor": "#E5ECF6",
          "polar": {
           "angularaxis": {
            "gridcolor": "white",
            "linecolor": "white",
            "ticks": ""
           },
           "bgcolor": "#E5ECF6",
           "radialaxis": {
            "gridcolor": "white",
            "linecolor": "white",
            "ticks": ""
           }
          },
          "scene": {
           "xaxis": {
            "backgroundcolor": "#E5ECF6",
            "gridcolor": "white",
            "gridwidth": 2,
            "linecolor": "white",
            "showbackground": true,
            "ticks": "",
            "zerolinecolor": "white"
           },
           "yaxis": {
            "backgroundcolor": "#E5ECF6",
            "gridcolor": "white",
            "gridwidth": 2,
            "linecolor": "white",
            "showbackground": true,
            "ticks": "",
            "zerolinecolor": "white"
           },
           "zaxis": {
            "backgroundcolor": "#E5ECF6",
            "gridcolor": "white",
            "gridwidth": 2,
            "linecolor": "white",
            "showbackground": true,
            "ticks": "",
            "zerolinecolor": "white"
           }
          },
          "shapedefaults": {
           "line": {
            "color": "#2a3f5f"
           }
          },
          "ternary": {
           "aaxis": {
            "gridcolor": "white",
            "linecolor": "white",
            "ticks": ""
           },
           "baxis": {
            "gridcolor": "white",
            "linecolor": "white",
            "ticks": ""
           },
           "bgcolor": "#E5ECF6",
           "caxis": {
            "gridcolor": "white",
            "linecolor": "white",
            "ticks": ""
           }
          },
          "title": {
           "x": 0.05
          },
          "xaxis": {
           "automargin": true,
           "gridcolor": "white",
           "linecolor": "white",
           "ticks": "",
           "title": {
            "standoff": 15
           },
           "zerolinecolor": "white",
           "zerolinewidth": 2
          },
          "yaxis": {
           "automargin": true,
           "gridcolor": "white",
           "linecolor": "white",
           "ticks": "",
           "title": {
            "standoff": 15
           },
           "zerolinecolor": "white",
           "zerolinewidth": 2
          }
         }
        },
        "xaxis": {
         "anchor": "y",
         "domain": [
          0,
          1
         ],
         "title": {
          "text": "TOTAL_VISUALIZACOES_DIA"
         }
        },
        "yaxis": {
         "anchor": "x",
         "domain": [
          0,
          1
         ],
         "title": {
          "text": "TITULO_VIDEO"
         }
        }
       }
      }
     },
     "metadata": {},
     "output_type": "display_data"
    }
   ],
   "source": [
    "df_views_video = spark.sql(' SELECT TITULO_VIDEO, TOTAL_VISUALIZACOES_DIA '  \n",
    "          ' FROM METRICAS_VIDEO ' \n",
    "          ' WHERE ID_CANAL = \"UCrOH1V-FyMunBIMrKL0y0xQ\" ' \n",
    "          ' AND data_extracao = \"2023-10-27\" '\n",
    "          ' AND TOTAL_VISUALIZACOES > 0 '\n",
    "          ' ORDER BY 2 ').toPandas()\n",
    "df_views_video.head() \n",
    "fig = px.bar(df_views_video, x='TOTAL_VISUALIZACOES_DIA', y='TITULO_VIDEO', orientation='h', text_auto=True)\n",
    "fig.show()"
   ]
  },
  {
   "cell_type": "markdown",
   "metadata": {},
   "source": [
    "# A duração do vídeo é importante para visualizações e interação (curtidas/comentários)?"
   ]
  },
  {
   "cell_type": "code",
   "execution_count": null,
   "metadata": {},
   "outputs": [],
   "source": []
  },
  {
   "cell_type": "markdown",
   "metadata": {},
   "source": [
    "# Desepenho dos vídeos (like, comentários, vísualizações) (Faça comparação)"
   ]
  },
  {
   "cell_type": "markdown",
   "metadata": {},
   "source": [
    "# Desepenho dos Canais (like, comentários, vísualizações) Faça Comparação\n"
   ]
  },
  {
   "cell_type": "markdown",
   "metadata": {},
   "source": [
    "# Total De Vídeo por duração ex: entre dois e três minutos, eu tenho quantos vídeos"
   ]
  },
  {
   "cell_type": "markdown",
   "metadata": {},
   "source": []
  },
  {
   "cell_type": "code",
   "execution_count": null,
   "metadata": {},
   "outputs": [],
   "source": []
  },
  {
   "cell_type": "markdown",
   "metadata": {},
   "source": [
    "- Métricas especificas TRENDS"
   ]
  },
  {
   "cell_type": "markdown",
   "metadata": {},
   "source": []
  }
 ],
 "metadata": {
  "kernelspec": {
   "display_name": "venv",
   "language": "python",
   "name": "python3"
  },
  "language_info": {
   "codemirror_mode": {
    "name": "ipython",
    "version": 3
   },
   "file_extension": ".py",
   "mimetype": "text/x-python",
   "name": "python",
   "nbconvert_exporter": "python",
   "pygments_lexer": "ipython3",
   "version": "3.10.12"
  }
 },
 "nbformat": 4,
 "nbformat_minor": 2
}
