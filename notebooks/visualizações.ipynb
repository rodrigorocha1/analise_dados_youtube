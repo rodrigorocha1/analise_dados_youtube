{
 "cells": [
  {
   "cell_type": "code",
   "execution_count": 1,
   "metadata": {},
   "outputs": [],
   "source": [
    "from pyspark.sql import SparkSession"
   ]
  },
  {
   "cell_type": "code",
   "execution_count": 2,
   "metadata": {},
   "outputs": [
    {
     "name": "stdout",
     "output_type": "stream",
     "text": [
      "23/11/02 21:52:28 WARN Utils: Your hostname, rodrigo-Nitro-AN515-54 resolves to a loopback address: 127.0.1.1; using 192.168.0.112 instead (on interface wlp8s0)\n",
      "23/11/02 21:52:28 WARN Utils: Set SPARK_LOCAL_IP if you need to bind to another address\n"
     ]
    },
    {
     "name": "stderr",
     "output_type": "stream",
     "text": [
      "Setting default log level to \"WARN\".\n",
      "To adjust logging level use sc.setLogLevel(newLevel). For SparkR, use setLogLevel(newLevel).\n"
     ]
    },
    {
     "name": "stdout",
     "output_type": "stream",
     "text": [
      "23/11/02 21:52:29 WARN NativeCodeLoader: Unable to load native-hadoop library for your platform... using builtin-java classes where applicable\n"
     ]
    }
   ],
   "source": [
    "spark = SparkSession.builder.appName('vizualizações3').getOrCreate()"
   ]
  },
  {
   "cell_type": "code",
   "execution_count": 3,
   "metadata": {},
   "outputs": [
    {
     "name": "stderr",
     "output_type": "stream",
     "text": [
      "                                                                                \r"
     ]
    }
   ],
   "source": [
    "df_parquet = spark.read.parquet('/home/rodrigo/Documentos/projetos/open_weather_api_apache/analise_dados_youtube/data/projetos_youtube_v2/ouro/assunto_cities_skylines/total_video_publicado_semana/total_video_publicado_semana.parquet')\n",
    "df_parquet.createOrReplaceTempView('TOTAL_PUBLICACOES')"
   ]
  },
  {
   "cell_type": "code",
   "execution_count": 8,
   "metadata": {},
   "outputs": [
    {
     "name": "stderr",
     "output_type": "stream",
     "text": [
      "                                                                                \r"
     ]
    },
    {
     "name": "stdout",
     "output_type": "stream",
     "text": [
      "+----------------+----------------------------+------------+---------------+------------------------+\n",
      "|SEMANA_TRADUZIDA|NM_CANAL                    |TOTAL_VIDEOS|DATA_PUBLICACAO|ID_CANAL                |\n",
      "+----------------+----------------------------+------------+---------------+------------------------+\n",
      "|Segunda-feira   |CANAL HAND - GAME WITH MUSIC|1           |2023-10-16     |UC7v51W2NoLFawizgcNuVBOA|\n",
      "|Segunda-feira   |CANAL HAND - GAME WITH MUSIC|1           |2023-10-23     |UC7v51W2NoLFawizgcNuVBOA|\n",
      "|Quarta-feira    |CANAL HAND - GAME WITH MUSIC|1           |2023-10-18     |UC7v51W2NoLFawizgcNuVBOA|\n",
      "|Terça-feira     |CANAL HAND - GAME WITH MUSIC|1           |2023-10-17     |UC7v51W2NoLFawizgcNuVBOA|\n",
      "|Sexta-feira     |CANAL HAND - GAME WITH MUSIC|1           |2023-10-20     |UC7v51W2NoLFawizgcNuVBOA|\n",
      "|Sábado          |CANAL HAND - GAME WITH MUSIC|1           |2023-10-21     |UC7v51W2NoLFawizgcNuVBOA|\n",
      "|Domingo         |CANAL HAND - GAME WITH MUSIC|1           |2023-10-22     |UC7v51W2NoLFawizgcNuVBOA|\n",
      "|Domingo         |CANAL HAND - GAME WITH MUSIC|1           |2023-10-15     |UC7v51W2NoLFawizgcNuVBOA|\n",
      "|Terça-feira     |Cogumelando Videogame       |1           |2023-10-24     |UCXso4Ho8UARhzS3I_LOVTKA|\n",
      "|Segunda-feira   |Canal Sala de Jogos         |1           |2023-10-16     |UCYEb5mbKZ5JJzN0xBuKyaig|\n",
      "|Segunda-feira   |Canal Sala de Jogos         |1           |2023-10-23     |UCYEb5mbKZ5JJzN0xBuKyaig|\n",
      "|Quinta-feira    |Canal Sala de Jogos         |1           |2023-10-19     |UCYEb5mbKZ5JJzN0xBuKyaig|\n",
      "|Segunda-feira   |ChratosGameplay             |1           |2023-10-23     |UCrOH1V-FyMunBIMrKL0y0xQ|\n",
      "|Segunda-feira   |ChratosGameplay             |1           |2023-10-16     |UCrOH1V-FyMunBIMrKL0y0xQ|\n",
      "|Terça-feira     |ChratosGameplay             |1           |2023-10-24     |UCrOH1V-FyMunBIMrKL0y0xQ|\n",
      "|Quinta-feira    |ChratosGameplay             |1           |2023-10-26     |UCrOH1V-FyMunBIMrKL0y0xQ|\n",
      "|Quinta-feira    |ChratosGameplay             |1           |2023-10-19     |UCrOH1V-FyMunBIMrKL0y0xQ|\n",
      "|Quarta-feira    |ChratosGameplay             |1           |2023-10-18     |UCrOH1V-FyMunBIMrKL0y0xQ|\n",
      "|Terça-feira     |ChratosGameplay             |1           |2023-10-17     |UCrOH1V-FyMunBIMrKL0y0xQ|\n",
      "|Quarta-feira    |ChratosGameplay             |1           |2023-10-25     |UCrOH1V-FyMunBIMrKL0y0xQ|\n",
      "+----------------+----------------------------+------------+---------------+------------------------+\n",
      "only showing top 20 rows\n",
      "\n"
     ]
    }
   ],
   "source": [
    "spark.sql('SELECT * FROM TOTAL_PUBLICACOES WHERE NM_CANAL LIKE \"C%\"').show(truncate=False)"
   ]
  },
  {
   "cell_type": "code",
   "execution_count": 14,
   "metadata": {},
   "outputs": [
    {
     "name": "stderr",
     "output_type": "stream",
     "text": [
      "[Stage 12:>                                                         (0 + 8) / 8]\r"
     ]
    },
    {
     "name": "stdout",
     "output_type": "stream",
     "text": [
      "+---------------+-----------------+\n",
      "|DATA_PUBLICACAO|sum(TOTAL_VIDEOS)|\n",
      "+---------------+-----------------+\n",
      "|     2023-10-25|               23|\n",
      "|     2023-10-16|               16|\n",
      "|     2023-10-15|               10|\n",
      "|     2023-10-18|               14|\n",
      "|     2023-10-23|               24|\n",
      "|     2023-10-21|               21|\n",
      "|     2023-10-20|               13|\n",
      "|     2023-10-19|               17|\n",
      "|     2023-10-22|               15|\n",
      "|     2023-10-17|               16|\n",
      "|     2023-10-26|               22|\n",
      "|     2023-10-24|               23|\n",
      "|     2023-10-27|               21|\n",
      "+---------------+-----------------+\n",
      "\n"
     ]
    },
    {
     "name": "stderr",
     "output_type": "stream",
     "text": [
      "                                                                                \r"
     ]
    }
   ],
   "source": [
    "spark.sql('SELECT DATA_PUBLICACAO, sum(TOTAL_VIDEOS) FROM TOTAL_PUBLICACOES GROUP BY  DATA_PUBLICACAO').show()"
   ]
  },
  {
   "cell_type": "code",
   "execution_count": 17,
   "metadata": {},
   "outputs": [
    {
     "name": "stdout",
     "output_type": "stream",
     "text": [
      "+--------+\n",
      "|count(1)|\n",
      "+--------+\n",
      "|      23|\n",
      "+--------+\n",
      "\n"
     ]
    }
   ],
   "source": [
    "spark.sql('SELECT COUNT(*) FROM TOTAL_PUBLICACOES where DATA_PUBLICACAO = \"2023-10-25\"  ' ).show(26)"
   ]
  },
  {
   "cell_type": "markdown",
   "metadata": {},
   "source": [
    "# Relação Comentários X Likes (proporção)"
   ]
  },
  {
   "cell_type": "code",
   "execution_count": null,
   "metadata": {},
   "outputs": [],
   "source": []
  },
  {
   "cell_type": "markdown",
   "metadata": {},
   "source": [
    "# Relação Visualizações X Likes (proporção)"
   ]
  },
  {
   "cell_type": "code",
   "execution_count": null,
   "metadata": {},
   "outputs": [],
   "source": []
  },
  {
   "cell_type": "markdown",
   "metadata": {},
   "source": [
    "# Dia em que os vídeos são Públicados com alta frequência"
   ]
  },
  {
   "cell_type": "code",
   "execution_count": null,
   "metadata": {},
   "outputs": [],
   "source": []
  },
  {
   "cell_type": "markdown",
   "metadata": {},
   "source": [
    "# Total de Tags X Vísualizações "
   ]
  },
  {
   "cell_type": "code",
   "execution_count": null,
   "metadata": {},
   "outputs": [],
   "source": []
  },
  {
   "cell_type": "markdown",
   "metadata": {},
   "source": [
    "# Tamanho dos títulos do Vídeos X Vísualizações"
   ]
  },
  {
   "cell_type": "code",
   "execution_count": null,
   "metadata": {},
   "outputs": [],
   "source": []
  },
  {
   "cell_type": "markdown",
   "metadata": {},
   "source": [
    "# Total Víews por Vídeo"
   ]
  },
  {
   "cell_type": "code",
   "execution_count": null,
   "metadata": {},
   "outputs": [],
   "source": []
  },
  {
   "cell_type": "markdown",
   "metadata": {},
   "source": [
    "# A duração do vídeo é importante para visualizações e interação (curtidas/comentários)?"
   ]
  },
  {
   "cell_type": "code",
   "execution_count": null,
   "metadata": {},
   "outputs": [],
   "source": []
  }
 ],
 "metadata": {
  "kernelspec": {
   "display_name": "venv",
   "language": "python",
   "name": "python3"
  },
  "language_info": {
   "codemirror_mode": {
    "name": "ipython",
    "version": 3
   },
   "file_extension": ".py",
   "mimetype": "text/x-python",
   "name": "python",
   "nbconvert_exporter": "python",
   "pygments_lexer": "ipython3",
   "version": "3.10.12"
  }
 },
 "nbformat": 4,
 "nbformat_minor": 2
}
