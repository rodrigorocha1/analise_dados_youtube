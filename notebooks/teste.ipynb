{
 "cells": [
  {
   "cell_type": "code",
   "execution_count": 1,
   "metadata": {},
   "outputs": [],
   "source": [
    "import pandas as pd"
   ]
  },
  {
   "cell_type": "code",
   "execution_count": 2,
   "metadata": {},
   "outputs": [],
   "source": [
    "teste = pd.read_parquet('../data/projetos_youtube_v2/ouro/assunto_cities_skylines/total_visualizacoes_por_semana/total_visualizacoes_por_semana.parquet/', )"
   ]
  },
  {
   "cell_type": "code",
   "execution_count": 3,
   "metadata": {},
   "outputs": [
    {
     "data": {
      "text/plain": [
       "(3951, 17)"
      ]
     },
     "execution_count": 3,
     "metadata": {},
     "output_type": "execute_result"
    }
   ],
   "source": [
    "teste.shape"
   ]
  },
  {
   "cell_type": "code",
   "execution_count": 4,
   "metadata": {},
   "outputs": [
    {
     "name": "stdout",
     "output_type": "stream",
     "text": [
      "<class 'pandas.core.frame.DataFrame'>\n",
      "RangeIndex: 3951 entries, 0 to 3950\n",
      "Data columns (total 17 columns):\n",
      " #   Column                     Non-Null Count  Dtype   \n",
      "---  ------                     --------------  -----   \n",
      " 0   INDICE_TURNO_EXTRACAO      3951 non-null   int32   \n",
      " 1   NM_CANAL                   3951 non-null   object  \n",
      " 2   ID_VIDEO                   3951 non-null   object  \n",
      " 3   TITULO_VIDEO               3951 non-null   object  \n",
      " 4   TOTAL_CARACTERE_VIDEO      3951 non-null   int32   \n",
      " 5   TAGS                       2916 non-null   object  \n",
      " 6   DURACAO_VIDEO_MINUTOS      3951 non-null   float32 \n",
      " 7   TOTAL_TAGS                 3951 non-null   int32   \n",
      " 8   TOTAL_VISUALIZACOES        3951 non-null   int32   \n",
      " 9   TOTAL_COMENTARIOS          3951 non-null   int32   \n",
      " 10  TOTAL_LIKES                3896 non-null   float64 \n",
      " 11  TOTAL_VISUALIZACOES_TURNO  3951 non-null   int32   \n",
      " 12  TOTAL_COMENTARIOS_TURNO    3951 non-null   int32   \n",
      " 13  TOTAL_LIKES_TURNO          3896 non-null   float64 \n",
      " 14  data_extracao              3951 non-null   category\n",
      " 15  TURNO_EXTRACAO             3951 non-null   category\n",
      " 16  ID_CANAL                   3951 non-null   category\n",
      "dtypes: category(3), float32(1), float64(2), int32(7), object(4)\n",
      "memory usage: 325.8+ KB\n"
     ]
    }
   ],
   "source": [
    "teste.info()"
   ]
  },
  {
   "cell_type": "code",
   "execution_count": 5,
   "metadata": {},
   "outputs": [],
   "source": [
    "teste = pd.read_parquet('../data/projetos_youtube_v2/ouro/assunto_cities_skylines_2/total_visualizacoes_por_semana/total_visualizacoes_por_semana.parquet/', )"
   ]
  },
  {
   "cell_type": "code",
   "execution_count": 6,
   "metadata": {},
   "outputs": [
    {
     "data": {
      "text/plain": [
       "(2560, 17)"
      ]
     },
     "execution_count": 6,
     "metadata": {},
     "output_type": "execute_result"
    }
   ],
   "source": [
    "teste.shape"
   ]
  },
  {
   "cell_type": "code",
   "execution_count": 7,
   "metadata": {},
   "outputs": [],
   "source": [
    "teste = pd.read_parquet('../data/projetos_youtube_v2/ouro/assunto_cities_skylines_2/comentarios/comentarios.parquet/', )"
   ]
  },
  {
   "cell_type": "code",
   "execution_count": null,
   "metadata": {},
   "outputs": [],
   "source": []
  },
  {
   "cell_type": "code",
   "execution_count": 8,
   "metadata": {},
   "outputs": [
    {
     "data": {
      "text/plain": [
       "(3879, 4)"
      ]
     },
     "execution_count": 8,
     "metadata": {},
     "output_type": "execute_result"
    }
   ],
   "source": [
    "teste.shape"
   ]
  },
  {
   "cell_type": "code",
   "execution_count": 9,
   "metadata": {},
   "outputs": [
    {
     "name": "stdout",
     "output_type": "stream",
     "text": [
      "<class 'pandas.core.frame.DataFrame'>\n",
      "RangeIndex: 3879 entries, 0 to 3878\n",
      "Data columns (total 4 columns):\n",
      " #   Column            Non-Null Count  Dtype   \n",
      "---  ------            --------------  -----   \n",
      " 0   ID_COMENTARIO     3879 non-null   object  \n",
      " 1   TEXTO_COMENTARIO  3879 non-null   object  \n",
      " 2   ID_CANAL          3879 non-null   category\n",
      " 3   ID_VIDEO          3879 non-null   category\n",
      "dtypes: category(2), object(2)\n",
      "memory usage: 74.7+ KB\n"
     ]
    }
   ],
   "source": [
    "teste.info()"
   ]
  },
  {
   "cell_type": "code",
   "execution_count": 10,
   "metadata": {},
   "outputs": [],
   "source": [
    "teste = pd.read_parquet('/home/rodrigo/Documentos/projetos/open_weather_api_apache/analise_dados_youtube/data/projetos_youtube_v2/ouro/trends_brazil/trends_brazil/trends_brazil.parquet', )"
   ]
  },
  {
   "cell_type": "code",
   "execution_count": 11,
   "metadata": {},
   "outputs": [
    {
     "data": {
      "text/plain": [
       "Index                        0.000088\n",
       "NM_CANAL                     0.320517\n",
       "TITULO_VIDEO                 0.652648\n",
       "INDICE_TURNO_EXTRACAO        0.017707\n",
       "TOTAL_VISUALIZACOES          0.017707\n",
       "TOTAL_FAVORITOS              0.256748\n",
       "TOTAL_COMENTARIOS            0.262692\n",
       "TOTAL_LIKES                  0.270156\n",
       "TOTAL_VISUALIZACOES_TURNO    0.017707\n",
       "TOTAL_FAVORITOS_TURNO        0.017707\n",
       "TOTAL_COMENTARIOS_TURNO      0.035414\n",
       "TOTAL_LIKES_TURNO            0.035414\n",
       "data_extracao                0.005142\n",
       "ID_CATEGORIA                 0.004758\n",
       "ID_CANAL                     0.035362\n",
       "ID_VIDEO                     0.048933\n",
       "TURNO_EXTRACAO               0.004646\n",
       "dtype: float64"
      ]
     },
     "execution_count": 11,
     "metadata": {},
     "output_type": "execute_result"
    }
   ],
   "source": [
    "teste.memory_usage(deep=True) / (1204 ** 2)"
   ]
  },
  {
   "cell_type": "code",
   "execution_count": 2,
   "metadata": {},
   "outputs": [],
   "source": [
    "teste = pd.read_parquet('/home/rodrigo/Documentos/projetos/open_weather_api_apache/analise_dados_youtube/data/projetos_youtube_v2/ouro/assunto_python_and_dados/total_visualizacoes_por_semana/total_visualizacoes_por_semana.parquet', )"
   ]
  },
  {
   "cell_type": "code",
   "execution_count": 3,
   "metadata": {},
   "outputs": [
    {
     "name": "stdout",
     "output_type": "stream",
     "text": [
      "<class 'pandas.core.frame.DataFrame'>\n",
      "RangeIndex: 3659 entries, 0 to 3658\n",
      "Data columns (total 17 columns):\n",
      " #   Column                     Non-Null Count  Dtype   \n",
      "---  ------                     --------------  -----   \n",
      " 0   INDICE_TURNO_EXTRACAO      3659 non-null   int32   \n",
      " 1   NM_CANAL                   3659 non-null   object  \n",
      " 2   ID_VIDEO                   3659 non-null   object  \n",
      " 3   TITULO_VIDEO               3659 non-null   object  \n",
      " 4   TOTAL_CARACTERE_VIDEO      3659 non-null   int32   \n",
      " 5   TAGS                       2604 non-null   object  \n",
      " 6   DURACAO_VIDEO_MINUTOS      3659 non-null   float32 \n",
      " 7   TOTAL_TAGS                 3659 non-null   int32   \n",
      " 8   TOTAL_VISUALIZACOES        3659 non-null   int32   \n",
      " 9   TOTAL_COMENTARIOS          3649 non-null   float64 \n",
      " 10  TOTAL_LIKES                3633 non-null   float64 \n",
      " 11  TOTAL_VISUALIZACOES_TURNO  3659 non-null   int32   \n",
      " 12  TOTAL_COMENTARIOS_TURNO    3649 non-null   float64 \n",
      " 13  TOTAL_LIKES_TURNO          3633 non-null   float64 \n",
      " 14  data_extracao              3659 non-null   category\n",
      " 15  TURNO_EXTRACAO             3659 non-null   category\n",
      " 16  ID_CANAL                   3659 non-null   category\n",
      "dtypes: category(3), float32(1), float64(4), int32(5), object(4)\n",
      "memory usage: 334.5+ KB\n"
     ]
    }
   ],
   "source": [
    "teste.info()"
   ]
  }
 ],
 "metadata": {
  "kernelspec": {
   "display_name": "venv",
   "language": "python",
   "name": "python3"
  },
  "language_info": {
   "codemirror_mode": {
    "name": "ipython",
    "version": 3
   },
   "file_extension": ".py",
   "mimetype": "text/x-python",
   "name": "python",
   "nbconvert_exporter": "python",
   "pygments_lexer": "ipython3",
   "version": "3.10.12"
  }
 },
 "nbformat": 4,
 "nbformat_minor": 2
}
