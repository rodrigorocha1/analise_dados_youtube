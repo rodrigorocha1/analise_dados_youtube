{
 "cells": [
  {
   "cell_type": "code",
   "execution_count": 8,
   "metadata": {},
   "outputs": [],
   "source": [
    "from pyspark.sql import SparkSession\n",
    "import pyspark.sql.functions as F\n",
    "from functools import reduce\n"
   ]
  },
  {
   "cell_type": "code",
   "execution_count": 9,
   "metadata": {},
   "outputs": [
    {
     "data": {
      "text/plain": [
       "<function pyspark.sql.functions.split(str: 'ColumnOrName', pattern: str, limit: int = -1) -> pyspark.sql.column.Column>"
      ]
     },
     "execution_count": 9,
     "metadata": {},
     "output_type": "execute_result"
    }
   ],
   "source": [
    "F.split"
   ]
  },
  {
   "cell_type": "code",
   "execution_count": 10,
   "metadata": {},
   "outputs": [],
   "source": [
    "spark = SparkSession.builder.appName('teste').getOrCreate()"
   ]
  },
  {
   "cell_type": "markdown",
   "metadata": {},
   "source": [
    " - Comentários"
   ]
  },
  {
   "cell_type": "code",
   "execution_count": 11,
   "metadata": {},
   "outputs": [],
   "source": [
    "def nova_coluna(df, nome_repeticao):\n",
    "    df = df.withColumn('ASSUNTO', F.lit(nome_repeticao))\n",
    "    return df"
   ]
  },
  {
   "cell_type": "code",
   "execution_count": 12,
   "metadata": {},
   "outputs": [
    {
     "name": "stderr",
     "output_type": "stream",
     "text": [
      "[Stage 39:>                                                         (0 + 1) / 1]\r"
     ]
    },
    {
     "name": "stdout",
     "output_type": "stream",
     "text": [
      "+--------------------+--------------------+--------------------+-----------+\n",
      "|       ID_COMENTARIO|    TEXTO_COMENTARIO|            ID_CANAL|   ID_VIDEO|\n",
      "+--------------------+--------------------+--------------------+-----------+\n",
      "|UgycI1RA11Co3b6KN...|É muito simples, ...|UCoTIpyf8_RGzJ1LP...|L17Ox3uFAdo|\n",
      "|Ugzh6_xR_K2mmb5Zh...|cade o video do m...|UCoTIpyf8_RGzJ1LP...|L17Ox3uFAdo|\n",
      "+--------------------+--------------------+--------------------+-----------+\n",
      "only showing top 2 rows\n",
      "\n"
     ]
    },
    {
     "name": "stderr",
     "output_type": "stream",
     "text": [
      "                                                                                \r"
     ]
    }
   ],
   "source": [
    "df_assunto_comentarios_cities_sklines = spark.read.parquet('../data/projetos_youtube_v2/ouro/assunto_cities_skylines/comentarios/comentarios.parquet')\n",
    "df_assunto_comentarios_cities_sklines.show(2)"
   ]
  },
  {
   "cell_type": "code",
   "execution_count": 13,
   "metadata": {},
   "outputs": [
    {
     "name": "stdout",
     "output_type": "stream",
     "text": [
      "+--------------------+--------------------+--------------------+-----------+--------------------+\n",
      "|       ID_COMENTARIO|    TEXTO_COMENTARIO|            ID_CANAL|   ID_VIDEO|             ASSUNTO|\n",
      "+--------------------+--------------------+--------------------+-----------+--------------------+\n",
      "|UgycI1RA11Co3b6KN...|É muito simples, ...|UCoTIpyf8_RGzJ1LP...|L17Ox3uFAdo|assunto_cities_sk...|\n",
      "|Ugzh6_xR_K2mmb5Zh...|cade o video do m...|UCoTIpyf8_RGzJ1LP...|L17Ox3uFAdo|assunto_cities_sk...|\n",
      "|Ugx5tVA2vkeS-TbFI...|Acho que o próxim...|UCoTIpyf8_RGzJ1LP...|L17Ox3uFAdo|assunto_cities_sk...|\n",
      "|UgypfvYbz-wJEZLTo...|A questão da otim...|UCoTIpyf8_RGzJ1LP...|L17Ox3uFAdo|assunto_cities_sk...|\n",
      "|UgxQI3WnlJPfyhVTt...|Realmente parece ...|UCoTIpyf8_RGzJ1LP...|L17Ox3uFAdo|assunto_cities_sk...|\n",
      "|UgxpCGs6hC0xqZHfV...|Pelo amor de deus...|UCoTIpyf8_RGzJ1LP...|L17Ox3uFAdo|assunto_cities_sk...|\n",
      "|Ugw_I4QstOoUSOZCg...|Paradox sendo Par...|UCoTIpyf8_RGzJ1LP...|L17Ox3uFAdo|assunto_cities_sk...|\n",
      "|UgxD2YXLfXIOQ2Vdn...|           boa tarde|UCoTIpyf8_RGzJ1LP...|L17Ox3uFAdo|assunto_cities_sk...|\n",
      "|UgyPfxVzUhuBrBH6V...|Dps falam do meu ...|UCoTIpyf8_RGzJ1LP...|L17Ox3uFAdo|assunto_cities_sk...|\n",
      "|UgwCO5IvAmGY5P9Hi...|O Jogo é maravilh...|UCoTIpyf8_RGzJ1LP...|L17Ox3uFAdo|assunto_cities_sk...|\n",
      "|Ugyq0qoTLUKW5LI4y...|mas não falam do ...|UCoTIpyf8_RGzJ1LP...|L17Ox3uFAdo|assunto_cities_sk...|\n",
      "|UgzrxdtQ4pqBsN-sU...|<a href=\"https://...|UCoTIpyf8_RGzJ1LP...|L17Ox3uFAdo|assunto_cities_sk...|\n",
      "|Ugw_xIIka19u65ITY...|Colossal Order: P...|UCoTIpyf8_RGzJ1LP...|L17Ox3uFAdo|assunto_cities_sk...|\n",
      "|UgyCBubEF2Ij2Y5RB...|Mais um jogo que ...|UCoTIpyf8_RGzJ1LP...|L17Ox3uFAdo|assunto_cities_sk...|\n",
      "|UgzKFXehReYvcYzVU...|E a pressa em lan...|UCoTIpyf8_RGzJ1LP...|L17Ox3uFAdo|assunto_cities_sk...|\n",
      "|UgxkuHWTRUx176cqz...|Estou jogando de ...|UCoTIpyf8_RGzJ1LP...|L17Ox3uFAdo|assunto_cities_sk...|\n",
      "|UgxT1569uVRH6kLww...|essa do PC siquei...|UCoTIpyf8_RGzJ1LP...|L17Ox3uFAdo|assunto_cities_sk...|\n",
      "|UgydXIHyYcn7YcbQj...|o cities 1 só era...|UCoTIpyf8_RGzJ1LP...|L17Ox3uFAdo|assunto_cities_sk...|\n",
      "|Ugw8TmBBPHJT5s4zj...|Para mim ja ficou...|UCoTIpyf8_RGzJ1LP...|L17Ox3uFAdo|assunto_cities_sk...|\n",
      "|UgzURReOQLpXzdmCx...|Aí os dev vem com...|UCoTIpyf8_RGzJ1LP...|L17Ox3uFAdo|assunto_cities_sk...|\n",
      "+--------------------+--------------------+--------------------+-----------+--------------------+\n",
      "only showing top 20 rows\n",
      "\n"
     ]
    }
   ],
   "source": [
    "df_assunto_comentarios_cities_sklines = nova_coluna(df_assunto_comentarios_cities_sklines, 'assunto_cities_skylines')\n",
    "df_assunto_comentarios_cities_sklines.show()"
   ]
  },
  {
   "cell_type": "code",
   "execution_count": 14,
   "metadata": {},
   "outputs": [
    {
     "name": "stderr",
     "output_type": "stream",
     "text": [
      "                                                                                \r"
     ]
    },
    {
     "name": "stdout",
     "output_type": "stream",
     "text": [
      "+--------------------+--------------------+--------------------+-----------+\n",
      "|       ID_COMENTARIO|    TEXTO_COMENTARIO|            ID_CANAL|   ID_VIDEO|\n",
      "+--------------------+--------------------+--------------------+-----------+\n",
      "|UgycI1RA11Co3b6KN...|É muito simples, ...|UCoTIpyf8_RGzJ1LP...|L17Ox3uFAdo|\n",
      "|Ugzh6_xR_K2mmb5Zh...|cade o video do m...|UCoTIpyf8_RGzJ1LP...|L17Ox3uFAdo|\n",
      "+--------------------+--------------------+--------------------+-----------+\n",
      "only showing top 2 rows\n",
      "\n"
     ]
    }
   ],
   "source": [
    "df_assunto_comentarios_cities_sklines_dois = spark \\\n",
    "    .read \\\n",
    "        .parquet('../data/projetos_youtube_v2/ouro/assunto_cities_skylines_2/comentarios/comentarios.parquet')\n",
    "df_assunto_comentarios_cities_sklines_dois.show(2)"
   ]
  },
  {
   "cell_type": "code",
   "execution_count": 15,
   "metadata": {},
   "outputs": [
    {
     "name": "stdout",
     "output_type": "stream",
     "text": [
      "+--------------------+--------------------+--------------------+-----------+--------------------+\n",
      "|       ID_COMENTARIO|    TEXTO_COMENTARIO|            ID_CANAL|   ID_VIDEO|             ASSUNTO|\n",
      "+--------------------+--------------------+--------------------+-----------+--------------------+\n",
      "|UgycI1RA11Co3b6KN...|É muito simples, ...|UCoTIpyf8_RGzJ1LP...|L17Ox3uFAdo|assunto_cities_sk...|\n",
      "|Ugzh6_xR_K2mmb5Zh...|cade o video do m...|UCoTIpyf8_RGzJ1LP...|L17Ox3uFAdo|assunto_cities_sk...|\n",
      "|Ugx5tVA2vkeS-TbFI...|Acho que o próxim...|UCoTIpyf8_RGzJ1LP...|L17Ox3uFAdo|assunto_cities_sk...|\n",
      "|UgypfvYbz-wJEZLTo...|A questão da otim...|UCoTIpyf8_RGzJ1LP...|L17Ox3uFAdo|assunto_cities_sk...|\n",
      "|UgxQI3WnlJPfyhVTt...|Realmente parece ...|UCoTIpyf8_RGzJ1LP...|L17Ox3uFAdo|assunto_cities_sk...|\n",
      "|UgxpCGs6hC0xqZHfV...|Pelo amor de deus...|UCoTIpyf8_RGzJ1LP...|L17Ox3uFAdo|assunto_cities_sk...|\n",
      "|Ugw_I4QstOoUSOZCg...|Paradox sendo Par...|UCoTIpyf8_RGzJ1LP...|L17Ox3uFAdo|assunto_cities_sk...|\n",
      "|UgxD2YXLfXIOQ2Vdn...|           boa tarde|UCoTIpyf8_RGzJ1LP...|L17Ox3uFAdo|assunto_cities_sk...|\n",
      "|UgyPfxVzUhuBrBH6V...|Dps falam do meu ...|UCoTIpyf8_RGzJ1LP...|L17Ox3uFAdo|assunto_cities_sk...|\n",
      "|UgwCO5IvAmGY5P9Hi...|O Jogo é maravilh...|UCoTIpyf8_RGzJ1LP...|L17Ox3uFAdo|assunto_cities_sk...|\n",
      "|Ugyq0qoTLUKW5LI4y...|mas não falam do ...|UCoTIpyf8_RGzJ1LP...|L17Ox3uFAdo|assunto_cities_sk...|\n",
      "|UgzrxdtQ4pqBsN-sU...|<a href=\"https://...|UCoTIpyf8_RGzJ1LP...|L17Ox3uFAdo|assunto_cities_sk...|\n",
      "|Ugw_xIIka19u65ITY...|Colossal Order: P...|UCoTIpyf8_RGzJ1LP...|L17Ox3uFAdo|assunto_cities_sk...|\n",
      "|UgyCBubEF2Ij2Y5RB...|Mais um jogo que ...|UCoTIpyf8_RGzJ1LP...|L17Ox3uFAdo|assunto_cities_sk...|\n",
      "|UgzKFXehReYvcYzVU...|E a pressa em lan...|UCoTIpyf8_RGzJ1LP...|L17Ox3uFAdo|assunto_cities_sk...|\n",
      "|UgxkuHWTRUx176cqz...|Estou jogando de ...|UCoTIpyf8_RGzJ1LP...|L17Ox3uFAdo|assunto_cities_sk...|\n",
      "|UgxT1569uVRH6kLww...|essa do PC siquei...|UCoTIpyf8_RGzJ1LP...|L17Ox3uFAdo|assunto_cities_sk...|\n",
      "|UgydXIHyYcn7YcbQj...|o cities 1 só era...|UCoTIpyf8_RGzJ1LP...|L17Ox3uFAdo|assunto_cities_sk...|\n",
      "|Ugw8TmBBPHJT5s4zj...|Para mim ja ficou...|UCoTIpyf8_RGzJ1LP...|L17Ox3uFAdo|assunto_cities_sk...|\n",
      "|UgzURReOQLpXzdmCx...|Aí os dev vem com...|UCoTIpyf8_RGzJ1LP...|L17Ox3uFAdo|assunto_cities_sk...|\n",
      "+--------------------+--------------------+--------------------+-----------+--------------------+\n",
      "only showing top 20 rows\n",
      "\n"
     ]
    }
   ],
   "source": [
    "df_assunto_comentarios_cities_sklines_dois = nova_coluna(df_assunto_comentarios_cities_sklines_dois, 'assunto_cities_skylines_2')\n",
    "df_assunto_comentarios_cities_sklines_dois.show()"
   ]
  },
  {
   "cell_type": "code",
   "execution_count": 16,
   "metadata": {},
   "outputs": [
    {
     "name": "stderr",
     "output_type": "stream",
     "text": [
      "                                                                                \r"
     ]
    },
    {
     "name": "stdout",
     "output_type": "stream",
     "text": [
      "+--------------------+--------------------+--------------------+-----------+\n",
      "|       ID_COMENTARIO|    TEXTO_COMENTARIO|            ID_CANAL|   ID_VIDEO|\n",
      "+--------------------+--------------------+--------------------+-----------+\n",
      "|UgwttUiZmmWMl1gS6...|Parabéns,pelo mat...|UCcinq1ymmAmhFZzy...|WfxauEGmDfg|\n",
      "|Ugw4lH5PKPzBAwyzD...|Parabéns pelo cas...|UCcinq1ymmAmhFZzy...|WfxauEGmDfg|\n",
      "+--------------------+--------------------+--------------------+-----------+\n",
      "only showing top 2 rows\n",
      "\n"
     ]
    }
   ],
   "source": [
    "df_assunto_comentarios_power_bi = spark \\\n",
    "    .read \\\n",
    "        .parquet('/home/rodrigo/Documentos/projetos/open_weather_api_apache/analise_dados_youtube/data/projetos_youtube_v2/ouro/assunto_power_bi/comentarios/comentarios.parquet')\n",
    "df_assunto_comentarios_power_bi.show(2)"
   ]
  },
  {
   "cell_type": "code",
   "execution_count": 17,
   "metadata": {},
   "outputs": [
    {
     "name": "stdout",
     "output_type": "stream",
     "text": [
      "+--------------------+--------------------+--------------------+-----------+----------------+\n",
      "|       ID_COMENTARIO|    TEXTO_COMENTARIO|            ID_CANAL|   ID_VIDEO|         ASSUNTO|\n",
      "+--------------------+--------------------+--------------------+-----------+----------------+\n",
      "|UgwttUiZmmWMl1gS6...|Parabéns,pelo mat...|UCcinq1ymmAmhFZzy...|WfxauEGmDfg|assunto_power_bi|\n",
      "|Ugw4lH5PKPzBAwyzD...|Parabéns pelo cas...|UCcinq1ymmAmhFZzy...|WfxauEGmDfg|assunto_power_bi|\n",
      "|UgwiWt2j67Gf1d3Am...|Parabens pelo cas...|UCcinq1ymmAmhFZzy...|WfxauEGmDfg|assunto_power_bi|\n",
      "|UgzRlsALiozMcQTiq...|oi mari procuro a...|UCcinq1ymmAmhFZzy...|WfxauEGmDfg|assunto_power_bi|\n",
      "|UgwpWB7x2I0GbZa-2...|Alguma previsão d...|UCcinq1ymmAmhFZzy...|WfxauEGmDfg|assunto_power_bi|\n",
      "|UgyRhacydB5OQyXuu...|Mari indica facul...|UCcinq1ymmAmhFZzy...|WfxauEGmDfg|assunto_power_bi|\n",
      "|Ugyvd1WlaGtCRUb_e...|Curso Pedagogia P...|UCcinq1ymmAmhFZzy...|WfxauEGmDfg|assunto_power_bi|\n",
      "|UgzFOVMR9hvgFKhoo...|A prova de seleçã...|UCcinq1ymmAmhFZzy...|WfxauEGmDfg|assunto_power_bi|\n",
      "|Ugy92QMKhYiNFAs06...|Oi Mari<br>Curso ...|UCcinq1ymmAmhFZzy...|WfxauEGmDfg|assunto_power_bi|\n",
      "|Ugyhf5hndVRJ4bAq3...|     Mulher não some|UCcinq1ymmAmhFZzy...|WfxauEGmDfg|assunto_power_bi|\n",
      "|Ugw2qVOmTA96P5U3h...|                   ❤|UCcinq1ymmAmhFZzy...|WfxauEGmDfg|assunto_power_bi|\n",
      "|UgylUgyspNvgb3U7t...|Bom dia Mari. par...|UCcinq1ymmAmhFZzy...|WfxauEGmDfg|assunto_power_bi|\n",
      "|UgyZ5MAYeDgcnCipf...|Nao é possível qu...|UCcinq1ymmAmhFZzy...|WfxauEGmDfg|assunto_power_bi|\n",
      "|UgzRK0EHNU3H0OY1O...|Preciso de um cur...|UCcinq1ymmAmhFZzy...|WfxauEGmDfg|assunto_power_bi|\n",
      "|UgzzQQL3VNkY6Ua69...|        👏🏽👏🏽👏🏽|UCcinq1ymmAmhFZzy...|WfxauEGmDfg|assunto_power_bi|\n",
      "|UgyCl9BZK5e1bXUUF...|Parabéns e felici...|UCcinq1ymmAmhFZzy...|WfxauEGmDfg|assunto_power_bi|\n",
      "|Ugw8tOq4aOE1sEGt0...|Bom dia. Muito a ...|UCcinq1ymmAmhFZzy...|WfxauEGmDfg|assunto_power_bi|\n",
      "|UgwqdB2eqdYuHyzR5...|É um ruim pq tem ...|UCcinq1ymmAmhFZzy...|WfxauEGmDfg|assunto_power_bi|\n",
      "|UgxMWhddO1ewy2CoW...|Responsa e na mor...|UCcinq1ymmAmhFZzy...|WfxauEGmDfg|assunto_power_bi|\n",
      "|UgyD7jgZ2bekk4gPs...|Infelizmente e só...|UCcinq1ymmAmhFZzy...|WfxauEGmDfg|assunto_power_bi|\n",
      "+--------------------+--------------------+--------------------+-----------+----------------+\n",
      "only showing top 20 rows\n",
      "\n"
     ]
    }
   ],
   "source": [
    "df_assunto_comentarios_power_bi = nova_coluna(df_assunto_comentarios_power_bi, 'assunto_power_bi')\n",
    "df_assunto_comentarios_power_bi.show()"
   ]
  },
  {
   "cell_type": "code",
   "execution_count": 18,
   "metadata": {},
   "outputs": [
    {
     "name": "stderr",
     "output_type": "stream",
     "text": [
      "                                                                                \r"
     ]
    },
    {
     "name": "stdout",
     "output_type": "stream",
     "text": [
      "+--------------------+--------------------+--------------------+-----------+\n",
      "|       ID_COMENTARIO|    TEXTO_COMENTARIO|            ID_CANAL|   ID_VIDEO|\n",
      "+--------------------+--------------------+--------------------+-----------+\n",
      "|Ugwo1A4xrDaZ-XKGN...|     Muito obrigado.|UCEQ12yB8QLw9pVOY...|V_sQAmzhrdE|\n",
      "|UgxgC8_ga_1__iwbH...|O STF, através do...|UCEQ12yB8QLw9pVOY...|V_sQAmzhrdE|\n",
      "+--------------------+--------------------+--------------------+-----------+\n",
      "only showing top 2 rows\n",
      "\n"
     ]
    }
   ],
   "source": [
    "df_assunto_comentarios_python_and_dados = spark \\\n",
    "    .read \\\n",
    "        .parquet('/home/rodrigo/Documentos/projetos/open_weather_api_apache/analise_dados_youtube/data/projetos_youtube_v2/ouro/assunto_python_and_dados/comentarios/comentarios.parquet')\n",
    "df_assunto_comentarios_python_and_dados.show(2)"
   ]
  },
  {
   "cell_type": "code",
   "execution_count": 19,
   "metadata": {},
   "outputs": [
    {
     "name": "stdout",
     "output_type": "stream",
     "text": [
      "+--------------------+--------------------+--------------------+-----------+--------------------+\n",
      "|       ID_COMENTARIO|    TEXTO_COMENTARIO|            ID_CANAL|   ID_VIDEO|             ASSUNTO|\n",
      "+--------------------+--------------------+--------------------+-----------+--------------------+\n",
      "|Ugwo1A4xrDaZ-XKGN...|     Muito obrigado.|UCEQ12yB8QLw9pVOY...|V_sQAmzhrdE|assunto_python_an...|\n",
      "|UgxgC8_ga_1__iwbH...|O STF, através do...|UCEQ12yB8QLw9pVOY...|V_sQAmzhrdE|assunto_python_an...|\n",
      "|UgypMe09kA5OSkuWR...|           Muito bem|UCEQ12yB8QLw9pVOY...|V_sQAmzhrdE|assunto_python_an...|\n",
      "|UgzJ4nJ8p_GS6npgi...|Religiosos e suas...|UCEQ12yB8QLw9pVOY...|V_sQAmzhrdE|assunto_python_an...|\n",
      "|UgxDzoXOXpdpV8RWT...|Ahhhhhh, o ser hu...|UCEQ12yB8QLw9pVOY...|V_sQAmzhrdE|assunto_python_an...|\n",
      "|UgwKgkQrOoHt5HiDt...|SÉCULOS  ATRÁS  E...|UCEQ12yB8QLw9pVOY...|V_sQAmzhrdE|assunto_python_an...|\n",
      "|UgzvCEPAT80vyKlad...| Muito bom obrigado!|UCEQ12yB8QLw9pVOY...|V_sQAmzhrdE|assunto_python_an...|\n",
      "|Ugy1wXhWhj6jTErOV...|Bela explanação s...|UCEQ12yB8QLw9pVOY...|V_sQAmzhrdE|assunto_python_an...|\n",
      "|UgygviyhiJJdAOTz7...|Sugiro im vídeo s...|UCEQ12yB8QLw9pVOY...|V_sQAmzhrdE|assunto_python_an...|\n",
      "|UgyT1nTG54-rQc2Z_...|Obrigada pelo víd...|UCEQ12yB8QLw9pVOY...|V_sQAmzhrdE|assunto_python_an...|\n",
      "|Ugx2EBW9OLc27Fyto...|Agradeço por comp...|UCEQ12yB8QLw9pVOY...|V_sQAmzhrdE|assunto_python_an...|\n",
      "|UgymQ6sDEqfTOVLxD...|O problema não é ...|UCEQ12yB8QLw9pVOY...|V_sQAmzhrdE|assunto_python_an...|\n",
      "|UgzTFZDLeVombVlOS...|Poderia começar a...|UCEQ12yB8QLw9pVOY...|V_sQAmzhrdE|assunto_python_an...|\n",
      "|Ugz2BoGg-WBAKZYS3...|Boa noite meu que...|UCEQ12yB8QLw9pVOY...|V_sQAmzhrdE|assunto_python_an...|\n",
      "|UgwMihQ45Uuz3XSeV...|Hoje BR  Temos in...|UCEQ12yB8QLw9pVOY...|V_sQAmzhrdE|assunto_python_an...|\n",
      "|Ugx1gr9rj8XNkTEFH...|Enfim, tudo trata...|UCEQ12yB8QLw9pVOY...|V_sQAmzhrdE|assunto_python_an...|\n",
      "|UgxcUnE8RKaTJAgVI...|Parabéns! Esse ca...|UCEQ12yB8QLw9pVOY...|V_sQAmzhrdE|assunto_python_an...|\n",
      "|UgyBAPQXBBLU_GWDO...|Show!!! <br>Parab...|UCEQ12yB8QLw9pVOY...|V_sQAmzhrdE|assunto_python_an...|\n",
      "|UgydinggSOTXorR1O...|Misericórdia essa...|UCEQ12yB8QLw9pVOY...|V_sQAmzhrdE|assunto_python_an...|\n",
      "|Ugy-DxKLsY2bHl3el...|Muitas coisas,o p...|UCEQ12yB8QLw9pVOY...|V_sQAmzhrdE|assunto_python_an...|\n",
      "+--------------------+--------------------+--------------------+-----------+--------------------+\n",
      "only showing top 20 rows\n",
      "\n"
     ]
    }
   ],
   "source": [
    "df_assunto_comentarios_python_and_dados = nova_coluna(df_assunto_comentarios_python_and_dados, 'assunto_python_and_dados')\n",
    "df_assunto_comentarios_python_and_dados.show()"
   ]
  },
  {
   "cell_type": "code",
   "execution_count": 20,
   "metadata": {},
   "outputs": [],
   "source": [
    "df_comentarios = df_assunto_comentarios_cities_sklines.union(df_assunto_comentarios_cities_sklines_dois).union(df_assunto_comentarios_power_bi).union(df_assunto_comentarios_python_and_dados)\n"
   ]
  },
  {
   "cell_type": "code",
   "execution_count": 21,
   "metadata": {},
   "outputs": [
    {
     "name": "stdout",
     "output_type": "stream",
     "text": [
      "+--------------------------+------------------------------------------------------------------------------------------------------------------------------------------------------------------------------------------------------------------------------------------------------------------------------------------------------------------------------------------------------------------------------------------------------------------------------------------------------------------------------------------------------------------------------------------------------------------+------------------------+-----------+-----------------------+\n",
      "|ID_COMENTARIO             |TEXTO_COMENTARIO                                                                                                                                                                                                                                                                                                                                                                                                                                                                                                                                                  |ID_CANAL                |ID_VIDEO   |ASSUNTO                |\n",
      "+--------------------------+------------------------------------------------------------------------------------------------------------------------------------------------------------------------------------------------------------------------------------------------------------------------------------------------------------------------------------------------------------------------------------------------------------------------------------------------------------------------------------------------------------------------------------------------------------------+------------------------+-----------+-----------------------+\n",
      "|UgycI1RA11Co3b6KNbV4AaABAg|É muito simples, o jogo não está pronto.<br>Espera os desenvolvedores terminarem e depois compra. (ou joga caso já comprou) <br>Um ótimo jogo estilo Simcity pra jogar.                                                                                                                                                                                                                                                                                                                                                                                           |UCoTIpyf8_RGzJ1LPTmvadaA|L17Ox3uFAdo|assunto_cities_skylines|\n",
      "|Ugzh6_xR_K2mmb5ZhgV4AaABAg|cade o video do miranha todo quebrado? ahh nao pode?                                                                                                                                                                                                                                                                                                                                                                                                                                                                                                              |UCoTIpyf8_RGzJ1LPTmvadaA|L17Ox3uFAdo|assunto_cities_skylines|\n",
      "|Ugx5tVA2vkeS-TbFIch4AaABAg|Acho que o próximo jogo deles o Life by You também vai vim bugado                                                                                                                                                                                                                                                                                                                                                                                                                                                                                                 |UCoTIpyf8_RGzJ1LPTmvadaA|L17Ox3uFAdo|assunto_cities_skylines|\n",
      "|UgypfvYbz-wJEZLTo2l4AaABAg|A questão da otimização com ctz é p deixar a glr pê da vida, mas os bonecos... O tanto de detalhe q tem, é melhor o boneco assim Doq o contrário                                                                                                                                                                                                                                                                                                                                                                                                                  |UCoTIpyf8_RGzJ1LPTmvadaA|L17Ox3uFAdo|assunto_cities_skylines|\n",
      "|UgxQI3WnlJPfyhVTtEJ4AaABAg|Realmente parece que tá difícil fazer jogo novo sem um kilos de bugs, imagino que na época do PS2 eles tinham bem mais ferramentas de criação,hoje deve tá bem limitado pra isso ocorrer com frequência.                                                                                                                                                                                                                                                                                                                                                          |UCoTIpyf8_RGzJ1LPTmvadaA|L17Ox3uFAdo|assunto_cities_skylines|\n",
      "|UgxpCGs6hC0xqZHfVi94AaABAg|Pelo amor de deus central Revivem o PAU GENIAL AWARDS, Por que esse ano temos concorrentes bons pra ser o pior jogo do ano                                                                                                                                                                                                                                                                                                                                                                                                                                        |UCoTIpyf8_RGzJ1LPTmvadaA|L17Ox3uFAdo|assunto_cities_skylines|\n",
      "|Ugw_I4QstOoUSOZCg3l4AaABAg|Paradox sendo Paradox, daqui uns 2 anos vai ser o melhor city builder das últimas décadas, além dos incontáveis mods que sustentaram o antigo Cities sendo portados pro novo                                                                                                                                                                                                                                                                                                                                                                                      |UCoTIpyf8_RGzJ1LPTmvadaA|L17Ox3uFAdo|assunto_cities_skylines|\n",
      "|UgxD2YXLfXIOQ2VdnYd4AaABAg|boa tarde                                                                                                                                                                                                                                                                                                                                                                                                                                                                                                                                                         |UCoTIpyf8_RGzJ1LPTmvadaA|L17Ox3uFAdo|assunto_cities_skylines|\n",
      "|UgyPfxVzUhuBrBH6VHd4AaABAg|Dps falam do meu Starfield                                                                                                                                                                                                                                                                                                                                                                                                                                                                                                                                        |UCoTIpyf8_RGzJ1LPTmvadaA|L17Ox3uFAdo|assunto_cities_skylines|\n",
      "|UgwCO5IvAmGY5P9HiYB4AaABAg|O Jogo é maravilhoso, o problema é o desempenho no meu PC no muito baixo tá rodando 20 fps haha.                                                                                                                                                                                                                                                                                                                                                                                                                                                                  |UCoTIpyf8_RGzJ1LPTmvadaA|L17Ox3uFAdo|assunto_cities_skylines|\n",
      "|Ugyq0qoTLUKW5LI4yF54AaABAg|mas não falam do spider man 2 quebrado                                                                                                                                                                                                                                                                                                                                                                                                                                                                                                                            |UCoTIpyf8_RGzJ1LPTmvadaA|L17Ox3uFAdo|assunto_cities_skylines|\n",
      "|UgzrxdtQ4pqBsN-sUB14AaABAg|<a href=\"https://www.youtube.com/watch?v=L17Ox3uFAdo&amp;t=7m50s\">7:50</a> &quot;Cities 1 é um dos games que os desenvolvedores cobraram muito barato pelo game&quot;🙄<br>O jogo custa R$88,99 e tem R$1309,82 em DLC&#39;s que na grande maioria já deveria estar no jogo base. Essa tática do jogo barato com muitas DLC&#39;s já está velha, The Sims 4 de graça com R$4220,73 de DLC tá aí pra provar.<br>Sem contar que até hoje a IA do trânsito do CS1 é muito burra, vergonha até hoje não incluirem funções de MODs como o Traffic Manager no jogo base.|UCoTIpyf8_RGzJ1LPTmvadaA|L17Ox3uFAdo|assunto_cities_skylines|\n",
      "|Ugw_xIIka19u65ITYnh4AaABAg|Colossal Order: Precisamos de mais tempo para polir o game!<br><br>Paradox: Foda-se? Aproveita e já coloca aí uma DLC de praiakkkkkkl                                                                                                                                                                                                                                                                                                                                                                                                                             |UCoTIpyf8_RGzJ1LPTmvadaA|L17Ox3uFAdo|assunto_cities_skylines|\n",
      "|UgyCBubEF2Ij2Y5RBmd4AaABAg|Mais um jogo que vou esperar arrumar pra daí sim comprar com desconto. Pelo menos tenho o primeiro Cities                                                                                                                                                                                                                                                                                                                                                                                                                                                         |UCoTIpyf8_RGzJ1LPTmvadaA|L17Ox3uFAdo|assunto_cities_skylines|\n",
      "|UgzKFXehReYvcYzVUzp4AaABAg|E a pressa em lançar um game assim, é pra encher o game pass de opções? E outra questão,  quanto tempo afinal é necessário para desenvolver e lançar um jogo bom, sem bugs? A culpa nos últimos anos era da pandemia,  e agora, de quem é a culpa por tantos games bugados serem lançados? O que esse desenvolvedores ficam fazendo nos seus escritórios, que não testam esses games antes do lançamento?                                                                                                                                                         |UCoTIpyf8_RGzJ1LPTmvadaA|L17Ox3uFAdo|assunto_cities_skylines|\n",
      "|UgxkuHWTRUx176cqzGF4AaABAg|Estou jogando de forma pífia numa config pouco acima da mínima recomendada. Confesso que por gostar muito, acabo me divertindo mesmo ele rodando em qualidade de porno japones, todo pixelado fudido 17 fps kkkkkk                                                                                                                                                                                                                                                                                                                                                |UCoTIpyf8_RGzJ1LPTmvadaA|L17Ox3uFAdo|assunto_cities_skylines|\n",
      "|UgxT1569uVRH6kLwwdx4AaABAg|essa do PC siqueira foi de fude kkkk mds piada nível Leo lins kkk essa me quebrou                                                                                                                                                                                                                                                                                                                                                                                                                                                                                 |UCoTIpyf8_RGzJ1LPTmvadaA|L17Ox3uFAdo|assunto_cities_skylines|\n",
      "|UgydXIHyYcn7YcbQj2J4AaABAg|o cities 1 só era jogavel com os mods da comunidade, essa IA dos npcs obviamente exigiria muito de hardware entao eu tbm ja tava esperando pelo menos um i5/r5 da vida de processador mais tem uns bug chatos de trafico nas faixas q faz eu ter saudades dos mods do cities 1, por sorte a paradox costuma incentivar os mods entao a propria comunidade vai acabar arrumando algumas coisa mais eles deveriam ter incluido aquele mod de controle de faixas pelo menos no jogo base.                                                                            |UCoTIpyf8_RGzJ1LPTmvadaA|L17Ox3uFAdo|assunto_cities_skylines|\n",
      "|Ugw8TmBBPHJT5s4zjQB4AaABAg|Para mim ja ficou claro. Jogos estao tpdps quebrados. Não é para comprar no lançamento.                                                                                                                                                                                                                                                                                                                                                                                                                                                                           |UCoTIpyf8_RGzJ1LPTmvadaA|L17Ox3uFAdo|assunto_cities_skylines|\n",
      "|UgzURReOQLpXzdmCxC94AaABAg|Aí os dev vem com aquela desculpa esfarrapada de &quot; jogo de nova geração&quot; porra o jogo tá pior em gráficos do que o cities 1, e ainda meteram que o alvo era 30 FPS                                                                                                                                                                                                                                                                                                                                                                                      |UCoTIpyf8_RGzJ1LPTmvadaA|L17Ox3uFAdo|assunto_cities_skylines|\n",
      "+--------------------------+------------------------------------------------------------------------------------------------------------------------------------------------------------------------------------------------------------------------------------------------------------------------------------------------------------------------------------------------------------------------------------------------------------------------------------------------------------------------------------------------------------------------------------------------------------------+------------------------+-----------+-----------------------+\n",
      "only showing top 20 rows\n",
      "\n"
     ]
    }
   ],
   "source": [
    "df_comentarios.show(truncate=False)"
   ]
  },
  {
   "cell_type": "code",
   "execution_count": 22,
   "metadata": {},
   "outputs": [
    {
     "name": "stderr",
     "output_type": "stream",
     "text": [
      "[Stage 54:>                                                        (0 + 8) / 32]\r"
     ]
    },
    {
     "name": "stdout",
     "output_type": "stream",
     "text": [
      "23/11/18 23:43:33 WARN MemoryManager: Total allocation exceeds 95,00% (906.992.014 bytes) of heap memory\n",
      "Scaling row group sizes to 96,54% for 7 writers\n",
      "23/11/18 23:43:33 WARN MemoryManager: Total allocation exceeds 95,00% (906.992.014 bytes) of heap memory\n",
      "Scaling row group sizes to 84,47% for 8 writers\n",
      "23/11/18 23:43:33 WARN MemoryManager: Total allocation exceeds 95,00% (906.992.014 bytes) of heap memory\n",
      "Scaling row group sizes to 96,54% for 7 writers\n"
     ]
    },
    {
     "name": "stderr",
     "output_type": "stream",
     "text": [
      "                                                                                \r"
     ]
    }
   ],
   "source": [
    "df_comentarios.write.partitionBy('ASSUNTO', 'ID_CANAL', 'ID_VIDEO') \\\n",
    "    .parquet('../data/projetos_youtube_v2/novo_ouro/comentarios.parquet')"
   ]
  },
  {
   "cell_type": "markdown",
   "metadata": {},
   "source": [
    "- Resposta Comentários"
   ]
  },
  {
   "cell_type": "code",
   "execution_count": 23,
   "metadata": {},
   "outputs": [],
   "source": [
    "lista_assunto = [\n",
    "        'assunto_cities_skylines',\n",
    "        'assunto_cities_skylines_2',\n",
    "        'assunto_power_bi',\n",
    "        'assunto_python_and_dados'\n",
    "]"
   ]
  },
  {
   "cell_type": "code",
   "execution_count": 24,
   "metadata": {},
   "outputs": [
    {
     "name": "stderr",
     "output_type": "stream",
     "text": [
      "                                                                                \r"
     ]
    }
   ],
   "source": [
    "lista_df_resposta_comentarios = []\n",
    "for assunto in lista_assunto:\n",
    "    df_resposta_comentarios = spark.read \\\n",
    "        .parquet(f'/home/rodrigo/Documentos/projetos/open_weather_api_apache/analise_dados_youtube/data/projetos_youtube_v2/ouro/{assunto}/reposta_comentarios/reposta_comentarios.parquet')\n",
    "    df_resposta_comentarios = df_resposta_comentarios.withColumn('ID_COMENTARIO', F.split(df_resposta_comentarios[\"ID_RESPOSTA_COMENTARIOS\"], \"\\\\.\")[0])\n",
    "    df_resposta_comentarios = df_resposta_comentarios.withColumn('ID_RESPOSTA_COMENTARIOS', F.split(df_resposta_comentarios[\"ID_RESPOSTA_COMENTARIOS\"], \"\\\\.\")[1])\n",
    "    df_resposta_comentarios = df_resposta_comentarios.withColumn('ASSUNTO', F.lit(assunto))\n",
    "    lista_df_resposta_comentarios.append(df_resposta_comentarios)"
   ]
  },
  {
   "cell_type": "code",
   "execution_count": 25,
   "metadata": {},
   "outputs": [
    {
     "name": "stderr",
     "output_type": "stream",
     "text": [
      "[Stage 63:>                                                         (0 + 1) / 1]\r"
     ]
    },
    {
     "name": "stdout",
     "output_type": "stream",
     "text": [
      "+---------------------------------------------------------------------------------------------------------------------------------------------------------------------------------------------------------------------------------------------------------------------------------------------------------------------------------------------------------------------------------------------------------------------------------------------------------------------------------------------------------------------------------------------------------------------------------------------------------------------------------------------------------------------------------------------------------------------------------------------------------------------------------------------------------------------------------------------------------------------------------------------------------------------------------------------------------------------------------------------------------------------------------------------------------------------------------------------------------------------------------------------------+------------------------+-----------------------+--------------------------+----------------+\n",
      "|TEXTO                                                                                                                                                                                                                                                                                                                                                                                                                                                                                                                                                                                                                                                                                                                                                                                                                                                                                                                                                                                                                                                                                                                                              |ID_CANAL                |ID_RESPOSTA_COMENTARIOS|ID_COMENTARIO             |ASSUNTO         |\n",
      "+---------------------------------------------------------------------------------------------------------------------------------------------------------------------------------------------------------------------------------------------------------------------------------------------------------------------------------------------------------------------------------------------------------------------------------------------------------------------------------------------------------------------------------------------------------------------------------------------------------------------------------------------------------------------------------------------------------------------------------------------------------------------------------------------------------------------------------------------------------------------------------------------------------------------------------------------------------------------------------------------------------------------------------------------------------------------------------------------------------------------------------------------------+------------------------+-----------------------+--------------------------+----------------+\n",
      "|Opa, tudo bom Luiz? Muito obrigado pelo feedback. Vou tentar explicar esses pontos.\\n\\n1 - O cálculo de Movimentação é apenas pra que seja possível chegar no Headcount. Por isso tenho que subtrair qtde que saiu da quantidade que entrou e conseguir saber quantos funcionários tenho na empresa, é fazer um saldo mesmo. Porém, no cálculo do TURNOVER perceba que os demitidos é somado no numerador, eles estão sendo considerados.\\n\\n2 - Nesse caso depende de como está a tabela. A que eu usei cada registro é um funcionário mostrando quando entrou e saiu, ele n se repete, por isso posso usar a COUNTROWS. Se a tabela focasse em outro tipo de registro q o funcionário se repete, ou se ele trocar de setor é um novo registro, aí teria q usar a DISTINCTCOUNT mesmo.\\n\\n3 e 4 - Depende da regra do negócio, como falei no vídeo. Essa é uma das fórmulas padrão, mas existem várias. Algumas consideram o período corrente, outras apenas qtde de demitidos pelo período corrente. Depende muito da linha da empresa. Vale um estudo pra ver qual fórmula mais se adequa à realidade da empresa.\\n\\nEspero ter ajudado.\\nAbraço|UCOcjS2ppQSqIsbMgWGCfLew|9w0-rMGGB6_9w0B-evPhYh |Ugy8BJaSvYXUyviqtER4AaABAg|assunto_power_bi|\n",
      "|O Serjão é um Mestre em sua área e de uma humildade e inteligência notável...por isso seu sucesso na Internet e em tudo o que ele se propor a fazer... Vai emagrecer e ter bastante qualidade de vida e saúde para nos brindar com sua sabedoria e os vídeos aula do universo e tecnologias desenvolvidas para o espaço terrestre e além, é uma honra para nós brasileiros ter esse Mestre aí do Brasil na internet, vivo na Flórida, cidadão americano e brasileiro e desde que assisti a chegada do homem na Lua pela tv 📺 (era bem assim ela naquela época kkkkk😂😂😂😂😂😂😂) fiquei apaixonado 🥰 pelo espaço... Parabéns Serjão !!!😊                                                                                                                                                                                                                                                                                                                                                                                                                                                                                                      |UC_Fk7hHbl7vv_7K8tYqJd5A|9wG279ygBeC9wI8x9x1gza |Ugy0n2RTLhGkN99mNOp4AaABAg|assunto_power_bi|\n",
      "|@Caio Franco que bobagem é essa. Os jogos clássicos eram cheio de erros. O xadrez evolui como tudo no mundo. Você anda de carro com carburador hoje em dia? Então é normal que as tecnologias tenham chegado ao xadrez também. Na hora da partida ninguem usa engine, exceto um jogador que você sabe qual é. É bacana ver esses jogos clássicos, mas temos que dar prioridade aos torneios atuais, e não ficar vivendo desse passado que não volta mais.                                                                                                                                                                                                                                                                                                                                                                                                                                                                                                                                                                                                                                                                                          |UC5K-TQsItHnNLjqYf8A3CTw|9wGSqJ39wqr9wLmI9oCgML |Ugwr9RxvKwti9d93WRB4AaABAg|assunto_power_bi|\n",
      "|Técnico adm: fique atenta em relação ao Instituto Federal Sul de Minas.\\nEles têm e sempre abrem inscrições. \\n100% EAD\\nAcessa o site deles e já salva a página.\\nEles abrem esses editais durante o ano e às vezes é por sorteio ou nota do ensino médio ou Enem.\\nEncerrou agora um edital deles c curso técnico DS 100 %EAD.\\nDaqui a pouco vai abrir p ADM.\\nGratuito tbm e 100 % EAD                                                                                                                                                                                                                                                                                                                                                                                                                                                                                                                                                                                                                                                                                                                                                         |UCcinq1ymmAmhFZzyOeaGjiA|9wG4Y7am33M9wMS8nZeNla |Ugx5WKNYSEzHTStmADN4AaABAg|assunto_power_bi|\n",
      "|@Renan Crepaldi mesmo assim. Você tá falando de um jogador da terceira idade do xadrez. E mesmo assim, é mais fácil então comentar que a India vem forte, e não os asiáticos, pois só a India tem participação nisso (exceto Ding Liren). O restante dos países asiáticos não são tão expressivos assim, nem mesmo a China que, por sua grandeza, poderia ter mais grandes jogadores.                                                                                                                                                                                                                                                                                                                                                                                                                                                                                                                                                                                                                                                                                                                                                              |UC5K-TQsItHnNLjqYf8A3CTw|9wGWdP0GGQ59wLleEVR2dt |UgyI2VHceNpu7WIXBdd4AaABAg|assunto_power_bi|\n",
      "|Olá Jair, muito obrigado!\\nSobre a sua pergunta não sei te responder.\\nSobre performace no Power BI Services, noto sim uma ligeiro tempo de refresh menor de uma medida por exemplo explodida em uma grande matriz com grão bem baixo. Nada que seja gritante.\\nO ganho principal é em relação a produtividade.\\nMuito obrigado pelo seu comentário.                                                                                                                                                                                                                                                                                                                                                                                                                                                                                                                                                                                                                                                                                                                                                                                               |UCst_4Wi9DkGAc28uEPlHHHw|9vzlL-xYTg09w-2jQ9uQU5 |Ugx5KX2nZFPGlOMfOSJ4AaABAg|assunto_power_bi|\n",
      "|Eu creio que são pelas palavras chaves. O que a vaga está pedindo e o que vc já fez. Mas não fique desanimada vai se preparando,e se escrevendo em outras vagas. \\nEsse ano já fez três entrevistas  onde passei pelo RH e fiquei no gestor... Fora as que não passei na dinâmica em grupo, então estou estudando mais,e mais...pegando as dicas.                                                                                                                                                                                                                                                                                                                                                                                                                                                                                                                                                                                                                                                                                                                                                                                                  |UCcuLEJUZy4jo9iFvngkoBUg|9vwdfFwQCgi9vyckk4RDNc |UgyRm3_wTKUiCSMP2OB4AaABAg|assunto_power_bi|\n",
      "|bom, eu não utilizei a mesma planilha do vídeo mas ficou assim: =C4*PROCX(C2;G3:G5;PROCX(C3;H2:J2;H3:J5))*PROCX(C5;L2:L11;M2:M11+1) \\nO primeiro PROCX foi para localizar o fornecedor, o segundo para o produto e o terceiro para o cálculo dos  juros. E  tudo multiplicado pela qtd.\\nÉ só pesquisar por PROCX Bidirecional 🫡                                                                                                                                                                                                                                                                                                                                                                                                                                                                                                                                                                                                                                                                                                                                                                                                                  |UCYlKzOEFqJso5foiWbRLZMA|9vzY2H7CI0V9w0CEqxtKGo |UgxmkSCWTM6dQn1JxGt4AaABAg|assunto_power_bi|\n",
      "|Seu comentário é bastante pertinente, mas desenvolver a sua análise crítica independente da ferramenta e sim de cada pessoa, eu por exemplo sou da aérea de exatas, então ser da área de vendas não me atrai, mas o financeiro é mais interessante, isso tem haver cmg, com que eu gosto de fazer e minha aptidão.                                                                                                                                                                                                                                                                                                                                                                                                                                                                                                                                                                                                                                                                                                                                                                                                                                 |UCak0L-2P3B9-sf9-yiuJj6Q|9wJIEswTctA9wJP22E2Lx5 |UgyxPKfkgOMAhK3xEOJ4AaABAg|assunto_power_bi|\n",
      "|Verdade.\\nFiquei sabendo de Pós Graduação através daqui do canal da Mari; Graças a DEUS consegui uma vaga. Moro em São Paulo e a Instituição é em Minas Gerais; é na Modalidade Ead mesmoooo 🙏🏻🙏🏻🙏🏻🙏🏻 1Ano de excelente Curso e sem precisar de encontros presenciais. Fazemos encontros online.                                                                                                                                                                                                                                                                                                                                                                                                                                                                                                                                                                                                                                                                                                                                                                                                                                           |UCcinq1ymmAmhFZzyOeaGjiA|9wGcHQjwqnJ9wKwNLyCLCW |Ugy5HrNcBTjnpX-pR7t4AaABAg|assunto_power_bi|\n",
      "|As listas (que seriam a base) são gerenciadas pelo sharepoint e da pra gerencia-las de diversas maneiras - por exemplo por um app construído pelo Power Apps. Já os arquivos ficam em containers de documentos, e você pode sincroniza-los com a máquina, e o OneDrive faria esse gerenciamento junto ao contêiner                                                                                                                                                                                                                                                                                                                                                                                                                                                                                                                                                                                                                                                                                                                                                                                                                                 |UCak0L-2P3B9-sf9-yiuJj6Q|9w1ORUgcwI-9w2diT86RIV |Ugw3rAOeiLgWWviLxZ14AaABAg|assunto_power_bi|\n",
      "|Boa noite! Olha, pelo que eu sei, está disponivél nas versões 365, 2021 e Excel Online.\\nMas.... Caso você não tenha o PROCX, dá para utilizar o índice Corresp, talvez não tenha todas as funcionalidades do PROCX, mas é uma boa alternativa.\\nEsse vídeo pode te ajudar: https://youtu.be/DaVnuPp65Uo                                                                                                                                                                                                                                                                                                                                                                                                                                                                                                                                                                                                                                                                                                                                                                                                                                           |UCdsG3oYcpaxIZNm_Vy_nMxA|9vzYbObSSmQ9vzgGWrOJqK |UgxjkJZTgYBzT8V_Xzx4AaABAg|assunto_power_bi|\n",
      "|Não desista, está acontecendo a mesma coisa comigo, estou me preparando pra próxima oportunidade quando surgir.  A gente cai levanta,sacode a poeira e volta a andar não pode e desistir.\\nE se caso tiver uma condição faz um simulação com o Rômulo eu mês que vem vou fazer uma simulação com ele.                                                                                                                                                                                                                                                                                                                                                                                                                                                                                                                                                                                                                                                                                                                                                                                                                                              |UCcuLEJUZy4jo9iFvngkoBUg|9wBS3UnawG39wBid3RhDLE |UgxZ9yiZ9tIILkZzUOR4AaABAg|assunto_power_bi|\n",
      "|Olá, que ótimo, boa sorte, espero que esteja preparado quando a oportunidade surgir, boom, se a fórmula não possuir nenhum erro geralmente esse problema é de acesso na fonte, veja se vc tem permissão para editar a fonte de dados, se não tiver permissão é por isso que ocorre o erro                                                                                                                                                                                                                                                                                                                                                                                                                                                                                                                                                                                                                                                                                                                                                                                                                                                          |UCMB6WVI6-fRRhw0AEPPVrUA|9wKsu1HKC6o9wKtNvk1Vw_ |UgyKsXi7bxsFW-uKZjd4AaABAg|assunto_power_bi|\n",
      "|Se você está disponível a se mudar para outro lugar eu acho que e uma boa ideia. Mas você tem que avaliar, o quanto você vai gastar pra manter uma casa a família e quanto você vai ganhar.   Avalia e manda um currículo quem sabe não te chama para uma entrevista. Boa Sorte.                                                                                                                                                                                                                                                                                                                                                                                                                                                                                                                                                                                                                                                                                                                                                                                                                                                                   |UCcuLEJUZy4jo9iFvngkoBUg|9wIadhH_Ob09wNL3pcJW__ |UgwiOLAnTETpxsfObpF4AaABAg|assunto_power_bi|\n",
      "|​​​​@WillNada se compara aos clássicos, cara. Os jogos atuais são muito pragmaticos. Todos parecem que fazem a mesma coisa. Não existe um Aleckine, Karpov, Kasparov, Ficsher. Esses caras brilhavam sem o uso de engines, o que tornava o xadrez ainda mais maravilhoso.                                                                                                                                                                                                                                                                                                                                                                                                                                                                                                                                                                                                                                                                                                                                                                                                                                                                          |UC5K-TQsItHnNLjqYf8A3CTw|9wGSqJ39wqr9wHnDdPPq9q |Ugwr9RxvKwti9d93WRB4AaABAg|assunto_power_bi|\n",
      "|@Jennifer Oliveira | GRUPO TAN, você está certa, considerando o currículo da escola TAN, já seria adequado para atender às demandas do mercado, não é mesmo? Convenhamos, há profissionais com ensino superior por aí que deixam bastante a desejar... (nem é publi)                                                                                                                                                                                                                                                                                                                                                                                                                                                                                                                                                                                                                                                                                                                                                                                                                                                                               |UCg6yqeJJ2WMFVt9bXeUd-zA|9wE3vuTyE-S9wE6ya5ZlTp |UgwcmMNJM8lHN6YKgF94AaABAg|assunto_power_bi|\n",
      "|Mesmo assim é uma oportunidade pra quem precisa de uma profissão. Muitas pessoas fazem uma faculdade que não gostam para depois fazerem Oque amam quando estão empregadas e consegue cuidar de si e da família aí podem transicionar de carreira sem ser irresponsável...                                                                                                                                                                                                                                                                                                                                                                                                                                                                                                                                                                                                                                                                                                                                                                                                                                                                          |UCcinq1ymmAmhFZzyOeaGjiA|9wE6ZG63_aQ9wFLNKQo_Iv |UgyVlkzXiv2kumgqOZF4AaABAg|assunto_power_bi|\n",
      "|Todas as informações indicadas pela Mari estão na descrição do vídeo. https://www.gov.br/mdh/pt-br/assuntos/noticias/2023/outubro/no-dia-das-criancas-mdhc-lanca-em-parceria-com-unb-4-mil-vagas-para-cursos-sobre-garantia-dos-direitos-de-criancas-e-adolescentes                                                                                                                                                                                                                                                                                                                                                                                                                                                                                                                                                                                                                                                                                                                                                                                                                                                                                |UCcinq1ymmAmhFZzyOeaGjiA|9wMz1U25q6G9wNOALLOChD |UgxR1_KxWLJ1oCKqIn94AaABAg|assunto_power_bi|\n",
      "|@Sala de Emprego não é assim, não. O está bem enganado. O que aparece no Google são outros tipos de processos, ademais só as partes tem acesso e não fica disponível pra todo mundo, vc não terá acesso ao inteiro teor do processo.                                                                                                                                                                                                                                                                                                                                                                                                                                                                                                                                                                                                                                                                                                                                                                                                                                                                                                               |UCcuLEJUZy4jo9iFvngkoBUg|9wCh4mj7FGn9wG4-nvVCmW |Ugz6FtC6HjoJB0x9cOd4AaABAg|assunto_power_bi|\n",
      "+---------------------------------------------------------------------------------------------------------------------------------------------------------------------------------------------------------------------------------------------------------------------------------------------------------------------------------------------------------------------------------------------------------------------------------------------------------------------------------------------------------------------------------------------------------------------------------------------------------------------------------------------------------------------------------------------------------------------------------------------------------------------------------------------------------------------------------------------------------------------------------------------------------------------------------------------------------------------------------------------------------------------------------------------------------------------------------------------------------------------------------------------------+------------------------+-----------------------+--------------------------+----------------+\n",
      "only showing top 20 rows\n",
      "\n"
     ]
    },
    {
     "name": "stderr",
     "output_type": "stream",
     "text": [
      "                                                                                \r"
     ]
    }
   ],
   "source": [
    "lista_df_resposta_comentarios[2].show(truncate= False)"
   ]
  },
  {
   "cell_type": "code",
   "execution_count": 26,
   "metadata": {},
   "outputs": [],
   "source": [
    "def merge_dataframes(df1, df2):\n",
    "    return df1.union(df2)\n"
   ]
  },
  {
   "cell_type": "code",
   "execution_count": 27,
   "metadata": {},
   "outputs": [],
   "source": [
    "df_resposta_comentarios = reduce( merge_dataframes, lista_df_resposta_comentarios)\n"
   ]
  },
  {
   "cell_type": "code",
   "execution_count": 28,
   "metadata": {},
   "outputs": [
    {
     "name": "stdout",
     "output_type": "stream",
     "text": [
      "+-----------------------------------------------------------------------------------------------------------------------------------------------------------------------------------------------------------------------------------------------------------------------------------------------------------------------------------------------------------------------------------------------------------------------------------------------------------------------------------------------------------------------------------------------------------------------------------------------------------------------------------------------------------------------------------------------------------------------------------------------------------------------------------------------------------------------------------------------------------------------------------------+------------------------+-----------------------+--------------------------+-----------------------+\n",
      "|TEXTO                                                                                                                                                                                                                                                                                                                                                                                                                                                                                                                                                                                                                                                                                                                                                                                                                                                                                    |ID_CANAL                |ID_RESPOSTA_COMENTARIOS|ID_COMENTARIO             |ASSUNTO                |\n",
      "+-----------------------------------------------------------------------------------------------------------------------------------------------------------------------------------------------------------------------------------------------------------------------------------------------------------------------------------------------------------------------------------------------------------------------------------------------------------------------------------------------------------------------------------------------------------------------------------------------------------------------------------------------------------------------------------------------------------------------------------------------------------------------------------------------------------------------------------------------------------------------------------------+------------------------+-----------------------+--------------------------+-----------------------+\n",
      "|@I S K Z I Porque uma DEMO é uma versão de DEMONSTRAÇÃO, não beta ou alpha, para demonstrar as funcionalidades e capacidades básicas do seu jogo para que alguém que antes estivesse na dúvida de comprar o jogo, agora tenha certeza se vale realmente a pena comprar. Se tu põe uma versão demo cagada, o que tu acha que a pessoa vai pensar? Que o jogo é cagado, e logo não vai comprar.\\n\\nUma versão aplha/demo de um jogo é uma versão incompleta de desenvolvimento, uma demo de uma jogo é uma versão *limitada* da versão completa do jogo, são coisas completamente diferentes. Em um, falta funcionalidades, no outro as funcionalidades apenas estão bloqueadas.\\n\\nEntão só há duas possibilidades aqui: Ou o jogo está cagado do mesmo jeito no vídeo, ou os desenvolvedores não sabem fazer uma demo e fizeram a burrice de pôr uma versão alpha/beta do jogo como demo.|UCrOH1V-FyMunBIMrKL0y0xQ|9vtkj5bgC2R9vz_T3naVV5 |Ugx3JrNgDMhHKRW1sPN4AaABAg|assunto_cities_skylines|\n",
      "|yeah, is something around this percentage when using OBS at 4k60fps (1440p60fps is not much different, that's why i choose 4k, to preserve more image quality) (using nvidia shadowplay is a little less, around 10%~20% at 4K60fps, but with OBS i can make youtube process the video much faster :B)\\n\\ni tried the iGPU from my old i7-7700 once (it had a support for 1440p30/1080p60) but the frametime was much worse when recording with iGPU, somehow there's a big impact on CPU, which affect FPS/frametime (i tried with both OBS and intel program), nvenc is still the best option, even sacrificing some GPU\\n\\nso, basically, if the game is running at 20fps it will probably run at a minimum of 23fps when not recording, if it's running at 53fps then it probably runs at 61fps, or something like that                                                              |UCLAUYEY8ITQC8b47xyqybxg|9wJWjmBJg-e9wJhwOBInBI |Ugxcvzi1uCdIuIE9iQV4AaABAg|assunto_cities_skylines|\n",
      "|Menino! Onde você viu isso? Está se informando com gente mal informada!\\nO intuito dessa plataforma é justamente facilitar o uso dos mods em diferentes plataformas (Steam, Windows Store, Epic Games, Playstation, Xbox, etc.), assim os mods serão upados em um só lugar e todos poderão usar, até nos consoles (usuários de consoles só poderão usar os assets, mods de código não funcionam). No geral, vai funcionar como na Steam, você acessa a plataforma de mods pelo jogo, ou pelo navegador com sua conta da Paradox logada, escolhe e assina, o mod vai baixar e instalar automaticamente, em todas suas plataformas que você tiver o jogo. E deixaram bem claro que os mods continuarão gratuitos. Fonte: https://store.steampowered.com/news/app/949230/view/3744239010998774129?l=brazilian                                                                               |UCEfL_pp3h8Ul-LIL1C4o34w|9w4uFdTDbKJ9w4wxkdIIzq |Ugw78b1r-5e_Dj0waAl4AaABAg|assunto_cities_skylines|\n",
      "|Vou responder a galera toda desse comentário de uma vez, belê? hahahah. O dinheiro inicial é alto pra poder planejar a cidade base com mais calma e colocar o que é necessário sem falir tantas vezes. O que complica é no passar do jogo as coisas serem bastante caras na parte dos serviços e aos poucos conseguir manter o fluxo positivo. Já quase perdi cidade no Cities 2, acredite ou não, porque mesmo com subsídios não fiz a cidade dar lucro e a situ apertou rápido hahah. Dos prédios a gente só tem acesso no começo de média densidade (poucas familias) ou baixa renda (muita gente mas condições apertadas), então pra ter prédios bons mesmo é só pro marco 8~10, não lembro exato, mas ainda mais pra frente. Vou mostrar aos poucos disso pra vocês :D                                                                                                              |UCDGo_s0I-2JpO3o3xlkMQVA|9w3E4zXfe0c9w5av_rQ-we |UgyxyDNT-fo0cPniSnN4AaABAg|assunto_cities_skylines|\n",
      "|Até porque é a maneira mais inteligente de se atingir a primazia quando se trata de algo para o público.\\n\\nÉ humanamente impossível construir uma equipe que atenda de forma perfeita à todas às demandas de todos os consumidores de forma plena... É a clássica frase \"se achou ruim, faça melhor\" levada como filosofia.\\n\\nNa minha humilde visão, seria a forma perfeita de se fazer jogos daqui prá frente... Não a palhaçada que Rockstar Games e EA Games querem fazer \"tosando\" os modders e enhancers.\\n\\nVidem as maravilhas que a comunidade NFS tem feito com títulos como Underground 1 e 2, Most Wanted e Carbon, por exemplo; no Most Wanted os caras até criaram um jogo novo em homenagem ao Hot Pursuit 2 que dá de dez à zero no reboot oficial da EA...                                                                                                            |UCoTIpyf8_RGzJ1LPTmvadaA|9wLDc4WalFQ9wLRatR9jXk |Ugxls8gLmgIFKx9Fqxd4AaABAg|assunto_cities_skylines|\n",
      "|@Klyte45 Acabei de Montar assim. Ficou uma nota. Mas é um sonho realizado PROCESSADOR INTEL CORE 19 12900K ATÉ 5.2GHZ 30MB CACHE DDR4\\n\\nWATER COOLER MODO DE AUMENTAÇÃO 240MM PRETO INTEL LGA 1700\\n\\nMEMÓRIA RAM 16GB DDR4 3200MHZ CRUCIAL\\n\\nMEMÓRIA RAM 16GB DDR4 3200MHZ CRUCIAL\\n\\nMEMÓRIA RAM 16GB DDR4 3200MHZ CRUCIAL\\n\\nMEMÓRIA RAM 16GB DDR4 3200MHZ CRUCIAL\\n\\nSSD 1 TB M.2 NVME KINGSTON NV2 PCI-E 4.0\\n\\nPLACA MÃE INTEL B660M-P PRO MSI LGA 1700 DDR4\\n\\nFONTE GAMER GIGABYTE 850W 80 PLUS GOLD MODULAR PFC ATIVO\\n\\nPLACA DE VÍDEO NVIDIA RTX 4070 12GB GAINWARD GDDR6X\\n\\nGABINETE GAMER HAYOM GB1714 PRETO\\n\\nSSD 240GB M.2 NVME 2280 PATRIOT P310\\n\\nCOOLER VENTILADOR MANCER VENTUS LED BRANCO 120MM\\n\\nCOOLER VENTILADOR MANCER VENTUS LED BRANCO 120MM\\n\\nCOOLER S/ LED MODO RISE 120MM PRETO                                                                      |UCElNoZcxhVqDtZBSrdEomnA|9w67BegJ70W9w6mzEj9kA5 |UgwM5X1_RKCBh_ZNxTB4AaABAg|assunto_cities_skylines|\n",
      "|Oie Edu! Loooonge de mim querer que o jogo fique mais simples hahahah é que tem diferença entre qualidade e quantidade, não tem necessidade por exemplo renderizar milhares de peças de lixo ou dentes individualmente na boca dos cidadãos se 99% do tempo não vamos ver isso mas tá lá pesando no jogo, sabe? É igual renderizar itens dentro dos prédios, não é The Sims que em uma cidade tem 20 casas com 300 pessoas na cidade, são 50~100mil (ou mais) pessoas renderizadas completamente e isso tem um preço na otimização. Sinto que a gente podia \"perder\" em pequenos detalhes pouco vistos pra ganhar muita performance onde realmente importa, enfim tamo junto e vamos torcer que o game melhore e fique sensacional pra todo mundo poder curtir ♥                                                                                                                         |UCDGo_s0I-2JpO3o3xlkMQVA|9wFPkzrbws09wFnQDk1luB |UgyCAd_IPg91Jhb0yTx4AaABAg|assunto_cities_skylines|\n",
      "|@Igor Ia Ne sim sim. Que mais Bug do que o cyberpunk ? Kkkk o que quis dizer eh que tão comparando CS1 COM TODAS DLCS e todos os milhões de moda que tinha com um jogo que tah sendo lançado agora o CS2. Normal mão. Displacemente. Tudo que gera relevo no 3D pesa demais imagina em um jogo ... Mais eh bem isso que tu falou falta de otimização. Eles testado o game no Pc deles que deve ser monstruosa   configuração . Eu faço assim quando faço cena na unity e unreal. Faço a cena e depois vejo onde está pesando, se eh materiais. Entre outros . O que percebi nos telhados, que o relevos não são modelado e sim um mapa de displacemente para gerar relevo, Isso pesa demais no 3D para processamento da GPU                                                                                                                                                              |UCJHBJmrVd7ujf2eCEujukog|9w5JHUPgRKO9wAayT6GCby |UgxJl7t3bHyY0vaQFMt4AaABAg|assunto_cities_skylines|\n",
      "|@Cultosaurus Erectus Se o jogo é mal otimizado isso já discarta o fato de ser o melhor jogo do mundo, um jogo pra ser bom precisa ser otimizado e ter um bom progresso (não ser enjoativo). \\nUma desenvolvedora que ama o jogo que está fazendo vai prestar atenção em cada detalhezinho antes de lançar, as vezes umas \"coisinhas\" passa batido, não tem geito. \\nMas sempre vão tomar o maximo de cuidados pra lançar um jogo bom, um jogo pra fãs.\\n\\nIsso do City Skylines foi um trampo preguiçoso.\\nAssim como em Cyberpunk fizeram um trampo preguiçoso também, o jogo saiu péssimo.\\nMas aprenderam com os erros e consertaram o jogo, hoje tá muito bom e muito interessante (o Cyberpunk no caso).                                                                                                                                                                            |UCoTIpyf8_RGzJ1LPTmvadaA|9wLB8gv4bcH9wLIaNKzgI1 |UgzRzlnpt2Td0_BULZJ4AaABAg|assunto_cities_skylines|\n",
      "|😢 o atual problema que Cites Skylines 2 está sofrendo é a performance, o jogo está travando, tem muita gente reclamando do FPS, e PC gamers não tá nem dando conta sendo que a maioria dos jogos da atualidade o Pc fica liso, o jogo pecou com a otimização, alegaram que Cities Skylines 2 foi rushado e que a culpa é da Paradox Interactive, pressionando a Colossal Oder os criadores de Cites Skylines a lançar o jogo na tora sem terminar, agora o jogo está sofrendo muito com isso, o jogo tá dando problema pra muitas pessoas, e as reviews na steam da uma pena, é um problema global 😢 mas acredito que até Março do ano que vem já deve melhorar.                                                                                                                                                                                                                       |UCrOH1V-FyMunBIMrKL0y0xQ|9wJ3CYTSOEp9wJ9lArfUDq |UgySWx2wsESOlb4NLRZ4AaABAg|assunto_cities_skylines|\n",
      "|Amigo sinto lhe falar, mas você comprando o jogo na pré-venda, está praticamente incentivando a empresa dentre outras a fazer essa mesma prática em lançar o jogos as pressas com otimização medíocre e diversos bugs, justamente por que sabe que o pessoal \"imaturo\" vai comprar o jogo correndo sem ao menos ver os problemas e se realmente no estado atual do lançamento dele ele realmente vale aquilo tudo.... tudo aquilo que você acha que é realmente bom é quando você realmente vê. \\nJamais invista em algo que você não tenha certeza que é bom, e que realmente o produto final vale aquilo que é cobrado. Isso vale até mesmo para jogos.                                                                                                                                                                                                                                |UCfY4ggUDPeecGSCNePyyVSA|9w6U-RHekZU9wHDCLjp1ej |Ugzp_Hr2VMHJb40wCOR4AaABAg|assunto_cities_skylines|\n",
      "|Está muito mal informado amigo. Mais vamos lá que o Tio explica. O que a Colossal Order vai fazer e a mesma ideia que a Bethesda teve.   Junta todos os mods em um lugar só exemplo : Na steam Workshop só usuário de PC poderia utilizar.  Isso segue a linha do console mods de console só podem ser usado de console.  O que vão realmente fazer é  Tirar da Steam Workshop e colocar tudo numa plataforma só.  Para que a galera do PC e dos console possam ter acesso com mais facilidade. E não tem nada de cobrar mensalidade.  Isso não e novidade, eu até acho melhor  ficar tudo em um lugar só. Facilitar ainda mais o acesso.                                                                                                                                                                                                                                                |UCEfL_pp3h8Ul-LIL1C4o34w|9w4uFdTDbKJ9w52cRCh0lu |Ugw78b1r-5e_Dj0waAl4AaABAg|assunto_cities_skylines|\n",
      "|@Netto pelo visto voce nao entende como as coisas funcionam, então vou explicar.\\nPessoas com placas de video da serie 40 da nvidea não conseguem rodar nem a 60, voce acha mesmo que alguem com uma 2060 vai rodar? obvio que nao.\\nOutra coisa se voce acabou de começar uma cidade não fez nada e por isso NÃO tem nenhum calculo rodando, o jogo nao aguenta nem ficar a 60, imagine com uma cidade maior.\\nOutra explicação, o jogo incrivelmente está pesando mais a GPU e não a CPU, o que indica que tem algo errado, já q os gráficos não nada de surpreendente, são ok, então pq ta pesando mais a GPU? tem algo errado com o código                                                                                                                                                                                                                                           |UCEfL_pp3h8Ul-LIL1C4o34w|9w52oPKYNDf9w56a4UetRD |UgzvOOs9lTXlz1n1Mz94AaABAg|assunto_cities_skylines|\n",
      "|1) eu diria que um PC que consegue rodar skylines com alguns mods atualmente consegue também rodar o CS2 no mínimo, a depender da placa de vídeo (pois no 1 ela não é muito necessária, já no 2 é essencial). Mas cidades de 150k ou 200k devem rodar lento.\\n\\n2) essa preocupação toda não tem fundamento na realidade não, eles não fizeram esse tipo de coisa em nenhum jogo da pdx mods e eles não são gananciosos como a EA. Não há com que se preocupar por agora nesse sentido.\\n\\n3) sobre conflitos de DLC e mods, acho que não terá. Mas pra ter certeza só depois que soubermos da parte de modding                                                                                                                                                                                                                                                                          |UCElNoZcxhVqDtZBSrdEomnA|9w5r0Dw-z689w5uzlSoVFf |Ugy-h3XGPySG7uSDlPt4AaABAg|assunto_cities_skylines|\n",
      "|Olha, teu pc me parece aguentar pelo menos no mínimo. Não conheço esse teu processador mas a 3050 já deve apertar pra rodar o jogo então sugiro o upgrade primeiro nela pq o jogo tá ruim na parte da GPU mesmo, e processador agora ele aguenta multicores então consegue fluir melhor. Na Gamepass dá pra testar por 1 mês se não me engano por 25R$/mês e na Steam por 2h antes de devolver e receber o dinheiro. Sugiro também o site \"Can you Run it?\" que vai baixar um arquivo e analisar teu hardware e comparar com o que pedem pra Cities 2. Procura lá que já ajuda bastante. :)                                                                                                                                                                                                                                                                                              |UCDGo_s0I-2JpO3o3xlkMQVA|9w3A4Vty0bZ9w5b7PU9sH4 |UgzK34DqmU2JMkYitU54AaABAg|assunto_cities_skylines|\n",
      "|@Renato Dehnhardt - Fotografia  amigo, a Steam Workshop é controlada tanto pela Steam como pela Colossal. Agora, na vdd, vai ser melhor pq só a Colossal que vai controlar e eles já prometeram que não vão cobrar nada por mods. A questão é que eles perceberam que o pessoal compra Cities Skylines fora da Steam (no Xbox, no PS5, na Microsoft Store, etc.) e que só o pessoal que comprava na Steam que tinha acesso aos asset mods. Agora, todo mundo vai ter ASSET mods. (Bom ressaltar que mods continuarão exclusivos para PC, só os assets que agora poderão ser usados por outras plataformas)                                                                                                                                                                                                                                                                               |UCEfL_pp3h8Ul-LIL1C4o34w|9w4uFdTDbKJ9w66YBE8ym7 |Ugw78b1r-5e_Dj0waAl4AaABAg|assunto_cities_skylines|\n",
      "|Graficamente o cities não é muito pesado, oq tu tem mais que se importar é o processador e a ram que a longo prazo ele é bem exigente\\n\\nA config dele ele deixa no sobre do canal, a não ser que tenha mudado é pra ser \\n\\n- Processador Intel Core I9 9900K\\r\\n- Cooler Corsair H100X 240mm\\r\\n- Placa Mãe AORUS Z390 ELITE DDR4\\r\\n- Memoria XPG 64GB DDR4 Gammix D10 2666MHz\\r\\n- Galax NVIDIA Geforce RTX 2080 8GB GDDR6\\r\\n- SSD 600GB DC S3500\\r\\n- HD 1TB WD Blue Sata III\\r\\n- Fonte Corsair HX750i 80 Plus \\r\\n- Placa de Captura Elgato HD60 Pro\\r\\n- Gabinete Pichau Gaming GADIT RGB Glass                                                                                                                                                                                                                                                                                 |UCrOH1V-FyMunBIMrKL0y0xQ|9w86ovG3Icp9w8BHEElX9V |Ugwtb0MSIh1mdFeTh6d4AaABAg|assunto_cities_skylines|\n",
      "|@I S K Z I Se vc quer ter lucro no seu produto, o \"petisco\" deve ser o melhor possível. De preferência, melhor que o original, até pq vai transparecer o que ele pode oferecer. Se a demonstração está assim, é porque o resto também está, já que a demo é uma parte do jogo original, geralmente dando acesso apenas ao prólogo. Seria leviano por parte dos devs lançarem o game nesse estado atual. Vai acabar afastando interessados. Parece que nem sequer passou pela crista dos QA, isso se eles contrataram um. Mas talvez até novembro eles arrumem o game.                                                                                                                                                                                                                                                                                                                    |UCrOH1V-FyMunBIMrKL0y0xQ|9vtkj5bgC2R9vz_gls-kHu |Ugx3JrNgDMhHKRW1sPN4AaABAg|assunto_cities_skylines|\n",
      "|@Charmoso tem nada haver os caras fizeram com muito detalhe por isso desempenho igual a bunda, eles queriam fazer um jogo com uma simulação onde você poderia olhar as coisas e ver que realmente parece a vida real, porem não tem pc que aguente simular vários npcs fazendo coisas ao mesmo tempo de maneira individual, pra piorar eles ainda sofreram com pressão da paradox pra lançar o jogo na data pedida então não conseguiram fazer a tempo, o maior vilão aqui pra tu pegar pra cristo é a paradox que é tipo uma ea games só que de jogos de gerenciamento                                                                                                                                                                                                                                                                                                                  |UCoTIpyf8_RGzJ1LPTmvadaA|9wLB8gv4bcH9wLv_AJ0xpu |UgzRzlnpt2Td0_BULZJ4AaABAg|assunto_cities_skylines|\n",
      "|Oiee! Tô respondendo essas dúvidas me baseando no requerimento Recomendado, tá bem? Muitos PCs acima disso estão com problema pra rodar então acho a melhor opção. No teu caso parece que pode dar problema pq recomendam 16GB de ram e placa de vídeo com no mínimo 4gb, recomendam uma de acima de 10gb. Deve rodar, mas vai precisar ajustar bastante pra baixo e com pouco fps, se isso for OK pra ti então vale o teste. Na Steam dá pra testar o jogo 2h e devolver se não for legal. Na Gamepass dá pra testar por 1 mês se não me engano por 25R$/mês.                                                                                                                                                                                                                                                                                                                           |UCDGo_s0I-2JpO3o3xlkMQVA|9w5N-W54OS69w5_JbQaBI2 |Ugzd2WHQV4NhezRy9cN4AaABAg|assunto_cities_skylines|\n",
      "+-----------------------------------------------------------------------------------------------------------------------------------------------------------------------------------------------------------------------------------------------------------------------------------------------------------------------------------------------------------------------------------------------------------------------------------------------------------------------------------------------------------------------------------------------------------------------------------------------------------------------------------------------------------------------------------------------------------------------------------------------------------------------------------------------------------------------------------------------------------------------------------------+------------------------+-----------------------+--------------------------+-----------------------+\n",
      "only showing top 20 rows\n",
      "\n"
     ]
    }
   ],
   "source": [
    "df_resposta_comentarios.show(truncate=False)"
   ]
  },
  {
   "cell_type": "code",
   "execution_count": 29,
   "metadata": {},
   "outputs": [
    {
     "name": "stderr",
     "output_type": "stream",
     "text": [
      "                                                                                \r"
     ]
    }
   ],
   "source": [
    "df_resposta_comentarios \\\n",
    "    .write \\\n",
    "    .partitionBy('ASSUNTO', 'ID_CANAL', 'ID_COMENTARIO') \\\n",
    "    .parquet('../data/projetos_youtube_v2/novo_ouro/resposta_comentarios.parquet')"
   ]
  },
  {
   "cell_type": "markdown",
   "metadata": {},
   "source": [
    " - Total Video publicado semana"
   ]
  },
  {
   "cell_type": "code",
   "execution_count": 30,
   "metadata": {},
   "outputs": [],
   "source": [
    "lista_df_video_publicado_semana = []\n",
    "for assunto in lista_assunto:\n",
    "    df = spark.read \\\n",
    "        .parquet(f'/home/rodrigo/Documentos/projetos/open_weather_api_apache/analise_dados_youtube/data/projetos_youtube_v2/ouro/{assunto}/total_video_publicado_semana/total_video_publicado_semana.parquet')\n",
    "    df = df.withColumn('ASSUNTO', F.lit(assunto))\n",
    "    lista_df_video_publicado_semana.append(df)"
   ]
  },
  {
   "cell_type": "code",
   "execution_count": 31,
   "metadata": {},
   "outputs": [
    {
     "name": "stdout",
     "output_type": "stream",
     "text": [
      "+----------------+--------------------+------------+---------------+--------------------+--------------------+\n",
      "|SEMANA_TRADUZIDA|            NM_CANAL|TOTAL_VIDEOS|DATA_PUBLICACAO|            ID_CANAL|             ASSUNTO|\n",
      "+----------------+--------------------+------------+---------------+--------------------+--------------------+\n",
      "|    Quarta-feira|BL4D3N | Jogos de...|           1|     2023-10-25|UCIv5D2ro1owj6P7O...|assunto_cities_sk...|\n",
      "|    Quinta-feira|Bad Influence gui...|           1|     2023-10-26|UC8FS3_qf6F194QTY...|assunto_cities_sk...|\n",
      "|     Terça-feira|KyoKat PC Gamepla...|           1|     2023-10-24|UCLAUYEY8ITQC8b47...|assunto_cities_sk...|\n",
      "|   Segunda-feira|CANAL HAND - GAME...|           1|     2023-10-16|UC7v51W2NoLFawizg...|assunto_cities_sk...|\n",
      "|   Segunda-feira|CANAL HAND - GAME...|           1|     2023-10-23|UC7v51W2NoLFawizg...|assunto_cities_sk...|\n",
      "|    Quarta-feira|CANAL HAND - GAME...|           1|     2023-10-18|UC7v51W2NoLFawizg...|assunto_cities_sk...|\n",
      "|     Terça-feira|CANAL HAND - GAME...|           1|     2023-10-17|UC7v51W2NoLFawizg...|assunto_cities_sk...|\n",
      "|     Sexta-feira|CANAL HAND - GAME...|           1|     2023-10-20|UC7v51W2NoLFawizg...|assunto_cities_sk...|\n",
      "|          Sábado|CANAL HAND - GAME...|           1|     2023-10-21|UC7v51W2NoLFawizg...|assunto_cities_sk...|\n",
      "|         Domingo|CANAL HAND - GAME...|           1|     2023-10-22|UC7v51W2NoLFawizg...|assunto_cities_sk...|\n",
      "|         Domingo|CANAL HAND - GAME...|           1|     2023-10-15|UC7v51W2NoLFawizg...|assunto_cities_sk...|\n",
      "|   Segunda-feira|Lucas gameplays b...|           1|     2023-10-16|UCOYJm7BsLV8VCkW2...|assunto_cities_sk...|\n",
      "|    Quinta-feira|Lucas gameplays b...|           1|     2023-10-19|UCOYJm7BsLV8VCkW2...|assunto_cities_sk...|\n",
      "|   Segunda-feira|  Douglas Willian YT|           1|     2023-10-16|UCVM5Kg0mLSmmvdmh...|assunto_cities_sk...|\n",
      "|   Segunda-feira|             Dw Play|           1|     2023-10-16|UCVM5Kg0mLSmmvdmh...|assunto_cities_sk...|\n",
      "|     Terça-feira|Cogumelando Video...|           1|     2023-10-24|UCXso4Ho8UARhzS3I...|assunto_cities_sk...|\n",
      "|     Sexta-feira|Lucas gameplays b...|           1|     2023-10-20|UCOYJm7BsLV8VCkW2...|assunto_cities_sk...|\n",
      "|   Segunda-feira| Canal Sala de Jogos|           1|     2023-10-16|UCYEb5mbKZ5JJzN0x...|assunto_cities_sk...|\n",
      "|   Segunda-feira| Canal Sala de Jogos|           1|     2023-10-23|UCYEb5mbKZ5JJzN0x...|assunto_cities_sk...|\n",
      "|    Quinta-feira| Canal Sala de Jogos|           1|     2023-10-19|UCYEb5mbKZ5JJzN0x...|assunto_cities_sk...|\n",
      "+----------------+--------------------+------------+---------------+--------------------+--------------------+\n",
      "only showing top 20 rows\n",
      "\n"
     ]
    }
   ],
   "source": [
    "df_video_publicado_semana = reduce( merge_dataframes, lista_df_video_publicado_semana)\n",
    "df_video_publicado_semana.show()"
   ]
  },
  {
   "cell_type": "code",
   "execution_count": 32,
   "metadata": {},
   "outputs": [
    {
     "name": "stderr",
     "output_type": "stream",
     "text": [
      "[Stage 72:===================================================>    (31 + 3) / 34]\r"
     ]
    },
    {
     "name": "stdout",
     "output_type": "stream",
     "text": [
      "+-------------------------+\n",
      "|ASSUNTO                  |\n",
      "+-------------------------+\n",
      "|assunto_cities_skylines  |\n",
      "|assunto_cities_skylines_2|\n",
      "|assunto_power_bi         |\n",
      "|assunto_python_and_dados |\n",
      "+-------------------------+\n",
      "\n"
     ]
    },
    {
     "name": "stderr",
     "output_type": "stream",
     "text": [
      "                                                                                \r"
     ]
    }
   ],
   "source": [
    "df_video_publicado_semana.select('ASSUNTO').distinct().show(truncate=False)"
   ]
  },
  {
   "cell_type": "code",
   "execution_count": 33,
   "metadata": {},
   "outputs": [
    {
     "name": "stderr",
     "output_type": "stream",
     "text": [
      "[Stage 75:>                                                        (0 + 8) / 34]\r"
     ]
    },
    {
     "name": "stdout",
     "output_type": "stream",
     "text": [
      "23/11/18 23:44:52 WARN MemoryManager: Total allocation exceeds 95,00% (906.992.014 bytes) of heap memory\n",
      "Scaling row group sizes to 96,54% for 7 writers\n",
      "23/11/18 23:44:52 WARN MemoryManager: Total allocation exceeds 95,00% (906.992.014 bytes) of heap memory\n",
      "Scaling row group sizes to 84,47% for 8 writers\n",
      "23/11/18 23:44:52 WARN MemoryManager: Total allocation exceeds 95,00% (906.992.014 bytes) of heap memory\n",
      "Scaling row group sizes to 96,54% for 7 writers\n"
     ]
    },
    {
     "name": "stderr",
     "output_type": "stream",
     "text": [
      "                                                                                \r"
     ]
    }
   ],
   "source": [
    "df_video_publicado_semana \\\n",
    "    .write \\\n",
    "    .partitionBy('ASSUNTO', 'DATA_PUBLICACAO', 'ID_CANAL') \\\n",
    "    .parquet('../data/projetos_youtube_v2/novo_ouro/video_publicado_semana.parquet')"
   ]
  },
  {
   "cell_type": "markdown",
   "metadata": {},
   "source": [
    "-total Visualizações semana"
   ]
  },
  {
   "cell_type": "code",
   "execution_count": 34,
   "metadata": {},
   "outputs": [],
   "source": [
    "lista_df_visualizacoes = []\n",
    "for assunto in lista_assunto:\n",
    "    df = spark.read \\\n",
    "        .parquet(f'/home/rodrigo/Documentos/projetos/open_weather_api_apache/analise_dados_youtube/data/projetos_youtube_v2/ouro/{assunto}/total_visualizacoes_por_semana/total_visualizacoes_por_semana.parquet')\n",
    "    df = df.withColumn('ASSUNTO', F.lit(assunto))\n",
    "    lista_df_visualizacoes.append(df)"
   ]
  },
  {
   "cell_type": "code",
   "execution_count": 35,
   "metadata": {},
   "outputs": [
    {
     "name": "stderr",
     "output_type": "stream",
     "text": [
      "[Stage 113:>                                                        (0 + 1) / 1]\r"
     ]
    },
    {
     "name": "stdout",
     "output_type": "stream",
     "text": [
      "+---------------+-----------+--------------------+---------------------+--------------------+---------------------+----------+-------------------+-----------------+-----------+-----------------------+---------------------+---------------+-------------+--------------------+--------------------+\n",
      "|       NM_CANAL|   ID_VIDEO|        TITULO_VIDEO|TOTAL_CARACTERE_VIDEO|                TAGS|DURACAO_VIDEO_MINUTOS|TOTAL_TAGS|TOTAL_VISUALIZACOES|TOTAL_COMENTARIOS|TOTAL_LIKES|TOTAL_VISUALIZACOES_DIA|TOTAL_COMENTARIOS_DIA|TOTAL_LIKES_DIA|data_extracao|            ID_CANAL|             ASSUNTO|\n",
      "+---------------+-----------+--------------------+---------------------+--------------------+---------------------+----------+-------------------+-----------------+-----------+-----------------------+---------------------+---------------+-------------+--------------------+--------------------+\n",
      "|ChratosGameplay|-QaSHAsHQSs|CITIES SKYLINES 2...|                   81|                null|                  0.0|         0|                  0|                0|         50|                      0|                    0|             50|   2023-10-27|UCrOH1V-FyMunBIMr...|assunto_cities_sk...|\n",
      "|ChratosGameplay|6RgEh-9KAgY|PREFEITURA E PREV...|                   67|[cities skylines,...|                26.88|        31|              42650|              220|       5600|                   3257|                    5|            283|   2023-10-27|UCrOH1V-FyMunBIMr...|assunto_cities_sk...|\n",
      "|ChratosGameplay|9SGBZ7GE5EA|SUPER SUBÚRBIO FA...|                   70|[cities skylines,...|                25.67|        31|              54375|              213|       6855|                   1561|                  213|            148|   2023-10-27|UCrOH1V-FyMunBIMr...|assunto_cities_sk...|\n",
      "|ChratosGameplay|KfzZNkdyeEs|POLUIÇÃO FORÇA MI...|                   81|[cities skylines,...|                28.43|        31|              50789|              124|       6448|                   1853|                  124|            165|   2023-10-27|UCrOH1V-FyMunBIMr...|assunto_cities_sk...|\n",
      "|ChratosGameplay|QwXP79P4xS0|TRANSPORTE PÚBLIC...|                   64|[cities skylines,...|                32.28|        31|              39265|              180|       5046|                  13719|                   37|           1003|   2023-10-27|UCrOH1V-FyMunBIMr...|assunto_cities_sk...|\n",
      "|ChratosGameplay|TBZuVHi3QdM|BALSAS, BUSÕES E ...|                   68|[cities skylines,...|                29.13|        31|              50480|              157|       6330|                   2027|                    2|            171|   2023-10-27|UCrOH1V-FyMunBIMr...|assunto_cities_sk...|\n",
      "|ChratosGameplay|V_d6T_UKRDg|CITIES SKYLINES 2...|                   87|                null|                  0.0|         0|                  0|                0|         51|                      0|                    0|             51|   2023-10-27|UCrOH1V-FyMunBIMr...|assunto_cities_sk...|\n",
      "|ChratosGameplay|XOUzWJ0bHuw|MODDERS decidem f...|                   92|[ascent of ashes,...|                23.25|        33|               9540|               33|       1078|                     19|                   33|              2|   2023-10-27|UCrOH1V-FyMunBIMr...|assunto_cities_sk...|\n",
      "|ChratosGameplay|dRzwiPwGH_M|Planejamento inic...|                   90|[Cities Skylines,...|                25.22|        37|              18599|               79|       2418|                    169|                   79|             14|   2023-10-27|UCrOH1V-FyMunBIMr...|assunto_cities_sk...|\n",
      "|ChratosGameplay|mfCGsYnClDU|CITIES SKYLINES 2...|                   88|                null|                  0.0|         0|                  0|                0|        149|                      0|                    0|            149|   2023-10-27|UCrOH1V-FyMunBIMr...|assunto_cities_sk...|\n",
      "|ChratosGameplay|totHMIv6_hI|PEQUENA FORTUNA E...|                   70|[cities skylines,...|                31.92|        31|              71357|              188|       8978|                   1889|                    2|            139|   2023-10-27|UCrOH1V-FyMunBIMr...|assunto_cities_sk...|\n",
      "|ChratosGameplay|up4KrHrRwLY|DO CRIADOR DA MEL...|                   88|[cities skylines,...|                42.43|        28|              33628|              111|       3382|                   1246|                    1|             61|   2023-10-27|UCrOH1V-FyMunBIMr...|assunto_cities_sk...|\n",
      "|ChratosGameplay|vy-upTpchig|PRIMEIRA PRAÇA DA...|                   63|[cities skylines,...|                22.95|        31|              60786|              201|       7321|                   1568|                    1|            156|   2023-10-27|UCrOH1V-FyMunBIMr...|assunto_cities_sk...|\n",
      "|ChratosGameplay|wCLSZxLfUAk|MELHOR JOGO DE CO...|                   75|[cities skylines,...|                19.63|        31|             120812|              418|      13988|                   3437|                    2|            204|   2023-10-27|UCrOH1V-FyMunBIMr...|assunto_cities_sk...|\n",
      "|ChratosGameplay|xCaUzgIM6Bg|Vias expressas/Ro...|                   86|[cities skylines,...|                19.02|        31|              18620|               54|       1368|                   2388|                    3|            100|   2023-10-27|UCrOH1V-FyMunBIMr...|assunto_cities_sk...|\n",
      "|ChratosGameplay|xSAyLQ9h22k|OBRAS DO ANEL ROD...|                   60|[cities skylines,...|                26.32|        31|              15805|              139|       2753|                  15805|                  139|           2753|   2023-10-27|UCrOH1V-FyMunBIMr...|assunto_cities_sk...|\n",
      "|ChratosGameplay|zFO5_abqEss|Vias coletoras/ar...|                   78|[cities skylines,...|                16.78|        31|              19942|               63|       1950|                    435|                    1|             32|   2023-10-27|UCrOH1V-FyMunBIMr...|assunto_cities_sk...|\n",
      "|ChratosGameplay|zyG3nFm9BB8|SIMULADOR DE PLAT...|                   64|[drill deal, dril...|                34.05|        33|              24021|               40|       2441|                    324|                   40|              8|   2023-10-27|UCrOH1V-FyMunBIMr...|assunto_cities_sk...|\n",
      "|ChratosGameplay|-QaSHAsHQSs|CITIES SKYLINES 2...|                   81|                null|                  0.0|         0|                  0|                0|         50|                      0|                    0|             50|   2023-10-26|UCrOH1V-FyMunBIMr...|assunto_cities_sk...|\n",
      "|ChratosGameplay|6RgEh-9KAgY|PREFEITURA E PREV...|                   67|[cities skylines,...|                26.88|        31|              39393|              215|       5317|                  14489|                   36|           1215|   2023-10-26|UCrOH1V-FyMunBIMr...|assunto_cities_sk...|\n",
      "+---------------+-----------+--------------------+---------------------+--------------------+---------------------+----------+-------------------+-----------------+-----------+-----------------------+---------------------+---------------+-------------+--------------------+--------------------+\n",
      "only showing top 20 rows\n",
      "\n"
     ]
    },
    {
     "name": "stderr",
     "output_type": "stream",
     "text": [
      "                                                                                \r"
     ]
    }
   ],
   "source": [
    "df_visualizacoes =  reduce( merge_dataframes, lista_df_visualizacoes)\n",
    "df_visualizacoes.show()"
   ]
  },
  {
   "cell_type": "code",
   "execution_count": 36,
   "metadata": {},
   "outputs": [
    {
     "name": "stderr",
     "output_type": "stream",
     "text": [
      "[Stage 114:>                                                       (0 + 8) / 91]\r"
     ]
    },
    {
     "name": "stdout",
     "output_type": "stream",
     "text": [
      "23/11/18 23:45:21 WARN MemoryManager: Total allocation exceeds 95,00% (906.992.014 bytes) of heap memory\n",
      "Scaling row group sizes to 96,54% for 7 writers\n",
      "23/11/18 23:45:21 WARN MemoryManager: Total allocation exceeds 95,00% (906.992.014 bytes) of heap memory\n",
      "Scaling row group sizes to 84,47% for 8 writers\n",
      "23/11/18 23:45:22 WARN MemoryManager: Total allocation exceeds 95,00% (906.992.014 bytes) of heap memory\n",
      "Scaling row group sizes to 96,54% for 7 writers\n"
     ]
    },
    {
     "name": "stderr",
     "output_type": "stream",
     "text": [
      "                                                                                \r"
     ]
    }
   ],
   "source": [
    "df_visualizacoes.write \\\n",
    "    .partitionBy('ASSUNTO', 'data_extracao', 'ID_CANAL') \\\n",
    "    .parquet('../data/projetos_youtube_v2/novo_ouro/total_visualizacoes_semana.parquet')"
   ]
  }
 ],
 "metadata": {
  "kernelspec": {
   "display_name": "venv",
   "language": "python",
   "name": "python3"
  },
  "language_info": {
   "codemirror_mode": {
    "name": "ipython",
    "version": 3
   },
   "file_extension": ".py",
   "mimetype": "text/x-python",
   "name": "python",
   "nbconvert_exporter": "python",
   "pygments_lexer": "ipython3",
   "version": "3.10.12"
  }
 },
 "nbformat": 4,
 "nbformat_minor": 2
}
