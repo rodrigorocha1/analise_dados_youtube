{
 "cells": [
  {
   "cell_type": "code",
   "execution_count": 117,
   "metadata": {},
   "outputs": [],
   "source": [
    "from pyspark.sql import SparkSession\n",
    "import pyspark.sql.functions as F\n",
    "from functools import reduce\n"
   ]
  },
  {
   "cell_type": "code",
   "execution_count": 70,
   "metadata": {},
   "outputs": [
    {
     "data": {
      "text/plain": [
       "<function pyspark.sql.functions.split(str: 'ColumnOrName', pattern: str, limit: int = -1) -> pyspark.sql.column.Column>"
      ]
     },
     "execution_count": 70,
     "metadata": {},
     "output_type": "execute_result"
    }
   ],
   "source": [
    "F.split"
   ]
  },
  {
   "cell_type": "code",
   "execution_count": 118,
   "metadata": {},
   "outputs": [
    {
     "name": "stdout",
     "output_type": "stream",
     "text": [
      "23/12/05 19:56:22 WARN Utils: Service 'SparkUI' could not bind on port 4040. Attempting port 4041.\n"
     ]
    }
   ],
   "source": [
    "spark = SparkSession.builder.appName('teste').getOrCreate()"
   ]
  },
  {
   "cell_type": "markdown",
   "metadata": {},
   "source": [
    " - Comentários"
   ]
  },
  {
   "cell_type": "code",
   "execution_count": 72,
   "metadata": {},
   "outputs": [],
   "source": [
    "def nova_coluna(df, nome_repeticao):\n",
    "    df = df.withColumn('ASSUNTO', F.lit(nome_repeticao))\n",
    "    return df"
   ]
  },
  {
   "cell_type": "code",
   "execution_count": 73,
   "metadata": {},
   "outputs": [
    {
     "name": "stdout",
     "output_type": "stream",
     "text": [
      "+--------------------+--------------------+--------------------+-----------+\n",
      "|       ID_COMENTARIO|    TEXTO_COMENTARIO|            ID_CANAL|   ID_VIDEO|\n",
      "+--------------------+--------------------+--------------------+-----------+\n",
      "|UgycI1RA11Co3b6KN...|É muito simples, ...|UCoTIpyf8_RGzJ1LP...|L17Ox3uFAdo|\n",
      "|Ugzh6_xR_K2mmb5Zh...|cade o video do m...|UCoTIpyf8_RGzJ1LP...|L17Ox3uFAdo|\n",
      "+--------------------+--------------------+--------------------+-----------+\n",
      "only showing top 2 rows\n",
      "\n"
     ]
    }
   ],
   "source": [
    "df_assunto_comentarios_cities_sklines = spark.read.parquet('../data/projetos_youtube_v2/ouro/assunto_cities_skylines/comentarios/comentarios.parquet')\n",
    "df_assunto_comentarios_cities_sklines.show(2)"
   ]
  },
  {
   "cell_type": "code",
   "execution_count": 74,
   "metadata": {},
   "outputs": [
    {
     "name": "stdout",
     "output_type": "stream",
     "text": [
      "+--------------------+--------------------+--------------------+-----------+--------------------+\n",
      "|       ID_COMENTARIO|    TEXTO_COMENTARIO|            ID_CANAL|   ID_VIDEO|             ASSUNTO|\n",
      "+--------------------+--------------------+--------------------+-----------+--------------------+\n",
      "|UgycI1RA11Co3b6KN...|É muito simples, ...|UCoTIpyf8_RGzJ1LP...|L17Ox3uFAdo|assunto_cities_sk...|\n",
      "|Ugzh6_xR_K2mmb5Zh...|cade o video do m...|UCoTIpyf8_RGzJ1LP...|L17Ox3uFAdo|assunto_cities_sk...|\n",
      "|Ugx5tVA2vkeS-TbFI...|Acho que o próxim...|UCoTIpyf8_RGzJ1LP...|L17Ox3uFAdo|assunto_cities_sk...|\n",
      "|UgypfvYbz-wJEZLTo...|A questão da otim...|UCoTIpyf8_RGzJ1LP...|L17Ox3uFAdo|assunto_cities_sk...|\n",
      "|UgxQI3WnlJPfyhVTt...|Realmente parece ...|UCoTIpyf8_RGzJ1LP...|L17Ox3uFAdo|assunto_cities_sk...|\n",
      "|UgxpCGs6hC0xqZHfV...|Pelo amor de deus...|UCoTIpyf8_RGzJ1LP...|L17Ox3uFAdo|assunto_cities_sk...|\n",
      "|Ugw_I4QstOoUSOZCg...|Paradox sendo Par...|UCoTIpyf8_RGzJ1LP...|L17Ox3uFAdo|assunto_cities_sk...|\n",
      "|UgxD2YXLfXIOQ2Vdn...|           boa tarde|UCoTIpyf8_RGzJ1LP...|L17Ox3uFAdo|assunto_cities_sk...|\n",
      "|UgyPfxVzUhuBrBH6V...|Dps falam do meu ...|UCoTIpyf8_RGzJ1LP...|L17Ox3uFAdo|assunto_cities_sk...|\n",
      "|UgwCO5IvAmGY5P9Hi...|O Jogo é maravilh...|UCoTIpyf8_RGzJ1LP...|L17Ox3uFAdo|assunto_cities_sk...|\n",
      "|Ugyq0qoTLUKW5LI4y...|mas não falam do ...|UCoTIpyf8_RGzJ1LP...|L17Ox3uFAdo|assunto_cities_sk...|\n",
      "|UgzrxdtQ4pqBsN-sU...|<a href=\"https://...|UCoTIpyf8_RGzJ1LP...|L17Ox3uFAdo|assunto_cities_sk...|\n",
      "|Ugw_xIIka19u65ITY...|Colossal Order: P...|UCoTIpyf8_RGzJ1LP...|L17Ox3uFAdo|assunto_cities_sk...|\n",
      "|UgyCBubEF2Ij2Y5RB...|Mais um jogo que ...|UCoTIpyf8_RGzJ1LP...|L17Ox3uFAdo|assunto_cities_sk...|\n",
      "|UgzKFXehReYvcYzVU...|E a pressa em lan...|UCoTIpyf8_RGzJ1LP...|L17Ox3uFAdo|assunto_cities_sk...|\n",
      "|UgxkuHWTRUx176cqz...|Estou jogando de ...|UCoTIpyf8_RGzJ1LP...|L17Ox3uFAdo|assunto_cities_sk...|\n",
      "|UgxT1569uVRH6kLww...|essa do PC siquei...|UCoTIpyf8_RGzJ1LP...|L17Ox3uFAdo|assunto_cities_sk...|\n",
      "|UgydXIHyYcn7YcbQj...|o cities 1 só era...|UCoTIpyf8_RGzJ1LP...|L17Ox3uFAdo|assunto_cities_sk...|\n",
      "|Ugw8TmBBPHJT5s4zj...|Para mim ja ficou...|UCoTIpyf8_RGzJ1LP...|L17Ox3uFAdo|assunto_cities_sk...|\n",
      "|UgzURReOQLpXzdmCx...|Aí os dev vem com...|UCoTIpyf8_RGzJ1LP...|L17Ox3uFAdo|assunto_cities_sk...|\n",
      "+--------------------+--------------------+--------------------+-----------+--------------------+\n",
      "only showing top 20 rows\n",
      "\n"
     ]
    }
   ],
   "source": [
    "df_assunto_comentarios_cities_sklines = nova_coluna(df_assunto_comentarios_cities_sklines, 'assunto_cities_skylines')\n",
    "df_assunto_comentarios_cities_sklines.show()"
   ]
  },
  {
   "cell_type": "code",
   "execution_count": 75,
   "metadata": {},
   "outputs": [
    {
     "data": {
      "text/plain": [
       "['ID_COMENTARIO', 'TEXTO_COMENTARIO', 'ID_CANAL', 'ID_VIDEO', 'ASSUNTO']"
      ]
     },
     "execution_count": 75,
     "metadata": {},
     "output_type": "execute_result"
    }
   ],
   "source": [
    "df_assunto_comentarios_cities_sklines.columns"
   ]
  },
  {
   "cell_type": "code",
   "execution_count": null,
   "metadata": {},
   "outputs": [],
   "source": []
  },
  {
   "cell_type": "code",
   "execution_count": 76,
   "metadata": {},
   "outputs": [],
   "source": [
    "colunas_asunto_comentarios = df_assunto_comentarios_cities_sklines.columns"
   ]
  },
  {
   "cell_type": "code",
   "execution_count": 77,
   "metadata": {},
   "outputs": [
    {
     "name": "stdout",
     "output_type": "stream",
     "text": [
      "ID_COMENTARIO TEXTO_COMENTARIO ID_CANAL ID_VIDEO ASSUNTO\n"
     ]
    }
   ],
   "source": [
    "print(*colunas_asunto_comentarios)"
   ]
  },
  {
   "cell_type": "code",
   "execution_count": null,
   "metadata": {},
   "outputs": [],
   "source": []
  },
  {
   "cell_type": "code",
   "execution_count": 78,
   "metadata": {},
   "outputs": [
    {
     "name": "stdout",
     "output_type": "stream",
     "text": [
      "root\n",
      " |-- ID_COMENTARIO: string (nullable = true)\n",
      " |-- TEXTO_COMENTARIO: string (nullable = true)\n",
      " |-- ID_CANAL: string (nullable = true)\n",
      " |-- ID_VIDEO: string (nullable = true)\n",
      " |-- ASSUNTO: string (nullable = false)\n",
      "\n"
     ]
    }
   ],
   "source": [
    "df_assunto_comentarios_cities_sklines.printSchema()"
   ]
  },
  {
   "cell_type": "code",
   "execution_count": 79,
   "metadata": {},
   "outputs": [
    {
     "name": "stdout",
     "output_type": "stream",
     "text": [
      "+--------------------+--------------------+--------------------+-----------+\n",
      "|       ID_COMENTARIO|    TEXTO_COMENTARIO|            ID_CANAL|   ID_VIDEO|\n",
      "+--------------------+--------------------+--------------------+-----------+\n",
      "|UgycI1RA11Co3b6KN...|É muito simples, ...|UCoTIpyf8_RGzJ1LP...|L17Ox3uFAdo|\n",
      "|Ugzh6_xR_K2mmb5Zh...|cade o video do m...|UCoTIpyf8_RGzJ1LP...|L17Ox3uFAdo|\n",
      "+--------------------+--------------------+--------------------+-----------+\n",
      "only showing top 2 rows\n",
      "\n"
     ]
    }
   ],
   "source": [
    "df_assunto_comentarios_cities_sklines_dois = spark \\\n",
    "    .read \\\n",
    "        .parquet('../data/projetos_youtube_v2/ouro/assunto_cities_skylines_2/comentarios/comentarios.parquet')\n",
    "df_assunto_comentarios_cities_sklines_dois.show(2)"
   ]
  },
  {
   "cell_type": "code",
   "execution_count": 80,
   "metadata": {},
   "outputs": [
    {
     "name": "stdout",
     "output_type": "stream",
     "text": [
      "+--------------------+--------------------+--------------------+-----------+--------------------+\n",
      "|       ID_COMENTARIO|    TEXTO_COMENTARIO|            ID_CANAL|   ID_VIDEO|             ASSUNTO|\n",
      "+--------------------+--------------------+--------------------+-----------+--------------------+\n",
      "|UgycI1RA11Co3b6KN...|É muito simples, ...|UCoTIpyf8_RGzJ1LP...|L17Ox3uFAdo|assunto_cities_sk...|\n",
      "|Ugzh6_xR_K2mmb5Zh...|cade o video do m...|UCoTIpyf8_RGzJ1LP...|L17Ox3uFAdo|assunto_cities_sk...|\n",
      "|Ugx5tVA2vkeS-TbFI...|Acho que o próxim...|UCoTIpyf8_RGzJ1LP...|L17Ox3uFAdo|assunto_cities_sk...|\n",
      "|UgypfvYbz-wJEZLTo...|A questão da otim...|UCoTIpyf8_RGzJ1LP...|L17Ox3uFAdo|assunto_cities_sk...|\n",
      "|UgxQI3WnlJPfyhVTt...|Realmente parece ...|UCoTIpyf8_RGzJ1LP...|L17Ox3uFAdo|assunto_cities_sk...|\n",
      "|UgxpCGs6hC0xqZHfV...|Pelo amor de deus...|UCoTIpyf8_RGzJ1LP...|L17Ox3uFAdo|assunto_cities_sk...|\n",
      "|Ugw_I4QstOoUSOZCg...|Paradox sendo Par...|UCoTIpyf8_RGzJ1LP...|L17Ox3uFAdo|assunto_cities_sk...|\n",
      "|UgxD2YXLfXIOQ2Vdn...|           boa tarde|UCoTIpyf8_RGzJ1LP...|L17Ox3uFAdo|assunto_cities_sk...|\n",
      "|UgyPfxVzUhuBrBH6V...|Dps falam do meu ...|UCoTIpyf8_RGzJ1LP...|L17Ox3uFAdo|assunto_cities_sk...|\n",
      "|UgwCO5IvAmGY5P9Hi...|O Jogo é maravilh...|UCoTIpyf8_RGzJ1LP...|L17Ox3uFAdo|assunto_cities_sk...|\n",
      "|Ugyq0qoTLUKW5LI4y...|mas não falam do ...|UCoTIpyf8_RGzJ1LP...|L17Ox3uFAdo|assunto_cities_sk...|\n",
      "|UgzrxdtQ4pqBsN-sU...|<a href=\"https://...|UCoTIpyf8_RGzJ1LP...|L17Ox3uFAdo|assunto_cities_sk...|\n",
      "|Ugw_xIIka19u65ITY...|Colossal Order: P...|UCoTIpyf8_RGzJ1LP...|L17Ox3uFAdo|assunto_cities_sk...|\n",
      "|UgyCBubEF2Ij2Y5RB...|Mais um jogo que ...|UCoTIpyf8_RGzJ1LP...|L17Ox3uFAdo|assunto_cities_sk...|\n",
      "|UgzKFXehReYvcYzVU...|E a pressa em lan...|UCoTIpyf8_RGzJ1LP...|L17Ox3uFAdo|assunto_cities_sk...|\n",
      "|UgxkuHWTRUx176cqz...|Estou jogando de ...|UCoTIpyf8_RGzJ1LP...|L17Ox3uFAdo|assunto_cities_sk...|\n",
      "|UgxT1569uVRH6kLww...|essa do PC siquei...|UCoTIpyf8_RGzJ1LP...|L17Ox3uFAdo|assunto_cities_sk...|\n",
      "|UgydXIHyYcn7YcbQj...|o cities 1 só era...|UCoTIpyf8_RGzJ1LP...|L17Ox3uFAdo|assunto_cities_sk...|\n",
      "|Ugw8TmBBPHJT5s4zj...|Para mim ja ficou...|UCoTIpyf8_RGzJ1LP...|L17Ox3uFAdo|assunto_cities_sk...|\n",
      "|UgzURReOQLpXzdmCx...|Aí os dev vem com...|UCoTIpyf8_RGzJ1LP...|L17Ox3uFAdo|assunto_cities_sk...|\n",
      "+--------------------+--------------------+--------------------+-----------+--------------------+\n",
      "only showing top 20 rows\n",
      "\n"
     ]
    }
   ],
   "source": [
    "df_assunto_comentarios_cities_sklines_dois = nova_coluna(df_assunto_comentarios_cities_sklines_dois, 'assunto_cities_skylines_2')\n",
    "df_assunto_comentarios_cities_sklines_dois.show()"
   ]
  },
  {
   "cell_type": "code",
   "execution_count": 81,
   "metadata": {},
   "outputs": [
    {
     "name": "stdout",
     "output_type": "stream",
     "text": [
      "+--------------------+--------------------+--------------------+-----------+\n",
      "|       ID_COMENTARIO|    TEXTO_COMENTARIO|            ID_CANAL|   ID_VIDEO|\n",
      "+--------------------+--------------------+--------------------+-----------+\n",
      "|UgwttUiZmmWMl1gS6...|Parabéns,pelo mat...|UCcinq1ymmAmhFZzy...|WfxauEGmDfg|\n",
      "|Ugw4lH5PKPzBAwyzD...|Parabéns pelo cas...|UCcinq1ymmAmhFZzy...|WfxauEGmDfg|\n",
      "+--------------------+--------------------+--------------------+-----------+\n",
      "only showing top 2 rows\n",
      "\n"
     ]
    }
   ],
   "source": [
    "df_assunto_comentarios_power_bi = spark \\\n",
    "    .read \\\n",
    "        .parquet('/home/rodrigo/Documentos/projetos/open_weather_api_apache/analise_dados_youtube/data/projetos_youtube_v2/ouro/assunto_power_bi/comentarios/comentarios.parquet')\n",
    "df_assunto_comentarios_power_bi.show(2)"
   ]
  },
  {
   "cell_type": "code",
   "execution_count": 82,
   "metadata": {},
   "outputs": [
    {
     "name": "stdout",
     "output_type": "stream",
     "text": [
      "+--------------------+--------------------+--------------------+-----------+----------------+\n",
      "|       ID_COMENTARIO|    TEXTO_COMENTARIO|            ID_CANAL|   ID_VIDEO|         ASSUNTO|\n",
      "+--------------------+--------------------+--------------------+-----------+----------------+\n",
      "|UgwttUiZmmWMl1gS6...|Parabéns,pelo mat...|UCcinq1ymmAmhFZzy...|WfxauEGmDfg|assunto_power_bi|\n",
      "|Ugw4lH5PKPzBAwyzD...|Parabéns pelo cas...|UCcinq1ymmAmhFZzy...|WfxauEGmDfg|assunto_power_bi|\n",
      "|UgwiWt2j67Gf1d3Am...|Parabens pelo cas...|UCcinq1ymmAmhFZzy...|WfxauEGmDfg|assunto_power_bi|\n",
      "|UgzRlsALiozMcQTiq...|oi mari procuro a...|UCcinq1ymmAmhFZzy...|WfxauEGmDfg|assunto_power_bi|\n",
      "|UgwpWB7x2I0GbZa-2...|Alguma previsão d...|UCcinq1ymmAmhFZzy...|WfxauEGmDfg|assunto_power_bi|\n",
      "|UgyRhacydB5OQyXuu...|Mari indica facul...|UCcinq1ymmAmhFZzy...|WfxauEGmDfg|assunto_power_bi|\n",
      "|Ugyvd1WlaGtCRUb_e...|Curso Pedagogia P...|UCcinq1ymmAmhFZzy...|WfxauEGmDfg|assunto_power_bi|\n",
      "|UgzFOVMR9hvgFKhoo...|A prova de seleçã...|UCcinq1ymmAmhFZzy...|WfxauEGmDfg|assunto_power_bi|\n",
      "|Ugy92QMKhYiNFAs06...|Oi Mari<br>Curso ...|UCcinq1ymmAmhFZzy...|WfxauEGmDfg|assunto_power_bi|\n",
      "|Ugyhf5hndVRJ4bAq3...|     Mulher não some|UCcinq1ymmAmhFZzy...|WfxauEGmDfg|assunto_power_bi|\n",
      "|Ugw2qVOmTA96P5U3h...|                   ❤|UCcinq1ymmAmhFZzy...|WfxauEGmDfg|assunto_power_bi|\n",
      "|UgylUgyspNvgb3U7t...|Bom dia Mari. par...|UCcinq1ymmAmhFZzy...|WfxauEGmDfg|assunto_power_bi|\n",
      "|UgyZ5MAYeDgcnCipf...|Nao é possível qu...|UCcinq1ymmAmhFZzy...|WfxauEGmDfg|assunto_power_bi|\n",
      "|UgzRK0EHNU3H0OY1O...|Preciso de um cur...|UCcinq1ymmAmhFZzy...|WfxauEGmDfg|assunto_power_bi|\n",
      "|UgzzQQL3VNkY6Ua69...|        👏🏽👏🏽👏🏽|UCcinq1ymmAmhFZzy...|WfxauEGmDfg|assunto_power_bi|\n",
      "|UgyCl9BZK5e1bXUUF...|Parabéns e felici...|UCcinq1ymmAmhFZzy...|WfxauEGmDfg|assunto_power_bi|\n",
      "|Ugw8tOq4aOE1sEGt0...|Bom dia. Muito a ...|UCcinq1ymmAmhFZzy...|WfxauEGmDfg|assunto_power_bi|\n",
      "|UgwqdB2eqdYuHyzR5...|É um ruim pq tem ...|UCcinq1ymmAmhFZzy...|WfxauEGmDfg|assunto_power_bi|\n",
      "|UgxMWhddO1ewy2CoW...|Responsa e na mor...|UCcinq1ymmAmhFZzy...|WfxauEGmDfg|assunto_power_bi|\n",
      "|UgyD7jgZ2bekk4gPs...|Infelizmente e só...|UCcinq1ymmAmhFZzy...|WfxauEGmDfg|assunto_power_bi|\n",
      "+--------------------+--------------------+--------------------+-----------+----------------+\n",
      "only showing top 20 rows\n",
      "\n"
     ]
    }
   ],
   "source": [
    "df_assunto_comentarios_power_bi = nova_coluna(df_assunto_comentarios_power_bi, 'assunto_power_bi')\n",
    "df_assunto_comentarios_power_bi.show()"
   ]
  },
  {
   "cell_type": "code",
   "execution_count": 83,
   "metadata": {},
   "outputs": [
    {
     "name": "stdout",
     "output_type": "stream",
     "text": [
      "+--------------------+--------------------+--------------------+-----------+\n",
      "|       ID_COMENTARIO|    TEXTO_COMENTARIO|            ID_CANAL|   ID_VIDEO|\n",
      "+--------------------+--------------------+--------------------+-----------+\n",
      "|Ugwo1A4xrDaZ-XKGN...|     Muito obrigado.|UCEQ12yB8QLw9pVOY...|V_sQAmzhrdE|\n",
      "|UgxgC8_ga_1__iwbH...|O STF, através do...|UCEQ12yB8QLw9pVOY...|V_sQAmzhrdE|\n",
      "+--------------------+--------------------+--------------------+-----------+\n",
      "only showing top 2 rows\n",
      "\n"
     ]
    }
   ],
   "source": [
    "df_assunto_comentarios_python_and_dados = spark \\\n",
    "    .read \\\n",
    "        .parquet('/home/rodrigo/Documentos/projetos/open_weather_api_apache/analise_dados_youtube/data/projetos_youtube_v2/ouro/assunto_python_and_dados/comentarios/comentarios.parquet')\n",
    "df_assunto_comentarios_python_and_dados.show(2)"
   ]
  },
  {
   "cell_type": "code",
   "execution_count": 84,
   "metadata": {},
   "outputs": [
    {
     "name": "stdout",
     "output_type": "stream",
     "text": [
      "+--------------------+--------------------+--------------------+-----------+--------------------+\n",
      "|       ID_COMENTARIO|    TEXTO_COMENTARIO|            ID_CANAL|   ID_VIDEO|             ASSUNTO|\n",
      "+--------------------+--------------------+--------------------+-----------+--------------------+\n",
      "|Ugwo1A4xrDaZ-XKGN...|     Muito obrigado.|UCEQ12yB8QLw9pVOY...|V_sQAmzhrdE|assunto_python_an...|\n",
      "|UgxgC8_ga_1__iwbH...|O STF, através do...|UCEQ12yB8QLw9pVOY...|V_sQAmzhrdE|assunto_python_an...|\n",
      "|UgypMe09kA5OSkuWR...|           Muito bem|UCEQ12yB8QLw9pVOY...|V_sQAmzhrdE|assunto_python_an...|\n",
      "|UgzJ4nJ8p_GS6npgi...|Religiosos e suas...|UCEQ12yB8QLw9pVOY...|V_sQAmzhrdE|assunto_python_an...|\n",
      "|UgxDzoXOXpdpV8RWT...|Ahhhhhh, o ser hu...|UCEQ12yB8QLw9pVOY...|V_sQAmzhrdE|assunto_python_an...|\n",
      "|UgwKgkQrOoHt5HiDt...|SÉCULOS  ATRÁS  E...|UCEQ12yB8QLw9pVOY...|V_sQAmzhrdE|assunto_python_an...|\n",
      "|UgzvCEPAT80vyKlad...| Muito bom obrigado!|UCEQ12yB8QLw9pVOY...|V_sQAmzhrdE|assunto_python_an...|\n",
      "|Ugy1wXhWhj6jTErOV...|Bela explanação s...|UCEQ12yB8QLw9pVOY...|V_sQAmzhrdE|assunto_python_an...|\n",
      "|UgygviyhiJJdAOTz7...|Sugiro im vídeo s...|UCEQ12yB8QLw9pVOY...|V_sQAmzhrdE|assunto_python_an...|\n",
      "|UgyT1nTG54-rQc2Z_...|Obrigada pelo víd...|UCEQ12yB8QLw9pVOY...|V_sQAmzhrdE|assunto_python_an...|\n",
      "|Ugx2EBW9OLc27Fyto...|Agradeço por comp...|UCEQ12yB8QLw9pVOY...|V_sQAmzhrdE|assunto_python_an...|\n",
      "|UgymQ6sDEqfTOVLxD...|O problema não é ...|UCEQ12yB8QLw9pVOY...|V_sQAmzhrdE|assunto_python_an...|\n",
      "|UgzTFZDLeVombVlOS...|Poderia começar a...|UCEQ12yB8QLw9pVOY...|V_sQAmzhrdE|assunto_python_an...|\n",
      "|Ugz2BoGg-WBAKZYS3...|Boa noite meu que...|UCEQ12yB8QLw9pVOY...|V_sQAmzhrdE|assunto_python_an...|\n",
      "|UgwMihQ45Uuz3XSeV...|Hoje BR  Temos in...|UCEQ12yB8QLw9pVOY...|V_sQAmzhrdE|assunto_python_an...|\n",
      "|Ugx1gr9rj8XNkTEFH...|Enfim, tudo trata...|UCEQ12yB8QLw9pVOY...|V_sQAmzhrdE|assunto_python_an...|\n",
      "|UgxcUnE8RKaTJAgVI...|Parabéns! Esse ca...|UCEQ12yB8QLw9pVOY...|V_sQAmzhrdE|assunto_python_an...|\n",
      "|UgyBAPQXBBLU_GWDO...|Show!!! <br>Parab...|UCEQ12yB8QLw9pVOY...|V_sQAmzhrdE|assunto_python_an...|\n",
      "|UgydinggSOTXorR1O...|Misericórdia essa...|UCEQ12yB8QLw9pVOY...|V_sQAmzhrdE|assunto_python_an...|\n",
      "|Ugy-DxKLsY2bHl3el...|Muitas coisas,o p...|UCEQ12yB8QLw9pVOY...|V_sQAmzhrdE|assunto_python_an...|\n",
      "+--------------------+--------------------+--------------------+-----------+--------------------+\n",
      "only showing top 20 rows\n",
      "\n"
     ]
    }
   ],
   "source": [
    "df_assunto_comentarios_python_and_dados = nova_coluna(df_assunto_comentarios_python_and_dados, 'assunto_python_and_dados')\n",
    "df_assunto_comentarios_python_and_dados.show()"
   ]
  },
  {
   "cell_type": "code",
   "execution_count": 85,
   "metadata": {},
   "outputs": [],
   "source": [
    "df_comentarios = df_assunto_comentarios_cities_sklines.union(df_assunto_comentarios_cities_sklines_dois).union(df_assunto_comentarios_power_bi).union(df_assunto_comentarios_python_and_dados)\n",
    "df_comentarios = df_comentarios.select(\n",
    "    'ID_COMENTARIO',\n",
    "    'TEXTO_COMENTARIO',\n",
    "    'ASSUNTO',\n",
    "    'ID_CANAL',\n",
    "    'ID_VIDEO'\n",
    ")"
   ]
  },
  {
   "cell_type": "code",
   "execution_count": 86,
   "metadata": {},
   "outputs": [
    {
     "name": "stdout",
     "output_type": "stream",
     "text": [
      "+--------------------+--------------------+--------------------+--------------------+-----------+\n",
      "|       ID_COMENTARIO|    TEXTO_COMENTARIO|             ASSUNTO|            ID_CANAL|   ID_VIDEO|\n",
      "+--------------------+--------------------+--------------------+--------------------+-----------+\n",
      "|UgycI1RA11Co3b6KN...|É muito simples, ...|assunto_cities_sk...|UCoTIpyf8_RGzJ1LP...|L17Ox3uFAdo|\n",
      "|Ugzh6_xR_K2mmb5Zh...|cade o video do m...|assunto_cities_sk...|UCoTIpyf8_RGzJ1LP...|L17Ox3uFAdo|\n",
      "|Ugx5tVA2vkeS-TbFI...|Acho que o próxim...|assunto_cities_sk...|UCoTIpyf8_RGzJ1LP...|L17Ox3uFAdo|\n",
      "|UgypfvYbz-wJEZLTo...|A questão da otim...|assunto_cities_sk...|UCoTIpyf8_RGzJ1LP...|L17Ox3uFAdo|\n",
      "|UgxQI3WnlJPfyhVTt...|Realmente parece ...|assunto_cities_sk...|UCoTIpyf8_RGzJ1LP...|L17Ox3uFAdo|\n",
      "|UgxpCGs6hC0xqZHfV...|Pelo amor de deus...|assunto_cities_sk...|UCoTIpyf8_RGzJ1LP...|L17Ox3uFAdo|\n",
      "|Ugw_I4QstOoUSOZCg...|Paradox sendo Par...|assunto_cities_sk...|UCoTIpyf8_RGzJ1LP...|L17Ox3uFAdo|\n",
      "|UgxD2YXLfXIOQ2Vdn...|           boa tarde|assunto_cities_sk...|UCoTIpyf8_RGzJ1LP...|L17Ox3uFAdo|\n",
      "|UgyPfxVzUhuBrBH6V...|Dps falam do meu ...|assunto_cities_sk...|UCoTIpyf8_RGzJ1LP...|L17Ox3uFAdo|\n",
      "|UgwCO5IvAmGY5P9Hi...|O Jogo é maravilh...|assunto_cities_sk...|UCoTIpyf8_RGzJ1LP...|L17Ox3uFAdo|\n",
      "|Ugyq0qoTLUKW5LI4y...|mas não falam do ...|assunto_cities_sk...|UCoTIpyf8_RGzJ1LP...|L17Ox3uFAdo|\n",
      "|UgzrxdtQ4pqBsN-sU...|<a href=\"https://...|assunto_cities_sk...|UCoTIpyf8_RGzJ1LP...|L17Ox3uFAdo|\n",
      "|Ugw_xIIka19u65ITY...|Colossal Order: P...|assunto_cities_sk...|UCoTIpyf8_RGzJ1LP...|L17Ox3uFAdo|\n",
      "|UgyCBubEF2Ij2Y5RB...|Mais um jogo que ...|assunto_cities_sk...|UCoTIpyf8_RGzJ1LP...|L17Ox3uFAdo|\n",
      "|UgzKFXehReYvcYzVU...|E a pressa em lan...|assunto_cities_sk...|UCoTIpyf8_RGzJ1LP...|L17Ox3uFAdo|\n",
      "|UgxkuHWTRUx176cqz...|Estou jogando de ...|assunto_cities_sk...|UCoTIpyf8_RGzJ1LP...|L17Ox3uFAdo|\n",
      "|UgxT1569uVRH6kLww...|essa do PC siquei...|assunto_cities_sk...|UCoTIpyf8_RGzJ1LP...|L17Ox3uFAdo|\n",
      "|UgydXIHyYcn7YcbQj...|o cities 1 só era...|assunto_cities_sk...|UCoTIpyf8_RGzJ1LP...|L17Ox3uFAdo|\n",
      "|Ugw8TmBBPHJT5s4zj...|Para mim ja ficou...|assunto_cities_sk...|UCoTIpyf8_RGzJ1LP...|L17Ox3uFAdo|\n",
      "|UgzURReOQLpXzdmCx...|Aí os dev vem com...|assunto_cities_sk...|UCoTIpyf8_RGzJ1LP...|L17Ox3uFAdo|\n",
      "+--------------------+--------------------+--------------------+--------------------+-----------+\n",
      "only showing top 20 rows\n",
      "\n"
     ]
    }
   ],
   "source": [
    "df_comentarios.show()"
   ]
  },
  {
   "cell_type": "code",
   "execution_count": 87,
   "metadata": {},
   "outputs": [
    {
     "name": "stdout",
     "output_type": "stream",
     "text": [
      "+--------------------+\n",
      "|             ASSUNTO|\n",
      "+--------------------+\n",
      "|assunto_cities_sk...|\n",
      "|assunto_cities_sk...|\n",
      "|    assunto_power_bi|\n",
      "|assunto_python_an...|\n",
      "+--------------------+\n",
      "\n"
     ]
    }
   ],
   "source": [
    "df_comentarios.select('ASSUNTO').distinct().show()\n"
   ]
  },
  {
   "cell_type": "code",
   "execution_count": 88,
   "metadata": {},
   "outputs": [
    {
     "name": "stderr",
     "output_type": "stream",
     "text": [
      "                                                                                \r"
     ]
    },
    {
     "name": "stdout",
     "output_type": "stream",
     "text": [
      "+--------------------------+-----+\n",
      "|ID_COMENTARIO             |count|\n",
      "+--------------------------+-----+\n",
      "|UgwXtYzBUR23fDdzCqd4AaABAg|4    |\n",
      "|Ugx-CBADFfLN2LXHGi14AaABAg|4    |\n",
      "|UgwZib0WRyS_ty6mW5d4AaABAg|4    |\n",
      "|UgwZnmXg3QTVsBHX_6B4AaABAg|4    |\n",
      "|Ugx6VSRc7MrsQJaRvUh4AaABAg|4    |\n",
      "|Ugwtb0MSIh1mdFeTh6d4AaABAg|4    |\n",
      "|Ugz9FSLqB9pcG6iLrv54AaABAg|4    |\n",
      "|Ugyitahmf0gm4EvwdCd4AaABAg|4    |\n",
      "|Ugwg5lGVRWse5KY0EgJ4AaABAg|4    |\n",
      "|UgyhIODhwnwl2v-2rg54AaABAg|4    |\n",
      "|UgyLcZQQ-UXT8opnnUp4AaABAg|4    |\n",
      "|UgxagHpwgXsn-uUmXeV4AaABAg|4    |\n",
      "|UgyHSpmKoLxRxqYaguB4AaABAg|2    |\n",
      "|Ugymc-CaXr77qWYem-R4AaABAg|2    |\n",
      "|Ugyvorb5wBRL60GdhkN4AaABAg|2    |\n",
      "|Ugy1nOWB9dfkABwT3Xt4AaABAg|2    |\n",
      "|Ugzvk4PyeVDq29SKumt4AaABAg|2    |\n",
      "|UgwCiwEsoDIQXU5HWJh4AaABAg|2    |\n",
      "|UgzqYNEizfatSgdTEdd4AaABAg|2    |\n",
      "|UgwSRK_MaZP50f6aR8V4AaABAg|2    |\n",
      "+--------------------------+-----+\n",
      "only showing top 20 rows\n",
      "\n"
     ]
    },
    {
     "name": "stderr",
     "output_type": "stream",
     "text": [
      "                                                                                \r"
     ]
    },
    {
     "name": "stdout",
     "output_type": "stream",
     "text": [
      "+----------------------------------------------------------------------------------------------------------------------------------------------------------------------------------------------------------------------------------------------------------------------------------------------------------------------------------------------------------------------------------------------------------------------------------------------------------------------------------------------------------------------------------------------------------------------------------------------+-----+\n",
      "|TEXTO_COMENTARIO                                                                                                                                                                                                                                                                                                                                                                                                                                                                                                                                                                              |count|\n",
      "+----------------------------------------------------------------------------------------------------------------------------------------------------------------------------------------------------------------------------------------------------------------------------------------------------------------------------------------------------------------------------------------------------------------------------------------------------------------------------------------------------------------------------------------------------------------------------------------------+-----+\n",
      "|Avançado                                                                                                                                                                                                                                                                                                                                                                                                                                                                                                                                                                                      |24   |\n",
      "|Horizonte Delta.                                                                                                                                                                                                                                                                                                                                                                                                                                                                                                                                                                              |20   |\n",
      "|❤                                                                                                                                                                                                                                                                                                                                                                                                                                                                                                                                                                                             |12   |\n",
      "|Finanças                                                                                                                                                                                                                                                                                                                                                                                                                                                                                                                                                                                      |12   |\n",
      "|Finalmente                                                                                                                                                                                                                                                                                                                                                                                                                                                                                                                                                                                    |10   |\n",
      "|Fala galera!\\r<br>\\r<br>Gostou do vídeo? Deixa sua curtida e se inscreva no canal!\\r<br>\\r<br>► PARA SABER MAIS SOBRE O CURSO COMPLETO EXCEL IMPRESSIONADOR ACESSE:\\r<br>\\r<br><a href=\"http://bit.ly/links-yt-hasht\">bit.ly/links-yt-hasht</a> (LINK NA BIO!)                                                                                                                                                                                                                                                                                                                                |9    |\n",
      "|top                                                                                                                                                                                                                                                                                                                                                                                                                                                                                                                                                                                           |8    |\n",
      "|Top                                                                                                                                                                                                                                                                                                                                                                                                                                                                                                                                                                                           |8    |\n",
      "|Muito bom!                                                                                                                                                                                                                                                                                                                                                                                                                                                                                                                                                                                    |7    |\n",
      "|Consulta                                                                                                                                                                                                                                                                                                                                                                                                                                                                                                                                                                                      |7    |\n",
      "|Veja mais vídeos no nosso canal: <a href=\"https://bit.ly/CanalLilleSchool\">https://bit.ly/CanalLilleSchool</a> <br>👈👈👈                                                                                                                                                                                                                                                                                                                                                                                                                                                                     |7    |\n",
      "|Alguém sabe me dizer se eu comprar o CS 2 na Steam vou conseguir jogar no MacBook Air M1?                                                                                                                                                                                                                                                                                                                                                                                                                                                                                                     |6    |\n",
      "|Critica construtiva. Uma falha muito grande no seu canal é não ter os números dos eps na thumb ou antes do titulo. é muito complicado se guiar e saber qual ep é o próximo e em qual você está sem essas informações.                                                                                                                                                                                                                                                                                                                                                                         |6    |\n",
      "|Gostaria muito de saber se no Cities Skylines 2 a água é mais realista do que no 1... sabe? No Cities 1 a chuva é meramente ilustrativa, não vejo subida do nível dos rios, não vejo água correndo pela cidade, pelo solo e dirigindo-se através da gravidade para as regiões mais baixas e se depositando gerando poças e lagos ou pior, enchentes... sendo quase que apenas estática e nada funcional. No Cities 2 o nível da água dos rios sobe quando chove pelo aumento do volume das águas? Como ficou essa questão? Obrigado.                                                          |6    |\n",
      "|Processador core i5- 4490 3,30GHz, 32GB 1600 mhz e Placa de Video Amd RX580, win 10 será que roda tranquilo?                                                                                                                                                                                                                                                                                                                                                                                                                                                                                  |6    |\n",
      "|Muito bom                                                                                                                                                                                                                                                                                                                                                                                                                                                                                                                                                                                     |6    |\n",
      "|Primeiro                                                                                                                                                                                                                                                                                                                                                                                                                                                                                                                                                                                      |6    |\n",
      "|➡Lembre de deixar o like e compartilhar o vídeo com seus amigos! <a href=\"about:invalid#zCSafez\"></a>\\r<br>➡Acompanhe TODOS os episódios na playlist! <a href=\"https://bit.ly/SimuDevCities2\">https://bit.ly/SimuDevCities2\\r</a><br>➡Veja também nossas séries! A 3ª temporada: <a href=\"https://bit.ly/SimuCities3Temp\">https://bit.ly/SimuCities3Temp\\r</a><br>➡Veja também a segunda temporada: <a href=\"https://bit.ly/SimuCities2Temp\">https://bit.ly/SimuCities2Temp\\r</a><br>➡Conheça nossas outras séries no canal! <a href=\"https://bit.ly/SimuListas\">https://bit.ly/SimuListas</a>|6    |\n",
      "|Vou baixar                                                                                                                                                                                                                                                                                                                                                                                                                                                                                                                                                                                    |6    |\n",
      "|A lá ele!!<a href=\"about:invalid#zCSafez\"></a>                                                                                                                                                                                                                                                                                                                                                                                                                                                                                                                                                |6    |\n",
      "+----------------------------------------------------------------------------------------------------------------------------------------------------------------------------------------------------------------------------------------------------------------------------------------------------------------------------------------------------------------------------------------------------------------------------------------------------------------------------------------------------------------------------------------------------------------------------------------------+-----+\n",
      "only showing top 20 rows\n",
      "\n",
      "+------------------------+-----+\n",
      "|ID_CANAL                |count|\n",
      "+------------------------+-----+\n",
      "|UCrOH1V-FyMunBIMrKL0y0xQ|3338 |\n",
      "|UCe9jrI0YQ5SM6h5QRZ9FZlA|899  |\n",
      "|UCfY4ggUDPeecGSCNePyyVSA|616  |\n",
      "|UCoTIpyf8_RGzJ1LPTmvadaA|510  |\n",
      "|UCrUcdH_bCfX77xpXHyq2fJw|442  |\n",
      "|UCayiH2Y5JBEOSubqoQhufDA|352  |\n",
      "|UCEQ12yB8QLw9pVOY3lo34_g|337  |\n",
      "|UCrxFTbIV_8sUVJ596fkzBsg|268  |\n",
      "|UCDGo_s0I-2JpO3o3xlkMQVA|256  |\n",
      "|UCHQun4keJGrj8RqDPPpyUsg|240  |\n",
      "|UCcinq1ymmAmhFZzyOeaGjiA|174  |\n",
      "|UC_Fk7hHbl7vv_7K8tYqJd5A|150  |\n",
      "|UCcuLEJUZy4jo9iFvngkoBUg|141  |\n",
      "|UC1mk6EtfMjxR4eEZ7C43zTQ|132  |\n",
      "|UCw0leRmeaX7R_9BDd3TvCzg|128  |\n",
      "|UCaj6FB2mFZ2T9a61QtZsKPA|102  |\n",
      "|UCCe4Be21OPPltTTIHP4lDvg|98   |\n",
      "|UCxIMGC-GmZ2pXE_jGGW2C9A|98   |\n",
      "|UCI0hxWIdIqSuX_Mc7hnj2JQ|95   |\n",
      "|UCYEb5mbKZ5JJzN0xBuKyaig|68   |\n",
      "+------------------------+-----+\n",
      "only showing top 20 rows\n",
      "\n",
      "+-----------+-----+\n",
      "|ID_VIDEO   |count|\n",
      "+-----------+-----+\n",
      "|wCLSZxLfUAk|702  |\n",
      "|L17Ox3uFAdo|510  |\n",
      "|ShVmR8yQweU|432  |\n",
      "|vzzeZU07rmo|430  |\n",
      "|6RgEh-9KAgY|340  |\n",
      "|V_sQAmzhrdE|337  |\n",
      "|totHMIv6_hI|300  |\n",
      "|9SGBZ7GE5EA|298  |\n",
      "|QwXP79P4xS0|274  |\n",
      "|vy-upTpchig|274  |\n",
      "|ND4pLB1ZRyM|268  |\n",
      "|TBZuVHi3QdM|222  |\n",
      "|xSAyLQ9h22k|218  |\n",
      "|KfzZNkdyeEs|208  |\n",
      "|EuUoqqXA6jI|184  |\n",
      "|ANa7la0wqNc|184  |\n",
      "|OH-qmlI4A3o|150  |\n",
      "|up4KrHrRwLY|138  |\n",
      "|dRzwiPwGH_M|126  |\n",
      "|h4rXTjnHu4A|122  |\n",
      "+-----------+-----+\n",
      "only showing top 20 rows\n",
      "\n",
      "+-------------------------+-----+\n",
      "|ASSUNTO                  |count|\n",
      "+-------------------------+-----+\n",
      "|assunto_cities_skylines_2|3879 |\n",
      "|assunto_cities_skylines  |3826 |\n",
      "|assunto_python_and_dados |1111 |\n",
      "|assunto_power_bi         |927  |\n",
      "+-------------------------+-----+\n",
      "\n"
     ]
    }
   ],
   "source": [
    "for coluna in colunas_asunto_comentarios:\n",
    "    df_comentarios.groupBy(coluna).count().orderBy('count', ascending=False).show(truncate=False)"
   ]
  },
  {
   "cell_type": "code",
   "execution_count": 89,
   "metadata": {},
   "outputs": [
    {
     "name": "stdout",
     "output_type": "stream",
     "text": [
      "+--------------------------+------------------------------------------------------------------------------------------------------------------------------------------------------------------------------------------------------------------------------------------------------------------------------------------------------------------------------------------------------------------------------------------------------------------------------------------------------------------------------------------------------------------------------------------------------------------+-----------------------+------------------------+-----------+\n",
      "|ID_COMENTARIO             |TEXTO_COMENTARIO                                                                                                                                                                                                                                                                                                                                                                                                                                                                                                                                                  |ASSUNTO                |ID_CANAL                |ID_VIDEO   |\n",
      "+--------------------------+------------------------------------------------------------------------------------------------------------------------------------------------------------------------------------------------------------------------------------------------------------------------------------------------------------------------------------------------------------------------------------------------------------------------------------------------------------------------------------------------------------------------------------------------------------------+-----------------------+------------------------+-----------+\n",
      "|UgycI1RA11Co3b6KNbV4AaABAg|É muito simples, o jogo não está pronto.<br>Espera os desenvolvedores terminarem e depois compra. (ou joga caso já comprou) <br>Um ótimo jogo estilo Simcity pra jogar.                                                                                                                                                                                                                                                                                                                                                                                           |assunto_cities_skylines|UCoTIpyf8_RGzJ1LPTmvadaA|L17Ox3uFAdo|\n",
      "|Ugzh6_xR_K2mmb5ZhgV4AaABAg|cade o video do miranha todo quebrado? ahh nao pode?                                                                                                                                                                                                                                                                                                                                                                                                                                                                                                              |assunto_cities_skylines|UCoTIpyf8_RGzJ1LPTmvadaA|L17Ox3uFAdo|\n",
      "|Ugx5tVA2vkeS-TbFIch4AaABAg|Acho que o próximo jogo deles o Life by You também vai vim bugado                                                                                                                                                                                                                                                                                                                                                                                                                                                                                                 |assunto_cities_skylines|UCoTIpyf8_RGzJ1LPTmvadaA|L17Ox3uFAdo|\n",
      "|UgypfvYbz-wJEZLTo2l4AaABAg|A questão da otimização com ctz é p deixar a glr pê da vida, mas os bonecos... O tanto de detalhe q tem, é melhor o boneco assim Doq o contrário                                                                                                                                                                                                                                                                                                                                                                                                                  |assunto_cities_skylines|UCoTIpyf8_RGzJ1LPTmvadaA|L17Ox3uFAdo|\n",
      "|UgxQI3WnlJPfyhVTtEJ4AaABAg|Realmente parece que tá difícil fazer jogo novo sem um kilos de bugs, imagino que na época do PS2 eles tinham bem mais ferramentas de criação,hoje deve tá bem limitado pra isso ocorrer com frequência.                                                                                                                                                                                                                                                                                                                                                          |assunto_cities_skylines|UCoTIpyf8_RGzJ1LPTmvadaA|L17Ox3uFAdo|\n",
      "|UgxpCGs6hC0xqZHfVi94AaABAg|Pelo amor de deus central Revivem o PAU GENIAL AWARDS, Por que esse ano temos concorrentes bons pra ser o pior jogo do ano                                                                                                                                                                                                                                                                                                                                                                                                                                        |assunto_cities_skylines|UCoTIpyf8_RGzJ1LPTmvadaA|L17Ox3uFAdo|\n",
      "|Ugw_I4QstOoUSOZCg3l4AaABAg|Paradox sendo Paradox, daqui uns 2 anos vai ser o melhor city builder das últimas décadas, além dos incontáveis mods que sustentaram o antigo Cities sendo portados pro novo                                                                                                                                                                                                                                                                                                                                                                                      |assunto_cities_skylines|UCoTIpyf8_RGzJ1LPTmvadaA|L17Ox3uFAdo|\n",
      "|UgxD2YXLfXIOQ2VdnYd4AaABAg|boa tarde                                                                                                                                                                                                                                                                                                                                                                                                                                                                                                                                                         |assunto_cities_skylines|UCoTIpyf8_RGzJ1LPTmvadaA|L17Ox3uFAdo|\n",
      "|UgyPfxVzUhuBrBH6VHd4AaABAg|Dps falam do meu Starfield                                                                                                                                                                                                                                                                                                                                                                                                                                                                                                                                        |assunto_cities_skylines|UCoTIpyf8_RGzJ1LPTmvadaA|L17Ox3uFAdo|\n",
      "|UgwCO5IvAmGY5P9HiYB4AaABAg|O Jogo é maravilhoso, o problema é o desempenho no meu PC no muito baixo tá rodando 20 fps haha.                                                                                                                                                                                                                                                                                                                                                                                                                                                                  |assunto_cities_skylines|UCoTIpyf8_RGzJ1LPTmvadaA|L17Ox3uFAdo|\n",
      "|Ugyq0qoTLUKW5LI4yF54AaABAg|mas não falam do spider man 2 quebrado                                                                                                                                                                                                                                                                                                                                                                                                                                                                                                                            |assunto_cities_skylines|UCoTIpyf8_RGzJ1LPTmvadaA|L17Ox3uFAdo|\n",
      "|UgzrxdtQ4pqBsN-sUB14AaABAg|<a href=\"https://www.youtube.com/watch?v=L17Ox3uFAdo&amp;t=7m50s\">7:50</a> &quot;Cities 1 é um dos games que os desenvolvedores cobraram muito barato pelo game&quot;🙄<br>O jogo custa R$88,99 e tem R$1309,82 em DLC&#39;s que na grande maioria já deveria estar no jogo base. Essa tática do jogo barato com muitas DLC&#39;s já está velha, The Sims 4 de graça com R$4220,73 de DLC tá aí pra provar.<br>Sem contar que até hoje a IA do trânsito do CS1 é muito burra, vergonha até hoje não incluirem funções de MODs como o Traffic Manager no jogo base.|assunto_cities_skylines|UCoTIpyf8_RGzJ1LPTmvadaA|L17Ox3uFAdo|\n",
      "|Ugw_xIIka19u65ITYnh4AaABAg|Colossal Order: Precisamos de mais tempo para polir o game!<br><br>Paradox: Foda-se? Aproveita e já coloca aí uma DLC de praiakkkkkkl                                                                                                                                                                                                                                                                                                                                                                                                                             |assunto_cities_skylines|UCoTIpyf8_RGzJ1LPTmvadaA|L17Ox3uFAdo|\n",
      "|UgyCBubEF2Ij2Y5RBmd4AaABAg|Mais um jogo que vou esperar arrumar pra daí sim comprar com desconto. Pelo menos tenho o primeiro Cities                                                                                                                                                                                                                                                                                                                                                                                                                                                         |assunto_cities_skylines|UCoTIpyf8_RGzJ1LPTmvadaA|L17Ox3uFAdo|\n",
      "|UgzKFXehReYvcYzVUzp4AaABAg|E a pressa em lançar um game assim, é pra encher o game pass de opções? E outra questão,  quanto tempo afinal é necessário para desenvolver e lançar um jogo bom, sem bugs? A culpa nos últimos anos era da pandemia,  e agora, de quem é a culpa por tantos games bugados serem lançados? O que esse desenvolvedores ficam fazendo nos seus escritórios, que não testam esses games antes do lançamento?                                                                                                                                                         |assunto_cities_skylines|UCoTIpyf8_RGzJ1LPTmvadaA|L17Ox3uFAdo|\n",
      "|UgxkuHWTRUx176cqzGF4AaABAg|Estou jogando de forma pífia numa config pouco acima da mínima recomendada. Confesso que por gostar muito, acabo me divertindo mesmo ele rodando em qualidade de porno japones, todo pixelado fudido 17 fps kkkkkk                                                                                                                                                                                                                                                                                                                                                |assunto_cities_skylines|UCoTIpyf8_RGzJ1LPTmvadaA|L17Ox3uFAdo|\n",
      "|UgxT1569uVRH6kLwwdx4AaABAg|essa do PC siqueira foi de fude kkkk mds piada nível Leo lins kkk essa me quebrou                                                                                                                                                                                                                                                                                                                                                                                                                                                                                 |assunto_cities_skylines|UCoTIpyf8_RGzJ1LPTmvadaA|L17Ox3uFAdo|\n",
      "|UgydXIHyYcn7YcbQj2J4AaABAg|o cities 1 só era jogavel com os mods da comunidade, essa IA dos npcs obviamente exigiria muito de hardware entao eu tbm ja tava esperando pelo menos um i5/r5 da vida de processador mais tem uns bug chatos de trafico nas faixas q faz eu ter saudades dos mods do cities 1, por sorte a paradox costuma incentivar os mods entao a propria comunidade vai acabar arrumando algumas coisa mais eles deveriam ter incluido aquele mod de controle de faixas pelo menos no jogo base.                                                                            |assunto_cities_skylines|UCoTIpyf8_RGzJ1LPTmvadaA|L17Ox3uFAdo|\n",
      "|Ugw8TmBBPHJT5s4zjQB4AaABAg|Para mim ja ficou claro. Jogos estao tpdps quebrados. Não é para comprar no lançamento.                                                                                                                                                                                                                                                                                                                                                                                                                                                                           |assunto_cities_skylines|UCoTIpyf8_RGzJ1LPTmvadaA|L17Ox3uFAdo|\n",
      "|UgzURReOQLpXzdmCxC94AaABAg|Aí os dev vem com aquela desculpa esfarrapada de &quot; jogo de nova geração&quot; porra o jogo tá pior em gráficos do que o cities 1, e ainda meteram que o alvo era 30 FPS                                                                                                                                                                                                                                                                                                                                                                                      |assunto_cities_skylines|UCoTIpyf8_RGzJ1LPTmvadaA|L17Ox3uFAdo|\n",
      "+--------------------------+------------------------------------------------------------------------------------------------------------------------------------------------------------------------------------------------------------------------------------------------------------------------------------------------------------------------------------------------------------------------------------------------------------------------------------------------------------------------------------------------------------------------------------------------------------------+-----------------------+------------------------+-----------+\n",
      "only showing top 20 rows\n",
      "\n"
     ]
    }
   ],
   "source": [
    "df_comentarios.show(truncate=False)"
   ]
  },
  {
   "cell_type": "code",
   "execution_count": 90,
   "metadata": {},
   "outputs": [
    {
     "name": "stdout",
     "output_type": "stream",
     "text": [
      "23/12/05 19:44:20 WARN MemoryManager: Total allocation exceeds 95,00% (906.992.014 bytes) of heap memory\n",
      "Scaling row group sizes to 96,54% for 7 writers\n",
      "23/12/05 19:44:20 WARN MemoryManager: Total allocation exceeds 95,00% (906.992.014 bytes) of heap memory\n",
      "Scaling row group sizes to 84,47% for 8 writers\n",
      "23/12/05 19:44:20 WARN MemoryManager: Total allocation exceeds 95,00% (906.992.014 bytes) of heap memory\n",
      "Scaling row group sizes to 96,54% for 7 writers\n"
     ]
    },
    {
     "name": "stderr",
     "output_type": "stream",
     "text": [
      "[Stage 72:==============>                                          (8 + 8) / 32]\r"
     ]
    },
    {
     "name": "stdout",
     "output_type": "stream",
     "text": [
      "23/12/05 19:44:20 WARN MemoryManager: Total allocation exceeds 95,00% (906.992.014 bytes) of heap memory\n",
      "Scaling row group sizes to 96,54% for 7 writers\n",
      "23/12/05 19:44:20 WARN MemoryManager: Total allocation exceeds 95,00% (906.992.014 bytes) of heap memory\n",
      "Scaling row group sizes to 84,47% for 8 writers\n",
      "23/12/05 19:44:21 WARN MemoryManager: Total allocation exceeds 95,00% (906.992.014 bytes) of heap memory\n",
      "Scaling row group sizes to 96,54% for 7 writers\n"
     ]
    },
    {
     "name": "stderr",
     "output_type": "stream",
     "text": [
      "[Stage 72:=============================>                          (17 + 8) / 32]\r"
     ]
    },
    {
     "name": "stdout",
     "output_type": "stream",
     "text": [
      "23/12/05 19:44:21 WARN MemoryManager: Total allocation exceeds 95,00% (906.992.014 bytes) of heap memory\n",
      "Scaling row group sizes to 96,54% for 7 writers\n",
      "23/12/05 19:44:21 WARN MemoryManager: Total allocation exceeds 95,00% (906.992.014 bytes) of heap memory\n",
      "Scaling row group sizes to 84,47% for 8 writers\n",
      "23/12/05 19:44:21 WARN MemoryManager: Total allocation exceeds 95,00% (906.992.014 bytes) of heap memory\n",
      "Scaling row group sizes to 96,54% for 7 writers\n",
      "23/12/05 19:44:21 WARN MemoryManager: Total allocation exceeds 95,00% (906.992.014 bytes) of heap memory\n",
      "Scaling row group sizes to 96,54% for 7 writers\n"
     ]
    },
    {
     "name": "stderr",
     "output_type": "stream",
     "text": [
      "                                                                                \r"
     ]
    }
   ],
   "source": [
    "df_comentarios.write\\\n",
    "    .parquet('../data/projetos_youtube_v2/novo_ouro/comentarios.parquet')"
   ]
  },
  {
   "cell_type": "markdown",
   "metadata": {},
   "source": [
    "- Resposta Comentários"
   ]
  },
  {
   "cell_type": "code",
   "execution_count": 91,
   "metadata": {},
   "outputs": [],
   "source": [
    "lista_assunto = [\n",
    "        'assunto_cities_skylines',\n",
    "        'assunto_cities_skylines_2',\n",
    "        'assunto_power_bi',\n",
    "        'assunto_python_and_dados'\n",
    "]"
   ]
  },
  {
   "cell_type": "code",
   "execution_count": 92,
   "metadata": {},
   "outputs": [],
   "source": [
    "lista_df_resposta_comentarios = []\n",
    "for assunto in lista_assunto:\n",
    "    df_resposta_comentarios = spark.read \\\n",
    "        .parquet(f'/home/rodrigo/Documentos/projetos/open_weather_api_apache/analise_dados_youtube/data/projetos_youtube_v2/ouro/{assunto}/reposta_comentarios/reposta_comentarios.parquet')\n",
    "    df_resposta_comentarios = df_resposta_comentarios.withColumn('ID_COMENTARIO', F.split(df_resposta_comentarios[\"ID_RESPOSTA_COMENTARIOS\"], \"\\\\.\")[0])\n",
    "    df_resposta_comentarios = df_resposta_comentarios.withColumn('ID_RESPOSTA_COMENTARIOS', F.split(df_resposta_comentarios[\"ID_RESPOSTA_COMENTARIOS\"], \"\\\\.\")[1])\n",
    "    df_resposta_comentarios = df_resposta_comentarios.withColumn('ASSUNTO', F.lit(assunto))\n",
    "    df_resposta_comentarios = df_resposta_comentarios \\\n",
    "    .select(\n",
    "        'TEXTO',\n",
    "        'ID_RESPOSTA_COMENTARIOS',\n",
    "        F.col('ASSUNTO').alias('ASSUNTO_RESPOSTA_COMENTARIOS'),\n",
    "        F.col('ID_CANAL').alias('ID_CANAL_RESPOSTA'),\n",
    "        F.col('ID_COMENTARIO').alias('ID_COMENTARIO_DOIS')\n",
    "    )\n",
    "    lista_df_resposta_comentarios.append(df_resposta_comentarios)"
   ]
  },
  {
   "cell_type": "code",
   "execution_count": 93,
   "metadata": {},
   "outputs": [
    {
     "name": "stdout",
     "output_type": "stream",
     "text": [
      "+---------------------------------------------------------------------------------------------------------------------------------------------------------------------------------------------------------------------------------------------------------------------------------------------------------------------------------------------------------------------------------------------------------------------------------------------------------------------------------------------------------------------------------------------------------------------------------------------------------------------------------------------------------------------------------------------------------------------------------------------------------------------------------------------------------------------------------------------------------------------------------------------------------------------------------------------------------------------------------------------------------------------------------------------------------------------------------------------------------------------------------------------------+-----------------------+----------------------------+------------------------+--------------------------+\n",
      "|TEXTO                                                                                                                                                                                                                                                                                                                                                                                                                                                                                                                                                                                                                                                                                                                                                                                                                                                                                                                                                                                                                                                                                                                                              |ID_RESPOSTA_COMENTARIOS|ASSUNTO_RESPOSTA_COMENTARIOS|ID_CANAL_RESPOSTA       |ID_COMENTARIO_DOIS        |\n",
      "+---------------------------------------------------------------------------------------------------------------------------------------------------------------------------------------------------------------------------------------------------------------------------------------------------------------------------------------------------------------------------------------------------------------------------------------------------------------------------------------------------------------------------------------------------------------------------------------------------------------------------------------------------------------------------------------------------------------------------------------------------------------------------------------------------------------------------------------------------------------------------------------------------------------------------------------------------------------------------------------------------------------------------------------------------------------------------------------------------------------------------------------------------+-----------------------+----------------------------+------------------------+--------------------------+\n",
      "|Opa, tudo bom Luiz? Muito obrigado pelo feedback. Vou tentar explicar esses pontos.\\n\\n1 - O cálculo de Movimentação é apenas pra que seja possível chegar no Headcount. Por isso tenho que subtrair qtde que saiu da quantidade que entrou e conseguir saber quantos funcionários tenho na empresa, é fazer um saldo mesmo. Porém, no cálculo do TURNOVER perceba que os demitidos é somado no numerador, eles estão sendo considerados.\\n\\n2 - Nesse caso depende de como está a tabela. A que eu usei cada registro é um funcionário mostrando quando entrou e saiu, ele n se repete, por isso posso usar a COUNTROWS. Se a tabela focasse em outro tipo de registro q o funcionário se repete, ou se ele trocar de setor é um novo registro, aí teria q usar a DISTINCTCOUNT mesmo.\\n\\n3 e 4 - Depende da regra do negócio, como falei no vídeo. Essa é uma das fórmulas padrão, mas existem várias. Algumas consideram o período corrente, outras apenas qtde de demitidos pelo período corrente. Depende muito da linha da empresa. Vale um estudo pra ver qual fórmula mais se adequa à realidade da empresa.\\n\\nEspero ter ajudado.\\nAbraço|9w0-rMGGB6_9w0B-evPhYh |assunto_power_bi            |UCOcjS2ppQSqIsbMgWGCfLew|Ugy8BJaSvYXUyviqtER4AaABAg|\n",
      "|O Serjão é um Mestre em sua área e de uma humildade e inteligência notável...por isso seu sucesso na Internet e em tudo o que ele se propor a fazer... Vai emagrecer e ter bastante qualidade de vida e saúde para nos brindar com sua sabedoria e os vídeos aula do universo e tecnologias desenvolvidas para o espaço terrestre e além, é uma honra para nós brasileiros ter esse Mestre aí do Brasil na internet, vivo na Flórida, cidadão americano e brasileiro e desde que assisti a chegada do homem na Lua pela tv 📺 (era bem assim ela naquela época kkkkk😂😂😂😂😂😂😂) fiquei apaixonado 🥰 pelo espaço... Parabéns Serjão !!!😊                                                                                                                                                                                                                                                                                                                                                                                                                                                                                                      |9wG279ygBeC9wI8x9x1gza |assunto_power_bi            |UC_Fk7hHbl7vv_7K8tYqJd5A|Ugy0n2RTLhGkN99mNOp4AaABAg|\n",
      "|@Caio Franco que bobagem é essa. Os jogos clássicos eram cheio de erros. O xadrez evolui como tudo no mundo. Você anda de carro com carburador hoje em dia? Então é normal que as tecnologias tenham chegado ao xadrez também. Na hora da partida ninguem usa engine, exceto um jogador que você sabe qual é. É bacana ver esses jogos clássicos, mas temos que dar prioridade aos torneios atuais, e não ficar vivendo desse passado que não volta mais.                                                                                                                                                                                                                                                                                                                                                                                                                                                                                                                                                                                                                                                                                          |9wGSqJ39wqr9wLmI9oCgML |assunto_power_bi            |UC5K-TQsItHnNLjqYf8A3CTw|Ugwr9RxvKwti9d93WRB4AaABAg|\n",
      "|Técnico adm: fique atenta em relação ao Instituto Federal Sul de Minas.\\nEles têm e sempre abrem inscrições. \\n100% EAD\\nAcessa o site deles e já salva a página.\\nEles abrem esses editais durante o ano e às vezes é por sorteio ou nota do ensino médio ou Enem.\\nEncerrou agora um edital deles c curso técnico DS 100 %EAD.\\nDaqui a pouco vai abrir p ADM.\\nGratuito tbm e 100 % EAD                                                                                                                                                                                                                                                                                                                                                                                                                                                                                                                                                                                                                                                                                                                                                         |9wG4Y7am33M9wMS8nZeNla |assunto_power_bi            |UCcinq1ymmAmhFZzyOeaGjiA|Ugx5WKNYSEzHTStmADN4AaABAg|\n",
      "|@Renan Crepaldi mesmo assim. Você tá falando de um jogador da terceira idade do xadrez. E mesmo assim, é mais fácil então comentar que a India vem forte, e não os asiáticos, pois só a India tem participação nisso (exceto Ding Liren). O restante dos países asiáticos não são tão expressivos assim, nem mesmo a China que, por sua grandeza, poderia ter mais grandes jogadores.                                                                                                                                                                                                                                                                                                                                                                                                                                                                                                                                                                                                                                                                                                                                                              |9wGWdP0GGQ59wLleEVR2dt |assunto_power_bi            |UC5K-TQsItHnNLjqYf8A3CTw|UgyI2VHceNpu7WIXBdd4AaABAg|\n",
      "|Olá Jair, muito obrigado!\\nSobre a sua pergunta não sei te responder.\\nSobre performace no Power BI Services, noto sim uma ligeiro tempo de refresh menor de uma medida por exemplo explodida em uma grande matriz com grão bem baixo. Nada que seja gritante.\\nO ganho principal é em relação a produtividade.\\nMuito obrigado pelo seu comentário.                                                                                                                                                                                                                                                                                                                                                                                                                                                                                                                                                                                                                                                                                                                                                                                               |9vzlL-xYTg09w-2jQ9uQU5 |assunto_power_bi            |UCst_4Wi9DkGAc28uEPlHHHw|Ugx5KX2nZFPGlOMfOSJ4AaABAg|\n",
      "|Eu creio que são pelas palavras chaves. O que a vaga está pedindo e o que vc já fez. Mas não fique desanimada vai se preparando,e se escrevendo em outras vagas. \\nEsse ano já fez três entrevistas  onde passei pelo RH e fiquei no gestor... Fora as que não passei na dinâmica em grupo, então estou estudando mais,e mais...pegando as dicas.                                                                                                                                                                                                                                                                                                                                                                                                                                                                                                                                                                                                                                                                                                                                                                                                  |9vwdfFwQCgi9vyckk4RDNc |assunto_power_bi            |UCcuLEJUZy4jo9iFvngkoBUg|UgyRm3_wTKUiCSMP2OB4AaABAg|\n",
      "|bom, eu não utilizei a mesma planilha do vídeo mas ficou assim: =C4*PROCX(C2;G3:G5;PROCX(C3;H2:J2;H3:J5))*PROCX(C5;L2:L11;M2:M11+1) \\nO primeiro PROCX foi para localizar o fornecedor, o segundo para o produto e o terceiro para o cálculo dos  juros. E  tudo multiplicado pela qtd.\\nÉ só pesquisar por PROCX Bidirecional 🫡                                                                                                                                                                                                                                                                                                                                                                                                                                                                                                                                                                                                                                                                                                                                                                                                                  |9vzY2H7CI0V9w0CEqxtKGo |assunto_power_bi            |UCYlKzOEFqJso5foiWbRLZMA|UgxmkSCWTM6dQn1JxGt4AaABAg|\n",
      "|Seu comentário é bastante pertinente, mas desenvolver a sua análise crítica independente da ferramenta e sim de cada pessoa, eu por exemplo sou da aérea de exatas, então ser da área de vendas não me atrai, mas o financeiro é mais interessante, isso tem haver cmg, com que eu gosto de fazer e minha aptidão.                                                                                                                                                                                                                                                                                                                                                                                                                                                                                                                                                                                                                                                                                                                                                                                                                                 |9wJIEswTctA9wJP22E2Lx5 |assunto_power_bi            |UCak0L-2P3B9-sf9-yiuJj6Q|UgyxPKfkgOMAhK3xEOJ4AaABAg|\n",
      "|Verdade.\\nFiquei sabendo de Pós Graduação através daqui do canal da Mari; Graças a DEUS consegui uma vaga. Moro em São Paulo e a Instituição é em Minas Gerais; é na Modalidade Ead mesmoooo 🙏🏻🙏🏻🙏🏻🙏🏻 1Ano de excelente Curso e sem precisar de encontros presenciais. Fazemos encontros online.                                                                                                                                                                                                                                                                                                                                                                                                                                                                                                                                                                                                                                                                                                                                                                                                                                           |9wGcHQjwqnJ9wKwNLyCLCW |assunto_power_bi            |UCcinq1ymmAmhFZzyOeaGjiA|Ugy5HrNcBTjnpX-pR7t4AaABAg|\n",
      "|As listas (que seriam a base) são gerenciadas pelo sharepoint e da pra gerencia-las de diversas maneiras - por exemplo por um app construído pelo Power Apps. Já os arquivos ficam em containers de documentos, e você pode sincroniza-los com a máquina, e o OneDrive faria esse gerenciamento junto ao contêiner                                                                                                                                                                                                                                                                                                                                                                                                                                                                                                                                                                                                                                                                                                                                                                                                                                 |9w1ORUgcwI-9w2diT86RIV |assunto_power_bi            |UCak0L-2P3B9-sf9-yiuJj6Q|Ugw3rAOeiLgWWviLxZ14AaABAg|\n",
      "|Boa noite! Olha, pelo que eu sei, está disponivél nas versões 365, 2021 e Excel Online.\\nMas.... Caso você não tenha o PROCX, dá para utilizar o índice Corresp, talvez não tenha todas as funcionalidades do PROCX, mas é uma boa alternativa.\\nEsse vídeo pode te ajudar: https://youtu.be/DaVnuPp65Uo                                                                                                                                                                                                                                                                                                                                                                                                                                                                                                                                                                                                                                                                                                                                                                                                                                           |9vzYbObSSmQ9vzgGWrOJqK |assunto_power_bi            |UCdsG3oYcpaxIZNm_Vy_nMxA|UgxjkJZTgYBzT8V_Xzx4AaABAg|\n",
      "|Não desista, está acontecendo a mesma coisa comigo, estou me preparando pra próxima oportunidade quando surgir.  A gente cai levanta,sacode a poeira e volta a andar não pode e desistir.\\nE se caso tiver uma condição faz um simulação com o Rômulo eu mês que vem vou fazer uma simulação com ele.                                                                                                                                                                                                                                                                                                                                                                                                                                                                                                                                                                                                                                                                                                                                                                                                                                              |9wBS3UnawG39wBid3RhDLE |assunto_power_bi            |UCcuLEJUZy4jo9iFvngkoBUg|UgxZ9yiZ9tIILkZzUOR4AaABAg|\n",
      "|Olá, que ótimo, boa sorte, espero que esteja preparado quando a oportunidade surgir, boom, se a fórmula não possuir nenhum erro geralmente esse problema é de acesso na fonte, veja se vc tem permissão para editar a fonte de dados, se não tiver permissão é por isso que ocorre o erro                                                                                                                                                                                                                                                                                                                                                                                                                                                                                                                                                                                                                                                                                                                                                                                                                                                          |9wKsu1HKC6o9wKtNvk1Vw_ |assunto_power_bi            |UCMB6WVI6-fRRhw0AEPPVrUA|UgyKsXi7bxsFW-uKZjd4AaABAg|\n",
      "|Se você está disponível a se mudar para outro lugar eu acho que e uma boa ideia. Mas você tem que avaliar, o quanto você vai gastar pra manter uma casa a família e quanto você vai ganhar.   Avalia e manda um currículo quem sabe não te chama para uma entrevista. Boa Sorte.                                                                                                                                                                                                                                                                                                                                                                                                                                                                                                                                                                                                                                                                                                                                                                                                                                                                   |9wIadhH_Ob09wNL3pcJW__ |assunto_power_bi            |UCcuLEJUZy4jo9iFvngkoBUg|UgwiOLAnTETpxsfObpF4AaABAg|\n",
      "|​​​​@WillNada se compara aos clássicos, cara. Os jogos atuais são muito pragmaticos. Todos parecem que fazem a mesma coisa. Não existe um Aleckine, Karpov, Kasparov, Ficsher. Esses caras brilhavam sem o uso de engines, o que tornava o xadrez ainda mais maravilhoso.                                                                                                                                                                                                                                                                                                                                                                                                                                                                                                                                                                                                                                                                                                                                                                                                                                                                          |9wGSqJ39wqr9wHnDdPPq9q |assunto_power_bi            |UC5K-TQsItHnNLjqYf8A3CTw|Ugwr9RxvKwti9d93WRB4AaABAg|\n",
      "|@Jennifer Oliveira | GRUPO TAN, você está certa, considerando o currículo da escola TAN, já seria adequado para atender às demandas do mercado, não é mesmo? Convenhamos, há profissionais com ensino superior por aí que deixam bastante a desejar... (nem é publi)                                                                                                                                                                                                                                                                                                                                                                                                                                                                                                                                                                                                                                                                                                                                                                                                                                                                               |9wE3vuTyE-S9wE6ya5ZlTp |assunto_power_bi            |UCg6yqeJJ2WMFVt9bXeUd-zA|UgwcmMNJM8lHN6YKgF94AaABAg|\n",
      "|Mesmo assim é uma oportunidade pra quem precisa de uma profissão. Muitas pessoas fazem uma faculdade que não gostam para depois fazerem Oque amam quando estão empregadas e consegue cuidar de si e da família aí podem transicionar de carreira sem ser irresponsável...                                                                                                                                                                                                                                                                                                                                                                                                                                                                                                                                                                                                                                                                                                                                                                                                                                                                          |9wE6ZG63_aQ9wFLNKQo_Iv |assunto_power_bi            |UCcinq1ymmAmhFZzyOeaGjiA|UgyVlkzXiv2kumgqOZF4AaABAg|\n",
      "|Todas as informações indicadas pela Mari estão na descrição do vídeo. https://www.gov.br/mdh/pt-br/assuntos/noticias/2023/outubro/no-dia-das-criancas-mdhc-lanca-em-parceria-com-unb-4-mil-vagas-para-cursos-sobre-garantia-dos-direitos-de-criancas-e-adolescentes                                                                                                                                                                                                                                                                                                                                                                                                                                                                                                                                                                                                                                                                                                                                                                                                                                                                                |9wMz1U25q6G9wNOALLOChD |assunto_power_bi            |UCcinq1ymmAmhFZzyOeaGjiA|UgxR1_KxWLJ1oCKqIn94AaABAg|\n",
      "|@Sala de Emprego não é assim, não. O está bem enganado. O que aparece no Google são outros tipos de processos, ademais só as partes tem acesso e não fica disponível pra todo mundo, vc não terá acesso ao inteiro teor do processo.                                                                                                                                                                                                                                                                                                                                                                                                                                                                                                                                                                                                                                                                                                                                                                                                                                                                                                               |9wCh4mj7FGn9wG4-nvVCmW |assunto_power_bi            |UCcuLEJUZy4jo9iFvngkoBUg|Ugz6FtC6HjoJB0x9cOd4AaABAg|\n",
      "+---------------------------------------------------------------------------------------------------------------------------------------------------------------------------------------------------------------------------------------------------------------------------------------------------------------------------------------------------------------------------------------------------------------------------------------------------------------------------------------------------------------------------------------------------------------------------------------------------------------------------------------------------------------------------------------------------------------------------------------------------------------------------------------------------------------------------------------------------------------------------------------------------------------------------------------------------------------------------------------------------------------------------------------------------------------------------------------------------------------------------------------------------+-----------------------+----------------------------+------------------------+--------------------------+\n",
      "only showing top 20 rows\n",
      "\n"
     ]
    }
   ],
   "source": [
    "lista_df_resposta_comentarios[2].show(truncate= False)"
   ]
  },
  {
   "cell_type": "code",
   "execution_count": 94,
   "metadata": {},
   "outputs": [
    {
     "name": "stdout",
     "output_type": "stream",
     "text": [
      "root\n",
      " |-- TEXTO: string (nullable = true)\n",
      " |-- ID_RESPOSTA_COMENTARIOS: string (nullable = true)\n",
      " |-- ASSUNTO_RESPOSTA_COMENTARIOS: string (nullable = false)\n",
      " |-- ID_CANAL_RESPOSTA: string (nullable = true)\n",
      " |-- ID_COMENTARIO_DOIS: string (nullable = true)\n",
      "\n"
     ]
    }
   ],
   "source": [
    "lista_df_resposta_comentarios[2].printSchema()"
   ]
  },
  {
   "cell_type": "code",
   "execution_count": null,
   "metadata": {},
   "outputs": [],
   "source": []
  },
  {
   "cell_type": "code",
   "execution_count": 95,
   "metadata": {},
   "outputs": [],
   "source": [
    "def merge_dataframes(df1, df2):\n",
    "    return df1.union(df2)\n"
   ]
  },
  {
   "cell_type": "code",
   "execution_count": 96,
   "metadata": {},
   "outputs": [],
   "source": [
    "df_resposta_comentarios = reduce( merge_dataframes, lista_df_resposta_comentarios)\n"
   ]
  },
  {
   "cell_type": "code",
   "execution_count": 97,
   "metadata": {},
   "outputs": [],
   "source": [
    "df_resposta_comentarios = df_resposta_comentarios.join(df_comentarios, df_resposta_comentarios.ID_COMENTARIO_DOIS == df_comentarios.ID_COMENTARIO , 'inner' )"
   ]
  },
  {
   "cell_type": "code",
   "execution_count": 98,
   "metadata": {},
   "outputs": [
    {
     "name": "stderr",
     "output_type": "stream",
     "text": [
      "                                                                                \r"
     ]
    },
    {
     "name": "stdout",
     "output_type": "stream",
     "text": [
      "+--------------------+-----------------------+----------------------------+--------------------+--------------------+--------------------+--------------------+--------------------+--------------------+-----------+\n",
      "|               TEXTO|ID_RESPOSTA_COMENTARIOS|ASSUNTO_RESPOSTA_COMENTARIOS|   ID_CANAL_RESPOSTA|  ID_COMENTARIO_DOIS|       ID_COMENTARIO|    TEXTO_COMENTARIO|             ASSUNTO|            ID_CANAL|   ID_VIDEO|\n",
      "+--------------------+-----------------------+----------------------------+--------------------+--------------------+--------------------+--------------------+--------------------+--------------------+-----------+\n",
      "|@I S K Z I Porque...|   9vtkj5bgC2R9vz_T3...|        assunto_cities_sk...|UCrOH1V-FyMunBIMr...|Ugx3JrNgDMhHKRW1s...|Ugx3JrNgDMhHKRW1s...|Eu amo essa mecân...|assunto_cities_sk...|UCrOH1V-FyMunBIMr...|XOUzWJ0bHuw|\n",
      "|@I S K Z I Porque...|   9vtkj5bgC2R9vz_T3...|        assunto_cities_sk...|UCrOH1V-FyMunBIMr...|Ugx3JrNgDMhHKRW1s...|Ugx3JrNgDMhHKRW1s...|Eu amo essa mecân...|assunto_cities_sk...|UCrOH1V-FyMunBIMr...|XOUzWJ0bHuw|\n",
      "|yeah, is somethin...|   9wJWjmBJg-e9wJhwO...|        assunto_cities_sk...|UCLAUYEY8ITQC8b47...|Ugxcvzi1uCdIuIE9i...|Ugxcvzi1uCdIuIE9i...|&quot;(FPS loss w...|assunto_cities_sk...|UCLAUYEY8ITQC8b47...|4UJOLOzhHtY|\n",
      "|yeah, is somethin...|   9wJWjmBJg-e9wJhwO...|        assunto_cities_sk...|UCLAUYEY8ITQC8b47...|Ugxcvzi1uCdIuIE9i...|Ugxcvzi1uCdIuIE9i...|&quot;(FPS loss w...|assunto_cities_sk...|UCLAUYEY8ITQC8b47...|4UJOLOzhHtY|\n",
      "|Menino! Onde você...|   9w4uFdTDbKJ9w4wxk...|        assunto_cities_sk...|UCEfL_pp3h8Ul-LIL...|Ugw78b1r-5e_Dj0wa...|Ugw78b1r-5e_Dj0wa...|A Colossal Order ...|assunto_cities_sk...|UCEfL_pp3h8Ul-LIL...|VUgmLKbC8tY|\n",
      "|Menino! Onde você...|   9w4uFdTDbKJ9w4wxk...|        assunto_cities_sk...|UCEfL_pp3h8Ul-LIL...|Ugw78b1r-5e_Dj0wa...|Ugw78b1r-5e_Dj0wa...|A Colossal Order ...|assunto_cities_sk...|UCEfL_pp3h8Ul-LIL...|VUgmLKbC8tY|\n",
      "|Vou responder a g...|   9w3E4zXfe0c9w5av_...|        assunto_cities_sk...|UCDGo_s0I-2JpO3o3...|UgyxyDNT-fo0cPniS...|UgyxyDNT-fo0cPniS...|Uma coisa q está ...|assunto_cities_sk...|UCDGo_s0I-2JpO3o3...|fTeqTuEHs7I|\n",
      "|Vou responder a g...|   9w3E4zXfe0c9w5av_...|        assunto_cities_sk...|UCDGo_s0I-2JpO3o3...|UgyxyDNT-fo0cPniS...|UgyxyDNT-fo0cPniS...|Uma coisa q está ...|assunto_cities_sk...|UCDGo_s0I-2JpO3o3...|fTeqTuEHs7I|\n",
      "|Até porque é a ma...|   9wLDc4WalFQ9wLRat...|        assunto_cities_sk...|UCoTIpyf8_RGzJ1LP...|Ugxls8gLmgIFKx9Fq...|Ugxls8gLmgIFKx9Fq...|Quem conhece a pa...|assunto_cities_sk...|UCoTIpyf8_RGzJ1LP...|L17Ox3uFAdo|\n",
      "|Até porque é a ma...|   9wLDc4WalFQ9wLRat...|        assunto_cities_sk...|UCoTIpyf8_RGzJ1LP...|Ugxls8gLmgIFKx9Fq...|Ugxls8gLmgIFKx9Fq...|Quem conhece a pa...|assunto_cities_sk...|UCoTIpyf8_RGzJ1LP...|L17Ox3uFAdo|\n",
      "|@Klyte45 Acabei d...|   9w67BegJ70W9w6mzE...|        assunto_cities_sk...|UCElNoZcxhVqDtZBS...|UgwM5X1_RKCBh_ZNx...|UgwM5X1_RKCBh_ZNx...|Comprei uma RTX 4...|assunto_cities_sk...|UCElNoZcxhVqDtZBS...|t4pfQW9O3Lw|\n",
      "|@Klyte45 Acabei d...|   9w67BegJ70W9w6mzE...|        assunto_cities_sk...|UCElNoZcxhVqDtZBS...|UgwM5X1_RKCBh_ZNx...|UgwM5X1_RKCBh_ZNx...|Comprei uma RTX 4...|assunto_cities_sk...|UCElNoZcxhVqDtZBS...|t4pfQW9O3Lw|\n",
      "|Oie Edu! Loooonge...|   9wFPkzrbws09wFnQD...|        assunto_cities_sk...|UCDGo_s0I-2JpO3o3...|UgyCAd_IPg91Jhb0y...|UgyCAd_IPg91Jhb0y...|Se o jogo fizesse...|assunto_cities_sk...|UCDGo_s0I-2JpO3o3...|sUO06_ONDLM|\n",
      "|Oie Edu! Loooonge...|   9wFPkzrbws09wFnQD...|        assunto_cities_sk...|UCDGo_s0I-2JpO3o3...|UgyCAd_IPg91Jhb0y...|UgyCAd_IPg91Jhb0y...|Se o jogo fizesse...|assunto_cities_sk...|UCDGo_s0I-2JpO3o3...|sUO06_ONDLM|\n",
      "|@Igor Ia Ne sim s...|   9w5JHUPgRKO9wAayT...|        assunto_cities_sk...|UCJHBJmrVd7ujf2eC...|UgxJl7t3bHyY0vaQF...|UgxJl7t3bHyY0vaQF...|Nosssa Fera demai...|assunto_cities_sk...|UCJHBJmrVd7ujf2eC...|mKgATax4ecI|\n",
      "|@Igor Ia Ne sim s...|   9w5JHUPgRKO9wAayT...|        assunto_cities_sk...|UCJHBJmrVd7ujf2eC...|UgxJl7t3bHyY0vaQF...|UgxJl7t3bHyY0vaQF...|Nosssa Fera demai...|assunto_cities_sk...|UCJHBJmrVd7ujf2eC...|mKgATax4ecI|\n",
      "|@Cultosaurus Erec...|   9wLB8gv4bcH9wLIaN...|        assunto_cities_sk...|UCoTIpyf8_RGzJ1LP...|UgzRzlnpt2Td0_BUL...|UgzRzlnpt2Td0_BUL...|Se foi o tempo em...|assunto_cities_sk...|UCoTIpyf8_RGzJ1LP...|L17Ox3uFAdo|\n",
      "|@Cultosaurus Erec...|   9wLB8gv4bcH9wLIaN...|        assunto_cities_sk...|UCoTIpyf8_RGzJ1LP...|UgzRzlnpt2Td0_BUL...|UgzRzlnpt2Td0_BUL...|Se foi o tempo em...|assunto_cities_sk...|UCoTIpyf8_RGzJ1LP...|L17Ox3uFAdo|\n",
      "|😢 o atual proble...|   9wJ3CYTSOEp9wJ9lA...|        assunto_cities_sk...|UCrOH1V-FyMunBIMr...|UgySWx2wsESOlb4NL...|UgySWx2wsESOlb4NL...|O que acha das pe...|assunto_cities_sk...|UCrOH1V-FyMunBIMr...|xCaUzgIM6Bg|\n",
      "|😢 o atual proble...|   9wJ3CYTSOEp9wJ9lA...|        assunto_cities_sk...|UCrOH1V-FyMunBIMr...|UgySWx2wsESOlb4NL...|UgySWx2wsESOlb4NL...|O que acha das pe...|assunto_cities_sk...|UCrOH1V-FyMunBIMr...|xCaUzgIM6Bg|\n",
      "+--------------------+-----------------------+----------------------------+--------------------+--------------------+--------------------+--------------------+--------------------+--------------------+-----------+\n",
      "only showing top 20 rows\n",
      "\n"
     ]
    }
   ],
   "source": [
    "df_resposta_comentarios.show()"
   ]
  },
  {
   "cell_type": "code",
   "execution_count": 99,
   "metadata": {},
   "outputs": [
    {
     "name": "stdout",
     "output_type": "stream",
     "text": [
      "+-----------------------+--------------------+--------------------+--------------------+-----------+--------------------+\n",
      "|ID_RESPOSTA_COMENTARIOS|               TEXTO|             ASSUNTO|            ID_CANAL|   ID_VIDEO|       ID_COMENTARIO|\n",
      "+-----------------------+--------------------+--------------------+--------------------+-----------+--------------------+\n",
      "|   9vtkj5bgC2R9vz_T3...|@I S K Z I Porque...|assunto_cities_sk...|UCrOH1V-FyMunBIMr...|XOUzWJ0bHuw|Ugx3JrNgDMhHKRW1s...|\n",
      "|   9vtkj5bgC2R9vz_T3...|@I S K Z I Porque...|assunto_cities_sk...|UCrOH1V-FyMunBIMr...|XOUzWJ0bHuw|Ugx3JrNgDMhHKRW1s...|\n",
      "|   9wJWjmBJg-e9wJhwO...|yeah, is somethin...|assunto_cities_sk...|UCLAUYEY8ITQC8b47...|4UJOLOzhHtY|Ugxcvzi1uCdIuIE9i...|\n",
      "|   9wJWjmBJg-e9wJhwO...|yeah, is somethin...|assunto_cities_sk...|UCLAUYEY8ITQC8b47...|4UJOLOzhHtY|Ugxcvzi1uCdIuIE9i...|\n",
      "|   9w4uFdTDbKJ9w4wxk...|Menino! Onde você...|assunto_cities_sk...|UCEfL_pp3h8Ul-LIL...|VUgmLKbC8tY|Ugw78b1r-5e_Dj0wa...|\n",
      "|   9w4uFdTDbKJ9w4wxk...|Menino! Onde você...|assunto_cities_sk...|UCEfL_pp3h8Ul-LIL...|VUgmLKbC8tY|Ugw78b1r-5e_Dj0wa...|\n",
      "|   9w3E4zXfe0c9w5av_...|Vou responder a g...|assunto_cities_sk...|UCDGo_s0I-2JpO3o3...|fTeqTuEHs7I|UgyxyDNT-fo0cPniS...|\n",
      "|   9w3E4zXfe0c9w5av_...|Vou responder a g...|assunto_cities_sk...|UCDGo_s0I-2JpO3o3...|fTeqTuEHs7I|UgyxyDNT-fo0cPniS...|\n",
      "|   9wLDc4WalFQ9wLRat...|Até porque é a ma...|assunto_cities_sk...|UCoTIpyf8_RGzJ1LP...|L17Ox3uFAdo|Ugxls8gLmgIFKx9Fq...|\n",
      "|   9wLDc4WalFQ9wLRat...|Até porque é a ma...|assunto_cities_sk...|UCoTIpyf8_RGzJ1LP...|L17Ox3uFAdo|Ugxls8gLmgIFKx9Fq...|\n",
      "|   9w67BegJ70W9w6mzE...|@Klyte45 Acabei d...|assunto_cities_sk...|UCElNoZcxhVqDtZBS...|t4pfQW9O3Lw|UgwM5X1_RKCBh_ZNx...|\n",
      "|   9w67BegJ70W9w6mzE...|@Klyte45 Acabei d...|assunto_cities_sk...|UCElNoZcxhVqDtZBS...|t4pfQW9O3Lw|UgwM5X1_RKCBh_ZNx...|\n",
      "|   9wFPkzrbws09wFnQD...|Oie Edu! Loooonge...|assunto_cities_sk...|UCDGo_s0I-2JpO3o3...|sUO06_ONDLM|UgyCAd_IPg91Jhb0y...|\n",
      "|   9wFPkzrbws09wFnQD...|Oie Edu! Loooonge...|assunto_cities_sk...|UCDGo_s0I-2JpO3o3...|sUO06_ONDLM|UgyCAd_IPg91Jhb0y...|\n",
      "|   9w5JHUPgRKO9wAayT...|@Igor Ia Ne sim s...|assunto_cities_sk...|UCJHBJmrVd7ujf2eC...|mKgATax4ecI|UgxJl7t3bHyY0vaQF...|\n",
      "|   9w5JHUPgRKO9wAayT...|@Igor Ia Ne sim s...|assunto_cities_sk...|UCJHBJmrVd7ujf2eC...|mKgATax4ecI|UgxJl7t3bHyY0vaQF...|\n",
      "|   9wLB8gv4bcH9wLIaN...|@Cultosaurus Erec...|assunto_cities_sk...|UCoTIpyf8_RGzJ1LP...|L17Ox3uFAdo|UgzRzlnpt2Td0_BUL...|\n",
      "|   9wLB8gv4bcH9wLIaN...|@Cultosaurus Erec...|assunto_cities_sk...|UCoTIpyf8_RGzJ1LP...|L17Ox3uFAdo|UgzRzlnpt2Td0_BUL...|\n",
      "|   9wJ3CYTSOEp9wJ9lA...|😢 o atual proble...|assunto_cities_sk...|UCrOH1V-FyMunBIMr...|xCaUzgIM6Bg|UgySWx2wsESOlb4NL...|\n",
      "|   9wJ3CYTSOEp9wJ9lA...|😢 o atual proble...|assunto_cities_sk...|UCrOH1V-FyMunBIMr...|xCaUzgIM6Bg|UgySWx2wsESOlb4NL...|\n",
      "+-----------------------+--------------------+--------------------+--------------------+-----------+--------------------+\n",
      "only showing top 20 rows\n",
      "\n"
     ]
    }
   ],
   "source": [
    "df_resposta_comentarios = df_resposta_comentarios.select(\n",
    "    'ID_RESPOSTA_COMENTARIOS',\n",
    "    'TEXTO',\n",
    "    F.col('ASSUNTO_RESPOSTA_COMENTARIOS').alias('ASSUNTO'),\n",
    "    'ID_CANAL',\n",
    "    'ID_VIDEO',\n",
    "    F.col('ID_COMENTARIO_DOIS').alias('ID_COMENTARIO')\n",
    ")\n",
    "\n",
    "df_resposta_comentarios.show()"
   ]
  },
  {
   "cell_type": "code",
   "execution_count": 100,
   "metadata": {},
   "outputs": [],
   "source": [
    "lista_resposta_comentarios = df_resposta_comentarios.columns"
   ]
  },
  {
   "cell_type": "code",
   "execution_count": 101,
   "metadata": {},
   "outputs": [
    {
     "name": "stderr",
     "output_type": "stream",
     "text": [
      "                                                                                \r"
     ]
    },
    {
     "name": "stdout",
     "output_type": "stream",
     "text": [
      "+-----------------------+-----+\n",
      "|ID_RESPOSTA_COMENTARIOS|count|\n",
      "+-----------------------+-----+\n",
      "|9vwRcZB4z2Y9vweRSRCQxx |24   |\n",
      "|9w5sJxq8jkG9w6Grt8fDH8 |8    |\n",
      "|9w5sJxq8jkG9w6Zbgp5_1Z |8    |\n",
      "|9w5sJxq8jkG9w5tJ_-R18F |8    |\n",
      "|9w87TWefmUc9wAKdwLndmJ |8    |\n",
      "|9w5sJxq8jkG9w5yf9KI8m8 |8    |\n",
      "|9w87TWefmUc9wBwZyH5HnT |8    |\n",
      "|9w86ovG3Icp9w8BHEElX9V |8    |\n",
      "|9vwRcZB4z2Y9vyjp_UePou |8    |\n",
      "|9w7zfGwYH6D9w85IjBH39d |8    |\n",
      "|9w86ovG3Icp9w8AaU80j0R |8    |\n",
      "|9w86ovG3Icp9w8L8I5iTEC |8    |\n",
      "|9w86ovG3Icp9w88flHvZlj |8    |\n",
      "|9vwRcZB4z2Y9vyBge7ip-W |8    |\n",
      "|9w86ovG3Icp9w8BB65uZw2 |8    |\n",
      "|9w87TWefmUc9wBN8H43nUF |8    |\n",
      "|9w5sJxq8jkG9w6FQvOlgdC |8    |\n",
      "|9w87TWefmUc9w9v8N8y9qe |8    |\n",
      "|9w86ovG3Icp9w8CE4HgKm_ |8    |\n",
      "|9vwRcZB4z2Y9vwcPUs-tSo |8    |\n",
      "+-----------------------+-----+\n",
      "only showing top 20 rows\n",
      "\n"
     ]
    },
    {
     "name": "stderr",
     "output_type": "stream",
     "text": [
      "                                                                                \r"
     ]
    },
    {
     "name": "stdout",
     "output_type": "stream",
     "text": [
      "+--------------------------------------------------------------------------------------------------------------------------------------------------------------------------------------------------------------------------------------------------------------------------------------------------------------------------------------------------------------------------------------------------------------------------------------------------------------------------------------------------------------------------------------------------------------------------------------------------------+-----+\n",
      "|TEXTO                                                                                                                                                                                                                                                                                                                                                                                                                                                                                                                                                                                                   |count|\n",
      "+--------------------------------------------------------------------------------------------------------------------------------------------------------------------------------------------------------------------------------------------------------------------------------------------------------------------------------------------------------------------------------------------------------------------------------------------------------------------------------------------------------------------------------------------------------------------------------------------------------+-----+\n",
      "|Up                                                                                                                                                                                                                                                                                                                                                                                                                                                                                                                                                                                                      |60   |\n",
      "|up                                                                                                                                                                                                                                                                                                                                                                                                                                                                                                                                                                                                      |52   |\n",
      "|💜🚀                                                                                                                                                                                                                                                                                                                                                                                                                                                                                                                                                                                                    |11   |\n",
      "|Fico feliz em saber                                                                                                                                                                                                                                                                                                                                                                                                                                                                                                                                                                                     |10   |\n",
      "|Obrigado!                                                                                                                                                                                                                                                                                                                                                                                                                                                                                                                                                                                               |10   |\n",
      "|Graficamente o cities não é muito pesado, oq tu tem mais que se importar é o processador e a ram que a longo prazo ele é bem exigente\\n\\nA config dele ele deixa no sobre do canal, a não ser que tenha mudado é pra ser \\n\\n- Processador Intel Core I9 9900K\\r\\n- Cooler Corsair H100X 240mm\\r\\n- Placa Mãe AORUS Z390 ELITE DDR4\\r\\n- Memoria XPG 64GB DDR4 Gammix D10 2666MHz\\r\\n- Galax NVIDIA Geforce RTX 2080 8GB GDDR6\\r\\n- SSD 600GB DC S3500\\r\\n- HD 1TB WD Blue Sata III\\r\\n- Fonte Corsair HX750i 80 Plus \\r\\n- Placa de Captura Elgato HD60 Pro\\r\\n- Gabinete Pichau Gaming GADIT RGB Glass|8    |\n",
      "|@Sergio Garde Videos Drone Pt Br Se eu falar que \"sua bolha é pequena\" virou agressão, acho que o problema é você. Lógico que o barbosa não vai falar sobre a performance pq tecnicamente só pode falar de performance abertamente amanhã. Que inclusive é amanhã que o Barbosa falará sobre as opções graficas e tudo mais. Ademais, opinião de dois ou três youtubers não significam NADA quando tem um mar de gente no Reddit e na SteamComunity                                                                                                                                                     |8    |\n",
      "|@Default vixi esperar né pra ver se eles otimizam.                                                                                                                                                                                                                                                                                                                                                                                                                                                                                                                                                      |8    |\n",
      "|@Sergio Garde Videos Drone Pt Br vc deve ser o centro das atenções no jantares familiares. Pegou ar muito rápido, cara. Se vc quer atenção, procure ajuda. Vc escolheu streamers carimbados, isso não é uma amostragem segura. Apenas isso. Sem falar que o BIFFA entrou em live e tava apanhando com a 4090 dele, pois ele REALMENTE mostrou as configurações que estava usando kkkk                                                                                                                                                                                                                   |8    |\n",
      "|Não dá pra dizer que é uma aposta que vai dar certo, mas eu aplaudo a ousadia de lançar um jogo pra requisitos futuros\\n\\nEu acredito que a longo prazo (5+ anos) essa escolha vai trazer frutos pois essa porcentagem estará maior e o jogo terá mais recursos... Vai demorar muito tempo pro 2 ficar tão obsoleto quanto o 1 está hoje                                                                                                                                                                                                                                                                |8    |\n",
      "|mas no caso, alem de ser cpu o limitador no game como era no 1, está sendo quantidade de vram, q está bem mal otimizado o game q só fica bom acima de 11gb, q foi o teste com uma 1080ti q ficou de boas, agora para placas com menos o game sofre@Eden_D-W                                                                                                                                                                                                                                                                                                                                             |8    |\n",
      "|@Eden_D-W minha máquina e uma placa mãe b550m aorus elite,  ryzen 7 5700x, 32gb de ram a 3200mhz, fonte de 650 da msi. Ia até pegar a rtx 3060 mais a grana não deu aí fui de rx 5700 da xfx do ali                                                                                                                                                                                                                                                                                                                                                                                                     |8    |\n",
      "|@José Balluta      não estou preocupado vou comprar acho que no meu i9 com uma rtx 4060 vai rodar de boa no mais boa sorte na sua bolha                                                                                                                                                                                                                                                                                                                                                                                                                                                                 |8    |\n",
      "|pelo q vi, 8gb de vram tá sendo complicado, só tá rodando bem acimas dos 11gb de vram, @Jackson Atilas                                                                                                                                                                                                                                                                                                                                                                                                                                                                                                  |8    |\n",
      "|@Fagner Sousa o metal com uma 3070 tá engasgando do mesmo jeito, muito mal otimizado                                                                                                                                                                                                                                                                                                                                                                                                                                                                                                                    |8    |\n",
      "|@José Balluta  impressionante como tem gente que só conegue argumentar com agressão , que papo  é esse de bolha ? Eu vi video do Chratos do Void do Barbosa Cities e não vi nenhum dele reclamando, mas parece obvio que um jogo como esse vai pedir alem de uma boa placa grafica um otimo processador.                                                                                                                                                                                                                                                                                                |8    |\n",
      "|quase igual o meu esse pc, só muda q minhas ram é 3600mhz e a rx q é a 5700xt gigabyte oc, mas tá me ficando ruim nos games essa 5700xt q vou ter q pegar uma rx 7800xt para dar conta@Fagner Sousa                                                                                                                                                                                                                                                                                                                                                                                                     |8    |\n",
      "|​​@Miguelito Jogador GamerEle postava na oficina com o nome da cidade, n sei como ele vem fazendo pra mandar o save ou se ele só n manda msm                                                                                                                                                                                                                                                                                                                                                                                                                                                            |8    |\n",
      "|VÁRIOS está reclamando. Acho que a tua bolha que é muito pequena\\nGeral reclamando no Reddit e na comunidade da Steam                                                                                                                                                                                                                                                                                                                                                                                                                                                                                   |8    |\n",
      "|@Jackson Atilas a máquina é até boa, era mais pela placa de video que é uma rx5700 da XFX de 8gb.                                                                                                                                                                                                                                                                                                                                                                                                                                                                                                       |8    |\n",
      "+--------------------------------------------------------------------------------------------------------------------------------------------------------------------------------------------------------------------------------------------------------------------------------------------------------------------------------------------------------------------------------------------------------------------------------------------------------------------------------------------------------------------------------------------------------------------------------------------------------+-----+\n",
      "only showing top 20 rows\n",
      "\n"
     ]
    },
    {
     "name": "stderr",
     "output_type": "stream",
     "text": [
      "                                                                                \r"
     ]
    },
    {
     "name": "stdout",
     "output_type": "stream",
     "text": [
      "+-------------------------+-----+\n",
      "|ASSUNTO                  |count|\n",
      "+-------------------------+-----+\n",
      "|assunto_cities_skylines_2|3382 |\n",
      "|assunto_cities_skylines  |3377 |\n",
      "|assunto_python_and_dados |671  |\n",
      "|assunto_power_bi         |456  |\n",
      "+-------------------------+-----+\n",
      "\n"
     ]
    },
    {
     "name": "stderr",
     "output_type": "stream",
     "text": [
      "                                                                                \r"
     ]
    },
    {
     "name": "stdout",
     "output_type": "stream",
     "text": [
      "+------------------------+-----+\n",
      "|ID_CANAL                |count|\n",
      "+------------------------+-----+\n",
      "|UCrOH1V-FyMunBIMrKL0y0xQ|2352 |\n",
      "|UCfY4ggUDPeecGSCNePyyVSA|712  |\n",
      "|UCe9jrI0YQ5SM6h5QRZ9FZlA|568  |\n",
      "|UCoTIpyf8_RGzJ1LPTmvadaA|552  |\n",
      "|UCayiH2Y5JBEOSubqoQhufDA|388  |\n",
      "|UCDGo_s0I-2JpO3o3xlkMQVA|316  |\n",
      "|UCEfL_pp3h8Ul-LIL1C4o34w|280  |\n",
      "|UC_Fk7hHbl7vv_7K8tYqJd5A|264  |\n",
      "|UC1mk6EtfMjxR4eEZ7C43zTQ|204  |\n",
      "|UCaj6FB2mFZ2T9a61QtZsKPA|204  |\n",
      "|UCEQ12yB8QLw9pVOY3lo34_g|197  |\n",
      "|UCrUcdH_bCfX77xpXHyq2fJw|180  |\n",
      "|UCJHBJmrVd7ujf2eCEujukog|172  |\n",
      "|UCYEb5mbKZ5JJzN0xBuKyaig|164  |\n",
      "|UCHQun4keJGrj8RqDPPpyUsg|142  |\n",
      "|UCElNoZcxhVqDtZBSrdEomnA|128  |\n",
      "|UCrxFTbIV_8sUVJ596fkzBsg|120  |\n",
      "|UCJYFuFymG6_6TLUxC-4YHzA|108  |\n",
      "|UCcinq1ymmAmhFZzyOeaGjiA|83   |\n",
      "|UCcuLEJUZy4jo9iFvngkoBUg|53   |\n",
      "+------------------------+-----+\n",
      "only showing top 20 rows\n",
      "\n"
     ]
    },
    {
     "name": "stderr",
     "output_type": "stream",
     "text": [
      "                                                                                \r"
     ]
    },
    {
     "name": "stdout",
     "output_type": "stream",
     "text": [
      "+-----------+-----+\n",
      "|ID_VIDEO   |count|\n",
      "+-----------+-----+\n",
      "|L17Ox3uFAdo|552  |\n",
      "|vzzeZU07rmo|400  |\n",
      "|vy-upTpchig|324  |\n",
      "|wCLSZxLfUAk|284  |\n",
      "|VUgmLKbC8tY|264  |\n",
      "|OH-qmlI4A3o|264  |\n",
      "|9SGBZ7GE5EA|256  |\n",
      "|ShVmR8yQweU|232  |\n",
      "|ykt0QE2XxP0|216  |\n",
      "|W6TjOORgEG0|204  |\n",
      "|6RgEh-9KAgY|204  |\n",
      "|fTeqTuEHs7I|200  |\n",
      "|V_sQAmzhrdE|197  |\n",
      "|TBZuVHi3QdM|184  |\n",
      "|mKgATax4ecI|172  |\n",
      "|up4KrHrRwLY|168  |\n",
      "|UJd9K8nK5H4|160  |\n",
      "|QwXP79P4xS0|160  |\n",
      "|totHMIv6_hI|156  |\n",
      "|RKa9PtQbAGQ|136  |\n",
      "+-----------+-----+\n",
      "only showing top 20 rows\n",
      "\n"
     ]
    },
    {
     "name": "stderr",
     "output_type": "stream",
     "text": [
      "[Stage 107:===============================================>     (124 + 8) / 139]\r"
     ]
    },
    {
     "name": "stdout",
     "output_type": "stream",
     "text": [
      "+--------------------------+-----+\n",
      "|ID_COMENTARIO             |count|\n",
      "+--------------------------+-----+\n",
      "|Ugy0n2RTLhGkN99mNOp4AaABAg|176  |\n",
      "|Ugw78b1r-5e_Dj0waAl4AaABAg|140  |\n",
      "|UgykZAifisDqxp6sYt94AaABAg|104  |\n",
      "|UgxILnyjIlcyAnAIvmh4AaABAg|80   |\n",
      "|UgxJl7t3bHyY0vaQFMt4AaABAg|76   |\n",
      "|Ugzm_o1Qjlkjvi53PQp4AaABAg|76   |\n",
      "|Ugwtb0MSIh1mdFeTh6d4AaABAg|72   |\n",
      "|UgyLcZQQ-UXT8opnnUp4AaABAg|72   |\n",
      "|UgwjHHgaWcqqmrEtkzZ4AaABAg|64   |\n",
      "|Ugy4zt9rIr4CYDK2_hV4AaABAg|60   |\n",
      "|UgxAhTxWuXPwkkmKHYh4AaABAg|60   |\n",
      "|Ugxls8gLmgIFKx9Fqxd4AaABAg|60   |\n",
      "|UgwXtYzBUR23fDdzCqd4AaABAg|56   |\n",
      "|Ugw_I4QstOoUSOZCg3l4AaABAg|52   |\n",
      "|UgwrgrAhSIYbdP35D3Z4AaABAg|52   |\n",
      "|UgyAygBP4Kagzw-BsRN4AaABAg|48   |\n",
      "|UgyI--hUg0boHKo_R4p4AaABAg|48   |\n",
      "|Ugws_ZumJrZMh-iVlMB4AaABAg|40   |\n",
      "|UgyZb7P9u-CJDa1eadZ4AaABAg|40   |\n",
      "|UgzRzlnpt2Td0_BULZJ4AaABAg|40   |\n",
      "+--------------------------+-----+\n",
      "only showing top 20 rows\n",
      "\n"
     ]
    },
    {
     "name": "stderr",
     "output_type": "stream",
     "text": [
      "                                                                                \r"
     ]
    }
   ],
   "source": [
    "for coluna in lista_resposta_comentarios:\n",
    "    df_resposta_comentarios.groupBy(coluna).count().orderBy('count', ascending=False).show(truncate=False)"
   ]
  },
  {
   "cell_type": "code",
   "execution_count": 102,
   "metadata": {},
   "outputs": [
    {
     "name": "stdout",
     "output_type": "stream",
     "text": [
      "+-----------------------+-----------------------------------------------------------------------------------------------------------------------------------------------------------------------------------------------------------------------------------------------------------------------------------------------------------------------------------------------------------------------------------------------------------------------------------------------------------------------------------------------------------------------------------------------------------------------------------------------------------------------------------------------------------------------------------------------------------------------------------------------------------------------------------------------------------------------------------------------------------------------------------------+-----------------------+------------------------+-----------+--------------------------+\n",
      "|ID_RESPOSTA_COMENTARIOS|TEXTO                                                                                                                                                                                                                                                                                                                                                                                                                                                                                                                                                                                                                                                                                                                                                                                                                                                                                    |ASSUNTO                |ID_CANAL                |ID_VIDEO   |ID_COMENTARIO             |\n",
      "+-----------------------+-----------------------------------------------------------------------------------------------------------------------------------------------------------------------------------------------------------------------------------------------------------------------------------------------------------------------------------------------------------------------------------------------------------------------------------------------------------------------------------------------------------------------------------------------------------------------------------------------------------------------------------------------------------------------------------------------------------------------------------------------------------------------------------------------------------------------------------------------------------------------------------------+-----------------------+------------------------+-----------+--------------------------+\n",
      "|9vtkj5bgC2R9vz_T3naVV5 |@I S K Z I Porque uma DEMO é uma versão de DEMONSTRAÇÃO, não beta ou alpha, para demonstrar as funcionalidades e capacidades básicas do seu jogo para que alguém que antes estivesse na dúvida de comprar o jogo, agora tenha certeza se vale realmente a pena comprar. Se tu põe uma versão demo cagada, o que tu acha que a pessoa vai pensar? Que o jogo é cagado, e logo não vai comprar.\\n\\nUma versão aplha/demo de um jogo é uma versão incompleta de desenvolvimento, uma demo de uma jogo é uma versão *limitada* da versão completa do jogo, são coisas completamente diferentes. Em um, falta funcionalidades, no outro as funcionalidades apenas estão bloqueadas.\\n\\nEntão só há duas possibilidades aqui: Ou o jogo está cagado do mesmo jeito no vídeo, ou os desenvolvedores não sabem fazer uma demo e fizeram a burrice de pôr uma versão alpha/beta do jogo como demo.|assunto_cities_skylines|UCrOH1V-FyMunBIMrKL0y0xQ|XOUzWJ0bHuw|Ugx3JrNgDMhHKRW1sPN4AaABAg|\n",
      "|9vtkj5bgC2R9vz_T3naVV5 |@I S K Z I Porque uma DEMO é uma versão de DEMONSTRAÇÃO, não beta ou alpha, para demonstrar as funcionalidades e capacidades básicas do seu jogo para que alguém que antes estivesse na dúvida de comprar o jogo, agora tenha certeza se vale realmente a pena comprar. Se tu põe uma versão demo cagada, o que tu acha que a pessoa vai pensar? Que o jogo é cagado, e logo não vai comprar.\\n\\nUma versão aplha/demo de um jogo é uma versão incompleta de desenvolvimento, uma demo de uma jogo é uma versão *limitada* da versão completa do jogo, são coisas completamente diferentes. Em um, falta funcionalidades, no outro as funcionalidades apenas estão bloqueadas.\\n\\nEntão só há duas possibilidades aqui: Ou o jogo está cagado do mesmo jeito no vídeo, ou os desenvolvedores não sabem fazer uma demo e fizeram a burrice de pôr uma versão alpha/beta do jogo como demo.|assunto_cities_skylines|UCrOH1V-FyMunBIMrKL0y0xQ|XOUzWJ0bHuw|Ugx3JrNgDMhHKRW1sPN4AaABAg|\n",
      "|9wJWjmBJg-e9wJhwOBInBI |yeah, is something around this percentage when using OBS at 4k60fps (1440p60fps is not much different, that's why i choose 4k, to preserve more image quality) (using nvidia shadowplay is a little less, around 10%~20% at 4K60fps, but with OBS i can make youtube process the video much faster :B)\\n\\ni tried the iGPU from my old i7-7700 once (it had a support for 1440p30/1080p60) but the frametime was much worse when recording with iGPU, somehow there's a big impact on CPU, which affect FPS/frametime (i tried with both OBS and intel program), nvenc is still the best option, even sacrificing some GPU\\n\\nso, basically, if the game is running at 20fps it will probably run at a minimum of 23fps when not recording, if it's running at 53fps then it probably runs at 61fps, or something like that                                                              |assunto_cities_skylines|UCLAUYEY8ITQC8b47xyqybxg|4UJOLOzhHtY|Ugxcvzi1uCdIuIE9iQV4AaABAg|\n",
      "|9wJWjmBJg-e9wJhwOBInBI |yeah, is something around this percentage when using OBS at 4k60fps (1440p60fps is not much different, that's why i choose 4k, to preserve more image quality) (using nvidia shadowplay is a little less, around 10%~20% at 4K60fps, but with OBS i can make youtube process the video much faster :B)\\n\\ni tried the iGPU from my old i7-7700 once (it had a support for 1440p30/1080p60) but the frametime was much worse when recording with iGPU, somehow there's a big impact on CPU, which affect FPS/frametime (i tried with both OBS and intel program), nvenc is still the best option, even sacrificing some GPU\\n\\nso, basically, if the game is running at 20fps it will probably run at a minimum of 23fps when not recording, if it's running at 53fps then it probably runs at 61fps, or something like that                                                              |assunto_cities_skylines|UCLAUYEY8ITQC8b47xyqybxg|4UJOLOzhHtY|Ugxcvzi1uCdIuIE9iQV4AaABAg|\n",
      "|9w4uFdTDbKJ9w4wxkdIIzq |Menino! Onde você viu isso? Está se informando com gente mal informada!\\nO intuito dessa plataforma é justamente facilitar o uso dos mods em diferentes plataformas (Steam, Windows Store, Epic Games, Playstation, Xbox, etc.), assim os mods serão upados em um só lugar e todos poderão usar, até nos consoles (usuários de consoles só poderão usar os assets, mods de código não funcionam). No geral, vai funcionar como na Steam, você acessa a plataforma de mods pelo jogo, ou pelo navegador com sua conta da Paradox logada, escolhe e assina, o mod vai baixar e instalar automaticamente, em todas suas plataformas que você tiver o jogo. E deixaram bem claro que os mods continuarão gratuitos. Fonte: https://store.steampowered.com/news/app/949230/view/3744239010998774129?l=brazilian                                                                               |assunto_cities_skylines|UCEfL_pp3h8Ul-LIL1C4o34w|VUgmLKbC8tY|Ugw78b1r-5e_Dj0waAl4AaABAg|\n",
      "|9w4uFdTDbKJ9w4wxkdIIzq |Menino! Onde você viu isso? Está se informando com gente mal informada!\\nO intuito dessa plataforma é justamente facilitar o uso dos mods em diferentes plataformas (Steam, Windows Store, Epic Games, Playstation, Xbox, etc.), assim os mods serão upados em um só lugar e todos poderão usar, até nos consoles (usuários de consoles só poderão usar os assets, mods de código não funcionam). No geral, vai funcionar como na Steam, você acessa a plataforma de mods pelo jogo, ou pelo navegador com sua conta da Paradox logada, escolhe e assina, o mod vai baixar e instalar automaticamente, em todas suas plataformas que você tiver o jogo. E deixaram bem claro que os mods continuarão gratuitos. Fonte: https://store.steampowered.com/news/app/949230/view/3744239010998774129?l=brazilian                                                                               |assunto_cities_skylines|UCEfL_pp3h8Ul-LIL1C4o34w|VUgmLKbC8tY|Ugw78b1r-5e_Dj0waAl4AaABAg|\n",
      "|9w3E4zXfe0c9w5av_rQ-we |Vou responder a galera toda desse comentário de uma vez, belê? hahahah. O dinheiro inicial é alto pra poder planejar a cidade base com mais calma e colocar o que é necessário sem falir tantas vezes. O que complica é no passar do jogo as coisas serem bastante caras na parte dos serviços e aos poucos conseguir manter o fluxo positivo. Já quase perdi cidade no Cities 2, acredite ou não, porque mesmo com subsídios não fiz a cidade dar lucro e a situ apertou rápido hahah. Dos prédios a gente só tem acesso no começo de média densidade (poucas familias) ou baixa renda (muita gente mas condições apertadas), então pra ter prédios bons mesmo é só pro marco 8~10, não lembro exato, mas ainda mais pra frente. Vou mostrar aos poucos disso pra vocês :D                                                                                                              |assunto_cities_skylines|UCDGo_s0I-2JpO3o3xlkMQVA|fTeqTuEHs7I|UgyxyDNT-fo0cPniSnN4AaABAg|\n",
      "|9w3E4zXfe0c9w5av_rQ-we |Vou responder a galera toda desse comentário de uma vez, belê? hahahah. O dinheiro inicial é alto pra poder planejar a cidade base com mais calma e colocar o que é necessário sem falir tantas vezes. O que complica é no passar do jogo as coisas serem bastante caras na parte dos serviços e aos poucos conseguir manter o fluxo positivo. Já quase perdi cidade no Cities 2, acredite ou não, porque mesmo com subsídios não fiz a cidade dar lucro e a situ apertou rápido hahah. Dos prédios a gente só tem acesso no começo de média densidade (poucas familias) ou baixa renda (muita gente mas condições apertadas), então pra ter prédios bons mesmo é só pro marco 8~10, não lembro exato, mas ainda mais pra frente. Vou mostrar aos poucos disso pra vocês :D                                                                                                              |assunto_cities_skylines|UCDGo_s0I-2JpO3o3xlkMQVA|fTeqTuEHs7I|UgyxyDNT-fo0cPniSnN4AaABAg|\n",
      "|9wLDc4WalFQ9wLRatR9jXk |Até porque é a maneira mais inteligente de se atingir a primazia quando se trata de algo para o público.\\n\\nÉ humanamente impossível construir uma equipe que atenda de forma perfeita à todas às demandas de todos os consumidores de forma plena... É a clássica frase \"se achou ruim, faça melhor\" levada como filosofia.\\n\\nNa minha humilde visão, seria a forma perfeita de se fazer jogos daqui prá frente... Não a palhaçada que Rockstar Games e EA Games querem fazer \"tosando\" os modders e enhancers.\\n\\nVidem as maravilhas que a comunidade NFS tem feito com títulos como Underground 1 e 2, Most Wanted e Carbon, por exemplo; no Most Wanted os caras até criaram um jogo novo em homenagem ao Hot Pursuit 2 que dá de dez à zero no reboot oficial da EA...                                                                                                            |assunto_cities_skylines|UCoTIpyf8_RGzJ1LPTmvadaA|L17Ox3uFAdo|Ugxls8gLmgIFKx9Fqxd4AaABAg|\n",
      "|9wLDc4WalFQ9wLRatR9jXk |Até porque é a maneira mais inteligente de se atingir a primazia quando se trata de algo para o público.\\n\\nÉ humanamente impossível construir uma equipe que atenda de forma perfeita à todas às demandas de todos os consumidores de forma plena... É a clássica frase \"se achou ruim, faça melhor\" levada como filosofia.\\n\\nNa minha humilde visão, seria a forma perfeita de se fazer jogos daqui prá frente... Não a palhaçada que Rockstar Games e EA Games querem fazer \"tosando\" os modders e enhancers.\\n\\nVidem as maravilhas que a comunidade NFS tem feito com títulos como Underground 1 e 2, Most Wanted e Carbon, por exemplo; no Most Wanted os caras até criaram um jogo novo em homenagem ao Hot Pursuit 2 que dá de dez à zero no reboot oficial da EA...                                                                                                            |assunto_cities_skylines|UCoTIpyf8_RGzJ1LPTmvadaA|L17Ox3uFAdo|Ugxls8gLmgIFKx9Fqxd4AaABAg|\n",
      "|9w67BegJ70W9w6mzEj9kA5 |@Klyte45 Acabei de Montar assim. Ficou uma nota. Mas é um sonho realizado PROCESSADOR INTEL CORE 19 12900K ATÉ 5.2GHZ 30MB CACHE DDR4\\n\\nWATER COOLER MODO DE AUMENTAÇÃO 240MM PRETO INTEL LGA 1700\\n\\nMEMÓRIA RAM 16GB DDR4 3200MHZ CRUCIAL\\n\\nMEMÓRIA RAM 16GB DDR4 3200MHZ CRUCIAL\\n\\nMEMÓRIA RAM 16GB DDR4 3200MHZ CRUCIAL\\n\\nMEMÓRIA RAM 16GB DDR4 3200MHZ CRUCIAL\\n\\nSSD 1 TB M.2 NVME KINGSTON NV2 PCI-E 4.0\\n\\nPLACA MÃE INTEL B660M-P PRO MSI LGA 1700 DDR4\\n\\nFONTE GAMER GIGABYTE 850W 80 PLUS GOLD MODULAR PFC ATIVO\\n\\nPLACA DE VÍDEO NVIDIA RTX 4070 12GB GAINWARD GDDR6X\\n\\nGABINETE GAMER HAYOM GB1714 PRETO\\n\\nSSD 240GB M.2 NVME 2280 PATRIOT P310\\n\\nCOOLER VENTILADOR MANCER VENTUS LED BRANCO 120MM\\n\\nCOOLER VENTILADOR MANCER VENTUS LED BRANCO 120MM\\n\\nCOOLER S/ LED MODO RISE 120MM PRETO                                                                      |assunto_cities_skylines|UCElNoZcxhVqDtZBSrdEomnA|t4pfQW9O3Lw|UgwM5X1_RKCBh_ZNxTB4AaABAg|\n",
      "|9w67BegJ70W9w6mzEj9kA5 |@Klyte45 Acabei de Montar assim. Ficou uma nota. Mas é um sonho realizado PROCESSADOR INTEL CORE 19 12900K ATÉ 5.2GHZ 30MB CACHE DDR4\\n\\nWATER COOLER MODO DE AUMENTAÇÃO 240MM PRETO INTEL LGA 1700\\n\\nMEMÓRIA RAM 16GB DDR4 3200MHZ CRUCIAL\\n\\nMEMÓRIA RAM 16GB DDR4 3200MHZ CRUCIAL\\n\\nMEMÓRIA RAM 16GB DDR4 3200MHZ CRUCIAL\\n\\nMEMÓRIA RAM 16GB DDR4 3200MHZ CRUCIAL\\n\\nSSD 1 TB M.2 NVME KINGSTON NV2 PCI-E 4.0\\n\\nPLACA MÃE INTEL B660M-P PRO MSI LGA 1700 DDR4\\n\\nFONTE GAMER GIGABYTE 850W 80 PLUS GOLD MODULAR PFC ATIVO\\n\\nPLACA DE VÍDEO NVIDIA RTX 4070 12GB GAINWARD GDDR6X\\n\\nGABINETE GAMER HAYOM GB1714 PRETO\\n\\nSSD 240GB M.2 NVME 2280 PATRIOT P310\\n\\nCOOLER VENTILADOR MANCER VENTUS LED BRANCO 120MM\\n\\nCOOLER VENTILADOR MANCER VENTUS LED BRANCO 120MM\\n\\nCOOLER S/ LED MODO RISE 120MM PRETO                                                                      |assunto_cities_skylines|UCElNoZcxhVqDtZBSrdEomnA|t4pfQW9O3Lw|UgwM5X1_RKCBh_ZNxTB4AaABAg|\n",
      "|9wFPkzrbws09wFnQDk1luB |Oie Edu! Loooonge de mim querer que o jogo fique mais simples hahahah é que tem diferença entre qualidade e quantidade, não tem necessidade por exemplo renderizar milhares de peças de lixo ou dentes individualmente na boca dos cidadãos se 99% do tempo não vamos ver isso mas tá lá pesando no jogo, sabe? É igual renderizar itens dentro dos prédios, não é The Sims que em uma cidade tem 20 casas com 300 pessoas na cidade, são 50~100mil (ou mais) pessoas renderizadas completamente e isso tem um preço na otimização. Sinto que a gente podia \"perder\" em pequenos detalhes pouco vistos pra ganhar muita performance onde realmente importa, enfim tamo junto e vamos torcer que o game melhore e fique sensacional pra todo mundo poder curtir ♥                                                                                                                         |assunto_cities_skylines|UCDGo_s0I-2JpO3o3xlkMQVA|sUO06_ONDLM|UgyCAd_IPg91Jhb0yTx4AaABAg|\n",
      "|9wFPkzrbws09wFnQDk1luB |Oie Edu! Loooonge de mim querer que o jogo fique mais simples hahahah é que tem diferença entre qualidade e quantidade, não tem necessidade por exemplo renderizar milhares de peças de lixo ou dentes individualmente na boca dos cidadãos se 99% do tempo não vamos ver isso mas tá lá pesando no jogo, sabe? É igual renderizar itens dentro dos prédios, não é The Sims que em uma cidade tem 20 casas com 300 pessoas na cidade, são 50~100mil (ou mais) pessoas renderizadas completamente e isso tem um preço na otimização. Sinto que a gente podia \"perder\" em pequenos detalhes pouco vistos pra ganhar muita performance onde realmente importa, enfim tamo junto e vamos torcer que o game melhore e fique sensacional pra todo mundo poder curtir ♥                                                                                                                         |assunto_cities_skylines|UCDGo_s0I-2JpO3o3xlkMQVA|sUO06_ONDLM|UgyCAd_IPg91Jhb0yTx4AaABAg|\n",
      "|9w5JHUPgRKO9wAayT6GCby |@Igor Ia Ne sim sim. Que mais Bug do que o cyberpunk ? Kkkk o que quis dizer eh que tão comparando CS1 COM TODAS DLCS e todos os milhões de moda que tinha com um jogo que tah sendo lançado agora o CS2. Normal mão. Displacemente. Tudo que gera relevo no 3D pesa demais imagina em um jogo ... Mais eh bem isso que tu falou falta de otimização. Eles testado o game no Pc deles que deve ser monstruosa   configuração . Eu faço assim quando faço cena na unity e unreal. Faço a cena e depois vejo onde está pesando, se eh materiais. Entre outros . O que percebi nos telhados, que o relevos não são modelado e sim um mapa de displacemente para gerar relevo, Isso pesa demais no 3D para processamento da GPU                                                                                                                                                              |assunto_cities_skylines|UCJHBJmrVd7ujf2eCEujukog|mKgATax4ecI|UgxJl7t3bHyY0vaQFMt4AaABAg|\n",
      "|9w5JHUPgRKO9wAayT6GCby |@Igor Ia Ne sim sim. Que mais Bug do que o cyberpunk ? Kkkk o que quis dizer eh que tão comparando CS1 COM TODAS DLCS e todos os milhões de moda que tinha com um jogo que tah sendo lançado agora o CS2. Normal mão. Displacemente. Tudo que gera relevo no 3D pesa demais imagina em um jogo ... Mais eh bem isso que tu falou falta de otimização. Eles testado o game no Pc deles que deve ser monstruosa   configuração . Eu faço assim quando faço cena na unity e unreal. Faço a cena e depois vejo onde está pesando, se eh materiais. Entre outros . O que percebi nos telhados, que o relevos não são modelado e sim um mapa de displacemente para gerar relevo, Isso pesa demais no 3D para processamento da GPU                                                                                                                                                              |assunto_cities_skylines|UCJHBJmrVd7ujf2eCEujukog|mKgATax4ecI|UgxJl7t3bHyY0vaQFMt4AaABAg|\n",
      "|9wLB8gv4bcH9wLIaNKzgI1 |@Cultosaurus Erectus Se o jogo é mal otimizado isso já discarta o fato de ser o melhor jogo do mundo, um jogo pra ser bom precisa ser otimizado e ter um bom progresso (não ser enjoativo). \\nUma desenvolvedora que ama o jogo que está fazendo vai prestar atenção em cada detalhezinho antes de lançar, as vezes umas \"coisinhas\" passa batido, não tem geito. \\nMas sempre vão tomar o maximo de cuidados pra lançar um jogo bom, um jogo pra fãs.\\n\\nIsso do City Skylines foi um trampo preguiçoso.\\nAssim como em Cyberpunk fizeram um trampo preguiçoso também, o jogo saiu péssimo.\\nMas aprenderam com os erros e consertaram o jogo, hoje tá muito bom e muito interessante (o Cyberpunk no caso).                                                                                                                                                                            |assunto_cities_skylines|UCoTIpyf8_RGzJ1LPTmvadaA|L17Ox3uFAdo|UgzRzlnpt2Td0_BULZJ4AaABAg|\n",
      "|9wLB8gv4bcH9wLIaNKzgI1 |@Cultosaurus Erectus Se o jogo é mal otimizado isso já discarta o fato de ser o melhor jogo do mundo, um jogo pra ser bom precisa ser otimizado e ter um bom progresso (não ser enjoativo). \\nUma desenvolvedora que ama o jogo que está fazendo vai prestar atenção em cada detalhezinho antes de lançar, as vezes umas \"coisinhas\" passa batido, não tem geito. \\nMas sempre vão tomar o maximo de cuidados pra lançar um jogo bom, um jogo pra fãs.\\n\\nIsso do City Skylines foi um trampo preguiçoso.\\nAssim como em Cyberpunk fizeram um trampo preguiçoso também, o jogo saiu péssimo.\\nMas aprenderam com os erros e consertaram o jogo, hoje tá muito bom e muito interessante (o Cyberpunk no caso).                                                                                                                                                                            |assunto_cities_skylines|UCoTIpyf8_RGzJ1LPTmvadaA|L17Ox3uFAdo|UgzRzlnpt2Td0_BULZJ4AaABAg|\n",
      "|9wJ3CYTSOEp9wJ9lArfUDq |😢 o atual problema que Cites Skylines 2 está sofrendo é a performance, o jogo está travando, tem muita gente reclamando do FPS, e PC gamers não tá nem dando conta sendo que a maioria dos jogos da atualidade o Pc fica liso, o jogo pecou com a otimização, alegaram que Cities Skylines 2 foi rushado e que a culpa é da Paradox Interactive, pressionando a Colossal Oder os criadores de Cites Skylines a lançar o jogo na tora sem terminar, agora o jogo está sofrendo muito com isso, o jogo tá dando problema pra muitas pessoas, e as reviews na steam da uma pena, é um problema global 😢 mas acredito que até Março do ano que vem já deve melhorar.                                                                                                                                                                                                                       |assunto_cities_skylines|UCrOH1V-FyMunBIMrKL0y0xQ|xCaUzgIM6Bg|UgySWx2wsESOlb4NLRZ4AaABAg|\n",
      "|9wJ3CYTSOEp9wJ9lArfUDq |😢 o atual problema que Cites Skylines 2 está sofrendo é a performance, o jogo está travando, tem muita gente reclamando do FPS, e PC gamers não tá nem dando conta sendo que a maioria dos jogos da atualidade o Pc fica liso, o jogo pecou com a otimização, alegaram que Cities Skylines 2 foi rushado e que a culpa é da Paradox Interactive, pressionando a Colossal Oder os criadores de Cites Skylines a lançar o jogo na tora sem terminar, agora o jogo está sofrendo muito com isso, o jogo tá dando problema pra muitas pessoas, e as reviews na steam da uma pena, é um problema global 😢 mas acredito que até Março do ano que vem já deve melhorar.                                                                                                                                                                                                                       |assunto_cities_skylines|UCrOH1V-FyMunBIMrKL0y0xQ|xCaUzgIM6Bg|UgySWx2wsESOlb4NLRZ4AaABAg|\n",
      "+-----------------------+-----------------------------------------------------------------------------------------------------------------------------------------------------------------------------------------------------------------------------------------------------------------------------------------------------------------------------------------------------------------------------------------------------------------------------------------------------------------------------------------------------------------------------------------------------------------------------------------------------------------------------------------------------------------------------------------------------------------------------------------------------------------------------------------------------------------------------------------------------------------------------------------+-----------------------+------------------------+-----------+--------------------------+\n",
      "only showing top 20 rows\n",
      "\n"
     ]
    }
   ],
   "source": [
    "df_resposta_comentarios.show(truncate=False)"
   ]
  },
  {
   "cell_type": "code",
   "execution_count": 103,
   "metadata": {},
   "outputs": [
    {
     "name": "stdout",
     "output_type": "stream",
     "text": [
      "23/12/05 19:45:06 WARN MemoryManager: Total allocation exceeds 95,00% (906.992.014 bytes) of heap memory\n",
      "Scaling row group sizes to 96,54% for 7 writers\n",
      "23/12/05 19:45:06 WARN MemoryManager: Total allocation exceeds 95,00% (906.992.014 bytes) of heap memory\n",
      "Scaling row group sizes to 84,47% for 8 writers\n",
      "23/12/05 19:45:07 WARN MemoryManager: Total allocation exceeds 95,00% (906.992.014 bytes) of heap memory\n",
      "Scaling row group sizes to 96,54% for 7 writers\n",
      "23/12/05 19:45:07 WARN MemoryManager: Total allocation exceeds 95,00% (906.992.014 bytes) of heap memory\n",
      "Scaling row group sizes to 96,54% for 7 writers\n",
      "23/12/05 19:45:07 WARN MemoryManager: Total allocation exceeds 95,00% (906.992.014 bytes) of heap memory\n",
      "Scaling row group sizes to 84,47% for 8 writers\n"
     ]
    },
    {
     "name": "stderr",
     "output_type": "stream",
     "text": [
      "[Stage 113:====>                                                 (11 + 8) / 139]\r"
     ]
    },
    {
     "name": "stdout",
     "output_type": "stream",
     "text": [
      "23/12/05 19:45:07 WARN MemoryManager: Total allocation exceeds 95,00% (906.992.014 bytes) of heap memory\n",
      "Scaling row group sizes to 96,54% for 7 writers\n"
     ]
    },
    {
     "name": "stderr",
     "output_type": "stream",
     "text": [
      "[Stage 113:======>                                               (16 + 8) / 139]\r"
     ]
    },
    {
     "name": "stdout",
     "output_type": "stream",
     "text": [
      "23/12/05 19:45:07 WARN MemoryManager: Total allocation exceeds 95,00% (906.992.014 bytes) of heap memory\n",
      "Scaling row group sizes to 96,54% for 7 writers\n",
      "23/12/05 19:45:07 WARN MemoryManager: Total allocation exceeds 95,00% (906.992.014 bytes) of heap memory\n",
      "Scaling row group sizes to 84,47% for 8 writers\n",
      "23/12/05 19:45:07 WARN MemoryManager: Total allocation exceeds 95,00% (906.992.014 bytes) of heap memory\n",
      "Scaling row group sizes to 96,54% for 7 writers\n"
     ]
    },
    {
     "name": "stderr",
     "output_type": "stream",
     "text": [
      "[Stage 113:=========>                                            (25 + 8) / 139]\r"
     ]
    },
    {
     "name": "stdout",
     "output_type": "stream",
     "text": [
      "23/12/05 19:45:08 WARN MemoryManager: Total allocation exceeds 95,00% (906.992.014 bytes) of heap memory\n",
      "Scaling row group sizes to 96,54% for 7 writers\n",
      "23/12/05 19:45:08 WARN MemoryManager: Total allocation exceeds 95,00% (906.992.014 bytes) of heap memory\n",
      "Scaling row group sizes to 84,47% for 8 writers\n",
      "23/12/05 19:45:08 WARN MemoryManager: Total allocation exceeds 95,00% (906.992.014 bytes) of heap memory\n",
      "Scaling row group sizes to 96,54% for 7 writers\n",
      "23/12/05 19:45:08 WARN MemoryManager: Total allocation exceeds 95,00% (906.992.014 bytes) of heap memory\n",
      "Scaling row group sizes to 84,47% for 8 writers\n",
      "23/12/05 19:45:08 WARN MemoryManager: Total allocation exceeds 95,00% (906.992.014 bytes) of heap memory\n",
      "Scaling row group sizes to 96,54% for 7 writers\n",
      "23/12/05 19:45:08 WARN MemoryManager: Total allocation exceeds 95,00% (906.992.014 bytes) of heap memory\n",
      "Scaling row group sizes to 96,54% for 7 writers\n"
     ]
    },
    {
     "name": "stderr",
     "output_type": "stream",
     "text": [
      "[Stage 113:=============>                                        (34 + 8) / 139]\r"
     ]
    },
    {
     "name": "stdout",
     "output_type": "stream",
     "text": [
      "23/12/05 19:45:08 WARN MemoryManager: Total allocation exceeds 95,00% (906.992.014 bytes) of heap memory\n",
      "Scaling row group sizes to 96,54% for 7 writers\n",
      "23/12/05 19:45:08 WARN MemoryManager: Total allocation exceeds 95,00% (906.992.014 bytes) of heap memory\n",
      "Scaling row group sizes to 84,47% for 8 writers\n",
      "23/12/05 19:45:08 WARN MemoryManager: Total allocation exceeds 95,00% (906.992.014 bytes) of heap memory\n",
      "Scaling row group sizes to 96,54% for 7 writers\n",
      "23/12/05 19:45:08 WARN MemoryManager: Total allocation exceeds 95,00% (906.992.014 bytes) of heap memory\n",
      "Scaling row group sizes to 84,47% for 8 writers\n",
      "23/12/05 19:45:08 WARN MemoryManager: Total allocation exceeds 95,00% (906.992.014 bytes) of heap memory\n",
      "Scaling row group sizes to 96,54% for 7 writers\n"
     ]
    },
    {
     "name": "stderr",
     "output_type": "stream",
     "text": [
      "[Stage 113:================>                                     (43 + 8) / 139]\r"
     ]
    },
    {
     "name": "stdout",
     "output_type": "stream",
     "text": [
      "23/12/05 19:45:09 WARN MemoryManager: Total allocation exceeds 95,00% (906.992.014 bytes) of heap memory\n",
      "Scaling row group sizes to 96,54% for 7 writers\n",
      "23/12/05 19:45:09 WARN MemoryManager: Total allocation exceeds 95,00% (906.992.014 bytes) of heap memory\n",
      "Scaling row group sizes to 84,47% for 8 writers\n",
      "23/12/05 19:45:09 WARN MemoryManager: Total allocation exceeds 95,00% (906.992.014 bytes) of heap memory\n",
      "Scaling row group sizes to 96,54% for 7 writers\n"
     ]
    },
    {
     "name": "stderr",
     "output_type": "stream",
     "text": [
      "[Stage 113:===================>                                  (51 + 8) / 139]\r"
     ]
    },
    {
     "name": "stdout",
     "output_type": "stream",
     "text": [
      "23/12/05 19:45:09 WARN MemoryManager: Total allocation exceeds 95,00% (906.992.014 bytes) of heap memory\n",
      "Scaling row group sizes to 96,54% for 7 writers\n",
      "23/12/05 19:45:09 WARN MemoryManager: Total allocation exceeds 95,00% (906.992.014 bytes) of heap memory\n",
      "Scaling row group sizes to 96,54% for 7 writers\n"
     ]
    },
    {
     "name": "stderr",
     "output_type": "stream",
     "text": [
      "[Stage 113:=====================>                                (55 + 8) / 139]\r"
     ]
    },
    {
     "name": "stdout",
     "output_type": "stream",
     "text": [
      "23/12/05 19:45:09 WARN MemoryManager: Total allocation exceeds 95,00% (906.992.014 bytes) of heap memory\n",
      "Scaling row group sizes to 96,54% for 7 writers\n",
      "23/12/05 19:45:09 WARN MemoryManager: Total allocation exceeds 95,00% (906.992.014 bytes) of heap memory\n",
      "Scaling row group sizes to 96,54% for 7 writers\n",
      "23/12/05 19:45:09 WARN MemoryManager: Total allocation exceeds 95,00% (906.992.014 bytes) of heap memory\n",
      "Scaling row group sizes to 96,54% for 7 writers\n"
     ]
    },
    {
     "name": "stderr",
     "output_type": "stream",
     "text": [
      "[Stage 113:======================>                               (59 + 9) / 139]\r"
     ]
    },
    {
     "name": "stdout",
     "output_type": "stream",
     "text": [
      "23/12/05 19:45:10 WARN MemoryManager: Total allocation exceeds 95,00% (906.992.014 bytes) of heap memory\n",
      "Scaling row group sizes to 84,47% for 8 writers\n",
      "23/12/05 19:45:10 WARN MemoryManager: Total allocation exceeds 95,00% (906.992.014 bytes) of heap memory\n",
      "Scaling row group sizes to 96,54% for 7 writers\n"
     ]
    },
    {
     "name": "stderr",
     "output_type": "stream",
     "text": [
      "[Stage 113:==========================>                           (67 + 8) / 139]\r"
     ]
    },
    {
     "name": "stdout",
     "output_type": "stream",
     "text": [
      "23/12/05 19:45:10 WARN MemoryManager: Total allocation exceeds 95,00% (906.992.014 bytes) of heap memory\n",
      "Scaling row group sizes to 96,54% for 7 writers\n",
      "23/12/05 19:45:10 WARN MemoryManager: Total allocation exceeds 95,00% (906.992.014 bytes) of heap memory\n",
      "Scaling row group sizes to 84,47% for 8 writers\n",
      "23/12/05 19:45:10 WARN MemoryManager: Total allocation exceeds 95,00% (906.992.014 bytes) of heap memory\n",
      "Scaling row group sizes to 96,54% for 7 writers\n",
      "23/12/05 19:45:10 WARN MemoryManager: Total allocation exceeds 95,00% (906.992.014 bytes) of heap memory\n",
      "Scaling row group sizes to 84,47% for 8 writers\n",
      "23/12/05 19:45:10 WARN MemoryManager: Total allocation exceeds 95,00% (906.992.014 bytes) of heap memory\n",
      "Scaling row group sizes to 96,54% for 7 writers\n",
      "23/12/05 19:45:10 WARN MemoryManager: Total allocation exceeds 95,00% (906.992.014 bytes) of heap memory\n",
      "Scaling row group sizes to 96,54% for 7 writers\n"
     ]
    },
    {
     "name": "stderr",
     "output_type": "stream",
     "text": [
      "[Stage 113:=============================>                        (75 + 8) / 139]\r"
     ]
    },
    {
     "name": "stdout",
     "output_type": "stream",
     "text": [
      "23/12/05 19:45:10 WARN MemoryManager: Total allocation exceeds 95,00% (906.992.014 bytes) of heap memory\n",
      "Scaling row group sizes to 84,47% for 8 writers\n",
      "23/12/05 19:45:11 WARN MemoryManager: Total allocation exceeds 95,00% (906.992.014 bytes) of heap memory\n",
      "Scaling row group sizes to 96,54% for 7 writers\n"
     ]
    },
    {
     "name": "stderr",
     "output_type": "stream",
     "text": [
      "[Stage 113:=================================>                    (85 + 8) / 139]\r"
     ]
    },
    {
     "name": "stdout",
     "output_type": "stream",
     "text": [
      "23/12/05 19:45:11 WARN MemoryManager: Total allocation exceeds 95,00% (906.992.014 bytes) of heap memory\n",
      "Scaling row group sizes to 96,54% for 7 writers\n",
      "23/12/05 19:45:11 WARN MemoryManager: Total allocation exceeds 95,00% (906.992.014 bytes) of heap memory\n",
      "Scaling row group sizes to 84,47% for 8 writers\n",
      "23/12/05 19:45:11 WARN MemoryManager: Total allocation exceeds 95,00% (906.992.014 bytes) of heap memory\n",
      "Scaling row group sizes to 96,54% for 7 writers\n",
      "23/12/05 19:45:11 WARN MemoryManager: Total allocation exceeds 95,00% (906.992.014 bytes) of heap memory\n",
      "Scaling row group sizes to 84,47% for 8 writers\n",
      "23/12/05 19:45:11 WARN MemoryManager: Total allocation exceeds 95,00% (906.992.014 bytes) of heap memory\n",
      "Scaling row group sizes to 96,54% for 7 writers\n",
      "23/12/05 19:45:11 WARN MemoryManager: Total allocation exceeds 95,00% (906.992.014 bytes) of heap memory\n",
      "Scaling row group sizes to 96,54% for 7 writers\n",
      "23/12/05 19:45:11 WARN MemoryManager: Total allocation exceeds 95,00% (906.992.014 bytes) of heap memory\n",
      "Scaling row group sizes to 84,47% for 8 writers\n",
      "23/12/05 19:45:11 WARN MemoryManager: Total allocation exceeds 95,00% (906.992.014 bytes) of heap memory\n",
      "Scaling row group sizes to 96,54% for 7 writers\n",
      "23/12/05 19:45:11 WARN MemoryManager: Total allocation exceeds 95,00% (906.992.014 bytes) of heap memory\n",
      "Scaling row group sizes to 84,47% for 8 writers\n",
      "23/12/05 19:45:11 WARN MemoryManager: Total allocation exceeds 95,00% (906.992.014 bytes) of heap memory\n",
      "Scaling row group sizes to 96,54% for 7 writers\n"
     ]
    },
    {
     "name": "stderr",
     "output_type": "stream",
     "text": [
      "[Stage 113:======================================>              (100 + 8) / 139]\r"
     ]
    },
    {
     "name": "stdout",
     "output_type": "stream",
     "text": [
      "23/12/05 19:45:11 WARN MemoryManager: Total allocation exceeds 95,00% (906.992.014 bytes) of heap memory\n",
      "Scaling row group sizes to 96,54% for 7 writers\n",
      "23/12/05 19:45:11 WARN MemoryManager: Total allocation exceeds 95,00% (906.992.014 bytes) of heap memory\n",
      "Scaling row group sizes to 84,47% for 8 writers\n",
      "23/12/05 19:45:11 WARN MemoryManager: Total allocation exceeds 95,00% (906.992.014 bytes) of heap memory\n",
      "Scaling row group sizes to 96,54% for 7 writers\n",
      "23/12/05 19:45:11 WARN MemoryManager: Total allocation exceeds 95,00% (906.992.014 bytes) of heap memory\n",
      "Scaling row group sizes to 84,47% for 8 writers\n",
      "23/12/05 19:45:12 WARN MemoryManager: Total allocation exceeds 95,00% (906.992.014 bytes) of heap memory\n",
      "Scaling row group sizes to 96,54% for 7 writers\n"
     ]
    },
    {
     "name": "stderr",
     "output_type": "stream",
     "text": [
      "[Stage 113:======================================>              (101 + 8) / 139]\r"
     ]
    },
    {
     "name": "stdout",
     "output_type": "stream",
     "text": [
      "23/12/05 19:45:12 WARN MemoryManager: Total allocation exceeds 95,00% (906.992.014 bytes) of heap memory\n",
      "Scaling row group sizes to 84,47% for 8 writers\n",
      "23/12/05 19:45:12 WARN MemoryManager: Total allocation exceeds 95,00% (906.992.014 bytes) of heap memory\n",
      "Scaling row group sizes to 96,54% for 7 writers\n"
     ]
    },
    {
     "name": "stderr",
     "output_type": "stream",
     "text": [
      "[Stage 113:=========================================>           (109 + 8) / 139]\r"
     ]
    },
    {
     "name": "stdout",
     "output_type": "stream",
     "text": [
      "23/12/05 19:45:13 WARN MemoryManager: Total allocation exceeds 95,00% (906.992.014 bytes) of heap memory\n",
      "Scaling row group sizes to 96,54% for 7 writers\n",
      "23/12/05 19:45:13 WARN MemoryManager: Total allocation exceeds 95,00% (906.992.014 bytes) of heap memory\n",
      "Scaling row group sizes to 84,47% for 8 writers\n",
      "23/12/05 19:45:13 WARN MemoryManager: Total allocation exceeds 95,00% (906.992.014 bytes) of heap memory\n",
      "Scaling row group sizes to 96,54% for 7 writers\n",
      "23/12/05 19:45:13 WARN MemoryManager: Total allocation exceeds 95,00% (906.992.014 bytes) of heap memory\n",
      "Scaling row group sizes to 84,47% for 8 writers\n"
     ]
    },
    {
     "name": "stderr",
     "output_type": "stream",
     "text": [
      "[Stage 113:============================================>        (117 + 8) / 139]\r"
     ]
    },
    {
     "name": "stdout",
     "output_type": "stream",
     "text": [
      "23/12/05 19:45:13 WARN MemoryManager: Total allocation exceeds 95,00% (906.992.014 bytes) of heap memory\n",
      "Scaling row group sizes to 96,54% for 7 writers\n",
      "23/12/05 19:45:13 WARN MemoryManager: Total allocation exceeds 95,00% (906.992.014 bytes) of heap memory\n",
      "Scaling row group sizes to 96,54% for 7 writers\n",
      "23/12/05 19:45:13 WARN MemoryManager: Total allocation exceeds 95,00% (906.992.014 bytes) of heap memory\n",
      "Scaling row group sizes to 84,47% for 8 writers\n",
      "23/12/05 19:45:13 WARN MemoryManager: Total allocation exceeds 95,00% (906.992.014 bytes) of heap memory\n",
      "Scaling row group sizes to 96,54% for 7 writers\n",
      "23/12/05 19:45:13 WARN MemoryManager: Total allocation exceeds 95,00% (906.992.014 bytes) of heap memory\n",
      "Scaling row group sizes to 96,54% for 7 writers\n",
      "23/12/05 19:45:13 WARN MemoryManager: Total allocation exceeds 95,00% (906.992.014 bytes) of heap memory\n",
      "Scaling row group sizes to 84,47% for 8 writers\n",
      "23/12/05 19:45:13 WARN MemoryManager: Total allocation exceeds 95,00% (906.992.014 bytes) of heap memory\n",
      "Scaling row group sizes to 96,54% for 7 writers\n"
     ]
    },
    {
     "name": "stderr",
     "output_type": "stream",
     "text": [
      "[Stage 113:=============================================>       (120 + 8) / 139]\r"
     ]
    },
    {
     "name": "stdout",
     "output_type": "stream",
     "text": [
      "23/12/05 19:45:13 WARN MemoryManager: Total allocation exceeds 95,00% (906.992.014 bytes) of heap memory\n",
      "Scaling row group sizes to 84,47% for 8 writers\n",
      "23/12/05 19:45:13 WARN MemoryManager: Total allocation exceeds 95,00% (906.992.014 bytes) of heap memory\n",
      "Scaling row group sizes to 96,54% for 7 writers\n",
      "23/12/05 19:45:14 WARN MemoryManager: Total allocation exceeds 95,00% (906.992.014 bytes) of heap memory\n",
      "Scaling row group sizes to 96,54% for 7 writers\n"
     ]
    },
    {
     "name": "stderr",
     "output_type": "stream",
     "text": [
      "[Stage 113:================================================>    (127 + 8) / 139]\r"
     ]
    },
    {
     "name": "stdout",
     "output_type": "stream",
     "text": [
      "23/12/05 19:45:14 WARN MemoryManager: Total allocation exceeds 95,00% (906.992.014 bytes) of heap memory\n",
      "Scaling row group sizes to 84,47% for 8 writers\n",
      "23/12/05 19:45:14 WARN MemoryManager: Total allocation exceeds 95,00% (906.992.014 bytes) of heap memory\n",
      "Scaling row group sizes to 96,54% for 7 writers\n",
      "23/12/05 19:45:14 WARN MemoryManager: Total allocation exceeds 95,00% (906.992.014 bytes) of heap memory\n",
      "Scaling row group sizes to 96,54% for 7 writers\n",
      "23/12/05 19:45:14 WARN MemoryManager: Total allocation exceeds 95,00% (906.992.014 bytes) of heap memory\n",
      "Scaling row group sizes to 84,47% for 8 writers\n",
      "23/12/05 19:45:14 WARN MemoryManager: Total allocation exceeds 95,00% (906.992.014 bytes) of heap memory\n",
      "Scaling row group sizes to 96,54% for 7 writers\n"
     ]
    },
    {
     "name": "stderr",
     "output_type": "stream",
     "text": [
      "                                                                                \r"
     ]
    }
   ],
   "source": [
    "df_resposta_comentarios \\\n",
    "    .write \\\n",
    "    .parquet('../data/projetos_youtube_v2/novo_ouro/resposta_comentarios.parquet')"
   ]
  },
  {
   "cell_type": "markdown",
   "metadata": {},
   "source": [
    " - Total Video publicado semana"
   ]
  },
  {
   "cell_type": "code",
   "execution_count": 104,
   "metadata": {},
   "outputs": [],
   "source": [
    "lista_df_video_publicado_semana = []\n",
    "for assunto in lista_assunto:\n",
    "    df = spark.read \\\n",
    "        .parquet(f'/home/rodrigo/Documentos/projetos/open_weather_api_apache/analise_dados_youtube/data/projetos_youtube_v2/ouro/{assunto}/total_video_publicado_semana/total_video_publicado_semana.parquet')\n",
    "    df = df.withColumn('ASSUNTO', F.lit(assunto))\n",
    "    df = df.select(\n",
    "        'SEMANA_TRADUZIDA',\n",
    "        'NM_CANAL',\n",
    "        'TOTAL_VIDEOS',\n",
    "        'DATA_PUBLICACAO',\n",
    "        'ASSUNTO',\n",
    "        'ID_CANAL'\n",
    "        \n",
    "    )\n",
    "    lista_df_video_publicado_semana.append(df)"
   ]
  },
  {
   "cell_type": "code",
   "execution_count": 105,
   "metadata": {},
   "outputs": [
    {
     "name": "stdout",
     "output_type": "stream",
     "text": [
      "+----------------+--------------------+------------+---------------+--------------------+--------------------+\n",
      "|SEMANA_TRADUZIDA|            NM_CANAL|TOTAL_VIDEOS|DATA_PUBLICACAO|             ASSUNTO|            ID_CANAL|\n",
      "+----------------+--------------------+------------+---------------+--------------------+--------------------+\n",
      "|    Quarta-feira|BL4D3N | Jogos de...|           1|     2023-10-25|assunto_cities_sk...|UCIv5D2ro1owj6P7O...|\n",
      "|    Quinta-feira|Bad Influence gui...|           1|     2023-10-26|assunto_cities_sk...|UC8FS3_qf6F194QTY...|\n",
      "|     Terça-feira|KyoKat PC Gamepla...|           1|     2023-10-24|assunto_cities_sk...|UCLAUYEY8ITQC8b47...|\n",
      "|   Segunda-feira|CANAL HAND - GAME...|           1|     2023-10-16|assunto_cities_sk...|UC7v51W2NoLFawizg...|\n",
      "|   Segunda-feira|CANAL HAND - GAME...|           1|     2023-10-23|assunto_cities_sk...|UC7v51W2NoLFawizg...|\n",
      "|    Quarta-feira|CANAL HAND - GAME...|           1|     2023-10-18|assunto_cities_sk...|UC7v51W2NoLFawizg...|\n",
      "|     Terça-feira|CANAL HAND - GAME...|           1|     2023-10-17|assunto_cities_sk...|UC7v51W2NoLFawizg...|\n",
      "|     Sexta-feira|CANAL HAND - GAME...|           1|     2023-10-20|assunto_cities_sk...|UC7v51W2NoLFawizg...|\n",
      "|          Sábado|CANAL HAND - GAME...|           1|     2023-10-21|assunto_cities_sk...|UC7v51W2NoLFawizg...|\n",
      "|         Domingo|CANAL HAND - GAME...|           1|     2023-10-22|assunto_cities_sk...|UC7v51W2NoLFawizg...|\n",
      "|         Domingo|CANAL HAND - GAME...|           1|     2023-10-15|assunto_cities_sk...|UC7v51W2NoLFawizg...|\n",
      "|   Segunda-feira|Lucas gameplays b...|           1|     2023-10-16|assunto_cities_sk...|UCOYJm7BsLV8VCkW2...|\n",
      "|    Quinta-feira|Lucas gameplays b...|           1|     2023-10-19|assunto_cities_sk...|UCOYJm7BsLV8VCkW2...|\n",
      "|   Segunda-feira|  Douglas Willian YT|           1|     2023-10-16|assunto_cities_sk...|UCVM5Kg0mLSmmvdmh...|\n",
      "|   Segunda-feira|             Dw Play|           1|     2023-10-16|assunto_cities_sk...|UCVM5Kg0mLSmmvdmh...|\n",
      "|     Terça-feira|Cogumelando Video...|           1|     2023-10-24|assunto_cities_sk...|UCXso4Ho8UARhzS3I...|\n",
      "|     Sexta-feira|Lucas gameplays b...|           1|     2023-10-20|assunto_cities_sk...|UCOYJm7BsLV8VCkW2...|\n",
      "|   Segunda-feira| Canal Sala de Jogos|           1|     2023-10-16|assunto_cities_sk...|UCYEb5mbKZ5JJzN0x...|\n",
      "|   Segunda-feira| Canal Sala de Jogos|           1|     2023-10-23|assunto_cities_sk...|UCYEb5mbKZ5JJzN0x...|\n",
      "|    Quinta-feira| Canal Sala de Jogos|           1|     2023-10-19|assunto_cities_sk...|UCYEb5mbKZ5JJzN0x...|\n",
      "+----------------+--------------------+------------+---------------+--------------------+--------------------+\n",
      "only showing top 20 rows\n",
      "\n"
     ]
    }
   ],
   "source": [
    "df_video_publicado_semana = reduce( merge_dataframes, lista_df_video_publicado_semana)\n",
    "df_video_publicado_semana.show()"
   ]
  },
  {
   "cell_type": "code",
   "execution_count": 106,
   "metadata": {},
   "outputs": [
    {
     "data": {
      "text/plain": [
       "['SEMANA_TRADUZIDA',\n",
       " 'NM_CANAL',\n",
       " 'TOTAL_VIDEOS',\n",
       " 'DATA_PUBLICACAO',\n",
       " 'ASSUNTO',\n",
       " 'ID_CANAL']"
      ]
     },
     "execution_count": 106,
     "metadata": {},
     "output_type": "execute_result"
    }
   ],
   "source": [
    "colunas_video_publicado = df_video_publicado_semana.columns\n",
    "colunas_video_publicado"
   ]
  },
  {
   "cell_type": "code",
   "execution_count": 107,
   "metadata": {},
   "outputs": [
    {
     "name": "stderr",
     "output_type": "stream",
     "text": [
      "                                                                                \r"
     ]
    },
    {
     "name": "stdout",
     "output_type": "stream",
     "text": [
      "+----------------+-----+\n",
      "|SEMANA_TRADUZIDA|count|\n",
      "+----------------+-----+\n",
      "|Segunda-feira   |157  |\n",
      "|Sexta-feira     |155  |\n",
      "|Quarta-feira    |154  |\n",
      "|Quinta-feira    |153  |\n",
      "|Terça-feira     |147  |\n",
      "|Domingo         |82   |\n",
      "|Sábado          |68   |\n",
      "+----------------+-----+\n",
      "\n"
     ]
    },
    {
     "name": "stderr",
     "output_type": "stream",
     "text": [
      "                                                                                \r"
     ]
    },
    {
     "name": "stdout",
     "output_type": "stream",
     "text": [
      "+------------------------------+-----+\n",
      "|NM_CANAL                      |count|\n",
      "+------------------------------+-----+\n",
      "|ChratosGameplay               |26   |\n",
      "|Irmãos Cities                 |18   |\n",
      "|Canal do Void                 |16   |\n",
      "|Simularies                    |13   |\n",
      "|MetalBear                     |12   |\n",
      "|Betospa Gaming                |12   |\n",
      "|Hashtag Treinamentos          |12   |\n",
      "|Lille School                  |12   |\n",
      "|Lucas gameplays brasil        |11   |\n",
      "|Cristão Pensador              |10   |\n",
      "|Prof. Dr. Lucimar Sasso Vieira|10   |\n",
      "|Túlio Melibeu                 |10   |\n",
      "|Data Mundo                    |10   |\n",
      "|Tales Augusto                 |9    |\n",
      "|Barbosa Cities                |9    |\n",
      "|Análise Macro                 |9    |\n",
      "|Cabrunco Games                |8    |\n",
      "|Office Resolve - Excel & VBA  |8    |\n",
      "|CANAL HAND - GAME WITH MUSIC  |8    |\n",
      "|Majestic                      |8    |\n",
      "+------------------------------+-----+\n",
      "only showing top 20 rows\n",
      "\n"
     ]
    },
    {
     "name": "stderr",
     "output_type": "stream",
     "text": [
      "                                                                                \r"
     ]
    },
    {
     "name": "stdout",
     "output_type": "stream",
     "text": [
      "+------------+-----+\n",
      "|TOTAL_VIDEOS|count|\n",
      "+------------+-----+\n",
      "|1           |916  |\n",
      "+------------+-----+\n",
      "\n"
     ]
    },
    {
     "name": "stderr",
     "output_type": "stream",
     "text": [
      "                                                                                \r"
     ]
    },
    {
     "name": "stdout",
     "output_type": "stream",
     "text": [
      "+---------------+-----+\n",
      "|DATA_PUBLICACAO|count|\n",
      "+---------------+-----+\n",
      "|2023-10-23     |96   |\n",
      "|2023-10-26     |93   |\n",
      "|2023-10-27     |90   |\n",
      "|2023-10-24     |86   |\n",
      "|2023-10-25     |85   |\n",
      "|2023-10-18     |69   |\n",
      "|2023-10-21     |68   |\n",
      "|2023-10-20     |65   |\n",
      "|2023-10-16     |61   |\n",
      "|2023-10-17     |61   |\n",
      "|2023-10-19     |60   |\n",
      "|2023-10-22     |54   |\n",
      "|2023-10-15     |28   |\n",
      "+---------------+-----+\n",
      "\n"
     ]
    },
    {
     "name": "stderr",
     "output_type": "stream",
     "text": [
      "                                                                                \r"
     ]
    },
    {
     "name": "stdout",
     "output_type": "stream",
     "text": [
      "+-------------------------+-----+\n",
      "|ASSUNTO                  |count|\n",
      "+-------------------------+-----+\n",
      "|assunto_power_bi         |308  |\n",
      "|assunto_cities_skylines  |235  |\n",
      "|assunto_python_and_dados |197  |\n",
      "|assunto_cities_skylines_2|176  |\n",
      "+-------------------------+-----+\n",
      "\n",
      "+------------------------+-----+\n",
      "|ID_CANAL                |count|\n",
      "+------------------------+-----+\n",
      "|UCrOH1V-FyMunBIMrKL0y0xQ|26   |\n",
      "|UC1mk6EtfMjxR4eEZ7C43zTQ|18   |\n",
      "|UCrUcdH_bCfX77xpXHyq2fJw|16   |\n",
      "|UCDGo_s0I-2JpO3o3xlkMQVA|13   |\n",
      "|UCkXA2EoaXRFW18vrAE01BpQ|12   |\n",
      "|UCfY4ggUDPeecGSCNePyyVSA|12   |\n",
      "|UCqj1vaTl3NZtFElzCZNyKpA|12   |\n",
      "|UCw0leRmeaX7R_9BDd3TvCzg|12   |\n",
      "|UCOYJm7BsLV8VCkW2DC1MI5w|11   |\n",
      "|UCVM5Kg0mLSmmvdmhWH9OhiA|10   |\n",
      "|UCCxTIMnbG7xoGDD5YsqeBag|10   |\n",
      "|UCENbpaPgVhO2GtlNcwAJ8mA|10   |\n",
      "|UCrQQUCh77WceaMFae4ykm7w|10   |\n",
      "|UC0MyjIBbIDlOBCUfl7iO9bg|10   |\n",
      "|UCe9jrI0YQ5SM6h5QRZ9FZlA|9    |\n",
      "|UCMdNR-VCYnozREcEt1xkcHg|9    |\n",
      "|UCShgvN-cGaRtsu4JeZJ5NWw|9    |\n",
      "|UCayiH2Y5JBEOSubqoQhufDA|8    |\n",
      "|UCRIafgU7_URCZXt6X9XMbAg|8    |\n",
      "|UC7v51W2NoLFawizgcNuVBOA|8    |\n",
      "+------------------------+-----+\n",
      "only showing top 20 rows\n",
      "\n"
     ]
    },
    {
     "name": "stderr",
     "output_type": "stream",
     "text": [
      "                                                                                \r"
     ]
    }
   ],
   "source": [
    "for coluna in colunas_video_publicado:\n",
    "    df_video_publicado_semana.groupBy(coluna).count().orderBy('count', ascending=False).show(truncate=False)"
   ]
  },
  {
   "cell_type": "code",
   "execution_count": 108,
   "metadata": {},
   "outputs": [
    {
     "name": "stdout",
     "output_type": "stream",
     "text": [
      "root\n",
      " |-- SEMANA_TRADUZIDA: string (nullable = true)\n",
      " |-- NM_CANAL: string (nullable = true)\n",
      " |-- TOTAL_VIDEOS: long (nullable = true)\n",
      " |-- DATA_PUBLICACAO: date (nullable = true)\n",
      " |-- ASSUNTO: string (nullable = false)\n",
      " |-- ID_CANAL: string (nullable = true)\n",
      "\n"
     ]
    }
   ],
   "source": [
    "df_video_publicado_semana.printSchema()"
   ]
  },
  {
   "cell_type": "code",
   "execution_count": 109,
   "metadata": {},
   "outputs": [
    {
     "name": "stdout",
     "output_type": "stream",
     "text": [
      "23/12/05 19:45:24 WARN MemoryManager: Total allocation exceeds 95,00% (906.992.014 bytes) of heap memory\n",
      "Scaling row group sizes to 96,54% for 7 writers\n",
      "23/12/05 19:45:24 WARN MemoryManager: Total allocation exceeds 95,00% (906.992.014 bytes) of heap memory\n",
      "Scaling row group sizes to 84,47% for 8 writers\n"
     ]
    },
    {
     "name": "stderr",
     "output_type": "stream",
     "text": [
      "[Stage 138:>                                                       (0 + 8) / 34]\r"
     ]
    },
    {
     "name": "stdout",
     "output_type": "stream",
     "text": [
      "23/12/05 19:45:24 WARN MemoryManager: Total allocation exceeds 95,00% (906.992.014 bytes) of heap memory\n",
      "Scaling row group sizes to 96,54% for 7 writers\n",
      "23/12/05 19:45:25 WARN MemoryManager: Total allocation exceeds 95,00% (906.992.014 bytes) of heap memory\n",
      "Scaling row group sizes to 96,54% for 7 writers\n",
      "23/12/05 19:45:25 WARN MemoryManager: Total allocation exceeds 95,00% (906.992.014 bytes) of heap memory\n",
      "Scaling row group sizes to 84,47% for 8 writers\n"
     ]
    },
    {
     "name": "stderr",
     "output_type": "stream",
     "text": [
      "[Stage 138:================>                                      (10 + 8) / 34]\r"
     ]
    },
    {
     "name": "stdout",
     "output_type": "stream",
     "text": [
      "23/12/05 19:45:25 WARN MemoryManager: Total allocation exceeds 95,00% (906.992.014 bytes) of heap memory\n",
      "Scaling row group sizes to 96,54% for 7 writers\n",
      "23/12/05 19:45:25 WARN MemoryManager: Total allocation exceeds 95,00% (906.992.014 bytes) of heap memory\n",
      "Scaling row group sizes to 96,54% for 7 writers\n",
      "23/12/05 19:45:25 WARN MemoryManager: Total allocation exceeds 95,00% (906.992.014 bytes) of heap memory\n",
      "Scaling row group sizes to 84,47% for 8 writers\n"
     ]
    },
    {
     "name": "stderr",
     "output_type": "stream",
     "text": [
      "[Stage 138:=========================>                             (16 + 8) / 34]\r"
     ]
    },
    {
     "name": "stdout",
     "output_type": "stream",
     "text": [
      "23/12/05 19:45:25 WARN MemoryManager: Total allocation exceeds 95,00% (906.992.014 bytes) of heap memory\n",
      "Scaling row group sizes to 96,54% for 7 writers\n"
     ]
    },
    {
     "name": "stderr",
     "output_type": "stream",
     "text": [
      "[Stage 138:==========================================>            (26 + 8) / 34]\r"
     ]
    },
    {
     "name": "stdout",
     "output_type": "stream",
     "text": [
      "23/12/05 19:45:26 WARN MemoryManager: Total allocation exceeds 95,00% (906.992.014 bytes) of heap memory\n",
      "Scaling row group sizes to 96,54% for 7 writers\n",
      "23/12/05 19:45:26 WARN MemoryManager: Total allocation exceeds 95,00% (906.992.014 bytes) of heap memory\n",
      "Scaling row group sizes to 96,54% for 7 writers\n"
     ]
    },
    {
     "name": "stderr",
     "output_type": "stream",
     "text": [
      "                                                                                \r"
     ]
    }
   ],
   "source": [
    "df_video_publicado_semana \\\n",
    "    .write \\\n",
    "    .parquet('../data/projetos_youtube_v2/novo_ouro/video_publicado_semana.parquet')"
   ]
  },
  {
   "cell_type": "markdown",
   "metadata": {},
   "source": [
    "-total Visualizações semana"
   ]
  },
  {
   "cell_type": "code",
   "execution_count": 119,
   "metadata": {},
   "outputs": [
    {
     "name": "stderr",
     "output_type": "stream",
     "text": [
      "                                                                                \r"
     ]
    }
   ],
   "source": [
    "lista_df_visualizacoes = []\n",
    "for assunto in lista_assunto:\n",
    "    df = spark.read \\\n",
    "        .parquet(f'/home/rodrigo/Documentos/projetos/open_weather_api_apache/analise_dados_youtube/data/projetos_youtube_v2/ouro/{assunto}/total_visualizacoes_por_semana/total_visualizacoes_por_semana.parquet')\n",
    "    df = df.withColumn('ASSUNTO', F.lit(assunto))\n",
    "    df = df.select(\n",
    "        'NM_CANAL',\n",
    "        'TITULO_VIDEO',\n",
    "        'TOTAL_CARACTERE_VIDEO',\n",
    "        'TAGS',\n",
    "        'DURACAO_VIDEO_MINUTOS',\n",
    "        'TOTAL_TAGS',\n",
    "        'TOTAL_VISUALIZACOES',\n",
    "        'TOTAL_COMENTARIOS',\n",
    "        'TOTAL_LIKES',\n",
    "        'TOTAL_VISUALIZACOES_TURNO',\n",
    "        'TOTAL_COMENTARIOS_TURNO',\n",
    "        'TOTAL_LIKES_TURNO',\n",
    "        'data_extracao',\n",
    "        'ASSUNTO',\n",
    "        'ID_CANAL',\n",
    "        'ID_VIDEO',\n",
    "        'TURNO_EXTRACAO'\n",
    "    )\n",
    "    lista_df_visualizacoes.append(df)"
   ]
  },
  {
   "cell_type": "code",
   "execution_count": 120,
   "metadata": {},
   "outputs": [
    {
     "name": "stdout",
     "output_type": "stream",
     "text": [
      "+---------------+---------------------------------------------------------------------------------------------+---------------------+------------------------------------------------------------------------------------------------------------------------------------------------------------------------------------------------------------------------------------------------------------------------------------------------------------------------------------------------------------------------------------------------------------------------------------------------------------------------------------------------------------------------+---------------------+----------+-------------------+-----------------+-----------+-------------------------+-----------------------+-----------------+-------------+-----------------------+------------------------+-----------+--------------+\n",
      "|NM_CANAL       |TITULO_VIDEO                                                                                 |TOTAL_CARACTERE_VIDEO|TAGS                                                                                                                                                                                                                                                                                                                                                                                                                                                                                                                    |DURACAO_VIDEO_MINUTOS|TOTAL_TAGS|TOTAL_VISUALIZACOES|TOTAL_COMENTARIOS|TOTAL_LIKES|TOTAL_VISUALIZACOES_TURNO|TOTAL_COMENTARIOS_TURNO|TOTAL_LIKES_TURNO|data_extracao|ASSUNTO                |ID_CANAL                |ID_VIDEO   |TURNO_EXTRACAO|\n",
      "+---------------+---------------------------------------------------------------------------------------------+---------------------+------------------------------------------------------------------------------------------------------------------------------------------------------------------------------------------------------------------------------------------------------------------------------------------------------------------------------------------------------------------------------------------------------------------------------------------------------------------------------------------------------------------------+---------------------+----------+-------------------+-----------------+-----------+-------------------------+-----------------------+-----------------+-------------+-----------------------+------------------------+-----------+--------------+\n",
      "|ChratosGameplay|CITIES SKYLINES 2: É PAU É PEDRA É A ECONOMIA DA CIDADE DO CHAT! (LINK DESCRIÇÃO)            |81                   |null                                                                                                                                                                                                                                                                                                                                                                                                                                                                                                                    |0.0                  |0         |0                  |0                |50         |0                        |0                      |50               |2023-10-27   |assunto_cities_skylines|UCrOH1V-FyMunBIMrKL0y0xQ|-QaSHAsHQSs|Noite         |\n",
      "|ChratosGameplay|PREFEITURA E PREVIDÊNCIA CHEGAM A CIDADE! 🏙️ - Cities Skylines 2 #7                         |67                   |[cities skylines, cities skylines 2, cities skylines gameplay, cities skylines 2 gameplay, cities, skylines, gameplay, city builder, cities skylines como começar, cities skylines tutorial, city skylines, tutorial, citybuilder, brasil, cities: skylines, mods, cities skylines pt br, cidade, chratos, cities skylines 2 vs 1, cities skylines 2 tutorial, cities skylines 2 mods, cities skylines ii, cities 2, cs2, city skylines 2, cities skylines 2 ptbr, cities: skylines 2 pt br, pt, br, ptbr]              |26.88                |31        |42650              |220              |5600       |251                      |220                    |28               |2023-10-27   |assunto_cities_skylines|UCrOH1V-FyMunBIMrKL0y0xQ|6RgEh-9KAgY|Noite         |\n",
      "|ChratosGameplay|SUPER SUBÚRBIO FAZ ALCANÇAR 10000 HABITANTES 🏙️ - Cities Skylines 2 #4                      |70                   |[cities skylines, cities skylines 2, cities skylines gameplay, cities skylines 2 gameplay, cities, skylines, gameplay, city builder, cities skylines como começar, cities skylines tutorial, city skylines, tutorial, citybuilder, brasil, cities: skylines, mods, cities skylines pt br, cidade, chratos, cities skylines 2 vs 1, cities skylines 2 tutorial, cities skylines 2 mods, cities skylines ii, cities 2, cs2, city skylines 2, cities skylines 2 ptbr, cities: skylines 2 pt br, pt, br, ptbr]              |25.67                |31        |54375              |213              |6855       |174                      |213                    |15               |2023-10-27   |assunto_cities_skylines|UCrOH1V-FyMunBIMrKL0y0xQ|9SGBZ7GE5EA|Noite         |\n",
      "|ChratosGameplay|POLUIÇÃO FORÇA MIGRAÇÃO DA INDÚSTRIA PARA NOVO DISTRITO 🏙️ - Cities Skylines 2 #5           |81                   |[cities skylines, cities skylines 2, cities skylines gameplay, cities skylines 2 gameplay, cities, skylines, gameplay, city builder, cities skylines como começar, cities skylines tutorial, city skylines, tutorial, citybuilder, brasil, cities: skylines, mods, cities skylines pt br, cidade, chratos, cities skylines 2 vs 1, cities skylines 2 tutorial, cities skylines 2 mods, cities skylines ii, cities 2, cs2, city skylines 2, cities skylines 2 ptbr, cities: skylines 2 pt br, pt, br, ptbr]              |28.43                |31        |50789              |124              |6448       |226                      |124                    |22               |2023-10-27   |assunto_cities_skylines|UCrOH1V-FyMunBIMrKL0y0xQ|KfzZNkdyeEs|Noite         |\n",
      "|ChratosGameplay|TRANSPORTE PÚBLICO DE MASSA COM TRENS! 🏙️ - Cities Skylines 2 #8                            |64                   |[cities skylines, cities skylines 2, cities skylines gameplay, cities skylines 2 gameplay, cities, skylines, gameplay, city builder, cities skylines como começar, cities skylines tutorial, city skylines, tutorial, citybuilder, brasil, cities: skylines, mods, cities skylines pt br, cidade, chratos, cities skylines 2 vs 1, cities skylines 2 tutorial, cities skylines 2 mods, cities skylines ii, cities 2, cs2, city skylines 2, cities skylines 2 ptbr, cities: skylines 2 pt br, pt, br, ptbr]              |32.28                |31        |39265              |180              |5046       |567                      |5                      |60               |2023-10-27   |assunto_cities_skylines|UCrOH1V-FyMunBIMrKL0y0xQ|QwXP79P4xS0|Noite         |\n",
      "|ChratosGameplay|BALSAS, BUSÕES E BONDES SALVARAM TRÂNSITO? 🏙️ - Cities Skylines 2 #6                        |68                   |[cities skylines, cities skylines 2, cities skylines gameplay, cities skylines 2 gameplay, cities, skylines, gameplay, city builder, cities skylines como começar, cities skylines tutorial, city skylines, tutorial, citybuilder, brasil, cities: skylines, mods, cities skylines pt br, cidade, chratos, cities skylines 2 vs 1, cities skylines 2 tutorial, cities skylines 2 mods, cities skylines ii, cities 2, cs2, city skylines 2, cities skylines 2 ptbr, cities: skylines 2 pt br, pt, br, ptbr]              |29.13                |31        |50480              |157              |6330       |193                      |157                    |16               |2023-10-27   |assunto_cities_skylines|UCrOH1V-FyMunBIMrKL0y0xQ|TBZuVHi3QdM|Noite         |\n",
      "|ChratosGameplay|CITIES SKYLINES 2: LANÇAMENTO OFICIAL E EXPLORANDO A ECONOMIA DO JOGO! (LINK DESCRIÇÃO)      |87                   |null                                                                                                                                                                                                                                                                                                                                                                                                                                                                                                                    |0.0                  |0         |0                  |0                |51         |0                        |0                      |51               |2023-10-27   |assunto_cities_skylines|UCrOH1V-FyMunBIMrKL0y0xQ|V_d6T_UKRDg|Noite         |\n",
      "|ChratosGameplay|MODDERS decidem fazer O MELHOR JOGO DE GERENCIMENTO COM COMBATE TÁTICO? 🎖️ - Ascent of Ashes|92                   |[ascent of ashes, rimworld, chratos, gameplay, chratosgameplay, pt, br, ptbr, portugal, brasil, ascent of ashes gameplay, colony sim, rimworld gameplay, rimworld mods, base building, city builder, ascent of ashes game, colony sim games 2023, colony simulator, colony sim games, estratégia, gerenciamento, 2023, ascent of ashes steam, ascent of ashes download, rimworld fans, rimworld lets play, rimworld combat extended, strategy, rts, real time tactics, tático, combate]                                 |23.25                |33        |9540               |33               |1078       |7                        |33                     |1                |2023-10-27   |assunto_cities_skylines|UCrOH1V-FyMunBIMrKL0y0xQ|XOUzWJ0bHuw|Noite         |\n",
      "|ChratosGameplay|Planejamento inicial PODE SALVAR SUA CIDADE! 🚗 - Cities Skylines  - CONSERTANDO O TRÂNSITO  |90                   |[Cities Skylines, parklife, dlc, new, gameplay, chratos, paradox, citybuilder, cities: skylines, video game, city builder, paradox interactive, game, cities, colossal order, city building, cities skylines dlc, skylines, let's play, construir, parque, portugal, pt-br, pt br, brasil, steam, jogo, tutorial, lets play, mod, mods, cities skylines tutorial roads, cities skylines gameplay, cities skylines como começar, cities skylines gameplay 2020, cities skylines dicas transito, cities skylines tutorial]|25.22                |37        |18599              |79               |2418       |16                       |79                     |1                |2023-10-27   |assunto_cities_skylines|UCrOH1V-FyMunBIMrKL0y0xQ|dRzwiPwGH_M|Noite         |\n",
      "|ChratosGameplay|CITIES SKYLINES 2: BORA LEVANTAR UMA CIDADE COM A PARTICIPAÇÃO DO CHAT! (LINK DESCRIÇÃO)     |88                   |null                                                                                                                                                                                                                                                                                                                                                                                                                                                                                                                    |0.0                  |0         |0                  |0                |149        |0                        |0                      |149              |2023-10-27   |assunto_cities_skylines|UCrOH1V-FyMunBIMrKL0y0xQ|mfCGsYnClDU|Noite         |\n",
      "|ChratosGameplay|PEQUENA FORTUNA EM SERVIÇOS PÚBLICOS BÁSICOS 🏙️ - Cities Skylines 2 #2                      |70                   |[cities skylines, cities skylines 2, cities skylines gameplay, cities skylines 2 gameplay, cities, skylines, gameplay, city builder, cities skylines como começar, cities skylines tutorial, city skylines, tutorial, citybuilder, brasil, cities: skylines, mods, cities skylines pt br, cidade, chratos, cities skylines 2 vs 1, cities skylines 2 tutorial, cities skylines 2 mods, cities skylines ii, cities 2, cs2, city skylines 2, cities skylines 2 ptbr, cities: skylines 2 pt br, pt, br, ptbr]              |31.92                |31        |71357              |188              |8978       |194                      |1                      |6                |2023-10-27   |assunto_cities_skylines|UCrOH1V-FyMunBIMrKL0y0xQ|totHMIv6_hI|Noite         |\n",
      "|ChratosGameplay|DO CRIADOR DA MELHOR CIDADE JÁ FEITA, A NOVA MELHOR CIDADE? 🏢 - Cities Skylines Showcase    |88                   |[cities skylines, cities skylines 2, cities skylines gameplay, cities skylines 2 gameplay, cities skylines financial district, cities skylines airport, cities skylines timelapse, cities skylines vanilla, cities skylines mods, cities skylines dlc, cities, skylines, gameplay, city builder, cities skylines como começar, cities skylines tutorial, city skylines, tutorial, colossal order, citybuilder, paradox, brasil, lets play, cities: skylines, mods, cities skylines pt br, cidade, chratos]              |42.43                |28        |33628              |111              |3382       |135                      |111                    |7                |2023-10-27   |assunto_cities_skylines|UCrOH1V-FyMunBIMrKL0y0xQ|up4KrHrRwLY|Noite         |\n",
      "|ChratosGameplay|PRIMEIRA PRAÇA DA CIDADE SAI DO PAPEL 🏙️ - Cities Skylines 2 #3                             |63                   |[cities skylines, cities skylines 2, cities skylines gameplay, cities skylines 2 gameplay, cities, skylines, gameplay, city builder, cities skylines como começar, cities skylines tutorial, city skylines, tutorial, citybuilder, brasil, cities: skylines, mods, cities skylines pt br, cidade, chratos, cities skylines 2 vs 1, cities skylines 2 tutorial, cities skylines 2 mods, cities skylines ii, cities 2, cs2, city skylines 2, cities skylines 2 ptbr, cities: skylines 2 pt br, pt, br, ptbr]              |22.95                |31        |60786              |201              |7321       |145                      |1                      |17               |2023-10-27   |assunto_cities_skylines|UCrOH1V-FyMunBIMrKL0y0xQ|vy-upTpchig|Noite         |\n",
      "|ChratosGameplay|MELHOR JOGO DE CONSTRUIR CIDADES CHEGOU E ESTÁ LINDO 🏙️ - Cities Skylines 2                 |75                   |[cities skylines, cities skylines 2, cities skylines gameplay, cities skylines 2 gameplay, cities, skylines, gameplay, city builder, cities skylines como começar, cities skylines tutorial, city skylines, tutorial, citybuilder, brasil, cities: skylines, mods, cities skylines pt br, cidade, chratos, cities skylines 2 vs 1, cities skylines 2 tutorial, cities skylines 2 mods, cities skylines ii, cities 2, cs2, city skylines 2, cities skylines 2 ptbr, cities: skylines 2 pt br, pt, br, ptbr]              |19.63                |31        |120812             |418              |13988      |408                      |1                      |23               |2023-10-27   |assunto_cities_skylines|UCrOH1V-FyMunBIMrKL0y0xQ|wCLSZxLfUAk|Noite         |\n",
      "|ChratosGameplay|Vias expressas/Rodovias e aneis rodoviários - Guia de planejamento - Cities Skylines 2       |86                   |[cities skylines, cities skylines 2, cities skylines gameplay, cities skylines 2 gameplay, cities, skylines, gameplay, city builder, cities skylines como começar, cities skylines tutorial, city skylines, tutorial, citybuilder, brasil, cities: skylines, mods, cities skylines pt br, cidade, chratos, cities skylines 2 vs 1, cities skylines 2 tutorial, cities skylines 2 mods, cities skylines ii, cities 2, cs2, city skylines 2, cities skylines 2 ptbr, cities: skylines 2 pt br, pt, br, ptbr]              |19.02                |31        |18620              |54               |1368       |186                      |54                     |5                |2023-10-27   |assunto_cities_skylines|UCrOH1V-FyMunBIMrKL0y0xQ|xCaUzgIM6Bg|Noite         |\n",
      "|ChratosGameplay|OBRAS DO ANEL RODOVIÁRIO COMPLETA! 🏙️ - Cities Skylines 2 #9                                |60                   |[cities skylines, cities skylines 2, cities skylines gameplay, cities skylines 2 gameplay, cities, skylines, gameplay, city builder, cities skylines como começar, cities skylines tutorial, city skylines, tutorial, citybuilder, brasil, cities: skylines, mods, cities skylines pt br, cidade, chratos, cities skylines 2 vs 1, cities skylines 2 tutorial, cities skylines 2 mods, cities skylines ii, cities 2, cs2, city skylines 2, cities skylines 2 ptbr, cities: skylines 2 pt br, pt, br, ptbr]              |26.32                |31        |15805              |139              |2753       |3903                     |26                     |462              |2023-10-27   |assunto_cities_skylines|UCrOH1V-FyMunBIMrKL0y0xQ|xSAyLQ9h22k|Noite         |\n",
      "|ChratosGameplay|Vias coletoras/arteriais e avenidas - Guia de planejamento - Cities Skylines 2               |78                   |[cities skylines, cities skylines 2, cities skylines gameplay, cities skylines 2 gameplay, cities, skylines, gameplay, city builder, cities skylines como começar, cities skylines tutorial, city skylines, tutorial, citybuilder, brasil, cities: skylines, mods, cities skylines pt br, cidade, chratos, cities skylines 2 vs 1, cities skylines 2 tutorial, cities skylines 2 mods, cities skylines ii, cities 2, cs2, city skylines 2, cities skylines 2 ptbr, cities: skylines 2 pt br, pt, br, ptbr]              |16.78                |31        |19942              |63               |1950       |57                       |63                     |5                |2023-10-27   |assunto_cities_skylines|UCrOH1V-FyMunBIMrKL0y0xQ|zFO5_abqEss|Noite         |\n",
      "|ChratosGameplay|SIMULADOR DE PLATAFORMA DE PETRÓLEO DA PETROBRÁS! ⛽ - Drill Deal                             |64                   |[drill deal, drill deal oil tycoon, oil tycoon, drill deal – oil tycoon, drill deal gameplay, drill deal ps4, drill deal pc, drill deal oil tycoon gameplay, oil tycoon game, chratos, gameplay, chratosgameplay, pt, br, ptbr, português, portugal, brasil, drill deal oil tycoon review, drill deals, pt br, magnata do petróleo, drill deal trailer, drill deal game, drill deal lets play, tycoon, petrobrás, petróleo, plataforma, estratégia, gerenciamento, city builder, cities skylines]                       |34.05                |33        |24021              |40               |2441       |27                       |40                     |1                |2023-10-27   |assunto_cities_skylines|UCrOH1V-FyMunBIMrKL0y0xQ|zyG3nFm9BB8|Noite         |\n",
      "|ChratosGameplay|CITIES SKYLINES 2: É PAU É PEDRA É A ECONOMIA DA CIDADE DO CHAT! (LINK DESCRIÇÃO)            |81                   |null                                                                                                                                                                                                                                                                                                                                                                                                                                                                                                                    |0.0                  |0         |0                  |0                |50         |0                        |0                      |50               |2023-10-27   |assunto_cities_skylines|UCrOH1V-FyMunBIMrKL0y0xQ|-QaSHAsHQSs|Tarde         |\n",
      "|ChratosGameplay|PREFEITURA E PREVIDÊNCIA CHEGAM A CIDADE! 🏙️ - Cities Skylines 2 #7                         |67                   |[cities skylines, cities skylines 2, cities skylines gameplay, cities skylines 2 gameplay, cities, skylines, gameplay, city builder, cities skylines como começar, cities skylines tutorial, city skylines, tutorial, citybuilder, brasil, cities: skylines, mods, cities skylines pt br, cidade, chratos, cities skylines 2 vs 1, cities skylines 2 tutorial, cities skylines 2 mods, cities skylines ii, cities 2, cs2, city skylines 2, cities skylines 2 ptbr, cities: skylines 2 pt br, pt, br, ptbr]              |26.88                |31        |42399              |220              |5572       |911                      |2                      |90               |2023-10-27   |assunto_cities_skylines|UCrOH1V-FyMunBIMrKL0y0xQ|6RgEh-9KAgY|Tarde         |\n",
      "+---------------+---------------------------------------------------------------------------------------------+---------------------+------------------------------------------------------------------------------------------------------------------------------------------------------------------------------------------------------------------------------------------------------------------------------------------------------------------------------------------------------------------------------------------------------------------------------------------------------------------------------------------------------------------------+---------------------+----------+-------------------+-----------------+-----------+-------------------------+-----------------------+-----------------+-------------+-----------------------+------------------------+-----------+--------------+\n",
      "only showing top 20 rows\n",
      "\n"
     ]
    }
   ],
   "source": [
    "df_visualizacoes =  reduce( merge_dataframes, lista_df_visualizacoes)\n",
    "df_visualizacoes.show(truncate=False)"
   ]
  },
  {
   "cell_type": "code",
   "execution_count": 121,
   "metadata": {},
   "outputs": [
    {
     "name": "stdout",
     "output_type": "stream",
     "text": [
      "root\n",
      " |-- NM_CANAL: string (nullable = true)\n",
      " |-- TITULO_VIDEO: string (nullable = true)\n",
      " |-- TOTAL_CARACTERE_VIDEO: integer (nullable = true)\n",
      " |-- TAGS: array (nullable = true)\n",
      " |    |-- element: string (containsNull = true)\n",
      " |-- DURACAO_VIDEO_MINUTOS: float (nullable = true)\n",
      " |-- TOTAL_TAGS: integer (nullable = true)\n",
      " |-- TOTAL_VISUALIZACOES: integer (nullable = true)\n",
      " |-- TOTAL_COMENTARIOS: integer (nullable = true)\n",
      " |-- TOTAL_LIKES: integer (nullable = true)\n",
      " |-- TOTAL_VISUALIZACOES_TURNO: integer (nullable = true)\n",
      " |-- TOTAL_COMENTARIOS_TURNO: integer (nullable = true)\n",
      " |-- TOTAL_LIKES_TURNO: integer (nullable = true)\n",
      " |-- data_extracao: date (nullable = true)\n",
      " |-- ASSUNTO: string (nullable = false)\n",
      " |-- ID_CANAL: string (nullable = true)\n",
      " |-- ID_VIDEO: string (nullable = true)\n",
      " |-- TURNO_EXTRACAO: string (nullable = true)\n",
      "\n"
     ]
    }
   ],
   "source": [
    "df_visualizacoes.printSchema()"
   ]
  },
  {
   "cell_type": "code",
   "execution_count": 122,
   "metadata": {},
   "outputs": [
    {
     "name": "stdout",
     "output_type": "stream",
     "text": [
      "23/12/05 19:58:09 WARN MemoryManager: Total allocation exceeds 95,00% (906.992.014 bytes) of heap memory\n",
      "Scaling row group sizes to 96,54% for 7 writers\n",
      "23/12/05 19:58:09 WARN MemoryManager: Total allocation exceeds 95,00% (906.992.014 bytes) of heap memory\n",
      "Scaling row group sizes to 84,47% for 8 writers\n"
     ]
    },
    {
     "name": "stderr",
     "output_type": "stream",
     "text": [
      "[Stage 99:>                                                       (0 + 8) / 248]\r"
     ]
    },
    {
     "name": "stdout",
     "output_type": "stream",
     "text": [
      "23/12/05 19:58:10 WARN MemoryManager: Total allocation exceeds 95,00% (906.992.014 bytes) of heap memory\n",
      "Scaling row group sizes to 96,54% for 7 writers\n"
     ]
    },
    {
     "name": "stderr",
     "output_type": "stream",
     "text": [
      "[Stage 99:=>                                                      (8 + 8) / 248]\r"
     ]
    },
    {
     "name": "stdout",
     "output_type": "stream",
     "text": [
      "23/12/05 19:58:10 WARN MemoryManager: Total allocation exceeds 95,00% (906.992.014 bytes) of heap memory\n",
      "Scaling row group sizes to 96,54% for 7 writers\n",
      "23/12/05 19:58:10 WARN MemoryManager: Total allocation exceeds 95,00% (906.992.014 bytes) of heap memory\n",
      "Scaling row group sizes to 96,54% for 7 writers\n",
      "23/12/05 19:58:10 WARN MemoryManager: Total allocation exceeds 95,00% (906.992.014 bytes) of heap memory\n",
      "Scaling row group sizes to 84,47% for 8 writers\n",
      "23/12/05 19:58:11 WARN MemoryManager: Total allocation exceeds 95,00% (906.992.014 bytes) of heap memory\n",
      "Scaling row group sizes to 96,54% for 7 writers\n",
      "23/12/05 19:58:11 WARN MemoryManager: Total allocation exceeds 95,00% (906.992.014 bytes) of heap memory\n",
      "Scaling row group sizes to 84,47% for 8 writers\n",
      "23/12/05 19:58:11 WARN MemoryManager: Total allocation exceeds 95,00% (906.992.014 bytes) of heap memory\n",
      "Scaling row group sizes to 96,54% for 7 writers\n",
      "23/12/05 19:58:11 WARN MemoryManager: Total allocation exceeds 95,00% (906.992.014 bytes) of heap memory\n",
      "Scaling row group sizes to 84,47% for 8 writers\n",
      "23/12/05 19:58:11 WARN MemoryManager: Total allocation exceeds 95,00% (906.992.014 bytes) of heap memory\n",
      "Scaling row group sizes to 96,54% for 7 writers\n"
     ]
    },
    {
     "name": "stderr",
     "output_type": "stream",
     "text": [
      "[Stage 99:==>                                                    (13 + 8) / 248]\r"
     ]
    },
    {
     "name": "stdout",
     "output_type": "stream",
     "text": [
      "23/12/05 19:58:11 WARN MemoryManager: Total allocation exceeds 95,00% (906.992.014 bytes) of heap memory\n",
      "Scaling row group sizes to 96,54% for 7 writers\n",
      "23/12/05 19:58:11 WARN MemoryManager: Total allocation exceeds 95,00% (906.992.014 bytes) of heap memory\n",
      "Scaling row group sizes to 96,54% for 7 writers\n",
      "23/12/05 19:58:11 WARN MemoryManager: Total allocation exceeds 95,00% (906.992.014 bytes) of heap memory\n",
      "Scaling row group sizes to 84,47% for 8 writers\n"
     ]
    },
    {
     "name": "stderr",
     "output_type": "stream",
     "text": [
      "[Stage 99:====>                                                  (20 + 8) / 248]\r"
     ]
    },
    {
     "name": "stdout",
     "output_type": "stream",
     "text": [
      "23/12/05 19:58:11 WARN MemoryManager: Total allocation exceeds 95,00% (906.992.014 bytes) of heap memory\n",
      "Scaling row group sizes to 96,54% for 7 writers\n",
      "23/12/05 19:58:11 WARN MemoryManager: Total allocation exceeds 95,00% (906.992.014 bytes) of heap memory\n",
      "Scaling row group sizes to 96,54% for 7 writers\n",
      "23/12/05 19:58:11 WARN MemoryManager: Total allocation exceeds 95,00% (906.992.014 bytes) of heap memory\n",
      "Scaling row group sizes to 84,47% for 8 writers\n",
      "23/12/05 19:58:11 WARN MemoryManager: Total allocation exceeds 95,00% (906.992.014 bytes) of heap memory\n",
      "Scaling row group sizes to 96,54% for 7 writers\n",
      "23/12/05 19:58:11 WARN MemoryManager: Total allocation exceeds 95,00% (906.992.014 bytes) of heap memory\n",
      "Scaling row group sizes to 96,54% for 7 writers\n",
      "23/12/05 19:58:12 WARN MemoryManager: Total allocation exceeds 95,00% (906.992.014 bytes) of heap memory\n",
      "Scaling row group sizes to 84,47% for 8 writers\n",
      "23/12/05 19:58:12 WARN MemoryManager: Total allocation exceeds 95,00% (906.992.014 bytes) of heap memory\n",
      "Scaling row group sizes to 96,54% for 7 writers\n"
     ]
    },
    {
     "name": "stderr",
     "output_type": "stream",
     "text": [
      "[Stage 99:=====>                                                 (25 + 8) / 248]\r"
     ]
    },
    {
     "name": "stdout",
     "output_type": "stream",
     "text": [
      "23/12/05 19:58:12 WARN MemoryManager: Total allocation exceeds 95,00% (906.992.014 bytes) of heap memory\n",
      "Scaling row group sizes to 96,54% for 7 writers\n",
      "23/12/05 19:58:12 WARN MemoryManager: Total allocation exceeds 95,00% (906.992.014 bytes) of heap memory\n",
      "Scaling row group sizes to 84,47% for 8 writers\n",
      "23/12/05 19:58:12 WARN MemoryManager: Total allocation exceeds 95,00% (906.992.014 bytes) of heap memory\n",
      "Scaling row group sizes to 96,54% for 7 writers\n",
      "23/12/05 19:58:12 WARN MemoryManager: Total allocation exceeds 95,00% (906.992.014 bytes) of heap memory\n",
      "Scaling row group sizes to 96,54% for 7 writers\n",
      "23/12/05 19:58:12 WARN MemoryManager: Total allocation exceeds 95,00% (906.992.014 bytes) of heap memory\n",
      "Scaling row group sizes to 84,47% for 8 writers\n",
      "23/12/05 19:58:12 WARN MemoryManager: Total allocation exceeds 95,00% (906.992.014 bytes) of heap memory\n",
      "Scaling row group sizes to 96,54% for 7 writers\n",
      "23/12/05 19:58:12 WARN MemoryManager: Total allocation exceeds 95,00% (906.992.014 bytes) of heap memory\n",
      "Scaling row group sizes to 84,47% for 8 writers\n",
      "23/12/05 19:58:12 WARN MemoryManager: Total allocation exceeds 95,00% (906.992.014 bytes) of heap memory\n",
      "Scaling row group sizes to 96,54% for 7 writers\n"
     ]
    },
    {
     "name": "stderr",
     "output_type": "stream",
     "text": [
      "[Stage 99:======>                                                (29 + 8) / 248]\r"
     ]
    },
    {
     "name": "stdout",
     "output_type": "stream",
     "text": [
      "23/12/05 19:58:12 WARN MemoryManager: Total allocation exceeds 95,00% (906.992.014 bytes) of heap memory\n",
      "Scaling row group sizes to 96,54% for 7 writers\n",
      "23/12/05 19:58:12 WARN MemoryManager: Total allocation exceeds 95,00% (906.992.014 bytes) of heap memory\n",
      "Scaling row group sizes to 84,47% for 8 writers\n",
      "23/12/05 19:58:13 WARN MemoryManager: Total allocation exceeds 95,00% (906.992.014 bytes) of heap memory\n",
      "Scaling row group sizes to 96,54% for 7 writers\n",
      "23/12/05 19:58:13 WARN MemoryManager: Total allocation exceeds 95,00% (906.992.014 bytes) of heap memory\n",
      "Scaling row group sizes to 96,54% for 7 writers\n",
      "23/12/05 19:58:13 WARN MemoryManager: Total allocation exceeds 95,00% (906.992.014 bytes) of heap memory\n",
      "Scaling row group sizes to 84,47% for 8 writers\n",
      "23/12/05 19:58:13 WARN MemoryManager: Total allocation exceeds 95,00% (906.992.014 bytes) of heap memory\n",
      "Scaling row group sizes to 96,54% for 7 writers\n"
     ]
    },
    {
     "name": "stderr",
     "output_type": "stream",
     "text": [
      "[Stage 99:=======>                                               (35 + 8) / 248]\r"
     ]
    },
    {
     "name": "stdout",
     "output_type": "stream",
     "text": [
      "23/12/05 19:58:13 WARN MemoryManager: Total allocation exceeds 95,00% (906.992.014 bytes) of heap memory\n",
      "Scaling row group sizes to 96,54% for 7 writers\n",
      "23/12/05 19:58:13 WARN MemoryManager: Total allocation exceeds 95,00% (906.992.014 bytes) of heap memory\n",
      "Scaling row group sizes to 84,47% for 8 writers\n",
      "23/12/05 19:58:13 WARN MemoryManager: Total allocation exceeds 95,00% (906.992.014 bytes) of heap memory\n",
      "Scaling row group sizes to 96,54% for 7 writers\n"
     ]
    },
    {
     "name": "stderr",
     "output_type": "stream",
     "text": [
      "[Stage 99:========>                                              (37 + 8) / 248]\r"
     ]
    },
    {
     "name": "stdout",
     "output_type": "stream",
     "text": [
      "23/12/05 19:58:13 WARN MemoryManager: Total allocation exceeds 95,00% (906.992.014 bytes) of heap memory\n",
      "Scaling row group sizes to 96,54% for 7 writers\n",
      "23/12/05 19:58:13 WARN MemoryManager: Total allocation exceeds 95,00% (906.992.014 bytes) of heap memory\n",
      "Scaling row group sizes to 84,47% for 8 writers\n",
      "23/12/05 19:58:14 WARN MemoryManager: Total allocation exceeds 95,00% (906.992.014 bytes) of heap memory\n",
      "Scaling row group sizes to 96,54% for 7 writers\n",
      "23/12/05 19:58:14 WARN MemoryManager: Total allocation exceeds 95,00% (906.992.014 bytes) of heap memory\n",
      "Scaling row group sizes to 96,54% for 7 writers\n"
     ]
    },
    {
     "name": "stderr",
     "output_type": "stream",
     "text": [
      "[Stage 99:========>                                              (40 + 8) / 248]\r"
     ]
    },
    {
     "name": "stdout",
     "output_type": "stream",
     "text": [
      "23/12/05 19:58:14 WARN MemoryManager: Total allocation exceeds 95,00% (906.992.014 bytes) of heap memory\n",
      "Scaling row group sizes to 96,54% for 7 writers\n",
      "23/12/05 19:58:14 WARN MemoryManager: Total allocation exceeds 95,00% (906.992.014 bytes) of heap memory\n",
      "Scaling row group sizes to 84,47% for 8 writers\n",
      "23/12/05 19:58:14 WARN MemoryManager: Total allocation exceeds 95,00% (906.992.014 bytes) of heap memory\n",
      "Scaling row group sizes to 96,54% for 7 writers\n",
      "23/12/05 19:58:14 WARN MemoryManager: Total allocation exceeds 95,00% (906.992.014 bytes) of heap memory\n",
      "Scaling row group sizes to 96,54% for 7 writers\n"
     ]
    },
    {
     "name": "stderr",
     "output_type": "stream",
     "text": [
      "[Stage 99:==========>                                            (46 + 8) / 248]\r"
     ]
    },
    {
     "name": "stdout",
     "output_type": "stream",
     "text": [
      "23/12/05 19:58:14 WARN MemoryManager: Total allocation exceeds 95,00% (906.992.014 bytes) of heap memory\n",
      "Scaling row group sizes to 96,54% for 7 writers\n",
      "23/12/05 19:58:15 WARN MemoryManager: Total allocation exceeds 95,00% (906.992.014 bytes) of heap memory\n",
      "Scaling row group sizes to 84,47% for 8 writers\n",
      "23/12/05 19:58:15 WARN MemoryManager: Total allocation exceeds 95,00% (906.992.014 bytes) of heap memory\n",
      "Scaling row group sizes to 96,54% for 7 writers\n",
      "23/12/05 19:58:15 WARN MemoryManager: Total allocation exceeds 95,00% (906.992.014 bytes) of heap memory\n",
      "Scaling row group sizes to 96,54% for 7 writers\n",
      "23/12/05 19:58:15 WARN MemoryManager: Total allocation exceeds 95,00% (906.992.014 bytes) of heap memory\n",
      "Scaling row group sizes to 84,47% for 8 writers\n",
      "23/12/05 19:58:15 WARN MemoryManager: Total allocation exceeds 95,00% (906.992.014 bytes) of heap memory\n",
      "Scaling row group sizes to 96,54% for 7 writers\n",
      "23/12/05 19:58:15 WARN MemoryManager: Total allocation exceeds 95,00% (906.992.014 bytes) of heap memory\n",
      "Scaling row group sizes to 96,54% for 7 writers\n",
      "23/12/05 19:58:15 WARN MemoryManager: Total allocation exceeds 95,00% (906.992.014 bytes) of heap memory\n",
      "Scaling row group sizes to 96,54% for 7 writers\n",
      "23/12/05 19:58:15 WARN MemoryManager: Total allocation exceeds 95,00% (906.992.014 bytes) of heap memory\n",
      "Scaling row group sizes to 84,47% for 8 writers\n"
     ]
    },
    {
     "name": "stderr",
     "output_type": "stream",
     "text": [
      "[Stage 99:===========>                                           (51 + 8) / 248]\r"
     ]
    },
    {
     "name": "stdout",
     "output_type": "stream",
     "text": [
      "23/12/05 19:58:15 WARN MemoryManager: Total allocation exceeds 95,00% (906.992.014 bytes) of heap memory\n",
      "Scaling row group sizes to 96,54% for 7 writers\n",
      "23/12/05 19:58:15 WARN MemoryManager: Total allocation exceeds 95,00% (906.992.014 bytes) of heap memory\n",
      "Scaling row group sizes to 96,54% for 7 writers\n",
      "23/12/05 19:58:15 WARN MemoryManager: Total allocation exceeds 95,00% (906.992.014 bytes) of heap memory\n",
      "Scaling row group sizes to 84,47% for 8 writers\n"
     ]
    },
    {
     "name": "stderr",
     "output_type": "stream",
     "text": [
      "[Stage 99:============>                                          (56 + 8) / 248]\r"
     ]
    },
    {
     "name": "stdout",
     "output_type": "stream",
     "text": [
      "23/12/05 19:58:15 WARN MemoryManager: Total allocation exceeds 95,00% (906.992.014 bytes) of heap memory\n",
      "Scaling row group sizes to 96,54% for 7 writers\n",
      "23/12/05 19:58:15 WARN MemoryManager: Total allocation exceeds 95,00% (906.992.014 bytes) of heap memory\n",
      "Scaling row group sizes to 96,54% for 7 writers\n",
      "23/12/05 19:58:15 WARN MemoryManager: Total allocation exceeds 95,00% (906.992.014 bytes) of heap memory\n",
      "Scaling row group sizes to 96,54% for 7 writers\n",
      "23/12/05 19:58:15 WARN MemoryManager: Total allocation exceeds 95,00% (906.992.014 bytes) of heap memory\n",
      "Scaling row group sizes to 84,47% for 8 writers\n",
      "23/12/05 19:58:15 WARN MemoryManager: Total allocation exceeds 95,00% (906.992.014 bytes) of heap memory\n",
      "Scaling row group sizes to 96,54% for 7 writers\n",
      "23/12/05 19:58:15 WARN MemoryManager: Total allocation exceeds 95,00% (906.992.014 bytes) of heap memory\n",
      "Scaling row group sizes to 84,47% for 8 writers\n"
     ]
    },
    {
     "name": "stderr",
     "output_type": "stream",
     "text": [
      "[Stage 99:============>                                          (58 + 8) / 248]\r"
     ]
    },
    {
     "name": "stdout",
     "output_type": "stream",
     "text": [
      "23/12/05 19:58:16 WARN MemoryManager: Total allocation exceeds 95,00% (906.992.014 bytes) of heap memory\n",
      "Scaling row group sizes to 96,54% for 7 writers\n",
      "23/12/05 19:58:16 WARN MemoryManager: Total allocation exceeds 95,00% (906.992.014 bytes) of heap memory\n",
      "Scaling row group sizes to 84,47% for 8 writers\n",
      "23/12/05 19:58:16 WARN MemoryManager: Total allocation exceeds 95,00% (906.992.014 bytes) of heap memory\n",
      "Scaling row group sizes to 96,54% for 7 writers\n",
      "23/12/05 19:58:16 WARN MemoryManager: Total allocation exceeds 95,00% (906.992.014 bytes) of heap memory\n",
      "Scaling row group sizes to 96,54% for 7 writers\n",
      "23/12/05 19:58:16 WARN MemoryManager: Total allocation exceeds 95,00% (906.992.014 bytes) of heap memory\n",
      "Scaling row group sizes to 84,47% for 8 writers\n",
      "23/12/05 19:58:16 WARN MemoryManager: Total allocation exceeds 95,00% (906.992.014 bytes) of heap memory\n",
      "Scaling row group sizes to 96,54% for 7 writers\n",
      "23/12/05 19:58:16 WARN MemoryManager: Total allocation exceeds 95,00% (906.992.014 bytes) of heap memory\n",
      "Scaling row group sizes to 96,54% for 7 writers\n",
      "23/12/05 19:58:16 WARN MemoryManager: Total allocation exceeds 95,00% (906.992.014 bytes) of heap memory\n",
      "Scaling row group sizes to 84,47% for 8 writers\n",
      "23/12/05 19:58:16 WARN MemoryManager: Total allocation exceeds 95,00% (906.992.014 bytes) of heap memory\n",
      "Scaling row group sizes to 96,54% for 7 writers\n"
     ]
    },
    {
     "name": "stderr",
     "output_type": "stream",
     "text": [
      "[Stage 99:==============>                                        (64 + 8) / 248]\r"
     ]
    },
    {
     "name": "stdout",
     "output_type": "stream",
     "text": [
      "23/12/05 19:58:16 WARN MemoryManager: Total allocation exceeds 95,00% (906.992.014 bytes) of heap memory\n",
      "Scaling row group sizes to 96,54% for 7 writers\n",
      "23/12/05 19:58:16 WARN MemoryManager: Total allocation exceeds 95,00% (906.992.014 bytes) of heap memory\n",
      "Scaling row group sizes to 84,47% for 8 writers\n",
      "23/12/05 19:58:16 WARN MemoryManager: Total allocation exceeds 95,00% (906.992.014 bytes) of heap memory\n",
      "Scaling row group sizes to 96,54% for 7 writers\n",
      "23/12/05 19:58:16 WARN MemoryManager: Total allocation exceeds 95,00% (906.992.014 bytes) of heap memory\n",
      "Scaling row group sizes to 84,47% for 8 writers\n",
      "23/12/05 19:58:16 WARN MemoryManager: Total allocation exceeds 95,00% (906.992.014 bytes) of heap memory\n",
      "Scaling row group sizes to 96,54% for 7 writers\n"
     ]
    },
    {
     "name": "stderr",
     "output_type": "stream",
     "text": [
      "[Stage 99:==============>                                        (67 + 8) / 248]\r"
     ]
    },
    {
     "name": "stdout",
     "output_type": "stream",
     "text": [
      "23/12/05 19:58:16 WARN MemoryManager: Total allocation exceeds 95,00% (906.992.014 bytes) of heap memory\n",
      "Scaling row group sizes to 84,47% for 8 writers\n",
      "23/12/05 19:58:16 WARN MemoryManager: Total allocation exceeds 95,00% (906.992.014 bytes) of heap memory\n",
      "Scaling row group sizes to 96,54% for 7 writers\n",
      "23/12/05 19:58:17 WARN MemoryManager: Total allocation exceeds 95,00% (906.992.014 bytes) of heap memory\n",
      "Scaling row group sizes to 84,47% for 8 writers\n",
      "23/12/05 19:58:17 WARN MemoryManager: Total allocation exceeds 95,00% (906.992.014 bytes) of heap memory\n",
      "Scaling row group sizes to 96,54% for 7 writers\n",
      "23/12/05 19:58:17 WARN MemoryManager: Total allocation exceeds 95,00% (906.992.014 bytes) of heap memory\n",
      "Scaling row group sizes to 96,54% for 7 writers\n",
      "23/12/05 19:58:17 WARN MemoryManager: Total allocation exceeds 95,00% (906.992.014 bytes) of heap memory\n",
      "Scaling row group sizes to 84,47% for 8 writers\n",
      "23/12/05 19:58:17 WARN MemoryManager: Total allocation exceeds 95,00% (906.992.014 bytes) of heap memory\n",
      "Scaling row group sizes to 96,54% for 7 writers\n"
     ]
    },
    {
     "name": "stderr",
     "output_type": "stream",
     "text": [
      "[Stage 99:================>                                      (73 + 8) / 248]\r"
     ]
    },
    {
     "name": "stdout",
     "output_type": "stream",
     "text": [
      "23/12/05 19:58:17 WARN MemoryManager: Total allocation exceeds 95,00% (906.992.014 bytes) of heap memory\n",
      "Scaling row group sizes to 96,54% for 7 writers\n",
      "23/12/05 19:58:17 WARN MemoryManager: Total allocation exceeds 95,00% (906.992.014 bytes) of heap memory\n",
      "Scaling row group sizes to 96,54% for 7 writers\n",
      "23/12/05 19:58:17 WARN MemoryManager: Total allocation exceeds 95,00% (906.992.014 bytes) of heap memory\n",
      "Scaling row group sizes to 96,54% for 7 writers\n",
      "23/12/05 19:58:17 WARN MemoryManager: Total allocation exceeds 95,00% (906.992.014 bytes) of heap memory\n",
      "Scaling row group sizes to 84,47% for 8 writers\n",
      "23/12/05 19:58:17 WARN MemoryManager: Total allocation exceeds 95,00% (906.992.014 bytes) of heap memory\n",
      "Scaling row group sizes to 96,54% for 7 writers\n",
      "23/12/05 19:58:17 WARN MemoryManager: Total allocation exceeds 95,00% (906.992.014 bytes) of heap memory\n",
      "Scaling row group sizes to 96,54% for 7 writers\n",
      "23/12/05 19:58:17 WARN MemoryManager: Total allocation exceeds 95,00% (906.992.014 bytes) of heap memory\n",
      "Scaling row group sizes to 84,47% for 8 writers\n",
      "23/12/05 19:58:17 WARN MemoryManager: Total allocation exceeds 95,00% (906.992.014 bytes) of heap memory\n",
      "Scaling row group sizes to 96,54% for 7 writers\n",
      "23/12/05 19:58:17 WARN MemoryManager: Total allocation exceeds 95,00% (906.992.014 bytes) of heap memory\n",
      "Scaling row group sizes to 96,54% for 7 writers\n"
     ]
    },
    {
     "name": "stderr",
     "output_type": "stream",
     "text": [
      "[Stage 99:=================>                                     (81 + 8) / 248]\r"
     ]
    },
    {
     "name": "stdout",
     "output_type": "stream",
     "text": [
      "23/12/05 19:58:17 WARN MemoryManager: Total allocation exceeds 95,00% (906.992.014 bytes) of heap memory\n",
      "Scaling row group sizes to 96,54% for 7 writers\n",
      "23/12/05 19:58:17 WARN MemoryManager: Total allocation exceeds 95,00% (906.992.014 bytes) of heap memory\n",
      "Scaling row group sizes to 84,47% for 8 writers\n",
      "23/12/05 19:58:17 WARN MemoryManager: Total allocation exceeds 95,00% (906.992.014 bytes) of heap memory\n",
      "Scaling row group sizes to 96,54% for 7 writers\n",
      "23/12/05 19:58:17 WARN MemoryManager: Total allocation exceeds 95,00% (906.992.014 bytes) of heap memory\n",
      "Scaling row group sizes to 96,54% for 7 writers\n"
     ]
    },
    {
     "name": "stderr",
     "output_type": "stream",
     "text": [
      "[Stage 99:===================>                                   (88 + 8) / 248]\r"
     ]
    },
    {
     "name": "stdout",
     "output_type": "stream",
     "text": [
      "23/12/05 19:58:18 WARN MemoryManager: Total allocation exceeds 95,00% (906.992.014 bytes) of heap memory\n",
      "Scaling row group sizes to 96,54% for 7 writers\n",
      "23/12/05 19:58:18 WARN MemoryManager: Total allocation exceeds 95,00% (906.992.014 bytes) of heap memory\n",
      "Scaling row group sizes to 84,47% for 8 writers\n",
      "23/12/05 19:58:18 WARN MemoryManager: Total allocation exceeds 95,00% (906.992.014 bytes) of heap memory\n",
      "Scaling row group sizes to 96,54% for 7 writers\n",
      "23/12/05 19:58:18 WARN MemoryManager: Total allocation exceeds 95,00% (906.992.014 bytes) of heap memory\n",
      "Scaling row group sizes to 84,47% for 8 writers\n",
      "23/12/05 19:58:18 WARN MemoryManager: Total allocation exceeds 95,00% (906.992.014 bytes) of heap memory\n",
      "Scaling row group sizes to 96,54% for 7 writers\n"
     ]
    },
    {
     "name": "stderr",
     "output_type": "stream",
     "text": [
      "[Stage 99:====================>                                  (92 + 8) / 248]\r"
     ]
    },
    {
     "name": "stdout",
     "output_type": "stream",
     "text": [
      "23/12/05 19:58:18 WARN MemoryManager: Total allocation exceeds 95,00% (906.992.014 bytes) of heap memory\n",
      "Scaling row group sizes to 84,47% for 8 writers\n",
      "23/12/05 19:58:18 WARN MemoryManager: Total allocation exceeds 95,00% (906.992.014 bytes) of heap memory\n",
      "Scaling row group sizes to 96,54% for 7 writers\n",
      "23/12/05 19:58:18 WARN MemoryManager: Total allocation exceeds 95,00% (906.992.014 bytes) of heap memory\n",
      "Scaling row group sizes to 96,54% for 7 writers\n",
      "23/12/05 19:58:18 WARN MemoryManager: Total allocation exceeds 95,00% (906.992.014 bytes) of heap memory\n",
      "Scaling row group sizes to 84,47% for 8 writers\n",
      "23/12/05 19:58:18 WARN MemoryManager: Total allocation exceeds 95,00% (906.992.014 bytes) of heap memory\n",
      "Scaling row group sizes to 96,54% for 7 writers\n",
      "23/12/05 19:58:18 WARN MemoryManager: Total allocation exceeds 95,00% (906.992.014 bytes) of heap memory\n",
      "Scaling row group sizes to 96,54% for 7 writers\n",
      "23/12/05 19:58:18 WARN MemoryManager: Total allocation exceeds 95,00% (906.992.014 bytes) of heap memory\n",
      "Scaling row group sizes to 84,47% for 8 writers\n"
     ]
    },
    {
     "name": "stderr",
     "output_type": "stream",
     "text": [
      "[Stage 99:====================>                                  (94 + 8) / 248]\r"
     ]
    },
    {
     "name": "stdout",
     "output_type": "stream",
     "text": [
      "23/12/05 19:58:19 WARN MemoryManager: Total allocation exceeds 95,00% (906.992.014 bytes) of heap memory\n",
      "Scaling row group sizes to 96,54% for 7 writers\n",
      "23/12/05 19:58:19 WARN MemoryManager: Total allocation exceeds 95,00% (906.992.014 bytes) of heap memory\n",
      "Scaling row group sizes to 96,54% for 7 writers\n",
      "23/12/05 19:58:19 WARN MemoryManager: Total allocation exceeds 95,00% (906.992.014 bytes) of heap memory\n",
      "Scaling row group sizes to 84,47% for 8 writers\n",
      "23/12/05 19:58:19 WARN MemoryManager: Total allocation exceeds 95,00% (906.992.014 bytes) of heap memory\n",
      "Scaling row group sizes to 96,54% for 7 writers\n",
      "23/12/05 19:58:19 WARN MemoryManager: Total allocation exceeds 95,00% (906.992.014 bytes) of heap memory\n",
      "Scaling row group sizes to 96,54% for 7 writers\n",
      "23/12/05 19:58:19 WARN MemoryManager: Total allocation exceeds 95,00% (906.992.014 bytes) of heap memory\n",
      "Scaling row group sizes to 84,47% for 8 writers\n"
     ]
    },
    {
     "name": "stderr",
     "output_type": "stream",
     "text": [
      "[Stage 99:=====================>                                 (96 + 8) / 248]\r"
     ]
    },
    {
     "name": "stdout",
     "output_type": "stream",
     "text": [
      "23/12/05 19:58:19 WARN MemoryManager: Total allocation exceeds 95,00% (906.992.014 bytes) of heap memory\n",
      "Scaling row group sizes to 96,54% for 7 writers\n",
      "23/12/05 19:58:19 WARN MemoryManager: Total allocation exceeds 95,00% (906.992.014 bytes) of heap memory\n",
      "Scaling row group sizes to 96,54% for 7 writers\n",
      "23/12/05 19:58:19 WARN MemoryManager: Total allocation exceeds 95,00% (906.992.014 bytes) of heap memory\n",
      "Scaling row group sizes to 96,54% for 7 writers\n",
      "23/12/05 19:58:19 WARN MemoryManager: Total allocation exceeds 95,00% (906.992.014 bytes) of heap memory\n",
      "Scaling row group sizes to 84,47% for 8 writers\n"
     ]
    },
    {
     "name": "stderr",
     "output_type": "stream",
     "text": [
      "[Stage 99:======================>                               (102 + 8) / 248]\r"
     ]
    },
    {
     "name": "stdout",
     "output_type": "stream",
     "text": [
      "23/12/05 19:58:19 WARN MemoryManager: Total allocation exceeds 95,00% (906.992.014 bytes) of heap memory\n",
      "Scaling row group sizes to 96,54% for 7 writers\n",
      "23/12/05 19:58:19 WARN MemoryManager: Total allocation exceeds 95,00% (906.992.014 bytes) of heap memory\n",
      "Scaling row group sizes to 96,54% for 7 writers\n",
      "23/12/05 19:58:19 WARN MemoryManager: Total allocation exceeds 95,00% (906.992.014 bytes) of heap memory\n",
      "Scaling row group sizes to 96,54% for 7 writers\n",
      "23/12/05 19:58:19 WARN MemoryManager: Total allocation exceeds 95,00% (906.992.014 bytes) of heap memory\n",
      "Scaling row group sizes to 84,47% for 8 writers\n",
      "23/12/05 19:58:19 WARN MemoryManager: Total allocation exceeds 95,00% (906.992.014 bytes) of heap memory\n",
      "Scaling row group sizes to 96,54% for 7 writers\n"
     ]
    },
    {
     "name": "stderr",
     "output_type": "stream",
     "text": [
      "[Stage 99:========================>                             (111 + 8) / 248]\r"
     ]
    },
    {
     "name": "stdout",
     "output_type": "stream",
     "text": [
      "23/12/05 19:58:19 WARN MemoryManager: Total allocation exceeds 95,00% (906.992.014 bytes) of heap memory\n",
      "Scaling row group sizes to 96,54% for 7 writers\n",
      "23/12/05 19:58:19 WARN MemoryManager: Total allocation exceeds 95,00% (906.992.014 bytes) of heap memory\n",
      "Scaling row group sizes to 96,54% for 7 writers\n",
      "23/12/05 19:58:19 WARN MemoryManager: Total allocation exceeds 95,00% (906.992.014 bytes) of heap memory\n",
      "Scaling row group sizes to 84,47% for 8 writers\n",
      "23/12/05 19:58:19 WARN MemoryManager: Total allocation exceeds 95,00% (906.992.014 bytes) of heap memory\n",
      "Scaling row group sizes to 96,54% for 7 writers\n",
      "23/12/05 19:58:20 WARN MemoryManager: Total allocation exceeds 95,00% (906.992.014 bytes) of heap memory\n",
      "Scaling row group sizes to 84,47% for 8 writers\n",
      "23/12/05 19:58:20 WARN MemoryManager: Total allocation exceeds 95,00% (906.992.014 bytes) of heap memory\n",
      "Scaling row group sizes to 96,54% for 7 writers\n",
      "23/12/05 19:58:20 WARN MemoryManager: Total allocation exceeds 95,00% (906.992.014 bytes) of heap memory\n",
      "Scaling row group sizes to 96,54% for 7 writers\n",
      "23/12/05 19:58:20 WARN MemoryManager: Total allocation exceeds 95,00% (906.992.014 bytes) of heap memory\n",
      "Scaling row group sizes to 96,54% for 7 writers\n",
      "23/12/05 19:58:20 WARN MemoryManager: Total allocation exceeds 95,00% (906.992.014 bytes) of heap memory\n",
      "Scaling row group sizes to 84,47% for 8 writers\n",
      "23/12/05 19:58:20 WARN MemoryManager: Total allocation exceeds 95,00% (906.992.014 bytes) of heap memory\n",
      "Scaling row group sizes to 96,54% for 7 writers\n",
      "23/12/05 19:58:20 WARN MemoryManager: Total allocation exceeds 95,00% (906.992.014 bytes) of heap memory\n",
      "Scaling row group sizes to 96,54% for 7 writers\n",
      "23/12/05 19:58:20 WARN MemoryManager: Total allocation exceeds 95,00% (906.992.014 bytes) of heap memory\n",
      "Scaling row group sizes to 84,47% for 8 writers\n"
     ]
    },
    {
     "name": "stderr",
     "output_type": "stream",
     "text": [
      "[Stage 99:==========================>                           (120 + 8) / 248]\r"
     ]
    },
    {
     "name": "stdout",
     "output_type": "stream",
     "text": [
      "23/12/05 19:58:20 WARN MemoryManager: Total allocation exceeds 95,00% (906.992.014 bytes) of heap memory\n",
      "Scaling row group sizes to 96,54% for 7 writers\n",
      "23/12/05 19:58:20 WARN MemoryManager: Total allocation exceeds 95,00% (906.992.014 bytes) of heap memory\n",
      "Scaling row group sizes to 96,54% for 7 writers\n",
      "23/12/05 19:58:20 WARN MemoryManager: Total allocation exceeds 95,00% (906.992.014 bytes) of heap memory\n",
      "Scaling row group sizes to 84,47% for 8 writers\n",
      "23/12/05 19:58:20 WARN MemoryManager: Total allocation exceeds 95,00% (906.992.014 bytes) of heap memory\n",
      "Scaling row group sizes to 96,54% for 7 writers\n"
     ]
    },
    {
     "name": "stderr",
     "output_type": "stream",
     "text": [
      "[Stage 99:===========================>                          (126 + 8) / 248]\r"
     ]
    },
    {
     "name": "stdout",
     "output_type": "stream",
     "text": [
      "23/12/05 19:58:20 WARN MemoryManager: Total allocation exceeds 95,00% (906.992.014 bytes) of heap memory\n",
      "Scaling row group sizes to 96,54% for 7 writers\n",
      "23/12/05 19:58:20 WARN MemoryManager: Total allocation exceeds 95,00% (906.992.014 bytes) of heap memory\n",
      "Scaling row group sizes to 84,47% for 8 writers\n",
      "23/12/05 19:58:20 WARN MemoryManager: Total allocation exceeds 95,00% (906.992.014 bytes) of heap memory\n",
      "Scaling row group sizes to 96,54% for 7 writers\n",
      "23/12/05 19:58:20 WARN MemoryManager: Total allocation exceeds 95,00% (906.992.014 bytes) of heap memory\n",
      "Scaling row group sizes to 84,47% for 8 writers\n",
      "23/12/05 19:58:20 WARN MemoryManager: Total allocation exceeds 95,00% (906.992.014 bytes) of heap memory\n",
      "Scaling row group sizes to 96,54% for 7 writers\n",
      "23/12/05 19:58:20 WARN MemoryManager: Total allocation exceeds 95,00% (906.992.014 bytes) of heap memory\n",
      "Scaling row group sizes to 84,47% for 8 writers\n",
      "23/12/05 19:58:21 WARN MemoryManager: Total allocation exceeds 95,00% (906.992.014 bytes) of heap memory\n",
      "Scaling row group sizes to 96,54% for 7 writers\n",
      "23/12/05 19:58:21 WARN MemoryManager: Total allocation exceeds 95,00% (906.992.014 bytes) of heap memory\n",
      "Scaling row group sizes to 96,54% for 7 writers\n",
      "23/12/05 19:58:21 WARN MemoryManager: Total allocation exceeds 95,00% (906.992.014 bytes) of heap memory\n",
      "Scaling row group sizes to 84,47% for 8 writers\n",
      "23/12/05 19:58:21 WARN MemoryManager: Total allocation exceeds 95,00% (906.992.014 bytes) of heap memory\n",
      "Scaling row group sizes to 96,54% for 7 writers\n"
     ]
    },
    {
     "name": "stderr",
     "output_type": "stream",
     "text": [
      "[Stage 99:===========================>                          (128 + 8) / 248]\r"
     ]
    },
    {
     "name": "stdout",
     "output_type": "stream",
     "text": [
      "23/12/05 19:58:21 WARN MemoryManager: Total allocation exceeds 95,00% (906.992.014 bytes) of heap memory\n",
      "Scaling row group sizes to 96,54% for 7 writers\n",
      "23/12/05 19:58:21 WARN MemoryManager: Total allocation exceeds 95,00% (906.992.014 bytes) of heap memory\n",
      "Scaling row group sizes to 84,47% for 8 writers\n",
      "23/12/05 19:58:21 WARN MemoryManager: Total allocation exceeds 95,00% (906.992.014 bytes) of heap memory\n",
      "Scaling row group sizes to 96,54% for 7 writers\n"
     ]
    },
    {
     "name": "stderr",
     "output_type": "stream",
     "text": [
      "[Stage 99:==============================>                       (139 + 8) / 248]\r"
     ]
    },
    {
     "name": "stdout",
     "output_type": "stream",
     "text": [
      "23/12/05 19:58:21 WARN MemoryManager: Total allocation exceeds 95,00% (906.992.014 bytes) of heap memory\n",
      "Scaling row group sizes to 96,54% for 7 writers\n",
      "23/12/05 19:58:21 WARN MemoryManager: Total allocation exceeds 95,00% (906.992.014 bytes) of heap memory\n",
      "Scaling row group sizes to 96,54% for 7 writers\n",
      "23/12/05 19:58:21 WARN MemoryManager: Total allocation exceeds 95,00% (906.992.014 bytes) of heap memory\n",
      "Scaling row group sizes to 84,47% for 8 writers\n"
     ]
    },
    {
     "name": "stderr",
     "output_type": "stream",
     "text": [
      "[Stage 99:==============================>                       (142 + 8) / 248]\r"
     ]
    },
    {
     "name": "stdout",
     "output_type": "stream",
     "text": [
      "23/12/05 19:58:21 WARN MemoryManager: Total allocation exceeds 95,00% (906.992.014 bytes) of heap memory\n",
      "Scaling row group sizes to 96,54% for 7 writers\n",
      "23/12/05 19:58:21 WARN MemoryManager: Total allocation exceeds 95,00% (906.992.014 bytes) of heap memory\n",
      "Scaling row group sizes to 96,54% for 7 writers\n",
      "23/12/05 19:58:21 WARN MemoryManager: Total allocation exceeds 95,00% (906.992.014 bytes) of heap memory\n",
      "Scaling row group sizes to 84,47% for 8 writers\n",
      "23/12/05 19:58:21 WARN MemoryManager: Total allocation exceeds 95,00% (906.992.014 bytes) of heap memory\n",
      "Scaling row group sizes to 96,54% for 7 writers\n",
      "23/12/05 19:58:22 WARN MemoryManager: Total allocation exceeds 95,00% (906.992.014 bytes) of heap memory\n",
      "Scaling row group sizes to 96,54% for 7 writers\n",
      "23/12/05 19:58:22 WARN MemoryManager: Total allocation exceeds 95,00% (906.992.014 bytes) of heap memory\n",
      "Scaling row group sizes to 84,47% for 8 writers\n",
      "23/12/05 19:58:22 WARN MemoryManager: Total allocation exceeds 95,00% (906.992.014 bytes) of heap memory\n",
      "Scaling row group sizes to 96,54% for 7 writers\n",
      "23/12/05 19:58:22 WARN MemoryManager: Total allocation exceeds 95,00% (906.992.014 bytes) of heap memory\n",
      "Scaling row group sizes to 84,47% for 8 writers\n",
      "23/12/05 19:58:22 WARN MemoryManager: Total allocation exceeds 95,00% (906.992.014 bytes) of heap memory\n",
      "Scaling row group sizes to 96,54% for 7 writers\n",
      "23/12/05 19:58:22 WARN MemoryManager: Total allocation exceeds 95,00% (906.992.014 bytes) of heap memory\n",
      "Scaling row group sizes to 84,47% for 8 writers\n"
     ]
    },
    {
     "name": "stderr",
     "output_type": "stream",
     "text": [
      "[Stage 99:================================>                     (150 + 8) / 248]\r"
     ]
    },
    {
     "name": "stdout",
     "output_type": "stream",
     "text": [
      "23/12/05 19:58:22 WARN MemoryManager: Total allocation exceeds 95,00% (906.992.014 bytes) of heap memory\n",
      "Scaling row group sizes to 96,54% for 7 writers\n",
      "23/12/05 19:58:22 WARN MemoryManager: Total allocation exceeds 95,00% (906.992.014 bytes) of heap memory\n",
      "Scaling row group sizes to 96,54% for 7 writers\n",
      "23/12/05 19:58:22 WARN MemoryManager: Total allocation exceeds 95,00% (906.992.014 bytes) of heap memory\n",
      "Scaling row group sizes to 84,47% for 8 writers\n",
      "23/12/05 19:58:22 WARN MemoryManager: Total allocation exceeds 95,00% (906.992.014 bytes) of heap memory\n",
      "Scaling row group sizes to 96,54% for 7 writers\n"
     ]
    },
    {
     "name": "stderr",
     "output_type": "stream",
     "text": [
      "[Stage 99:==================================>                   (158 + 8) / 248]\r"
     ]
    },
    {
     "name": "stdout",
     "output_type": "stream",
     "text": [
      "23/12/05 19:58:22 WARN MemoryManager: Total allocation exceeds 95,00% (906.992.014 bytes) of heap memory\n",
      "Scaling row group sizes to 96,54% for 7 writers\n",
      "23/12/05 19:58:22 WARN MemoryManager: Total allocation exceeds 95,00% (906.992.014 bytes) of heap memory\n",
      "Scaling row group sizes to 84,47% for 8 writers\n",
      "23/12/05 19:58:22 WARN MemoryManager: Total allocation exceeds 95,00% (906.992.014 bytes) of heap memory\n",
      "Scaling row group sizes to 96,54% for 7 writers\n",
      "23/12/05 19:58:23 WARN MemoryManager: Total allocation exceeds 95,00% (906.992.014 bytes) of heap memory\n",
      "Scaling row group sizes to 96,54% for 7 writers\n"
     ]
    },
    {
     "name": "stderr",
     "output_type": "stream",
     "text": [
      "[Stage 99:===================================>                  (165 + 8) / 248]\r"
     ]
    },
    {
     "name": "stdout",
     "output_type": "stream",
     "text": [
      "23/12/05 19:58:23 WARN MemoryManager: Total allocation exceeds 95,00% (906.992.014 bytes) of heap memory\n",
      "Scaling row group sizes to 96,54% for 7 writers\n",
      "23/12/05 19:58:23 WARN MemoryManager: Total allocation exceeds 95,00% (906.992.014 bytes) of heap memory\n",
      "Scaling row group sizes to 84,47% for 8 writers\n",
      "23/12/05 19:58:23 WARN MemoryManager: Total allocation exceeds 95,00% (906.992.014 bytes) of heap memory\n",
      "Scaling row group sizes to 96,54% for 7 writers\n",
      "23/12/05 19:58:23 WARN MemoryManager: Total allocation exceeds 95,00% (906.992.014 bytes) of heap memory\n",
      "Scaling row group sizes to 96,54% for 7 writers\n",
      "23/12/05 19:58:23 WARN MemoryManager: Total allocation exceeds 95,00% (906.992.014 bytes) of heap memory\n",
      "Scaling row group sizes to 96,54% for 7 writers\n",
      "23/12/05 19:58:23 WARN MemoryManager: Total allocation exceeds 95,00% (906.992.014 bytes) of heap memory\n",
      "Scaling row group sizes to 96,54% for 7 writers\n",
      "23/12/05 19:58:23 WARN MemoryManager: Total allocation exceeds 95,00% (906.992.014 bytes) of heap memory\n",
      "Scaling row group sizes to 84,47% for 8 writers\n",
      "23/12/05 19:58:23 WARN MemoryManager: Total allocation exceeds 95,00% (906.992.014 bytes) of heap memory\n",
      "Scaling row group sizes to 96,54% for 7 writers\n"
     ]
    },
    {
     "name": "stderr",
     "output_type": "stream",
     "text": [
      "[Stage 99:=====================================>                (172 + 8) / 248]\r"
     ]
    },
    {
     "name": "stdout",
     "output_type": "stream",
     "text": [
      "23/12/05 19:58:23 WARN MemoryManager: Total allocation exceeds 95,00% (906.992.014 bytes) of heap memory\n",
      "Scaling row group sizes to 96,54% for 7 writers\n",
      "23/12/05 19:58:23 WARN MemoryManager: Total allocation exceeds 95,00% (906.992.014 bytes) of heap memory\n",
      "Scaling row group sizes to 84,47% for 8 writers\n",
      "23/12/05 19:58:23 WARN MemoryManager: Total allocation exceeds 95,00% (906.992.014 bytes) of heap memory\n",
      "Scaling row group sizes to 96,54% for 7 writers\n"
     ]
    },
    {
     "name": "stderr",
     "output_type": "stream",
     "text": [
      "[Stage 99:======================================>               (177 + 8) / 248]\r"
     ]
    },
    {
     "name": "stdout",
     "output_type": "stream",
     "text": [
      "23/12/05 19:58:23 WARN MemoryManager: Total allocation exceeds 95,00% (906.992.014 bytes) of heap memory\n",
      "Scaling row group sizes to 96,54% for 7 writers\n",
      "23/12/05 19:58:24 WARN MemoryManager: Total allocation exceeds 95,00% (906.992.014 bytes) of heap memory\n",
      "Scaling row group sizes to 96,54% for 7 writers\n",
      "23/12/05 19:58:24 WARN MemoryManager: Total allocation exceeds 95,00% (906.992.014 bytes) of heap memory\n",
      "Scaling row group sizes to 84,47% for 8 writers\n",
      "23/12/05 19:58:24 WARN MemoryManager: Total allocation exceeds 95,00% (906.992.014 bytes) of heap memory\n",
      "Scaling row group sizes to 96,54% for 7 writers\n",
      "23/12/05 19:58:24 WARN MemoryManager: Total allocation exceeds 95,00% (906.992.014 bytes) of heap memory\n",
      "Scaling row group sizes to 96,54% for 7 writers\n",
      "23/12/05 19:58:24 WARN MemoryManager: Total allocation exceeds 95,00% (906.992.014 bytes) of heap memory\n",
      "Scaling row group sizes to 84,47% for 8 writers\n",
      "23/12/05 19:58:24 WARN MemoryManager: Total allocation exceeds 95,00% (906.992.014 bytes) of heap memory\n",
      "Scaling row group sizes to 96,54% for 7 writers\n"
     ]
    },
    {
     "name": "stderr",
     "output_type": "stream",
     "text": [
      "[Stage 99:=======================================>              (180 + 8) / 248]\r"
     ]
    },
    {
     "name": "stdout",
     "output_type": "stream",
     "text": [
      "23/12/05 19:58:24 WARN MemoryManager: Total allocation exceeds 95,00% (906.992.014 bytes) of heap memory\n",
      "Scaling row group sizes to 84,47% for 8 writers\n",
      "23/12/05 19:58:25 WARN MemoryManager: Total allocation exceeds 95,00% (906.992.014 bytes) of heap memory\n",
      "Scaling row group sizes to 96,54% for 7 writers\n",
      "23/12/05 19:58:25 WARN MemoryManager: Total allocation exceeds 95,00% (906.992.014 bytes) of heap memory\n",
      "Scaling row group sizes to 96,54% for 7 writers\n",
      "23/12/05 19:58:25 WARN MemoryManager: Total allocation exceeds 95,00% (906.992.014 bytes) of heap memory\n",
      "Scaling row group sizes to 96,54% for 7 writers\n",
      "23/12/05 19:58:25 WARN MemoryManager: Total allocation exceeds 95,00% (906.992.014 bytes) of heap memory\n",
      "Scaling row group sizes to 96,54% for 7 writers\n"
     ]
    },
    {
     "name": "stderr",
     "output_type": "stream",
     "text": [
      "[Stage 99:========================================>             (188 + 8) / 248]\r"
     ]
    },
    {
     "name": "stdout",
     "output_type": "stream",
     "text": [
      "23/12/05 19:58:25 WARN MemoryManager: Total allocation exceeds 95,00% (906.992.014 bytes) of heap memory\n",
      "Scaling row group sizes to 84,47% for 8 writers\n",
      "23/12/05 19:58:25 WARN MemoryManager: Total allocation exceeds 95,00% (906.992.014 bytes) of heap memory\n",
      "Scaling row group sizes to 96,54% for 7 writers\n",
      "23/12/05 19:58:25 WARN MemoryManager: Total allocation exceeds 95,00% (906.992.014 bytes) of heap memory\n",
      "Scaling row group sizes to 84,47% for 8 writers\n",
      "23/12/05 19:58:26 WARN MemoryManager: Total allocation exceeds 95,00% (906.992.014 bytes) of heap memory\n",
      "Scaling row group sizes to 96,54% for 7 writers\n",
      "23/12/05 19:58:26 WARN MemoryManager: Total allocation exceeds 95,00% (906.992.014 bytes) of heap memory\n",
      "Scaling row group sizes to 96,54% for 7 writers\n",
      "23/12/05 19:58:26 WARN MemoryManager: Total allocation exceeds 95,00% (906.992.014 bytes) of heap memory\n",
      "Scaling row group sizes to 84,47% for 8 writers\n",
      "23/12/05 19:58:26 WARN MemoryManager: Total allocation exceeds 95,00% (906.992.014 bytes) of heap memory\n",
      "Scaling row group sizes to 96,54% for 7 writers\n",
      "23/12/05 19:58:26 WARN MemoryManager: Total allocation exceeds 95,00% (906.992.014 bytes) of heap memory\n",
      "Scaling row group sizes to 96,54% for 7 writers\n",
      "23/12/05 19:58:26 WARN MemoryManager: Total allocation exceeds 95,00% (906.992.014 bytes) of heap memory\n",
      "Scaling row group sizes to 84,47% for 8 writers\n",
      "23/12/05 19:58:26 WARN MemoryManager: Total allocation exceeds 95,00% (906.992.014 bytes) of heap memory\n",
      "Scaling row group sizes to 96,54% for 7 writers\n"
     ]
    },
    {
     "name": "stderr",
     "output_type": "stream",
     "text": [
      "[Stage 99:==========================================>           (196 + 8) / 248]\r"
     ]
    },
    {
     "name": "stdout",
     "output_type": "stream",
     "text": [
      "23/12/05 19:58:26 WARN MemoryManager: Total allocation exceeds 95,00% (906.992.014 bytes) of heap memory\n",
      "Scaling row group sizes to 96,54% for 7 writers\n",
      "23/12/05 19:58:26 WARN MemoryManager: Total allocation exceeds 95,00% (906.992.014 bytes) of heap memory\n",
      "Scaling row group sizes to 84,47% for 8 writers\n",
      "23/12/05 19:58:26 WARN MemoryManager: Total allocation exceeds 95,00% (906.992.014 bytes) of heap memory\n",
      "Scaling row group sizes to 96,54% for 7 writers\n",
      "23/12/05 19:58:26 WARN MemoryManager: Total allocation exceeds 95,00% (906.992.014 bytes) of heap memory\n",
      "Scaling row group sizes to 96,54% for 7 writers\n",
      "23/12/05 19:58:26 WARN MemoryManager: Total allocation exceeds 95,00% (906.992.014 bytes) of heap memory\n",
      "Scaling row group sizes to 96,54% for 7 writers\n",
      "23/12/05 19:58:26 WARN MemoryManager: Total allocation exceeds 95,00% (906.992.014 bytes) of heap memory\n",
      "Scaling row group sizes to 96,54% for 7 writers\n"
     ]
    },
    {
     "name": "stderr",
     "output_type": "stream",
     "text": [
      "[Stage 99:============================================>         (204 + 8) / 248]\r"
     ]
    },
    {
     "name": "stdout",
     "output_type": "stream",
     "text": [
      "23/12/05 19:58:26 WARN MemoryManager: Total allocation exceeds 95,00% (906.992.014 bytes) of heap memory\n",
      "Scaling row group sizes to 96,54% for 7 writers\n",
      "23/12/05 19:58:26 WARN MemoryManager: Total allocation exceeds 95,00% (906.992.014 bytes) of heap memory\n",
      "Scaling row group sizes to 84,47% for 8 writers\n",
      "23/12/05 19:58:27 WARN MemoryManager: Total allocation exceeds 95,00% (906.992.014 bytes) of heap memory\n",
      "Scaling row group sizes to 96,54% for 7 writers\n",
      "23/12/05 19:58:27 WARN MemoryManager: Total allocation exceeds 95,00% (906.992.014 bytes) of heap memory\n",
      "Scaling row group sizes to 96,54% for 7 writers\n",
      "23/12/05 19:58:27 WARN MemoryManager: Total allocation exceeds 95,00% (906.992.014 bytes) of heap memory\n",
      "Scaling row group sizes to 84,47% for 8 writers\n",
      "23/12/05 19:58:27 WARN MemoryManager: Total allocation exceeds 95,00% (906.992.014 bytes) of heap memory\n",
      "Scaling row group sizes to 96,54% for 7 writers\n"
     ]
    },
    {
     "name": "stderr",
     "output_type": "stream",
     "text": [
      "[Stage 99:==============================================>       (212 + 8) / 248]\r"
     ]
    },
    {
     "name": "stdout",
     "output_type": "stream",
     "text": [
      "23/12/05 19:58:27 WARN MemoryManager: Total allocation exceeds 95,00% (906.992.014 bytes) of heap memory\n",
      "Scaling row group sizes to 84,47% for 8 writers\n",
      "23/12/05 19:58:27 WARN MemoryManager: Total allocation exceeds 95,00% (906.992.014 bytes) of heap memory\n",
      "Scaling row group sizes to 96,54% for 7 writers\n",
      "23/12/05 19:58:27 WARN MemoryManager: Total allocation exceeds 95,00% (906.992.014 bytes) of heap memory\n",
      "Scaling row group sizes to 96,54% for 7 writers\n",
      "23/12/05 19:58:27 WARN MemoryManager: Total allocation exceeds 95,00% (906.992.014 bytes) of heap memory\n",
      "Scaling row group sizes to 84,47% for 8 writers\n",
      "23/12/05 19:58:27 WARN MemoryManager: Total allocation exceeds 95,00% (906.992.014 bytes) of heap memory\n",
      "Scaling row group sizes to 96,54% for 7 writers\n",
      "23/12/05 19:58:27 WARN MemoryManager: Total allocation exceeds 95,00% (906.992.014 bytes) of heap memory\n",
      "Scaling row group sizes to 96,54% for 7 writers\n",
      "23/12/05 19:58:28 WARN MemoryManager: Total allocation exceeds 95,00% (906.992.014 bytes) of heap memory\n",
      "Scaling row group sizes to 96,54% for 7 writers\n",
      "23/12/05 19:58:28 WARN MemoryManager: Total allocation exceeds 95,00% (906.992.014 bytes) of heap memory\n",
      "Scaling row group sizes to 96,54% for 7 writers\n",
      "23/12/05 19:58:28 WARN MemoryManager: Total allocation exceeds 95,00% (906.992.014 bytes) of heap memory\n",
      "Scaling row group sizes to 84,47% for 8 writers\n",
      "23/12/05 19:58:28 WARN MemoryManager: Total allocation exceeds 95,00% (906.992.014 bytes) of heap memory\n",
      "Scaling row group sizes to 96,54% for 7 writers\n"
     ]
    },
    {
     "name": "stderr",
     "output_type": "stream",
     "text": [
      "[Stage 99:===============================================>      (218 + 8) / 248]\r"
     ]
    },
    {
     "name": "stdout",
     "output_type": "stream",
     "text": [
      "23/12/05 19:58:28 WARN MemoryManager: Total allocation exceeds 95,00% (906.992.014 bytes) of heap memory\n",
      "Scaling row group sizes to 96,54% for 7 writers\n",
      "23/12/05 19:58:28 WARN MemoryManager: Total allocation exceeds 95,00% (906.992.014 bytes) of heap memory\n",
      "Scaling row group sizes to 84,47% for 8 writers\n",
      "23/12/05 19:58:28 WARN MemoryManager: Total allocation exceeds 95,00% (906.992.014 bytes) of heap memory\n",
      "Scaling row group sizes to 96,54% for 7 writers\n",
      "23/12/05 19:58:28 WARN MemoryManager: Total allocation exceeds 95,00% (906.992.014 bytes) of heap memory\n",
      "Scaling row group sizes to 96,54% for 7 writers\n",
      "23/12/05 19:58:28 WARN MemoryManager: Total allocation exceeds 95,00% (906.992.014 bytes) of heap memory\n",
      "Scaling row group sizes to 84,47% for 8 writers\n"
     ]
    },
    {
     "name": "stderr",
     "output_type": "stream",
     "text": [
      "[Stage 99:================================================>     (223 + 8) / 248]\r"
     ]
    },
    {
     "name": "stdout",
     "output_type": "stream",
     "text": [
      "23/12/05 19:58:28 WARN MemoryManager: Total allocation exceeds 95,00% (906.992.014 bytes) of heap memory\n",
      "Scaling row group sizes to 96,54% for 7 writers\n",
      "23/12/05 19:58:28 WARN MemoryManager: Total allocation exceeds 95,00% (906.992.014 bytes) of heap memory\n",
      "Scaling row group sizes to 96,54% for 7 writers\n",
      "23/12/05 19:58:28 WARN MemoryManager: Total allocation exceeds 95,00% (906.992.014 bytes) of heap memory\n",
      "Scaling row group sizes to 96,54% for 7 writers\n",
      "23/12/05 19:58:28 WARN MemoryManager: Total allocation exceeds 95,00% (906.992.014 bytes) of heap memory\n",
      "Scaling row group sizes to 84,47% for 8 writers\n",
      "23/12/05 19:58:28 WARN MemoryManager: Total allocation exceeds 95,00% (906.992.014 bytes) of heap memory\n",
      "Scaling row group sizes to 96,54% for 7 writers\n",
      "23/12/05 19:58:28 WARN MemoryManager: Total allocation exceeds 95,00% (906.992.014 bytes) of heap memory\n",
      "Scaling row group sizes to 84,47% for 8 writers\n",
      "23/12/05 19:58:28 WARN MemoryManager: Total allocation exceeds 95,00% (906.992.014 bytes) of heap memory\n",
      "Scaling row group sizes to 96,54% for 7 writers\n",
      "23/12/05 19:58:28 WARN MemoryManager: Total allocation exceeds 95,00% (906.992.014 bytes) of heap memory\n",
      "Scaling row group sizes to 96,54% for 7 writers\n",
      "23/12/05 19:58:28 WARN MemoryManager: Total allocation exceeds 95,00% (906.992.014 bytes) of heap memory\n",
      "Scaling row group sizes to 84,47% for 8 writers\n",
      "23/12/05 19:58:28 WARN MemoryManager: Total allocation exceeds 95,00% (906.992.014 bytes) of heap memory\n",
      "Scaling row group sizes to 96,54% for 7 writers\n"
     ]
    },
    {
     "name": "stderr",
     "output_type": "stream",
     "text": [
      "[Stage 99:=================================================>    (228 + 8) / 248]\r"
     ]
    },
    {
     "name": "stdout",
     "output_type": "stream",
     "text": [
      "23/12/05 19:58:28 WARN MemoryManager: Total allocation exceeds 95,00% (906.992.014 bytes) of heap memory\n",
      "Scaling row group sizes to 96,54% for 7 writers\n",
      "23/12/05 19:58:28 WARN MemoryManager: Total allocation exceeds 95,00% (906.992.014 bytes) of heap memory\n",
      "Scaling row group sizes to 84,47% for 8 writers\n",
      "23/12/05 19:58:29 WARN MemoryManager: Total allocation exceeds 95,00% (906.992.014 bytes) of heap memory\n",
      "Scaling row group sizes to 96,54% for 7 writers\n",
      "23/12/05 19:58:29 WARN MemoryManager: Total allocation exceeds 95,00% (906.992.014 bytes) of heap memory\n",
      "Scaling row group sizes to 96,54% for 7 writers\n"
     ]
    },
    {
     "name": "stderr",
     "output_type": "stream",
     "text": [
      "[Stage 99:===================================================>  (235 + 8) / 248]\r"
     ]
    },
    {
     "name": "stdout",
     "output_type": "stream",
     "text": [
      "23/12/05 19:58:29 WARN MemoryManager: Total allocation exceeds 95,00% (906.992.014 bytes) of heap memory\n",
      "Scaling row group sizes to 84,47% for 8 writers\n",
      "23/12/05 19:58:29 WARN MemoryManager: Total allocation exceeds 95,00% (906.992.014 bytes) of heap memory\n",
      "Scaling row group sizes to 96,54% for 7 writers\n"
     ]
    },
    {
     "name": "stderr",
     "output_type": "stream",
     "text": [
      "[Stage 99:=====================================================>(244 + 4) / 248]\r"
     ]
    },
    {
     "name": "stdout",
     "output_type": "stream",
     "text": [
      "23/12/05 19:58:29 WARN MemoryManager: Total allocation exceeds 95,00% (906.992.014 bytes) of heap memory\n",
      "Scaling row group sizes to 96,54% for 7 writers\n",
      "23/12/05 19:58:29 WARN MemoryManager: Total allocation exceeds 95,00% (906.992.014 bytes) of heap memory\n",
      "Scaling row group sizes to 84,47% for 8 writers\n",
      "23/12/05 19:58:29 WARN MemoryManager: Total allocation exceeds 95,00% (906.992.014 bytes) of heap memory\n",
      "Scaling row group sizes to 96,54% for 7 writers\n"
     ]
    },
    {
     "name": "stderr",
     "output_type": "stream",
     "text": [
      "                                                                                \r"
     ]
    }
   ],
   "source": [
    "df_visualizacoes.write \\\n",
    "    .parquet('../data/projetos_youtube_v2/novo_ouro/total_visualizacoes_semana.parquet')"
   ]
  },
  {
   "cell_type": "code",
   "execution_count": null,
   "metadata": {},
   "outputs": [],
   "source": [
    "spark.stop()"
   ]
  }
 ],
 "metadata": {
  "kernelspec": {
   "display_name": "venv",
   "language": "python",
   "name": "python3"
  },
  "language_info": {
   "codemirror_mode": {
    "name": "ipython",
    "version": 3
   },
   "file_extension": ".py",
   "mimetype": "text/x-python",
   "name": "python",
   "nbconvert_exporter": "python",
   "pygments_lexer": "ipython3",
   "version": "3.10.12"
  }
 },
 "nbformat": 4,
 "nbformat_minor": 2
}
