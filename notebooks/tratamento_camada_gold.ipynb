{
 "cells": [
  {
   "cell_type": "code",
   "execution_count": 1,
   "metadata": {},
   "outputs": [],
   "source": [
    "from pyspark.sql import SparkSession, DataFrame\n",
    "import pyspark.sql.functions as f\n",
    "from isodate import parse_duration\n",
    "import pyspark.sql.types as t\n",
    "from typing import Tuple\n",
    "import os"
   ]
  },
  {
   "cell_type": "code",
   "execution_count": 2,
   "metadata": {},
   "outputs": [],
   "source": [
    "@f.udf(returnType=t.IntegerType())\n",
    "def converter_segundos(tempo: str) -> int:\n",
    "    \"\"\"Converte para o total de seguntos\n",
    "\n",
    "    Args:\n",
    "        tempo (str): tempo\n",
    "\n",
    "    Returns:\n",
    "        int: total segundos\n",
    "    \"\"\"\n",
    "    duracao = parse_duration(tempo)\n",
    "    total_minutes = duracao.total_seconds() \n",
    "   \n",
    "    return int(total_minutes)\n"
   ]
  },
  {
   "cell_type": "code",
   "execution_count": 3,
   "metadata": {},
   "outputs": [
    {
     "name": "stdout",
     "output_type": "stream",
     "text": [
      "23/11/01 23:37:48 WARN Utils: Your hostname, rodrigo-Nitro-AN515-54 resolves to a loopback address: 127.0.1.1; using 192.168.0.112 instead (on interface wlp8s0)\n",
      "23/11/01 23:37:48 WARN Utils: Set SPARK_LOCAL_IP if you need to bind to another address\n"
     ]
    },
    {
     "name": "stderr",
     "output_type": "stream",
     "text": [
      "Setting default log level to \"WARN\".\n",
      "To adjust logging level use sc.setLogLevel(newLevel). For SparkR, use setLogLevel(newLevel).\n"
     ]
    },
    {
     "name": "stdout",
     "output_type": "stream",
     "text": [
      "23/11/01 23:37:50 WARN NativeCodeLoader: Unable to load native-hadoop library for your platform... using builtin-java classes where applicable\n"
     ]
    },
    {
     "data": {
      "text/html": [
       "\n",
       "            <div>\n",
       "                <p><b>SparkSession - in-memory</b></p>\n",
       "                \n",
       "        <div>\n",
       "            <p><b>SparkContext</b></p>\n",
       "\n",
       "            <p><a href=\"http://192.168.0.112:4040\">Spark UI</a></p>\n",
       "\n",
       "            <dl>\n",
       "              <dt>Version</dt>\n",
       "                <dd><code>v3.3.0</code></dd>\n",
       "              <dt>Master</dt>\n",
       "                <dd><code>local[*]</code></dd>\n",
       "              <dt>AppName</dt>\n",
       "                <dd><code>tratamento_camada_ouro</code></dd>\n",
       "            </dl>\n",
       "        </div>\n",
       "        \n",
       "            </div>\n",
       "        "
      ],
      "text/plain": [
       "<pyspark.sql.session.SparkSession at 0x7ffae05bf2b0>"
      ]
     },
     "execution_count": 3,
     "metadata": {},
     "output_type": "execute_result"
    }
   ],
   "source": [
    "spark = SparkSession.builder.appName('tratamento_camada_ouro').getOrCreate()\n",
    "spark"
   ]
  },
  {
   "cell_type": "code",
   "execution_count": 4,
   "metadata": {},
   "outputs": [],
   "source": [
    "def carregar_dataframe_prata(spark_session : SparkSession, assunto: str, metrica: str = None):\n",
    "    if metrica is not None:\n",
    "        df_cities_skylines = spark_session \\\n",
    "            .read \\\n",
    "                .parquet(f'/home/rodrigo/Documentos/projetos/open_weather_api_apache/analise_dados_youtube/data/projetos_youtube_v2/prata/{assunto}/extracao_data_*/{metrica}/*.parquet')\n",
    "    else:\n",
    "        df_cities_skylines = spark_session \\\n",
    "            .read \\\n",
    "                .parquet(f'/home/rodrigo/Documentos/projetos/open_weather_api_apache/analise_dados_youtube/data/projetos_youtube_v2/prata/{assunto}/extracao_data_*/*.parquet')\n",
    "    return df_cities_skylines"
   ]
  },
  {
   "cell_type": "code",
   "execution_count": 41,
   "metadata": {},
   "outputs": [],
   "source": [
    "def criar_particao_ouro(dataframe: DataFrame, assunto_pesquisa: str, metrica: str,  nome_arquivo: str, colunas_particao: Tuple = None | str):\n",
    "    caminho_datalake_ouro = '/home/rodrigo/Documentos/projetos/open_weather_api_apache/analise_dados_youtube/data/projetos_youtube_v2/ouro/'\n",
    "    if colunas_particao == None:\n",
    "        dataframe.write. \\\n",
    "            parquet(os.path.join(caminho_datalake_ouro, assunto_pesquisa, metrica, nome_arquivo))\n",
    "    else: \n",
    "        if len(colunas_particao) > 1:\n",
    "            dataframe.write. \\\n",
    "                partitionBy(*colunas_particao). \\\n",
    "                parquet(os.path.join(caminho_datalake_ouro, assunto_pesquisa, metrica, nome_arquivo))\n",
    "        else:\n",
    "            dataframe.write. \\\n",
    "                partitionBy(colunas_particao). \\\n",
    "                parquet(os.path.join(caminho_datalake_ouro, assunto_pesquisa, metrica, nome_arquivo))\n"
   ]
  },
  {
   "cell_type": "code",
   "execution_count": 6,
   "metadata": {},
   "outputs": [],
   "source": [
    "def transformacao_dataframe(dataframe_transform: DataFrame):\n",
    "    dataframe_transform = dataframe_transform.select(\n",
    "        'data_extracao',\n",
    "        f.explode('DATA_PUBLICACAO').alias('DATA_PUBLICACAO'),\n",
    "        'ID_CANAL',\n",
    "        'NM_CANAL',\n",
    "        'ID_CATEGORIA',\n",
    "        'ID_VIDEO',\n",
    "        'TITULO_VIDEO',\n",
    "        'DESCRICAO',\n",
    "        'TAGS',\n",
    "        'DURACAO_VIDEOS',\n",
    "        'TOTAL_VISUALIZACOES',\n",
    "        'TOTAL_LIKES',\n",
    "        'TOTAL_FAVORITOS',\n",
    "        'TOTAL_COMENTARIOS',\n",
    "        \n",
    "     ).select(\n",
    "                'data_extracao',\n",
    "                'DATA_PUBLICACAO',\n",
    "                f.explode('ID_CANAL').alias('ID_CANAL'),\n",
    "                'NM_CANAL',\n",
    "                'ID_CATEGORIA',\n",
    "                'ID_VIDEO',\n",
    "                'TITULO_VIDEO',\n",
    "                'DESCRICAO',\n",
    "                'TAGS',\n",
    "                'DURACAO_VIDEOS',\n",
    "                'TOTAL_VISUALIZACOES',\n",
    "                'TOTAL_LIKES',\n",
    "                'TOTAL_FAVORITOS',\n",
    "                'TOTAL_COMENTARIOS',\n",
    "        ).select(\n",
    "                'data_extracao',\n",
    "                'DATA_PUBLICACAO',\n",
    "                'ID_CANAL',\n",
    "                f.explode('NM_CANAL').alias('NM_CANAL'), \n",
    "                'ID_CATEGORIA',\n",
    "                'ID_VIDEO',\n",
    "                'TITULO_VIDEO',\n",
    "                'DESCRICAO',\n",
    "                'TAGS',\n",
    "                'DURACAO_VIDEOS',\n",
    "                'TOTAL_VISUALIZACOES',\n",
    "                'TOTAL_LIKES',\n",
    "                'TOTAL_FAVORITOS',\n",
    "                'TOTAL_COMENTARIOS',\n",
    "        ).select(\n",
    "                'data_extracao',\n",
    "                'DATA_PUBLICACAO',\n",
    "                'ID_CANAL',\n",
    "                'NM_CANAL',\n",
    "                f.explode('ID_CATEGORIA').alias('ID_CATEGORIA'),\n",
    "                'ID_VIDEO',\n",
    "                'TITULO_VIDEO',\n",
    "                'DESCRICAO',\n",
    "                'TAGS',\n",
    "                'DURACAO_VIDEOS',\n",
    "                'TOTAL_VISUALIZACOES',\n",
    "                'TOTAL_LIKES',\n",
    "                'TOTAL_FAVORITOS',\n",
    "                'TOTAL_COMENTARIOS',\n",
    "        ).select(\n",
    "                'data_extracao',\n",
    "                'DATA_PUBLICACAO',\n",
    "                'ID_CANAL',\n",
    "                'NM_CANAL',\n",
    "                'ID_CATEGORIA',\n",
    "                f.explode('ID_VIDEO').alias('ID_VIDEO'),\n",
    "                'TITULO_VIDEO',\n",
    "                'DESCRICAO',\n",
    "                'TAGS',\n",
    "                'DURACAO_VIDEOS',\n",
    "                'TOTAL_VISUALIZACOES',\n",
    "                'TOTAL_LIKES',\n",
    "                'TOTAL_FAVORITOS',\n",
    "                'TOTAL_COMENTARIOS',\n",
    "        ).select(\n",
    "                'data_extracao',\n",
    "                'DATA_PUBLICACAO',\n",
    "                'ID_CANAL',\n",
    "                'NM_CANAL',\n",
    "                'ID_CATEGORIA',\n",
    "                'ID_VIDEO',\n",
    "                f.explode('TITULO_VIDEO').alias('TITULO_VIDEO'),\n",
    "                'DESCRICAO',\n",
    "                'TAGS',\n",
    "                'DURACAO_VIDEOS',\n",
    "                'TOTAL_VISUALIZACOES',\n",
    "                'TOTAL_LIKES',\n",
    "                'TOTAL_FAVORITOS',\n",
    "                'TOTAL_COMENTARIOS',\n",
    "        ).select(\n",
    "                'data_extracao',\n",
    "                'DATA_PUBLICACAO',\n",
    "                'ID_CANAL',\n",
    "                'NM_CANAL',\n",
    "                'ID_CATEGORIA',\n",
    "                'TITULO_VIDEO',\n",
    "                'ID_VIDEO',\n",
    "                f.explode('DESCRICAO').alias('DESCRICAO'),\n",
    "                'TAGS',\n",
    "                'DURACAO_VIDEOS',\n",
    "                'TOTAL_VISUALIZACOES',\n",
    "                'TOTAL_LIKES',\n",
    "                'TOTAL_FAVORITOS',\n",
    "                'TOTAL_COMENTARIOS',\n",
    "        ).select(\n",
    "                'data_extracao',\n",
    "                'DATA_PUBLICACAO',\n",
    "                'ID_CANAL',\n",
    "                'NM_CANAL',\n",
    "                'ID_CATEGORIA',\n",
    "                'ID_VIDEO',\n",
    "                'TITULO_VIDEO',\n",
    "                'DESCRICAO',\n",
    "                f.explode('TAGS').alias('TAGS'),\n",
    "                'DURACAO_VIDEOS',\n",
    "                'TOTAL_VISUALIZACOES',\n",
    "                'TOTAL_LIKES',\n",
    "                'TOTAL_FAVORITOS',\n",
    "                'TOTAL_COMENTARIOS',\n",
    "        ).select(\n",
    "                'data_extracao',\n",
    "                'DATA_PUBLICACAO',\n",
    "                'ID_CANAL',\n",
    "                'NM_CANAL',\n",
    "                'ID_CATEGORIA',\n",
    "                'ID_VIDEO',\n",
    "                'TITULO_VIDEO',\n",
    "                'DESCRICAO',\n",
    "                'TAGS',\n",
    "                f.explode('DURACAO_VIDEOS').alias('DURACAO_VIDEOS'),\n",
    "                'TOTAL_VISUALIZACOES',\n",
    "                'TOTAL_LIKES',\n",
    "                'TOTAL_FAVORITOS',\n",
    "                'TOTAL_COMENTARIOS',\n",
    "        ).select(\n",
    "                'data_extracao',\n",
    "                'DATA_PUBLICACAO',\n",
    "                'ID_CANAL',\n",
    "                'NM_CANAL',\n",
    "                'ID_CATEGORIA',\n",
    "                'ID_VIDEO',\n",
    "                'TITULO_VIDEO',\n",
    "                'DESCRICAO',\n",
    "                'TAGS',\n",
    "                'DURACAO_VIDEOS',\n",
    "                f.explode('TOTAL_VISUALIZACOES').alias('TOTAL_VISUALIZACOES'),\n",
    "                'TOTAL_LIKES',\n",
    "                'TOTAL_FAVORITOS',\n",
    "                'TOTAL_COMENTARIOS',\n",
    "        ).select(\n",
    "                'data_extracao',\n",
    "                'DATA_PUBLICACAO',\n",
    "                'ID_CANAL',\n",
    "                'NM_CANAL',\n",
    "                'ID_CATEGORIA',\n",
    "                'ID_VIDEO',\n",
    "                'TITULO_VIDEO',\n",
    "                'DESCRICAO',\n",
    "                'TAGS',\n",
    "                'DURACAO_VIDEOS',\n",
    "                'TOTAL_VISUALIZACOES',\n",
    "                f.explode('TOTAL_LIKES').alias('TOTAL_LIKES'),\n",
    "                'TOTAL_FAVORITOS',\n",
    "                'TOTAL_COMENTARIOS',\n",
    "        ).select(\n",
    "                'data_extracao',\n",
    "                'DATA_PUBLICACAO',\n",
    "                'ID_CANAL',\n",
    "                'NM_CANAL',\n",
    "                'ID_CATEGORIA',\n",
    "                'ID_VIDEO',\n",
    "                'TITULO_VIDEO',\n",
    "                'DESCRICAO',\n",
    "                'TAGS',\n",
    "                'DURACAO_VIDEOS',\n",
    "                'TOTAL_VISUALIZACOES',\n",
    "                'TOTAL_LIKES',\n",
    "                f.explode('TOTAL_FAVORITOS').alias('TOTAL_FAVORITOS'),\n",
    "                'TOTAL_COMENTARIOS',\n",
    "        ).select(\n",
    "                'data_extracao',\n",
    "                'DATA_PUBLICACAO',\n",
    "                'ID_CANAL',\n",
    "                'NM_CANAL',\n",
    "                'ID_CATEGORIA',\n",
    "                'ID_VIDEO',\n",
    "                'TITULO_VIDEO',\n",
    "                'DESCRICAO',\n",
    "                'TAGS',\n",
    "                'DURACAO_VIDEOS',\n",
    "                'TOTAL_VISUALIZACOES',\n",
    "                'TOTAL_LIKES',\n",
    "                'TOTAL_FAVORITOS',\n",
    "                f.explode('TOTAL_COMENTARIOS').alias('TOTAL_COMENTARIOS'),\n",
    "        )\n",
    "    dataframe_transform  = dataframe_transform.na.drop('all')\n",
    "    dataframe_transform = dataframe_transform.withColumn(\"data_hora_extracao\", f.col('data_extracao'))\n",
    "    dataframe_transform = dataframe_transform.withColumn(\"data_extracao\", f.date_format(f.unix_timestamp(\"data_extracao\", \"yyyy-MM-dd HH:mm:ss\").cast(\"timestamp\"), \"yyyy-MM-dd\"))\n",
    "    dataframe_transform = dataframe_transform.withColumn('DURACAO_VIDEO_SEGUNDOS', converter_segundos(f.col('DURACAO_VIDEOS')))\n",
    "    dataframe_transform = dataframe_transform.withColumn('TOTAL_VISUALIZACOES', f.col('TOTAL_VISUALIZACOES').cast('int'))\n",
    "    dataframe_transform = dataframe_transform.withColumn('TOTAL_LIKES', f.col('TOTAL_LIKES').cast('int'))\n",
    "    dataframe_transform = dataframe_transform.withColumn('TOTAL_FAVORITOS', f.col('TOTAL_FAVORITOS').cast('int'))\n",
    "    dataframe_transform = dataframe_transform.withColumn('TOTAL_COMENTARIOS', f.col('TOTAL_COMENTARIOS').cast('int'))\n",
    "    dataframe_transform = dataframe_transform.withColumn('TOTAL_CARACTERE_VIDEO', f.length('TITULO_VIDEO'))\n",
    "    dataframe_transform = dataframe_transform.withColumn('TOTAL_TAGS', f.when(f.size('TAGS') > 0, f.size('TAGS')).otherwise(0))\n",
    "    return dataframe_transform\n",
    "  "
   ]
  },
  {
   "cell_type": "code",
   "execution_count": 7,
   "metadata": {},
   "outputs": [],
   "source": [
    "@f.udf(returnType=t.StringType())\n",
    "def traduzir_dia_da_semana(dia):\n",
    "    traducao = {\n",
    "        'Sunday': 'Domingo',\n",
    "        'Monday': 'Segunda-feira',\n",
    "        'Tuesday': 'Terça-feira',\n",
    "        'Wednesday': 'Quarta-feira',\n",
    "        'Thursday': 'Quinta-feira',\n",
    "        'Friday': 'Sexta-feira',\n",
    "        'Saturday': 'Sábado'\n",
    "    }\n",
    "    return traducao.get(dia, dia)"
   ]
  },
  {
   "cell_type": "code",
   "execution_count": 8,
   "metadata": {},
   "outputs": [],
   "source": [
    "@f.udf(returnType=t.IntegerType())\n",
    "def indice_semana(dia):\n",
    "    traducao = {\n",
    "        'Domingo': 1,\n",
    "        'Segunda-feira': 2,\n",
    "        'Terça-feira': 3,\n",
    "        'Quarta-feira': 4,\n",
    "        'Quinta-feira': 5,\n",
    "        'Sexta-feira': 6,\n",
    "        'Sábado': 7\n",
    "    }\n",
    "    return traducao.get(dia, dia)"
   ]
  },
  {
   "cell_type": "code",
   "execution_count": 9,
   "metadata": {},
   "outputs": [
    {
     "data": {
      "text/plain": [
       "Column<'traduzir_dia_da_semana(Sunday)'>"
      ]
     },
     "execution_count": 9,
     "metadata": {},
     "output_type": "execute_result"
    }
   ],
   "source": [
    "traduzir_dia_da_semana('Sunday')"
   ]
  },
  {
   "cell_type": "code",
   "execution_count": 10,
   "metadata": {},
   "outputs": [
    {
     "name": "stderr",
     "output_type": "stream",
     "text": [
      "                                                                                \r"
     ]
    },
    {
     "name": "stdout",
     "output_type": "stream",
     "text": [
      "+-------------+--------------------+------------------------+---------------+------------+-----------+---------------------------------------------------------------------------------+--------------------------------------------------------------------------------------------------------------------------------------------------------------------------------------------------------------------------------------------------------------------------------------------------------------------------------------------------------------------------------------------------------------------------------+----+--------------+-------------------+-----------+---------------+-----------------+-------------------+----------------------+---------------------+----------+\n",
      "|data_extracao|DATA_PUBLICACAO     |ID_CANAL                |NM_CANAL       |ID_CATEGORIA|ID_VIDEO   |TITULO_VIDEO                                                                     |DESCRICAO                                                                                                                                                                                                                                                                                                                                                                                                                       |TAGS|DURACAO_VIDEOS|TOTAL_VISUALIZACOES|TOTAL_LIKES|TOTAL_FAVORITOS|TOTAL_COMENTARIOS|data_hora_extracao |DURACAO_VIDEO_SEGUNDOS|TOTAL_CARACTERE_VIDEO|TOTAL_TAGS|\n",
      "+-------------+--------------------+------------------------+---------------+------------+-----------+---------------------------------------------------------------------------------+--------------------------------------------------------------------------------------------------------------------------------------------------------------------------------------------------------------------------------------------------------------------------------------------------------------------------------------------------------------------------------------------------------------------------------+----+--------------+-------------------+-----------+---------------+-----------------+-------------------+----------------------+---------------------+----------+\n",
      "|2023-10-23   |2023-10-20T17:24:08Z|UCrOH1V-FyMunBIMrKL0y0xQ|ChratosGameplay|20          |-QaSHAsHQSs|CITIES SKYLINES 2: É PAU É PEDRA É A ECONOMIA DA CIDADE DO CHAT! (LINK DESCRIÇÃO)|LIVE SEG-SEX: https://www.twitch.tv/chratosgameplay\\n\\nApoie o canal/Padrim: https://www.padrim.com.br/chratosgameplay\\nDoe para suportar o canal: https://bityli.com/O8zJk\\nConverse com a gente/Discord: https://discord.gg/Wv64Sm5\\nReddit: https://www.reddit.com/r/ChratosGameplay/\\nInstagram: @chratosgameplay\\nPágina do Facebook: http://www.facebook.com/ChratosGameplay\\nTwitter: https://twitter.com/ChratosGameplay|null|P0D           |0                  |50         |0              |0                |2023-10-23 11:00:42|0                     |81                   |0         |\n",
      "|2023-10-21   |2023-10-20T17:24:08Z|UCrOH1V-FyMunBIMrKL0y0xQ|ChratosGameplay|20          |-QaSHAsHQSs|CITIES SKYLINES 2: É PAU É PEDRA É A ECONOMIA DA CIDADE DO CHAT! (LINK DESCRIÇÃO)|LIVE SEG-SEX: https://www.twitch.tv/chratosgameplay\\n\\nApoie o canal/Padrim: https://www.padrim.com.br/chratosgameplay\\nDoe para suportar o canal: https://bityli.com/O8zJk\\nConverse com a gente/Discord: https://discord.gg/Wv64Sm5\\nReddit: https://www.reddit.com/r/ChratosGameplay/\\nInstagram: @chratosgameplay\\nPágina do Facebook: http://www.facebook.com/ChratosGameplay\\nTwitter: https://twitter.com/ChratosGameplay|null|P0D           |0                  |49         |0              |0                |2023-10-21 20:00:32|0                     |81                   |0         |\n",
      "|2023-10-23   |2023-10-20T17:24:08Z|UCrOH1V-FyMunBIMrKL0y0xQ|ChratosGameplay|20          |-QaSHAsHQSs|CITIES SKYLINES 2: É PAU É PEDRA É A ECONOMIA DA CIDADE DO CHAT! (LINK DESCRIÇÃO)|LIVE SEG-SEX: https://www.twitch.tv/chratosgameplay\\n\\nApoie o canal/Padrim: https://www.padrim.com.br/chratosgameplay\\nDoe para suportar o canal: https://bityli.com/O8zJk\\nConverse com a gente/Discord: https://discord.gg/Wv64Sm5\\nReddit: https://www.reddit.com/r/ChratosGameplay/\\nInstagram: @chratosgameplay\\nPágina do Facebook: http://www.facebook.com/ChratosGameplay\\nTwitter: https://twitter.com/ChratosGameplay|null|P0D           |0                  |50         |0              |0                |2023-10-23 21:00:45|0                     |81                   |0         |\n",
      "|2023-10-21   |2023-10-20T17:24:08Z|UCrOH1V-FyMunBIMrKL0y0xQ|ChratosGameplay|20          |-QaSHAsHQSs|CITIES SKYLINES 2: É PAU É PEDRA É A ECONOMIA DA CIDADE DO CHAT! (LINK DESCRIÇÃO)|LIVE SEG-SEX: https://www.twitch.tv/chratosgameplay\\n\\nApoie o canal/Padrim: https://www.padrim.com.br/chratosgameplay\\nDoe para suportar o canal: https://bityli.com/O8zJk\\nConverse com a gente/Discord: https://discord.gg/Wv64Sm5\\nReddit: https://www.reddit.com/r/ChratosGameplay/\\nInstagram: @chratosgameplay\\nPágina do Facebook: http://www.facebook.com/ChratosGameplay\\nTwitter: https://twitter.com/ChratosGameplay|null|P0D           |0                  |48         |0              |0                |2023-10-21 16:01:36|0                     |81                   |0         |\n",
      "|2023-10-21   |2023-10-20T17:24:08Z|UCrOH1V-FyMunBIMrKL0y0xQ|ChratosGameplay|20          |-QaSHAsHQSs|CITIES SKYLINES 2: É PAU É PEDRA É A ECONOMIA DA CIDADE DO CHAT! (LINK DESCRIÇÃO)|LIVE SEG-SEX: https://www.twitch.tv/chratosgameplay\\n\\nApoie o canal/Padrim: https://www.padrim.com.br/chratosgameplay\\nDoe para suportar o canal: https://bityli.com/O8zJk\\nConverse com a gente/Discord: https://discord.gg/Wv64Sm5\\nReddit: https://www.reddit.com/r/ChratosGameplay/\\nInstagram: @chratosgameplay\\nPágina do Facebook: http://www.facebook.com/ChratosGameplay\\nTwitter: https://twitter.com/ChratosGameplay|null|P0D           |0                  |49         |0              |0                |2023-10-21 18:29:41|0                     |81                   |0         |\n",
      "|2023-10-23   |2023-10-20T17:24:08Z|UCrOH1V-FyMunBIMrKL0y0xQ|ChratosGameplay|20          |-QaSHAsHQSs|CITIES SKYLINES 2: É PAU É PEDRA É A ECONOMIA DA CIDADE DO CHAT! (LINK DESCRIÇÃO)|LIVE SEG-SEX: https://www.twitch.tv/chratosgameplay\\n\\nApoie o canal/Padrim: https://www.padrim.com.br/chratosgameplay\\nDoe para suportar o canal: https://bityli.com/O8zJk\\nConverse com a gente/Discord: https://discord.gg/Wv64Sm5\\nReddit: https://www.reddit.com/r/ChratosGameplay/\\nInstagram: @chratosgameplay\\nPágina do Facebook: http://www.facebook.com/ChratosGameplay\\nTwitter: https://twitter.com/ChratosGameplay|null|P0D           |0                  |50         |0              |0                |2023-10-23 17:00:50|0                     |81                   |0         |\n",
      "|2023-10-22   |2023-10-20T17:24:08Z|UCrOH1V-FyMunBIMrKL0y0xQ|ChratosGameplay|20          |-QaSHAsHQSs|CITIES SKYLINES 2: É PAU É PEDRA É A ECONOMIA DA CIDADE DO CHAT! (LINK DESCRIÇÃO)|LIVE SEG-SEX: https://www.twitch.tv/chratosgameplay\\n\\nApoie o canal/Padrim: https://www.padrim.com.br/chratosgameplay\\nDoe para suportar o canal: https://bityli.com/O8zJk\\nConverse com a gente/Discord: https://discord.gg/Wv64Sm5\\nReddit: https://www.reddit.com/r/ChratosGameplay/\\nInstagram: @chratosgameplay\\nPágina do Facebook: http://www.facebook.com/ChratosGameplay\\nTwitter: https://twitter.com/ChratosGameplay|null|P0D           |0                  |50         |0              |0                |2023-10-22 16:00:59|0                     |81                   |0         |\n",
      "|2023-10-21   |2023-10-20T17:24:08Z|UCrOH1V-FyMunBIMrKL0y0xQ|ChratosGameplay|20          |-QaSHAsHQSs|CITIES SKYLINES 2: É PAU É PEDRA É A ECONOMIA DA CIDADE DO CHAT! (LINK DESCRIÇÃO)|LIVE SEG-SEX: https://www.twitch.tv/chratosgameplay\\n\\nApoie o canal/Padrim: https://www.padrim.com.br/chratosgameplay\\nDoe para suportar o canal: https://bityli.com/O8zJk\\nConverse com a gente/Discord: https://discord.gg/Wv64Sm5\\nReddit: https://www.reddit.com/r/ChratosGameplay/\\nInstagram: @chratosgameplay\\nPágina do Facebook: http://www.facebook.com/ChratosGameplay\\nTwitter: https://twitter.com/ChratosGameplay|null|P0D           |0                  |49         |0              |0                |2023-10-21 22:00:34|0                     |81                   |0         |\n",
      "|2023-10-20   |2023-10-20T17:24:08Z|UCrOH1V-FyMunBIMrKL0y0xQ|ChratosGameplay|20          |-QaSHAsHQSs|CITIES SKYLINES 2: É PAU É PEDRA É A ECONOMIA DA CIDADE DO CHAT! (LINK DESCRIÇÃO)|LIVE SEG-SEX: https://www.twitch.tv/chratosgameplay\\n\\nApoie o canal/Padrim: https://www.padrim.com.br/chratosgameplay\\nDoe para suportar o canal: https://bityli.com/O8zJk\\nConverse com a gente/Discord: https://discord.gg/Wv64Sm5\\nReddit: https://www.reddit.com/r/ChratosGameplay/\\nInstagram: @chratosgameplay\\nPágina do Facebook: http://www.facebook.com/ChratosGameplay\\nTwitter: https://twitter.com/ChratosGameplay|null|P0D           |0                  |8          |0              |0                |2023-10-20 17:00:38|0                     |81                   |0         |\n",
      "|2023-10-21   |2023-10-20T17:24:08Z|UCrOH1V-FyMunBIMrKL0y0xQ|ChratosGameplay|20          |-QaSHAsHQSs|CITIES SKYLINES 2: É PAU É PEDRA É A ECONOMIA DA CIDADE DO CHAT! (LINK DESCRIÇÃO)|LIVE SEG-SEX: https://www.twitch.tv/chratosgameplay\\n\\nApoie o canal/Padrim: https://www.padrim.com.br/chratosgameplay\\nDoe para suportar o canal: https://bityli.com/O8zJk\\nConverse com a gente/Discord: https://discord.gg/Wv64Sm5\\nReddit: https://www.reddit.com/r/ChratosGameplay/\\nInstagram: @chratosgameplay\\nPágina do Facebook: http://www.facebook.com/ChratosGameplay\\nTwitter: https://twitter.com/ChratosGameplay|null|P0D           |0                  |48         |0              |0                |2023-10-21 17:00:31|0                     |81                   |0         |\n",
      "|2023-10-21   |2023-10-20T17:24:08Z|UCrOH1V-FyMunBIMrKL0y0xQ|ChratosGameplay|20          |-QaSHAsHQSs|CITIES SKYLINES 2: É PAU É PEDRA É A ECONOMIA DA CIDADE DO CHAT! (LINK DESCRIÇÃO)|LIVE SEG-SEX: https://www.twitch.tv/chratosgameplay\\n\\nApoie o canal/Padrim: https://www.padrim.com.br/chratosgameplay\\nDoe para suportar o canal: https://bityli.com/O8zJk\\nConverse com a gente/Discord: https://discord.gg/Wv64Sm5\\nReddit: https://www.reddit.com/r/ChratosGameplay/\\nInstagram: @chratosgameplay\\nPágina do Facebook: http://www.facebook.com/ChratosGameplay\\nTwitter: https://twitter.com/ChratosGameplay|null|P0D           |0                  |48         |0              |0                |2023-10-21 12:00:32|0                     |81                   |0         |\n",
      "|2023-10-21   |2023-10-20T17:24:08Z|UCrOH1V-FyMunBIMrKL0y0xQ|ChratosGameplay|20          |-QaSHAsHQSs|CITIES SKYLINES 2: É PAU É PEDRA É A ECONOMIA DA CIDADE DO CHAT! (LINK DESCRIÇÃO)|LIVE SEG-SEX: https://www.twitch.tv/chratosgameplay\\n\\nApoie o canal/Padrim: https://www.padrim.com.br/chratosgameplay\\nDoe para suportar o canal: https://bityli.com/O8zJk\\nConverse com a gente/Discord: https://discord.gg/Wv64Sm5\\nReddit: https://www.reddit.com/r/ChratosGameplay/\\nInstagram: @chratosgameplay\\nPágina do Facebook: http://www.facebook.com/ChratosGameplay\\nTwitter: https://twitter.com/ChratosGameplay|null|P0D           |0                  |48         |0              |0                |2023-10-21 15:10:13|0                     |81                   |0         |\n",
      "|2023-10-21   |2023-10-20T17:24:08Z|UCrOH1V-FyMunBIMrKL0y0xQ|ChratosGameplay|20          |-QaSHAsHQSs|CITIES SKYLINES 2: É PAU É PEDRA É A ECONOMIA DA CIDADE DO CHAT! (LINK DESCRIÇÃO)|LIVE SEG-SEX: https://www.twitch.tv/chratosgameplay\\n\\nApoie o canal/Padrim: https://www.padrim.com.br/chratosgameplay\\nDoe para suportar o canal: https://bityli.com/O8zJk\\nConverse com a gente/Discord: https://discord.gg/Wv64Sm5\\nReddit: https://www.reddit.com/r/ChratosGameplay/\\nInstagram: @chratosgameplay\\nPágina do Facebook: http://www.facebook.com/ChratosGameplay\\nTwitter: https://twitter.com/ChratosGameplay|null|P0D           |0                  |48         |0              |0                |2023-10-21 14:00:43|0                     |81                   |0         |\n",
      "|2023-10-22   |2023-10-20T17:24:08Z|UCrOH1V-FyMunBIMrKL0y0xQ|ChratosGameplay|20          |-QaSHAsHQSs|CITIES SKYLINES 2: É PAU É PEDRA É A ECONOMIA DA CIDADE DO CHAT! (LINK DESCRIÇÃO)|LIVE SEG-SEX: https://www.twitch.tv/chratosgameplay\\n\\nApoie o canal/Padrim: https://www.padrim.com.br/chratosgameplay\\nDoe para suportar o canal: https://bityli.com/O8zJk\\nConverse com a gente/Discord: https://discord.gg/Wv64Sm5\\nReddit: https://www.reddit.com/r/ChratosGameplay/\\nInstagram: @chratosgameplay\\nPágina do Facebook: http://www.facebook.com/ChratosGameplay\\nTwitter: https://twitter.com/ChratosGameplay|null|P0D           |0                  |50         |0              |0                |2023-10-22 17:00:51|0                     |81                   |0         |\n",
      "|2023-10-23   |2023-10-20T17:24:08Z|UCrOH1V-FyMunBIMrKL0y0xQ|ChratosGameplay|20          |-QaSHAsHQSs|CITIES SKYLINES 2: É PAU É PEDRA É A ECONOMIA DA CIDADE DO CHAT! (LINK DESCRIÇÃO)|LIVE SEG-SEX: https://www.twitch.tv/chratosgameplay\\n\\nApoie o canal/Padrim: https://www.padrim.com.br/chratosgameplay\\nDoe para suportar o canal: https://bityli.com/O8zJk\\nConverse com a gente/Discord: https://discord.gg/Wv64Sm5\\nReddit: https://www.reddit.com/r/ChratosGameplay/\\nInstagram: @chratosgameplay\\nPágina do Facebook: http://www.facebook.com/ChratosGameplay\\nTwitter: https://twitter.com/ChratosGameplay|null|P0D           |0                  |50         |0              |0                |2023-10-23 20:00:39|0                     |81                   |0         |\n",
      "|2023-10-21   |2023-10-20T17:24:08Z|UCrOH1V-FyMunBIMrKL0y0xQ|ChratosGameplay|20          |-QaSHAsHQSs|CITIES SKYLINES 2: É PAU É PEDRA É A ECONOMIA DA CIDADE DO CHAT! (LINK DESCRIÇÃO)|LIVE SEG-SEX: https://www.twitch.tv/chratosgameplay\\n\\nApoie o canal/Padrim: https://www.padrim.com.br/chratosgameplay\\nDoe para suportar o canal: https://bityli.com/O8zJk\\nConverse com a gente/Discord: https://discord.gg/Wv64Sm5\\nReddit: https://www.reddit.com/r/ChratosGameplay/\\nInstagram: @chratosgameplay\\nPágina do Facebook: http://www.facebook.com/ChratosGameplay\\nTwitter: https://twitter.com/ChratosGameplay|null|P0D           |0                  |48         |0              |0                |2023-10-21 11:12:25|0                     |81                   |0         |\n",
      "|2023-10-21   |2023-10-20T17:24:08Z|UCrOH1V-FyMunBIMrKL0y0xQ|ChratosGameplay|20          |-QaSHAsHQSs|CITIES SKYLINES 2: É PAU É PEDRA É A ECONOMIA DA CIDADE DO CHAT! (LINK DESCRIÇÃO)|LIVE SEG-SEX: https://www.twitch.tv/chratosgameplay\\n\\nApoie o canal/Padrim: https://www.padrim.com.br/chratosgameplay\\nDoe para suportar o canal: https://bityli.com/O8zJk\\nConverse com a gente/Discord: https://discord.gg/Wv64Sm5\\nReddit: https://www.reddit.com/r/ChratosGameplay/\\nInstagram: @chratosgameplay\\nPágina do Facebook: http://www.facebook.com/ChratosGameplay\\nTwitter: https://twitter.com/ChratosGameplay|null|P0D           |0                  |48         |0              |0                |2023-10-21 15:00:33|0                     |81                   |0         |\n",
      "|2023-10-20   |2023-10-20T17:24:08Z|UCrOH1V-FyMunBIMrKL0y0xQ|ChratosGameplay|20          |-QaSHAsHQSs|CITIES SKYLINES 2: É PAU É PEDRA É A ECONOMIA DA CIDADE DO CHAT! (LINK DESCRIÇÃO)|LIVE SEG-SEX: https://www.twitch.tv/chratosgameplay\\n\\nApoie o canal/Padrim: https://www.padrim.com.br/chratosgameplay\\nDoe para suportar o canal: https://bityli.com/O8zJk\\nConverse com a gente/Discord: https://discord.gg/Wv64Sm5\\nReddit: https://www.reddit.com/r/ChratosGameplay/\\nInstagram: @chratosgameplay\\nPágina do Facebook: http://www.facebook.com/ChratosGameplay\\nTwitter: https://twitter.com/ChratosGameplay|null|P0D           |0                  |2          |0              |0                |2023-10-20 15:00:49|0                     |81                   |0         |\n",
      "|2023-10-20   |2023-10-20T17:24:08Z|UCrOH1V-FyMunBIMrKL0y0xQ|ChratosGameplay|20          |-QaSHAsHQSs|CITIES SKYLINES 2: É PAU É PEDRA É A ECONOMIA DA CIDADE DO CHAT! (LINK DESCRIÇÃO)|LIVE SEG-SEX: https://www.twitch.tv/chratosgameplay\\n\\nApoie o canal/Padrim: https://www.padrim.com.br/chratosgameplay\\nDoe para suportar o canal: https://bityli.com/O8zJk\\nConverse com a gente/Discord: https://discord.gg/Wv64Sm5\\nReddit: https://www.reddit.com/r/ChratosGameplay/\\nInstagram: @chratosgameplay\\nPágina do Facebook: http://www.facebook.com/ChratosGameplay\\nTwitter: https://twitter.com/ChratosGameplay|null|P0D           |0                  |5          |0              |0                |2023-10-20 16:00:40|0                     |81                   |0         |\n",
      "|2023-10-21   |2023-10-20T17:24:08Z|UCrOH1V-FyMunBIMrKL0y0xQ|ChratosGameplay|20          |-QaSHAsHQSs|CITIES SKYLINES 2: É PAU É PEDRA É A ECONOMIA DA CIDADE DO CHAT! (LINK DESCRIÇÃO)|LIVE SEG-SEX: https://www.twitch.tv/chratosgameplay\\n\\nApoie o canal/Padrim: https://www.padrim.com.br/chratosgameplay\\nDoe para suportar o canal: https://bityli.com/O8zJk\\nConverse com a gente/Discord: https://discord.gg/Wv64Sm5\\nReddit: https://www.reddit.com/r/ChratosGameplay/\\nInstagram: @chratosgameplay\\nPágina do Facebook: http://www.facebook.com/ChratosGameplay\\nTwitter: https://twitter.com/ChratosGameplay|null|P0D           |0                  |48         |0              |0                |2023-10-21 13:00:32|0                     |81                   |0         |\n",
      "+-------------+--------------------+------------------------+---------------+------------+-----------+---------------------------------------------------------------------------------+--------------------------------------------------------------------------------------------------------------------------------------------------------------------------------------------------------------------------------------------------------------------------------------------------------------------------------------------------------------------------------------------------------------------------------+----+--------------+-------------------+-----------+---------------+-----------------+-------------------+----------------------+---------------------+----------+\n",
      "only showing top 20 rows\n",
      "\n"
     ]
    }
   ],
   "source": [
    "df_estatisticas_teste = carregar_dataframe_prata(spark_session=spark, assunto='assunto_cities_skylines', metrica='estatisticas')\n",
    "df_estatisticas_teste = transformacao_dataframe(df_estatisticas_teste)\n",
    "df_estatisticas_teste.sort('ID_VIDEO').show(truncate=False)"
   ]
  },
  {
   "cell_type": "markdown",
   "metadata": {},
   "source": [
    "<p>Depara Canal Vídeo</p>"
   ]
  },
  {
   "cell_type": "code",
   "execution_count": 11,
   "metadata": {},
   "outputs": [],
   "source": [
    "def construir_depara_canal(dataframe: DataFrame, assunto: str):\n",
    "    dataframe.select(\n",
    "        dataframe.ID_CANAL,\n",
    "        dataframe.NM_CANAL,\n",
    "        dataframe.ID_VIDEO,\n",
    "        dataframe.TITULO_VIDEO\n",
    "    ).distinct().sort('ID_CANAL').write.\\\n",
    "        parquet(f'/home/rodrigo/Documentos/projetos/open_weather_api_apache/analise_dados_youtube/data/projetos_youtube_v2/ouro/assunto_{assunto}/depara_canal.parquet')\n"
   ]
  },
  {
   "cell_type": "markdown",
   "metadata": {},
   "source": [
    "<p>O Número de comentários e likes gera mais views? </p>"
   ]
  },
  {
   "cell_type": "code",
   "execution_count": 12,
   "metadata": {},
   "outputs": [],
   "source": [
    "def gerar_relacao_like_comentario_view_favoritos(dataframe: SparkSession):\n",
    "    df_comentarios_likes = dataframe.select(\n",
    "        dataframe.data_hora_extracao,\n",
    "        dataframe.data_extracao,\n",
    "        dataframe.ID_CANAL,\n",
    "        dataframe.NM_CANAL,\n",
    "        dataframe.ID_VIDEO,\n",
    "        dataframe.TITULO_VIDEO,\n",
    "        dataframe.TAGS,\n",
    "        dataframe.TOTAL_VISUALIZACOES,\n",
    "        dataframe.TOTAL_LIKES,\n",
    "        dataframe.TOTAL_FAVORITOS,\n",
    "        dataframe.TOTAL_COMENTARIOS\n",
    "    ).filter(\n",
    "        # (df_estatisticas.data_extracao == '2023-10-27') &\n",
    "        (dataframe.TOTAL_VISUALIZACOES > 0) &\n",
    "        (dataframe.TOTAL_LIKES > 0) \n",
    "    ).sort(f.col('TOTAL_VISUALIZACOES').desc())\n",
    "    return df_comentarios_likes\n"
   ]
  },
  {
   "cell_type": "code",
   "execution_count": 13,
   "metadata": {},
   "outputs": [],
   "source": [
    "lista_assunto = [\n",
    "        'Power BI',\n",
    "        'Python AND dados',\n",
    "        'Cities Skylines',\n",
    "        'Cities Skylines 2'\n",
    "    ]"
   ]
  },
  {
   "cell_type": "markdown",
   "metadata": {},
   "source": [
    "<p>ETL PARA OBTER RELAÇÃO LIKES - COMENTÁRIOS - VÍDEOS</p>"
   ]
  },
  {
   "cell_type": "code",
   "execution_count": 17,
   "metadata": {},
   "outputs": [
    {
     "name": "stdout",
     "output_type": "stream",
     "text": [
      "ETL PARA  Power BI\n"
     ]
    },
    {
     "name": "stderr",
     "output_type": "stream",
     "text": [
      "                                                                                \r"
     ]
    },
    {
     "name": "stdout",
     "output_type": "stream",
     "text": [
      "ETL PARA  Python AND dados\n"
     ]
    },
    {
     "name": "stderr",
     "output_type": "stream",
     "text": [
      "                                                                                \r"
     ]
    },
    {
     "name": "stdout",
     "output_type": "stream",
     "text": [
      "ETL PARA  Cities Skylines\n"
     ]
    },
    {
     "name": "stderr",
     "output_type": "stream",
     "text": [
      "                                                                                \r"
     ]
    },
    {
     "name": "stdout",
     "output_type": "stream",
     "text": [
      "ETL PARA  Cities Skylines 2\n"
     ]
    },
    {
     "name": "stderr",
     "output_type": "stream",
     "text": [
      "                                                                                \r"
     ]
    }
   ],
   "source": [
    "\n",
    "for assunto in lista_assunto:\n",
    "    print('ETL PARA ', assunto)\n",
    "    assunto = assunto.replace(' ', '_').lower()\n",
    "    df_estatisticas_etl = carregar_dataframe_prata(\n",
    "        spark_session=spark, \n",
    "        assunto=f'assunto_{assunto}', \n",
    "        metrica='estatisticas')\n",
    "    \n",
    "    df_estatisticas_etl = transformacao_dataframe(df_estatisticas_etl)\n",
    "    criar_particao_ouro(dataframe=df_estatisticas_etl, \n",
    "                        assunto_pesquisa=f'assunto_{assunto}', \n",
    "        metrica='relacao_viusalicacao_comentario_likes',\n",
    "        colunas_particao=('data_extracao', 'ID_CANAL', 'ID_VIDEO'),\n",
    "        nome_arquivo='relacao_viusalicacao_comentario_likes.parquet',\n",
    "    )\n",
    "    construir_depara_canal(dataframe=df_estatisticas_etl, assunto=assunto)"
   ]
  },
  {
   "cell_type": "markdown",
   "metadata": {},
   "source": [
    "<p>Dia de publicação</p>"
   ]
  },
  {
   "cell_type": "markdown",
   "metadata": {},
   "source": [
    "<p>Públicações por semana</p>"
   ]
  },
  {
   "cell_type": "code",
   "execution_count": 14,
   "metadata": {},
   "outputs": [],
   "source": [
    "def obter_total_publicacao_video(dataframe : DataFrame) -> DataFrame:\n",
    "   dataframe =  dataframe.select(\n",
    "    'DATA_PUBLICACAO',\n",
    "    'ID_VIDEO'\n",
    "    ) \\\n",
    "        .sort('ID_VIDEO') \\\n",
    "        .withColumn(\n",
    "            'SEMANA_TRADUZIDA', \n",
    "            traduzir_dia_da_semana(\n",
    "                f.date_format('DATA_PUBLICACAO', 'EEEE')\n",
    "            )\n",
    "            ).distinct() \\\n",
    "                .groupBy('SEMANA_TRADUZIDA'). \\\n",
    "                    count(). \\\n",
    "                        alias('TOTAL_VIDEOS'). \\\n",
    "                            withColumn('INDICE_SEMANA', indice_semana('SEMANA_TRADUZIDA')) \\\n",
    "                    .sort('INDICE_SEMANA')\\\n",
    "                        .select('SEMANA_TRADUZIDA', f.col('TOTAL_VIDEOS.COUNT').alias('TOTAL_VIDEOS'))       \n",
    "   return dataframe"
   ]
  },
  {
   "cell_type": "code",
   "execution_count": 15,
   "metadata": {},
   "outputs": [
    {
     "name": "stderr",
     "output_type": "stream",
     "text": [
      "[Stage 2:=============================>                             (3 + 3) / 6]\r"
     ]
    },
    {
     "name": "stdout",
     "output_type": "stream",
     "text": [
      "+----------------+------------+\n",
      "|SEMANA_TRADUZIDA|TOTAL_VIDEOS|\n",
      "+----------------+------------+\n",
      "|         Domingo|          39|\n",
      "|   Segunda-feira|          43|\n",
      "|     Terça-feira|          51|\n",
      "|    Quarta-feira|          41|\n",
      "|    Quinta-feira|          49|\n",
      "|     Sexta-feira|          37|\n",
      "|          Sábado|          26|\n",
      "+----------------+------------+\n",
      "\n"
     ]
    },
    {
     "name": "stderr",
     "output_type": "stream",
     "text": [
      "                                                                                \r"
     ]
    }
   ],
   "source": [
    "obter_total_publicacao_video(df_estatisticas_teste).show()"
   ]
  },
  {
   "cell_type": "markdown",
   "metadata": {},
   "source": [
    "<p>ETL Para obter o total de vídeos públicado por semaba</p>"
   ]
  },
  {
   "cell_type": "code",
   "execution_count": 20,
   "metadata": {},
   "outputs": [
    {
     "name": "stdout",
     "output_type": "stream",
     "text": [
      "ETL PARA  Power BI\n"
     ]
    },
    {
     "name": "stderr",
     "output_type": "stream",
     "text": [
      "                                                                                \r"
     ]
    },
    {
     "name": "stdout",
     "output_type": "stream",
     "text": [
      "ETL PARA  Python AND dados\n",
      "ETL PARA  Cities Skylines\n",
      "ETL PARA  Cities Skylines 2\n"
     ]
    }
   ],
   "source": [
    "for assunto in lista_assunto:\n",
    "    print('ETL PARA ', assunto)\n",
    "    assunto = assunto.replace(' ', '_').lower()\n",
    "    df_estatisticas_etl = carregar_dataframe_prata(\n",
    "        spark_session=spark, \n",
    "        assunto=f'assunto_{assunto}', \n",
    "        metrica='estatisticas'\n",
    "        )\n",
    "    df_estatisticas_etl = transformacao_dataframe(df_estatisticas_etl)\n",
    "    df_estatisticas_etl = obter_total_publicacao_video(df_estatisticas_etl)\n",
    "    criar_particao_ouro(\n",
    "        dataframe=df_estatisticas_etl, \n",
    "        assunto_pesquisa=f'assunto_{assunto}', \n",
    "        metrica='total_video_publicado_semana',\n",
    "        nome_arquivo='total_video_publicado_semana.parquet',\n",
    "    )\n",
    "    \n",
    "    "
   ]
  },
  {
   "cell_type": "markdown",
   "metadata": {},
   "source": [
    "<p>Dia da semana com mais visualização</p>"
   ]
  },
  {
   "cell_type": "code",
   "execution_count": 15,
   "metadata": {},
   "outputs": [
    {
     "name": "stdout",
     "output_type": "stream",
     "text": [
      "+-------------+--------------------+--------------------+--------------------+------------+-----------+--------------------+--------------------+--------------------+--------------+-------------------+-----------+---------------+-----------------+-------------------+----------------------+---------------------+----------+\n",
      "|data_extracao|     DATA_PUBLICACAO|            ID_CANAL|            NM_CANAL|ID_CATEGORIA|   ID_VIDEO|        TITULO_VIDEO|           DESCRICAO|                TAGS|DURACAO_VIDEOS|TOTAL_VISUALIZACOES|TOTAL_LIKES|TOTAL_FAVORITOS|TOTAL_COMENTARIOS| data_hora_extracao|DURACAO_VIDEO_SEGUNDOS|TOTAL_CARACTERE_VIDEO|TOTAL_TAGS|\n",
      "+-------------+--------------------+--------------------+--------------------+------------+-----------+--------------------+--------------------+--------------------+--------------+-------------------+-----------+---------------+-----------------+-------------------+----------------------+---------------------+----------+\n",
      "|   2023-10-27|2023-10-24T00:50:04Z|UCNv3_KHnWEzLc3BC...|     Quinto Controle|          24|ozbFzsakdGw|Quinto Controle #...|Quinto Controle #...|                null|    PT2H23M38S|                 29|          7|              0|                1|2023-10-27 08:15:16|                  8618|                   90|         0|\n",
      "|   2023-10-27|2023-10-22T17:00:27Z|UCOe_x5ararWwWajB...|        O Veio Games|          20|lswkJnLdvHU|🎮 Imagina se dá ...|Vídeo Completo em...|[review, gameplay...|          PT1M|               2411|         84|              0|                0|2023-10-27 08:15:17|                    60|                   75|        31|\n",
      "|   2023-10-27|2023-10-19T14:24:13Z|UCrOH1V-FyMunBIMr...|     ChratosGameplay|          20|mfCGsYnClDU|CITIES SKYLINES 2...|LIVE SEG-SEX: htt...|                null|           P0D|                  0|        149|              0|                0|2023-10-27 08:15:17|                     0|                   88|         0|\n",
      "|   2023-10-27|2023-10-21T14:30:09Z|UCDGo_s0I-2JpO3o3...|          Simularies|          20|C1s-hsI9JaY|🏙️ PRIMEIRO BAIR...|⭐ Fala galera, be...|[simularies, citi...|       PT51M4S|               6667|        707|              0|               45|2023-10-27 08:15:17|                  3064|                   69|        21|\n",
      "|   2023-10-27|2023-10-18T14:24:18Z|UColWqaBtRa6AEyDe...|               MONTE|          20|my8vZ-tMzVs|MONTEZINHOSO MTA ...|-----------------...|[gta rp, mta, gta...|         PT48S|                104|          7|              0|                9|2023-10-27 08:15:17|                    48|                   32|        43|\n",
      "|   2023-10-27|2023-10-16T15:31:13Z|UCvEj9EurcC8q5hkV...|                Sr L|          20|EMJho5TI26w|HOTEIS DE L City ...|                    |[#shorts, #cities...|         PT58S|                 26|          2|              0|                1|2023-10-27 08:15:17|                    58|                   45|         5|\n",
      "|   2023-10-27|2023-10-25T21:00:07Z|UCn7w7H6jL0G3TNpV...|  Lives do IVDMALUCO|          20|Nfd7IGFBEhM|CITIES SKYLINES: ...|Salve esse é o Jo...|[cities skylines,...|    PT1H56M28S|                 28|          2|              0|                1|2023-10-27 08:15:17|                  6988|                   63|        27|\n",
      "|   2023-10-27|2023-10-16T16:00:08Z|UCOYJm7BsLV8VCkW2...|Lucas gameplays b...|          24|8p7ulXmubg8|Cities Skylines a...|garagem personali...|[euro truck 2, lu...|      PT17M35S|                 71|          2|              0|                0|2023-10-27 08:15:17|                  1055|                   69|        18|\n",
      "|   2023-10-27|2023-10-26T14:09:33Z|UCmCavIluxnSwtPRL...|       TTauros Gamer|          20|rCwCKTDaoV8|Cities: Skylines ...|Começando hoje um...|[citiesskylines2,...|       PT24M7S|                106|         22|              0|                7|2023-10-27 08:15:17|                  1447|                   55|        12|\n",
      "|   2023-10-27|2023-10-19T16:00:08Z|UCrUcdH_bCfX77xpX...|       Canal do Void|          20|ANa7la0wqNc|A Volta do Melhor...|★Série Completa: ...|[Cities Skylines ...|      PT35M36S|              21630|       2673|              0|               97|2023-10-27 08:15:17|                  2136|                   85|        21|\n",
      "|   2023-10-27|2023-10-19T19:00:24Z|UCp7gzkfbWE7jazP6...|      Ganso GamePlay|          20|tpBDkZWDK3o|Como Fazer Estaci...|Saaalve Saalveeee...|[cities skylines,...|      PT13M25S|                566|         22|              0|                0|2023-10-27 08:15:18|                   805|                   76|        20|\n",
      "|   2023-10-27|2023-10-19T20:51:18Z|UCoBbeu5bEvrJJDCC...|            Bruuninz|          20|rWncF2wcFWs|#47 ( MTA Highlig...|Iluminado Por Deu...|                null|       PT1M11S|                384|         31|              0|                9|2023-10-27 08:15:18|                    71|                   60|         0|\n",
      "|   2023-10-27|2023-10-22T04:05:12Z|UCDGo_s0I-2JpO3o3...|          Simularies|          20|YKCXBP9dZso|🏙️ Papeando e te...|⭐ Fala galera, be...|[simularies, citi...|    PT4H24M41S|               4766|        388|              0|                4|2023-10-27 08:15:18|                 15881|                   73|        21|\n",
      "|   2023-10-27|2023-10-25T16:55:39Z|UCEZ12_9vkxdT1BuZ...|               GxTec|          20|Z5JT2QG6vEI|COMO BAIXAR CITIE...|Vá até a steam\\nP...|[Cities Skylines ...|         PT13S|                 85|          2|              0|                1|2023-10-27 08:15:18|                    13|                   29|         4|\n",
      "|   2023-10-27|2023-10-25T15:07:10Z|UCrOH1V-FyMunBIMr...|     ChratosGameplay|          20|6RgEh-9KAgY|PREFEITURA E PREV...|Nossa PRIMEIRA CI...|[cities skylines,...|      PT26M53S|              41271|       5455|              0|              218|2023-10-27 08:15:18|                  1613|                   67|        31|\n",
      "|   2023-10-27|2023-10-26T18:25:00Z|UCayiH2Y5JBEOSubq...|    Lives do Chratos|          20|MEafMxF9AHc|Nosso novo DISTRI...|Leia a descrição ...|[Chratos, Chratos...|     PT1H7M49S|               3410|        225|              0|               10|2023-10-27 08:15:18|                  4069|                   57|        23|\n",
      "|   2023-10-27|2023-10-15T23:30:10Z|UC7v51W2NoLFawizg...|CANAL HAND - GAME...|          20|M34bccK5G1U|CITIES SKYLINES |...|- AJUDE O CANAL A...|[cities skylines,...|     PT3H55M5S|                 44|          4|              0|                1|2023-10-27 08:15:18|                 14105|                   64|        21|\n",
      "|   2023-10-27|2023-10-24T15:41:15Z|UCrOH1V-FyMunBIMr...|     ChratosGameplay|          20|V_d6T_UKRDg|CITIES SKYLINES 2...|LIVE SEG-SEX: htt...|                null|           P0D|                  0|         51|              0|                0|2023-10-27 08:15:18|                     0|                   87|         0|\n",
      "|   2023-10-27|2023-10-21T13:45:02Z|UCCe4Be21OPPltTTI...|           Octopolis|          20|gYl77Ot9oDU|ESTÁDIO Moderno (...|Hoje faço o estád...|[cities skylines,...|      PT36M29S|               3155|        493|              0|               71|2023-10-27 08:15:18|                  2189|                   89|        26|\n",
      "|   2023-10-27|2023-10-19T16:00:08Z|UCfY4ggUDPeecGSCN...|           MetalBear|          20|ykt0QE2XxP0|Finalmente GAMEPL...|⭐ Lives: http://m...|[metalbear, Citie...|      PT27M54S|              23658|       1874|              0|               99|2023-10-27 08:15:18|                  1674|                   74|        14|\n",
      "+-------------+--------------------+--------------------+--------------------+------------+-----------+--------------------+--------------------+--------------------+--------------+-------------------+-----------+---------------+-----------------+-------------------+----------------------+---------------------+----------+\n",
      "only showing top 20 rows\n",
      "\n"
     ]
    }
   ],
   "source": [
    "df_estatisticas_teste.show()"
   ]
  },
  {
   "cell_type": "code",
   "execution_count": 16,
   "metadata": {},
   "outputs": [],
   "source": [
    "@f.udf(returnType=t.StringType())\n",
    "def semana(indice: int) -> str:\n",
    "    semana = {\n",
    "        1: 'Domingo',\n",
    "        2: 'Segunda-feira',\n",
    "        3: 'Terça-feira',\n",
    "        4: 'Quarta-feira',\n",
    "        5: 'Quinta-feira',\n",
    "        6: 'Sexta-feira',\n",
    "        7: 'Sábado'\n",
    "    }\n",
    "    return semana.get(indice, indice)\n",
    "    "
   ]
  },
  {
   "cell_type": "markdown",
   "metadata": {},
   "source": [
    "<p>Vísualizações por semana</p>"
   ]
  },
  {
   "cell_type": "code",
   "execution_count": 24,
   "metadata": {},
   "outputs": [
    {
     "name": "stdout",
     "output_type": "stream",
     "text": [
      "+-------------+-------------------+\n",
      "|       SEMANA|TOTAL_VISUALIZACOES|\n",
      "+-------------+-------------------+\n",
      "|      Domingo|             525028|\n",
      "|Segunda-feira|             670037|\n",
      "|  Terça-feira|             799358|\n",
      "| Quarta-feira|             928146|\n",
      "| Quinta-feira|            1076002|\n",
      "|  Sexta-feira|            1185093|\n",
      "|       Sábado|             366474|\n",
      "+-------------+-------------------+\n",
      "\n"
     ]
    }
   ],
   "source": [
    "df_v_teste = df_estatisticas_teste\\\n",
    "    .select('data_extracao', 'ID_CANAL','ID_VIDEO', 'TOTAL_VISUALIZACOES') \\\n",
    "    .withColumn('INDICE_SEMANA', f.dayofweek('data_extracao'))  \\\n",
    "    .withColumn('SEMANA', semana('INDICE_SEMANA')) \\\n",
    "    .groupBy('SEMANA', 'ID_CANAL', 'ID_VIDEO')\\\n",
    "        .max('TOTAL_VISUALIZACOES')\\\n",
    "        .sort('SEMANA')\\\n",
    "        .withColumnRenamed('max(TOTAL_VISUALIZACOES)', 'MAX_TOTAL_VISUALIZACOES')\n",
    "\n",
    "df_v_testev2 = df_v_teste.withColumn('ISEMANA', indice_semana('SEMANA')) \\\n",
    "        .groupBy('ISEMANA', 'SEMANA') \\\n",
    "        .sum('MAX_TOTAL_VISUALIZACOES') \\\n",
    "        .sort('ISEMANA') \\\n",
    "    .withColumnRenamed('sum(MAX_TOTAL_VISUALIZACOES)', 'TOTAL_VISUALIZACOES')\n",
    "df_v_testev2 = df_v_testev2.drop('ISEMANA')\n",
    "df_v_testev2.show()"
   ]
  },
  {
   "cell_type": "code",
   "execution_count": 17,
   "metadata": {},
   "outputs": [],
   "source": [
    "def obter_total_visualizacoes_semana(dataframe: DataFrame) -> DataFrame:\n",
    "    df_v_teste = dataframe\\\n",
    "        .select('data_extracao', 'ID_CANAL','ID_VIDEO', 'TOTAL_VISUALIZACOES') \\\n",
    "        .withColumn('INDICE_SEMANA', f.dayofweek('data_extracao'))  \\\n",
    "        .withColumn('SEMANA', semana('INDICE_SEMANA')) \\\n",
    "        .groupBy('SEMANA', 'ID_CANAL', 'ID_VIDEO')\\\n",
    "            .max('TOTAL_VISUALIZACOES')\\\n",
    "            .sort('SEMANA')\\\n",
    "            .withColumnRenamed('max(TOTAL_VISUALIZACOES)', 'MAX_TOTAL_VISUALIZACOES')\n",
    "\n",
    "    df_v_testev2 = df_v_teste.withColumn('ISEMANA', indice_semana('SEMANA')) \\\n",
    "            .groupBy('ISEMANA','ID_CANAL','ID_VIDEO', 'SEMANA') \\\n",
    "            .sum('MAX_TOTAL_VISUALIZACOES') \\\n",
    "            .sort('ISEMANA') \\\n",
    "        .withColumnRenamed('sum(MAX_TOTAL_VISUALIZACOES)', 'TOTAL_VISUALIZACOES')\n",
    "    df_v_testev2 = df_v_testev2.drop('ISEMANA')\n",
    "    return df_v_testev2\n"
   ]
  },
  {
   "cell_type": "code",
   "execution_count": 18,
   "metadata": {},
   "outputs": [
    {
     "name": "stderr",
     "output_type": "stream",
     "text": [
      "[Stage 8:=======================================>                   (4 + 2) / 6]\r"
     ]
    },
    {
     "name": "stdout",
     "output_type": "stream",
     "text": [
      "+--------------------+-----------+-------+-------------------+\n",
      "|            ID_CANAL|   ID_VIDEO| SEMANA|TOTAL_VISUALIZACOES|\n",
      "+--------------------+-----------+-------+-------------------+\n",
      "|UCvEj9EurcC8q5hkV...|IWZZ9ejWCRA|Domingo|                 39|\n",
      "|UCkXA2EoaXRFW18vr...|zEHZpgrv3D8|Domingo|                 83|\n",
      "|UCDGo_s0I-2JpO3o3...|fTeqTuEHs7I|Domingo|              14582|\n",
      "|UCElNoZcxhVqDtZBS...|t4pfQW9O3Lw|Domingo|               2834|\n",
      "|UCTrNnXivZU_1-aJq...|WxbGu6RTIWg|Domingo|                 10|\n",
      "|UCayiH2Y5JBEOSubq...|FK-EYFdPqpA|Domingo|               3349|\n",
      "|UCi9Uzh14BHqkN7UO...|fSw3Cf2Olx0|Domingo|               1283|\n",
      "|UCayiH2Y5JBEOSubq...|RKa9PtQbAGQ|Domingo|              29665|\n",
      "|UC7v51W2NoLFawizg...|U3e8h9OgBEE|Domingo|                  6|\n",
      "|UC7v51W2NoLFawizg...|Ls3dVzGc4_E|Domingo|                 14|\n",
      "|UCrOH1V-FyMunBIMr...|up4KrHrRwLY|Domingo|              26784|\n",
      "|UCwBN6GQiolq3EkRP...|I8PSpoki4T0|Domingo|                144|\n",
      "|UCABm0SdJCoM6z0MF...|TL9F-IPreyU|Domingo|                 17|\n",
      "|UCMsbzwrSvRJoa0Jh...|g5qhNZNDYn4|Domingo|                111|\n",
      "|UCOe_x5ararWwWajB...|lswkJnLdvHU|Domingo|               1148|\n",
      "|UCe9jrI0YQ5SM6h5Q...|ShVmR8yQweU|Domingo|              32911|\n",
      "|UCEQkAgXk_T3sDMx9...|Ueq0IfDL1eQ|Domingo|                 62|\n",
      "|UCcn60fs5EMW8A_k9...|iDXdf9CBnZs|Domingo|                  0|\n",
      "|UCDqzBrUOm7guqqyU...|GliOd9Xpk94|Domingo|                  0|\n",
      "|UCrUcdH_bCfX77xpX...|fKctS-pM1tU|Domingo|               1361|\n",
      "+--------------------+-----------+-------+-------------------+\n",
      "only showing top 20 rows\n",
      "\n"
     ]
    },
    {
     "name": "stderr",
     "output_type": "stream",
     "text": [
      "                                                                                \r"
     ]
    }
   ],
   "source": [
    "obter_total_visualizacoes_semana(df_estatisticas_teste).show()"
   ]
  },
  {
   "cell_type": "markdown",
   "metadata": {},
   "source": [
    "<p>ETL Para visializações por semana<P>"
   ]
  },
  {
   "cell_type": "code",
   "execution_count": null,
   "metadata": {},
   "outputs": [
    {
     "name": "stdout",
     "output_type": "stream",
     "text": [
      "23/11/01 21:26:47 WARN Executor: Issue communicating with driver in heartbeater\n",
      "org.apache.spark.rpc.RpcTimeoutException: Futures timed out after [10000 milliseconds]. This timeout is controlled by spark.executor.heartbeatInterval\n",
      "\tat org.apache.spark.rpc.RpcTimeout.org$apache$spark$rpc$RpcTimeout$$createRpcTimeoutException(RpcTimeout.scala:47)\n",
      "\tat org.apache.spark.rpc.RpcTimeout$$anonfun$addMessageIfTimeout$1.applyOrElse(RpcTimeout.scala:62)\n",
      "\tat org.apache.spark.rpc.RpcTimeout$$anonfun$addMessageIfTimeout$1.applyOrElse(RpcTimeout.scala:58)\n",
      "\tat scala.runtime.AbstractPartialFunction.apply(AbstractPartialFunction.scala:38)\n",
      "\tat org.apache.spark.rpc.RpcTimeout.awaitResult(RpcTimeout.scala:76)\n",
      "\tat org.apache.spark.rpc.RpcEndpointRef.askSync(RpcEndpointRef.scala:103)\n",
      "\tat org.apache.spark.executor.Executor.reportHeartBeat(Executor.scala:1053)\n",
      "\tat org.apache.spark.executor.Executor.$anonfun$heartbeater$1(Executor.scala:238)\n",
      "\tat scala.runtime.java8.JFunction0$mcV$sp.apply(JFunction0$mcV$sp.java:23)\n",
      "\tat org.apache.spark.util.Utils$.logUncaughtExceptions(Utils.scala:2066)\n",
      "\tat org.apache.spark.Heartbeater$$anon$1.run(Heartbeater.scala:46)\n",
      "\tat java.util.concurrent.Executors$RunnableAdapter.call(Executors.java:511)\n",
      "\tat java.util.concurrent.FutureTask.runAndReset(FutureTask.java:308)\n",
      "\tat java.util.concurrent.ScheduledThreadPoolExecutor$ScheduledFutureTask.access$301(ScheduledThreadPoolExecutor.java:180)\n",
      "\tat java.util.concurrent.ScheduledThreadPoolExecutor$ScheduledFutureTask.run(ScheduledThreadPoolExecutor.java:294)\n",
      "\tat java.util.concurrent.ThreadPoolExecutor.runWorker(ThreadPoolExecutor.java:1149)\n",
      "\tat java.util.concurrent.ThreadPoolExecutor$Worker.run(ThreadPoolExecutor.java:624)\n",
      "\tat java.lang.Thread.run(Thread.java:750)\n",
      "Caused by: java.util.concurrent.TimeoutException: Futures timed out after [10000 milliseconds]\n",
      "\tat scala.concurrent.impl.Promise$DefaultPromise.ready(Promise.scala:259)\n",
      "\tat scala.concurrent.impl.Promise$DefaultPromise.result(Promise.scala:263)\n",
      "\tat org.apache.spark.util.ThreadUtils$.awaitResult(ThreadUtils.scala:293)\n",
      "\tat org.apache.spark.rpc.RpcTimeout.awaitResult(RpcTimeout.scala:75)\n",
      "\t... 13 more\n",
      "23/11/01 21:26:57 WARN Executor: Issue communicating with driver in heartbeater\n",
      "org.apache.spark.rpc.RpcTimeoutException: Futures timed out after [10000 milliseconds]. This timeout is controlled by spark.executor.heartbeatInterval\n",
      "\tat org.apache.spark.rpc.RpcTimeout.org$apache$spark$rpc$RpcTimeout$$createRpcTimeoutException(RpcTimeout.scala:47)\n",
      "\tat org.apache.spark.rpc.RpcTimeout$$anonfun$addMessageIfTimeout$1.applyOrElse(RpcTimeout.scala:62)\n",
      "\tat org.apache.spark.rpc.RpcTimeout$$anonfun$addMessageIfTimeout$1.applyOrElse(RpcTimeout.scala:58)\n",
      "\tat scala.runtime.AbstractPartialFunction.apply(AbstractPartialFunction.scala:38)\n",
      "\tat org.apache.spark.rpc.RpcTimeout.awaitResult(RpcTimeout.scala:76)\n",
      "\tat org.apache.spark.rpc.RpcEndpointRef.askSync(RpcEndpointRef.scala:103)\n",
      "\tat org.apache.spark.executor.Executor.reportHeartBeat(Executor.scala:1053)\n",
      "\tat org.apache.spark.executor.Executor.$anonfun$heartbeater$1(Executor.scala:238)\n",
      "\tat scala.runtime.java8.JFunction0$mcV$sp.apply(JFunction0$mcV$sp.java:23)\n",
      "\tat org.apache.spark.util.Utils$.logUncaughtExceptions(Utils.scala:2066)\n",
      "\tat org.apache.spark.Heartbeater$$anon$1.run(Heartbeater.scala:46)\n",
      "\tat java.util.concurrent.Executors$RunnableAdapter.call(Executors.java:511)\n",
      "\tat java.util.concurrent.FutureTask.runAndReset(FutureTask.java:308)\n",
      "\tat java.util.concurrent.ScheduledThreadPoolExecutor$ScheduledFutureTask.access$301(ScheduledThreadPoolExecutor.java:180)\n",
      "\tat java.util.concurrent.ScheduledThreadPoolExecutor$ScheduledFutureTask.run(ScheduledThreadPoolExecutor.java:294)\n",
      "\tat java.util.concurrent.ThreadPoolExecutor.runWorker(ThreadPoolExecutor.java:1149)\n",
      "\tat java.util.concurrent.ThreadPoolExecutor$Worker.run(ThreadPoolExecutor.java:624)\n",
      "\tat java.lang.Thread.run(Thread.java:750)\n",
      "Caused by: java.util.concurrent.TimeoutException: Futures timed out after [10000 milliseconds]\n",
      "\tat scala.concurrent.impl.Promise$DefaultPromise.ready(Promise.scala:259)\n",
      "\tat scala.concurrent.impl.Promise$DefaultPromise.result(Promise.scala:263)\n",
      "\tat org.apache.spark.util.ThreadUtils$.awaitResult(ThreadUtils.scala:293)\n",
      "\tat org.apache.spark.rpc.RpcTimeout.awaitResult(RpcTimeout.scala:75)\n",
      "\t... 13 more\n",
      "23/11/01 21:27:07 WARN Executor: Issue communicating with driver in heartbeater\n",
      "org.apache.spark.rpc.RpcTimeoutException: Futures timed out after [10000 milliseconds]. This timeout is controlled by spark.executor.heartbeatInterval\n",
      "\tat org.apache.spark.rpc.RpcTimeout.org$apache$spark$rpc$RpcTimeout$$createRpcTimeoutException(RpcTimeout.scala:47)\n",
      "\tat org.apache.spark.rpc.RpcTimeout$$anonfun$addMessageIfTimeout$1.applyOrElse(RpcTimeout.scala:62)\n",
      "\tat org.apache.spark.rpc.RpcTimeout$$anonfun$addMessageIfTimeout$1.applyOrElse(RpcTimeout.scala:58)\n",
      "\tat scala.runtime.AbstractPartialFunction.apply(AbstractPartialFunction.scala:38)\n",
      "\tat org.apache.spark.rpc.RpcTimeout.awaitResult(RpcTimeout.scala:76)\n",
      "\tat org.apache.spark.rpc.RpcEndpointRef.askSync(RpcEndpointRef.scala:103)\n",
      "\tat org.apache.spark.executor.Executor.reportHeartBeat(Executor.scala:1053)\n",
      "\tat org.apache.spark.executor.Executor.$anonfun$heartbeater$1(Executor.scala:238)\n",
      "\tat scala.runtime.java8.JFunction0$mcV$sp.apply(JFunction0$mcV$sp.java:23)\n",
      "\tat org.apache.spark.util.Utils$.logUncaughtExceptions(Utils.scala:2066)\n",
      "\tat org.apache.spark.Heartbeater$$anon$1.run(Heartbeater.scala:46)\n",
      "\tat java.util.concurrent.Executors$RunnableAdapter.call(Executors.java:511)\n",
      "\tat java.util.concurrent.FutureTask.runAndReset(FutureTask.java:308)\n",
      "\tat java.util.concurrent.ScheduledThreadPoolExecutor$ScheduledFutureTask.access$301(ScheduledThreadPoolExecutor.java:180)\n",
      "\tat java.util.concurrent.ScheduledThreadPoolExecutor$ScheduledFutureTask.run(ScheduledThreadPoolExecutor.java:294)\n",
      "\tat java.util.concurrent.ThreadPoolExecutor.runWorker(ThreadPoolExecutor.java:1149)\n",
      "\tat java.util.concurrent.ThreadPoolExecutor$Worker.run(ThreadPoolExecutor.java:624)\n",
      "\tat java.lang.Thread.run(Thread.java:750)\n",
      "Caused by: java.util.concurrent.TimeoutException: Futures timed out after [10000 milliseconds]\n",
      "\tat scala.concurrent.impl.Promise$DefaultPromise.ready(Promise.scala:259)\n",
      "\tat scala.concurrent.impl.Promise$DefaultPromise.result(Promise.scala:263)\n",
      "\tat org.apache.spark.util.ThreadUtils$.awaitResult(ThreadUtils.scala:293)\n",
      "\tat org.apache.spark.rpc.RpcTimeout.awaitResult(RpcTimeout.scala:75)\n",
      "\t... 13 more\n",
      "23/11/01 21:27:17 WARN Executor: Issue communicating with driver in heartbeater\n",
      "org.apache.spark.rpc.RpcTimeoutException: Futures timed out after [10000 milliseconds]. This timeout is controlled by spark.executor.heartbeatInterval\n",
      "\tat org.apache.spark.rpc.RpcTimeout.org$apache$spark$rpc$RpcTimeout$$createRpcTimeoutException(RpcTimeout.scala:47)\n",
      "\tat org.apache.spark.rpc.RpcTimeout$$anonfun$addMessageIfTimeout$1.applyOrElse(RpcTimeout.scala:62)\n",
      "\tat org.apache.spark.rpc.RpcTimeout$$anonfun$addMessageIfTimeout$1.applyOrElse(RpcTimeout.scala:58)\n",
      "\tat scala.runtime.AbstractPartialFunction.apply(AbstractPartialFunction.scala:38)\n",
      "\tat org.apache.spark.rpc.RpcTimeout.awaitResult(RpcTimeout.scala:76)\n",
      "\tat org.apache.spark.rpc.RpcEndpointRef.askSync(RpcEndpointRef.scala:103)\n",
      "\tat org.apache.spark.executor.Executor.reportHeartBeat(Executor.scala:1053)\n",
      "\tat org.apache.spark.executor.Executor.$anonfun$heartbeater$1(Executor.scala:238)\n",
      "\tat scala.runtime.java8.JFunction0$mcV$sp.apply(JFunction0$mcV$sp.java:23)\n",
      "\tat org.apache.spark.util.Utils$.logUncaughtExceptions(Utils.scala:2066)\n",
      "\tat org.apache.spark.Heartbeater$$anon$1.run(Heartbeater.scala:46)\n",
      "\tat java.util.concurrent.Executors$RunnableAdapter.call(Executors.java:511)\n",
      "\tat java.util.concurrent.FutureTask.runAndReset(FutureTask.java:308)\n",
      "\tat java.util.concurrent.ScheduledThreadPoolExecutor$ScheduledFutureTask.access$301(ScheduledThreadPoolExecutor.java:180)\n",
      "\tat java.util.concurrent.ScheduledThreadPoolExecutor$ScheduledFutureTask.run(ScheduledThreadPoolExecutor.java:294)\n",
      "\tat java.util.concurrent.ThreadPoolExecutor.runWorker(ThreadPoolExecutor.java:1149)\n",
      "\tat java.util.concurrent.ThreadPoolExecutor$Worker.run(ThreadPoolExecutor.java:624)\n",
      "\tat java.lang.Thread.run(Thread.java:750)\n",
      "Caused by: java.util.concurrent.TimeoutException: Futures timed out after [10000 milliseconds]\n",
      "\tat scala.concurrent.impl.Promise$DefaultPromise.ready(Promise.scala:259)\n",
      "\tat scala.concurrent.impl.Promise$DefaultPromise.result(Promise.scala:263)\n",
      "\tat org.apache.spark.util.ThreadUtils$.awaitResult(ThreadUtils.scala:293)\n",
      "\tat org.apache.spark.rpc.RpcTimeout.awaitResult(RpcTimeout.scala:75)\n",
      "\t... 13 more\n",
      "23/11/01 21:27:27 WARN Executor: Issue communicating with driver in heartbeater\n",
      "org.apache.spark.rpc.RpcTimeoutException: Futures timed out after [10000 milliseconds]. This timeout is controlled by spark.executor.heartbeatInterval\n",
      "\tat org.apache.spark.rpc.RpcTimeout.org$apache$spark$rpc$RpcTimeout$$createRpcTimeoutException(RpcTimeout.scala:47)\n",
      "\tat org.apache.spark.rpc.RpcTimeout$$anonfun$addMessageIfTimeout$1.applyOrElse(RpcTimeout.scala:62)\n",
      "\tat org.apache.spark.rpc.RpcTimeout$$anonfun$addMessageIfTimeout$1.applyOrElse(RpcTimeout.scala:58)\n",
      "\tat scala.runtime.AbstractPartialFunction.apply(AbstractPartialFunction.scala:38)\n",
      "\tat org.apache.spark.rpc.RpcTimeout.awaitResult(RpcTimeout.scala:76)\n",
      "\tat org.apache.spark.rpc.RpcEndpointRef.askSync(RpcEndpointRef.scala:103)\n",
      "\tat org.apache.spark.executor.Executor.reportHeartBeat(Executor.scala:1053)\n",
      "\tat org.apache.spark.executor.Executor.$anonfun$heartbeater$1(Executor.scala:238)\n",
      "\tat scala.runtime.java8.JFunction0$mcV$sp.apply(JFunction0$mcV$sp.java:23)\n",
      "\tat org.apache.spark.util.Utils$.logUncaughtExceptions(Utils.scala:2066)\n",
      "\tat org.apache.spark.Heartbeater$$anon$1.run(Heartbeater.scala:46)\n",
      "\tat java.util.concurrent.Executors$RunnableAdapter.call(Executors.java:511)\n",
      "\tat java.util.concurrent.FutureTask.runAndReset(FutureTask.java:308)\n",
      "\tat java.util.concurrent.ScheduledThreadPoolExecutor$ScheduledFutureTask.access$301(ScheduledThreadPoolExecutor.java:180)\n",
      "\tat java.util.concurrent.ScheduledThreadPoolExecutor$ScheduledFutureTask.run(ScheduledThreadPoolExecutor.java:294)\n",
      "\tat java.util.concurrent.ThreadPoolExecutor.runWorker(ThreadPoolExecutor.java:1149)\n",
      "\tat java.util.concurrent.ThreadPoolExecutor$Worker.run(ThreadPoolExecutor.java:624)\n",
      "\tat java.lang.Thread.run(Thread.java:750)\n",
      "Caused by: java.util.concurrent.TimeoutException: Futures timed out after [10000 milliseconds]\n",
      "\tat scala.concurrent.impl.Promise$DefaultPromise.ready(Promise.scala:259)\n",
      "\tat scala.concurrent.impl.Promise$DefaultPromise.result(Promise.scala:263)\n",
      "\tat org.apache.spark.util.ThreadUtils$.awaitResult(ThreadUtils.scala:293)\n",
      "\tat org.apache.spark.rpc.RpcTimeout.awaitResult(RpcTimeout.scala:75)\n",
      "\t... 13 more\n"
     ]
    }
   ],
   "source": [
    "for assunto in lista_assunto:\n",
    "    print('ETL PARA ', assunto)\n",
    "    assunto = assunto.replace(' ', '_').lower()\n",
    "    df_estatisticas_etl = carregar_dataframe_prata(\n",
    "        spark_session=spark, \n",
    "        assunto=f'assunto_{assunto}', \n",
    "        metrica='estatisticas'\n",
    "        )\n",
    "    df_estatisticas_etl = transformacao_dataframe(df_estatisticas_etl)\n",
    "    df_estatisticas_etl = obter_total_visualizacoes_semana(df_estatisticas_etl)\n",
    "    criar_particao_ouro(\n",
    "        dataframe=df_estatisticas_etl, \n",
    "        assunto_pesquisa=f'assunto_{assunto}', \n",
    "        metrica='total_visualizacao_por_semana',\n",
    "        colunas_particao=('ID_CANAL', 'ID_VIDEO'),\n",
    "        nome_arquivo='total_visualizacao_por_semana.parquet',\n",
    "    )"
   ]
  },
  {
   "cell_type": "markdown",
   "metadata": {},
   "source": [
    "<p>Comentários</p>"
   ]
  },
  {
   "cell_type": "code",
   "execution_count": 8,
   "metadata": {},
   "outputs": [
    {
     "name": "stderr",
     "output_type": "stream",
     "text": [
      "                                                                                \r"
     ]
    }
   ],
   "source": [
    "df_comentarios = carregar_dataframe_prata(\n",
    "        spark_session=spark, \n",
    "        assunto=f'assunto_power_bi', \n",
    "        metrica='comentarios'\n",
    ")"
   ]
  },
  {
   "cell_type": "code",
   "execution_count": 19,
   "metadata": {},
   "outputs": [],
   "source": [
    "def extrair_comentarios(dataframe: DataFrame) -> DataFrame:\n",
    "    dataframe = dataframe \\\n",
    "        .select('ID_CANAL', 'ID_COMENTARIO', 'ID_VIDEO', 'TEXTO_COMENTARIO')  \\\n",
    "        .distinct().sort('ID_VIDEO') \n",
    "    return dataframe\n",
    "# Ugw-AOQ6Kh-Qof2U9bd4AaABAg - Gl60rzPP9VQ"
   ]
  },
  {
   "cell_type": "code",
   "execution_count": 20,
   "metadata": {},
   "outputs": [
    {
     "ename": "NameError",
     "evalue": "name 'df_comentarios' is not defined",
     "output_type": "error",
     "traceback": [
      "\u001b[0;31m---------------------------------------------------------------------------\u001b[0m",
      "\u001b[0;31mNameError\u001b[0m                                 Traceback (most recent call last)",
      "\u001b[1;32m/home/rodrigo/Documentos/projetos/open_weather_api_apache/analise_dados_youtube/notebooks/tratamento_camada_gold.ipynb Célula 36\u001b[0m line \u001b[0;36m1\n\u001b[0;32m----> <a href='vscode-notebook-cell:/home/rodrigo/Documentos/projetos/open_weather_api_apache/analise_dados_youtube/notebooks/tratamento_camada_gold.ipynb#X50sZmlsZQ%3D%3D?line=0'>1</a>\u001b[0m extrair_comentarios(df_comentarios)\u001b[39m.\u001b[39mshow(truncate\u001b[39m=\u001b[39m\u001b[39mFalse\u001b[39;00m)\n",
      "\u001b[0;31mNameError\u001b[0m: name 'df_comentarios' is not defined"
     ]
    }
   ],
   "source": [
    "extrair_comentarios(df_comentarios).show(truncate=False)"
   ]
  },
  {
   "cell_type": "markdown",
   "metadata": {},
   "source": [
    "<p>Extacao comentário</p>"
   ]
  },
  {
   "cell_type": "code",
   "execution_count": 55,
   "metadata": {},
   "outputs": [
    {
     "name": "stdout",
     "output_type": "stream",
     "text": [
      "ETL PARA  Power BI\n"
     ]
    },
    {
     "name": "stderr",
     "output_type": "stream",
     "text": [
      "                                                                                \r"
     ]
    },
    {
     "name": "stdout",
     "output_type": "stream",
     "text": [
      "ETL PARA  Python AND dados\n"
     ]
    },
    {
     "name": "stderr",
     "output_type": "stream",
     "text": [
      "                                                                                \r"
     ]
    },
    {
     "name": "stdout",
     "output_type": "stream",
     "text": [
      "ETL PARA  Cities Skylines\n"
     ]
    },
    {
     "name": "stderr",
     "output_type": "stream",
     "text": [
      "                                                                                \r"
     ]
    },
    {
     "name": "stdout",
     "output_type": "stream",
     "text": [
      "ETL PARA  Cities Skylines 2\n"
     ]
    },
    {
     "name": "stderr",
     "output_type": "stream",
     "text": [
      "                                                                                \r"
     ]
    }
   ],
   "source": [
    "for assunto in lista_assunto:\n",
    "    print('ETL PARA ', assunto)\n",
    "    assunto = assunto.replace(' ', '_').lower()\n",
    "    df_comentarios = carregar_dataframe_prata(\n",
    "        spark_session=spark, \n",
    "        assunto=f'assunto_{assunto}', \n",
    "        metrica='comentarios'\n",
    "    )\n",
    "    df_comentarios = extrair_comentarios(df_comentarios)\n",
    "    criar_particao_ouro(\n",
    "        dataframe=df_comentarios, \n",
    "        assunto_pesquisa=f'assunto_{assunto}', \n",
    "        metrica='comentarios',\n",
    "        colunas_particao=('ID_CANAL', 'ID_VIDEO'),\n",
    "        nome_arquivo='comentarios.parquet',\n",
    "    )"
   ]
  },
  {
   "cell_type": "code",
   "execution_count": 42,
   "metadata": {},
   "outputs": [
    {
     "name": "stdout",
     "output_type": "stream",
     "text": [
      "ETL PARA  Power BI\n",
      "+--------------------+-----------------------+--------------------+\n",
      "|            ID_CANAL|ID_RESPOSTA_COMENTARIOS|               TEXTO|\n",
      "+--------------------+-----------------------+--------------------+\n",
      "|UC9LwSTLQx2V7G8wm...|   Ugwhxl0no2RAeQil5...|Que bom que gosto...|\n",
      "|UCRIafgU7_URCZXt6...|   Ugwj1EtcG0mvXTAD8...|Fixamos o link no...|\n",
      "|UCcinq1ymmAmhFZzy...|   UgwL2fH9cbxK2r1rS...|Morar em outro es...|\n",
      "|UCcuLEJUZy4jo9iFv...|   UgwsolFxkM_Atqem2...|excelente resulta...|\n",
      "|UC5K-TQsItHnNLjqY...|   UgyI2VHceNpu7WIXB...|@Renan Crepaldi m...|\n",
      "|UC5K-TQsItHnNLjqY...|   Ugy6NsljS1kOqH_hq...|          😅😂😂😂😂|\n",
      "|UCcuLEJUZy4jo9iFv...|   Ugzr3P1gMOLzP1toL...|Sucesso nessa nov...|\n",
      "|UCMdNR-VCYnozREcE...|   UgzqUvA2WxBkhxPcK...|Show de bola 👏 ?...|\n",
      "|UC_Fk7hHbl7vv_7K8...|   Ugy0n2RTLhGkN99mN...|Tic tic nervoso.....|\n",
      "|UCNaIAElKPANu-d7y...|   UgxZBrxtWkAf27eGv...|            Valeu 👊|\n",
      "|UCcuLEJUZy4jo9iFv...|   Ugzz8fu7K2qg7troM...|mostre clientes q...|\n",
      "|UCkSLAYplobH42Vri...|   UgwYcB7KTz3ur16Ef...|😃 O Power Query ...|\n",
      "|UCOcjS2ppQSqIsbMg...|   UgyYqxJwUWeqfJOu1...|Fala Raul, qual f...|\n",
      "|UCcuLEJUZy4jo9iFv...|   Ugzn2UXNEmTejVReN...|Alessandro, muito...|\n",
      "|UC5K-TQsItHnNLjqY...|   UgyI2VHceNpu7WIXB...|@Victor Silva cho...|\n",
      "|UCcinq1ymmAmhFZzy...|   UgzRK0EHNU3H0OY1O...|Eu também. Pois e...|\n",
      "|UCcinq1ymmAmhFZzy...|   UgxKd4_YRYZzTysVo...|Oi tem que fazer ...|\n",
      "|UCcinq1ymmAmhFZzy...|   UgyRhacydB5OQyXuu...|                  Up|\n",
      "|UCcuLEJUZy4jo9iFv...|   Ugx-r3KiiGQFjDp5e...|Gisele, obrigado ...|\n",
      "|UC_Fk7hHbl7vv_7K8...|   Ugy0n2RTLhGkN99mN...|                  🎉|\n",
      "+--------------------+-----------------------+--------------------+\n",
      "only showing top 20 rows\n",
      "\n"
     ]
    },
    {
     "name": "stderr",
     "output_type": "stream",
     "text": [
      "                                                                                \r"
     ]
    },
    {
     "name": "stdout",
     "output_type": "stream",
     "text": [
      "ETL PARA  Python AND dados\n",
      "+--------------------+-----------------------+--------------------+\n",
      "|            ID_CANAL|ID_RESPOSTA_COMENTARIOS|               TEXTO|\n",
      "+--------------------+-----------------------+--------------------+\n",
      "|UCI0hxWIdIqSuX_Mc...|   UgwJgDTz0smwkdqNc...|ahhh entendi amor...|\n",
      "|UCI0hxWIdIqSuX_Mc...|   UgxDKoO0iXTAmVQeV...|Sim! Eu tive prob...|\n",
      "|UCHQun4keJGrj8RqD...|   UgzF4-RDweWxeADBj...|Tanto esse como o...|\n",
      "|UCHQun4keJGrj8RqD...|   UgxMnYH4aeHhxl_wL...|                  🤪|\n",
      "|UCHQun4keJGrj8RqD...|   UgxP-lSfHC_bYd2z6...|Amém irmão uhauah...|\n",
      "|UCHQun4keJGrj8RqD...|   Ugyp3FWBeoXDVQhpE...|É só para não adm...|\n",
      "|UCHQun4keJGrj8RqD...|   UgzyQ483ipFD1QaxX...|                  Up|\n",
      "|UCxKAuN76I7bkAK0s...|   UgwSW7i2QtMp9_a71...|Jerry sempre em a...|\n",
      "|UCHQun4keJGrj8RqD...|   UgyDh7eOpm_CzAYXH...|Infelizmente muit...|\n",
      "|UCbww3yb1rObMQURa...|   UgzslhvQKbXLci09y...|Seloco!! Responsa...|\n",
      "|UCHQun4keJGrj8RqD...|   UgyyEs8p6jn4c-FAs...|@NarizHunter é me...|\n",
      "|UC_Fk7hHbl7vv_7K8...|   Ugy0n2RTLhGkN99mN...|Tic tic nervoso.....|\n",
      "|UCHQun4keJGrj8RqD...|   Ugyl431QFsj2Kalrg...|Ele ganhou uma gr...|\n",
      "|UCEQ12yB8QLw9pVOY...|   Ugxqj9O0QKO7zNkB4...|Pode me citar o l...|\n",
      "|UCEQ12yB8QLw9pVOY...|   Ugx414gLLe0Dk34fB...|Você não pode neg...|\n",
      "|UCEQ12yB8QLw9pVOY...|   UgwLdYpd_u_beqpd6...|Eu estava vendo o...|\n",
      "|UCkfyKm2S5eSurJDt...|   UgwickGe_2Pi-ZtYw...|      Boa indicação!|\n",
      "|UCEQ12yB8QLw9pVOY...|   Ugx414gLLe0Dk34fB...|Errado!!!! A inqu...|\n",
      "|UCEQ12yB8QLw9pVOY...|   UgzXKksf2TW5E6hS6...|               *fake|\n",
      "|UC_tDwYyB0p2AT7sZ...|   UgxBlvsF5Kl6Ly66O...|                💜🚀|\n",
      "+--------------------+-----------------------+--------------------+\n",
      "only showing top 20 rows\n",
      "\n"
     ]
    },
    {
     "name": "stderr",
     "output_type": "stream",
     "text": [
      "                                                                                \r"
     ]
    },
    {
     "name": "stdout",
     "output_type": "stream",
     "text": [
      "ETL PARA  Cities Skylines\n",
      "+--------------------+-----------------------+--------------------+\n",
      "|            ID_CANAL|ID_RESPOSTA_COMENTARIOS|               TEXTO|\n",
      "+--------------------+-----------------------+--------------------+\n",
      "|UCrOH1V-FyMunBIMr...|   Ugx8DgeGGf2r7HsrP...|Estacionamentos t...|\n",
      "|UCrOH1V-FyMunBIMr...|   Ugwtb0MSIh1mdFeTh...|Se n tiver 8 de v...|\n",
      "|UCrOH1V-FyMunBIMr...|   UgwH8BtufUQtS-tu5...|@Jonas D. não tem...|\n",
      "|UCOYJm7BsLV8VCkW2...|   UgxLOUCbBhD4HL3sa...|opa vlw pela dica...|\n",
      "|UCfY4ggUDPeecGSCN...|   Ugw3e2uRx3JdCpOc5...|vai rodar, mas em...|\n",
      "|UCrOH1V-FyMunBIMr...|   UgyZb7P9u-CJDa1ea...|caaaara, duas pes...|\n",
      "|UC1mk6EtfMjxR4eEZ...|   Ugxc6yLDT9g3poSTo...|Estamos muito fel...|\n",
      "|UCEfL_pp3h8Ul-LIL...|   UgwaCYf5yEODk4GRg...|           Ficou sim|\n",
      "|UCe9jrI0YQ5SM6h5Q...|   Ugy4mQXLiT6PUO3EN...|Na descrição do v...|\n",
      "|UCDGo_s0I-2JpO3o3...|   UgwUXGu9W-P0HawBD...|Oi Paulo! Bem vin...|\n",
      "|UCZJCKa3l5khIWKLJ...|   UgwQ8QssIOdGWE2ng...|            😍😍😍😍|\n",
      "|UCrOH1V-FyMunBIMr...|   UgwqhnbIKxhwusa6W...|Suspeito a redovi...|\n",
      "|UCrHD7gi1dsYJxd5m...|   UgwkHTtcumFqoCxJT...|          Obrigadooo|\n",
      "|UCrOH1V-FyMunBIMr...|   UgyI--hUg0boHKo_R...|​@Pablo Rodrigues...|\n",
      "|UCfY4ggUDPeecGSCN...|   UgyinSqqQm8AElB7A...|Cara, eu vou comp...|\n",
      "|UCrOH1V-FyMunBIMr...|   UgzdC-GoPYlBm1QYO...|não compre agora,...|\n",
      "|UCEc5jA0NvvR-yJC0...|   UgxXgWLksXhddT8xi...|Obrigado mano! Vl...|\n",
      "|UCrOH1V-FyMunBIMr...|   UgzANBoWT8fsEjZbe...|acho q ele não pe...|\n",
      "|UCfY4ggUDPeecGSCN...|   UgzWpIl51EHPb3wsx...|Ele não pode recl...|\n",
      "|UCrOH1V-FyMunBIMr...|   UgxdyVex8HinQdQ7Q...|​@Cultosaurus Ere...|\n",
      "+--------------------+-----------------------+--------------------+\n",
      "only showing top 20 rows\n",
      "\n"
     ]
    },
    {
     "name": "stderr",
     "output_type": "stream",
     "text": [
      "                                                                                \r"
     ]
    },
    {
     "name": "stdout",
     "output_type": "stream",
     "text": [
      "ETL PARA  Cities Skylines 2\n",
      "+--------------------+-----------------------+--------------------+\n",
      "|            ID_CANAL|ID_RESPOSTA_COMENTARIOS|               TEXTO|\n",
      "+--------------------+-----------------------+--------------------+\n",
      "|UCrOH1V-FyMunBIMr...|   Ugx8DgeGGf2r7HsrP...|Estacionamentos t...|\n",
      "|UCrOH1V-FyMunBIMr...|   Ugwtb0MSIh1mdFeTh...|Se n tiver 8 de v...|\n",
      "|UCrOH1V-FyMunBIMr...|   UgwH8BtufUQtS-tu5...|@Jonas D. não tem...|\n",
      "|UCOYJm7BsLV8VCkW2...|   UgxLOUCbBhD4HL3sa...|opa vlw pela dica...|\n",
      "|UCfY4ggUDPeecGSCN...|   Ugw3e2uRx3JdCpOc5...|vai rodar, mas em...|\n",
      "|UCrOH1V-FyMunBIMr...|   UgyZb7P9u-CJDa1ea...|caaaara, duas pes...|\n",
      "|UC1mk6EtfMjxR4eEZ...|   Ugxc6yLDT9g3poSTo...|Estamos muito fel...|\n",
      "|UCEfL_pp3h8Ul-LIL...|   UgwaCYf5yEODk4GRg...|           Ficou sim|\n",
      "|UCe9jrI0YQ5SM6h5Q...|   Ugy4mQXLiT6PUO3EN...|Na descrição do v...|\n",
      "|UCDGo_s0I-2JpO3o3...|   UgwUXGu9W-P0HawBD...|Oi Paulo! Bem vin...|\n",
      "|UCZJCKa3l5khIWKLJ...|   UgwQ8QssIOdGWE2ng...|            😍😍😍😍|\n",
      "|UCrOH1V-FyMunBIMr...|   UgwqhnbIKxhwusa6W...|Suspeito a redovi...|\n",
      "|UCrOH1V-FyMunBIMr...|   UgyI--hUg0boHKo_R...|​@Pablo Rodrigues...|\n",
      "|UCfY4ggUDPeecGSCN...|   UgyinSqqQm8AElB7A...|Cara, eu vou comp...|\n",
      "|UCrOH1V-FyMunBIMr...|   UgzdC-GoPYlBm1QYO...|não compre agora,...|\n",
      "|UCrOH1V-FyMunBIMr...|   UgzANBoWT8fsEjZbe...|acho q ele não pe...|\n",
      "|UCfY4ggUDPeecGSCN...|   UgzWpIl51EHPb3wsx...|Ele não pode recl...|\n",
      "|UCrOH1V-FyMunBIMr...|   UgxdyVex8HinQdQ7Q...|​@Cultosaurus Ere...|\n",
      "|UCrOH1V-FyMunBIMr...|   UgyI--hUg0boHKo_R...|quando tiver com ...|\n",
      "|UCJYFuFymG6_6TLUx...|   UgzektWeMdeathsWB...|Boaa!@Allysson St...|\n",
      "+--------------------+-----------------------+--------------------+\n",
      "only showing top 20 rows\n",
      "\n"
     ]
    },
    {
     "name": "stderr",
     "output_type": "stream",
     "text": [
      "                                                                                \r"
     ]
    }
   ],
   "source": [
    "for assunto in lista_assunto:\n",
    "    print('ETL PARA ', assunto)\n",
    "    assunto = assunto.replace(' ', '_').lower()\n",
    "\n",
    "    df_resposta_comentarios = carregar_dataframe_prata(\n",
    "        assunto=f'assunto_{assunto}',\n",
    "        spark_session=spark,\n",
    "        metrica='resposta_comentarios'\n",
    "    )   \n",
    "\n",
    "\n",
    "    df_resposta_comentarios = df_resposta_comentarios.select(\n",
    "        'ID_CANAL', \n",
    "        'ID_RESPOSTA_COMENTARIOS', \n",
    "        'TEXTO').withColumnRenamed(\n",
    "            'ID_CANAL', 'ID_CANAL'\n",
    "        ).distinct()\n",
    "    \n",
    "\n",
    "    # df_resposta_comentarios = df_resposta_comentarios \\\n",
    "    #     .select('ID_CANAL', 'ID_RESPOSTA_COMENTARIOS', 'TEXTO')\\\n",
    "    #     .withColumnRenamed('CABAK', \"IDCANAL\") \\\n",
    "    #     .distinct()\n",
    "    # df_resposta_comentarios.show()\n",
    "    criar_particao_ouro(\n",
    "        dataframe=df_resposta_comentarios, \n",
    "        assunto_pesquisa=f'assunto_{assunto}', \n",
    "        metrica='reposta_comentarios',\n",
    "        colunas_particao=('ID_CANAL', 'ID_RESPOSTA_COMENTARIOS'),\n",
    "        nome_arquivo='reposta_comentarios.parquet',\n",
    "    )"
   ]
  },
  {
   "cell_type": "code",
   "execution_count": 62,
   "metadata": {},
   "outputs": [
    {
     "name": "stderr",
     "output_type": "stream",
     "text": [
      "[Stage 149:============================>                            (3 + 3) / 6]\r"
     ]
    },
    {
     "name": "stdout",
     "output_type": "stream",
     "text": [
      "+------------------------+-------------------------------------------------+------------------------------------------------------------------------------------------------------------------------------------------------------------------------------------------------------------------------------------------------------------------------------------------------------------------------------+\n",
      "|ID_CANAL                |ID_RESPOSTA_COMENTARIOS                          |TEXTO                                                                                                                                                                                                                                                                                                                         |\n",
      "+------------------------+-------------------------------------------------+------------------------------------------------------------------------------------------------------------------------------------------------------------------------------------------------------------------------------------------------------------------------------------------------------------------------------+\n",
      "|UCrOH1V-FyMunBIMrKL0y0xQ|Ugx8DgeGGf2r7HsrPKF4AaABAg.9wIQXTxKNt89wIS3ElEr83|Estacionamentos tambem ajuda                                                                                                                                                                                                                                                                                                  |\n",
      "|UCrOH1V-FyMunBIMrKL0y0xQ|Ugwtb0MSIh1mdFeTh6d4AaABAg.9w86ovG3Icp9w87GkRV32Y|Se n tiver 8 de vram nem pensa em joga esse cs                                                                                                                                                                                                                                                                                |\n",
      "|UCrOH1V-FyMunBIMrKL0y0xQ|UgwH8BtufUQtS-tu5sB4AaABAg.9wNdglYn5bu9wNlPgsU-y3|@Jonas D. não tem nada a ver, os acidentes são um problema sério, mas de acordo com o problema que o charuto fala é a IA nova que citei acima                                                                                                                                                                                 |\n",
      "|UCOYJm7BsLV8VCkW2DC1MI5w|UgxLOUCbBhD4HL3sa-l4AaABAg.9w37sKiEBxV9w3N2AWTu_t|opa vlw pela dica, realmente essa cidade ja n consegue crescer , vou tentar salvar ela                                                                                                                                                                                                                                        |\n",
      "|UCfY4ggUDPeecGSCNePyyVSA|Ugw3e2uRx3JdCpOc51d4AaABAg.9w5HQkRZ8MC9w5NUnxyu6d|vai rodar, mas em 1080 com gráficos no baixo e sem alguns elementos visuais tipo sombra                                                                                                                                                                                                                                       |\n",
      "|UCrOH1V-FyMunBIMrKL0y0xQ|UgyZb7P9u-CJDa1eadZ4AaABAg.9wAiCw_KBtg9wBUgZ_GhKq|caaaara, duas pessoas totalmente diferentes kkkkkkkkkkkkkk                                                                                                                                                                                                                                                                    |\n",
      "|UC1mk6EtfMjxR4eEZ7C43zTQ|Ugxc6yLDT9g3poSToUN4AaABAg.9w1U3Nb84un9w3lZWJsU4L|Estamos muito felizes com a resposta de vocês. Rumo a próxima meta !                                                                                                                                                                                                                                                          |\n",
      "|UCEfL_pp3h8Ul-LIL1C4o34w|UgwaCYf5yEODk4GRgAh4AaABAg.9w5UCRWvjcC9w6ExrORlpo|Ficou sim                                                                                                                                                                                                                                                                                                                     |\n",
      "|UCe9jrI0YQ5SM6h5QRZ9FZlA|Ugy4mQXLiT6PUO3EN214AaABAg.9wAScQ5aFWH9wAUGdk7G4n|Na descrição do vídeo tem as configurações do PC dele.                                                                                                                                                                                                                                                                        |\n",
      "|UCDGo_s0I-2JpO3o3xlkMQVA|UgwUXGu9W-P0HawBDqV4AaABAg.9w54xCih8Jb9w6OEB7knvP|Oi Paulo! Bem vindo por aqui querido! O nome do canal é uma mistura de duas palavras: Simulação, que é meu gênero de jogo preferido, e Áries, que é meu signo e apesar de eu não acreditar muito nisso bastante gente fala que sou muito do que falam de áries então pela brincadeira eu coloquei as duas misturadas hahaha :)|\n",
      "|UCZJCKa3l5khIWKLJI2j4KzA|UgwQ8QssIOdGWE2ngIJ4AaABAg.9wM192BxQ8J9wMCURBp_dp|😍😍😍😍                                                                                                                                                                                                                                                                                                                      |\n",
      "|UCrOH1V-FyMunBIMrKL0y0xQ|UgwqhnbIKxhwusa6WOZ4AaABAg.9w0T6ZU7FK_9w0TCDy23F0|Suspeito a redoviaria                                                                                                                                                                                                                                                                                                         |\n",
      "|UCrHD7gi1dsYJxd5mwLUBcMA|UgwkHTtcumFqoCxJTLd4AaABAg.9w9y-s6saGn9wAe_ZLkk1n|Obrigadooo                                                                                                                                                                                                                                                                                                                    |\n",
      "|UCrOH1V-FyMunBIMrKL0y0xQ|UgyI--hUg0boHKo_R4p4AaABAg.9w87aHO-Vk29w8LO61MxLI|​@Pablo Rodriguesele não ignorou apenas dise que não era viável mudar agora e também não tinha espaço                                                                                                                                                                                                                         |\n",
      "|UCfY4ggUDPeecGSCNePyyVSA|UgyinSqqQm8AElB7A7V4AaABAg.9w5nun4sV1r9w8-XSJSR82|Cara, eu vou comprar só por causa disso. Vou comprar mas não vou jogar. Vou comprar só pra garantir o valor baixo. Pq depois eles vão aumentar. Então vou deixar ele \"guardado\"                                                                                                                                               |\n",
      "|UCrOH1V-FyMunBIMrKL0y0xQ|UgzdC-GoPYlBm1QYO014AaABAg.9wNb0vQEE3W9wNgbOp-JUJ|não compre agora, baixei pelo game pass, tenho uma rx5600xt, tava jogando 1080p  de boa, mas agora ta crashando quando tento entrar no jogo                                                                                                                                                                                   |\n",
      "|UCEc5jA0NvvR-yJC0SISV6nw|UgxXgWLksXhddT8xijl4AaABAg.9vwdOdAotP39vwdxk4Nv2N|Obrigado mano! Vlw por seu apoio!                                                                                                                                                                                                                                                                                             |\n",
      "|UCrOH1V-FyMunBIMrKL0y0xQ|UgzANBoWT8fsEjZbeTJ4AaABAg.9w8IxpUkE0r9w8QHhgrims|acho q ele não pesquisou                                                                                                                                                                                                                                                                                                      |\n",
      "|UCfY4ggUDPeecGSCNePyyVSA|UgzWpIl51EHPb3wsxpN4AaABAg.9w5pAg8BCVx9w5wwNdLnCV|Ele não pode reclamar e avisar a comunidade só porque a Colossal já avisou?\\nNão entendi o seu ponto. E isso não é só ele, todo mundo de acesso antecipado tá falando sobre o problema.                                                                                                                                       |\n",
      "|UCrOH1V-FyMunBIMrKL0y0xQ|UgxdyVex8HinQdQ7QyZ4AaABAg.9vtg-CDu61r9vv6xwHcOWt|​@Cultosaurus Erectuskkkkkkkkkkkk                                                                                                                                                                                                                                                                                             |\n",
      "+------------------------+-------------------------------------------------+------------------------------------------------------------------------------------------------------------------------------------------------------------------------------------------------------------------------------------------------------------------------------------------------------------------------------+\n",
      "only showing top 20 rows\n",
      "\n"
     ]
    },
    {
     "name": "stderr",
     "output_type": "stream",
     "text": [
      "                                                                                \r"
     ]
    }
   ],
   "source": [
    "df_resposta_comentarios.select('ID_CANAL', 'ID_RESPOSTA_COMENTARIOS', 'TEXTO').distinct().show(truncate=False)"
   ]
  },
  {
   "cell_type": "code",
   "execution_count": 73,
   "metadata": {},
   "outputs": [
    {
     "name": "stdout",
     "output_type": "stream",
     "text": [
      "root\n",
      " |-- ID_CANAL: string (nullable = true)\n",
      " |-- ID_RESPOSTA_COMENTARIOS: string (nullable = true)\n",
      " |-- TEXTO: string (nullable = true)\n",
      "\n"
     ]
    }
   ],
   "source": [
    "df_resposta_comentarios.printSchema()"
   ]
  }
 ],
 "metadata": {
  "kernelspec": {
   "display_name": "venv",
   "language": "python",
   "name": "python3"
  },
  "language_info": {
   "codemirror_mode": {
    "name": "ipython",
    "version": 3
   },
   "file_extension": ".py",
   "mimetype": "text/x-python",
   "name": "python",
   "nbconvert_exporter": "python",
   "pygments_lexer": "ipython3",
   "version": "3.10.12"
  }
 },
 "nbformat": 4,
 "nbformat_minor": 2
}
