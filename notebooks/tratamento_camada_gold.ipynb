{
 "cells": [
  {
   "cell_type": "code",
   "execution_count": 74,
   "metadata": {},
   "outputs": [],
   "source": [
    "from pyspark.sql import SparkSession, DataFrame\n",
    "import pyspark.sql.functions as f\n",
    "from isodate import parse_duration\n",
    "import pyspark.sql.types as t\n",
    "from typing import Tuple\n",
    "import os"
   ]
  },
  {
   "cell_type": "code",
   "execution_count": 27,
   "metadata": {},
   "outputs": [],
   "source": [
    "@f.udf(returnType=t.IntegerType())\n",
    "def converter_segundos(tempo: str) -> int:\n",
    "    \"\"\"Converte para o total de seguntos\n",
    "\n",
    "    Args:\n",
    "        tempo (str): tempo\n",
    "\n",
    "    Returns:\n",
    "        int: total segundos\n",
    "    \"\"\"\n",
    "    duracao = parse_duration(tempo)\n",
    "    total_minutes = duracao.total_seconds() \n",
    "   \n",
    "    return int(total_minutes)\n"
   ]
  },
  {
   "cell_type": "code",
   "execution_count": 28,
   "metadata": {},
   "outputs": [
    {
     "data": {
      "text/html": [
       "\n",
       "            <div>\n",
       "                <p><b>SparkSession - in-memory</b></p>\n",
       "                \n",
       "        <div>\n",
       "            <p><b>SparkContext</b></p>\n",
       "\n",
       "            <p><a href=\"http://192.168.0.112:4040\">Spark UI</a></p>\n",
       "\n",
       "            <dl>\n",
       "              <dt>Version</dt>\n",
       "                <dd><code>v3.3.0</code></dd>\n",
       "              <dt>Master</dt>\n",
       "                <dd><code>local[*]</code></dd>\n",
       "              <dt>AppName</dt>\n",
       "                <dd><code>tratamento_camada_ouro</code></dd>\n",
       "            </dl>\n",
       "        </div>\n",
       "        \n",
       "            </div>\n",
       "        "
      ],
      "text/plain": [
       "<pyspark.sql.session.SparkSession at 0x7f80237f7250>"
      ]
     },
     "execution_count": 28,
     "metadata": {},
     "output_type": "execute_result"
    }
   ],
   "source": [
    "spark = SparkSession.builder.appName('tratamento_camada_ouro').getOrCreate()\n",
    "spark"
   ]
  },
  {
   "cell_type": "code",
   "execution_count": 29,
   "metadata": {},
   "outputs": [],
   "source": [
    "def carregar_dataframe_prata(spark_session : SparkSession, assunto: str, metrica: str,):\n",
    "    df_cities_skylines = spark_session \\\n",
    "        .read \\\n",
    "            .parquet(f'/home/rodrigo/Documentos/projetos/open_weather_api_apache/analise_dados_youtube/data/projetos_youtube_v2/prata/{assunto}/extracao_data_*/{metrica}/*.parquet')\n",
    "    return df_cities_skylines"
   ]
  },
  {
   "cell_type": "code",
   "execution_count": 273,
   "metadata": {},
   "outputs": [],
   "source": [
    "def criar_particao_ouro(dataframe: DataFrame, assunto_pesquisa: str, metrica: str,  nome_arquivo: str, colunas_particao: Tuple = None):\n",
    "    caminho_datalake_ouro = '/home/rodrigo/Documentos/projetos/open_weather_api_apache/analise_dados_youtube/data/projetos_youtube_v2/ouro/'\n",
    "    if colunas_particao == None:\n",
    "        dataframe.write. \\\n",
    "            parquet(os.path.join(caminho_datalake_ouro, assunto_pesquisa, metrica, nome_arquivo))\n",
    "    else:\n",
    "        dataframe.write. \\\n",
    "            partitionBy(*colunas_particao). \\\n",
    "            parquet(os.path.join(caminho_datalake_ouro, assunto_pesquisa, metrica, nome_arquivo))\n"
   ]
  },
  {
   "cell_type": "code",
   "execution_count": 97,
   "metadata": {},
   "outputs": [],
   "source": [
    "def transformacao_dataframe(dataframe_transform: DataFrame):\n",
    "    dataframe_transform = dataframe_transform.select(\n",
    "        'data_extracao',\n",
    "        f.explode('DATA_PUBLICACAO').alias('DATA_PUBLICACAO'),\n",
    "        'ID_CANAL',\n",
    "        'NM_CANAL',\n",
    "        'ID_CATEGORIA',\n",
    "        'ID_VIDEO',\n",
    "        'TITULO_VIDEO',\n",
    "        'DESCRICAO',\n",
    "        'TAGS',\n",
    "        'DURACAO_VIDEOS',\n",
    "        'TOTAL_VISUALIZACOES',\n",
    "        'TOTAL_LIKES',\n",
    "        'TOTAL_FAVORITOS',\n",
    "        'TOTAL_COMENTARIOS',\n",
    "        \n",
    "     ).select(\n",
    "                'data_extracao',\n",
    "                'DATA_PUBLICACAO',\n",
    "                f.explode('ID_CANAL').alias('ID_CANAL'),\n",
    "                'NM_CANAL',\n",
    "                'ID_CATEGORIA',\n",
    "                'ID_VIDEO',\n",
    "                'TITULO_VIDEO',\n",
    "                'DESCRICAO',\n",
    "                'TAGS',\n",
    "                'DURACAO_VIDEOS',\n",
    "                'TOTAL_VISUALIZACOES',\n",
    "                'TOTAL_LIKES',\n",
    "                'TOTAL_FAVORITOS',\n",
    "                'TOTAL_COMENTARIOS',\n",
    "        ).select(\n",
    "                'data_extracao',\n",
    "                'DATA_PUBLICACAO',\n",
    "                'ID_CANAL',\n",
    "                f.explode('NM_CANAL').alias('NM_CANAL'), \n",
    "                'ID_CATEGORIA',\n",
    "                'ID_VIDEO',\n",
    "                'TITULO_VIDEO',\n",
    "                'DESCRICAO',\n",
    "                'TAGS',\n",
    "                'DURACAO_VIDEOS',\n",
    "                'TOTAL_VISUALIZACOES',\n",
    "                'TOTAL_LIKES',\n",
    "                'TOTAL_FAVORITOS',\n",
    "                'TOTAL_COMENTARIOS',\n",
    "        ).select(\n",
    "                'data_extracao',\n",
    "                'DATA_PUBLICACAO',\n",
    "                'ID_CANAL',\n",
    "                'NM_CANAL',\n",
    "                f.explode('ID_CATEGORIA').alias('ID_CATEGORIA'),\n",
    "                'ID_VIDEO',\n",
    "                'TITULO_VIDEO',\n",
    "                'DESCRICAO',\n",
    "                'TAGS',\n",
    "                'DURACAO_VIDEOS',\n",
    "                'TOTAL_VISUALIZACOES',\n",
    "                'TOTAL_LIKES',\n",
    "                'TOTAL_FAVORITOS',\n",
    "                'TOTAL_COMENTARIOS',\n",
    "        ).select(\n",
    "                'data_extracao',\n",
    "                'DATA_PUBLICACAO',\n",
    "                'ID_CANAL',\n",
    "                'NM_CANAL',\n",
    "                'ID_CATEGORIA',\n",
    "                f.explode('ID_VIDEO').alias('ID_VIDEO'),\n",
    "                'TITULO_VIDEO',\n",
    "                'DESCRICAO',\n",
    "                'TAGS',\n",
    "                'DURACAO_VIDEOS',\n",
    "                'TOTAL_VISUALIZACOES',\n",
    "                'TOTAL_LIKES',\n",
    "                'TOTAL_FAVORITOS',\n",
    "                'TOTAL_COMENTARIOS',\n",
    "        ).select(\n",
    "                'data_extracao',\n",
    "                'DATA_PUBLICACAO',\n",
    "                'ID_CANAL',\n",
    "                'NM_CANAL',\n",
    "                'ID_CATEGORIA',\n",
    "                'ID_VIDEO',\n",
    "                f.explode('TITULO_VIDEO').alias('TITULO_VIDEO'),\n",
    "                'DESCRICAO',\n",
    "                'TAGS',\n",
    "                'DURACAO_VIDEOS',\n",
    "                'TOTAL_VISUALIZACOES',\n",
    "                'TOTAL_LIKES',\n",
    "                'TOTAL_FAVORITOS',\n",
    "                'TOTAL_COMENTARIOS',\n",
    "        ).select(\n",
    "                'data_extracao',\n",
    "                'DATA_PUBLICACAO',\n",
    "                'ID_CANAL',\n",
    "                'NM_CANAL',\n",
    "                'ID_CATEGORIA',\n",
    "                'TITULO_VIDEO',\n",
    "                'ID_VIDEO',\n",
    "                f.explode('DESCRICAO').alias('DESCRICAO'),\n",
    "                'TAGS',\n",
    "                'DURACAO_VIDEOS',\n",
    "                'TOTAL_VISUALIZACOES',\n",
    "                'TOTAL_LIKES',\n",
    "                'TOTAL_FAVORITOS',\n",
    "                'TOTAL_COMENTARIOS',\n",
    "        ).select(\n",
    "                'data_extracao',\n",
    "                'DATA_PUBLICACAO',\n",
    "                'ID_CANAL',\n",
    "                'NM_CANAL',\n",
    "                'ID_CATEGORIA',\n",
    "                'ID_VIDEO',\n",
    "                'TITULO_VIDEO',\n",
    "                'DESCRICAO',\n",
    "                f.explode('TAGS').alias('TAGS'),\n",
    "                'DURACAO_VIDEOS',\n",
    "                'TOTAL_VISUALIZACOES',\n",
    "                'TOTAL_LIKES',\n",
    "                'TOTAL_FAVORITOS',\n",
    "                'TOTAL_COMENTARIOS',\n",
    "        ).select(\n",
    "                'data_extracao',\n",
    "                'DATA_PUBLICACAO',\n",
    "                'ID_CANAL',\n",
    "                'NM_CANAL',\n",
    "                'ID_CATEGORIA',\n",
    "                'ID_VIDEO',\n",
    "                'TITULO_VIDEO',\n",
    "                'DESCRICAO',\n",
    "                'TAGS',\n",
    "                f.explode('DURACAO_VIDEOS').alias('DURACAO_VIDEOS'),\n",
    "                'TOTAL_VISUALIZACOES',\n",
    "                'TOTAL_LIKES',\n",
    "                'TOTAL_FAVORITOS',\n",
    "                'TOTAL_COMENTARIOS',\n",
    "        ).select(\n",
    "                'data_extracao',\n",
    "                'DATA_PUBLICACAO',\n",
    "                'ID_CANAL',\n",
    "                'NM_CANAL',\n",
    "                'ID_CATEGORIA',\n",
    "                'ID_VIDEO',\n",
    "                'TITULO_VIDEO',\n",
    "                'DESCRICAO',\n",
    "                'TAGS',\n",
    "                'DURACAO_VIDEOS',\n",
    "                f.explode('TOTAL_VISUALIZACOES').alias('TOTAL_VISUALIZACOES'),\n",
    "                'TOTAL_LIKES',\n",
    "                'TOTAL_FAVORITOS',\n",
    "                'TOTAL_COMENTARIOS',\n",
    "        ).select(\n",
    "                'data_extracao',\n",
    "                'DATA_PUBLICACAO',\n",
    "                'ID_CANAL',\n",
    "                'NM_CANAL',\n",
    "                'ID_CATEGORIA',\n",
    "                'ID_VIDEO',\n",
    "                'TITULO_VIDEO',\n",
    "                'DESCRICAO',\n",
    "                'TAGS',\n",
    "                'DURACAO_VIDEOS',\n",
    "                'TOTAL_VISUALIZACOES',\n",
    "                f.explode('TOTAL_LIKES').alias('TOTAL_LIKES'),\n",
    "                'TOTAL_FAVORITOS',\n",
    "                'TOTAL_COMENTARIOS',\n",
    "        ).select(\n",
    "                'data_extracao',\n",
    "                'DATA_PUBLICACAO',\n",
    "                'ID_CANAL',\n",
    "                'NM_CANAL',\n",
    "                'ID_CATEGORIA',\n",
    "                'ID_VIDEO',\n",
    "                'TITULO_VIDEO',\n",
    "                'DESCRICAO',\n",
    "                'TAGS',\n",
    "                'DURACAO_VIDEOS',\n",
    "                'TOTAL_VISUALIZACOES',\n",
    "                'TOTAL_LIKES',\n",
    "                f.explode('TOTAL_FAVORITOS').alias('TOTAL_FAVORITOS'),\n",
    "                'TOTAL_COMENTARIOS',\n",
    "        ).select(\n",
    "                'data_extracao',\n",
    "                'DATA_PUBLICACAO',\n",
    "                'ID_CANAL',\n",
    "                'NM_CANAL',\n",
    "                'ID_CATEGORIA',\n",
    "                'ID_VIDEO',\n",
    "                'TITULO_VIDEO',\n",
    "                'DESCRICAO',\n",
    "                'TAGS',\n",
    "                'DURACAO_VIDEOS',\n",
    "                'TOTAL_VISUALIZACOES',\n",
    "                'TOTAL_LIKES',\n",
    "                'TOTAL_FAVORITOS',\n",
    "                f.explode('TOTAL_COMENTARIOS').alias('TOTAL_COMENTARIOS'),\n",
    "        )\n",
    "    dataframe_transform  = dataframe_transform.na.drop('all')\n",
    "    dataframe_transform = dataframe_transform.withColumn(\"data_hora_extracao\", f.col('data_extracao'))\n",
    "    dataframe_transform = dataframe_transform.withColumn(\"data_extracao\", f.date_format(f.unix_timestamp(\"data_extracao\", \"yyyy-MM-dd HH:mm:ss\").cast(\"timestamp\"), \"yyyy-MM-dd\"))\n",
    "    dataframe_transform = dataframe_transform.withColumn('DURACAO_VIDEO_SEGUNDOS', converter_segundos(f.col('DURACAO_VIDEOS')))\n",
    "    dataframe_transform = dataframe_transform.withColumn('TOTAL_VISUALIZACOES', f.col('TOTAL_VISUALIZACOES').cast('int'))\n",
    "    dataframe_transform = dataframe_transform.withColumn('TOTAL_LIKES', f.col('TOTAL_LIKES').cast('int'))\n",
    "    dataframe_transform = dataframe_transform.withColumn('TOTAL_FAVORITOS', f.col('TOTAL_FAVORITOS').cast('int'))\n",
    "    dataframe_transform = dataframe_transform.withColumn('TOTAL_COMENTARIOS', f.col('TOTAL_COMENTARIOS').cast('int'))\n",
    "    dataframe_transform = dataframe_transform.withColumn('TOTAL_CARACTERE_VIDEO', f.length('TITULO_VIDEO'))\n",
    "    dataframe_transform = dataframe_transform.withColumn('TOTAL_TAGS', f.size('TAGS'))\n",
    "    return dataframe_transform\n",
    "  "
   ]
  },
  {
   "cell_type": "code",
   "execution_count": 137,
   "metadata": {},
   "outputs": [],
   "source": [
    "@f.udf(returnType=t.StringType())\n",
    "def traduzir_dia_da_semana(dia):\n",
    "    traducao = {\n",
    "        'Sunday': 'Domingo',\n",
    "        'Monday': 'Segunda-feira',\n",
    "        'Tuesday': 'Terça-feira',\n",
    "        'Wednesday': 'Quarta-feira',\n",
    "        'Thursday': 'Quinta-feira',\n",
    "        'Friday': 'Sexta-feira',\n",
    "        'Saturday': 'Sábado'\n",
    "    }\n",
    "    return traducao.get(dia, dia)"
   ]
  },
  {
   "cell_type": "code",
   "execution_count": 268,
   "metadata": {},
   "outputs": [],
   "source": [
    "@f.udf(returnType=t.IntegerType())\n",
    "def indice_semana(dia):\n",
    "    traducao = {\n",
    "        'Domingo': 1,\n",
    "        'Segunda-feira': 2,\n",
    "        'Terça-feira': 3,\n",
    "        'Quarta-feira': 4,\n",
    "        'Quinta-feira': 5,\n",
    "        'Sexta-feira': 6,\n",
    "        'Sábado': 7\n",
    "    }\n",
    "    return traducao.get(dia, dia)"
   ]
  },
  {
   "cell_type": "code",
   "execution_count": 138,
   "metadata": {},
   "outputs": [
    {
     "data": {
      "text/plain": [
       "Column<'traduzir_dia_da_semana(Sunday)'>"
      ]
     },
     "execution_count": 138,
     "metadata": {},
     "output_type": "execute_result"
    }
   ],
   "source": [
    "traduzir_dia_da_semana('Sunday')"
   ]
  },
  {
   "cell_type": "code",
   "execution_count": 178,
   "metadata": {},
   "outputs": [
    {
     "name": "stdout",
     "output_type": "stream",
     "text": [
      "+-------------+--------------------+------------------------+---------------+------------+-----------+---------------------------------------------------------------------------------+--------------------------------------------------------------------------------------------------------------------------------------------------------------------------------------------------------------------------------------------------------------------------------------------------------------------------------------------------------------------------------------------------------------------------------+----+--------------+-------------------+-----------+---------------+-----------------+-------------------+----------------------+---------------------+----------+\n",
      "|data_extracao|DATA_PUBLICACAO     |ID_CANAL                |NM_CANAL       |ID_CATEGORIA|ID_VIDEO   |TITULO_VIDEO                                                                     |DESCRICAO                                                                                                                                                                                                                                                                                                                                                                                                                       |TAGS|DURACAO_VIDEOS|TOTAL_VISUALIZACOES|TOTAL_LIKES|TOTAL_FAVORITOS|TOTAL_COMENTARIOS|data_hora_extracao |DURACAO_VIDEO_SEGUNDOS|TOTAL_CARACTERE_VIDEO|TOTAL_TAGS|\n",
      "+-------------+--------------------+------------------------+---------------+------------+-----------+---------------------------------------------------------------------------------+--------------------------------------------------------------------------------------------------------------------------------------------------------------------------------------------------------------------------------------------------------------------------------------------------------------------------------------------------------------------------------------------------------------------------------+----+--------------+-------------------+-----------+---------------+-----------------+-------------------+----------------------+---------------------+----------+\n",
      "|2023-10-23   |2023-10-20T17:24:08Z|UCrOH1V-FyMunBIMrKL0y0xQ|ChratosGameplay|20          |-QaSHAsHQSs|CITIES SKYLINES 2: É PAU É PEDRA É A ECONOMIA DA CIDADE DO CHAT! (LINK DESCRIÇÃO)|LIVE SEG-SEX: https://www.twitch.tv/chratosgameplay\\n\\nApoie o canal/Padrim: https://www.padrim.com.br/chratosgameplay\\nDoe para suportar o canal: https://bityli.com/O8zJk\\nConverse com a gente/Discord: https://discord.gg/Wv64Sm5\\nReddit: https://www.reddit.com/r/ChratosGameplay/\\nInstagram: @chratosgameplay\\nPágina do Facebook: http://www.facebook.com/ChratosGameplay\\nTwitter: https://twitter.com/ChratosGameplay|null|P0D           |0                  |50         |0              |0                |2023-10-23 11:00:42|0                     |81                   |-1        |\n",
      "|2023-10-21   |2023-10-20T17:24:08Z|UCrOH1V-FyMunBIMrKL0y0xQ|ChratosGameplay|20          |-QaSHAsHQSs|CITIES SKYLINES 2: É PAU É PEDRA É A ECONOMIA DA CIDADE DO CHAT! (LINK DESCRIÇÃO)|LIVE SEG-SEX: https://www.twitch.tv/chratosgameplay\\n\\nApoie o canal/Padrim: https://www.padrim.com.br/chratosgameplay\\nDoe para suportar o canal: https://bityli.com/O8zJk\\nConverse com a gente/Discord: https://discord.gg/Wv64Sm5\\nReddit: https://www.reddit.com/r/ChratosGameplay/\\nInstagram: @chratosgameplay\\nPágina do Facebook: http://www.facebook.com/ChratosGameplay\\nTwitter: https://twitter.com/ChratosGameplay|null|P0D           |0                  |49         |0              |0                |2023-10-21 20:00:32|0                     |81                   |-1        |\n",
      "|2023-10-23   |2023-10-20T17:24:08Z|UCrOH1V-FyMunBIMrKL0y0xQ|ChratosGameplay|20          |-QaSHAsHQSs|CITIES SKYLINES 2: É PAU É PEDRA É A ECONOMIA DA CIDADE DO CHAT! (LINK DESCRIÇÃO)|LIVE SEG-SEX: https://www.twitch.tv/chratosgameplay\\n\\nApoie o canal/Padrim: https://www.padrim.com.br/chratosgameplay\\nDoe para suportar o canal: https://bityli.com/O8zJk\\nConverse com a gente/Discord: https://discord.gg/Wv64Sm5\\nReddit: https://www.reddit.com/r/ChratosGameplay/\\nInstagram: @chratosgameplay\\nPágina do Facebook: http://www.facebook.com/ChratosGameplay\\nTwitter: https://twitter.com/ChratosGameplay|null|P0D           |0                  |50         |0              |0                |2023-10-23 21:00:45|0                     |81                   |-1        |\n",
      "|2023-10-21   |2023-10-20T17:24:08Z|UCrOH1V-FyMunBIMrKL0y0xQ|ChratosGameplay|20          |-QaSHAsHQSs|CITIES SKYLINES 2: É PAU É PEDRA É A ECONOMIA DA CIDADE DO CHAT! (LINK DESCRIÇÃO)|LIVE SEG-SEX: https://www.twitch.tv/chratosgameplay\\n\\nApoie o canal/Padrim: https://www.padrim.com.br/chratosgameplay\\nDoe para suportar o canal: https://bityli.com/O8zJk\\nConverse com a gente/Discord: https://discord.gg/Wv64Sm5\\nReddit: https://www.reddit.com/r/ChratosGameplay/\\nInstagram: @chratosgameplay\\nPágina do Facebook: http://www.facebook.com/ChratosGameplay\\nTwitter: https://twitter.com/ChratosGameplay|null|P0D           |0                  |48         |0              |0                |2023-10-21 16:01:36|0                     |81                   |-1        |\n",
      "|2023-10-21   |2023-10-20T17:24:08Z|UCrOH1V-FyMunBIMrKL0y0xQ|ChratosGameplay|20          |-QaSHAsHQSs|CITIES SKYLINES 2: É PAU É PEDRA É A ECONOMIA DA CIDADE DO CHAT! (LINK DESCRIÇÃO)|LIVE SEG-SEX: https://www.twitch.tv/chratosgameplay\\n\\nApoie o canal/Padrim: https://www.padrim.com.br/chratosgameplay\\nDoe para suportar o canal: https://bityli.com/O8zJk\\nConverse com a gente/Discord: https://discord.gg/Wv64Sm5\\nReddit: https://www.reddit.com/r/ChratosGameplay/\\nInstagram: @chratosgameplay\\nPágina do Facebook: http://www.facebook.com/ChratosGameplay\\nTwitter: https://twitter.com/ChratosGameplay|null|P0D           |0                  |49         |0              |0                |2023-10-21 18:29:41|0                     |81                   |-1        |\n",
      "|2023-10-23   |2023-10-20T17:24:08Z|UCrOH1V-FyMunBIMrKL0y0xQ|ChratosGameplay|20          |-QaSHAsHQSs|CITIES SKYLINES 2: É PAU É PEDRA É A ECONOMIA DA CIDADE DO CHAT! (LINK DESCRIÇÃO)|LIVE SEG-SEX: https://www.twitch.tv/chratosgameplay\\n\\nApoie o canal/Padrim: https://www.padrim.com.br/chratosgameplay\\nDoe para suportar o canal: https://bityli.com/O8zJk\\nConverse com a gente/Discord: https://discord.gg/Wv64Sm5\\nReddit: https://www.reddit.com/r/ChratosGameplay/\\nInstagram: @chratosgameplay\\nPágina do Facebook: http://www.facebook.com/ChratosGameplay\\nTwitter: https://twitter.com/ChratosGameplay|null|P0D           |0                  |50         |0              |0                |2023-10-23 17:00:50|0                     |81                   |-1        |\n",
      "|2023-10-22   |2023-10-20T17:24:08Z|UCrOH1V-FyMunBIMrKL0y0xQ|ChratosGameplay|20          |-QaSHAsHQSs|CITIES SKYLINES 2: É PAU É PEDRA É A ECONOMIA DA CIDADE DO CHAT! (LINK DESCRIÇÃO)|LIVE SEG-SEX: https://www.twitch.tv/chratosgameplay\\n\\nApoie o canal/Padrim: https://www.padrim.com.br/chratosgameplay\\nDoe para suportar o canal: https://bityli.com/O8zJk\\nConverse com a gente/Discord: https://discord.gg/Wv64Sm5\\nReddit: https://www.reddit.com/r/ChratosGameplay/\\nInstagram: @chratosgameplay\\nPágina do Facebook: http://www.facebook.com/ChratosGameplay\\nTwitter: https://twitter.com/ChratosGameplay|null|P0D           |0                  |50         |0              |0                |2023-10-22 16:00:59|0                     |81                   |-1        |\n",
      "|2023-10-21   |2023-10-20T17:24:08Z|UCrOH1V-FyMunBIMrKL0y0xQ|ChratosGameplay|20          |-QaSHAsHQSs|CITIES SKYLINES 2: É PAU É PEDRA É A ECONOMIA DA CIDADE DO CHAT! (LINK DESCRIÇÃO)|LIVE SEG-SEX: https://www.twitch.tv/chratosgameplay\\n\\nApoie o canal/Padrim: https://www.padrim.com.br/chratosgameplay\\nDoe para suportar o canal: https://bityli.com/O8zJk\\nConverse com a gente/Discord: https://discord.gg/Wv64Sm5\\nReddit: https://www.reddit.com/r/ChratosGameplay/\\nInstagram: @chratosgameplay\\nPágina do Facebook: http://www.facebook.com/ChratosGameplay\\nTwitter: https://twitter.com/ChratosGameplay|null|P0D           |0                  |49         |0              |0                |2023-10-21 22:00:34|0                     |81                   |-1        |\n",
      "|2023-10-20   |2023-10-20T17:24:08Z|UCrOH1V-FyMunBIMrKL0y0xQ|ChratosGameplay|20          |-QaSHAsHQSs|CITIES SKYLINES 2: É PAU É PEDRA É A ECONOMIA DA CIDADE DO CHAT! (LINK DESCRIÇÃO)|LIVE SEG-SEX: https://www.twitch.tv/chratosgameplay\\n\\nApoie o canal/Padrim: https://www.padrim.com.br/chratosgameplay\\nDoe para suportar o canal: https://bityli.com/O8zJk\\nConverse com a gente/Discord: https://discord.gg/Wv64Sm5\\nReddit: https://www.reddit.com/r/ChratosGameplay/\\nInstagram: @chratosgameplay\\nPágina do Facebook: http://www.facebook.com/ChratosGameplay\\nTwitter: https://twitter.com/ChratosGameplay|null|P0D           |0                  |8          |0              |0                |2023-10-20 17:00:38|0                     |81                   |-1        |\n",
      "|2023-10-21   |2023-10-20T17:24:08Z|UCrOH1V-FyMunBIMrKL0y0xQ|ChratosGameplay|20          |-QaSHAsHQSs|CITIES SKYLINES 2: É PAU É PEDRA É A ECONOMIA DA CIDADE DO CHAT! (LINK DESCRIÇÃO)|LIVE SEG-SEX: https://www.twitch.tv/chratosgameplay\\n\\nApoie o canal/Padrim: https://www.padrim.com.br/chratosgameplay\\nDoe para suportar o canal: https://bityli.com/O8zJk\\nConverse com a gente/Discord: https://discord.gg/Wv64Sm5\\nReddit: https://www.reddit.com/r/ChratosGameplay/\\nInstagram: @chratosgameplay\\nPágina do Facebook: http://www.facebook.com/ChratosGameplay\\nTwitter: https://twitter.com/ChratosGameplay|null|P0D           |0                  |48         |0              |0                |2023-10-21 17:00:31|0                     |81                   |-1        |\n",
      "|2023-10-21   |2023-10-20T17:24:08Z|UCrOH1V-FyMunBIMrKL0y0xQ|ChratosGameplay|20          |-QaSHAsHQSs|CITIES SKYLINES 2: É PAU É PEDRA É A ECONOMIA DA CIDADE DO CHAT! (LINK DESCRIÇÃO)|LIVE SEG-SEX: https://www.twitch.tv/chratosgameplay\\n\\nApoie o canal/Padrim: https://www.padrim.com.br/chratosgameplay\\nDoe para suportar o canal: https://bityli.com/O8zJk\\nConverse com a gente/Discord: https://discord.gg/Wv64Sm5\\nReddit: https://www.reddit.com/r/ChratosGameplay/\\nInstagram: @chratosgameplay\\nPágina do Facebook: http://www.facebook.com/ChratosGameplay\\nTwitter: https://twitter.com/ChratosGameplay|null|P0D           |0                  |48         |0              |0                |2023-10-21 12:00:32|0                     |81                   |-1        |\n",
      "|2023-10-21   |2023-10-20T17:24:08Z|UCrOH1V-FyMunBIMrKL0y0xQ|ChratosGameplay|20          |-QaSHAsHQSs|CITIES SKYLINES 2: É PAU É PEDRA É A ECONOMIA DA CIDADE DO CHAT! (LINK DESCRIÇÃO)|LIVE SEG-SEX: https://www.twitch.tv/chratosgameplay\\n\\nApoie o canal/Padrim: https://www.padrim.com.br/chratosgameplay\\nDoe para suportar o canal: https://bityli.com/O8zJk\\nConverse com a gente/Discord: https://discord.gg/Wv64Sm5\\nReddit: https://www.reddit.com/r/ChratosGameplay/\\nInstagram: @chratosgameplay\\nPágina do Facebook: http://www.facebook.com/ChratosGameplay\\nTwitter: https://twitter.com/ChratosGameplay|null|P0D           |0                  |48         |0              |0                |2023-10-21 15:10:13|0                     |81                   |-1        |\n",
      "|2023-10-21   |2023-10-20T17:24:08Z|UCrOH1V-FyMunBIMrKL0y0xQ|ChratosGameplay|20          |-QaSHAsHQSs|CITIES SKYLINES 2: É PAU É PEDRA É A ECONOMIA DA CIDADE DO CHAT! (LINK DESCRIÇÃO)|LIVE SEG-SEX: https://www.twitch.tv/chratosgameplay\\n\\nApoie o canal/Padrim: https://www.padrim.com.br/chratosgameplay\\nDoe para suportar o canal: https://bityli.com/O8zJk\\nConverse com a gente/Discord: https://discord.gg/Wv64Sm5\\nReddit: https://www.reddit.com/r/ChratosGameplay/\\nInstagram: @chratosgameplay\\nPágina do Facebook: http://www.facebook.com/ChratosGameplay\\nTwitter: https://twitter.com/ChratosGameplay|null|P0D           |0                  |48         |0              |0                |2023-10-21 14:00:43|0                     |81                   |-1        |\n",
      "|2023-10-22   |2023-10-20T17:24:08Z|UCrOH1V-FyMunBIMrKL0y0xQ|ChratosGameplay|20          |-QaSHAsHQSs|CITIES SKYLINES 2: É PAU É PEDRA É A ECONOMIA DA CIDADE DO CHAT! (LINK DESCRIÇÃO)|LIVE SEG-SEX: https://www.twitch.tv/chratosgameplay\\n\\nApoie o canal/Padrim: https://www.padrim.com.br/chratosgameplay\\nDoe para suportar o canal: https://bityli.com/O8zJk\\nConverse com a gente/Discord: https://discord.gg/Wv64Sm5\\nReddit: https://www.reddit.com/r/ChratosGameplay/\\nInstagram: @chratosgameplay\\nPágina do Facebook: http://www.facebook.com/ChratosGameplay\\nTwitter: https://twitter.com/ChratosGameplay|null|P0D           |0                  |50         |0              |0                |2023-10-22 17:00:51|0                     |81                   |-1        |\n",
      "|2023-10-23   |2023-10-20T17:24:08Z|UCrOH1V-FyMunBIMrKL0y0xQ|ChratosGameplay|20          |-QaSHAsHQSs|CITIES SKYLINES 2: É PAU É PEDRA É A ECONOMIA DA CIDADE DO CHAT! (LINK DESCRIÇÃO)|LIVE SEG-SEX: https://www.twitch.tv/chratosgameplay\\n\\nApoie o canal/Padrim: https://www.padrim.com.br/chratosgameplay\\nDoe para suportar o canal: https://bityli.com/O8zJk\\nConverse com a gente/Discord: https://discord.gg/Wv64Sm5\\nReddit: https://www.reddit.com/r/ChratosGameplay/\\nInstagram: @chratosgameplay\\nPágina do Facebook: http://www.facebook.com/ChratosGameplay\\nTwitter: https://twitter.com/ChratosGameplay|null|P0D           |0                  |50         |0              |0                |2023-10-23 20:00:39|0                     |81                   |-1        |\n",
      "|2023-10-21   |2023-10-20T17:24:08Z|UCrOH1V-FyMunBIMrKL0y0xQ|ChratosGameplay|20          |-QaSHAsHQSs|CITIES SKYLINES 2: É PAU É PEDRA É A ECONOMIA DA CIDADE DO CHAT! (LINK DESCRIÇÃO)|LIVE SEG-SEX: https://www.twitch.tv/chratosgameplay\\n\\nApoie o canal/Padrim: https://www.padrim.com.br/chratosgameplay\\nDoe para suportar o canal: https://bityli.com/O8zJk\\nConverse com a gente/Discord: https://discord.gg/Wv64Sm5\\nReddit: https://www.reddit.com/r/ChratosGameplay/\\nInstagram: @chratosgameplay\\nPágina do Facebook: http://www.facebook.com/ChratosGameplay\\nTwitter: https://twitter.com/ChratosGameplay|null|P0D           |0                  |48         |0              |0                |2023-10-21 11:12:25|0                     |81                   |-1        |\n",
      "|2023-10-21   |2023-10-20T17:24:08Z|UCrOH1V-FyMunBIMrKL0y0xQ|ChratosGameplay|20          |-QaSHAsHQSs|CITIES SKYLINES 2: É PAU É PEDRA É A ECONOMIA DA CIDADE DO CHAT! (LINK DESCRIÇÃO)|LIVE SEG-SEX: https://www.twitch.tv/chratosgameplay\\n\\nApoie o canal/Padrim: https://www.padrim.com.br/chratosgameplay\\nDoe para suportar o canal: https://bityli.com/O8zJk\\nConverse com a gente/Discord: https://discord.gg/Wv64Sm5\\nReddit: https://www.reddit.com/r/ChratosGameplay/\\nInstagram: @chratosgameplay\\nPágina do Facebook: http://www.facebook.com/ChratosGameplay\\nTwitter: https://twitter.com/ChratosGameplay|null|P0D           |0                  |48         |0              |0                |2023-10-21 15:00:33|0                     |81                   |-1        |\n",
      "|2023-10-20   |2023-10-20T17:24:08Z|UCrOH1V-FyMunBIMrKL0y0xQ|ChratosGameplay|20          |-QaSHAsHQSs|CITIES SKYLINES 2: É PAU É PEDRA É A ECONOMIA DA CIDADE DO CHAT! (LINK DESCRIÇÃO)|LIVE SEG-SEX: https://www.twitch.tv/chratosgameplay\\n\\nApoie o canal/Padrim: https://www.padrim.com.br/chratosgameplay\\nDoe para suportar o canal: https://bityli.com/O8zJk\\nConverse com a gente/Discord: https://discord.gg/Wv64Sm5\\nReddit: https://www.reddit.com/r/ChratosGameplay/\\nInstagram: @chratosgameplay\\nPágina do Facebook: http://www.facebook.com/ChratosGameplay\\nTwitter: https://twitter.com/ChratosGameplay|null|P0D           |0                  |2          |0              |0                |2023-10-20 15:00:49|0                     |81                   |-1        |\n",
      "|2023-10-20   |2023-10-20T17:24:08Z|UCrOH1V-FyMunBIMrKL0y0xQ|ChratosGameplay|20          |-QaSHAsHQSs|CITIES SKYLINES 2: É PAU É PEDRA É A ECONOMIA DA CIDADE DO CHAT! (LINK DESCRIÇÃO)|LIVE SEG-SEX: https://www.twitch.tv/chratosgameplay\\n\\nApoie o canal/Padrim: https://www.padrim.com.br/chratosgameplay\\nDoe para suportar o canal: https://bityli.com/O8zJk\\nConverse com a gente/Discord: https://discord.gg/Wv64Sm5\\nReddit: https://www.reddit.com/r/ChratosGameplay/\\nInstagram: @chratosgameplay\\nPágina do Facebook: http://www.facebook.com/ChratosGameplay\\nTwitter: https://twitter.com/ChratosGameplay|null|P0D           |0                  |5          |0              |0                |2023-10-20 16:00:40|0                     |81                   |-1        |\n",
      "|2023-10-21   |2023-10-20T17:24:08Z|UCrOH1V-FyMunBIMrKL0y0xQ|ChratosGameplay|20          |-QaSHAsHQSs|CITIES SKYLINES 2: É PAU É PEDRA É A ECONOMIA DA CIDADE DO CHAT! (LINK DESCRIÇÃO)|LIVE SEG-SEX: https://www.twitch.tv/chratosgameplay\\n\\nApoie o canal/Padrim: https://www.padrim.com.br/chratosgameplay\\nDoe para suportar o canal: https://bityli.com/O8zJk\\nConverse com a gente/Discord: https://discord.gg/Wv64Sm5\\nReddit: https://www.reddit.com/r/ChratosGameplay/\\nInstagram: @chratosgameplay\\nPágina do Facebook: http://www.facebook.com/ChratosGameplay\\nTwitter: https://twitter.com/ChratosGameplay|null|P0D           |0                  |48         |0              |0                |2023-10-21 13:00:32|0                     |81                   |-1        |\n",
      "+-------------+--------------------+------------------------+---------------+------------+-----------+---------------------------------------------------------------------------------+--------------------------------------------------------------------------------------------------------------------------------------------------------------------------------------------------------------------------------------------------------------------------------------------------------------------------------------------------------------------------------------------------------------------------------+----+--------------+-------------------+-----------+---------------+-----------------+-------------------+----------------------+---------------------+----------+\n",
      "only showing top 20 rows\n",
      "\n"
     ]
    },
    {
     "name": "stderr",
     "output_type": "stream",
     "text": [
      "                                                                                \r"
     ]
    }
   ],
   "source": [
    "df_estatisticas = carregar_dataframe_prata(spark_session=spark, assunto='assunto_cities_skylines', metrica='estatisticas')\n",
    "df_estatisticas = transformacao_dataframe(df_estatisticas)\n",
    "df_estatisticas.sort('ID_VIDEO').show(truncate=False)"
   ]
  },
  {
   "cell_type": "markdown",
   "metadata": {},
   "source": [
    "<p>Depara Canal Vídeo</p>"
   ]
  },
  {
   "cell_type": "code",
   "execution_count": 111,
   "metadata": {},
   "outputs": [],
   "source": [
    "def construir_depara_canal(dataframe: DataFrame, assunto: str):\n",
    "    dataframe.select(\n",
    "        dataframe.ID_CANAL,\n",
    "        dataframe.NM_CANAL,\n",
    "        dataframe.ID_VIDEO,\n",
    "        dataframe.TITULO_VIDEO\n",
    "    ).distinct().sort('ID_CANAL').write.\\\n",
    "        parquet(f'/home/rodrigo/Documentos/projetos/open_weather_api_apache/analise_dados_youtube/data/projetos_youtube_v2/ouro/assunto_{assunto}/depara_canal.parquet')\n"
   ]
  },
  {
   "cell_type": "markdown",
   "metadata": {},
   "source": [
    "<p>O Número de comentários e likes gera mais views? </p>"
   ]
  },
  {
   "cell_type": "code",
   "execution_count": 92,
   "metadata": {},
   "outputs": [],
   "source": [
    "def gerar_relacao_like_comentario_view_favoritos(dataframe: SparkSession):\n",
    "    df_comentarios_likes = dataframe.select(\n",
    "        df_estatisticas.data_hora_extracao,\n",
    "        df_estatisticas.data_extracao,\n",
    "        df_estatisticas.ID_CANAL,\n",
    "        df_estatisticas.NM_CANAL,\n",
    "        df_estatisticas.ID_VIDEO,\n",
    "        df_estatisticas.TITULO_VIDEO,\n",
    "        df_estatisticas.TAGS,\n",
    "        df_estatisticas.TOTAL_VISUALIZACOES,\n",
    "        df_estatisticas.TOTAL_LIKES,\n",
    "        df_estatisticas.TOTAL_FAVORITOS,\n",
    "        df_estatisticas.TOTAL_COMENTARIOS\n",
    "    ).filter(\n",
    "        # (df_estatisticas.data_extracao == '2023-10-27') &\n",
    "        (dataframe.TOTAL_VISUALIZACOES > 0) &\n",
    "        (dataframe.TOTAL_LIKES > 0) \n",
    "    ).sort(f.col('TOTAL_VISUALIZACOES').desc())\n",
    "    return df_comentarios_likes\n"
   ]
  },
  {
   "cell_type": "markdown",
   "metadata": {},
   "source": [
    "<p>ETL PARA OBTER RELAÇÃO LIKES - COMENTÁRIOS - VÍDEOS</p>"
   ]
  },
  {
   "cell_type": "code",
   "execution_count": 113,
   "metadata": {},
   "outputs": [
    {
     "name": "stdout",
     "output_type": "stream",
     "text": [
      "ETL PARA  Power BI\n"
     ]
    },
    {
     "name": "stderr",
     "output_type": "stream",
     "text": [
      "                                                                                \r"
     ]
    },
    {
     "name": "stdout",
     "output_type": "stream",
     "text": [
      "ETL PARA  Python AND dados\n"
     ]
    },
    {
     "name": "stderr",
     "output_type": "stream",
     "text": [
      "                                                                                \r"
     ]
    },
    {
     "name": "stdout",
     "output_type": "stream",
     "text": [
      "ETL PARA  Cities Skylines\n"
     ]
    },
    {
     "name": "stderr",
     "output_type": "stream",
     "text": [
      "                                                                                \r"
     ]
    },
    {
     "name": "stdout",
     "output_type": "stream",
     "text": [
      "ETL PARA  Cities Skylines 2\n"
     ]
    },
    {
     "name": "stderr",
     "output_type": "stream",
     "text": [
      "                                                                                \r"
     ]
    }
   ],
   "source": [
    "lista_assunto = [\n",
    "        'Power BI',\n",
    "        'Python AND dados',\n",
    "        'Cities Skylines',\n",
    "        'Cities Skylines 2'\n",
    "    ]\n",
    "for assunto in lista_assunto:\n",
    "    print('ETL PARA ', assunto)\n",
    "    assunto = assunto.replace(' ', '_').lower()\n",
    "    df_estatisticas_etl = carregar_dataframe_prata(\n",
    "        spark_session=spark, \n",
    "        assunto=f'assunto_{assunto}', \n",
    "        metrica='estatisticas')\n",
    "    \n",
    "    df_estatisticas_etl = transformacao_dataframe(df_estatisticas_etl)\n",
    "    criar_particao_ouro(dataframe=df_estatisticas_etl, \n",
    "                        assunto_pesquisa=f'assunto_{assunto}', \n",
    "        metrica='relacao_viusalicacao_comentario_likes',\n",
    "        colunas_particao=('data_extracao', 'ID_CANAL', 'ID_VIDEO'),\n",
    "        nome_arquivo='relacao_viusalicacao_comentario_likes.parquet',\n",
    "    )\n",
    "    construir_depara_canal(dataframe=df_estatisticas_etl, assunto=assunto)"
   ]
  },
  {
   "cell_type": "markdown",
   "metadata": {},
   "source": [
    "<p>Dia de publicação</p>"
   ]
  },
  {
   "cell_type": "code",
   "execution_count": 204,
   "metadata": {},
   "outputs": [
    {
     "name": "stdout",
     "output_type": "stream",
     "text": [
      "+-------------+\n",
      "|data_extracao|\n",
      "+-------------+\n",
      "|   2023-10-26|\n",
      "|   2023-10-27|\n",
      "|   2023-10-25|\n",
      "|   2023-10-24|\n",
      "|   2023-10-23|\n",
      "|   2023-10-22|\n",
      "|   2023-10-20|\n",
      "|   2023-10-21|\n",
      "|   2023-10-16|\n",
      "|   2023-10-19|\n",
      "|   2023-10-15|\n",
      "+-------------+\n",
      "\n"
     ]
    }
   ],
   "source": [
    "df_estatisticas.select('data_extracao').distinct().show()"
   ]
  },
  {
   "cell_type": "markdown",
   "metadata": {},
   "source": [
    "<p>Públicações por semana</p>"
   ]
  },
  {
   "cell_type": "code",
   "execution_count": 271,
   "metadata": {},
   "outputs": [],
   "source": [
    "def obter_total_publicacao_video(dataframe : DataFrame) -> DataFrame:\n",
    "   dataframe =  dataframe.select(\n",
    "    'DATA_PUBLICACAO',\n",
    "    'ID_VIDEO'\n",
    "    ) \\\n",
    "        .sort('ID_VIDEO') \\\n",
    "        .withColumn(\n",
    "            'SEMANA_TRADUZIDA', \n",
    "            traduzir_dia_da_semana(\n",
    "                f.date_format('DATA_PUBLICACAO', 'EEEE')\n",
    "            )\n",
    "            ).distinct() \\\n",
    "                .groupBy('SEMANA_TRADUZIDA'). \\\n",
    "                    count(). \\\n",
    "                        alias('TOTAL_VIDEOS'). \\\n",
    "                            withColumn('INDICE_SEMANA', indice_semana('SEMANA_TRADUZIDA')) \\\n",
    "                    .sort('INDICE_SEMANA')\\\n",
    "                        .select('SEMANA_TRADUZIDA', f.col('TOTAL_VIDEOS.COUNT').alias('TOTAL_VIDEOS'))       \n",
    "   return dataframe"
   ]
  },
  {
   "cell_type": "code",
   "execution_count": 272,
   "metadata": {},
   "outputs": [
    {
     "name": "stdout",
     "output_type": "stream",
     "text": [
      "+----------------+------------+\n",
      "|SEMANA_TRADUZIDA|TOTAL_VIDEOS|\n",
      "+----------------+------------+\n",
      "|         Domingo|          39|\n",
      "|   Segunda-feira|          43|\n",
      "|     Terça-feira|          51|\n",
      "|    Quarta-feira|          41|\n",
      "|    Quinta-feira|          49|\n",
      "|     Sexta-feira|          37|\n",
      "|          Sábado|          26|\n",
      "+----------------+------------+\n",
      "\n"
     ]
    }
   ],
   "source": [
    "obter_total_publicacao_video(df_estatisticas).show()"
   ]
  },
  {
   "cell_type": "markdown",
   "metadata": {},
   "source": [
    "<p>ETL Para obter o total de vídeos públicado por semaba</p>"
   ]
  },
  {
   "cell_type": "code",
   "execution_count": 278,
   "metadata": {},
   "outputs": [
    {
     "name": "stdout",
     "output_type": "stream",
     "text": [
      "ETL PARA  Power BI\n"
     ]
    },
    {
     "name": "stderr",
     "output_type": "stream",
     "text": [
      "                                                                                \r"
     ]
    },
    {
     "name": "stdout",
     "output_type": "stream",
     "text": [
      "ETL PARA  Python AND dados\n"
     ]
    },
    {
     "name": "stderr",
     "output_type": "stream",
     "text": [
      "                                                                                \r"
     ]
    },
    {
     "name": "stdout",
     "output_type": "stream",
     "text": [
      "ETL PARA  Cities Skylines\n",
      "ETL PARA  Cities Skylines 2\n"
     ]
    }
   ],
   "source": [
    "for assunto in lista_assunto:\n",
    "    print('ETL PARA ', assunto)\n",
    "    assunto = assunto.replace(' ', '_').lower()\n",
    "    df_estatisticas_etl = carregar_dataframe_prata(\n",
    "        spark_session=spark, \n",
    "        assunto=f'assunto_{assunto}', \n",
    "        metrica='estatisticas'\n",
    "        )\n",
    "    df_estatisticas_etl = transformacao_dataframe(df_estatisticas_etl)\n",
    "    df_estatisticas_etl = obter_total_publicacao_video(df_estatisticas_etl)\n",
    "    criar_particao_ouro(\n",
    "        dataframe=df_estatisticas_etl, \n",
    "        assunto_pesquisa=f'assunto_{assunto}', \n",
    "        metrica='total_video_publicado_semana',\n",
    "        nome_arquivo='total_video_publicado_semana.parquet',\n",
    "    )\n",
    "    \n",
    "    "
   ]
  }
 ],
 "metadata": {
  "kernelspec": {
   "display_name": "venv",
   "language": "python",
   "name": "python3"
  },
  "language_info": {
   "codemirror_mode": {
    "name": "ipython",
    "version": 3
   },
   "file_extension": ".py",
   "mimetype": "text/x-python",
   "name": "python",
   "nbconvert_exporter": "python",
   "pygments_lexer": "ipython3",
   "version": "3.10.12"
  }
 },
 "nbformat": 4,
 "nbformat_minor": 2
}
